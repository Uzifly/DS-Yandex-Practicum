{
 "cells": [
  {
   "cell_type": "markdown",
   "metadata": {},
   "source": [
    "# Определение стоимости автомобилей"
   ]
  },
  {
   "cell_type": "markdown",
   "metadata": {},
   "source": [
    "Сервис по продаже автомобилей с пробегом «Не бит, не крашен» разрабатывает приложение для привлечения новых клиентов. В нём можно быстро узнать рыночную стоимость своего автомобиля. В вашем распоряжении исторические данные: технические характеристики, комплектации и цены автомобилей. Вам нужно построить модель для определения стоимости. \n",
    "\n",
    "Заказчику важны:\n",
    "\n",
    "- качество предсказания;\n",
    "- скорость предсказания;\n",
    "- время обучения.\n",
    "\n",
    "Признаки\n",
    "* DateCrawled — дата скачивания анкеты из базы\n",
    "* VehicleType — тип автомобильного кузова\n",
    "* RegistrationYear — год регистрации автомобиля\n",
    "* Gearbox — тип коробки передач\n",
    "* Power — мощность (л. с.)\n",
    "* Model — модель автомобиля\n",
    "* Kilometer — пробег (км)\n",
    "* RegistrationMonth — месяц регистрации автомобиля\n",
    "* FuelType — тип топлива\n",
    "* Brand — марка автомобиля\n",
    "* Repaired — была машина в ремонте или нет\n",
    "* DateCreated — дата создания анкеты\n",
    "* NumberOfPictures — количество фотографий автомобиля\n",
    "* PostalCode — почтовый индекс владельца анкеты (пользователя)\n",
    "* LastSeen — дата последней активности пользователя\n",
    "\n",
    "Целевой признак\n",
    "* Price — цена (евро)"
   ]
  },
  {
   "cell_type": "markdown",
   "metadata": {},
   "source": [
    "## Подготовка данных"
   ]
  },
  {
   "cell_type": "code",
   "execution_count": 1,
   "metadata": {
    "scrolled": true
   },
   "outputs": [
    {
     "name": "stdout",
     "output_type": "stream",
     "text": [
      "Collecting category_encoders\n",
      "  Downloading category_encoders-2.6.1-py2.py3-none-any.whl (81 kB)\n",
      "\u001b[K     |████████████████████████████████| 81 kB 8.1 kB/s eta 0:00:01\n",
      "\u001b[?25hRequirement already satisfied: scipy>=1.0.0 in /opt/conda/lib/python3.9/site-packages (from category_encoders) (1.9.1)\n",
      "Requirement already satisfied: pandas>=1.0.5 in /opt/conda/lib/python3.9/site-packages (from category_encoders) (1.2.4)\n",
      "Requirement already satisfied: statsmodels>=0.9.0 in /opt/conda/lib/python3.9/site-packages (from category_encoders) (0.13.2)\n",
      "Requirement already satisfied: patsy>=0.5.1 in /opt/conda/lib/python3.9/site-packages (from category_encoders) (0.5.2)\n",
      "Requirement already satisfied: scikit-learn>=0.20.0 in /opt/conda/lib/python3.9/site-packages (from category_encoders) (0.24.1)\n",
      "Requirement already satisfied: numpy>=1.14.0 in /opt/conda/lib/python3.9/site-packages (from category_encoders) (1.21.1)\n",
      "Requirement already satisfied: python-dateutil>=2.7.3 in /opt/conda/lib/python3.9/site-packages (from pandas>=1.0.5->category_encoders) (2.8.1)\n",
      "Requirement already satisfied: pytz>=2017.3 in /opt/conda/lib/python3.9/site-packages (from pandas>=1.0.5->category_encoders) (2021.1)\n",
      "Requirement already satisfied: six in /opt/conda/lib/python3.9/site-packages (from patsy>=0.5.1->category_encoders) (1.16.0)\n",
      "Requirement already satisfied: joblib>=0.11 in /opt/conda/lib/python3.9/site-packages (from scikit-learn>=0.20.0->category_encoders) (1.1.0)\n",
      "Requirement already satisfied: threadpoolctl>=2.0.0 in /opt/conda/lib/python3.9/site-packages (from scikit-learn>=0.20.0->category_encoders) (3.1.0)\n",
      "Requirement already satisfied: packaging>=21.3 in /opt/conda/lib/python3.9/site-packages (from statsmodels>=0.9.0->category_encoders) (21.3)\n",
      "Requirement already satisfied: pyparsing!=3.0.5,>=2.0.2 in /opt/conda/lib/python3.9/site-packages (from packaging>=21.3->statsmodels>=0.9.0->category_encoders) (2.4.7)\n",
      "Installing collected packages: category-encoders\n",
      "Successfully installed category-encoders-2.6.1\n",
      "Requirement already satisfied: lightgbm in /opt/conda/lib/python3.9/site-packages (3.3.1)\n",
      "Requirement already satisfied: scikit-learn!=0.22.0 in /opt/conda/lib/python3.9/site-packages (from lightgbm) (0.24.1)\n",
      "Requirement already satisfied: scipy in /opt/conda/lib/python3.9/site-packages (from lightgbm) (1.9.1)\n",
      "Requirement already satisfied: wheel in /opt/conda/lib/python3.9/site-packages (from lightgbm) (0.36.2)\n",
      "Requirement already satisfied: numpy in /opt/conda/lib/python3.9/site-packages (from lightgbm) (1.21.1)\n",
      "Requirement already satisfied: threadpoolctl>=2.0.0 in /opt/conda/lib/python3.9/site-packages (from scikit-learn!=0.22.0->lightgbm) (3.1.0)\n",
      "Requirement already satisfied: joblib>=0.11 in /opt/conda/lib/python3.9/site-packages (from scikit-learn!=0.22.0->lightgbm) (1.1.0)\n"
     ]
    }
   ],
   "source": [
    "!pip install category_encoders\n",
    "!pip install lightgbm"
   ]
  },
  {
   "cell_type": "code",
   "execution_count": 2,
   "metadata": {},
   "outputs": [],
   "source": [
    "import time\n",
    "\n",
    "import pandas as pd\n",
    "import seaborn as sns\n",
    "import numpy as np\n",
    "import matplotlib.pyplot as plt\n",
    "from lightgbm import LGBMRegressor\n",
    "\n",
    "from sklearn.experimental import enable_halving_search_cv\n",
    "\n",
    "from sklearn.impute import KNNImputer\n",
    "from sklearn.preprocessing import StandardScaler, OrdinalEncoder\n",
    "from sklearn.model_selection import train_test_split, RandomizedSearchCV, HalvingGridSearchCV, GridSearchCV\n",
    "from sklearn.metrics import mean_squared_error, make_scorer\n",
    "from sklearn.tree import DecisionTreeRegressor\n",
    "from sklearn.ensemble import RandomForestRegressor\n",
    "\n",
    "RND_SEED = 1234"
   ]
  },
  {
   "cell_type": "code",
   "execution_count": 3,
   "metadata": {},
   "outputs": [],
   "source": [
    "try:\n",
    "    data = pd.read_csv('/datasets/autos.csv', parse_dates=[0,12,15])\n",
    "except:\n",
    "    data = pd.read_csv('/Users/evgeniu/Desktop/Рабочий стол — MacBook Pro — Евгений/Education/Practicum /AutoPrice/autos.csv', parse_dates=[0,12,15])"
   ]
  },
  {
   "cell_type": "code",
   "execution_count": 4,
   "metadata": {},
   "outputs": [
    {
     "data": {
      "text/html": [
       "<div>\n",
       "<style scoped>\n",
       "    .dataframe tbody tr th:only-of-type {\n",
       "        vertical-align: middle;\n",
       "    }\n",
       "\n",
       "    .dataframe tbody tr th {\n",
       "        vertical-align: top;\n",
       "    }\n",
       "\n",
       "    .dataframe thead th {\n",
       "        text-align: right;\n",
       "    }\n",
       "</style>\n",
       "<table border=\"1\" class=\"dataframe\">\n",
       "  <thead>\n",
       "    <tr style=\"text-align: right;\">\n",
       "      <th></th>\n",
       "      <th>DateCrawled</th>\n",
       "      <th>Price</th>\n",
       "      <th>VehicleType</th>\n",
       "      <th>RegistrationYear</th>\n",
       "      <th>Gearbox</th>\n",
       "      <th>Power</th>\n",
       "      <th>Model</th>\n",
       "      <th>Kilometer</th>\n",
       "      <th>RegistrationMonth</th>\n",
       "      <th>FuelType</th>\n",
       "      <th>Brand</th>\n",
       "      <th>Repaired</th>\n",
       "      <th>DateCreated</th>\n",
       "      <th>NumberOfPictures</th>\n",
       "      <th>PostalCode</th>\n",
       "      <th>LastSeen</th>\n",
       "    </tr>\n",
       "  </thead>\n",
       "  <tbody>\n",
       "    <tr>\n",
       "      <th>0</th>\n",
       "      <td>2016-03-24 11:52:17</td>\n",
       "      <td>480</td>\n",
       "      <td>NaN</td>\n",
       "      <td>1993</td>\n",
       "      <td>manual</td>\n",
       "      <td>0</td>\n",
       "      <td>golf</td>\n",
       "      <td>150000</td>\n",
       "      <td>0</td>\n",
       "      <td>petrol</td>\n",
       "      <td>volkswagen</td>\n",
       "      <td>NaN</td>\n",
       "      <td>2016-03-24</td>\n",
       "      <td>0</td>\n",
       "      <td>70435</td>\n",
       "      <td>2016-04-07 03:16:57</td>\n",
       "    </tr>\n",
       "    <tr>\n",
       "      <th>1</th>\n",
       "      <td>2016-03-24 10:58:45</td>\n",
       "      <td>18300</td>\n",
       "      <td>coupe</td>\n",
       "      <td>2011</td>\n",
       "      <td>manual</td>\n",
       "      <td>190</td>\n",
       "      <td>NaN</td>\n",
       "      <td>125000</td>\n",
       "      <td>5</td>\n",
       "      <td>gasoline</td>\n",
       "      <td>audi</td>\n",
       "      <td>yes</td>\n",
       "      <td>2016-03-24</td>\n",
       "      <td>0</td>\n",
       "      <td>66954</td>\n",
       "      <td>2016-04-07 01:46:50</td>\n",
       "    </tr>\n",
       "    <tr>\n",
       "      <th>2</th>\n",
       "      <td>2016-03-14 12:52:21</td>\n",
       "      <td>9800</td>\n",
       "      <td>suv</td>\n",
       "      <td>2004</td>\n",
       "      <td>auto</td>\n",
       "      <td>163</td>\n",
       "      <td>grand</td>\n",
       "      <td>125000</td>\n",
       "      <td>8</td>\n",
       "      <td>gasoline</td>\n",
       "      <td>jeep</td>\n",
       "      <td>NaN</td>\n",
       "      <td>2016-03-14</td>\n",
       "      <td>0</td>\n",
       "      <td>90480</td>\n",
       "      <td>2016-04-05 12:47:46</td>\n",
       "    </tr>\n",
       "    <tr>\n",
       "      <th>3</th>\n",
       "      <td>2016-03-17 16:54:04</td>\n",
       "      <td>1500</td>\n",
       "      <td>small</td>\n",
       "      <td>2001</td>\n",
       "      <td>manual</td>\n",
       "      <td>75</td>\n",
       "      <td>golf</td>\n",
       "      <td>150000</td>\n",
       "      <td>6</td>\n",
       "      <td>petrol</td>\n",
       "      <td>volkswagen</td>\n",
       "      <td>no</td>\n",
       "      <td>2016-03-17</td>\n",
       "      <td>0</td>\n",
       "      <td>91074</td>\n",
       "      <td>2016-03-17 17:40:17</td>\n",
       "    </tr>\n",
       "    <tr>\n",
       "      <th>4</th>\n",
       "      <td>2016-03-31 17:25:20</td>\n",
       "      <td>3600</td>\n",
       "      <td>small</td>\n",
       "      <td>2008</td>\n",
       "      <td>manual</td>\n",
       "      <td>69</td>\n",
       "      <td>fabia</td>\n",
       "      <td>90000</td>\n",
       "      <td>7</td>\n",
       "      <td>gasoline</td>\n",
       "      <td>skoda</td>\n",
       "      <td>no</td>\n",
       "      <td>2016-03-31</td>\n",
       "      <td>0</td>\n",
       "      <td>60437</td>\n",
       "      <td>2016-04-06 10:17:21</td>\n",
       "    </tr>\n",
       "  </tbody>\n",
       "</table>\n",
       "</div>"
      ],
      "text/plain": [
       "          DateCrawled  Price VehicleType  RegistrationYear Gearbox  Power  \\\n",
       "0 2016-03-24 11:52:17    480         NaN              1993  manual      0   \n",
       "1 2016-03-24 10:58:45  18300       coupe              2011  manual    190   \n",
       "2 2016-03-14 12:52:21   9800         suv              2004    auto    163   \n",
       "3 2016-03-17 16:54:04   1500       small              2001  manual     75   \n",
       "4 2016-03-31 17:25:20   3600       small              2008  manual     69   \n",
       "\n",
       "   Model  Kilometer  RegistrationMonth  FuelType       Brand Repaired  \\\n",
       "0   golf     150000                  0    petrol  volkswagen      NaN   \n",
       "1    NaN     125000                  5  gasoline        audi      yes   \n",
       "2  grand     125000                  8  gasoline        jeep      NaN   \n",
       "3   golf     150000                  6    petrol  volkswagen       no   \n",
       "4  fabia      90000                  7  gasoline       skoda       no   \n",
       "\n",
       "  DateCreated  NumberOfPictures  PostalCode            LastSeen  \n",
       "0  2016-03-24                 0       70435 2016-04-07 03:16:57  \n",
       "1  2016-03-24                 0       66954 2016-04-07 01:46:50  \n",
       "2  2016-03-14                 0       90480 2016-04-05 12:47:46  \n",
       "3  2016-03-17                 0       91074 2016-03-17 17:40:17  \n",
       "4  2016-03-31                 0       60437 2016-04-06 10:17:21  "
      ]
     },
     "execution_count": 4,
     "metadata": {},
     "output_type": "execute_result"
    }
   ],
   "source": [
    "data.head(5)"
   ]
  },
  {
   "cell_type": "code",
   "execution_count": 5,
   "metadata": {},
   "outputs": [
    {
     "name": "stdout",
     "output_type": "stream",
     "text": [
      "<class 'pandas.core.frame.DataFrame'>\n",
      "RangeIndex: 354369 entries, 0 to 354368\n",
      "Data columns (total 16 columns):\n",
      " #   Column             Non-Null Count   Dtype         \n",
      "---  ------             --------------   -----         \n",
      " 0   DateCrawled        354369 non-null  datetime64[ns]\n",
      " 1   Price              354369 non-null  int64         \n",
      " 2   VehicleType        316879 non-null  object        \n",
      " 3   RegistrationYear   354369 non-null  int64         \n",
      " 4   Gearbox            334536 non-null  object        \n",
      " 5   Power              354369 non-null  int64         \n",
      " 6   Model              334664 non-null  object        \n",
      " 7   Kilometer          354369 non-null  int64         \n",
      " 8   RegistrationMonth  354369 non-null  int64         \n",
      " 9   FuelType           321474 non-null  object        \n",
      " 10  Brand              354369 non-null  object        \n",
      " 11  Repaired           283215 non-null  object        \n",
      " 12  DateCreated        354369 non-null  datetime64[ns]\n",
      " 13  NumberOfPictures   354369 non-null  int64         \n",
      " 14  PostalCode         354369 non-null  int64         \n",
      " 15  LastSeen           354369 non-null  datetime64[ns]\n",
      "dtypes: datetime64[ns](3), int64(7), object(6)\n",
      "memory usage: 43.3+ MB\n"
     ]
    }
   ],
   "source": [
    "data.info()"
   ]
  },
  {
   "cell_type": "code",
   "execution_count": 6,
   "metadata": {},
   "outputs": [
    {
     "data": {
      "text/html": [
       "<div>\n",
       "<style scoped>\n",
       "    .dataframe tbody tr th:only-of-type {\n",
       "        vertical-align: middle;\n",
       "    }\n",
       "\n",
       "    .dataframe tbody tr th {\n",
       "        vertical-align: top;\n",
       "    }\n",
       "\n",
       "    .dataframe thead th {\n",
       "        text-align: right;\n",
       "    }\n",
       "</style>\n",
       "<table border=\"1\" class=\"dataframe\">\n",
       "  <thead>\n",
       "    <tr style=\"text-align: right;\">\n",
       "      <th></th>\n",
       "      <th>count</th>\n",
       "      <th>mean</th>\n",
       "      <th>std</th>\n",
       "      <th>min</th>\n",
       "      <th>25%</th>\n",
       "      <th>50%</th>\n",
       "      <th>75%</th>\n",
       "      <th>max</th>\n",
       "    </tr>\n",
       "  </thead>\n",
       "  <tbody>\n",
       "    <tr>\n",
       "      <th>Price</th>\n",
       "      <td>354369.0</td>\n",
       "      <td>4416.656776</td>\n",
       "      <td>4514.158514</td>\n",
       "      <td>0.0</td>\n",
       "      <td>1050.0</td>\n",
       "      <td>2700.0</td>\n",
       "      <td>6400.0</td>\n",
       "      <td>20000.0</td>\n",
       "    </tr>\n",
       "    <tr>\n",
       "      <th>RegistrationYear</th>\n",
       "      <td>354369.0</td>\n",
       "      <td>2004.234448</td>\n",
       "      <td>90.227958</td>\n",
       "      <td>1000.0</td>\n",
       "      <td>1999.0</td>\n",
       "      <td>2003.0</td>\n",
       "      <td>2008.0</td>\n",
       "      <td>9999.0</td>\n",
       "    </tr>\n",
       "    <tr>\n",
       "      <th>Power</th>\n",
       "      <td>354369.0</td>\n",
       "      <td>110.094337</td>\n",
       "      <td>189.850405</td>\n",
       "      <td>0.0</td>\n",
       "      <td>69.0</td>\n",
       "      <td>105.0</td>\n",
       "      <td>143.0</td>\n",
       "      <td>20000.0</td>\n",
       "    </tr>\n",
       "    <tr>\n",
       "      <th>Kilometer</th>\n",
       "      <td>354369.0</td>\n",
       "      <td>128211.172535</td>\n",
       "      <td>37905.341530</td>\n",
       "      <td>5000.0</td>\n",
       "      <td>125000.0</td>\n",
       "      <td>150000.0</td>\n",
       "      <td>150000.0</td>\n",
       "      <td>150000.0</td>\n",
       "    </tr>\n",
       "    <tr>\n",
       "      <th>RegistrationMonth</th>\n",
       "      <td>354369.0</td>\n",
       "      <td>5.714645</td>\n",
       "      <td>3.726421</td>\n",
       "      <td>0.0</td>\n",
       "      <td>3.0</td>\n",
       "      <td>6.0</td>\n",
       "      <td>9.0</td>\n",
       "      <td>12.0</td>\n",
       "    </tr>\n",
       "    <tr>\n",
       "      <th>NumberOfPictures</th>\n",
       "      <td>354369.0</td>\n",
       "      <td>0.000000</td>\n",
       "      <td>0.000000</td>\n",
       "      <td>0.0</td>\n",
       "      <td>0.0</td>\n",
       "      <td>0.0</td>\n",
       "      <td>0.0</td>\n",
       "      <td>0.0</td>\n",
       "    </tr>\n",
       "    <tr>\n",
       "      <th>PostalCode</th>\n",
       "      <td>354369.0</td>\n",
       "      <td>50508.689087</td>\n",
       "      <td>25783.096248</td>\n",
       "      <td>1067.0</td>\n",
       "      <td>30165.0</td>\n",
       "      <td>49413.0</td>\n",
       "      <td>71083.0</td>\n",
       "      <td>99998.0</td>\n",
       "    </tr>\n",
       "  </tbody>\n",
       "</table>\n",
       "</div>"
      ],
      "text/plain": [
       "                      count           mean           std     min       25%  \\\n",
       "Price              354369.0    4416.656776   4514.158514     0.0    1050.0   \n",
       "RegistrationYear   354369.0    2004.234448     90.227958  1000.0    1999.0   \n",
       "Power              354369.0     110.094337    189.850405     0.0      69.0   \n",
       "Kilometer          354369.0  128211.172535  37905.341530  5000.0  125000.0   \n",
       "RegistrationMonth  354369.0       5.714645      3.726421     0.0       3.0   \n",
       "NumberOfPictures   354369.0       0.000000      0.000000     0.0       0.0   \n",
       "PostalCode         354369.0   50508.689087  25783.096248  1067.0   30165.0   \n",
       "\n",
       "                        50%       75%       max  \n",
       "Price                2700.0    6400.0   20000.0  \n",
       "RegistrationYear     2003.0    2008.0    9999.0  \n",
       "Power                 105.0     143.0   20000.0  \n",
       "Kilometer          150000.0  150000.0  150000.0  \n",
       "RegistrationMonth       6.0       9.0      12.0  \n",
       "NumberOfPictures        0.0       0.0       0.0  \n",
       "PostalCode          49413.0   71083.0   99998.0  "
      ]
     },
     "execution_count": 6,
     "metadata": {},
     "output_type": "execute_result"
    }
   ],
   "source": [
    "data.describe().T"
   ]
  },
  {
   "cell_type": "code",
   "execution_count": 7,
   "metadata": {},
   "outputs": [
    {
     "data": {
      "image/png": "[encoded data removed]",
      "text/plain": [
       "<Figure size 432x288 with 1 Axes>"
      ]
     },
     "metadata": {
      "needs_background": "light"
     },
     "output_type": "display_data"
    }
   ],
   "source": [
    "sns.histplot(data['Price'], bins=60).set(title='Распределение по ценам');"
   ]
  },
  {
   "cell_type": "markdown",
   "metadata": {},
   "source": [
    "Распределение данных нормальное, кроме цен за 0€, а так же небольшой хвост в верхнем пределе. Продавцы любят круглые ценники, по-этому график имеет такой \"зубастый\" вид."
   ]
  },
  {
   "cell_type": "code",
   "execution_count": 8,
   "metadata": {},
   "outputs": [
    {
     "data": {
      "image/png": "[encoded data removed]",
      "text/plain": [
       "<Figure size 432x288 with 1 Axes>"
      ]
     },
     "metadata": {
      "needs_background": "light"
     },
     "output_type": "display_data"
    }
   ],
   "source": [
    "fig, ax = plt.subplots()\n",
    "sns.histplot(data['Power'], bins=600, ax=ax).set(title='Распределение по мощности');\n",
    "ax.set_xlim(0, 600)\n",
    "plt.show()"
   ]
  },
  {
   "cell_type": "markdown",
   "metadata": {},
   "source": [
    "Здесь данные имеют сильный разброс связанный со спецификой зависимости мощностей авто от двигателя. Диапазон 50 - 100 л.с - это малолитражки и старые автомобилис атмосферными моторами. 100-180 это современные 1.5 - 1.8л моторы из которых самый популярный 1.6 на 110-130л.с. 2л моторы используют до 250л.с в гражданских версиях что указывает на поведение графика. Все что мощнее - это редкие и дорогие моторы. Многие производители продают авто с задушеными моторами на низкую налоговую категорию (149. 199, 249 л.с.) что объясняет некоторые всплески на графике. 0л.с - это аномалия, авто с мощностью выше 550 стоит просмотреть отдельно в предобработке."
   ]
  },
  {
   "cell_type": "code",
   "execution_count": 9,
   "metadata": {},
   "outputs": [
    {
     "data": {
      "image/png": "[encoded data removed]",
      "text/plain": [
       "<Figure size 432x288 with 1 Axes>"
      ]
     },
     "metadata": {
      "needs_background": "light"
     },
     "output_type": "display_data"
    }
   ],
   "source": [
    "sns.histplot(data['Kilometer'],bins=8).set(title='Распределение по пробегу');"
   ]
  },
  {
   "cell_type": "markdown",
   "metadata": {},
   "source": [
    "Тут большая проблема в указании пробега. Такие значения могут сильно мешать обучению. 70% данных имеют предельное значение пробега в 150000. "
   ]
  },
  {
   "cell_type": "code",
   "execution_count": 10,
   "metadata": {},
   "outputs": [
    {
     "name": "stderr",
     "output_type": "stream",
     "text": [
      "/tmp/ipykernel_48/572264387.py:1: FutureWarning: Treating datetime data as categorical rather than numeric in `.describe` is deprecated and will be removed in a future version of pandas. Specify `datetime_is_numeric=True` to silence this warning and adopt the future behavior now.\n",
      "  data['DateCreated'].describe()\n"
     ]
    },
    {
     "data": {
      "text/plain": [
       "count                  354369\n",
       "unique                    109\n",
       "top       2016-04-03 00:00:00\n",
       "freq                    13719\n",
       "first     2014-03-10 00:00:00\n",
       "last      2016-04-07 00:00:00\n",
       "Name: DateCreated, dtype: object"
      ]
     },
     "execution_count": 10,
     "metadata": {},
     "output_type": "execute_result"
    }
   ],
   "source": [
    "data['DateCreated'].describe()"
   ]
  },
  {
   "cell_type": "code",
   "execution_count": 11,
   "metadata": {},
   "outputs": [
    {
     "data": {
      "text/plain": [
       "26"
      ]
     },
     "execution_count": 11,
     "metadata": {},
     "output_type": "execute_result"
    }
   ],
   "source": [
    "sum(data['DateCreated'].dt.year < 2016)"
   ]
  },
  {
   "cell_type": "markdown",
   "metadata": {},
   "source": [
    "Разбег дат по дате публикации не превышает пяти месяцев кроме 26 объявлений. Это не критично. \n",
    "Исходя из данных этого столбца можно не учитывать фактор времени размещения в этой работе, так как временной интервал узкий для авторынка. Так-же этот столбец не будет применяться в модели машинного обучения."
   ]
  },
  {
   "cell_type": "markdown",
   "metadata": {},
   "source": [
    "### Вывод"
   ]
  },
  {
   "cell_type": "markdown",
   "metadata": {},
   "source": [
    "* Всего записей 354369. 16 столбцов. \n",
    "* Имеются пропуски в столбцах VehicleType, Gearbox, Model, FuelType, Repaired\n",
    "* В работе нет необходимости использовать столбцы с датами так-как рассматривается узкий временной диапазон.\n",
    "* NumberOfPictures - пустой столбец, возможно это ошибка выгрузки.\n",
    "* В столбце Kilometer имеется проблема: 3, 4 квантиль и максимальное значения = 150000. Либо выборка была искуственно ограничена, либо проблема в способе получения или хранения данных.\n",
    "* Price, Power имеют аномальные максимальные и нулевые значения.\n",
    "* RegistrationMonth имеет диапазон из 13 значений 0-12 - ошибка интерпретации.\n",
    "* RegistrationYear Имеет аномальные значения\n",
    "* Имена столбцов в CamelCase. "
   ]
  },
  {
   "cell_type": "markdown",
   "metadata": {},
   "source": [
    "## Предобратока данных."
   ]
  },
  {
   "cell_type": "markdown",
   "metadata": {},
   "source": [
    "Исправим названия колонок"
   ]
  },
  {
   "cell_type": "code",
   "execution_count": 12,
   "metadata": {},
   "outputs": [],
   "source": [
    "import re\n",
    "def to_camel(s):\n",
    "    s = re.sub( r\"([A-Z])\", r\" \\1\", s).split()\n",
    "    for i in range(len(s[:-1])): s[i] = s[i] + '_'\n",
    "    return ''.join(s).lower()"
   ]
  },
  {
   "cell_type": "code",
   "execution_count": 13,
   "metadata": {},
   "outputs": [],
   "source": [
    "data.columns = map(to_camel, data.columns)"
   ]
  },
  {
   "cell_type": "markdown",
   "metadata": {},
   "source": [
    "столбцы date_crawled, date_created, number_of_pictures, postal_code, last_seen не несут полезных данных для модели. Удалим:"
   ]
  },
  {
   "cell_type": "code",
   "execution_count": 14,
   "metadata": {},
   "outputs": [],
   "source": [
    "data = data.drop(['date_crawled','date_created', 'number_of_pictures', 'postal_code', 'last_seen'], axis=1)"
   ]
  },
  {
   "cell_type": "code",
   "execution_count": 15,
   "metadata": {},
   "outputs": [],
   "source": [
    "data = data[data['price'] > 0]"
   ]
  },
  {
   "cell_type": "code",
   "execution_count": 16,
   "metadata": {},
   "outputs": [
    {
     "data": {
      "text/plain": [
       "1800    8\n",
       "1598    7\n",
       "1000    7\n",
       "1400    7\n",
       "1001    6\n",
       "Name: power, dtype: int64"
      ]
     },
     "execution_count": 16,
     "metadata": {},
     "output_type": "execute_result"
    }
   ],
   "source": [
    "data['power'][data['power'] > 600].value_counts().head(5)"
   ]
  },
  {
   "cell_type": "markdown",
   "metadata": {},
   "source": [
    "В выборке нет крупной группы, указывающей на какой-либо тип моторов. Мощность > 600 можно убрать."
   ]
  },
  {
   "cell_type": "code",
   "execution_count": 17,
   "metadata": {},
   "outputs": [],
   "source": [
    "data = data[(data['power'] < 600)]"
   ]
  },
  {
   "cell_type": "code",
   "execution_count": 18,
   "metadata": {},
   "outputs": [
    {
     "data": {
      "text/plain": [
       "36360"
      ]
     },
     "execution_count": 18,
     "metadata": {},
     "output_type": "execute_result"
    }
   ],
   "source": [
    "data['power'][data['power'] == 0].count()"
   ]
  },
  {
   "cell_type": "markdown",
   "metadata": {},
   "source": [
    "Объявлений с мощностью =0 много. лучше попробовать восстановить данные."
   ]
  },
  {
   "cell_type": "code",
   "execution_count": 19,
   "metadata": {},
   "outputs": [],
   "source": [
    "data['power'][data['power'] == 0] = np.nan"
   ]
  },
  {
   "cell_type": "code",
   "execution_count": 20,
   "metadata": {},
   "outputs": [],
   "source": [
    "data = data[(data['registration_year'] > 1950) & (data['registration_year'] <= 2016)]"
   ]
  },
  {
   "cell_type": "code",
   "execution_count": 21,
   "metadata": {},
   "outputs": [
    {
     "data": {
      "text/plain": [
       "329285"
      ]
     },
     "execution_count": 21,
     "metadata": {},
     "output_type": "execute_result"
    }
   ],
   "source": [
    "data.shape[0]"
   ]
  },
  {
   "cell_type": "markdown",
   "metadata": {},
   "source": [
    "В ходе чистки аномалий удалено ≈10% данных."
   ]
  },
  {
   "cell_type": "code",
   "execution_count": 22,
   "metadata": {},
   "outputs": [
    {
     "data": {
      "text/plain": [
       "price                     0\n",
       "vehicle_type          19869\n",
       "registration_year         0\n",
       "gearbox               15530\n",
       "power                 32777\n",
       "model                 15539\n",
       "kilometer                 0\n",
       "registration_month        0\n",
       "fuel_type             24064\n",
       "brand                     0\n",
       "repaired              59676\n",
       "dtype: int64"
      ]
     },
     "execution_count": 22,
     "metadata": {},
     "output_type": "execute_result"
    }
   ],
   "source": [
    "data.isna().sum()"
   ]
  },
  {
   "cell_type": "markdown",
   "metadata": {},
   "source": [
    "В записях имеются данные с пропусками. Пропуски в указании модели авто критичны, качественно идентифицировать модель по прочим параметрам не получится. С целью сохранения данных  неизвестные модели авто можно объявить именем 'unnamed'"
   ]
  },
  {
   "cell_type": "code",
   "execution_count": 23,
   "metadata": {},
   "outputs": [],
   "source": [
    "data.loc[:,['model', 'fuel_type', 'gearbox', 'vehicle_type', 'repaired']] = \\\n",
    "data.loc[:,['model', 'fuel_type', 'gearbox', 'vehicle_type', 'repaired']].fillna('unnamed')"
   ]
  },
  {
   "cell_type": "markdown",
   "metadata": {},
   "source": [
    "Оставшиеся пропуски заполним позже методом близжайших соседей чуть позже"
   ]
  },
  {
   "cell_type": "code",
   "execution_count": 24,
   "metadata": {},
   "outputs": [
    {
     "data": {
      "text/plain": [
       "25501"
      ]
     },
     "execution_count": 24,
     "metadata": {},
     "output_type": "execute_result"
    }
   ],
   "source": [
    "data.duplicated().sum()"
   ]
  },
  {
   "cell_type": "code",
   "execution_count": 25,
   "metadata": {},
   "outputs": [],
   "source": [
    "data = data.drop_duplicates().reset_index(drop=True)"
   ]
  },
  {
   "cell_type": "markdown",
   "metadata": {},
   "source": [
    "Дубликаты найдены и удалены"
   ]
  },
  {
   "cell_type": "code",
   "execution_count": 26,
   "metadata": {},
   "outputs": [],
   "source": [
    "#Делим данные на выборки. Для обучения будет применена кросс-валидация, по-этому валидационную выборку не выделяем\n",
    "data_train, data_test = train_test_split(data, test_size=.25, random_state=RND_SEED)"
   ]
  },
  {
   "cell_type": "code",
   "execution_count": 27,
   "metadata": {},
   "outputs": [
    {
     "name": "stderr",
     "output_type": "stream",
     "text": [
      "/opt/conda/lib/python3.9/site-packages/pandas/core/indexing.py:1738: SettingWithCopyWarning: \n",
      "A value is trying to be set on a copy of a slice from a DataFrame.\n",
      "Try using .loc[row_indexer,col_indexer] = value instead\n",
      "\n",
      "See the caveats in the documentation: https://pandas.pydata.org/pandas-docs/stable/user_guide/indexing.html#returning-a-view-versus-a-copy\n",
      "  self._setitem_single_column(loc, value[:, i].tolist(), pi)\n",
      "/opt/conda/lib/python3.9/site-packages/pandas/core/indexing.py:1738: SettingWithCopyWarning: \n",
      "A value is trying to be set on a copy of a slice from a DataFrame.\n",
      "Try using .loc[row_indexer,col_indexer] = value instead\n",
      "\n",
      "See the caveats in the documentation: https://pandas.pydata.org/pandas-docs/stable/user_guide/indexing.html#returning-a-view-versus-a-copy\n",
      "  self._setitem_single_column(loc, value[:, i].tolist(), pi)\n"
     ]
    }
   ],
   "source": [
    "#Кодируем признаки\n",
    "oe = OrdinalEncoder()\n",
    "data_train.loc[:, ['vehicle_type', 'model', 'fuel_type', 'brand', 'repaired', 'gearbox']] = \\\n",
    "oe.fit_transform(data_train.loc[:, ['vehicle_type', 'model', 'fuel_type', 'brand', 'repaired', 'gearbox']])\n",
    "data_test.loc[:, ['vehicle_type', 'model', 'fuel_type', 'brand', 'repaired', 'gearbox']] = \\\n",
    "oe.transform(data_test.loc[:, ['vehicle_type', 'model', 'fuel_type', 'brand', 'repaired', 'gearbox']])"
   ]
  },
  {
   "cell_type": "code",
   "execution_count": 28,
   "metadata": {},
   "outputs": [
    {
     "data": {
      "text/html": [
       "<div>\n",
       "<style scoped>\n",
       "    .dataframe tbody tr th:only-of-type {\n",
       "        vertical-align: middle;\n",
       "    }\n",
       "\n",
       "    .dataframe tbody tr th {\n",
       "        vertical-align: top;\n",
       "    }\n",
       "\n",
       "    .dataframe thead th {\n",
       "        text-align: right;\n",
       "    }\n",
       "</style>\n",
       "<table border=\"1\" class=\"dataframe\">\n",
       "  <thead>\n",
       "    <tr style=\"text-align: right;\">\n",
       "      <th></th>\n",
       "      <th>price</th>\n",
       "      <th>vehicle_type</th>\n",
       "      <th>registration_year</th>\n",
       "      <th>gearbox</th>\n",
       "      <th>power</th>\n",
       "      <th>model</th>\n",
       "      <th>kilometer</th>\n",
       "      <th>registration_month</th>\n",
       "      <th>fuel_type</th>\n",
       "      <th>brand</th>\n",
       "      <th>repaired</th>\n",
       "    </tr>\n",
       "  </thead>\n",
       "  <tbody>\n",
       "    <tr>\n",
       "      <th>145003</th>\n",
       "      <td>450</td>\n",
       "      <td>8.0</td>\n",
       "      <td>1994</td>\n",
       "      <td>1.0</td>\n",
       "      <td>NaN</td>\n",
       "      <td>228.0</td>\n",
       "      <td>150000</td>\n",
       "      <td>11</td>\n",
       "      <td>2.0</td>\n",
       "      <td>24.0</td>\n",
       "      <td>1.0</td>\n",
       "    </tr>\n",
       "    <tr>\n",
       "      <th>70365</th>\n",
       "      <td>4950</td>\n",
       "      <td>7.0</td>\n",
       "      <td>2016</td>\n",
       "      <td>1.0</td>\n",
       "      <td>115.0</td>\n",
       "      <td>80.0</td>\n",
       "      <td>125000</td>\n",
       "      <td>0</td>\n",
       "      <td>6.0</td>\n",
       "      <td>21.0</td>\n",
       "      <td>0.0</td>\n",
       "    </tr>\n",
       "    <tr>\n",
       "      <th>270034</th>\n",
       "      <td>4800</td>\n",
       "      <td>5.0</td>\n",
       "      <td>2009</td>\n",
       "      <td>1.0</td>\n",
       "      <td>80.0</td>\n",
       "      <td>109.0</td>\n",
       "      <td>20000</td>\n",
       "      <td>6</td>\n",
       "      <td>6.0</td>\n",
       "      <td>10.0</td>\n",
       "      <td>0.0</td>\n",
       "    </tr>\n",
       "    <tr>\n",
       "      <th>48725</th>\n",
       "      <td>4100</td>\n",
       "      <td>0.0</td>\n",
       "      <td>2005</td>\n",
       "      <td>0.0</td>\n",
       "      <td>129.0</td>\n",
       "      <td>236.0</td>\n",
       "      <td>125000</td>\n",
       "      <td>1</td>\n",
       "      <td>6.0</td>\n",
       "      <td>36.0</td>\n",
       "      <td>0.0</td>\n",
       "    </tr>\n",
       "    <tr>\n",
       "      <th>23010</th>\n",
       "      <td>2499</td>\n",
       "      <td>0.0</td>\n",
       "      <td>2001</td>\n",
       "      <td>1.0</td>\n",
       "      <td>88.0</td>\n",
       "      <td>224.0</td>\n",
       "      <td>150000</td>\n",
       "      <td>1</td>\n",
       "      <td>2.0</td>\n",
       "      <td>38.0</td>\n",
       "      <td>0.0</td>\n",
       "    </tr>\n",
       "  </tbody>\n",
       "</table>\n",
       "</div>"
      ],
      "text/plain": [
       "        price  vehicle_type  registration_year  gearbox  power  model  \\\n",
       "145003    450           8.0               1994      1.0    NaN  228.0   \n",
       "70365    4950           7.0               2016      1.0  115.0   80.0   \n",
       "270034   4800           5.0               2009      1.0   80.0  109.0   \n",
       "48725    4100           0.0               2005      0.0  129.0  236.0   \n",
       "23010    2499           0.0               2001      1.0   88.0  224.0   \n",
       "\n",
       "        kilometer  registration_month  fuel_type  brand  repaired  \n",
       "145003     150000                  11        2.0   24.0       1.0  \n",
       "70365      125000                   0        6.0   21.0       0.0  \n",
       "270034      20000                   6        6.0   10.0       0.0  \n",
       "48725      125000                   1        6.0   36.0       0.0  \n",
       "23010      150000                   1        2.0   38.0       0.0  "
      ]
     },
     "execution_count": 28,
     "metadata": {},
     "output_type": "execute_result"
    }
   ],
   "source": [
    "data_train.head()"
   ]
  },
  {
   "cell_type": "code",
   "execution_count": 29,
   "metadata": {},
   "outputs": [],
   "source": [
    "#Заполняем числовые пропуски методом близжайших соседей\n",
    "imputer = KNNImputer(n_neighbors=2, weights=\"uniform\")\n",
    "imputer.fit(data_train)\n",
    "\n",
    "data_train_filled = pd.DataFrame(imputer.transform(data_train), \n",
    "                                 index=data_train.index, \n",
    "                                 columns=data_train.columns)\n",
    "data_test_filled = pd.DataFrame(imputer.transform(data_test), \n",
    "                                 index=data_test.index, \n",
    "                                 columns=data_test.columns)"
   ]
  },
  {
   "cell_type": "code",
   "execution_count": 30,
   "metadata": {},
   "outputs": [
    {
     "data": {
      "text/html": [
       "<div>\n",
       "<style scoped>\n",
       "    .dataframe tbody tr th:only-of-type {\n",
       "        vertical-align: middle;\n",
       "    }\n",
       "\n",
       "    .dataframe tbody tr th {\n",
       "        vertical-align: top;\n",
       "    }\n",
       "\n",
       "    .dataframe thead th {\n",
       "        text-align: right;\n",
       "    }\n",
       "</style>\n",
       "<table border=\"1\" class=\"dataframe\">\n",
       "  <thead>\n",
       "    <tr style=\"text-align: right;\">\n",
       "      <th></th>\n",
       "      <th>price</th>\n",
       "      <th>vehicle_type</th>\n",
       "      <th>registration_year</th>\n",
       "      <th>gearbox</th>\n",
       "      <th>power</th>\n",
       "      <th>model</th>\n",
       "      <th>kilometer</th>\n",
       "      <th>registration_month</th>\n",
       "      <th>fuel_type</th>\n",
       "      <th>brand</th>\n",
       "      <th>repaired</th>\n",
       "    </tr>\n",
       "  </thead>\n",
       "  <tbody>\n",
       "    <tr>\n",
       "      <th>test</th>\n",
       "      <td>0</td>\n",
       "      <td>0</td>\n",
       "      <td>0</td>\n",
       "      <td>0</td>\n",
       "      <td>0</td>\n",
       "      <td>0</td>\n",
       "      <td>0</td>\n",
       "      <td>0</td>\n",
       "      <td>0</td>\n",
       "      <td>0</td>\n",
       "      <td>0</td>\n",
       "    </tr>\n",
       "    <tr>\n",
       "      <th>train</th>\n",
       "      <td>0</td>\n",
       "      <td>0</td>\n",
       "      <td>0</td>\n",
       "      <td>0</td>\n",
       "      <td>0</td>\n",
       "      <td>0</td>\n",
       "      <td>0</td>\n",
       "      <td>0</td>\n",
       "      <td>0</td>\n",
       "      <td>0</td>\n",
       "      <td>0</td>\n",
       "    </tr>\n",
       "  </tbody>\n",
       "</table>\n",
       "</div>"
      ],
      "text/plain": [
       "       price  vehicle_type  registration_year  gearbox  power  model  \\\n",
       "test       0             0                  0        0      0      0   \n",
       "train      0             0                  0        0      0      0   \n",
       "\n",
       "       kilometer  registration_month  fuel_type  brand  repaired  \n",
       "test           0                   0          0      0         0  \n",
       "train          0                   0          0      0         0  "
      ]
     },
     "execution_count": 30,
     "metadata": {},
     "output_type": "execute_result"
    }
   ],
   "source": [
    "pd.DataFrame([data_test_filled.isna().sum(), data_train_filled.isna().sum()], index=['test', 'train'])"
   ]
  },
  {
   "cell_type": "markdown",
   "metadata": {},
   "source": [
    "Пропуски заполнены"
   ]
  },
  {
   "cell_type": "code",
   "execution_count": 33,
   "metadata": {},
   "outputs": [],
   "source": [
    "Xtest, Xtrain, ytest, ytrain = data_test_filled.drop(columns='price', axis=1),\\\n",
    "    data_train_filled.drop(columns='price', axis=1),\\\n",
    "    data_test_filled['price'],\\\n",
    "    data_train_filled['price']"
   ]
  },
  {
   "cell_type": "code",
   "execution_count": 34,
   "metadata": {},
   "outputs": [],
   "source": [
    "scaler = StandardScaler()\n",
    "#scaler.set_output(transform='pandas')\n",
    "Xtrain = pd.DataFrame(scaler.fit_transform(Xtrain),\n",
    "                      index=Xtrain.index,\n",
    "                      columns=Xtrain.columns)\n",
    "Xtest = pd.DataFrame(scaler.transform(Xtest),\n",
    "                      index=Xtest.index,\n",
    "                      columns=Xtest.columns)"
   ]
  },
  {
   "cell_type": "markdown",
   "metadata": {},
   "source": [
    "Пропуски заполнены, аномальные данные удалены, фичи отмасштабированы, признаки кодированы. Можно переходить к обучению"
   ]
  },
  {
   "cell_type": "markdown",
   "metadata": {},
   "source": [
    "## Обучение моделей"
   ]
  },
  {
   "cell_type": "markdown",
   "metadata": {},
   "source": [
    "В качестве метрики используем RMSE опишем отдельную функцию\n",
    "Для оценки времени и фиксации результата напишем и применим методы benchmark и test_model. \n",
    "\n",
    "Для обучения применим следующие модели:\n",
    "* Дерево решений\n",
    "* Случайный лес\n",
    "* LightGBM\n",
    "\n"
   ]
  },
  {
   "cell_type": "code",
   "execution_count": 35,
   "metadata": {},
   "outputs": [],
   "source": [
    "def rmse(target,predictions):\n",
    "    mse = mean_squared_error(target, predictions)\n",
    "    return mse ** 0.5\n",
    "rmse_scorer = make_scorer(rmse, greater_is_better=False)"
   ]
  },
  {
   "cell_type": "code",
   "execution_count": 36,
   "metadata": {},
   "outputs": [],
   "source": [
    "stats = dict()\n",
    "\n",
    "def model_test(name, model, features_test=Xtest, target_test=ytest, features_train=Xtrain, target_train=ytrain):\n",
    "    #учим на лучших параметрах\n",
    "    solver = model.estimator\n",
    "    solver.set_params(**model.best_params_, random_state=RND_SEED)\n",
    "    start = time.time()\n",
    "    solver.fit(Xtrain,ytrain)\n",
    "    fit = time.time()\n",
    "\n",
    "    #Предсказываем \n",
    "    predicted_test = solver.predict(features_test)\n",
    "    predict = time.time()\n",
    "\n",
    "    rmse_test = rmse(target_test, predicted_test)\n",
    "    rmse_train = rmse(target_train, solver.predict(features_train))\n",
    "\n",
    "    #Заполняем результат\n",
    "    stats[name] = {\n",
    "        'name': name,\n",
    "        'fit_time': fit-start,\n",
    "        'predict_time': predict-fit,\n",
    "        'rmse_test':rmse_test,\n",
    "        'rmse_train':rmse_train\n",
    "    }"
   ]
  },
  {
   "cell_type": "code",
   "execution_count": 37,
   "metadata": {},
   "outputs": [],
   "source": [
    "def benchmark(func, notification=True):\n",
    "    def wrapper():\n",
    "        start = time.time()\n",
    "        model_test(*func())\n",
    "        end = time.time()\n",
    "        if notification:\n",
    "            print('Время выполнения: {} секунд.'.format(end-start))\n",
    "    return wrapper"
   ]
  },
  {
   "cell_type": "code",
   "execution_count": 38,
   "metadata": {},
   "outputs": [],
   "source": [
    "@benchmark\n",
    "def decision_tree():\n",
    "    decision_tree_model = DecisionTreeRegressor(random_state=RND_SEED)\n",
    "    decision_parameters = {\n",
    "                \"max_depth\": range(1, 11),\n",
    "                \"min_samples_leaf\": range(1, 11)\n",
    "    }\n",
    "\n",
    "    decision_grid =  RandomizedSearchCV(estimator=decision_tree_model,\n",
    "                                        param_distributions=decision_parameters, cv=5,\n",
    "                                        scoring=rmse_scorer, n_iter = 20, n_jobs=-1)\n",
    "    decision_grid.fit(Xtrain,ytrain)\n",
    "    return 'Дерево решений', decision_grid"
   ]
  },
  {
   "cell_type": "code",
   "execution_count": 39,
   "metadata": {},
   "outputs": [
    {
     "name": "stdout",
     "output_type": "stream",
     "text": [
      "Время выполнения: 23.445889234542847 секунд.\n"
     ]
    }
   ],
   "source": [
    "decision_tree()"
   ]
  },
  {
   "cell_type": "code",
   "execution_count": 41,
   "metadata": {},
   "outputs": [],
   "source": [
    "FAST_MODE=True #Для ускорения работы в jupyterhub выделил команду с предварительно отобранными оптимальными параметрами\n",
    "@benchmark\n",
    "def random_forest():\n",
    "    random_forest_model = RandomForestRegressor(random_state=RND_SEED)\n",
    "    if FAST_MODE: \n",
    "        params = {\n",
    "            'max_depth': [15],\n",
    "            'n_estimators': [600]\n",
    "        }\n",
    "    else:\n",
    "        params = {\n",
    "            'max_depth': range(13, 17, 2),\n",
    "            'n_estimators':range(400, 601, 100)\n",
    "        }\n",
    "    forest_rs = HalvingGridSearchCV(estimator=random_forest_model,\n",
    "                                    param_grid=params, scoring=rmse_scorer,\n",
    "                                    factor=5, cv=5, n_jobs=-1, verbose=0)\n",
    "    forest_rs.fit(Xtrain, ytrain)\n",
    "    return 'Случайный лес', forest_rs"
   ]
  },
  {
   "cell_type": "code",
   "execution_count": 42,
   "metadata": {},
   "outputs": [
    {
     "name": "stdout",
     "output_type": "stream",
     "text": [
      "Время выполнения: 1838.7721064090729 секунд.\n"
     ]
    }
   ],
   "source": [
    "random_forest()"
   ]
  },
  {
   "cell_type": "code",
   "execution_count": 43,
   "metadata": {},
   "outputs": [],
   "source": [
    "@benchmark\n",
    "def lgb():\n",
    "    if FAST_MODE:\n",
    "        lgb_params = {\n",
    "        'objective': ['regression'],\n",
    "        'boosting_type' : ['gbdt'],\n",
    "        'max_depth': [30],\n",
    "        'num_leaves': [400],\n",
    "        }\n",
    "    else:\n",
    "        lgb_params = {\n",
    "            'objective': ['regression','regression_l1'],\n",
    "            'boosting_type' : ['dart','gbdt'],\n",
    "            'max_depth': [15,30,50],\n",
    "            'num_leaves': range(100,401,100),\n",
    "        }\n",
    "    lgb_reg = LGBMRegressor(random_state=RND_SEED)\n",
    "    lgb_gs = GridSearchCV(lgb_reg, lgb_params, scoring=rmse_scorer, n_jobs=-1, verbose=2)\n",
    "    lgb_gs.fit(Xtrain, ytrain)\n",
    "    return 'LightGBM', lgb_gs"
   ]
  },
  {
   "cell_type": "code",
   "execution_count": 44,
   "metadata": {},
   "outputs": [
    {
     "name": "stdout",
     "output_type": "stream",
     "text": [
      "Fitting 5 folds for each of 1 candidates, totalling 5 fits\n",
      "[CV] END boosting_type=gbdt, max_depth=30, num_leaves=400, objective=regression; total time=27.6min\n",
      "[CV] END boosting_type=gbdt, max_depth=30, num_leaves=400, objective=regression; total time=  58.1s\n",
      "[CV] END boosting_type=gbdt, max_depth=30, num_leaves=400, objective=regression; total time=  22.4s\n",
      "[CV] END boosting_type=gbdt, max_depth=30, num_leaves=400, objective=regression; total time=  20.6s\n",
      "[CV] END boosting_type=gbdt, max_depth=30, num_leaves=400, objective=regression; total time=  22.4s\n",
      "Время выполнения: 1827.6032528877258 секунд.\n"
     ]
    }
   ],
   "source": [
    "lgb()"
   ]
  },
  {
   "cell_type": "markdown",
   "metadata": {},
   "source": [
    "## Анализ моделей"
   ]
  },
  {
   "cell_type": "markdown",
   "metadata": {},
   "source": [
    "В процессе обучения были подготовлены три модели. В качестве результата выделены 4 параметра: \n",
    "* время обучения на оптимальных параметрах;\n",
    "* время предсказания;\n",
    "* качество предсказания RMSE тренировочного набора данных;\n",
    "* качество предсказания RMSE тестового набора данных.\n",
    "\n",
    "Критерии, которые важны заказчику:\n",
    "* качество предсказания;\n",
    "* время обучения модели;\n",
    "* время предсказания модели.\n",
    "\n",
    "Выберем модель, которая наилучшим образом соответсвтует требованиям."
   ]
  },
  {
   "cell_type": "code",
   "execution_count": 45,
   "metadata": {},
   "outputs": [
    {
     "data": {
      "text/html": [
       "<div>\n",
       "<style scoped>\n",
       "    .dataframe tbody tr th:only-of-type {\n",
       "        vertical-align: middle;\n",
       "    }\n",
       "\n",
       "    .dataframe tbody tr th {\n",
       "        vertical-align: top;\n",
       "    }\n",
       "\n",
       "    .dataframe thead th {\n",
       "        text-align: right;\n",
       "    }\n",
       "</style>\n",
       "<table border=\"1\" class=\"dataframe\">\n",
       "  <thead>\n",
       "    <tr style=\"text-align: right;\">\n",
       "      <th></th>\n",
       "      <th>name</th>\n",
       "      <th>fit_time</th>\n",
       "      <th>predict_time</th>\n",
       "      <th>rmse_test</th>\n",
       "      <th>rmse_train</th>\n",
       "    </tr>\n",
       "  </thead>\n",
       "  <tbody>\n",
       "    <tr>\n",
       "      <th>0</th>\n",
       "      <td>Дерево решений</td>\n",
       "      <td>0.477862</td>\n",
       "      <td>0.008829</td>\n",
       "      <td>1965.682257</td>\n",
       "      <td>1902.504100</td>\n",
       "    </tr>\n",
       "    <tr>\n",
       "      <th>1</th>\n",
       "      <td>Случайный лес</td>\n",
       "      <td>309.966240</td>\n",
       "      <td>8.911443</td>\n",
       "      <td>1646.220980</td>\n",
       "      <td>1267.506605</td>\n",
       "    </tr>\n",
       "    <tr>\n",
       "      <th>2</th>\n",
       "      <td>LightGBM</td>\n",
       "      <td>22.580274</td>\n",
       "      <td>1.012633</td>\n",
       "      <td>1554.359215</td>\n",
       "      <td>1334.651319</td>\n",
       "    </tr>\n",
       "  </tbody>\n",
       "</table>\n",
       "</div>"
      ],
      "text/plain": [
       "             name    fit_time  predict_time    rmse_test   rmse_train\n",
       "0  Дерево решений    0.477862      0.008829  1965.682257  1902.504100\n",
       "1   Случайный лес  309.966240      8.911443  1646.220980  1267.506605\n",
       "2        LightGBM   22.580274      1.012633  1554.359215  1334.651319"
      ]
     },
     "execution_count": 45,
     "metadata": {},
     "output_type": "execute_result"
    }
   ],
   "source": [
    "stats_df = pd.DataFrame.from_dict(data=stats, orient='index').reset_index(drop=True)\n",
    "stats_df"
   ]
  },
  {
   "cell_type": "code",
   "execution_count": 60,
   "metadata": {},
   "outputs": [
    {
     "data": {
      "image/png": "[encoded data removed]",
      "text/plain": [
       "<Figure size 432x288 with 1 Axes>"
      ]
     },
     "metadata": {
      "needs_background": "light"
     },
     "output_type": "display_data"
    }
   ],
   "source": [
    "stats_df.plot(x='name', y='rmse_test', kind='bar', title = 'RMSE', xlabel='');"
   ]
  },
  {
   "cell_type": "markdown",
   "metadata": {},
   "source": [
    "Все модели попадают по требование RMSE < 2500. Лучшая оценка у LightGBM модели."
   ]
  },
  {
   "cell_type": "code",
   "execution_count": 65,
   "metadata": {},
   "outputs": [
    {
     "data": {
      "image/png": "[encoded data removed]",
      "text/plain": [
       "<Figure size 432x288 with 1 Axes>"
      ]
     },
     "metadata": {
      "needs_background": "light"
     },
     "output_type": "display_data"
    }
   ],
   "source": [
    "stats_df.plot(x='name', y='fit_time', kind='bar', title = 'Обучение', xlabel='');"
   ]
  },
  {
   "cell_type": "markdown",
   "metadata": {},
   "source": [
    "Дерево решений обучается за 0.47 секунды. LightGBM требуется 22.5 секунды. Решающий лес обучился за 5 минут. Возможно это связано со сложностью модели или малыми выделяемыми ресурсами сервером."
   ]
  },
  {
   "cell_type": "code",
   "execution_count": 67,
   "metadata": {},
   "outputs": [
    {
     "data": {
      "image/png": "[encoded data removed]",
      "text/plain": [
       "<Figure size 432x288 with 1 Axes>"
      ]
     },
     "metadata": {
      "needs_background": "light"
     },
     "output_type": "display_data"
    }
   ],
   "source": [
    "stats_df.plot(x='name', y='predict_time', kind='bar', title = 'Предсказание', xlabel='');"
   ]
  },
  {
   "cell_type": "markdown",
   "metadata": {},
   "source": [
    "Модели предсказания имеют похожее распределение: Дерево решает задачу за 9мс. LightGBM справляется за 1сек."
   ]
  },
  {
   "cell_type": "markdown",
   "metadata": {},
   "source": [
    "# Вывод\n",
    "\n",
    "Из рассмотренных моделей самой точной оказалась LightGBM. Так-же у неё высокая скорость предсказания и обучения. Быстрее работает решающее дерево, но качество предсказаний у него хуже. Цели проектной работы достигнуты. Модели соответствуют критериям заказчика и их можно применять для решения бизнес задач."
   ]
  }
 ],
 "metadata": {
  "ExecuteTimeLog": [
   {
    "duration": 6593,
    "start_time": "2023-08-11T21:45:14.078Z"
   },
   {
    "duration": 2444,
    "start_time": "2023-08-11T21:45:20.674Z"
   },
   {
    "duration": 2172,
    "start_time": "2023-08-11T21:45:23.120Z"
   },
   {
    "duration": 44,
    "start_time": "2023-08-11T21:45:25.295Z"
   },
   {
    "duration": 140,
    "start_time": "2023-08-11T21:45:25.347Z"
   },
   {
    "duration": 132,
    "start_time": "2023-08-11T21:45:25.489Z"
   },
   {
    "duration": 571,
    "start_time": "2023-08-11T21:45:25.623Z"
   },
   {
    "duration": 1520,
    "start_time": "2023-08-11T21:45:26.206Z"
   },
   {
    "duration": 437,
    "start_time": "2023-08-11T21:45:27.732Z"
   },
   {
    "duration": 22,
    "start_time": "2023-08-11T21:45:28.178Z"
   },
   {
    "duration": 234,
    "start_time": "2023-08-11T21:45:28.203Z"
   },
   {
    "duration": 4,
    "start_time": "2023-08-11T21:45:28.439Z"
   },
   {
    "duration": 51,
    "start_time": "2023-08-11T21:45:28.445Z"
   },
   {
    "duration": 75,
    "start_time": "2023-08-11T21:45:28.498Z"
   },
   {
    "duration": 278,
    "start_time": "2023-08-11T21:45:28.575Z"
   },
   {
    "duration": 104,
    "start_time": "2023-08-11T21:45:28.855Z"
   },
   {
    "duration": 155,
    "start_time": "2023-08-11T21:45:28.963Z"
   },
   {
    "duration": 66,
    "start_time": "2023-08-11T21:45:29.120Z"
   },
   {
    "duration": 68,
    "start_time": "2023-08-11T21:45:29.188Z"
   },
   {
    "duration": 40,
    "start_time": "2023-08-11T21:45:29.258Z"
   },
   {
    "duration": 18,
    "start_time": "2023-08-11T21:45:29.301Z"
   },
   {
    "duration": 148,
    "start_time": "2023-08-11T21:45:29.323Z"
   },
   {
    "duration": 144,
    "start_time": "2023-08-11T21:45:29.474Z"
   },
   {
    "duration": 170,
    "start_time": "2023-08-11T21:45:29.622Z"
   },
   {
    "duration": 286,
    "start_time": "2023-08-11T21:45:29.795Z"
   },
   {
    "duration": 110,
    "start_time": "2023-08-11T21:45:30.086Z"
   },
   {
    "duration": 177,
    "start_time": "2023-08-11T21:45:30.198Z"
   },
   {
    "duration": 0,
    "start_time": "2023-08-11T21:45:30.378Z"
   },
   {
    "duration": 0,
    "start_time": "2023-08-11T21:45:30.380Z"
   },
   {
    "duration": 0,
    "start_time": "2023-08-11T21:45:30.382Z"
   },
   {
    "duration": 0,
    "start_time": "2023-08-11T21:45:30.383Z"
   },
   {
    "duration": 0,
    "start_time": "2023-08-11T21:45:30.384Z"
   },
   {
    "duration": 0,
    "start_time": "2023-08-11T21:45:30.386Z"
   },
   {
    "duration": 0,
    "start_time": "2023-08-11T21:45:30.387Z"
   },
   {
    "duration": 26,
    "start_time": "2023-08-11T21:45:30.389Z"
   },
   {
    "duration": 0,
    "start_time": "2023-08-11T21:45:30.416Z"
   },
   {
    "duration": 0,
    "start_time": "2023-08-11T21:45:30.417Z"
   },
   {
    "duration": 0,
    "start_time": "2023-08-11T21:45:30.420Z"
   },
   {
    "duration": 0,
    "start_time": "2023-08-11T21:45:30.421Z"
   },
   {
    "duration": 0,
    "start_time": "2023-08-11T21:45:30.422Z"
   },
   {
    "duration": 0,
    "start_time": "2023-08-11T21:45:30.423Z"
   },
   {
    "duration": 0,
    "start_time": "2023-08-11T21:45:30.424Z"
   },
   {
    "duration": 0,
    "start_time": "2023-08-11T21:45:30.425Z"
   },
   {
    "duration": 0,
    "start_time": "2023-08-11T21:45:30.426Z"
   },
   {
    "duration": 0,
    "start_time": "2023-08-11T21:45:30.427Z"
   },
   {
    "duration": 29,
    "start_time": "2023-08-11T21:48:55.232Z"
   },
   {
    "duration": 47,
    "start_time": "2023-08-11T21:49:36.427Z"
   },
   {
    "duration": 9,
    "start_time": "2023-08-11T21:57:59.107Z"
   },
   {
    "duration": 64,
    "start_time": "2023-08-11T21:58:14.954Z"
   },
   {
    "duration": 104,
    "start_time": "2023-08-11T21:59:10.982Z"
   },
   {
    "duration": 29,
    "start_time": "2023-08-11T21:59:13.034Z"
   },
   {
    "duration": 94,
    "start_time": "2023-08-11T21:59:25.352Z"
   },
   {
    "duration": 71,
    "start_time": "2023-08-11T22:00:03.968Z"
   },
   {
    "duration": 138,
    "start_time": "2023-08-11T22:00:28.629Z"
   },
   {
    "duration": 39,
    "start_time": "2023-08-11T22:00:30.083Z"
   },
   {
    "duration": 134,
    "start_time": "2023-08-11T22:01:07.135Z"
   },
   {
    "duration": 14,
    "start_time": "2023-08-11T22:01:10.436Z"
   },
   {
    "duration": 5,
    "start_time": "2023-08-11T22:01:17.298Z"
   },
   {
    "duration": 24,
    "start_time": "2023-08-11T22:01:36.576Z"
   },
   {
    "duration": 40,
    "start_time": "2023-08-11T22:01:44.818Z"
   },
   {
    "duration": 40,
    "start_time": "2023-08-11T22:03:07.267Z"
   },
   {
    "duration": 161,
    "start_time": "2023-08-11T22:09:59.445Z"
   },
   {
    "duration": 210,
    "start_time": "2023-08-11T22:10:05.231Z"
   },
   {
    "duration": 259,
    "start_time": "2023-08-11T22:10:05.444Z"
   },
   {
    "duration": 155,
    "start_time": "2023-08-11T22:10:05.706Z"
   },
   {
    "duration": 1246,
    "start_time": "2023-08-11T22:10:05.863Z"
   },
   {
    "duration": 21,
    "start_time": "2023-08-11T22:10:07.111Z"
   },
   {
    "duration": 747954,
    "start_time": "2023-08-11T22:10:07.134Z"
   },
   {
    "duration": 36,
    "start_time": "2023-08-11T22:22:35.090Z"
   },
   {
    "duration": 17,
    "start_time": "2023-08-11T22:22:35.128Z"
   },
   {
    "duration": 19,
    "start_time": "2023-08-11T22:22:35.148Z"
   },
   {
    "duration": 0,
    "start_time": "2023-08-11T22:22:35.170Z"
   },
   {
    "duration": 0,
    "start_time": "2023-08-11T22:22:35.172Z"
   },
   {
    "duration": 0,
    "start_time": "2023-08-11T22:22:35.173Z"
   },
   {
    "duration": 0,
    "start_time": "2023-08-11T22:22:35.174Z"
   },
   {
    "duration": 0,
    "start_time": "2023-08-11T22:22:35.175Z"
   },
   {
    "duration": 0,
    "start_time": "2023-08-11T22:22:35.177Z"
   },
   {
    "duration": 0,
    "start_time": "2023-08-11T22:22:35.211Z"
   },
   {
    "duration": 0,
    "start_time": "2023-08-11T22:22:35.214Z"
   },
   {
    "duration": 0,
    "start_time": "2023-08-11T22:22:35.216Z"
   },
   {
    "duration": 0,
    "start_time": "2023-08-11T22:22:35.217Z"
   },
   {
    "duration": 0,
    "start_time": "2023-08-11T22:22:35.218Z"
   },
   {
    "duration": 0,
    "start_time": "2023-08-11T22:22:35.219Z"
   },
   {
    "duration": 0,
    "start_time": "2023-08-11T22:22:35.220Z"
   },
   {
    "duration": 69,
    "start_time": "2023-08-11T22:35:02.831Z"
   },
   {
    "duration": 64,
    "start_time": "2023-08-11T22:35:09.689Z"
   },
   {
    "duration": 3,
    "start_time": "2023-08-11T22:35:09.757Z"
   },
   {
    "duration": 9,
    "start_time": "2023-08-11T22:35:09.763Z"
   },
   {
    "duration": 6,
    "start_time": "2023-08-11T22:35:09.774Z"
   },
   {
    "duration": 29,
    "start_time": "2023-08-11T22:35:09.782Z"
   },
   {
    "duration": 31070,
    "start_time": "2023-08-11T22:35:09.819Z"
   },
   {
    "duration": 4,
    "start_time": "2023-08-11T22:35:40.891Z"
   },
   {
    "duration": 533371,
    "start_time": "2023-08-11T22:35:40.897Z"
   },
   {
    "duration": 0,
    "start_time": "2023-08-11T22:44:34.271Z"
   },
   {
    "duration": 0,
    "start_time": "2023-08-11T22:44:34.273Z"
   },
   {
    "duration": 0,
    "start_time": "2023-08-11T22:44:34.274Z"
   },
   {
    "duration": 0,
    "start_time": "2023-08-11T22:44:34.275Z"
   },
   {
    "duration": 0,
    "start_time": "2023-08-11T22:44:34.276Z"
   },
   {
    "duration": 0,
    "start_time": "2023-08-11T22:44:34.277Z"
   },
   {
    "duration": 3747,
    "start_time": "2023-08-11T22:44:37.906Z"
   },
   {
    "duration": 6,
    "start_time": "2023-08-11T22:44:43.328Z"
   },
   {
    "duration": 4999631,
    "start_time": "2023-08-11T22:44:44.474Z"
   },
   {
    "duration": 10,
    "start_time": "2023-08-12T00:08:04.115Z"
   },
   {
    "duration": 0,
    "start_time": "2023-08-12T09:30:20.515Z"
   },
   {
    "duration": 0,
    "start_time": "2023-08-12T09:30:20.516Z"
   },
   {
    "duration": 0,
    "start_time": "2023-08-12T09:30:20.519Z"
   },
   {
    "duration": 0,
    "start_time": "2023-08-12T09:30:20.526Z"
   },
   {
    "duration": 0,
    "start_time": "2023-08-12T09:30:20.552Z"
   },
   {
    "duration": 0,
    "start_time": "2023-08-12T09:30:20.553Z"
   },
   {
    "duration": 5,
    "start_time": "2023-08-12T09:30:56.695Z"
   },
   {
    "duration": 3740679,
    "start_time": "2023-08-12T09:30:57.954Z"
   },
   {
    "duration": 9,
    "start_time": "2023-08-12T10:37:01.483Z"
   },
   {
    "duration": 5222,
    "start_time": "2023-08-12T14:37:02.762Z"
   },
   {
    "duration": 1698,
    "start_time": "2023-08-12T14:37:07.987Z"
   },
   {
    "duration": 3222,
    "start_time": "2023-08-12T14:37:09.687Z"
   },
   {
    "duration": 16,
    "start_time": "2023-08-12T14:37:12.910Z"
   },
   {
    "duration": 93,
    "start_time": "2023-08-12T14:37:12.928Z"
   },
   {
    "duration": 90,
    "start_time": "2023-08-12T14:37:13.023Z"
   },
   {
    "duration": 338,
    "start_time": "2023-08-12T14:37:13.115Z"
   },
   {
    "duration": 1036,
    "start_time": "2023-08-12T14:37:13.455Z"
   },
   {
    "duration": 264,
    "start_time": "2023-08-12T14:37:14.493Z"
   },
   {
    "duration": 18,
    "start_time": "2023-08-12T14:37:14.759Z"
   },
   {
    "duration": 48,
    "start_time": "2023-08-12T14:37:14.778Z"
   },
   {
    "duration": 3,
    "start_time": "2023-08-12T14:37:14.828Z"
   },
   {
    "duration": 10,
    "start_time": "2023-08-12T14:37:14.833Z"
   },
   {
    "duration": 45,
    "start_time": "2023-08-12T14:37:14.846Z"
   },
   {
    "duration": 30,
    "start_time": "2023-08-12T14:37:14.892Z"
   },
   {
    "duration": 6,
    "start_time": "2023-08-12T14:37:14.924Z"
   },
   {
    "duration": 49,
    "start_time": "2023-08-12T14:37:14.932Z"
   },
   {
    "duration": 7,
    "start_time": "2023-08-12T14:37:14.983Z"
   },
   {
    "duration": 13,
    "start_time": "2023-08-12T14:37:14.991Z"
   },
   {
    "duration": 24,
    "start_time": "2023-08-12T14:37:15.006Z"
   },
   {
    "duration": 45,
    "start_time": "2023-08-12T14:37:15.032Z"
   },
   {
    "duration": 93,
    "start_time": "2023-08-12T14:37:15.078Z"
   },
   {
    "duration": 103,
    "start_time": "2023-08-12T14:37:15.173Z"
   },
   {
    "duration": 150,
    "start_time": "2023-08-12T14:37:15.277Z"
   },
   {
    "duration": 192,
    "start_time": "2023-08-12T14:37:15.429Z"
   },
   {
    "duration": 64,
    "start_time": "2023-08-12T14:37:15.623Z"
   },
   {
    "duration": 769,
    "start_time": "2023-08-12T14:37:15.688Z"
   },
   {
    "duration": 21,
    "start_time": "2023-08-12T14:37:16.458Z"
   },
   {
    "duration": 644077,
    "start_time": "2023-08-12T14:37:16.481Z"
   },
   {
    "duration": 24,
    "start_time": "2023-08-12T14:48:00.560Z"
   },
   {
    "duration": 109,
    "start_time": "2023-08-12T14:48:00.586Z"
   },
   {
    "duration": 0,
    "start_time": "2023-08-12T14:48:00.696Z"
   },
   {
    "duration": 0,
    "start_time": "2023-08-12T14:48:00.698Z"
   },
   {
    "duration": 0,
    "start_time": "2023-08-12T14:48:00.699Z"
   },
   {
    "duration": 0,
    "start_time": "2023-08-12T14:48:00.700Z"
   },
   {
    "duration": 0,
    "start_time": "2023-08-12T14:48:00.701Z"
   },
   {
    "duration": 0,
    "start_time": "2023-08-12T14:48:00.703Z"
   },
   {
    "duration": 0,
    "start_time": "2023-08-12T14:48:00.703Z"
   },
   {
    "duration": 0,
    "start_time": "2023-08-12T14:48:00.705Z"
   },
   {
    "duration": 0,
    "start_time": "2023-08-12T14:48:00.706Z"
   },
   {
    "duration": 0,
    "start_time": "2023-08-12T14:48:00.707Z"
   },
   {
    "duration": 0,
    "start_time": "2023-08-12T14:48:00.708Z"
   },
   {
    "duration": 0,
    "start_time": "2023-08-12T14:48:00.710Z"
   },
   {
    "duration": 0,
    "start_time": "2023-08-12T14:48:00.711Z"
   },
   {
    "duration": 0,
    "start_time": "2023-08-12T14:48:00.712Z"
   },
   {
    "duration": 11,
    "start_time": "2023-08-12T14:48:30.476Z"
   },
   {
    "duration": 20,
    "start_time": "2023-08-12T14:48:36.421Z"
   },
   {
    "duration": 57,
    "start_time": "2023-08-12T14:48:36.444Z"
   },
   {
    "duration": 3,
    "start_time": "2023-08-12T14:48:36.503Z"
   },
   {
    "duration": 5,
    "start_time": "2023-08-12T14:48:36.508Z"
   },
   {
    "duration": 14,
    "start_time": "2023-08-12T14:48:36.515Z"
   },
   {
    "duration": 16,
    "start_time": "2023-08-12T14:48:36.531Z"
   },
   {
    "duration": 23450,
    "start_time": "2023-08-12T14:48:36.550Z"
   },
   {
    "duration": 131,
    "start_time": "2023-08-12T14:49:00.002Z"
   },
   {
    "duration": 0,
    "start_time": "2023-08-12T14:49:00.134Z"
   },
   {
    "duration": 0,
    "start_time": "2023-08-12T14:49:00.136Z"
   },
   {
    "duration": 0,
    "start_time": "2023-08-12T14:49:00.137Z"
   },
   {
    "duration": 0,
    "start_time": "2023-08-12T14:49:00.138Z"
   },
   {
    "duration": 0,
    "start_time": "2023-08-12T14:49:00.139Z"
   },
   {
    "duration": 0,
    "start_time": "2023-08-12T14:49:00.140Z"
   },
   {
    "duration": 0,
    "start_time": "2023-08-12T14:49:00.141Z"
   },
   {
    "duration": 4,
    "start_time": "2023-08-12T14:49:37.070Z"
   },
   {
    "duration": 1838775,
    "start_time": "2023-08-12T14:49:41.291Z"
   },
   {
    "duration": 10,
    "start_time": "2023-08-12T15:20:20.069Z"
   },
   {
    "duration": 1827619,
    "start_time": "2023-08-12T15:20:20.081Z"
   },
   {
    "duration": 11,
    "start_time": "2023-08-12T16:13:32.447Z"
   },
   {
    "duration": 139,
    "start_time": "2023-08-12T16:13:36.692Z"
   },
   {
    "duration": 136,
    "start_time": "2023-08-12T16:13:41.151Z"
   },
   {
    "duration": 122,
    "start_time": "2023-08-12T16:13:41.899Z"
   },
   {
    "duration": 133,
    "start_time": "2023-08-12T16:19:39.371Z"
   },
   {
    "duration": 214,
    "start_time": "2023-08-12T16:19:44.146Z"
   },
   {
    "duration": 125,
    "start_time": "2023-08-12T16:19:48.383Z"
   },
   {
    "duration": 124,
    "start_time": "2023-08-12T16:19:51.805Z"
   },
   {
    "duration": 105,
    "start_time": "2023-08-12T16:20:01.199Z"
   },
   {
    "duration": 128,
    "start_time": "2023-08-12T16:20:44.104Z"
   },
   {
    "duration": 129,
    "start_time": "2023-08-12T16:20:55.764Z"
   },
   {
    "duration": 123,
    "start_time": "2023-08-12T16:21:08.950Z"
   },
   {
    "duration": 122,
    "start_time": "2023-08-12T16:21:15.507Z"
   },
   {
    "duration": 118,
    "start_time": "2023-08-12T16:21:17.946Z"
   },
   {
    "duration": 121,
    "start_time": "2023-08-12T16:21:21.779Z"
   },
   {
    "duration": 125,
    "start_time": "2023-08-12T16:22:02.849Z"
   },
   {
    "duration": 126,
    "start_time": "2023-08-12T16:22:22.612Z"
   },
   {
    "duration": 114,
    "start_time": "2023-08-12T16:22:27.245Z"
   },
   {
    "duration": 213,
    "start_time": "2023-08-12T16:22:49.409Z"
   },
   {
    "duration": 111,
    "start_time": "2023-08-12T16:22:54.042Z"
   },
   {
    "duration": 123,
    "start_time": "2023-08-12T17:12:36.331Z"
   },
   {
    "duration": 109,
    "start_time": "2023-08-12T17:14:56.523Z"
   },
   {
    "duration": 111,
    "start_time": "2023-08-12T17:15:22.555Z"
   },
   {
    "duration": 162,
    "start_time": "2023-08-12T17:17:55.400Z"
   },
   {
    "duration": 92,
    "start_time": "2023-08-12T21:21:48.455Z"
   }
  ],
  "kernelspec": {
   "display_name": "Python 3 (ipykernel)",
   "language": "python",
   "name": "python3"
  },
  "language_info": {
   "codemirror_mode": {
    "name": "ipython",
    "version": 3
   },
   "file_extension": ".py",
   "mimetype": "text/x-python",
   "name": "python",
   "nbconvert_exporter": "python",
   "pygments_lexer": "ipython3",
   "version": "3.9.5"
  },
  "toc": {
   "base_numbering": 1,
   "nav_menu": {
    "height": "178px",
    "width": "197px"
   },
   "number_sections": true,
   "sideBar": true,
   "skip_h1_title": true,
   "title_cell": "Table of Contents",
   "title_sidebar": "Contents",
   "toc_cell": false,
   "toc_position": {},
   "toc_section_display": true,
   "toc_window_display": true
  }
 },
 "nbformat": 4,
 "nbformat_minor": 2
}
