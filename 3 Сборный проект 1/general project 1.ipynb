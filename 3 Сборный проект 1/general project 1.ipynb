{
 "cells": [
  {
   "cell_type": "markdown",
   "metadata": {},
   "source": [
    "# Сборный проект\n",
    "\n",
    "**Цель исследования**\n",
    "\n",
    "Нужно выявить определяющие успешность игры закономерности, для определения потенциально популярного продукта.\n",
    "Оценить аудиторию в разных регионах. И проверить 2 гипотезы: \n",
    "1. Средние пользовательские рейтинги платформ Xbox One и PC одинаковые; \n",
    "1. Средние пользовательские рейтинги жанров Action (англ. «действие», экшен-игры) и Sports (англ. «спортивные соревнования») разные.\n",
    "\n",
    "\n",
    "**Ход исследования**\n",
    "\n",
    "Данные из файла `/datasets/games.csv` содержат исторические данные о продажах игр, оценки пользователей и экспертов, жанры и платформы. Перед исследованием необходимо просомтреть данные, выявить и исправить ошибки и пропуски. Оценить влияние пропусков на ход исследования.\n",
    "\n",
    "Работа пройдёт в шесть этапов:\n",
    " 1. Обзор данных.\n",
    " 2. Предобработка данных.\n",
    " 3. Исследовательский анализ\n",
    " 4. Составление портрета пользователя\n",
    " 5. Проверка гипотез\n",
    " 1. Общий вывод"
   ]
  },
  {
   "cell_type": "markdown",
   "metadata": {},
   "source": [
    "## Обзор данных"
   ]
  },
  {
   "cell_type": "code",
   "execution_count": 1,
   "metadata": {},
   "outputs": [],
   "source": [
    "import pandas as pd\n",
    "import numpy as np\n",
    "from scipy import stats as st\n",
    "import matplotlib.pyplot as plt"
   ]
  },
  {
   "cell_type": "code",
   "execution_count": 2,
   "metadata": {},
   "outputs": [],
   "source": [
    "try:\n",
    "    data = pd.read_csv('/Users/evgeniu/Desktop/Education/games.csv')\n",
    "except:\n",
    "    data = pd.read_csv('https://code.s3.yandex.net/datasets/games.csv')"
   ]
  },
  {
   "cell_type": "code",
   "execution_count": 3,
   "metadata": {},
   "outputs": [
    {
     "data": {
      "text/html": [
       "<div>\n",
       "<style scoped>\n",
       "    .dataframe tbody tr th:only-of-type {\n",
       "        vertical-align: middle;\n",
       "    }\n",
       "\n",
       "    .dataframe tbody tr th {\n",
       "        vertical-align: top;\n",
       "    }\n",
       "\n",
       "    .dataframe thead th {\n",
       "        text-align: right;\n",
       "    }\n",
       "</style>\n",
       "<table border=\"1\" class=\"dataframe\">\n",
       "  <thead>\n",
       "    <tr style=\"text-align: right;\">\n",
       "      <th></th>\n",
       "      <th>Name</th>\n",
       "      <th>Platform</th>\n",
       "      <th>Year_of_Release</th>\n",
       "      <th>Genre</th>\n",
       "      <th>NA_sales</th>\n",
       "      <th>EU_sales</th>\n",
       "      <th>JP_sales</th>\n",
       "      <th>Other_sales</th>\n",
       "      <th>Critic_Score</th>\n",
       "      <th>User_Score</th>\n",
       "      <th>Rating</th>\n",
       "    </tr>\n",
       "  </thead>\n",
       "  <tbody>\n",
       "    <tr>\n",
       "      <th>0</th>\n",
       "      <td>Wii Sports</td>\n",
       "      <td>Wii</td>\n",
       "      <td>2006.0</td>\n",
       "      <td>Sports</td>\n",
       "      <td>41.36</td>\n",
       "      <td>28.96</td>\n",
       "      <td>3.77</td>\n",
       "      <td>8.45</td>\n",
       "      <td>76.0</td>\n",
       "      <td>8</td>\n",
       "      <td>E</td>\n",
       "    </tr>\n",
       "    <tr>\n",
       "      <th>1</th>\n",
       "      <td>Super Mario Bros.</td>\n",
       "      <td>NES</td>\n",
       "      <td>1985.0</td>\n",
       "      <td>Platform</td>\n",
       "      <td>29.08</td>\n",
       "      <td>3.58</td>\n",
       "      <td>6.81</td>\n",
       "      <td>0.77</td>\n",
       "      <td>NaN</td>\n",
       "      <td>NaN</td>\n",
       "      <td>NaN</td>\n",
       "    </tr>\n",
       "    <tr>\n",
       "      <th>2</th>\n",
       "      <td>Mario Kart Wii</td>\n",
       "      <td>Wii</td>\n",
       "      <td>2008.0</td>\n",
       "      <td>Racing</td>\n",
       "      <td>15.68</td>\n",
       "      <td>12.76</td>\n",
       "      <td>3.79</td>\n",
       "      <td>3.29</td>\n",
       "      <td>82.0</td>\n",
       "      <td>8.3</td>\n",
       "      <td>E</td>\n",
       "    </tr>\n",
       "    <tr>\n",
       "      <th>3</th>\n",
       "      <td>Wii Sports Resort</td>\n",
       "      <td>Wii</td>\n",
       "      <td>2009.0</td>\n",
       "      <td>Sports</td>\n",
       "      <td>15.61</td>\n",
       "      <td>10.93</td>\n",
       "      <td>3.28</td>\n",
       "      <td>2.95</td>\n",
       "      <td>80.0</td>\n",
       "      <td>8</td>\n",
       "      <td>E</td>\n",
       "    </tr>\n",
       "    <tr>\n",
       "      <th>4</th>\n",
       "      <td>Pokemon Red/Pokemon Blue</td>\n",
       "      <td>GB</td>\n",
       "      <td>1996.0</td>\n",
       "      <td>Role-Playing</td>\n",
       "      <td>11.27</td>\n",
       "      <td>8.89</td>\n",
       "      <td>10.22</td>\n",
       "      <td>1.00</td>\n",
       "      <td>NaN</td>\n",
       "      <td>NaN</td>\n",
       "      <td>NaN</td>\n",
       "    </tr>\n",
       "    <tr>\n",
       "      <th>5</th>\n",
       "      <td>Tetris</td>\n",
       "      <td>GB</td>\n",
       "      <td>1989.0</td>\n",
       "      <td>Puzzle</td>\n",
       "      <td>23.20</td>\n",
       "      <td>2.26</td>\n",
       "      <td>4.22</td>\n",
       "      <td>0.58</td>\n",
       "      <td>NaN</td>\n",
       "      <td>NaN</td>\n",
       "      <td>NaN</td>\n",
       "    </tr>\n",
       "    <tr>\n",
       "      <th>6</th>\n",
       "      <td>New Super Mario Bros.</td>\n",
       "      <td>DS</td>\n",
       "      <td>2006.0</td>\n",
       "      <td>Platform</td>\n",
       "      <td>11.28</td>\n",
       "      <td>9.14</td>\n",
       "      <td>6.50</td>\n",
       "      <td>2.88</td>\n",
       "      <td>89.0</td>\n",
       "      <td>8.5</td>\n",
       "      <td>E</td>\n",
       "    </tr>\n",
       "    <tr>\n",
       "      <th>7</th>\n",
       "      <td>Wii Play</td>\n",
       "      <td>Wii</td>\n",
       "      <td>2006.0</td>\n",
       "      <td>Misc</td>\n",
       "      <td>13.96</td>\n",
       "      <td>9.18</td>\n",
       "      <td>2.93</td>\n",
       "      <td>2.84</td>\n",
       "      <td>58.0</td>\n",
       "      <td>6.6</td>\n",
       "      <td>E</td>\n",
       "    </tr>\n",
       "    <tr>\n",
       "      <th>8</th>\n",
       "      <td>New Super Mario Bros. Wii</td>\n",
       "      <td>Wii</td>\n",
       "      <td>2009.0</td>\n",
       "      <td>Platform</td>\n",
       "      <td>14.44</td>\n",
       "      <td>6.94</td>\n",
       "      <td>4.70</td>\n",
       "      <td>2.24</td>\n",
       "      <td>87.0</td>\n",
       "      <td>8.4</td>\n",
       "      <td>E</td>\n",
       "    </tr>\n",
       "    <tr>\n",
       "      <th>9</th>\n",
       "      <td>Duck Hunt</td>\n",
       "      <td>NES</td>\n",
       "      <td>1984.0</td>\n",
       "      <td>Shooter</td>\n",
       "      <td>26.93</td>\n",
       "      <td>0.63</td>\n",
       "      <td>0.28</td>\n",
       "      <td>0.47</td>\n",
       "      <td>NaN</td>\n",
       "      <td>NaN</td>\n",
       "      <td>NaN</td>\n",
       "    </tr>\n",
       "    <tr>\n",
       "      <th>10</th>\n",
       "      <td>Nintendogs</td>\n",
       "      <td>DS</td>\n",
       "      <td>2005.0</td>\n",
       "      <td>Simulation</td>\n",
       "      <td>9.05</td>\n",
       "      <td>10.95</td>\n",
       "      <td>1.93</td>\n",
       "      <td>2.74</td>\n",
       "      <td>NaN</td>\n",
       "      <td>NaN</td>\n",
       "      <td>NaN</td>\n",
       "    </tr>\n",
       "    <tr>\n",
       "      <th>11</th>\n",
       "      <td>Mario Kart DS</td>\n",
       "      <td>DS</td>\n",
       "      <td>2005.0</td>\n",
       "      <td>Racing</td>\n",
       "      <td>9.71</td>\n",
       "      <td>7.47</td>\n",
       "      <td>4.13</td>\n",
       "      <td>1.90</td>\n",
       "      <td>91.0</td>\n",
       "      <td>8.6</td>\n",
       "      <td>E</td>\n",
       "    </tr>\n",
       "    <tr>\n",
       "      <th>12</th>\n",
       "      <td>Pokemon Gold/Pokemon Silver</td>\n",
       "      <td>GB</td>\n",
       "      <td>1999.0</td>\n",
       "      <td>Role-Playing</td>\n",
       "      <td>9.00</td>\n",
       "      <td>6.18</td>\n",
       "      <td>7.20</td>\n",
       "      <td>0.71</td>\n",
       "      <td>NaN</td>\n",
       "      <td>NaN</td>\n",
       "      <td>NaN</td>\n",
       "    </tr>\n",
       "    <tr>\n",
       "      <th>13</th>\n",
       "      <td>Wii Fit</td>\n",
       "      <td>Wii</td>\n",
       "      <td>2007.0</td>\n",
       "      <td>Sports</td>\n",
       "      <td>8.92</td>\n",
       "      <td>8.03</td>\n",
       "      <td>3.60</td>\n",
       "      <td>2.15</td>\n",
       "      <td>80.0</td>\n",
       "      <td>7.7</td>\n",
       "      <td>E</td>\n",
       "    </tr>\n",
       "    <tr>\n",
       "      <th>14</th>\n",
       "      <td>Kinect Adventures!</td>\n",
       "      <td>X360</td>\n",
       "      <td>2010.0</td>\n",
       "      <td>Misc</td>\n",
       "      <td>15.00</td>\n",
       "      <td>4.89</td>\n",
       "      <td>0.24</td>\n",
       "      <td>1.69</td>\n",
       "      <td>61.0</td>\n",
       "      <td>6.3</td>\n",
       "      <td>E</td>\n",
       "    </tr>\n",
       "    <tr>\n",
       "      <th>15</th>\n",
       "      <td>Wii Fit Plus</td>\n",
       "      <td>Wii</td>\n",
       "      <td>2009.0</td>\n",
       "      <td>Sports</td>\n",
       "      <td>9.01</td>\n",
       "      <td>8.49</td>\n",
       "      <td>2.53</td>\n",
       "      <td>1.77</td>\n",
       "      <td>80.0</td>\n",
       "      <td>7.4</td>\n",
       "      <td>E</td>\n",
       "    </tr>\n",
       "    <tr>\n",
       "      <th>16</th>\n",
       "      <td>Grand Theft Auto V</td>\n",
       "      <td>PS3</td>\n",
       "      <td>2013.0</td>\n",
       "      <td>Action</td>\n",
       "      <td>7.02</td>\n",
       "      <td>9.09</td>\n",
       "      <td>0.98</td>\n",
       "      <td>3.96</td>\n",
       "      <td>97.0</td>\n",
       "      <td>8.2</td>\n",
       "      <td>M</td>\n",
       "    </tr>\n",
       "    <tr>\n",
       "      <th>17</th>\n",
       "      <td>Grand Theft Auto: San Andreas</td>\n",
       "      <td>PS2</td>\n",
       "      <td>2004.0</td>\n",
       "      <td>Action</td>\n",
       "      <td>9.43</td>\n",
       "      <td>0.40</td>\n",
       "      <td>0.41</td>\n",
       "      <td>10.57</td>\n",
       "      <td>95.0</td>\n",
       "      <td>9</td>\n",
       "      <td>M</td>\n",
       "    </tr>\n",
       "    <tr>\n",
       "      <th>18</th>\n",
       "      <td>Super Mario World</td>\n",
       "      <td>SNES</td>\n",
       "      <td>1990.0</td>\n",
       "      <td>Platform</td>\n",
       "      <td>12.78</td>\n",
       "      <td>3.75</td>\n",
       "      <td>3.54</td>\n",
       "      <td>0.55</td>\n",
       "      <td>NaN</td>\n",
       "      <td>NaN</td>\n",
       "      <td>NaN</td>\n",
       "    </tr>\n",
       "    <tr>\n",
       "      <th>19</th>\n",
       "      <td>Brain Age: Train Your Brain in Minutes a Day</td>\n",
       "      <td>DS</td>\n",
       "      <td>2005.0</td>\n",
       "      <td>Misc</td>\n",
       "      <td>4.74</td>\n",
       "      <td>9.20</td>\n",
       "      <td>4.16</td>\n",
       "      <td>2.04</td>\n",
       "      <td>77.0</td>\n",
       "      <td>7.9</td>\n",
       "      <td>E</td>\n",
       "    </tr>\n",
       "  </tbody>\n",
       "</table>\n",
       "</div>"
      ],
      "text/plain": [
       "                                            Name Platform  Year_of_Release  \\\n",
       "0                                     Wii Sports      Wii           2006.0   \n",
       "1                              Super Mario Bros.      NES           1985.0   \n",
       "2                                 Mario Kart Wii      Wii           2008.0   \n",
       "3                              Wii Sports Resort      Wii           2009.0   \n",
       "4                       Pokemon Red/Pokemon Blue       GB           1996.0   \n",
       "5                                         Tetris       GB           1989.0   \n",
       "6                          New Super Mario Bros.       DS           2006.0   \n",
       "7                                       Wii Play      Wii           2006.0   \n",
       "8                      New Super Mario Bros. Wii      Wii           2009.0   \n",
       "9                                      Duck Hunt      NES           1984.0   \n",
       "10                                    Nintendogs       DS           2005.0   \n",
       "11                                 Mario Kart DS       DS           2005.0   \n",
       "12                   Pokemon Gold/Pokemon Silver       GB           1999.0   \n",
       "13                                       Wii Fit      Wii           2007.0   \n",
       "14                            Kinect Adventures!     X360           2010.0   \n",
       "15                                  Wii Fit Plus      Wii           2009.0   \n",
       "16                            Grand Theft Auto V      PS3           2013.0   \n",
       "17                 Grand Theft Auto: San Andreas      PS2           2004.0   \n",
       "18                             Super Mario World     SNES           1990.0   \n",
       "19  Brain Age: Train Your Brain in Minutes a Day       DS           2005.0   \n",
       "\n",
       "           Genre  NA_sales  EU_sales  JP_sales  Other_sales  Critic_Score  \\\n",
       "0         Sports     41.36     28.96      3.77         8.45          76.0   \n",
       "1       Platform     29.08      3.58      6.81         0.77           NaN   \n",
       "2         Racing     15.68     12.76      3.79         3.29          82.0   \n",
       "3         Sports     15.61     10.93      3.28         2.95          80.0   \n",
       "4   Role-Playing     11.27      8.89     10.22         1.00           NaN   \n",
       "5         Puzzle     23.20      2.26      4.22         0.58           NaN   \n",
       "6       Platform     11.28      9.14      6.50         2.88          89.0   \n",
       "7           Misc     13.96      9.18      2.93         2.84          58.0   \n",
       "8       Platform     14.44      6.94      4.70         2.24          87.0   \n",
       "9        Shooter     26.93      0.63      0.28         0.47           NaN   \n",
       "10    Simulation      9.05     10.95      1.93         2.74           NaN   \n",
       "11        Racing      9.71      7.47      4.13         1.90          91.0   \n",
       "12  Role-Playing      9.00      6.18      7.20         0.71           NaN   \n",
       "13        Sports      8.92      8.03      3.60         2.15          80.0   \n",
       "14          Misc     15.00      4.89      0.24         1.69          61.0   \n",
       "15        Sports      9.01      8.49      2.53         1.77          80.0   \n",
       "16        Action      7.02      9.09      0.98         3.96          97.0   \n",
       "17        Action      9.43      0.40      0.41        10.57          95.0   \n",
       "18      Platform     12.78      3.75      3.54         0.55           NaN   \n",
       "19          Misc      4.74      9.20      4.16         2.04          77.0   \n",
       "\n",
       "   User_Score Rating  \n",
       "0           8      E  \n",
       "1         NaN    NaN  \n",
       "2         8.3      E  \n",
       "3           8      E  \n",
       "4         NaN    NaN  \n",
       "5         NaN    NaN  \n",
       "6         8.5      E  \n",
       "7         6.6      E  \n",
       "8         8.4      E  \n",
       "9         NaN    NaN  \n",
       "10        NaN    NaN  \n",
       "11        8.6      E  \n",
       "12        NaN    NaN  \n",
       "13        7.7      E  \n",
       "14        6.3      E  \n",
       "15        7.4      E  \n",
       "16        8.2      M  \n",
       "17          9      M  \n",
       "18        NaN    NaN  \n",
       "19        7.9      E  "
      ]
     },
     "execution_count": 3,
     "metadata": {},
     "output_type": "execute_result"
    }
   ],
   "source": [
    "data.head(20)"
   ]
  },
  {
   "cell_type": "markdown",
   "metadata": {},
   "source": [
    "1. Name — название игры\n",
    "1. Platform — платформа\n",
    "1. Year_of_Release — год выпуска\n",
    "1. Genre — жанр игры\n",
    "1. NA_sales — продажи в Северной Америке (миллионы проданных копий)\n",
    "1. EU_sales — продажи в Европе (миллионы проданных копий)\n",
    "1. JP_sales — продажи в Японии (миллионы проданных копий)\n",
    "1. Other_sales — продажи в других странах (миллионы проданных копий)\n",
    "1. Critic_Score — оценка критиков (максимум 100)\n",
    "User_Score — оценка пользователей (максимум 10)\n",
    "Rating — рейтинг от организации ESRB (англ. Entertainment Software Rating Board). Эта ассоциация определяет рейтинг компьютерных игр и присваивает им подходящую возрастную категорию."
   ]
  },
  {
   "cell_type": "markdown",
   "metadata": {},
   "source": [
    "## Предобработка данных"
   ]
  },
  {
   "cell_type": "code",
   "execution_count": 4,
   "metadata": {},
   "outputs": [
    {
     "name": "stdout",
     "output_type": "stream",
     "text": [
      "<class 'pandas.core.frame.DataFrame'>\n",
      "RangeIndex: 16715 entries, 0 to 16714\n",
      "Data columns (total 11 columns):\n",
      " #   Column           Non-Null Count  Dtype  \n",
      "---  ------           --------------  -----  \n",
      " 0   Name             16713 non-null  object \n",
      " 1   Platform         16715 non-null  object \n",
      " 2   Year_of_Release  16446 non-null  float64\n",
      " 3   Genre            16713 non-null  object \n",
      " 4   NA_sales         16715 non-null  float64\n",
      " 5   EU_sales         16715 non-null  float64\n",
      " 6   JP_sales         16715 non-null  float64\n",
      " 7   Other_sales      16715 non-null  float64\n",
      " 8   Critic_Score     8137 non-null   float64\n",
      " 9   User_Score       10014 non-null  object \n",
      " 10  Rating           9949 non-null   object \n",
      "dtypes: float64(6), object(5)\n",
      "memory usage: 1.4+ MB\n"
     ]
    }
   ],
   "source": [
    "data.info()"
   ]
  },
  {
   "cell_type": "markdown",
   "metadata": {},
   "source": [
    "**Столбцы** имееют корректные названия, но есть буквы верхнего регистра. Заменим на нижние."
   ]
  },
  {
   "cell_type": "code",
   "execution_count": 5,
   "metadata": {},
   "outputs": [],
   "source": [
    "data.columns = data.columns.str.lower()"
   ]
  },
  {
   "cell_type": "markdown",
   "metadata": {},
   "source": [
    "### Пропуски"
   ]
  },
  {
   "cell_type": "code",
   "execution_count": 6,
   "metadata": {},
   "outputs": [
    {
     "data": {
      "text/plain": [
       "name                  2\n",
       "platform              0\n",
       "year_of_release     269\n",
       "genre                 2\n",
       "na_sales              0\n",
       "eu_sales              0\n",
       "jp_sales              0\n",
       "other_sales           0\n",
       "critic_score       8578\n",
       "user_score         6701\n",
       "rating             6766\n",
       "dtype: int64"
      ]
     },
     "execution_count": 6,
     "metadata": {},
     "output_type": "execute_result"
    }
   ],
   "source": [
    "data.isna().sum()"
   ]
  },
  {
   "cell_type": "markdown",
   "metadata": {},
   "source": [
    "В датасете есть 2 записи без названий, 2 без жанра и 269 без даты релиза. Этих данных небольшое количество(<2%). Можно их удалить."
   ]
  },
  {
   "cell_type": "code",
   "execution_count": 7,
   "metadata": {},
   "outputs": [],
   "source": [
    "data = data.dropna(subset=['year_of_release', 'name', 'genre']).reset_index(drop=True)"
   ]
  },
  {
   "cell_type": "markdown",
   "metadata": {},
   "source": [
    "В записях остался рейтинг и оценки с nan. изучим их природу.\n",
    "Количество записей с пропусками сопоставимо друг с другом."
   ]
  },
  {
   "cell_type": "code",
   "execution_count": 8,
   "metadata": {},
   "outputs": [
    {
     "data": {
      "text/html": [
       "<div>\n",
       "<style scoped>\n",
       "    .dataframe tbody tr th:only-of-type {\n",
       "        vertical-align: middle;\n",
       "    }\n",
       "\n",
       "    .dataframe tbody tr th {\n",
       "        vertical-align: top;\n",
       "    }\n",
       "\n",
       "    .dataframe thead th {\n",
       "        text-align: right;\n",
       "    }\n",
       "</style>\n",
       "<table border=\"1\" class=\"dataframe\">\n",
       "  <thead>\n",
       "    <tr style=\"text-align: right;\">\n",
       "      <th></th>\n",
       "      <th>name</th>\n",
       "      <th>platform</th>\n",
       "      <th>year_of_release</th>\n",
       "      <th>genre</th>\n",
       "      <th>na_sales</th>\n",
       "      <th>eu_sales</th>\n",
       "      <th>jp_sales</th>\n",
       "      <th>other_sales</th>\n",
       "      <th>critic_score</th>\n",
       "      <th>user_score</th>\n",
       "      <th>rating</th>\n",
       "    </tr>\n",
       "  </thead>\n",
       "  <tbody>\n",
       "    <tr>\n",
       "      <th>1</th>\n",
       "      <td>Super Mario Bros.</td>\n",
       "      <td>NES</td>\n",
       "      <td>1985.0</td>\n",
       "      <td>Platform</td>\n",
       "      <td>29.08</td>\n",
       "      <td>3.58</td>\n",
       "      <td>6.81</td>\n",
       "      <td>0.77</td>\n",
       "      <td>NaN</td>\n",
       "      <td>NaN</td>\n",
       "      <td>NaN</td>\n",
       "    </tr>\n",
       "    <tr>\n",
       "      <th>4</th>\n",
       "      <td>Pokemon Red/Pokemon Blue</td>\n",
       "      <td>GB</td>\n",
       "      <td>1996.0</td>\n",
       "      <td>Role-Playing</td>\n",
       "      <td>11.27</td>\n",
       "      <td>8.89</td>\n",
       "      <td>10.22</td>\n",
       "      <td>1.00</td>\n",
       "      <td>NaN</td>\n",
       "      <td>NaN</td>\n",
       "      <td>NaN</td>\n",
       "    </tr>\n",
       "    <tr>\n",
       "      <th>5</th>\n",
       "      <td>Tetris</td>\n",
       "      <td>GB</td>\n",
       "      <td>1989.0</td>\n",
       "      <td>Puzzle</td>\n",
       "      <td>23.20</td>\n",
       "      <td>2.26</td>\n",
       "      <td>4.22</td>\n",
       "      <td>0.58</td>\n",
       "      <td>NaN</td>\n",
       "      <td>NaN</td>\n",
       "      <td>NaN</td>\n",
       "    </tr>\n",
       "    <tr>\n",
       "      <th>9</th>\n",
       "      <td>Duck Hunt</td>\n",
       "      <td>NES</td>\n",
       "      <td>1984.0</td>\n",
       "      <td>Shooter</td>\n",
       "      <td>26.93</td>\n",
       "      <td>0.63</td>\n",
       "      <td>0.28</td>\n",
       "      <td>0.47</td>\n",
       "      <td>NaN</td>\n",
       "      <td>NaN</td>\n",
       "      <td>NaN</td>\n",
       "    </tr>\n",
       "    <tr>\n",
       "      <th>10</th>\n",
       "      <td>Nintendogs</td>\n",
       "      <td>DS</td>\n",
       "      <td>2005.0</td>\n",
       "      <td>Simulation</td>\n",
       "      <td>9.05</td>\n",
       "      <td>10.95</td>\n",
       "      <td>1.93</td>\n",
       "      <td>2.74</td>\n",
       "      <td>NaN</td>\n",
       "      <td>NaN</td>\n",
       "      <td>NaN</td>\n",
       "    </tr>\n",
       "    <tr>\n",
       "      <th>...</th>\n",
       "      <td>...</td>\n",
       "      <td>...</td>\n",
       "      <td>...</td>\n",
       "      <td>...</td>\n",
       "      <td>...</td>\n",
       "      <td>...</td>\n",
       "      <td>...</td>\n",
       "      <td>...</td>\n",
       "      <td>...</td>\n",
       "      <td>...</td>\n",
       "      <td>...</td>\n",
       "    </tr>\n",
       "    <tr>\n",
       "      <th>16439</th>\n",
       "      <td>Samurai Warriors: Sanada Maru</td>\n",
       "      <td>PS3</td>\n",
       "      <td>2016.0</td>\n",
       "      <td>Action</td>\n",
       "      <td>0.00</td>\n",
       "      <td>0.00</td>\n",
       "      <td>0.01</td>\n",
       "      <td>0.00</td>\n",
       "      <td>NaN</td>\n",
       "      <td>NaN</td>\n",
       "      <td>NaN</td>\n",
       "    </tr>\n",
       "    <tr>\n",
       "      <th>16440</th>\n",
       "      <td>LMA Manager 2007</td>\n",
       "      <td>X360</td>\n",
       "      <td>2006.0</td>\n",
       "      <td>Sports</td>\n",
       "      <td>0.00</td>\n",
       "      <td>0.01</td>\n",
       "      <td>0.00</td>\n",
       "      <td>0.00</td>\n",
       "      <td>NaN</td>\n",
       "      <td>NaN</td>\n",
       "      <td>NaN</td>\n",
       "    </tr>\n",
       "    <tr>\n",
       "      <th>16441</th>\n",
       "      <td>Haitaka no Psychedelica</td>\n",
       "      <td>PSV</td>\n",
       "      <td>2016.0</td>\n",
       "      <td>Adventure</td>\n",
       "      <td>0.00</td>\n",
       "      <td>0.00</td>\n",
       "      <td>0.01</td>\n",
       "      <td>0.00</td>\n",
       "      <td>NaN</td>\n",
       "      <td>NaN</td>\n",
       "      <td>NaN</td>\n",
       "    </tr>\n",
       "    <tr>\n",
       "      <th>16442</th>\n",
       "      <td>Spirits &amp; Spells</td>\n",
       "      <td>GBA</td>\n",
       "      <td>2003.0</td>\n",
       "      <td>Platform</td>\n",
       "      <td>0.01</td>\n",
       "      <td>0.00</td>\n",
       "      <td>0.00</td>\n",
       "      <td>0.00</td>\n",
       "      <td>NaN</td>\n",
       "      <td>NaN</td>\n",
       "      <td>NaN</td>\n",
       "    </tr>\n",
       "    <tr>\n",
       "      <th>16443</th>\n",
       "      <td>Winning Post 8 2016</td>\n",
       "      <td>PSV</td>\n",
       "      <td>2016.0</td>\n",
       "      <td>Simulation</td>\n",
       "      <td>0.00</td>\n",
       "      <td>0.00</td>\n",
       "      <td>0.01</td>\n",
       "      <td>0.00</td>\n",
       "      <td>NaN</td>\n",
       "      <td>NaN</td>\n",
       "      <td>NaN</td>\n",
       "    </tr>\n",
       "  </tbody>\n",
       "</table>\n",
       "<p>6534 rows × 11 columns</p>\n",
       "</div>"
      ],
      "text/plain": [
       "                                name platform  year_of_release         genre  \\\n",
       "1                  Super Mario Bros.      NES           1985.0      Platform   \n",
       "4           Pokemon Red/Pokemon Blue       GB           1996.0  Role-Playing   \n",
       "5                             Tetris       GB           1989.0        Puzzle   \n",
       "9                          Duck Hunt      NES           1984.0       Shooter   \n",
       "10                        Nintendogs       DS           2005.0    Simulation   \n",
       "...                              ...      ...              ...           ...   \n",
       "16439  Samurai Warriors: Sanada Maru      PS3           2016.0        Action   \n",
       "16440               LMA Manager 2007     X360           2006.0        Sports   \n",
       "16441        Haitaka no Psychedelica      PSV           2016.0     Adventure   \n",
       "16442               Spirits & Spells      GBA           2003.0      Platform   \n",
       "16443            Winning Post 8 2016      PSV           2016.0    Simulation   \n",
       "\n",
       "       na_sales  eu_sales  jp_sales  other_sales  critic_score user_score  \\\n",
       "1         29.08      3.58      6.81         0.77           NaN        NaN   \n",
       "4         11.27      8.89     10.22         1.00           NaN        NaN   \n",
       "5         23.20      2.26      4.22         0.58           NaN        NaN   \n",
       "9         26.93      0.63      0.28         0.47           NaN        NaN   \n",
       "10         9.05     10.95      1.93         2.74           NaN        NaN   \n",
       "...         ...       ...       ...          ...           ...        ...   \n",
       "16439      0.00      0.00      0.01         0.00           NaN        NaN   \n",
       "16440      0.00      0.01      0.00         0.00           NaN        NaN   \n",
       "16441      0.00      0.00      0.01         0.00           NaN        NaN   \n",
       "16442      0.01      0.00      0.00         0.00           NaN        NaN   \n",
       "16443      0.00      0.00      0.01         0.00           NaN        NaN   \n",
       "\n",
       "      rating  \n",
       "1        NaN  \n",
       "4        NaN  \n",
       "5        NaN  \n",
       "9        NaN  \n",
       "10       NaN  \n",
       "...      ...  \n",
       "16439    NaN  \n",
       "16440    NaN  \n",
       "16441    NaN  \n",
       "16442    NaN  \n",
       "16443    NaN  \n",
       "\n",
       "[6534 rows x 11 columns]"
      ]
     },
     "execution_count": 8,
     "metadata": {},
     "output_type": "execute_result"
    }
   ],
   "source": [
    "data[(data['critic_score'].isna()) & (data['rating'].isna()) & (data['user_score'].isna())]"
   ]
  },
  {
   "cell_type": "markdown",
   "metadata": {},
   "source": [
    "Оценки для 6500 игр пропали без вести. Даже для марио :( \n",
    "Вердикт: ошибка выгрузки, может в датасете несколько источников, один из которых не хранит инфу об рейтингах.\n",
    "Заполнение пропусков простыми методами может привести к сильному смещению в данных и ошибках в анализе. \n",
    "\n",
    "Еще в датасете в user_score есть загадочный tbd. Изучим:"
   ]
  },
  {
   "cell_type": "code",
   "execution_count": 9,
   "metadata": {},
   "outputs": [
    {
     "data": {
      "text/html": [
       "<div>\n",
       "<style scoped>\n",
       "    .dataframe tbody tr th:only-of-type {\n",
       "        vertical-align: middle;\n",
       "    }\n",
       "\n",
       "    .dataframe tbody tr th {\n",
       "        vertical-align: top;\n",
       "    }\n",
       "\n",
       "    .dataframe thead th {\n",
       "        text-align: right;\n",
       "    }\n",
       "</style>\n",
       "<table border=\"1\" class=\"dataframe\">\n",
       "  <thead>\n",
       "    <tr style=\"text-align: right;\">\n",
       "      <th></th>\n",
       "      <th>name</th>\n",
       "      <th>platform</th>\n",
       "      <th>year_of_release</th>\n",
       "      <th>genre</th>\n",
       "      <th>na_sales</th>\n",
       "      <th>eu_sales</th>\n",
       "      <th>jp_sales</th>\n",
       "      <th>other_sales</th>\n",
       "      <th>critic_score</th>\n",
       "      <th>user_score</th>\n",
       "      <th>rating</th>\n",
       "    </tr>\n",
       "  </thead>\n",
       "  <tbody>\n",
       "    <tr>\n",
       "      <th>119</th>\n",
       "      <td>Zumba Fitness</td>\n",
       "      <td>Wii</td>\n",
       "      <td>2010.0</td>\n",
       "      <td>Sports</td>\n",
       "      <td>3.45</td>\n",
       "      <td>2.59</td>\n",
       "      <td>0.0</td>\n",
       "      <td>0.66</td>\n",
       "      <td>NaN</td>\n",
       "      <td>tbd</td>\n",
       "      <td>E</td>\n",
       "    </tr>\n",
       "    <tr>\n",
       "      <th>300</th>\n",
       "      <td>Namco Museum: 50th Anniversary</td>\n",
       "      <td>PS2</td>\n",
       "      <td>2005.0</td>\n",
       "      <td>Misc</td>\n",
       "      <td>2.08</td>\n",
       "      <td>1.35</td>\n",
       "      <td>0.0</td>\n",
       "      <td>0.54</td>\n",
       "      <td>61.0</td>\n",
       "      <td>tbd</td>\n",
       "      <td>E10+</td>\n",
       "    </tr>\n",
       "    <tr>\n",
       "      <th>516</th>\n",
       "      <td>Zumba Fitness 2</td>\n",
       "      <td>Wii</td>\n",
       "      <td>2011.0</td>\n",
       "      <td>Sports</td>\n",
       "      <td>1.51</td>\n",
       "      <td>1.03</td>\n",
       "      <td>0.0</td>\n",
       "      <td>0.27</td>\n",
       "      <td>NaN</td>\n",
       "      <td>tbd</td>\n",
       "      <td>T</td>\n",
       "    </tr>\n",
       "    <tr>\n",
       "      <th>639</th>\n",
       "      <td>uDraw Studio</td>\n",
       "      <td>Wii</td>\n",
       "      <td>2010.0</td>\n",
       "      <td>Misc</td>\n",
       "      <td>1.65</td>\n",
       "      <td>0.57</td>\n",
       "      <td>0.0</td>\n",
       "      <td>0.20</td>\n",
       "      <td>71.0</td>\n",
       "      <td>tbd</td>\n",
       "      <td>E</td>\n",
       "    </tr>\n",
       "    <tr>\n",
       "      <th>709</th>\n",
       "      <td>Just Dance Kids</td>\n",
       "      <td>Wii</td>\n",
       "      <td>2010.0</td>\n",
       "      <td>Misc</td>\n",
       "      <td>1.52</td>\n",
       "      <td>0.54</td>\n",
       "      <td>0.0</td>\n",
       "      <td>0.18</td>\n",
       "      <td>NaN</td>\n",
       "      <td>tbd</td>\n",
       "      <td>E</td>\n",
       "    </tr>\n",
       "    <tr>\n",
       "      <th>...</th>\n",
       "      <td>...</td>\n",
       "      <td>...</td>\n",
       "      <td>...</td>\n",
       "      <td>...</td>\n",
       "      <td>...</td>\n",
       "      <td>...</td>\n",
       "      <td>...</td>\n",
       "      <td>...</td>\n",
       "      <td>...</td>\n",
       "      <td>...</td>\n",
       "      <td>...</td>\n",
       "    </tr>\n",
       "    <tr>\n",
       "      <th>16424</th>\n",
       "      <td>Planet Monsters</td>\n",
       "      <td>GBA</td>\n",
       "      <td>2001.0</td>\n",
       "      <td>Action</td>\n",
       "      <td>0.01</td>\n",
       "      <td>0.00</td>\n",
       "      <td>0.0</td>\n",
       "      <td>0.00</td>\n",
       "      <td>67.0</td>\n",
       "      <td>tbd</td>\n",
       "      <td>E</td>\n",
       "    </tr>\n",
       "    <tr>\n",
       "      <th>16426</th>\n",
       "      <td>Bust-A-Move 3000</td>\n",
       "      <td>GC</td>\n",
       "      <td>2003.0</td>\n",
       "      <td>Puzzle</td>\n",
       "      <td>0.01</td>\n",
       "      <td>0.00</td>\n",
       "      <td>0.0</td>\n",
       "      <td>0.00</td>\n",
       "      <td>53.0</td>\n",
       "      <td>tbd</td>\n",
       "      <td>E</td>\n",
       "    </tr>\n",
       "    <tr>\n",
       "      <th>16427</th>\n",
       "      <td>Mega Brain Boost</td>\n",
       "      <td>DS</td>\n",
       "      <td>2008.0</td>\n",
       "      <td>Puzzle</td>\n",
       "      <td>0.01</td>\n",
       "      <td>0.00</td>\n",
       "      <td>0.0</td>\n",
       "      <td>0.00</td>\n",
       "      <td>48.0</td>\n",
       "      <td>tbd</td>\n",
       "      <td>E</td>\n",
       "    </tr>\n",
       "    <tr>\n",
       "      <th>16433</th>\n",
       "      <td>Plushees</td>\n",
       "      <td>DS</td>\n",
       "      <td>2008.0</td>\n",
       "      <td>Simulation</td>\n",
       "      <td>0.01</td>\n",
       "      <td>0.00</td>\n",
       "      <td>0.0</td>\n",
       "      <td>0.00</td>\n",
       "      <td>NaN</td>\n",
       "      <td>tbd</td>\n",
       "      <td>E</td>\n",
       "    </tr>\n",
       "    <tr>\n",
       "      <th>16435</th>\n",
       "      <td>Men in Black II: Alien Escape</td>\n",
       "      <td>GC</td>\n",
       "      <td>2003.0</td>\n",
       "      <td>Shooter</td>\n",
       "      <td>0.01</td>\n",
       "      <td>0.00</td>\n",
       "      <td>0.0</td>\n",
       "      <td>0.00</td>\n",
       "      <td>NaN</td>\n",
       "      <td>tbd</td>\n",
       "      <td>T</td>\n",
       "    </tr>\n",
       "  </tbody>\n",
       "</table>\n",
       "<p>2376 rows × 11 columns</p>\n",
       "</div>"
      ],
      "text/plain": [
       "                                 name platform  year_of_release       genre  \\\n",
       "119                     Zumba Fitness      Wii           2010.0      Sports   \n",
       "300    Namco Museum: 50th Anniversary      PS2           2005.0        Misc   \n",
       "516                   Zumba Fitness 2      Wii           2011.0      Sports   \n",
       "639                      uDraw Studio      Wii           2010.0        Misc   \n",
       "709                   Just Dance Kids      Wii           2010.0        Misc   \n",
       "...                               ...      ...              ...         ...   \n",
       "16424                 Planet Monsters      GBA           2001.0      Action   \n",
       "16426                Bust-A-Move 3000       GC           2003.0      Puzzle   \n",
       "16427                Mega Brain Boost       DS           2008.0      Puzzle   \n",
       "16433                        Plushees       DS           2008.0  Simulation   \n",
       "16435   Men in Black II: Alien Escape       GC           2003.0     Shooter   \n",
       "\n",
       "       na_sales  eu_sales  jp_sales  other_sales  critic_score user_score  \\\n",
       "119        3.45      2.59       0.0         0.66           NaN        tbd   \n",
       "300        2.08      1.35       0.0         0.54          61.0        tbd   \n",
       "516        1.51      1.03       0.0         0.27           NaN        tbd   \n",
       "639        1.65      0.57       0.0         0.20          71.0        tbd   \n",
       "709        1.52      0.54       0.0         0.18           NaN        tbd   \n",
       "...         ...       ...       ...          ...           ...        ...   \n",
       "16424      0.01      0.00       0.0         0.00          67.0        tbd   \n",
       "16426      0.01      0.00       0.0         0.00          53.0        tbd   \n",
       "16427      0.01      0.00       0.0         0.00          48.0        tbd   \n",
       "16433      0.01      0.00       0.0         0.00           NaN        tbd   \n",
       "16435      0.01      0.00       0.0         0.00           NaN        tbd   \n",
       "\n",
       "      rating  \n",
       "119        E  \n",
       "300     E10+  \n",
       "516        T  \n",
       "639        E  \n",
       "709        E  \n",
       "...      ...  \n",
       "16424      E  \n",
       "16426      E  \n",
       "16427      E  \n",
       "16433      E  \n",
       "16435      T  \n",
       "\n",
       "[2376 rows x 11 columns]"
      ]
     },
     "execution_count": 9,
     "metadata": {},
     "output_type": "execute_result"
    }
   ],
   "source": [
    "data[data['user_score'] == 'tbd']"
   ]
  },
  {
   "cell_type": "markdown",
   "metadata": {},
   "source": [
    "Первый раз вижу такие игры, это похоже что-то со дна геймдева. Сравним сумму средних по регионам общих продаж для игр с tbd и остальными."
   ]
  },
  {
   "cell_type": "code",
   "execution_count": 10,
   "metadata": {},
   "outputs": [
    {
     "name": "stdout",
     "output_type": "stream",
     "text": [
      "Сумма средних продаж по регионам \n",
      "с tbd: 0.18789983164983165 \n",
      "без tbd: 0.5948194483935172\n"
     ]
    }
   ],
   "source": [
    "print('Сумма средних продаж по регионам \\nс tbd:', data[data['user_score'] == 'tbd'].iloc[:, 4:-3].mean().sum(),\n",
    "    '\\nбез tbd:', data[data['user_score'] != 'tbd'].iloc[:, 4:-3].mean().sum())"
   ]
  },
  {
   "cell_type": "markdown",
   "metadata": {},
   "source": [
    "в 3 раза меньше. В гугле TBD (to be determined) значит подлежит уточнению. Это похоже на правду: Данные о пользовательских оценках могли быть загружены с источника с открытым голосованием об оценке игры. И что бы избежать смещения рейтинга из-за маленького объема голосов оценка остается закрытой, требующей уточнения. На всякий случай я сохраню отдельным столбцом is_tbd это значение, может оно потом понадобится. А в рейтинге это значение заменю на NaN"
   ]
  },
  {
   "cell_type": "code",
   "execution_count": 11,
   "metadata": {},
   "outputs": [],
   "source": [
    "data['is_tbd'] = data['user_score'] == 'tbd'\n",
    "data.loc[data['user_score'] == 'tbd', 'user_score'] = np.NaN"
   ]
  },
  {
   "cell_type": "markdown",
   "metadata": {},
   "source": [
    "### Типы данных\n",
    "* Year_of_Release - можно привести к int, но лучше в datetime\n",
    "* User_Score - содержит десятичные числа и загадочный tbd. Нужно разобраться со строковым значением и привести столбец к float64"
   ]
  },
  {
   "cell_type": "code",
   "execution_count": 12,
   "metadata": {},
   "outputs": [],
   "source": [
    "\n",
    "\n",
    "try: \n",
    "    data['year_of_release'] = pd.to_datetime(data['year_of_release'], format = '%Y')\n",
    "    data['user_score'] = data['user_score'].astype('float')\n",
    "except ValueError as e:\n",
    "    print('Ошибка преобразования', e)\n"
   ]
  },
  {
   "cell_type": "code",
   "execution_count": 13,
   "metadata": {},
   "outputs": [
    {
     "name": "stdout",
     "output_type": "stream",
     "text": [
      "<class 'pandas.core.frame.DataFrame'>\n",
      "RangeIndex: 16444 entries, 0 to 16443\n",
      "Data columns (total 12 columns):\n",
      " #   Column           Non-Null Count  Dtype         \n",
      "---  ------           --------------  -----         \n",
      " 0   name             16444 non-null  object        \n",
      " 1   platform         16444 non-null  object        \n",
      " 2   year_of_release  16444 non-null  datetime64[ns]\n",
      " 3   genre            16444 non-null  object        \n",
      " 4   na_sales         16444 non-null  float64       \n",
      " 5   eu_sales         16444 non-null  float64       \n",
      " 6   jp_sales         16444 non-null  float64       \n",
      " 7   other_sales      16444 non-null  float64       \n",
      " 8   critic_score     7983 non-null   float64       \n",
      " 9   user_score       7463 non-null   float64       \n",
      " 10  rating           9768 non-null   object        \n",
      " 11  is_tbd           16444 non-null  bool          \n",
      "dtypes: bool(1), datetime64[ns](1), float64(6), object(4)\n",
      "memory usage: 1.4+ MB\n"
     ]
    }
   ],
   "source": [
    "data.info()"
   ]
  },
  {
   "cell_type": "markdown",
   "metadata": {},
   "source": [
    "### Дубликаты"
   ]
  },
  {
   "cell_type": "code",
   "execution_count": 14,
   "metadata": {},
   "outputs": [
    {
     "data": {
      "text/plain": [
       "0"
      ]
     },
     "execution_count": 14,
     "metadata": {},
     "output_type": "execute_result"
    }
   ],
   "source": [
    "data.duplicated().sum()"
   ]
  },
  {
   "cell_type": "code",
   "execution_count": 15,
   "metadata": {},
   "outputs": [
    {
     "data": {
      "text/plain": [
       "array(['Wii', 'NES', 'GB', 'DS', 'X360', 'PS3', 'PS2', 'SNES', 'GBA',\n",
       "       'PS4', '3DS', 'N64', 'PS', 'XB', 'PC', '2600', 'PSP', 'XOne',\n",
       "       'WiiU', 'GC', 'GEN', 'DC', 'PSV', 'SAT', 'SCD', 'WS', 'NG', 'TG16',\n",
       "       '3DO', 'GG', 'PCFX'], dtype=object)"
      ]
     },
     "execution_count": 15,
     "metadata": {},
     "output_type": "execute_result"
    }
   ],
   "source": [
    "data['platform'].unique()"
   ]
  },
  {
   "cell_type": "code",
   "execution_count": 16,
   "metadata": {},
   "outputs": [
    {
     "data": {
      "text/plain": [
       "array(['Sports', 'Platform', 'Racing', 'Role-Playing', 'Puzzle', 'Misc',\n",
       "       'Shooter', 'Simulation', 'Action', 'Fighting', 'Adventure',\n",
       "       'Strategy'], dtype=object)"
      ]
     },
     "execution_count": 16,
     "metadata": {},
     "output_type": "execute_result"
    }
   ],
   "source": [
    "data['genre'].unique()"
   ]
  },
  {
   "cell_type": "markdown",
   "metadata": {},
   "source": [
    "Здесь все хорошо, явных дубликатов нет, жанры и платформы не дублируются."
   ]
  },
  {
   "cell_type": "code",
   "execution_count": 17,
   "metadata": {},
   "outputs": [
    {
     "data": {
      "text/html": [
       "<div>\n",
       "<style scoped>\n",
       "    .dataframe tbody tr th:only-of-type {\n",
       "        vertical-align: middle;\n",
       "    }\n",
       "\n",
       "    .dataframe tbody tr th {\n",
       "        vertical-align: top;\n",
       "    }\n",
       "\n",
       "    .dataframe thead th {\n",
       "        text-align: right;\n",
       "    }\n",
       "</style>\n",
       "<table border=\"1\" class=\"dataframe\">\n",
       "  <thead>\n",
       "    <tr style=\"text-align: right;\">\n",
       "      <th></th>\n",
       "      <th>name</th>\n",
       "      <th>platform</th>\n",
       "      <th>year_of_release</th>\n",
       "      <th>genre</th>\n",
       "      <th>na_sales</th>\n",
       "      <th>eu_sales</th>\n",
       "      <th>jp_sales</th>\n",
       "      <th>other_sales</th>\n",
       "      <th>critic_score</th>\n",
       "      <th>user_score</th>\n",
       "      <th>rating</th>\n",
       "      <th>is_tbd</th>\n",
       "    </tr>\n",
       "  </thead>\n",
       "  <tbody>\n",
       "    <tr>\n",
       "      <th>600</th>\n",
       "      <td>Madden NFL 13</td>\n",
       "      <td>PS3</td>\n",
       "      <td>2012-01-01</td>\n",
       "      <td>Sports</td>\n",
       "      <td>2.11</td>\n",
       "      <td>0.22</td>\n",
       "      <td>0.00</td>\n",
       "      <td>0.23</td>\n",
       "      <td>83.0</td>\n",
       "      <td>5.5</td>\n",
       "      <td>E</td>\n",
       "      <td>False</td>\n",
       "    </tr>\n",
       "    <tr>\n",
       "      <th>1177</th>\n",
       "      <td>Need for Speed: Most Wanted</td>\n",
       "      <td>X360</td>\n",
       "      <td>2012-01-01</td>\n",
       "      <td>Racing</td>\n",
       "      <td>0.62</td>\n",
       "      <td>0.78</td>\n",
       "      <td>0.01</td>\n",
       "      <td>0.15</td>\n",
       "      <td>83.0</td>\n",
       "      <td>8.5</td>\n",
       "      <td>T</td>\n",
       "      <td>False</td>\n",
       "    </tr>\n",
       "    <tr>\n",
       "      <th>1574</th>\n",
       "      <td>Need for Speed: Most Wanted</td>\n",
       "      <td>X360</td>\n",
       "      <td>2005-01-01</td>\n",
       "      <td>Racing</td>\n",
       "      <td>1.00</td>\n",
       "      <td>0.13</td>\n",
       "      <td>0.02</td>\n",
       "      <td>0.10</td>\n",
       "      <td>83.0</td>\n",
       "      <td>8.5</td>\n",
       "      <td>T</td>\n",
       "      <td>False</td>\n",
       "    </tr>\n",
       "    <tr>\n",
       "      <th>5883</th>\n",
       "      <td>Need for Speed: Most Wanted</td>\n",
       "      <td>PC</td>\n",
       "      <td>2005-01-01</td>\n",
       "      <td>Racing</td>\n",
       "      <td>0.02</td>\n",
       "      <td>0.23</td>\n",
       "      <td>0.00</td>\n",
       "      <td>0.04</td>\n",
       "      <td>82.0</td>\n",
       "      <td>8.5</td>\n",
       "      <td>T</td>\n",
       "      <td>False</td>\n",
       "    </tr>\n",
       "    <tr>\n",
       "      <th>11534</th>\n",
       "      <td>Need for Speed: Most Wanted</td>\n",
       "      <td>PC</td>\n",
       "      <td>2012-01-01</td>\n",
       "      <td>Racing</td>\n",
       "      <td>0.00</td>\n",
       "      <td>0.06</td>\n",
       "      <td>0.00</td>\n",
       "      <td>0.02</td>\n",
       "      <td>82.0</td>\n",
       "      <td>8.5</td>\n",
       "      <td>T</td>\n",
       "      <td>False</td>\n",
       "    </tr>\n",
       "    <tr>\n",
       "      <th>15969</th>\n",
       "      <td>Madden NFL 13</td>\n",
       "      <td>PS3</td>\n",
       "      <td>2012-01-01</td>\n",
       "      <td>Sports</td>\n",
       "      <td>0.00</td>\n",
       "      <td>0.01</td>\n",
       "      <td>0.00</td>\n",
       "      <td>0.00</td>\n",
       "      <td>83.0</td>\n",
       "      <td>5.5</td>\n",
       "      <td>E</td>\n",
       "      <td>False</td>\n",
       "    </tr>\n",
       "  </tbody>\n",
       "</table>\n",
       "</div>"
      ],
      "text/plain": [
       "                              name platform year_of_release   genre  na_sales  \\\n",
       "600                  Madden NFL 13      PS3      2012-01-01  Sports      2.11   \n",
       "1177   Need for Speed: Most Wanted     X360      2012-01-01  Racing      0.62   \n",
       "1574   Need for Speed: Most Wanted     X360      2005-01-01  Racing      1.00   \n",
       "5883   Need for Speed: Most Wanted       PC      2005-01-01  Racing      0.02   \n",
       "11534  Need for Speed: Most Wanted       PC      2012-01-01  Racing      0.00   \n",
       "15969                Madden NFL 13      PS3      2012-01-01  Sports      0.00   \n",
       "\n",
       "       eu_sales  jp_sales  other_sales  critic_score  user_score rating  \\\n",
       "600        0.22      0.00         0.23          83.0         5.5      E   \n",
       "1177       0.78      0.01         0.15          83.0         8.5      T   \n",
       "1574       0.13      0.02         0.10          83.0         8.5      T   \n",
       "5883       0.23      0.00         0.04          82.0         8.5      T   \n",
       "11534      0.06      0.00         0.02          82.0         8.5      T   \n",
       "15969      0.01      0.00         0.00          83.0         5.5      E   \n",
       "\n",
       "       is_tbd  \n",
       "600     False  \n",
       "1177    False  \n",
       "1574    False  \n",
       "5883    False  \n",
       "11534   False  \n",
       "15969   False  "
      ]
     },
     "execution_count": 17,
     "metadata": {},
     "output_type": "execute_result"
    }
   ],
   "source": [
    "data[(data['name']+data['platform']).duplicated(keep=False) == True]"
   ]
  },
  {
   "cell_type": "markdown",
   "metadata": {},
   "source": [
    "Есть маленькие несостыковки: К культовому NFS MW пристала жалкая пародия 2012 года. Имя ей Most Wanted 2.\n",
    "А вот Madden NFL 13 похоже имеет повтор. На нем 10000 продаж. Удалю, данным не повредит"
   ]
  },
  {
   "cell_type": "code",
   "execution_count": 18,
   "metadata": {},
   "outputs": [],
   "source": [
    "data.loc[(data['name'] == 'Need for Speed: Most Wanted') & (data['year_of_release'] == '2012'), 'name'] = 'Need for Speed: Most Wanted 2'\n",
    "try:\n",
    "    data = data.drop(15969)\n",
    "except:\n",
    "    print('Значения не найдено')\n",
    "data = data.reset_index(drop=True)"
   ]
  },
  {
   "cell_type": "code",
   "execution_count": 19,
   "metadata": {},
   "outputs": [
    {
     "data": {
      "text/plain": [
       "E       3920\n",
       "T       2905\n",
       "M       1536\n",
       "E10+    1393\n",
       "EC         8\n",
       "K-A        3\n",
       "RP         1\n",
       "AO         1\n",
       "Name: rating, dtype: int64"
      ]
     },
     "execution_count": 19,
     "metadata": {},
     "output_type": "execute_result"
    }
   ],
   "source": [
    "data['rating'].value_counts()"
   ]
  },
  {
   "cell_type": "markdown",
   "metadata": {},
   "source": [
    "В рейтинге имееются группы с малыми значениями а так-же К-А - kids-to-adults, нынче имеет категорию E "
   ]
  },
  {
   "cell_type": "code",
   "execution_count": 20,
   "metadata": {},
   "outputs": [],
   "source": [
    "data.loc[data['rating'] == 'K-A', 'rating'] = 'E'"
   ]
  },
  {
   "cell_type": "markdown",
   "metadata": {},
   "source": [
    "### Total_sales"
   ]
  },
  {
   "cell_type": "code",
   "execution_count": 21,
   "metadata": {
    "scrolled": true
   },
   "outputs": [
    {
     "data": {
      "text/html": [
       "<div>\n",
       "<style scoped>\n",
       "    .dataframe tbody tr th:only-of-type {\n",
       "        vertical-align: middle;\n",
       "    }\n",
       "\n",
       "    .dataframe tbody tr th {\n",
       "        vertical-align: top;\n",
       "    }\n",
       "\n",
       "    .dataframe thead th {\n",
       "        text-align: right;\n",
       "    }\n",
       "</style>\n",
       "<table border=\"1\" class=\"dataframe\">\n",
       "  <thead>\n",
       "    <tr style=\"text-align: right;\">\n",
       "      <th></th>\n",
       "      <th>name</th>\n",
       "      <th>platform</th>\n",
       "      <th>year_of_release</th>\n",
       "      <th>genre</th>\n",
       "      <th>na_sales</th>\n",
       "      <th>eu_sales</th>\n",
       "      <th>jp_sales</th>\n",
       "      <th>other_sales</th>\n",
       "      <th>critic_score</th>\n",
       "      <th>user_score</th>\n",
       "      <th>rating</th>\n",
       "      <th>is_tbd</th>\n",
       "      <th>total_sales</th>\n",
       "    </tr>\n",
       "  </thead>\n",
       "  <tbody>\n",
       "    <tr>\n",
       "      <th>0</th>\n",
       "      <td>Wii Sports</td>\n",
       "      <td>Wii</td>\n",
       "      <td>2006-01-01</td>\n",
       "      <td>Sports</td>\n",
       "      <td>41.36</td>\n",
       "      <td>28.96</td>\n",
       "      <td>3.77</td>\n",
       "      <td>8.45</td>\n",
       "      <td>76.0</td>\n",
       "      <td>8.0</td>\n",
       "      <td>E</td>\n",
       "      <td>False</td>\n",
       "      <td>82.54</td>\n",
       "    </tr>\n",
       "    <tr>\n",
       "      <th>1</th>\n",
       "      <td>Super Mario Bros.</td>\n",
       "      <td>NES</td>\n",
       "      <td>1985-01-01</td>\n",
       "      <td>Platform</td>\n",
       "      <td>29.08</td>\n",
       "      <td>3.58</td>\n",
       "      <td>6.81</td>\n",
       "      <td>0.77</td>\n",
       "      <td>NaN</td>\n",
       "      <td>NaN</td>\n",
       "      <td>NaN</td>\n",
       "      <td>False</td>\n",
       "      <td>40.24</td>\n",
       "    </tr>\n",
       "    <tr>\n",
       "      <th>2</th>\n",
       "      <td>Mario Kart Wii</td>\n",
       "      <td>Wii</td>\n",
       "      <td>2008-01-01</td>\n",
       "      <td>Racing</td>\n",
       "      <td>15.68</td>\n",
       "      <td>12.76</td>\n",
       "      <td>3.79</td>\n",
       "      <td>3.29</td>\n",
       "      <td>82.0</td>\n",
       "      <td>8.3</td>\n",
       "      <td>E</td>\n",
       "      <td>False</td>\n",
       "      <td>35.52</td>\n",
       "    </tr>\n",
       "    <tr>\n",
       "      <th>3</th>\n",
       "      <td>Wii Sports Resort</td>\n",
       "      <td>Wii</td>\n",
       "      <td>2009-01-01</td>\n",
       "      <td>Sports</td>\n",
       "      <td>15.61</td>\n",
       "      <td>10.93</td>\n",
       "      <td>3.28</td>\n",
       "      <td>2.95</td>\n",
       "      <td>80.0</td>\n",
       "      <td>8.0</td>\n",
       "      <td>E</td>\n",
       "      <td>False</td>\n",
       "      <td>32.77</td>\n",
       "    </tr>\n",
       "    <tr>\n",
       "      <th>4</th>\n",
       "      <td>Pokemon Red/Pokemon Blue</td>\n",
       "      <td>GB</td>\n",
       "      <td>1996-01-01</td>\n",
       "      <td>Role-Playing</td>\n",
       "      <td>11.27</td>\n",
       "      <td>8.89</td>\n",
       "      <td>10.22</td>\n",
       "      <td>1.00</td>\n",
       "      <td>NaN</td>\n",
       "      <td>NaN</td>\n",
       "      <td>NaN</td>\n",
       "      <td>False</td>\n",
       "      <td>31.38</td>\n",
       "    </tr>\n",
       "  </tbody>\n",
       "</table>\n",
       "</div>"
      ],
      "text/plain": [
       "                       name platform year_of_release         genre  na_sales  \\\n",
       "0                Wii Sports      Wii      2006-01-01        Sports     41.36   \n",
       "1         Super Mario Bros.      NES      1985-01-01      Platform     29.08   \n",
       "2            Mario Kart Wii      Wii      2008-01-01        Racing     15.68   \n",
       "3         Wii Sports Resort      Wii      2009-01-01        Sports     15.61   \n",
       "4  Pokemon Red/Pokemon Blue       GB      1996-01-01  Role-Playing     11.27   \n",
       "\n",
       "   eu_sales  jp_sales  other_sales  critic_score  user_score rating  is_tbd  \\\n",
       "0     28.96      3.77         8.45          76.0         8.0      E   False   \n",
       "1      3.58      6.81         0.77           NaN         NaN    NaN   False   \n",
       "2     12.76      3.79         3.29          82.0         8.3      E   False   \n",
       "3     10.93      3.28         2.95          80.0         8.0      E   False   \n",
       "4      8.89     10.22         1.00           NaN         NaN    NaN   False   \n",
       "\n",
       "   total_sales  \n",
       "0        82.54  \n",
       "1        40.24  \n",
       "2        35.52  \n",
       "3        32.77  \n",
       "4        31.38  "
      ]
     },
     "execution_count": 21,
     "metadata": {},
     "output_type": "execute_result"
    }
   ],
   "source": [
    "data['total_sales'] = data.iloc[:, 4:8].apply('sum', axis = 1)\n",
    "data.head()"
   ]
  },
  {
   "cell_type": "markdown",
   "metadata": {},
   "source": [
    "## Исследовательский анализ данных"
   ]
  },
  {
   "cell_type": "code",
   "execution_count": 22,
   "metadata": {},
   "outputs": [
    {
     "data": {
      "image/png": "[encoded data removed]",
      "text/plain": [
       "<Figure size 432x288 with 1 Axes>"
      ]
     },
     "metadata": {
      "needs_background": "light"
     },
     "output_type": "display_data"
    }
   ],
   "source": [
    "data.groupby('year_of_release')['name'].count().plot(\n",
    "    title = 'Количество игр выпущенных по годам',\n",
    "    xlabel=''\n",
    ");"
   ]
  },
  {
   "cell_type": "markdown",
   "metadata": {},
   "source": [
    "На графике виден пик выпущенных игр в 2008 году, потом индустрия пошла на спад. "
   ]
  },
  {
   "cell_type": "code",
   "execution_count": 23,
   "metadata": {},
   "outputs": [],
   "source": [
    "\n",
    "top_platform = list(data.groupby(['platform'])['total_sales'].sum().sort_values(ascending=False)[:20].index) #Собираем популярные платформы\n",
    "by_platform_year = data.query('(platform in @top_platform) and (year_of_release > 1994)') #Отбрасываем непопулярные платформы и ранние продажи"
   ]
  },
  {
   "cell_type": "code",
   "execution_count": 24,
   "metadata": {},
   "outputs": [],
   "source": [
    "by_platform_year = by_platform_year.groupby(['year_of_release','platform'])['total_sales'].sum()"
   ]
  },
  {
   "cell_type": "code",
   "execution_count": 25,
   "metadata": {},
   "outputs": [
    {
     "data": {
      "image/png": "[encoded data removed]",
      "text/plain": [
       "<Figure size 720x432 with 1 Axes>"
      ]
     },
     "metadata": {
      "needs_background": "light"
     },
     "output_type": "display_data"
    }
   ],
   "source": [
    "by_platform_year.unstack().plot(\n",
    "    figsize=(10,6),\n",
    "    xlabel='',\n",
    "    title='Количество проданных игр по годам для популярных платформ'\n",
    ");"
   ]
  },
  {
   "cell_type": "markdown",
   "metadata": {},
   "source": [
    "Срок жизни платформы 5-10 лет. На графике видны границы смены поколений (примерно 2000, 2006, 2013) консолей. С 2013 на рынке оказались XOne и PS4. Их можно принять за консоли нового поколения, и считать их амбоссадорами. Все ранние консоли не покажут продаж в 2017. Для 2016 года виден подозрительный спад продаж. Возможно данные содержат не полное количество продаж за 2016 год."
   ]
  },
  {
   "cell_type": "markdown",
   "metadata": {},
   "source": [
    "### Актуальный период"
   ]
  },
  {
   "cell_type": "markdown",
   "metadata": {},
   "source": [
    "Для прогноза на 2017 было-бы разумно полагаться на тенденции последних 3-х лет. Но так-же стоит обратить внимание на показатели продаж предыдущего поколения: какие платформы были более популярны, появились ли новые поколения этих платформ.\n",
    "Посмотрим на такой-же график в разрезе последних 3-х лет:"
   ]
  },
  {
   "cell_type": "code",
   "execution_count": 26,
   "metadata": {},
   "outputs": [
    {
     "data": {
      "image/png": "[encoded data removed]",
      "text/plain": [
       "<Figure size 720x432 with 1 Axes>"
      ]
     },
     "metadata": {
      "needs_background": "light"
     },
     "output_type": "display_data"
    }
   ],
   "source": [
    "actual_frame = data.query('(year_of_release >= 2013)')\n",
    "actual_frame\\\n",
    "    .groupby(['year_of_release','platform'])['total_sales'].sum()\\\n",
    "    .unstack().plot(\n",
    "    figsize=(10,6),\n",
    "    xlabel='',\n",
    "    title='Количество проданных игр c 2013 для популярных платформ'\n",
    ");"
   ]
  },
  {
   "cell_type": "markdown",
   "metadata": {},
   "source": [
    "### Фавориты актуального периода"
   ]
  },
  {
   "cell_type": "code",
   "execution_count": 27,
   "metadata": {},
   "outputs": [
    {
     "data": {
      "image/png": "[encoded data removed]",
      "text/plain": [
       "<Figure size 432x288 with 1 Axes>"
      ]
     },
     "metadata": {
      "needs_background": "light"
     },
     "output_type": "display_data"
    }
   ],
   "source": [
    "actual_frame\\\n",
    ".groupby(by='platform')['total_sales'].sum()\\\n",
    ".reset_index().plot\\\n",
    "    .bar(x='platform',\n",
    "         xlabel='Платформа',\n",
    "         legend=None,\n",
    "         title='Количество продаж по платформам');"
   ]
  },
  {
   "cell_type": "markdown",
   "metadata": {},
   "source": [
    "Всего в актуальном периоде имеется 10 платформ, 5 из них занимают основной рынок. "
   ]
  },
  {
   "cell_type": "code",
   "execution_count": 28,
   "metadata": {},
   "outputs": [
    {
     "data": {
      "image/png": "[encoded data removed]",
      "text/plain": [
       "<Figure size 576x432 with 1 Axes>"
      ]
     },
     "metadata": {
      "needs_background": "light"
     },
     "output_type": "display_data"
    }
   ],
   "source": [
    "actual_frame.groupby(['platform', 'year_of_release']).agg(delta=('total_sales', 'sum')).unstack().plot.bar(figsize=(8,6));"
   ]
  },
  {
   "cell_type": "markdown",
   "metadata": {},
   "source": [
    "Среди растущих платформ есть только PS4 и XOne. В 2016 данные как-будто только за полгода."
   ]
  },
  {
   "cell_type": "markdown",
   "metadata": {},
   "source": [
    "<div class=\"alert alert-success\">\n",
    "<b>Комментарий с комплиментом ревьюера:</b> \n",
    "\n",
    "Хороший аналитический анализ. Да мы имеем неполные данные за 2016 год. \n"
   ]
  },
  {
   "cell_type": "markdown",
   "metadata": {},
   "source": [
    "### Ящик с усами"
   ]
  },
  {
   "cell_type": "code",
   "execution_count": 29,
   "metadata": {},
   "outputs": [
    {
     "data": {
      "image/png": "[encoded data removed]",
      "text/plain": [
       "<Figure size 1440x432 with 1 Axes>"
      ]
     },
     "metadata": {
      "needs_background": "light"
     },
     "output_type": "display_data"
    }
   ],
   "source": [
    "actual_frame.pivot_table(index='name', columns='platform', values='total_sales', aggfunc='sum').plot(kind='box', vert=False, figsize=(20,6), xlim=(0,4), xlabel='Количество продаж (млн)');"
   ]
  },
  {
   "cell_type": "markdown",
   "metadata": {},
   "source": [
    "Sony vs Microsoft: У настольных платформ Сони есть много выбросов но при этом медиана остается левее платформ Микрософт. Сони, видимо, имеет больше эксклюзивных игр, которые выбиваются из максимума, на платформе XBox объем покупок между играми распределен более равномерно.\n",
    "\n",
    "Нинтендо 3DS так-же показывает много выбросов. Платформа, похоже, держится именно на таких играх."
   ]
  },
  {
   "cell_type": "markdown",
   "metadata": {},
   "source": [
    "### Влияние отзывов на продажи "
   ]
  },
  {
   "cell_type": "code",
   "execution_count": 30,
   "metadata": {},
   "outputs": [
    {
     "data": {
      "image/png": "[encoded data removed]",
      "text/plain": [
       "<Figure size 432x288 with 1 Axes>"
      ]
     },
     "metadata": {
      "needs_background": "light"
     },
     "output_type": "display_data"
    },
    {
     "data": {
      "image/png": "[encoded data removed]",
      "text/plain": [
       "<Figure size 432x288 with 1 Axes>"
      ]
     },
     "metadata": {
      "needs_background": "light"
     },
     "output_type": "display_data"
    }
   ],
   "source": [
    "actual_frame[actual_frame['platform'] == 'PS4'].plot(kind='scatter', x='user_score', y='total_sales', title='Отзывы пользователей', ylim=(0,7));\n",
    "plt.show()\n",
    "actual_frame[actual_frame['platform'] == 'PS4'].plot(kind='scatter', x='critic_score', y='total_sales', title='Отзывы критиков',ylim=(0,7));"
   ]
  },
  {
   "cell_type": "code",
   "execution_count": 31,
   "metadata": {},
   "outputs": [
    {
     "data": {
      "text/html": [
       "<div>\n",
       "<style scoped>\n",
       "    .dataframe tbody tr th:only-of-type {\n",
       "        vertical-align: middle;\n",
       "    }\n",
       "\n",
       "    .dataframe tbody tr th {\n",
       "        vertical-align: top;\n",
       "    }\n",
       "\n",
       "    .dataframe thead th {\n",
       "        text-align: right;\n",
       "    }\n",
       "</style>\n",
       "<table border=\"1\" class=\"dataframe\">\n",
       "  <thead>\n",
       "    <tr style=\"text-align: right;\">\n",
       "      <th></th>\n",
       "      <th>critic_score</th>\n",
       "      <th>user_score</th>\n",
       "      <th>total_sales</th>\n",
       "    </tr>\n",
       "  </thead>\n",
       "  <tbody>\n",
       "    <tr>\n",
       "      <th>critic_score</th>\n",
       "      <td>1.000000</td>\n",
       "      <td>0.502221</td>\n",
       "      <td>0.313700</td>\n",
       "    </tr>\n",
       "    <tr>\n",
       "      <th>user_score</th>\n",
       "      <td>0.502221</td>\n",
       "      <td>1.000000</td>\n",
       "      <td>-0.002608</td>\n",
       "    </tr>\n",
       "    <tr>\n",
       "      <th>total_sales</th>\n",
       "      <td>0.313700</td>\n",
       "      <td>-0.002608</td>\n",
       "      <td>1.000000</td>\n",
       "    </tr>\n",
       "  </tbody>\n",
       "</table>\n",
       "</div>"
      ],
      "text/plain": [
       "              critic_score  user_score  total_sales\n",
       "critic_score      1.000000    0.502221     0.313700\n",
       "user_score        0.502221    1.000000    -0.002608\n",
       "total_sales       0.313700   -0.002608     1.000000"
      ]
     },
     "execution_count": 31,
     "metadata": {},
     "output_type": "execute_result"
    }
   ],
   "source": [
    "actual_frame[['critic_score', 'user_score', 'total_sales']].corr()"
   ]
  },
  {
   "cell_type": "markdown",
   "metadata": {},
   "source": [
    "Графики распределения показывают что критики более точны в своих оценках: Ни одна игра не разошлась миллионным тиражем с низким рейтингом. Но не всякая игра с высоким рейтином набирает хотя-бы один миллион покупок.\n",
    "Среди пользователелей в целом распределение более свободное. Это значит что пользователи свободны и эмоциональны в оценках. Но и авторитет у них невысок. Корреляции в оценках пользователей нет. А среди оценок критиков корреляция 30%. При этом мнения критиков и пользователей сходятся примерно в половине случаев :)"
   ]
  },
  {
   "cell_type": "code",
   "execution_count": 32,
   "metadata": {},
   "outputs": [
    {
     "name": "stdout",
     "output_type": "stream",
     "text": [
      "Корреляция по платформе  PS4\n",
      "              critic_score  user_score  total_sales\n",
      "critic_score      1.000000    0.557654     0.406568\n",
      "user_score        0.557654    1.000000    -0.031957\n",
      "total_sales       0.406568   -0.031957     1.000000 \n",
      "\n",
      "Корреляция по платформе  PSV\n",
      "              critic_score  user_score  total_sales\n",
      "critic_score      1.000000    0.611521     0.254742\n",
      "user_score        0.611521    1.000000     0.000942\n",
      "total_sales       0.254742    0.000942     1.000000 \n",
      "\n",
      "Корреляция по платформе  PS3\n",
      "              critic_score  user_score  total_sales\n",
      "critic_score      1.000000    0.599920     0.334285\n",
      "user_score        0.599920    1.000000     0.002394\n",
      "total_sales       0.334285    0.002394     1.000000 \n",
      "\n",
      "Корреляция по платформе  3DS\n",
      "              critic_score  user_score  total_sales\n",
      "critic_score      1.000000    0.769536     0.357057\n",
      "user_score        0.769536    1.000000     0.241504\n",
      "total_sales       0.357057    0.241504     1.000000 \n",
      "\n",
      "Корреляция по платформе  XOne\n",
      "              critic_score  user_score  total_sales\n",
      "critic_score      1.000000    0.472462     0.416998\n",
      "user_score        0.472462    1.000000    -0.068925\n",
      "total_sales       0.416998   -0.068925     1.000000 \n",
      "\n"
     ]
    }
   ],
   "source": [
    "for platform in actual_frame['platform'].value_counts().index[:5]:\n",
    "    print ('Корреляция по платформе ', platform)\n",
    "    print(actual_frame[actual_frame['platform'] == platform][['critic_score', 'user_score', 'total_sales']].corr(), '\\n')"
   ]
  },
  {
   "cell_type": "markdown",
   "metadata": {},
   "source": [
    "### Распределение игр по жанрам"
   ]
  },
  {
   "cell_type": "markdown",
   "metadata": {},
   "source": [
    "\n",
    "\n",
    "Посмотрите на общее распределение игр по жанрам. \n",
    "Что можно сказать о самых прибыльных жанрах? \n",
    "Выделяются ли жанры с высокими и низкими продажами?"
   ]
  },
  {
   "cell_type": "code",
   "execution_count": 33,
   "metadata": {},
   "outputs": [
    {
     "data": {
      "image/png": "[encoded data removed]",
      "text/plain": [
       "<Figure size 432x288 with 1 Axes>"
      ]
     },
     "metadata": {
      "needs_background": "light"
     },
     "output_type": "display_data"
    }
   ],
   "source": [
    "\n",
    "actual_frame.pivot_table(index='genre', values='total_sales', aggfunc=('count', 'sum')).sort_values(by='sum', ascending=False).plot.bar();"
   ]
  },
  {
   "cell_type": "markdown",
   "metadata": {},
   "source": [
    "Экшн, шутер, спорт - самые активные, с быстрым геймплеем игры. Продаются они больше всего. Замыкают рейтинг медленные, медитативные игры. Продаются мало, денег не много. \n",
    "\n",
    "* Среди жанра приключения очень много игр с малым количеством покупок.\n",
    "* Среди шутеров невероятный ажиотаж: на количество игр пропорциональное число покупок большое. Наверное там правит серия Call of Duty"
   ]
  },
  {
   "cell_type": "code",
   "execution_count": 34,
   "metadata": {},
   "outputs": [
    {
     "data": {
      "image/png": "[encoded data removed]",
      "text/plain": [
       "<Figure size 432x288 with 1 Axes>"
      ]
     },
     "metadata": {
      "needs_background": "light"
     },
     "output_type": "display_data"
    }
   ],
   "source": [
    "\n",
    "actual_frame.pivot_table(index='genre', values='total_sales', aggfunc=('mean', 'median')).sort_values(by='median', ascending=False).plot.bar();"
   ]
  },
  {
   "cell_type": "markdown",
   "metadata": {},
   "source": [
    "## Портрет пользователя по региону"
   ]
  },
  {
   "cell_type": "code",
   "execution_count": 35,
   "metadata": {},
   "outputs": [],
   "source": [
    "platform_by_region = actual_frame.pivot_table(index='platform', values=['na_sales', 'eu_sales', 'jp_sales'], aggfunc='sum')\n",
    "genre_by_region = actual_frame.pivot_table(index='genre', values=['na_sales', 'eu_sales', 'jp_sales'], aggfunc='sum')\n",
    "rating_by_region = actual_frame.pivot_table(index='rating', values=['na_sales', 'eu_sales', 'jp_sales'], aggfunc='sum')"
   ]
  },
  {
   "cell_type": "markdown",
   "metadata": {},
   "source": [
    "### Платформы"
   ]
  },
  {
   "cell_type": "code",
   "execution_count": 36,
   "metadata": {},
   "outputs": [
    {
     "data": {
      "image/png": "[encoded data removed]",
      "text/plain": [
       "<Figure size 432x180 with 1 Axes>"
      ]
     },
     "metadata": {
      "needs_background": "light"
     },
     "output_type": "display_data"
    },
    {
     "data": {
      "image/png": "[encoded data removed]",
      "text/plain": [
       "<Figure size 432x180 with 1 Axes>"
      ]
     },
     "metadata": {
      "needs_background": "light"
     },
     "output_type": "display_data"
    },
    {
     "data": {
      "image/png": "[encoded data removed]",
      "text/plain": [
       "<Figure size 432x180 with 1 Axes>"
      ]
     },
     "metadata": {
      "needs_background": "light"
     },
     "output_type": "display_data"
    }
   ],
   "source": [
    "for column in platform_by_region.columns:\n",
    "    platform_by_region.sort_values(by = column).tail(5).plot.barh(y = column, figsize=(6,2.5), ylabel = '', legend = None, title = column)"
   ]
  },
  {
   "cell_type": "markdown",
   "metadata": {},
   "source": [
    "* Европа: пользователи европы используют платформы как Японских, так и Американских брендов.\n",
    "* Япония. На японском рынке игр преобладают платформы брендов своего региона. Видно, что основная доля консолиий - портативный сегмент. Настольные консоли не так сильно проникли в массы. \n",
    "* В Америке сильнее преобладают консоли от Микрософт, чем в других регионах.\n",
    "\n",
    "Консоли нового поколения получили распостранение в Европе и Америке. Свой иксбокс американцы приняли теплее чем европейцы."
   ]
  },
  {
   "cell_type": "markdown",
   "metadata": {},
   "source": [
    "### Жанры"
   ]
  },
  {
   "cell_type": "code",
   "execution_count": 37,
   "metadata": {},
   "outputs": [
    {
     "data": {
      "image/png": "[encoded data removed]",
      "text/plain": [
       "<Figure size 432x180 with 1 Axes>"
      ]
     },
     "metadata": {
      "needs_background": "light"
     },
     "output_type": "display_data"
    },
    {
     "data": {
      "image/png": "[encoded data removed]",
      "text/plain": [
       "<Figure size 432x180 with 1 Axes>"
      ]
     },
     "metadata": {
      "needs_background": "light"
     },
     "output_type": "display_data"
    },
    {
     "data": {
      "image/png": "[encoded data removed]",
      "text/plain": [
       "<Figure size 432x180 with 1 Axes>"
      ]
     },
     "metadata": {
      "needs_background": "light"
     },
     "output_type": "display_data"
    }
   ],
   "source": [
    "for column in genre_by_region.columns:\n",
    "    genre_by_region.sort_values(by = column).tail(5).plot.barh(y = column, figsize=(6,2.5), ylabel = '', legend = None, title = column)"
   ]
  },
  {
   "cell_type": "markdown",
   "metadata": {},
   "source": [
    "У Американцев и Европейцев почти полностью сходятся предпочтения по жанрам: экшн, шутер, спортивные - самые продаваемые. В Японии препочтение отдают ролевым играм и экшену. Японская культура оказывает сильное влияние на игровые предпочтения."
   ]
  },
  {
   "cell_type": "markdown",
   "metadata": {},
   "source": [
    "### Рейтинг"
   ]
  },
  {
   "cell_type": "code",
   "execution_count": 38,
   "metadata": {},
   "outputs": [
    {
     "data": {
      "image/png": "[encoded data removed]",
      "text/plain": [
       "<Figure size 432x180 with 1 Axes>"
      ]
     },
     "metadata": {
      "needs_background": "light"
     },
     "output_type": "display_data"
    },
    {
     "data": {
      "image/png": "[encoded data removed]",
      "text/plain": [
       "<Figure size 432x180 with 1 Axes>"
      ]
     },
     "metadata": {
      "needs_background": "light"
     },
     "output_type": "display_data"
    },
    {
     "data": {
      "image/png": "[encoded data removed]",
      "text/plain": [
       "<Figure size 432x180 with 1 Axes>"
      ]
     },
     "metadata": {
      "needs_background": "light"
     },
     "output_type": "display_data"
    }
   ],
   "source": [
    "rating_by_region\n",
    "for column in rating_by_region.columns:\n",
    "    rating_by_region.plot.barh(y = column, figsize=(6,2.5), ylabel = '', legend = None, title = column)"
   ]
  },
  {
   "cell_type": "markdown",
   "metadata": {},
   "source": [
    "Тут так-же прослеживается общая картина у Американцев и Европейцев. Любовь к шутерам возводит рейтинг М (17+) сильно вверх.\n",
    "В Японии основной игрок - тинейджер"
   ]
  },
  {
   "cell_type": "markdown",
   "metadata": {},
   "source": [
    "## Гипотезы"
   ]
  },
  {
   "cell_type": "markdown",
   "metadata": {},
   "source": [
    "### Гипотеза 1\n",
    "Нулевая гипотеза звучит так: Средние пользовательские рейтинги платформ Xbox One и PC одинаковые\n",
    "\n",
    "Обратная: Средние пользовательские рейтинги платформ Xbox One и PC не одинаковые\n",
    "\n",
    "Для проверки гипотезы будут представлены две совокупности, проверка будет осуществлена с помощью независимого двухвыборочного t-теста"
   ]
  },
  {
   "cell_type": "code",
   "execution_count": 39,
   "metadata": {},
   "outputs": [
    {
     "name": "stdout",
     "output_type": "stream",
     "text": [
      "0.14012658403611647\n",
      "Не получилось отвергнуть нулевую гипотезу\n"
     ]
    }
   ],
   "source": [
    "# results = вызов метода для проверки гипотезы\n",
    "results = st.ttest_ind(\n",
    "    actual_frame.loc[actual_frame['platform'] ==  'PC','user_score'].dropna(), \n",
    "    actual_frame.loc[actual_frame['platform'] ==  'XOne', 'user_score'].dropna(),\n",
    "    equal_var = True)\n",
    "# alpha = задайте значение уровня значимости\n",
    "alpha = .05\n",
    "# вывод значения p-value на экран \n",
    "print(results.pvalue)\n",
    "# условный оператор с выводом строки с ответом\n",
    "if results.pvalue < alpha:\n",
    "    print('Отвергаем нулевую гипотезу')\n",
    "else:\n",
    "    print('Не получилось отвергнуть нулевую гипотезу') "
   ]
  },
  {
   "cell_type": "markdown",
   "metadata": {},
   "source": [
    "Если сравнивать набор данных актуального переода, когда как раз вышел XBox One, то гипотеза не отвергается. Выборку считаю корректной т.к. платформа ПК существует много лет, за которые компетентность пользователей могла изменится"
   ]
  },
  {
   "cell_type": "markdown",
   "metadata": {},
   "source": [
    "### Гипотеза 2"
   ]
  },
  {
   "cell_type": "markdown",
   "metadata": {},
   "source": [
    "Н0: Средние пользовательские рейтинги жанров Action и Sports одинаковы.\n",
    "\n",
    "Н1: Средние пользовательские рейтинги жанров Action и Sports не одинаковы.\n",
    "\n",
    "Для проверки гипотезы будут представлены две совокупности, проверка будет осуществлена с помощью независимого двухвыборочного t-теста"
   ]
  },
  {
   "cell_type": "code",
   "execution_count": 40,
   "metadata": {
    "scrolled": true
   },
   "outputs": [
    {
     "name": "stdout",
     "output_type": "stream",
     "text": [
      "1.0517832389140023e-27\n",
      "Отвергаем нулевую гипотезу\n"
     ]
    }
   ],
   "source": [
    "# results = вызов метода для проверки гипотезы\n",
    "results = st.ttest_ind(\n",
    "    actual_frame.loc[actual_frame['genre'] ==  'Action','user_score'].dropna(), \n",
    "    actual_frame.loc[actual_frame['genre'] ==  'Sports', 'user_score'].dropna(),\n",
    "    equal_var = True)\n",
    "# alpha = задайте значение уровня значимости\n",
    "alpha = .05\n",
    "# вывод значения p-value на экран \n",
    "print(results.pvalue)\n",
    "# условный оператор с выводом строки с ответом\n",
    "if results.pvalue < alpha:\n",
    "    print('Отвергаем нулевую гипотезу')\n",
    "else:\n",
    "    print('Не получилось отвергнуть нулевую гипотезу') "
   ]
  },
  {
   "cell_type": "markdown",
   "metadata": {},
   "source": [
    "## Заключение\n",
    "\n",
    "В результате выполнения проекта можно сделать следущие выводы:\n",
    "\n",
    "* в 2013-2015 году наблюдался спад количества новых игр. \n",
    "* за историю выпуска игр видно 3 прошедших поколения платформ, и сейчас наблюдается рождение 4-го\n",
    "* Срок жизни платформы 5-10 лет\n",
    "* Sony - лидер по продаваемым играм. Вместе с Мicrosoft они делят основной рынок\n",
    "* Сони, имеет большое количество эксклюзивных игр, и дают аномально-большие продажи. На платформе XBox объем покупок между играми распределен более равномерно.\n",
    "* Оценки критиков справедливы. Пользователи более свободно судят об играх.\n",
    "* На шутеры и спортивные игры можно делать ставку: в этих жанрах немного игр, и они имеют хорошие продажи. \n",
    "* Региональный гейминг отличается, особенно в Японии: Там продается много игр для подростков. Играют там в РПГ и Экшен. Любят портативные консоли. Японские производители владеют рынком. Американский и Европейский сегмент схож, только в первом иксбоксов больше.\n",
    "\n",
    "* Гипотеза о том что пользователи PC и XBox One в среднем судят одинаково имеет место быть. \n",
    "* Гипотеза о том средние пользовательские рейтинги жанров Action и Sports одинаковы так-же не опровергнута.\n",
    "\n",
    "Ожидается хороший рост продаж игр на платформах PS4 и XOne. Игры в жанре экшн спорт и шутер наиболее вероятно будут иметь высокие продажи. Для японского рынка стоит присмотреться к рекламным кампаниям на рпг игры и игры для портативных платформ. \n",
    "\n",
    "Замечания:\n",
    "16 год имеет примерно половину данных об продажах, что снижает точность оценки продаж на 2017 год. Для повышения точности прогнозов рекомендуется иметь информацию о выходе игр хотя бы по кварталам. \n",
    "выгрузка не полные данные об оценках и возрастном рейтинге."
   ]
  }
 ],
 "metadata": {
  "ExecuteTimeLog": [
   {
    "duration": 942,
    "start_time": "2023-03-24T07:38:07.250Z"
   },
   {
    "duration": 189,
    "start_time": "2023-03-24T07:38:08.194Z"
   },
   {
    "duration": 20,
    "start_time": "2023-03-24T07:38:08.385Z"
   },
   {
    "duration": 11,
    "start_time": "2023-03-24T07:38:08.407Z"
   },
   {
    "duration": 2,
    "start_time": "2023-03-24T07:38:08.420Z"
   },
   {
    "duration": 11,
    "start_time": "2023-03-24T07:38:08.423Z"
   },
   {
    "duration": 8,
    "start_time": "2023-03-24T07:38:08.449Z"
   },
   {
    "duration": 19,
    "start_time": "2023-03-24T07:38:08.459Z"
   },
   {
    "duration": 17,
    "start_time": "2023-03-24T07:38:08.479Z"
   },
   {
    "duration": 9,
    "start_time": "2023-03-24T07:38:08.498Z"
   },
   {
    "duration": 5,
    "start_time": "2023-03-24T07:38:08.509Z"
   },
   {
    "duration": 10,
    "start_time": "2023-03-24T07:38:08.548Z"
   },
   {
    "duration": 17,
    "start_time": "2023-03-24T07:38:08.559Z"
   },
   {
    "duration": 15,
    "start_time": "2023-03-24T07:38:08.578Z"
   },
   {
    "duration": 4,
    "start_time": "2023-03-24T07:38:08.594Z"
   },
   {
    "duration": 9,
    "start_time": "2023-03-24T07:38:08.600Z"
   },
   {
    "duration": 49,
    "start_time": "2023-03-24T07:38:08.611Z"
   },
   {
    "duration": 10,
    "start_time": "2023-03-24T07:38:08.661Z"
   },
   {
    "duration": 8,
    "start_time": "2023-03-24T07:38:08.672Z"
   },
   {
    "duration": 5,
    "start_time": "2023-03-24T07:38:08.681Z"
   },
   {
    "duration": 18,
    "start_time": "2023-03-24T07:38:08.687Z"
   },
   {
    "duration": 199,
    "start_time": "2023-03-24T07:38:08.706Z"
   },
   {
    "duration": 10,
    "start_time": "2023-03-24T07:38:08.907Z"
   },
   {
    "duration": 6,
    "start_time": "2023-03-24T07:38:08.918Z"
   },
   {
    "duration": 378,
    "start_time": "2023-03-24T07:38:08.926Z"
   },
   {
    "duration": 253,
    "start_time": "2023-03-24T07:38:09.305Z"
   },
   {
    "duration": 151,
    "start_time": "2023-03-24T07:38:09.560Z"
   },
   {
    "duration": 270,
    "start_time": "2023-03-24T07:38:09.715Z"
   },
   {
    "duration": 263,
    "start_time": "2023-03-24T07:38:09.987Z"
   },
   {
    "duration": 318,
    "start_time": "2023-03-24T07:38:10.252Z"
   },
   {
    "duration": 9,
    "start_time": "2023-03-24T07:38:10.571Z"
   },
   {
    "duration": 182,
    "start_time": "2023-03-24T07:38:10.581Z"
   },
   {
    "duration": 19,
    "start_time": "2023-03-24T07:38:10.764Z"
   },
   {
    "duration": 314,
    "start_time": "2023-03-24T07:38:10.784Z"
   },
   {
    "duration": 319,
    "start_time": "2023-03-24T07:38:11.099Z"
   },
   {
    "duration": 305,
    "start_time": "2023-03-24T07:38:11.420Z"
   },
   {
    "duration": 5,
    "start_time": "2023-03-24T07:38:11.727Z"
   },
   {
    "duration": 24,
    "start_time": "2023-03-24T07:38:11.734Z"
   },
   {
    "duration": 1064,
    "start_time": "2023-03-24T07:39:17.948Z"
   },
   {
    "duration": 206,
    "start_time": "2023-03-24T07:39:19.014Z"
   },
   {
    "duration": 25,
    "start_time": "2023-03-24T07:39:19.222Z"
   },
   {
    "duration": 13,
    "start_time": "2023-03-24T07:39:19.249Z"
   },
   {
    "duration": 3,
    "start_time": "2023-03-24T07:39:19.264Z"
   },
   {
    "duration": 9,
    "start_time": "2023-03-24T07:39:19.269Z"
   },
   {
    "duration": 15,
    "start_time": "2023-03-24T07:39:19.279Z"
   },
   {
    "duration": 21,
    "start_time": "2023-03-24T07:39:19.295Z"
   },
   {
    "duration": 45,
    "start_time": "2023-03-24T07:39:19.317Z"
   },
   {
    "duration": 10,
    "start_time": "2023-03-24T07:39:19.364Z"
   },
   {
    "duration": 17,
    "start_time": "2023-03-24T07:39:19.376Z"
   },
   {
    "duration": 9,
    "start_time": "2023-03-24T07:39:19.395Z"
   },
   {
    "duration": 17,
    "start_time": "2023-03-24T07:39:19.405Z"
   },
   {
    "duration": 26,
    "start_time": "2023-03-24T07:39:19.424Z"
   },
   {
    "duration": 4,
    "start_time": "2023-03-24T07:39:19.451Z"
   },
   {
    "duration": 11,
    "start_time": "2023-03-24T07:39:19.457Z"
   },
   {
    "duration": 29,
    "start_time": "2023-03-24T07:39:19.469Z"
   },
   {
    "duration": 16,
    "start_time": "2023-03-24T07:39:19.499Z"
   },
   {
    "duration": 6,
    "start_time": "2023-03-24T07:39:19.516Z"
   },
   {
    "duration": 5,
    "start_time": "2023-03-24T07:39:19.524Z"
   },
   {
    "duration": 28,
    "start_time": "2023-03-24T07:39:19.531Z"
   },
   {
    "duration": 237,
    "start_time": "2023-03-24T07:39:19.560Z"
   },
   {
    "duration": 19,
    "start_time": "2023-03-24T07:39:19.799Z"
   },
   {
    "duration": 10,
    "start_time": "2023-03-24T07:39:19.820Z"
   },
   {
    "duration": 419,
    "start_time": "2023-03-24T07:39:19.832Z"
   },
   {
    "duration": 265,
    "start_time": "2023-03-24T07:39:20.255Z"
   },
   {
    "duration": 154,
    "start_time": "2023-03-24T07:39:20.522Z"
   },
   {
    "duration": 245,
    "start_time": "2023-03-24T07:39:20.680Z"
   },
   {
    "duration": 255,
    "start_time": "2023-03-24T07:39:20.928Z"
   },
   {
    "duration": 299,
    "start_time": "2023-03-24T07:39:21.184Z"
   },
   {
    "duration": 8,
    "start_time": "2023-03-24T07:39:21.485Z"
   },
   {
    "duration": 189,
    "start_time": "2023-03-24T07:39:21.494Z"
   },
   {
    "duration": 18,
    "start_time": "2023-03-24T07:39:21.684Z"
   },
   {
    "duration": 304,
    "start_time": "2023-03-24T07:39:21.703Z"
   },
   {
    "duration": 305,
    "start_time": "2023-03-24T07:39:22.009Z"
   },
   {
    "duration": 302,
    "start_time": "2023-03-24T07:39:22.316Z"
   },
   {
    "duration": 6,
    "start_time": "2023-03-24T07:39:22.619Z"
   },
   {
    "duration": 22,
    "start_time": "2023-03-24T07:39:22.627Z"
   },
   {
    "duration": 1214,
    "start_time": "2023-03-24T08:32:27.036Z"
   },
   {
    "duration": 161,
    "start_time": "2023-03-24T08:32:28.253Z"
   },
   {
    "duration": 30,
    "start_time": "2023-03-24T08:32:28.416Z"
   },
   {
    "duration": 29,
    "start_time": "2023-03-24T08:32:28.449Z"
   },
   {
    "duration": 3,
    "start_time": "2023-03-24T08:32:28.480Z"
   },
   {
    "duration": 11,
    "start_time": "2023-03-24T08:32:28.485Z"
   },
   {
    "duration": 11,
    "start_time": "2023-03-24T08:32:28.498Z"
   },
   {
    "duration": 23,
    "start_time": "2023-03-24T08:32:28.511Z"
   },
   {
    "duration": 55,
    "start_time": "2023-03-24T08:32:28.536Z"
   },
   {
    "duration": 11,
    "start_time": "2023-03-24T08:32:28.594Z"
   },
   {
    "duration": 8,
    "start_time": "2023-03-24T08:32:28.606Z"
   },
   {
    "duration": 24,
    "start_time": "2023-03-24T08:32:28.615Z"
   },
   {
    "duration": 35,
    "start_time": "2023-03-24T08:32:28.641Z"
   },
   {
    "duration": 21,
    "start_time": "2023-03-24T08:32:28.678Z"
   },
   {
    "duration": 7,
    "start_time": "2023-03-24T08:32:28.701Z"
   },
   {
    "duration": 16,
    "start_time": "2023-03-24T08:32:28.710Z"
   },
   {
    "duration": 55,
    "start_time": "2023-03-24T08:32:28.728Z"
   },
   {
    "duration": 12,
    "start_time": "2023-03-24T08:32:28.786Z"
   },
   {
    "duration": 8,
    "start_time": "2023-03-24T08:32:28.800Z"
   },
   {
    "duration": 6,
    "start_time": "2023-03-24T08:32:28.809Z"
   },
   {
    "duration": 24,
    "start_time": "2023-03-24T08:32:28.816Z"
   },
   {
    "duration": 246,
    "start_time": "2023-03-24T08:32:28.842Z"
   },
   {
    "duration": 14,
    "start_time": "2023-03-24T08:32:29.089Z"
   },
   {
    "duration": 7,
    "start_time": "2023-03-24T08:32:29.105Z"
   },
   {
    "duration": 478,
    "start_time": "2023-03-24T08:32:29.114Z"
   },
   {
    "duration": 268,
    "start_time": "2023-03-24T08:32:29.594Z"
   },
   {
    "duration": 179,
    "start_time": "2023-03-24T08:32:29.864Z"
   },
   {
    "duration": 279,
    "start_time": "2023-03-24T08:32:30.046Z"
   },
   {
    "duration": 315,
    "start_time": "2023-03-24T08:32:32.150Z"
   },
   {
    "duration": 391,
    "start_time": "2023-03-24T08:32:41.556Z"
   },
   {
    "duration": 263,
    "start_time": "2023-03-24T08:32:49.786Z"
   },
   {
    "duration": 257,
    "start_time": "2023-03-24T08:34:56.322Z"
   },
   {
    "duration": 52,
    "start_time": "2023-03-24T08:35:45.987Z"
   },
   {
    "duration": 233,
    "start_time": "2023-03-24T08:35:54.627Z"
   },
   {
    "duration": 230,
    "start_time": "2023-03-24T08:36:09.382Z"
   },
   {
    "duration": 62,
    "start_time": "2023-03-24T08:37:43.660Z"
   },
   {
    "duration": 67,
    "start_time": "2023-03-24T08:41:24.841Z"
   },
   {
    "duration": 75,
    "start_time": "2023-03-24T08:42:09.573Z"
   },
   {
    "duration": 48,
    "start_time": "2023-03-24T08:42:23.069Z"
   },
   {
    "duration": 47,
    "start_time": "2023-03-24T08:42:28.761Z"
   },
   {
    "duration": 63,
    "start_time": "2023-03-24T08:43:00.243Z"
   },
   {
    "duration": 61,
    "start_time": "2023-03-24T08:44:10.896Z"
   },
   {
    "duration": 63,
    "start_time": "2023-03-24T08:44:23.267Z"
   },
   {
    "duration": 65,
    "start_time": "2023-03-24T08:44:32.828Z"
   },
   {
    "duration": 15,
    "start_time": "2023-03-24T08:44:41.158Z"
   },
   {
    "duration": 15,
    "start_time": "2023-03-24T08:45:29.820Z"
   },
   {
    "duration": 19,
    "start_time": "2023-03-24T08:45:38.668Z"
   },
   {
    "duration": 11,
    "start_time": "2023-03-24T08:46:19.214Z"
   },
   {
    "duration": 112,
    "start_time": "2023-03-24T08:46:23.272Z"
   },
   {
    "duration": 10,
    "start_time": "2023-03-24T08:46:29.601Z"
   },
   {
    "duration": 10,
    "start_time": "2023-03-24T08:50:02.744Z"
   },
   {
    "duration": 7,
    "start_time": "2023-03-24T08:50:10.793Z"
   },
   {
    "duration": 6,
    "start_time": "2023-03-24T08:50:30.089Z"
   },
   {
    "duration": 8,
    "start_time": "2023-03-24T08:50:46.640Z"
   },
   {
    "duration": 12,
    "start_time": "2023-03-24T08:50:59.823Z"
   },
   {
    "duration": 27,
    "start_time": "2023-03-24T08:51:13.239Z"
   },
   {
    "duration": 55,
    "start_time": "2023-03-24T09:03:49.111Z"
   },
   {
    "duration": 258,
    "start_time": "2023-03-24T09:05:32.665Z"
   },
   {
    "duration": 22,
    "start_time": "2023-03-24T09:09:28.872Z"
   },
   {
    "duration": 3,
    "start_time": "2023-03-24T09:09:43.847Z"
   },
   {
    "duration": 196,
    "start_time": "2023-03-24T09:09:43.852Z"
   },
   {
    "duration": 23,
    "start_time": "2023-03-24T09:09:44.050Z"
   },
   {
    "duration": 73,
    "start_time": "2023-03-24T09:09:44.075Z"
   },
   {
    "duration": 3,
    "start_time": "2023-03-24T09:09:44.151Z"
   },
   {
    "duration": 11,
    "start_time": "2023-03-24T09:09:44.156Z"
   },
   {
    "duration": 20,
    "start_time": "2023-03-24T09:09:44.169Z"
   },
   {
    "duration": 32,
    "start_time": "2023-03-24T09:09:44.200Z"
   },
   {
    "duration": 24,
    "start_time": "2023-03-24T09:09:44.234Z"
   },
   {
    "duration": 27,
    "start_time": "2023-03-24T09:09:44.259Z"
   },
   {
    "duration": 21,
    "start_time": "2023-03-24T09:09:44.292Z"
   },
   {
    "duration": 8,
    "start_time": "2023-03-24T09:09:44.316Z"
   },
   {
    "duration": 15,
    "start_time": "2023-03-24T09:09:44.326Z"
   },
   {
    "duration": 24,
    "start_time": "2023-03-24T09:09:44.344Z"
   },
   {
    "duration": 7,
    "start_time": "2023-03-24T09:09:44.382Z"
   },
   {
    "duration": 32,
    "start_time": "2023-03-24T09:09:44.391Z"
   },
   {
    "duration": 33,
    "start_time": "2023-03-24T09:09:44.427Z"
   },
   {
    "duration": 20,
    "start_time": "2023-03-24T09:09:44.463Z"
   },
   {
    "duration": 11,
    "start_time": "2023-03-24T09:09:44.486Z"
   },
   {
    "duration": 8,
    "start_time": "2023-03-24T09:09:44.499Z"
   },
   {
    "duration": 26,
    "start_time": "2023-03-24T09:09:44.510Z"
   },
   {
    "duration": 277,
    "start_time": "2023-03-24T09:09:44.538Z"
   },
   {
    "duration": 20,
    "start_time": "2023-03-24T09:09:44.819Z"
   },
   {
    "duration": 8,
    "start_time": "2023-03-24T09:09:44.841Z"
   },
   {
    "duration": 576,
    "start_time": "2023-03-24T09:09:44.851Z"
   },
   {
    "duration": 333,
    "start_time": "2023-03-24T09:09:45.431Z"
   },
   {
    "duration": 298,
    "start_time": "2023-03-24T09:09:45.766Z"
   },
   {
    "duration": 359,
    "start_time": "2023-03-24T09:09:46.066Z"
   },
   {
    "duration": 369,
    "start_time": "2023-03-24T09:09:46.431Z"
   },
   {
    "duration": 355,
    "start_time": "2023-03-24T09:09:46.802Z"
   },
   {
    "duration": 11,
    "start_time": "2023-03-24T09:09:47.159Z"
   },
   {
    "duration": 40,
    "start_time": "2023-03-24T09:09:47.182Z"
   },
   {
    "duration": 294,
    "start_time": "2023-03-24T09:09:47.224Z"
   },
   {
    "duration": 248,
    "start_time": "2023-03-24T09:09:47.520Z"
   },
   {
    "duration": 40,
    "start_time": "2023-03-24T09:09:47.775Z"
   },
   {
    "duration": 446,
    "start_time": "2023-03-24T09:10:07.730Z"
   },
   {
    "duration": 534,
    "start_time": "2023-03-24T09:10:22.168Z"
   },
   {
    "duration": 404,
    "start_time": "2023-03-24T09:10:27.642Z"
   },
   {
    "duration": 10,
    "start_time": "2023-03-24T09:11:11.928Z"
   },
   {
    "duration": 33,
    "start_time": "2023-03-24T09:17:16.810Z"
   },
   {
    "duration": 1082,
    "start_time": "2023-03-24T13:30:29.629Z"
   },
   {
    "duration": 177,
    "start_time": "2023-03-24T13:30:30.713Z"
   },
   {
    "duration": 30,
    "start_time": "2023-03-24T13:30:30.892Z"
   },
   {
    "duration": 53,
    "start_time": "2023-03-24T13:30:30.924Z"
   },
   {
    "duration": 23,
    "start_time": "2023-03-24T13:30:30.979Z"
   },
   {
    "duration": 61,
    "start_time": "2023-03-24T13:30:31.004Z"
   },
   {
    "duration": 32,
    "start_time": "2023-03-24T13:30:31.067Z"
   },
   {
    "duration": 54,
    "start_time": "2023-03-24T13:30:31.102Z"
   },
   {
    "duration": 40,
    "start_time": "2023-03-24T13:30:31.158Z"
   },
   {
    "duration": 32,
    "start_time": "2023-03-24T13:30:31.201Z"
   },
   {
    "duration": 27,
    "start_time": "2023-03-24T13:30:31.235Z"
   },
   {
    "duration": 27,
    "start_time": "2023-03-24T13:30:31.264Z"
   },
   {
    "duration": 82,
    "start_time": "2023-03-24T13:30:31.293Z"
   },
   {
    "duration": 58,
    "start_time": "2023-03-24T13:30:31.377Z"
   },
   {
    "duration": 20,
    "start_time": "2023-03-24T13:30:31.436Z"
   },
   {
    "duration": 64,
    "start_time": "2023-03-24T13:30:31.457Z"
   },
   {
    "duration": 64,
    "start_time": "2023-03-24T13:30:31.523Z"
   },
   {
    "duration": 31,
    "start_time": "2023-03-24T13:30:31.589Z"
   },
   {
    "duration": 49,
    "start_time": "2023-03-24T13:30:31.621Z"
   },
   {
    "duration": 59,
    "start_time": "2023-03-24T13:30:31.672Z"
   },
   {
    "duration": 74,
    "start_time": "2023-03-24T13:30:31.732Z"
   },
   {
    "duration": 233,
    "start_time": "2023-03-24T13:30:31.808Z"
   },
   {
    "duration": 11,
    "start_time": "2023-03-24T13:30:32.043Z"
   },
   {
    "duration": 66,
    "start_time": "2023-03-24T13:30:32.056Z"
   },
   {
    "duration": 467,
    "start_time": "2023-03-24T13:30:32.124Z"
   },
   {
    "duration": 295,
    "start_time": "2023-03-24T13:30:32.593Z"
   },
   {
    "duration": 188,
    "start_time": "2023-03-24T13:30:32.890Z"
   },
   {
    "duration": 308,
    "start_time": "2023-03-24T13:30:33.082Z"
   },
   {
    "duration": 286,
    "start_time": "2023-03-24T13:30:33.392Z"
   },
   {
    "duration": 416,
    "start_time": "2023-03-24T13:30:33.680Z"
   },
   {
    "duration": 10,
    "start_time": "2023-03-24T13:30:34.098Z"
   },
   {
    "duration": 44,
    "start_time": "2023-03-24T13:30:34.110Z"
   },
   {
    "duration": 241,
    "start_time": "2023-03-24T13:30:34.155Z"
   },
   {
    "duration": 226,
    "start_time": "2023-03-24T13:30:34.399Z"
   },
   {
    "duration": 28,
    "start_time": "2023-03-24T13:30:34.627Z"
   },
   {
    "duration": 369,
    "start_time": "2023-03-24T13:30:34.658Z"
   },
   {
    "duration": 432,
    "start_time": "2023-03-24T13:30:35.030Z"
   },
   {
    "duration": 379,
    "start_time": "2023-03-24T13:30:35.464Z"
   },
   {
    "duration": 7,
    "start_time": "2023-03-24T13:30:35.846Z"
   },
   {
    "duration": 10,
    "start_time": "2023-03-24T13:30:35.855Z"
   }
  ],
  "kernelspec": {
   "display_name": "Python 3 (ipykernel)",
   "language": "python",
   "name": "python3"
  },
  "language_info": {
   "codemirror_mode": {
    "name": "ipython",
    "version": 3
   },
   "file_extension": ".py",
   "mimetype": "text/x-python",
   "name": "python",
   "nbconvert_exporter": "python",
   "pygments_lexer": "ipython3",
   "version": "3.9.5"
  },
  "toc": {
   "base_numbering": 1,
   "nav_menu": {},
   "number_sections": true,
   "sideBar": true,
   "skip_h1_title": true,
   "title_cell": "Table of Contents",
   "title_sidebar": "Contents",
   "toc_cell": false,
   "toc_position": {},
   "toc_section_display": true,
   "toc_window_display": false
  },
  "vscode": {
   "interpreter": {
    "hash": "aee8b7b246df8f9039afb4144a1f6fd8d2ca17a180786b69acc140d282b71a49"
   }
  }
 },
 "nbformat": 4,
 "nbformat_minor": 2
}
