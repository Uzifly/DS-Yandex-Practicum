{
 "cells": [
  {
   "cell_type": "markdown",
   "metadata": {},
   "source": [
    "<h1>Содержание<span class=\"tocSkip\"></span></h1>\n",
    "<div class=\"toc\"><ul class=\"toc-item\"><li><span><a href=\"#Подготовка\" data-toc-modified-id=\"Подготовка-1\"><span class=\"toc-item-num\">1&nbsp;&nbsp;</span>Подготовка</a></span></li><li><span><a href=\"#Обучение\" data-toc-modified-id=\"Обучение-2\"><span class=\"toc-item-num\">2&nbsp;&nbsp;</span>Обучение</a></span></li><li><span><a href=\"#Итоги\" data-toc-modified-id=\"Итоги-3\"><span class=\"toc-item-num\">3&nbsp;&nbsp;</span>Итоги</a></span></li><li><span><a href=\"#Чек-лист-проверки\" data-toc-modified-id=\"Чек-лист-проверки-4\"><span class=\"toc-item-num\">4&nbsp;&nbsp;</span>Чек-лист проверки</a></span></li></ul></div>"
   ]
  },
  {
   "cell_type": "markdown",
   "metadata": {},
   "source": [
    "# Проект для «Викишоп»"
   ]
  },
  {
   "cell_type": "markdown",
   "metadata": {},
   "source": [
    "Интернет-магазин «Викишоп» запускает новый сервис. Теперь пользователи могут редактировать и дополнять описания товаров, как в вики-сообществах. То есть клиенты предлагают свои правки и комментируют изменения других. Магазину нужен инструмент, который будет искать токсичные комментарии и отправлять их на модерацию. \n",
    "\n",
    "Обучите модель классифицировать комментарии на позитивные и негативные. В вашем распоряжении набор данных с разметкой о токсичности правок.\n",
    "\n",
    "Постройте модель со значением метрики качества *F1* не меньше 0.75. \n",
    "\n",
    "**Инструкция по выполнению проекта**\n",
    "\n",
    "1. Загрузите и подготовьте данные.\n",
    "2. Обучите разные модели. \n",
    "3. Сделайте выводы.\n",
    "\n",
    "**Описание данных**\n",
    "\n",
    "Данные находятся в файле `toxic_comments.csv`. Столбец *text* в нём содержит текст комментария, а *toxic* — целевой признак."
   ]
  },
  {
   "cell_type": "code",
   "execution_count": 1,
   "metadata": {},
   "outputs": [
    {
     "name": "stdout",
     "output_type": "stream",
     "text": [
      "Requirement already satisfied: nltk in /Library/Frameworks/Python.framework/Versions/3.8/lib/python3.8/site-packages (3.8.1)\n",
      "Requirement already satisfied: click in /Library/Frameworks/Python.framework/Versions/3.8/lib/python3.8/site-packages (from nltk) (8.1.6)\n",
      "Requirement already satisfied: joblib in /Library/Frameworks/Python.framework/Versions/3.8/lib/python3.8/site-packages (from nltk) (1.2.0)\n",
      "Requirement already satisfied: regex>=2021.8.3 in /Library/Frameworks/Python.framework/Versions/3.8/lib/python3.8/site-packages (from nltk) (2023.8.8)\n",
      "Requirement already satisfied: tqdm in /Library/Frameworks/Python.framework/Versions/3.8/lib/python3.8/site-packages (from nltk) (4.66.1)\n"
     ]
    }
   ],
   "source": [
    "!pip install nltk"
   ]
  },
  {
   "cell_type": "code",
   "execution_count": 2,
   "metadata": {},
   "outputs": [],
   "source": [
    "import ssl\n",
    "import nltk"
   ]
  },
  {
   "cell_type": "code",
   "execution_count": 3,
   "metadata": {},
   "outputs": [
    {
     "name": "stderr",
     "output_type": "stream",
     "text": [
      "[nltk_data] Downloading package stopwords to\n",
      "[nltk_data]     /Users/evgeniu/nltk_data...\n",
      "[nltk_data]   Package stopwords is already up-to-date!\n",
      "[nltk_data] Downloading package wordnet to /Users/evgeniu/nltk_data...\n",
      "[nltk_data]   Package wordnet is already up-to-date!\n",
      "[nltk_data] Downloading package punkt to /Users/evgeniu/nltk_data...\n",
      "[nltk_data]   Package punkt is already up-to-date!\n",
      "[nltk_data] Downloading package averaged_perceptron_tagger to\n",
      "[nltk_data]     /Users/evgeniu/nltk_data...\n",
      "[nltk_data]   Package averaged_perceptron_tagger is already up-to-\n",
      "[nltk_data]       date!\n"
     ]
    },
    {
     "data": {
      "text/plain": [
       "True"
      ]
     },
     "execution_count": 3,
     "metadata": {},
     "output_type": "execute_result"
    }
   ],
   "source": [
    "try:\n",
    "    _create_unverified_https_context = ssl._create_unverified_context\n",
    "except AttributeError:\n",
    "    pass\n",
    "else:\n",
    "    ssl._create_default_https_context = _create_unverified_https_context\n",
    "\n",
    "nltk.download('stopwords')\n",
    "nltk.download('wordnet')\n",
    "nltk.download('punkt')\n",
    "nltk.download('averaged_perceptron_tagger')\n"
   ]
  },
  {
   "cell_type": "code",
   "execution_count": 4,
   "metadata": {},
   "outputs": [],
   "source": [
    "import pandas as pd\n",
    "import os\n",
    "import re\n",
    "import nltk\n",
    "\n",
    "import numpy as np\n",
    "\n",
    "from sklearn.experimental import enable_halving_search_cv\n",
    "from sklearn.model_selection import train_test_split, HalvingGridSearchCV, StratifiedShuffleSplit\n",
    "from sklearn.feature_extraction.text import TfidfVectorizer\n",
    "from sklearn.linear_model import LogisticRegression\n",
    "from sklearn.tree import DecisionTreeClassifier\n",
    "from sklearn.metrics import f1_score\n",
    "\n",
    "\n",
    "from nltk.corpus import stopwords\n",
    "from nltk.corpus import wordnet\n",
    "from nltk.stem import WordNetLemmatizer\n",
    "\n",
    "import lightgbm as lgbm\n",
    "\n",
    "RND_SEED = 12345"
   ]
  },
  {
   "cell_type": "markdown",
   "metadata": {},
   "source": [
    "## Подготовка"
   ]
  },
  {
   "cell_type": "code",
   "execution_count": 5,
   "metadata": {},
   "outputs": [],
   "source": [
    "pth1 = 'toxic_comments.csv'\n",
    "pth2 = '/datasets/toxic_comments.csv'\n",
    "\n",
    "if os.path.exists(pth1):\n",
    "    data = pd.read_csv(pth1, parse_dates=[0], index_col=0)\n",
    "elif os.path.exists(pth2):\n",
    "    data = pd.read_csv(pth2, parse_dates=[0], index_col=0)\n",
    "else:\n",
    "    print('Датасет не найден')"
   ]
  },
  {
   "cell_type": "code",
   "execution_count": 6,
   "metadata": {},
   "outputs": [
    {
     "name": "stdout",
     "output_type": "stream",
     "text": [
      "<class 'pandas.core.frame.DataFrame'>\n",
      "Int64Index: 159292 entries, 0 to 159450\n",
      "Data columns (total 2 columns):\n",
      " #   Column  Non-Null Count   Dtype \n",
      "---  ------  --------------   ----- \n",
      " 0   text    159292 non-null  object\n",
      " 1   toxic   159292 non-null  int64 \n",
      "dtypes: int64(1), object(1)\n",
      "memory usage: 3.6+ MB\n"
     ]
    }
   ],
   "source": [
    "data.info()"
   ]
  },
  {
   "cell_type": "markdown",
   "metadata": {},
   "source": [
    "С названиями колонок, типом данных все хорошо. Пропусков нет."
   ]
  },
  {
   "cell_type": "code",
   "execution_count": 7,
   "metadata": {},
   "outputs": [
    {
     "data": {
      "image/png": "[encoded data removed]",
      "text/plain": [
       "<Figure size 300x200 with 1 Axes>"
      ]
     },
     "metadata": {},
     "output_type": "display_data"
    }
   ],
   "source": [
    "data.toxic.value_counts().plot(kind='bar', title='Баланс комментариев', xlabel='Токсичность', figsize=(3,2));"
   ]
  },
  {
   "cell_type": "markdown",
   "metadata": {},
   "source": [
    "Классы не сбалансированы. Нужно это учитывать в дальнейшей работе."
   ]
  },
  {
   "cell_type": "code",
   "execution_count": 8,
   "metadata": {},
   "outputs": [
    {
     "data": {
      "text/plain": [
       "0"
      ]
     },
     "execution_count": 8,
     "metadata": {},
     "output_type": "execute_result"
    }
   ],
   "source": [
    "sum(data.duplicated())"
   ]
  },
  {
   "cell_type": "markdown",
   "metadata": {},
   "source": [
    "Дубликатов нет."
   ]
  },
  {
   "cell_type": "markdown",
   "metadata": {},
   "source": [
    "### Преобразование текста"
   ]
  },
  {
   "cell_type": "markdown",
   "metadata": {},
   "source": [
    "Напишем методы и преобразуем текст.\n",
    "\n",
    "* clear_text - очищает текст от лишних символов, приводит текст в нижний регистр\n",
    "* lemmatize - лемантизатор и токенизатор построенный на nltk\n",
    "* drop_stopwords - функция удаления стопслов "
   ]
  },
  {
   "cell_type": "code",
   "execution_count": 9,
   "metadata": {},
   "outputs": [],
   "source": [
    "def clear_text(text):\n",
    "    return ' '.join(re.sub(r'[^\\'a-zA-Z ]', ' ', text.lower()).split())\n",
    "\n",
    "def get_wordnet_pos(word):\n",
    "    \"\"\"Map POS tag to first character lemmatize() accepts\"\"\"\n",
    "    tag = nltk.pos_tag([word])[0][1][0].upper()\n",
    "    tag_dict = {\"J\": wordnet.ADJ,\n",
    "                \"N\": wordnet.NOUN,\n",
    "                \"V\": wordnet.VERB,\n",
    "                \"R\": wordnet.ADV}\n",
    "    return tag_dict.get(tag, wordnet.NOUN)\n",
    "\n",
    "def lemmatize(text):\n",
    "    word_list = nltk.word_tokenize(text)\n",
    "    wnl = WordNetLemmatizer()\n",
    "    lemm_text = \" \".join([wnl.lemmatize(w, get_wordnet_pos(w)) for w in word_list])\n",
    "\n",
    "    return lemm_text\n",
    "\n",
    "stop_words = list(stopwords.words('english'))\n",
    "\n",
    "def drop_stopwords(text):\n",
    "    text = text.split()\n",
    "    res = []\n",
    "    for w in text:\n",
    "        if w not in stop_words:\n",
    "            res.append(w)\n",
    "    return \" \".join(res)"
   ]
  },
  {
   "cell_type": "code",
   "execution_count": 10,
   "metadata": {},
   "outputs": [],
   "source": [
    "data['clear_text'] = data['text'].apply(clear_text)"
   ]
  },
  {
   "cell_type": "code",
   "execution_count": 11,
   "metadata": {},
   "outputs": [],
   "source": [
    "data['clear_text'] = data['clear_text'].apply(lambda x: lemmatize(x))"
   ]
  },
  {
   "cell_type": "code",
   "execution_count": 12,
   "metadata": {},
   "outputs": [],
   "source": [
    "#data['clear_text'] = data['clear_text'].apply(lambda x: drop_stopwords(x))"
   ]
  },
  {
   "cell_type": "code",
   "execution_count": 13,
   "metadata": {},
   "outputs": [
    {
     "data": {
      "text/html": [
       "<div>\n",
       "<style scoped>\n",
       "    .dataframe tbody tr th:only-of-type {\n",
       "        vertical-align: middle;\n",
       "    }\n",
       "\n",
       "    .dataframe tbody tr th {\n",
       "        vertical-align: top;\n",
       "    }\n",
       "\n",
       "    .dataframe thead th {\n",
       "        text-align: right;\n",
       "    }\n",
       "</style>\n",
       "<table border=\"1\" class=\"dataframe\">\n",
       "  <thead>\n",
       "    <tr style=\"text-align: right;\">\n",
       "      <th></th>\n",
       "      <th>text</th>\n",
       "      <th>toxic</th>\n",
       "      <th>clear_text</th>\n",
       "    </tr>\n",
       "  </thead>\n",
       "  <tbody>\n",
       "    <tr>\n",
       "      <th>0</th>\n",
       "      <td>Explanation\\nWhy the edits made under my usern...</td>\n",
       "      <td>0</td>\n",
       "      <td>explanation why the edits make under my userna...</td>\n",
       "    </tr>\n",
       "    <tr>\n",
       "      <th>1</th>\n",
       "      <td>D'aww! He matches this background colour I'm s...</td>\n",
       "      <td>0</td>\n",
       "      <td>d'aww he match this background colour i 'm see...</td>\n",
       "    </tr>\n",
       "    <tr>\n",
       "      <th>2</th>\n",
       "      <td>Hey man, I'm really not trying to edit war. It...</td>\n",
       "      <td>0</td>\n",
       "      <td>hey man i 'm really not try to edit war it 's ...</td>\n",
       "    </tr>\n",
       "    <tr>\n",
       "      <th>3</th>\n",
       "      <td>\"\\nMore\\nI can't make any real suggestions on ...</td>\n",
       "      <td>0</td>\n",
       "      <td>more i ca n't make any real suggestion on impr...</td>\n",
       "    </tr>\n",
       "    <tr>\n",
       "      <th>4</th>\n",
       "      <td>You, sir, are my hero. Any chance you remember...</td>\n",
       "      <td>0</td>\n",
       "      <td>you sir be my hero any chance you remember wha...</td>\n",
       "    </tr>\n",
       "  </tbody>\n",
       "</table>\n",
       "</div>"
      ],
      "text/plain": [
       "                                                text  toxic  \\\n",
       "0  Explanation\\nWhy the edits made under my usern...      0   \n",
       "1  D'aww! He matches this background colour I'm s...      0   \n",
       "2  Hey man, I'm really not trying to edit war. It...      0   \n",
       "3  \"\\nMore\\nI can't make any real suggestions on ...      0   \n",
       "4  You, sir, are my hero. Any chance you remember...      0   \n",
       "\n",
       "                                          clear_text  \n",
       "0  explanation why the edits make under my userna...  \n",
       "1  d'aww he match this background colour i 'm see...  \n",
       "2  hey man i 'm really not try to edit war it 's ...  \n",
       "3  more i ca n't make any real suggestion on impr...  \n",
       "4  you sir be my hero any chance you remember wha...  "
      ]
     },
     "execution_count": 13,
     "metadata": {},
     "output_type": "execute_result"
    }
   ],
   "source": [
    "data.head(5)"
   ]
  },
  {
   "cell_type": "markdown",
   "metadata": {},
   "source": [
    "Данные стали попроще без потери смысла."
   ]
  },
  {
   "cell_type": "markdown",
   "metadata": {},
   "source": [
    " ### Построение tf-idf модели"
   ]
  },
  {
   "cell_type": "markdown",
   "metadata": {},
   "source": [
    "На очищенном тексте можно построить tf-idf матрицу"
   ]
  },
  {
   "cell_type": "code",
   "execution_count": 14,
   "metadata": {},
   "outputs": [],
   "source": [
    "tf_idf = TfidfVectorizer(stop_words=stop_words)"
   ]
  },
  {
   "cell_type": "code",
   "execution_count": 15,
   "metadata": {},
   "outputs": [],
   "source": [
    "X = data['clear_text']\n",
    "y = data['toxic']"
   ]
  },
  {
   "cell_type": "code",
   "execution_count": 16,
   "metadata": {},
   "outputs": [],
   "source": [
    "Xtrain, Xtest, ytrain, ytest = train_test_split(X, y, test_size=.25, random_state=RND_SEED, stratify=y)"
   ]
  },
  {
   "cell_type": "code",
   "execution_count": 17,
   "metadata": {},
   "outputs": [],
   "source": [
    "Xtrain = tf_idf.fit_transform(Xtrain)\n",
    "Xtest = tf_idf.transform(Xtest)"
   ]
  },
  {
   "cell_type": "code",
   "execution_count": 18,
   "metadata": {},
   "outputs": [
    {
     "data": {
      "text/plain": [
       "((119469, 128036), (39823, 128036))"
      ]
     },
     "execution_count": 18,
     "metadata": {},
     "output_type": "execute_result"
    }
   ],
   "source": [
    "Xtrain.shape, Xtest.shape"
   ]
  },
  {
   "cell_type": "markdown",
   "metadata": {},
   "source": [
    "<div class=\"alert alert-block alert-success\">\n",
    "<b>Успех:</b> Разбиение было сделано верно. Отлично, что векторизатор был обучен только на тренировочной части данных.\n",
    "</div>"
   ]
  },
  {
   "cell_type": "markdown",
   "metadata": {},
   "source": [
    "## Обучение"
   ]
  },
  {
   "cell_type": "markdown",
   "metadata": {},
   "source": [
    "### Решающее дерево"
   ]
  },
  {
   "cell_type": "code",
   "execution_count": 19,
   "metadata": {},
   "outputs": [],
   "source": [
    "def decision_tree():\n",
    "    dt_model = DecisionTreeClassifier(random_state=RND_SEED, class_weight='balanced')\n",
    "    params = {\n",
    "        'max_depth': range(100, 180, 20),\n",
    "        'max_leaf_nodes':range(150, 301, 50)\n",
    "    }\n",
    "    tree_gs = HalvingGridSearchCV(estimator=dt_model,\n",
    "                                  param_grid=params, scoring='f1',\n",
    "                                  factor=5, cv=5, n_jobs=-1, verbose=0)\n",
    "    tree_gs.fit(Xtrain, ytrain)\n",
    "    return 'Решающее дерево', tree_gs"
   ]
  },
  {
   "cell_type": "code",
   "execution_count": 20,
   "metadata": {},
   "outputs": [],
   "source": [
    "dt_solvers = decision_tree()"
   ]
  },
  {
   "cell_type": "code",
   "execution_count": 21,
   "metadata": {},
   "outputs": [
    {
     "name": "stdout",
     "output_type": "stream",
     "text": [
      "Модель Решающее дерево F1 score 0.5957271507122448\n"
     ]
    }
   ],
   "source": [
    "print(f'Модель {dt_solvers[0]} F1 score {dt_solvers[1].best_score_}')"
   ]
  },
  {
   "cell_type": "markdown",
   "metadata": {},
   "source": [
    "### Логистическая регрессия"
   ]
  },
  {
   "cell_type": "code",
   "execution_count": 22,
   "metadata": {},
   "outputs": [],
   "source": [
    "def logistic_regression():    \n",
    "    lr_model = LogisticRegression(n_jobs=-1, max_iter=5000, solver='lbfgs', penalty='l2', class_weight='balanced')\n",
    "    params = {'C' : np.arange(.1, .7, .1)}\n",
    "    log_rs = HalvingGridSearchCV(estimator=lr_model,\n",
    "                                        param_grid=params, scoring='f1',\n",
    "                                        factor=5, cv=5, n_jobs=-1, verbose=0)\n",
    "    log_rs.fit(Xtrain, ytrain)\n",
    "    return 'Логистическая регрессия', log_rs"
   ]
  },
  {
   "cell_type": "code",
   "execution_count": 23,
   "metadata": {},
   "outputs": [],
   "source": [
    "log_solver = logistic_regression()"
   ]
  },
  {
   "cell_type": "code",
   "execution_count": 24,
   "metadata": {},
   "outputs": [
    {
     "name": "stdout",
     "output_type": "stream",
     "text": [
      "Модель Логистическая регрессия F1 score 0.7365161794266823\n"
     ]
    }
   ],
   "source": [
    "print(f'Модель {log_solver[0]} F1 score {log_solver[1].best_score_}')"
   ]
  },
  {
   "cell_type": "markdown",
   "metadata": {},
   "source": [
    "### LGBMClassifier"
   ]
  },
  {
   "cell_type": "code",
   "execution_count": 25,
   "metadata": {},
   "outputs": [],
   "source": [
    "def lgb_f1_score(y_hat, data):\n",
    "    y_true = data.get_label()\n",
    "    y_hat = np.where(y_hat < 0.5, 0, 1) \n",
    "    return 'f1', f1_score(y_true, y_hat), True"
   ]
  },
  {
   "cell_type": "code",
   "execution_count": 26,
   "metadata": {},
   "outputs": [
    {
     "name": "stderr",
     "output_type": "stream",
     "text": [
      "/Library/Frameworks/Python.framework/Versions/3.8/lib/python3.8/site-packages/lightgbm/engine.py:620: UserWarning: 'verbose_eval' argument is deprecated and will be removed in a future release of LightGBM. Pass 'log_evaluation()' callback via 'callbacks' argument instead.\n",
      "  _log_warning(\"'verbose_eval' argument is deprecated and will be removed in a future release of LightGBM. \"\n"
     ]
    }
   ],
   "source": [
    "train_dataset = lgbm.Dataset(Xtrain, ytrain)\n",
    "test_dataset = lgbm.Dataset(Xtest, ytest)\n",
    "\n",
    "cv_output = lgbm.cv({\"objective\": \"binary\", \"verbosity\": -1},\n",
    "                   train_set=train_dataset, num_boost_round=800,\n",
    "                   feval=lgb_f1_score,\n",
    "                   folds=StratifiedShuffleSplit(n_splits=3),\n",
    "                   verbose_eval=False,\n",
    "                   return_cvbooster=True)"
   ]
  },
  {
   "cell_type": "code",
   "execution_count": 27,
   "metadata": {},
   "outputs": [
    {
     "name": "stdout",
     "output_type": "stream",
     "text": [
      "Модель LGBM F1 score 0.7706064041473276\n"
     ]
    }
   ],
   "source": [
    "\n",
    "print('Модель LGBM F1 score', cv_output['f1-mean'][-1])"
   ]
  },
  {
   "cell_type": "markdown",
   "metadata": {},
   "source": [
    "## Итоги"
   ]
  },
  {
   "cell_type": "markdown",
   "metadata": {},
   "source": [
    "Мы подготовили данные и обучили несколько моделей для определения токсичного текста. F1 результаты обучения на кроссвалидации:\n",
    "\n",
    "* Модель Решающее дерево F1 score 0.5957\n",
    "* Модель Логистическая регрессия F1 score 0.7365\n",
    "* Модель LGBM F1 score 0.7706\n",
    "\n",
    "Самый сильный результат получился на модели градиентного бустинга. Проверим его на тестовой выборке:"
   ]
  },
  {
   "cell_type": "code",
   "execution_count": 29,
   "metadata": {},
   "outputs": [
    {
     "name": "stdout",
     "output_type": "stream",
     "text": [
      "Модель LGBM F1 score на тестовой выборке: 0.7763898421413865\n"
     ]
    }
   ],
   "source": [
    "print('Модель LGBM F1 score на тестовой выборке:', \n",
    "      f1_score(ytest, np.where(lgbm_model.boosters[2].predict(Xtest) < 0.5, 0, 1)))"
   ]
  },
  {
   "cell_type": "markdown",
   "metadata": {},
   "source": [
    "Модель соответствует требованиям проекта. Работу можно считать завершенной."
   ]
  }
 ],
 "metadata": {
  "ExecuteTimeLog": [
   {
    "duration": 1470,
    "start_time": "2023-08-17T16:43:29.581Z"
   },
   {
    "duration": 2313,
    "start_time": "2023-08-17T16:43:31.053Z"
   },
   {
    "duration": 0,
    "start_time": "2023-08-17T16:43:33.369Z"
   },
   {
    "duration": 0,
    "start_time": "2023-08-17T16:43:33.370Z"
   },
   {
    "duration": 0,
    "start_time": "2023-08-17T16:43:33.371Z"
   },
   {
    "duration": 0,
    "start_time": "2023-08-17T16:43:33.372Z"
   },
   {
    "duration": 0,
    "start_time": "2023-08-17T16:43:33.374Z"
   },
   {
    "duration": 0,
    "start_time": "2023-08-17T16:43:33.375Z"
   },
   {
    "duration": 0,
    "start_time": "2023-08-17T16:43:33.376Z"
   },
   {
    "duration": 0,
    "start_time": "2023-08-17T16:43:33.377Z"
   },
   {
    "duration": 0,
    "start_time": "2023-08-17T16:43:33.378Z"
   },
   {
    "duration": 0,
    "start_time": "2023-08-17T16:43:33.379Z"
   },
   {
    "duration": 0,
    "start_time": "2023-08-17T16:43:33.380Z"
   },
   {
    "duration": 0,
    "start_time": "2023-08-17T16:43:33.381Z"
   },
   {
    "duration": 0,
    "start_time": "2023-08-17T16:43:33.382Z"
   },
   {
    "duration": 0,
    "start_time": "2023-08-17T16:43:33.383Z"
   },
   {
    "duration": 0,
    "start_time": "2023-08-17T16:43:33.384Z"
   },
   {
    "duration": 0,
    "start_time": "2023-08-17T16:43:33.386Z"
   },
   {
    "duration": 0,
    "start_time": "2023-08-17T16:43:33.387Z"
   },
   {
    "duration": 0,
    "start_time": "2023-08-17T16:43:33.388Z"
   },
   {
    "duration": 0,
    "start_time": "2023-08-17T16:43:33.409Z"
   },
   {
    "duration": 0,
    "start_time": "2023-08-17T16:43:33.410Z"
   },
   {
    "duration": 0,
    "start_time": "2023-08-17T16:43:33.411Z"
   },
   {
    "duration": 0,
    "start_time": "2023-08-17T16:43:33.413Z"
   },
   {
    "duration": 0,
    "start_time": "2023-08-17T16:43:33.414Z"
   },
   {
    "duration": 0,
    "start_time": "2023-08-17T16:43:33.415Z"
   },
   {
    "duration": 0,
    "start_time": "2023-08-17T16:43:33.417Z"
   },
   {
    "duration": 0,
    "start_time": "2023-08-17T16:43:33.418Z"
   },
   {
    "duration": 11,
    "start_time": "2023-08-17T16:43:41.144Z"
   },
   {
    "duration": 2627,
    "start_time": "2023-08-17T16:44:58.195Z"
   },
   {
    "duration": 1583,
    "start_time": "2023-08-17T16:45:00.824Z"
   },
   {
    "duration": 0,
    "start_time": "2023-08-17T16:45:02.410Z"
   },
   {
    "duration": 0,
    "start_time": "2023-08-17T16:45:02.412Z"
   },
   {
    "duration": 0,
    "start_time": "2023-08-17T16:45:02.413Z"
   },
   {
    "duration": 0,
    "start_time": "2023-08-17T16:45:02.414Z"
   },
   {
    "duration": 0,
    "start_time": "2023-08-17T16:45:02.416Z"
   },
   {
    "duration": 0,
    "start_time": "2023-08-17T16:45:02.417Z"
   },
   {
    "duration": 0,
    "start_time": "2023-08-17T16:45:02.418Z"
   },
   {
    "duration": 0,
    "start_time": "2023-08-17T16:45:02.419Z"
   },
   {
    "duration": 0,
    "start_time": "2023-08-17T16:45:02.420Z"
   },
   {
    "duration": 0,
    "start_time": "2023-08-17T16:45:02.422Z"
   },
   {
    "duration": 0,
    "start_time": "2023-08-17T16:45:02.423Z"
   },
   {
    "duration": 0,
    "start_time": "2023-08-17T16:45:02.424Z"
   },
   {
    "duration": 0,
    "start_time": "2023-08-17T16:45:02.425Z"
   },
   {
    "duration": 0,
    "start_time": "2023-08-17T16:45:02.426Z"
   },
   {
    "duration": 0,
    "start_time": "2023-08-17T16:45:02.433Z"
   },
   {
    "duration": 0,
    "start_time": "2023-08-17T16:45:02.434Z"
   },
   {
    "duration": 0,
    "start_time": "2023-08-17T16:45:02.436Z"
   },
   {
    "duration": 0,
    "start_time": "2023-08-17T16:45:02.437Z"
   },
   {
    "duration": 0,
    "start_time": "2023-08-17T16:45:02.439Z"
   },
   {
    "duration": 0,
    "start_time": "2023-08-17T16:45:02.440Z"
   },
   {
    "duration": 0,
    "start_time": "2023-08-17T16:45:02.441Z"
   },
   {
    "duration": 0,
    "start_time": "2023-08-17T16:45:02.443Z"
   },
   {
    "duration": 0,
    "start_time": "2023-08-17T16:45:02.445Z"
   },
   {
    "duration": 0,
    "start_time": "2023-08-17T16:45:02.446Z"
   },
   {
    "duration": 0,
    "start_time": "2023-08-17T16:45:02.447Z"
   },
   {
    "duration": 0,
    "start_time": "2023-08-17T16:45:02.449Z"
   },
   {
    "duration": 2196,
    "start_time": "2023-08-17T16:45:28.399Z"
   },
   {
    "duration": 57,
    "start_time": "2023-08-17T16:45:30.598Z"
   },
   {
    "duration": 0,
    "start_time": "2023-08-17T16:45:30.658Z"
   },
   {
    "duration": 0,
    "start_time": "2023-08-17T16:45:30.659Z"
   },
   {
    "duration": 0,
    "start_time": "2023-08-17T16:45:30.661Z"
   },
   {
    "duration": 0,
    "start_time": "2023-08-17T16:45:30.662Z"
   },
   {
    "duration": 0,
    "start_time": "2023-08-17T16:45:30.663Z"
   },
   {
    "duration": 0,
    "start_time": "2023-08-17T16:45:30.664Z"
   },
   {
    "duration": 0,
    "start_time": "2023-08-17T16:45:30.664Z"
   },
   {
    "duration": 0,
    "start_time": "2023-08-17T16:45:30.665Z"
   },
   {
    "duration": 0,
    "start_time": "2023-08-17T16:45:30.667Z"
   },
   {
    "duration": 0,
    "start_time": "2023-08-17T16:45:30.668Z"
   },
   {
    "duration": 0,
    "start_time": "2023-08-17T16:45:30.669Z"
   },
   {
    "duration": 0,
    "start_time": "2023-08-17T16:45:30.670Z"
   },
   {
    "duration": 0,
    "start_time": "2023-08-17T16:45:30.671Z"
   },
   {
    "duration": 0,
    "start_time": "2023-08-17T16:45:30.672Z"
   },
   {
    "duration": 0,
    "start_time": "2023-08-17T16:45:30.673Z"
   },
   {
    "duration": 0,
    "start_time": "2023-08-17T16:45:30.673Z"
   },
   {
    "duration": 1,
    "start_time": "2023-08-17T16:45:30.674Z"
   },
   {
    "duration": 1,
    "start_time": "2023-08-17T16:45:30.675Z"
   },
   {
    "duration": 0,
    "start_time": "2023-08-17T16:45:30.676Z"
   },
   {
    "duration": 1,
    "start_time": "2023-08-17T16:45:30.677Z"
   },
   {
    "duration": 0,
    "start_time": "2023-08-17T16:45:30.722Z"
   },
   {
    "duration": 0,
    "start_time": "2023-08-17T16:45:30.723Z"
   },
   {
    "duration": 0,
    "start_time": "2023-08-17T16:45:30.725Z"
   },
   {
    "duration": 0,
    "start_time": "2023-08-17T16:45:30.726Z"
   },
   {
    "duration": 0,
    "start_time": "2023-08-17T16:45:30.727Z"
   },
   {
    "duration": 0,
    "start_time": "2023-08-17T16:45:30.728Z"
   },
   {
    "duration": 2225,
    "start_time": "2023-08-17T16:45:53.536Z"
   },
   {
    "duration": 2699,
    "start_time": "2023-08-17T16:46:00.764Z"
   },
   {
    "duration": 3,
    "start_time": "2023-08-17T16:46:03.466Z"
   },
   {
    "duration": 191,
    "start_time": "2023-08-17T16:46:03.471Z"
   },
   {
    "duration": 0,
    "start_time": "2023-08-17T16:46:03.664Z"
   },
   {
    "duration": 0,
    "start_time": "2023-08-17T16:46:03.665Z"
   },
   {
    "duration": 0,
    "start_time": "2023-08-17T16:46:03.666Z"
   },
   {
    "duration": 0,
    "start_time": "2023-08-17T16:46:03.668Z"
   },
   {
    "duration": 0,
    "start_time": "2023-08-17T16:46:03.668Z"
   },
   {
    "duration": 0,
    "start_time": "2023-08-17T16:46:03.669Z"
   },
   {
    "duration": 0,
    "start_time": "2023-08-17T16:46:03.670Z"
   },
   {
    "duration": 0,
    "start_time": "2023-08-17T16:46:03.671Z"
   },
   {
    "duration": 0,
    "start_time": "2023-08-17T16:46:03.673Z"
   },
   {
    "duration": 0,
    "start_time": "2023-08-17T16:46:03.674Z"
   },
   {
    "duration": 0,
    "start_time": "2023-08-17T16:46:03.675Z"
   },
   {
    "duration": 0,
    "start_time": "2023-08-17T16:46:03.676Z"
   },
   {
    "duration": 0,
    "start_time": "2023-08-17T16:46:03.677Z"
   },
   {
    "duration": 0,
    "start_time": "2023-08-17T16:46:03.679Z"
   },
   {
    "duration": 0,
    "start_time": "2023-08-17T16:46:03.679Z"
   },
   {
    "duration": 0,
    "start_time": "2023-08-17T16:46:03.680Z"
   },
   {
    "duration": 0,
    "start_time": "2023-08-17T16:46:03.681Z"
   },
   {
    "duration": 0,
    "start_time": "2023-08-17T16:46:03.683Z"
   },
   {
    "duration": 0,
    "start_time": "2023-08-17T16:46:03.683Z"
   },
   {
    "duration": 0,
    "start_time": "2023-08-17T16:46:03.684Z"
   },
   {
    "duration": 0,
    "start_time": "2023-08-17T16:46:03.686Z"
   },
   {
    "duration": 0,
    "start_time": "2023-08-17T16:46:03.686Z"
   },
   {
    "duration": 0,
    "start_time": "2023-08-17T16:46:03.688Z"
   },
   {
    "duration": 0,
    "start_time": "2023-08-17T16:46:03.708Z"
   },
   {
    "duration": 0,
    "start_time": "2023-08-17T16:46:03.709Z"
   },
   {
    "duration": 0,
    "start_time": "2023-08-17T16:46:03.710Z"
   },
   {
    "duration": 2210,
    "start_time": "2023-08-17T16:46:24.468Z"
   },
   {
    "duration": 1122,
    "start_time": "2023-08-17T16:46:26.681Z"
   },
   {
    "duration": 502,
    "start_time": "2023-08-17T16:46:27.805Z"
   },
   {
    "duration": 396,
    "start_time": "2023-08-17T16:46:28.308Z"
   },
   {
    "duration": 0,
    "start_time": "2023-08-17T16:46:28.709Z"
   },
   {
    "duration": 0,
    "start_time": "2023-08-17T16:46:28.710Z"
   },
   {
    "duration": 0,
    "start_time": "2023-08-17T16:46:28.711Z"
   },
   {
    "duration": 0,
    "start_time": "2023-08-17T16:46:28.712Z"
   },
   {
    "duration": 0,
    "start_time": "2023-08-17T16:46:28.713Z"
   },
   {
    "duration": 0,
    "start_time": "2023-08-17T16:46:28.714Z"
   },
   {
    "duration": 0,
    "start_time": "2023-08-17T16:46:28.715Z"
   },
   {
    "duration": 0,
    "start_time": "2023-08-17T16:46:28.716Z"
   },
   {
    "duration": 0,
    "start_time": "2023-08-17T16:46:28.717Z"
   },
   {
    "duration": 0,
    "start_time": "2023-08-17T16:46:28.718Z"
   },
   {
    "duration": 0,
    "start_time": "2023-08-17T16:46:28.718Z"
   },
   {
    "duration": 0,
    "start_time": "2023-08-17T16:46:28.719Z"
   },
   {
    "duration": 0,
    "start_time": "2023-08-17T16:46:28.720Z"
   },
   {
    "duration": 0,
    "start_time": "2023-08-17T16:46:28.721Z"
   },
   {
    "duration": 0,
    "start_time": "2023-08-17T16:46:28.723Z"
   },
   {
    "duration": 0,
    "start_time": "2023-08-17T16:46:28.724Z"
   },
   {
    "duration": 0,
    "start_time": "2023-08-17T16:46:28.725Z"
   },
   {
    "duration": 0,
    "start_time": "2023-08-17T16:46:28.727Z"
   },
   {
    "duration": 0,
    "start_time": "2023-08-17T16:46:28.728Z"
   },
   {
    "duration": 0,
    "start_time": "2023-08-17T16:46:28.729Z"
   },
   {
    "duration": 0,
    "start_time": "2023-08-17T16:46:28.730Z"
   },
   {
    "duration": 0,
    "start_time": "2023-08-17T16:46:28.731Z"
   },
   {
    "duration": 0,
    "start_time": "2023-08-17T16:46:28.732Z"
   },
   {
    "duration": 0,
    "start_time": "2023-08-17T16:46:28.733Z"
   },
   {
    "duration": 0,
    "start_time": "2023-08-17T16:46:28.734Z"
   },
   {
    "duration": 2166,
    "start_time": "2023-08-17T16:46:58.715Z"
   },
   {
    "duration": 1208,
    "start_time": "2023-08-17T16:47:00.884Z"
   },
   {
    "duration": 262,
    "start_time": "2023-08-17T16:47:02.093Z"
   },
   {
    "duration": 568,
    "start_time": "2023-08-17T16:47:02.357Z"
   },
   {
    "duration": 2919,
    "start_time": "2023-08-17T16:47:02.926Z"
   },
   {
    "duration": 40,
    "start_time": "2023-08-17T16:47:05.848Z"
   },
   {
    "duration": 711,
    "start_time": "2023-08-17T16:47:05.890Z"
   },
   {
    "duration": 296,
    "start_time": "2023-08-17T16:47:06.602Z"
   },
   {
    "duration": 24,
    "start_time": "2023-08-17T16:47:06.899Z"
   },
   {
    "duration": 2096,
    "start_time": "2023-08-17T16:47:06.926Z"
   },
   {
    "duration": 1945,
    "start_time": "2023-08-17T16:47:09.023Z"
   },
   {
    "duration": 0,
    "start_time": "2023-08-17T16:47:10.971Z"
   },
   {
    "duration": 0,
    "start_time": "2023-08-17T16:47:10.972Z"
   },
   {
    "duration": 0,
    "start_time": "2023-08-17T16:47:10.974Z"
   },
   {
    "duration": 0,
    "start_time": "2023-08-17T16:47:10.975Z"
   },
   {
    "duration": 0,
    "start_time": "2023-08-17T16:47:10.976Z"
   },
   {
    "duration": 0,
    "start_time": "2023-08-17T16:47:10.978Z"
   },
   {
    "duration": 0,
    "start_time": "2023-08-17T16:47:10.979Z"
   },
   {
    "duration": 0,
    "start_time": "2023-08-17T16:47:10.980Z"
   },
   {
    "duration": 0,
    "start_time": "2023-08-17T16:47:10.981Z"
   },
   {
    "duration": 0,
    "start_time": "2023-08-17T16:47:10.983Z"
   },
   {
    "duration": 0,
    "start_time": "2023-08-17T16:47:10.984Z"
   },
   {
    "duration": 0,
    "start_time": "2023-08-17T16:47:10.985Z"
   },
   {
    "duration": 0,
    "start_time": "2023-08-17T16:47:10.986Z"
   },
   {
    "duration": 0,
    "start_time": "2023-08-17T16:47:10.987Z"
   },
   {
    "duration": 0,
    "start_time": "2023-08-17T16:47:10.988Z"
   },
   {
    "duration": 0,
    "start_time": "2023-08-17T16:47:10.989Z"
   },
   {
    "duration": 0,
    "start_time": "2023-08-17T16:47:10.991Z"
   },
   {
    "duration": 0,
    "start_time": "2023-08-17T16:47:10.991Z"
   },
   {
    "duration": 2162,
    "start_time": "2023-08-17T16:47:36.804Z"
   },
   {
    "duration": 1096,
    "start_time": "2023-08-17T16:47:38.968Z"
   },
   {
    "duration": 451,
    "start_time": "2023-08-17T16:47:40.066Z"
   },
   {
    "duration": 368,
    "start_time": "2023-08-17T16:47:40.519Z"
   },
   {
    "duration": 1149,
    "start_time": "2023-08-17T16:47:40.889Z"
   },
   {
    "duration": 37,
    "start_time": "2023-08-17T16:47:42.039Z"
   },
   {
    "duration": 364,
    "start_time": "2023-08-17T16:47:42.078Z"
   },
   {
    "duration": 271,
    "start_time": "2023-08-17T16:47:42.444Z"
   },
   {
    "duration": 10,
    "start_time": "2023-08-17T16:47:42.717Z"
   },
   {
    "duration": 2134,
    "start_time": "2023-08-17T16:47:42.730Z"
   },
   {
    "duration": 2258,
    "start_time": "2023-08-17T16:47:44.866Z"
   },
   {
    "duration": 0,
    "start_time": "2023-08-17T16:47:47.125Z"
   },
   {
    "duration": 0,
    "start_time": "2023-08-17T16:47:47.126Z"
   },
   {
    "duration": 0,
    "start_time": "2023-08-17T16:47:47.127Z"
   },
   {
    "duration": 0,
    "start_time": "2023-08-17T16:47:47.128Z"
   },
   {
    "duration": 0,
    "start_time": "2023-08-17T16:47:47.129Z"
   },
   {
    "duration": 0,
    "start_time": "2023-08-17T16:47:47.131Z"
   },
   {
    "duration": 0,
    "start_time": "2023-08-17T16:47:47.132Z"
   },
   {
    "duration": 0,
    "start_time": "2023-08-17T16:47:47.133Z"
   },
   {
    "duration": 1,
    "start_time": "2023-08-17T16:47:47.134Z"
   },
   {
    "duration": 0,
    "start_time": "2023-08-17T16:47:47.136Z"
   },
   {
    "duration": 0,
    "start_time": "2023-08-17T16:47:47.137Z"
   },
   {
    "duration": 0,
    "start_time": "2023-08-17T16:47:47.138Z"
   },
   {
    "duration": 0,
    "start_time": "2023-08-17T16:47:47.139Z"
   },
   {
    "duration": 0,
    "start_time": "2023-08-17T16:47:47.140Z"
   },
   {
    "duration": 0,
    "start_time": "2023-08-17T16:47:47.141Z"
   },
   {
    "duration": 0,
    "start_time": "2023-08-17T16:47:47.142Z"
   },
   {
    "duration": 0,
    "start_time": "2023-08-17T16:47:47.143Z"
   },
   {
    "duration": 0,
    "start_time": "2023-08-17T16:47:47.143Z"
   },
   {
    "duration": 2148,
    "start_time": "2023-08-17T16:49:00.902Z"
   },
   {
    "duration": 1103,
    "start_time": "2023-08-17T16:49:03.052Z"
   },
   {
    "duration": 193,
    "start_time": "2023-08-17T16:49:04.157Z"
   },
   {
    "duration": 409,
    "start_time": "2023-08-17T16:49:04.351Z"
   },
   {
    "duration": 1114,
    "start_time": "2023-08-17T16:49:04.762Z"
   },
   {
    "duration": 49,
    "start_time": "2023-08-17T16:49:05.877Z"
   },
   {
    "duration": 491,
    "start_time": "2023-08-17T16:49:05.927Z"
   },
   {
    "duration": 261,
    "start_time": "2023-08-17T16:49:06.421Z"
   },
   {
    "duration": 8,
    "start_time": "2023-08-17T16:49:06.683Z"
   },
   {
    "duration": 2143,
    "start_time": "2023-08-17T16:49:06.692Z"
   },
   {
    "duration": 35328,
    "start_time": "2023-08-17T16:49:08.837Z"
   },
   {
    "duration": 0,
    "start_time": "2023-08-17T16:49:44.167Z"
   },
   {
    "duration": 0,
    "start_time": "2023-08-17T16:49:44.169Z"
   },
   {
    "duration": 0,
    "start_time": "2023-08-17T16:49:44.171Z"
   },
   {
    "duration": 0,
    "start_time": "2023-08-17T16:49:44.172Z"
   },
   {
    "duration": 1,
    "start_time": "2023-08-17T16:49:44.173Z"
   },
   {
    "duration": 0,
    "start_time": "2023-08-17T16:49:44.175Z"
   },
   {
    "duration": 0,
    "start_time": "2023-08-17T16:49:44.176Z"
   },
   {
    "duration": 0,
    "start_time": "2023-08-17T16:49:44.177Z"
   },
   {
    "duration": 0,
    "start_time": "2023-08-17T16:49:44.179Z"
   },
   {
    "duration": 0,
    "start_time": "2023-08-17T16:49:44.180Z"
   },
   {
    "duration": 0,
    "start_time": "2023-08-17T16:49:44.181Z"
   },
   {
    "duration": 0,
    "start_time": "2023-08-17T16:49:44.182Z"
   },
   {
    "duration": 0,
    "start_time": "2023-08-17T16:49:44.184Z"
   },
   {
    "duration": 0,
    "start_time": "2023-08-17T16:49:44.185Z"
   },
   {
    "duration": 0,
    "start_time": "2023-08-17T16:49:44.186Z"
   },
   {
    "duration": 0,
    "start_time": "2023-08-17T16:49:44.187Z"
   },
   {
    "duration": 0,
    "start_time": "2023-08-17T16:49:44.188Z"
   },
   {
    "duration": 0,
    "start_time": "2023-08-17T16:49:44.189Z"
   },
   {
    "duration": 216,
    "start_time": "2023-08-17T16:51:49.027Z"
   },
   {
    "duration": 7,
    "start_time": "2023-08-17T16:52:09.173Z"
   },
   {
    "duration": 2220,
    "start_time": "2023-08-17T16:52:20.155Z"
   },
   {
    "duration": 1218,
    "start_time": "2023-08-17T16:52:22.378Z"
   },
   {
    "duration": 283,
    "start_time": "2023-08-17T16:52:23.598Z"
   },
   {
    "duration": 404,
    "start_time": "2023-08-17T16:52:23.883Z"
   },
   {
    "duration": 1168,
    "start_time": "2023-08-17T16:52:24.289Z"
   },
   {
    "duration": 38,
    "start_time": "2023-08-17T16:52:25.459Z"
   },
   {
    "duration": 390,
    "start_time": "2023-08-17T16:52:25.498Z"
   },
   {
    "duration": 338,
    "start_time": "2023-08-17T16:52:25.890Z"
   },
   {
    "duration": 10,
    "start_time": "2023-08-17T16:52:26.231Z"
   },
   {
    "duration": 2151,
    "start_time": "2023-08-17T16:52:26.243Z"
   },
   {
    "duration": 2064,
    "start_time": "2023-08-17T16:52:28.396Z"
   },
   {
    "duration": 0,
    "start_time": "2023-08-17T16:52:30.463Z"
   },
   {
    "duration": 0,
    "start_time": "2023-08-17T16:52:30.465Z"
   },
   {
    "duration": 0,
    "start_time": "2023-08-17T16:52:30.466Z"
   },
   {
    "duration": 0,
    "start_time": "2023-08-17T16:52:30.468Z"
   },
   {
    "duration": 0,
    "start_time": "2023-08-17T16:52:30.470Z"
   },
   {
    "duration": 0,
    "start_time": "2023-08-17T16:52:30.471Z"
   },
   {
    "duration": 0,
    "start_time": "2023-08-17T16:52:30.472Z"
   },
   {
    "duration": 0,
    "start_time": "2023-08-17T16:52:30.473Z"
   },
   {
    "duration": 0,
    "start_time": "2023-08-17T16:52:30.474Z"
   },
   {
    "duration": 0,
    "start_time": "2023-08-17T16:52:30.476Z"
   },
   {
    "duration": 0,
    "start_time": "2023-08-17T16:52:30.477Z"
   },
   {
    "duration": 0,
    "start_time": "2023-08-17T16:52:30.478Z"
   },
   {
    "duration": 0,
    "start_time": "2023-08-17T16:52:30.479Z"
   },
   {
    "duration": 0,
    "start_time": "2023-08-17T16:52:30.480Z"
   },
   {
    "duration": 0,
    "start_time": "2023-08-17T16:52:30.481Z"
   },
   {
    "duration": 0,
    "start_time": "2023-08-17T16:52:30.482Z"
   },
   {
    "duration": 0,
    "start_time": "2023-08-17T16:52:30.484Z"
   },
   {
    "duration": 0,
    "start_time": "2023-08-17T16:52:30.485Z"
   },
   {
    "duration": 2190,
    "start_time": "2023-08-17T16:54:07.092Z"
   },
   {
    "duration": 1174,
    "start_time": "2023-08-17T16:54:09.285Z"
   },
   {
    "duration": 254,
    "start_time": "2023-08-17T16:54:10.461Z"
   },
   {
    "duration": 396,
    "start_time": "2023-08-17T16:54:10.718Z"
   },
   {
    "duration": 1184,
    "start_time": "2023-08-17T16:54:11.116Z"
   },
   {
    "duration": 43,
    "start_time": "2023-08-17T16:54:12.301Z"
   },
   {
    "duration": 381,
    "start_time": "2023-08-17T16:54:12.346Z"
   },
   {
    "duration": 277,
    "start_time": "2023-08-17T16:54:12.729Z"
   },
   {
    "duration": 11,
    "start_time": "2023-08-17T16:54:13.009Z"
   },
   {
    "duration": 2161,
    "start_time": "2023-08-17T16:54:13.024Z"
   },
   {
    "duration": 2089,
    "start_time": "2023-08-17T16:54:15.187Z"
   },
   {
    "duration": 0,
    "start_time": "2023-08-17T16:54:17.278Z"
   },
   {
    "duration": 0,
    "start_time": "2023-08-17T16:54:17.280Z"
   },
   {
    "duration": 0,
    "start_time": "2023-08-17T16:54:17.281Z"
   },
   {
    "duration": 0,
    "start_time": "2023-08-17T16:54:17.282Z"
   },
   {
    "duration": 0,
    "start_time": "2023-08-17T16:54:17.284Z"
   },
   {
    "duration": 0,
    "start_time": "2023-08-17T16:54:17.285Z"
   },
   {
    "duration": 0,
    "start_time": "2023-08-17T16:54:17.286Z"
   },
   {
    "duration": 0,
    "start_time": "2023-08-17T16:54:17.287Z"
   },
   {
    "duration": 0,
    "start_time": "2023-08-17T16:54:17.288Z"
   },
   {
    "duration": 0,
    "start_time": "2023-08-17T16:54:17.289Z"
   },
   {
    "duration": 0,
    "start_time": "2023-08-17T16:54:17.290Z"
   },
   {
    "duration": 0,
    "start_time": "2023-08-17T16:54:17.291Z"
   },
   {
    "duration": 0,
    "start_time": "2023-08-17T16:54:17.293Z"
   },
   {
    "duration": 0,
    "start_time": "2023-08-17T16:54:17.294Z"
   },
   {
    "duration": 0,
    "start_time": "2023-08-17T16:54:17.295Z"
   },
   {
    "duration": 0,
    "start_time": "2023-08-17T16:54:17.296Z"
   },
   {
    "duration": 0,
    "start_time": "2023-08-17T16:54:17.298Z"
   },
   {
    "duration": 0,
    "start_time": "2023-08-17T16:54:17.299Z"
   },
   {
    "duration": 2121,
    "start_time": "2023-08-17T16:56:36.778Z"
   },
   {
    "duration": 1101,
    "start_time": "2023-08-17T16:56:38.902Z"
   },
   {
    "duration": 274,
    "start_time": "2023-08-17T16:56:40.005Z"
   },
   {
    "duration": 364,
    "start_time": "2023-08-17T16:56:40.281Z"
   },
   {
    "duration": 1104,
    "start_time": "2023-08-17T16:56:40.647Z"
   },
   {
    "duration": 35,
    "start_time": "2023-08-17T16:56:41.753Z"
   },
   {
    "duration": 375,
    "start_time": "2023-08-17T16:56:41.790Z"
   },
   {
    "duration": 267,
    "start_time": "2023-08-17T16:56:42.167Z"
   },
   {
    "duration": 88,
    "start_time": "2023-08-17T16:56:42.436Z"
   },
   {
    "duration": 0,
    "start_time": "2023-08-17T16:56:42.526Z"
   },
   {
    "duration": 0,
    "start_time": "2023-08-17T16:56:42.527Z"
   },
   {
    "duration": 0,
    "start_time": "2023-08-17T16:56:42.529Z"
   },
   {
    "duration": 0,
    "start_time": "2023-08-17T16:56:42.529Z"
   },
   {
    "duration": 0,
    "start_time": "2023-08-17T16:56:42.530Z"
   },
   {
    "duration": 0,
    "start_time": "2023-08-17T16:56:42.532Z"
   },
   {
    "duration": 0,
    "start_time": "2023-08-17T16:56:42.532Z"
   },
   {
    "duration": 0,
    "start_time": "2023-08-17T16:56:42.533Z"
   },
   {
    "duration": 0,
    "start_time": "2023-08-17T16:56:42.534Z"
   },
   {
    "duration": 0,
    "start_time": "2023-08-17T16:56:42.535Z"
   },
   {
    "duration": 0,
    "start_time": "2023-08-17T16:56:42.536Z"
   },
   {
    "duration": 0,
    "start_time": "2023-08-17T16:56:42.537Z"
   },
   {
    "duration": 0,
    "start_time": "2023-08-17T16:56:42.539Z"
   },
   {
    "duration": 0,
    "start_time": "2023-08-17T16:56:42.540Z"
   },
   {
    "duration": 0,
    "start_time": "2023-08-17T16:56:42.540Z"
   },
   {
    "duration": 0,
    "start_time": "2023-08-17T16:56:42.542Z"
   },
   {
    "duration": 1,
    "start_time": "2023-08-17T16:56:42.542Z"
   },
   {
    "duration": 0,
    "start_time": "2023-08-17T16:56:42.544Z"
   },
   {
    "duration": 0,
    "start_time": "2023-08-17T16:56:42.545Z"
   },
   {
    "duration": 0,
    "start_time": "2023-08-17T16:56:42.546Z"
   },
   {
    "duration": 2114,
    "start_time": "2023-08-17T16:57:02.382Z"
   },
   {
    "duration": 1104,
    "start_time": "2023-08-17T16:57:04.499Z"
   },
   {
    "duration": 294,
    "start_time": "2023-08-17T16:57:05.605Z"
   },
   {
    "duration": 422,
    "start_time": "2023-08-17T16:57:05.901Z"
   },
   {
    "duration": 1125,
    "start_time": "2023-08-17T16:57:06.326Z"
   },
   {
    "duration": 37,
    "start_time": "2023-08-17T16:57:07.452Z"
   },
   {
    "duration": 381,
    "start_time": "2023-08-17T16:57:07.492Z"
   },
   {
    "duration": 284,
    "start_time": "2023-08-17T16:57:07.875Z"
   },
   {
    "duration": 8,
    "start_time": "2023-08-17T16:57:08.161Z"
   },
   {
    "duration": 2135,
    "start_time": "2023-08-17T16:57:08.171Z"
   },
   {
    "duration": 1845,
    "start_time": "2023-08-17T16:57:10.309Z"
   },
   {
    "duration": 0,
    "start_time": "2023-08-17T16:57:12.156Z"
   },
   {
    "duration": 0,
    "start_time": "2023-08-17T16:57:12.158Z"
   },
   {
    "duration": 0,
    "start_time": "2023-08-17T16:57:12.159Z"
   },
   {
    "duration": 0,
    "start_time": "2023-08-17T16:57:12.161Z"
   },
   {
    "duration": 0,
    "start_time": "2023-08-17T16:57:12.162Z"
   },
   {
    "duration": 0,
    "start_time": "2023-08-17T16:57:12.164Z"
   },
   {
    "duration": 0,
    "start_time": "2023-08-17T16:57:12.165Z"
   },
   {
    "duration": 0,
    "start_time": "2023-08-17T16:57:12.167Z"
   },
   {
    "duration": 0,
    "start_time": "2023-08-17T16:57:12.169Z"
   },
   {
    "duration": 0,
    "start_time": "2023-08-17T16:57:12.170Z"
   },
   {
    "duration": 0,
    "start_time": "2023-08-17T16:57:12.172Z"
   },
   {
    "duration": 0,
    "start_time": "2023-08-17T16:57:12.173Z"
   },
   {
    "duration": 0,
    "start_time": "2023-08-17T16:57:12.174Z"
   },
   {
    "duration": 0,
    "start_time": "2023-08-17T16:57:12.176Z"
   },
   {
    "duration": 0,
    "start_time": "2023-08-17T16:57:12.177Z"
   },
   {
    "duration": 0,
    "start_time": "2023-08-17T16:57:12.178Z"
   },
   {
    "duration": 0,
    "start_time": "2023-08-17T16:57:12.180Z"
   },
   {
    "duration": 0,
    "start_time": "2023-08-17T16:57:12.181Z"
   },
   {
    "duration": 2239,
    "start_time": "2023-08-17T17:00:41.803Z"
   },
   {
    "duration": 1236,
    "start_time": "2023-08-17T17:00:44.044Z"
   },
   {
    "duration": 268,
    "start_time": "2023-08-17T17:00:45.282Z"
   },
   {
    "duration": 445,
    "start_time": "2023-08-17T17:00:45.553Z"
   },
   {
    "duration": 1230,
    "start_time": "2023-08-17T17:00:46.000Z"
   },
   {
    "duration": 37,
    "start_time": "2023-08-17T17:00:47.232Z"
   },
   {
    "duration": 386,
    "start_time": "2023-08-17T17:00:47.271Z"
   },
   {
    "duration": 283,
    "start_time": "2023-08-17T17:00:47.659Z"
   },
   {
    "duration": 8,
    "start_time": "2023-08-17T17:00:47.944Z"
   },
   {
    "duration": 2215,
    "start_time": "2023-08-17T17:00:47.956Z"
   },
   {
    "duration": 539,
    "start_time": "2023-08-17T17:00:50.173Z"
   },
   {
    "duration": 1,
    "start_time": "2023-08-17T17:00:50.714Z"
   },
   {
    "duration": 0,
    "start_time": "2023-08-17T17:00:50.716Z"
   },
   {
    "duration": 0,
    "start_time": "2023-08-17T17:00:50.717Z"
   },
   {
    "duration": 0,
    "start_time": "2023-08-17T17:00:50.720Z"
   },
   {
    "duration": 0,
    "start_time": "2023-08-17T17:00:50.721Z"
   },
   {
    "duration": 0,
    "start_time": "2023-08-17T17:00:50.722Z"
   },
   {
    "duration": 0,
    "start_time": "2023-08-17T17:00:50.723Z"
   },
   {
    "duration": 0,
    "start_time": "2023-08-17T17:00:50.725Z"
   },
   {
    "duration": 0,
    "start_time": "2023-08-17T17:00:50.726Z"
   },
   {
    "duration": 0,
    "start_time": "2023-08-17T17:00:50.728Z"
   },
   {
    "duration": 0,
    "start_time": "2023-08-17T17:00:50.729Z"
   },
   {
    "duration": 0,
    "start_time": "2023-08-17T17:00:50.731Z"
   },
   {
    "duration": 0,
    "start_time": "2023-08-17T17:00:50.732Z"
   },
   {
    "duration": 0,
    "start_time": "2023-08-17T17:00:50.732Z"
   },
   {
    "duration": 0,
    "start_time": "2023-08-17T17:00:50.733Z"
   },
   {
    "duration": 0,
    "start_time": "2023-08-17T17:00:50.734Z"
   },
   {
    "duration": 0,
    "start_time": "2023-08-17T17:00:50.735Z"
   },
   {
    "duration": 0,
    "start_time": "2023-08-17T17:00:50.736Z"
   },
   {
    "duration": 2184,
    "start_time": "2023-08-17T17:01:07.684Z"
   },
   {
    "duration": 1159,
    "start_time": "2023-08-17T17:01:09.870Z"
   },
   {
    "duration": 194,
    "start_time": "2023-08-17T17:01:11.031Z"
   },
   {
    "duration": 379,
    "start_time": "2023-08-17T17:01:11.226Z"
   },
   {
    "duration": 1192,
    "start_time": "2023-08-17T17:01:11.607Z"
   },
   {
    "duration": 44,
    "start_time": "2023-08-17T17:01:12.801Z"
   },
   {
    "duration": 399,
    "start_time": "2023-08-17T17:01:12.848Z"
   },
   {
    "duration": 295,
    "start_time": "2023-08-17T17:01:13.250Z"
   },
   {
    "duration": 8,
    "start_time": "2023-08-17T17:01:13.547Z"
   },
   {
    "duration": 2440,
    "start_time": "2023-08-17T17:01:13.557Z"
   },
   {
    "duration": 563,
    "start_time": "2023-08-17T17:01:15.999Z"
   },
   {
    "duration": 0,
    "start_time": "2023-08-17T17:01:16.564Z"
   },
   {
    "duration": 0,
    "start_time": "2023-08-17T17:01:16.566Z"
   },
   {
    "duration": 0,
    "start_time": "2023-08-17T17:01:16.567Z"
   },
   {
    "duration": 0,
    "start_time": "2023-08-17T17:01:16.569Z"
   },
   {
    "duration": 0,
    "start_time": "2023-08-17T17:01:16.570Z"
   },
   {
    "duration": 0,
    "start_time": "2023-08-17T17:01:16.571Z"
   },
   {
    "duration": 0,
    "start_time": "2023-08-17T17:01:16.572Z"
   },
   {
    "duration": 0,
    "start_time": "2023-08-17T17:01:16.572Z"
   },
   {
    "duration": 0,
    "start_time": "2023-08-17T17:01:16.579Z"
   },
   {
    "duration": 0,
    "start_time": "2023-08-17T17:01:16.580Z"
   },
   {
    "duration": 0,
    "start_time": "2023-08-17T17:01:16.581Z"
   },
   {
    "duration": 0,
    "start_time": "2023-08-17T17:01:16.583Z"
   },
   {
    "duration": 0,
    "start_time": "2023-08-17T17:01:16.584Z"
   },
   {
    "duration": 0,
    "start_time": "2023-08-17T17:01:16.586Z"
   },
   {
    "duration": 0,
    "start_time": "2023-08-17T17:01:16.587Z"
   },
   {
    "duration": 0,
    "start_time": "2023-08-17T17:01:16.588Z"
   },
   {
    "duration": 0,
    "start_time": "2023-08-17T17:01:16.590Z"
   },
   {
    "duration": 0,
    "start_time": "2023-08-17T17:01:16.591Z"
   },
   {
    "duration": 2173,
    "start_time": "2023-08-17T17:01:31.255Z"
   },
   {
    "duration": 1210,
    "start_time": "2023-08-17T17:01:33.431Z"
   },
   {
    "duration": 202,
    "start_time": "2023-08-17T17:01:34.643Z"
   },
   {
    "duration": 389,
    "start_time": "2023-08-17T17:01:34.847Z"
   },
   {
    "duration": 1187,
    "start_time": "2023-08-17T17:01:35.239Z"
   },
   {
    "duration": 38,
    "start_time": "2023-08-17T17:01:36.428Z"
   },
   {
    "duration": 351,
    "start_time": "2023-08-17T17:01:36.468Z"
   },
   {
    "duration": 273,
    "start_time": "2023-08-17T17:01:36.821Z"
   },
   {
    "duration": 13,
    "start_time": "2023-08-17T17:01:37.096Z"
   },
   {
    "duration": 2142,
    "start_time": "2023-08-17T17:01:37.110Z"
   }
  ],
  "kernelspec": {
   "display_name": "Python 3 (ipykernel)",
   "language": "python",
   "name": "python3"
  },
  "language_info": {
   "codemirror_mode": {
    "name": "ipython",
    "version": 3
   },
   "file_extension": ".py",
   "mimetype": "text/x-python",
   "name": "python",
   "nbconvert_exporter": "python",
   "pygments_lexer": "ipython3",
   "version": "3.9.5"
  },
  "toc": {
   "base_numbering": 1,
   "nav_menu": {},
   "number_sections": true,
   "sideBar": true,
   "skip_h1_title": true,
   "title_cell": "Table of Contents",
   "title_sidebar": "Contents",
   "toc_cell": false,
   "toc_position": {},
   "toc_section_display": true,
   "toc_window_display": false
  }
 },
 "nbformat": 4,
 "nbformat_minor": 2
}
