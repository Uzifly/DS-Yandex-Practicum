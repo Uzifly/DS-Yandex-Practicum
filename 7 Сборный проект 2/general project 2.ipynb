{
 "cells": [
  {
   "cell_type": "markdown",
   "metadata": {
    "toc": true
   },
   "source": [
    "<h1>Содержание<span class=\"tocSkip\"></span></h1>\n",
    "<div class=\"toc\"><ul class=\"toc-item\"><li><span><a href=\"#Подготовка-данных\" data-toc-modified-id=\"Подготовка-данных-1\"><span class=\"toc-item-num\">1&nbsp;&nbsp;</span>Подготовка данных</a></span><ul class=\"toc-item\"><li><span><a href=\"#Проверка-целевых-признаков\" data-toc-modified-id=\"Проверка-целевых-признаков-1.1\"><span class=\"toc-item-num\">1.1&nbsp;&nbsp;</span>Проверка целевых признаков</a></span></li><li><span><a href=\"#Заполнение-пропусков\" data-toc-modified-id=\"Заполнение-пропусков-1.2\"><span class=\"toc-item-num\">1.2&nbsp;&nbsp;</span>Заполнение пропусков</a></span></li></ul></li><li><span><a href=\"#Анализ-данных\" data-toc-modified-id=\"Анализ-данных-2\"><span class=\"toc-item-num\">2&nbsp;&nbsp;</span>Анализ данных</a></span><ul class=\"toc-item\"><li><span><a href=\"#Концентрация-металлов\" data-toc-modified-id=\"Концентрация-металлов-2.1\"><span class=\"toc-item-num\">2.1&nbsp;&nbsp;</span>Концентрация металлов</a></span></li><li><span><a href=\"#Распределение-размера-гранул-в-выборках\" data-toc-modified-id=\"Распределение-размера-гранул-в-выборках-2.2\"><span class=\"toc-item-num\">2.2&nbsp;&nbsp;</span>Распределение размера гранул в выборках</a></span></li><li><span><a href=\"#Суммарная-концентрация-веществ\" data-toc-modified-id=\"Суммарная-концентрация-веществ-2.3\"><span class=\"toc-item-num\">2.3&nbsp;&nbsp;</span>Суммарная концентрация веществ</a></span></li></ul></li><li><span><a href=\"#Модель\" data-toc-modified-id=\"Модель-3\"><span class=\"toc-item-num\">3&nbsp;&nbsp;</span>Модель</a></span><ul class=\"toc-item\"><li><span><a href=\"#Подготовка\" data-toc-modified-id=\"Подготовка-3.1\"><span class=\"toc-item-num\">3.1&nbsp;&nbsp;</span>Подготовка</a></span></li><li><span><a href=\"#Вывод\" data-toc-modified-id=\"Вывод-3.2\"><span class=\"toc-item-num\">3.2&nbsp;&nbsp;</span>Вывод</a></span></li></ul></li></ul></div>"
   ]
  },
  {
   "cell_type": "markdown",
   "metadata": {},
   "source": [
    "# Восстановление золота из руды"
   ]
  },
  {
   "cell_type": "markdown",
   "metadata": {},
   "source": [
    "Подготовьте прототип модели машинного обучения для «Цифры». Компания разрабатывает решения для эффективной работы промышленных предприятий.\n",
    "\n",
    "Модель должна предсказать коэффициент восстановления золота из золотосодержащей руды. Используйте данные с параметрами добычи и очистки. \n",
    "\n",
    "Модель поможет оптимизировать производство, чтобы не запускать предприятие с убыточными характеристиками.\n",
    "\n",
    "Вам нужно:\n",
    "\n",
    "1. Подготовить данные;\n",
    "2. Провести исследовательский анализ данных;\n",
    "3. Построить и обучить модель.\n",
    "\n",
    "Чтобы выполнить проект, обращайтесь к библиотекам *pandas*, *matplotlib* и *sklearn.* Вам поможет их документация."
   ]
  },
  {
   "cell_type": "markdown",
   "metadata": {},
   "source": [
    "## Подготовка данных"
   ]
  },
  {
   "cell_type": "code",
   "execution_count": 1,
   "metadata": {},
   "outputs": [],
   "source": [
    "import pandas as pd\n",
    "import matplotlib.pyplot as plt\n",
    "import numpy as np\n",
    "import seaborn as sns\n",
    "\n",
    "from sklearn.preprocessing import StandardScaler\n",
    "from sklearn.impute import KNNImputer\n",
    "from sklearn.metrics import mean_absolute_error\n",
    "from sklearn.ensemble import RandomForestRegressor\n",
    "from sklearn.tree import DecisionTreeRegressor\n",
    "from sklearn.linear_model import LinearRegression\n",
    "from sklearn.model_selection import GridSearchCV\n",
    "from sklearn.metrics import make_scorer\n",
    "from sklearn.dummy import DummyRegressor\n",
    "\n",
    "pd.set_option('display.max_columns', None)\n",
    "# 'display.max_rows', None)\n",
    "\n",
    "RND_SEED = 12345\n"
   ]
  },
  {
   "cell_type": "code",
   "execution_count": 2,
   "metadata": {},
   "outputs": [],
   "source": [
    "try:\n",
    "    data_full = pd.read_csv('/Users/evgeniu/Desktop/Education/Practicum /Gold_industry/gold_industry_full.csv')\n",
    "    data_test = pd.read_csv('/Users/evgeniu/Desktop/Education/Practicum /Gold_industry/gold_industry_test.csv')\n",
    "    data_train = pd.read_csv('/Users/evgeniu/Desktop/Education/Practicum /Gold_industry/gold_industry_train.csv')\n",
    "except:\n",
    "    data_full = pd.read_csv('/datasets/gold_industry_full.csv')\n",
    "    data_test = pd.read_csv('/datasets/gold_industry_test.csv')\n",
    "    data_train = pd.read_csv('/datasets/gold_industry_train.csv')"
   ]
  },
  {
   "cell_type": "code",
   "execution_count": 3,
   "metadata": {},
   "outputs": [
    {
     "name": "stdout",
     "output_type": "stream",
     "text": [
      "<class 'pandas.core.frame.DataFrame'>\n",
      "RangeIndex: 19439 entries, 0 to 19438\n",
      "Columns: 87 entries, date to final.output.tail_sol\n",
      "dtypes: float64(86), object(1)\n",
      "memory usage: 12.9+ MB\n"
     ]
    },
    {
     "data": {
      "text/html": [
       "<div>\n",
       "<style scoped>\n",
       "    .dataframe tbody tr th:only-of-type {\n",
       "        vertical-align: middle;\n",
       "    }\n",
       "\n",
       "    .dataframe tbody tr th {\n",
       "        vertical-align: top;\n",
       "    }\n",
       "\n",
       "    .dataframe thead th {\n",
       "        text-align: right;\n",
       "    }\n",
       "</style>\n",
       "<table border=\"1\" class=\"dataframe\">\n",
       "  <thead>\n",
       "    <tr style=\"text-align: right;\">\n",
       "      <th></th>\n",
       "      <th>date</th>\n",
       "      <th>rougher.input.feed_au</th>\n",
       "      <th>rougher.input.feed_ag</th>\n",
       "      <th>rougher.input.feed_pb</th>\n",
       "      <th>rougher.input.feed_sol</th>\n",
       "      <th>rougher.input.feed_rate</th>\n",
       "      <th>rougher.input.feed_size</th>\n",
       "      <th>rougher.input.floatbank10_sulfate</th>\n",
       "      <th>rougher.input.floatbank10_xanthate</th>\n",
       "      <th>rougher.state.floatbank10_a_air</th>\n",
       "      <th>rougher.state.floatbank10_a_level</th>\n",
       "      <th>rougher.state.floatbank10_b_air</th>\n",
       "      <th>rougher.state.floatbank10_b_level</th>\n",
       "      <th>rougher.state.floatbank10_c_air</th>\n",
       "      <th>rougher.state.floatbank10_c_level</th>\n",
       "      <th>rougher.state.floatbank10_d_air</th>\n",
       "      <th>rougher.state.floatbank10_d_level</th>\n",
       "      <th>rougher.state.floatbank10_e_air</th>\n",
       "      <th>rougher.state.floatbank10_e_level</th>\n",
       "      <th>rougher.state.floatbank10_f_air</th>\n",
       "      <th>rougher.state.floatbank10_f_level</th>\n",
       "      <th>rougher.input.floatbank11_sulfate</th>\n",
       "      <th>rougher.input.floatbank11_xanthate</th>\n",
       "      <th>rougher.calculation.sulfate_to_au_concentrate</th>\n",
       "      <th>rougher.calculation.floatbank10_sulfate_to_au_feed</th>\n",
       "      <th>rougher.calculation.floatbank11_sulfate_to_au_feed</th>\n",
       "      <th>rougher.calculation.au_pb_ratio</th>\n",
       "      <th>rougher.output.concentrate_au</th>\n",
       "      <th>rougher.output.concentrate_ag</th>\n",
       "      <th>rougher.output.concentrate_pb</th>\n",
       "      <th>rougher.output.concentrate_sol</th>\n",
       "      <th>rougher.output.recovery</th>\n",
       "      <th>rougher.output.tail_au</th>\n",
       "      <th>rougher.output.tail_ag</th>\n",
       "      <th>rougher.output.tail_pb</th>\n",
       "      <th>rougher.output.tail_sol</th>\n",
       "      <th>primary_cleaner.input.sulfate</th>\n",
       "      <th>primary_cleaner.input.depressant</th>\n",
       "      <th>primary_cleaner.input.feed_size</th>\n",
       "      <th>primary_cleaner.input.xanthate</th>\n",
       "      <th>primary_cleaner.state.floatbank8_a_air</th>\n",
       "      <th>primary_cleaner.state.floatbank8_a_level</th>\n",
       "      <th>primary_cleaner.state.floatbank8_b_air</th>\n",
       "      <th>primary_cleaner.state.floatbank8_b_level</th>\n",
       "      <th>primary_cleaner.state.floatbank8_c_air</th>\n",
       "      <th>primary_cleaner.state.floatbank8_c_level</th>\n",
       "      <th>primary_cleaner.state.floatbank8_d_air</th>\n",
       "      <th>primary_cleaner.state.floatbank8_d_level</th>\n",
       "      <th>primary_cleaner.output.concentrate_au</th>\n",
       "      <th>primary_cleaner.output.concentrate_ag</th>\n",
       "      <th>primary_cleaner.output.concentrate_pb</th>\n",
       "      <th>primary_cleaner.output.concentrate_sol</th>\n",
       "      <th>primary_cleaner.output.tail_au</th>\n",
       "      <th>primary_cleaner.output.tail_ag</th>\n",
       "      <th>primary_cleaner.output.tail_pb</th>\n",
       "      <th>primary_cleaner.output.tail_sol</th>\n",
       "      <th>secondary_cleaner.state.floatbank2_a_air</th>\n",
       "      <th>secondary_cleaner.state.floatbank2_a_level</th>\n",
       "      <th>secondary_cleaner.state.floatbank2_b_air</th>\n",
       "      <th>secondary_cleaner.state.floatbank2_b_level</th>\n",
       "      <th>secondary_cleaner.state.floatbank3_a_air</th>\n",
       "      <th>secondary_cleaner.state.floatbank3_a_level</th>\n",
       "      <th>secondary_cleaner.state.floatbank3_b_air</th>\n",
       "      <th>secondary_cleaner.state.floatbank3_b_level</th>\n",
       "      <th>secondary_cleaner.state.floatbank4_a_air</th>\n",
       "      <th>secondary_cleaner.state.floatbank4_a_level</th>\n",
       "      <th>secondary_cleaner.state.floatbank4_b_air</th>\n",
       "      <th>secondary_cleaner.state.floatbank4_b_level</th>\n",
       "      <th>secondary_cleaner.state.floatbank5_a_air</th>\n",
       "      <th>secondary_cleaner.state.floatbank5_a_level</th>\n",
       "      <th>secondary_cleaner.state.floatbank5_b_air</th>\n",
       "      <th>secondary_cleaner.state.floatbank5_b_level</th>\n",
       "      <th>secondary_cleaner.state.floatbank6_a_air</th>\n",
       "      <th>secondary_cleaner.state.floatbank6_a_level</th>\n",
       "      <th>secondary_cleaner.output.tail_au</th>\n",
       "      <th>secondary_cleaner.output.tail_ag</th>\n",
       "      <th>secondary_cleaner.output.tail_pb</th>\n",
       "      <th>secondary_cleaner.output.tail_sol</th>\n",
       "      <th>final.output.concentrate_au</th>\n",
       "      <th>final.output.concentrate_ag</th>\n",
       "      <th>final.output.concentrate_pb</th>\n",
       "      <th>final.output.concentrate_sol</th>\n",
       "      <th>final.output.recovery</th>\n",
       "      <th>final.output.tail_au</th>\n",
       "      <th>final.output.tail_ag</th>\n",
       "      <th>final.output.tail_pb</th>\n",
       "      <th>final.output.tail_sol</th>\n",
       "    </tr>\n",
       "  </thead>\n",
       "  <tbody>\n",
       "    <tr>\n",
       "      <th>0</th>\n",
       "      <td>2016-01-15 00:00:00</td>\n",
       "      <td>6.486150</td>\n",
       "      <td>6.100378</td>\n",
       "      <td>2.284912</td>\n",
       "      <td>36.808594</td>\n",
       "      <td>523.546326</td>\n",
       "      <td>55.486599</td>\n",
       "      <td>11.986616</td>\n",
       "      <td>6.007990</td>\n",
       "      <td>999.706909</td>\n",
       "      <td>-404.066986</td>\n",
       "      <td>1603.011353</td>\n",
       "      <td>-434.715027</td>\n",
       "      <td>1602.375000</td>\n",
       "      <td>-442.204468</td>\n",
       "      <td>1598.937256</td>\n",
       "      <td>-451.294128</td>\n",
       "      <td>1404.472046</td>\n",
       "      <td>-455.462982</td>\n",
       "      <td>1416.354980</td>\n",
       "      <td>-451.939636</td>\n",
       "      <td>11.836743</td>\n",
       "      <td>6.005818</td>\n",
       "      <td>41885.707031</td>\n",
       "      <td>3481.779053</td>\n",
       "      <td>3520.337158</td>\n",
       "      <td>2.838687</td>\n",
       "      <td>19.793808</td>\n",
       "      <td>11.500771</td>\n",
       "      <td>7.101074</td>\n",
       "      <td>28.029297</td>\n",
       "      <td>87.107763</td>\n",
       "      <td>1.170244</td>\n",
       "      <td>5.008018</td>\n",
       "      <td>0.508728</td>\n",
       "      <td>19.154297</td>\n",
       "      <td>127.092003</td>\n",
       "      <td>10.128295</td>\n",
       "      <td>7.25</td>\n",
       "      <td>0.988759</td>\n",
       "      <td>1549.775757</td>\n",
       "      <td>-498.912140</td>\n",
       "      <td>1551.434204</td>\n",
       "      <td>-516.403442</td>\n",
       "      <td>1549.873901</td>\n",
       "      <td>-498.666595</td>\n",
       "      <td>1554.367432</td>\n",
       "      <td>-493.428131</td>\n",
       "      <td>34.174427</td>\n",
       "      <td>8.547551</td>\n",
       "      <td>10.389648</td>\n",
       "      <td>19.529297</td>\n",
       "      <td>2.106679</td>\n",
       "      <td>14.936526</td>\n",
       "      <td>2.534912</td>\n",
       "      <td>7.476074</td>\n",
       "      <td>25.853109</td>\n",
       "      <td>-498.526489</td>\n",
       "      <td>23.893660</td>\n",
       "      <td>-501.406281</td>\n",
       "      <td>23.961798</td>\n",
       "      <td>-495.262817</td>\n",
       "      <td>21.940409</td>\n",
       "      <td>-499.340973</td>\n",
       "      <td>14.016835</td>\n",
       "      <td>-502.488007</td>\n",
       "      <td>12.099931</td>\n",
       "      <td>-504.715942</td>\n",
       "      <td>9.925633</td>\n",
       "      <td>-498.310211</td>\n",
       "      <td>8.079666</td>\n",
       "      <td>-500.470978</td>\n",
       "      <td>14.151341</td>\n",
       "      <td>-605.841980</td>\n",
       "      <td>2.606185</td>\n",
       "      <td>14.500184</td>\n",
       "      <td>4.694824</td>\n",
       "      <td>8.764648</td>\n",
       "      <td>42.192020</td>\n",
       "      <td>6.055403</td>\n",
       "      <td>9.889648</td>\n",
       "      <td>5.507324</td>\n",
       "      <td>70.541216</td>\n",
       "      <td>2.143149</td>\n",
       "      <td>10.411962</td>\n",
       "      <td>0.895447</td>\n",
       "      <td>16.904297</td>\n",
       "    </tr>\n",
       "    <tr>\n",
       "      <th>1</th>\n",
       "      <td>2016-01-15 01:00:00</td>\n",
       "      <td>6.478583</td>\n",
       "      <td>6.161113</td>\n",
       "      <td>2.266033</td>\n",
       "      <td>35.753385</td>\n",
       "      <td>525.290581</td>\n",
       "      <td>57.278666</td>\n",
       "      <td>11.971193</td>\n",
       "      <td>6.005766</td>\n",
       "      <td>1000.286398</td>\n",
       "      <td>-400.065196</td>\n",
       "      <td>1600.754587</td>\n",
       "      <td>-449.953435</td>\n",
       "      <td>1600.479580</td>\n",
       "      <td>-449.830646</td>\n",
       "      <td>1600.527589</td>\n",
       "      <td>-449.953649</td>\n",
       "      <td>1399.227084</td>\n",
       "      <td>-450.869848</td>\n",
       "      <td>1399.719514</td>\n",
       "      <td>-450.119001</td>\n",
       "      <td>11.996163</td>\n",
       "      <td>6.012594</td>\n",
       "      <td>42050.861809</td>\n",
       "      <td>3498.370979</td>\n",
       "      <td>3489.981857</td>\n",
       "      <td>2.858998</td>\n",
       "      <td>20.050975</td>\n",
       "      <td>11.615865</td>\n",
       "      <td>7.278807</td>\n",
       "      <td>28.067063</td>\n",
       "      <td>86.843261</td>\n",
       "      <td>1.184827</td>\n",
       "      <td>4.955378</td>\n",
       "      <td>0.536689</td>\n",
       "      <td>18.965234</td>\n",
       "      <td>125.629232</td>\n",
       "      <td>10.296251</td>\n",
       "      <td>7.25</td>\n",
       "      <td>1.002663</td>\n",
       "      <td>1576.166671</td>\n",
       "      <td>-500.904965</td>\n",
       "      <td>1575.950626</td>\n",
       "      <td>-499.865889</td>\n",
       "      <td>1575.994189</td>\n",
       "      <td>-499.315107</td>\n",
       "      <td>1574.479259</td>\n",
       "      <td>-498.931665</td>\n",
       "      <td>34.118526</td>\n",
       "      <td>8.558743</td>\n",
       "      <td>10.497069</td>\n",
       "      <td>19.369147</td>\n",
       "      <td>2.353017</td>\n",
       "      <td>16.250511</td>\n",
       "      <td>3.049646</td>\n",
       "      <td>6.733907</td>\n",
       "      <td>25.880539</td>\n",
       "      <td>-499.989656</td>\n",
       "      <td>23.889530</td>\n",
       "      <td>-500.372428</td>\n",
       "      <td>23.970550</td>\n",
       "      <td>-500.085473</td>\n",
       "      <td>22.085714</td>\n",
       "      <td>-499.446897</td>\n",
       "      <td>13.992281</td>\n",
       "      <td>-505.503262</td>\n",
       "      <td>11.950531</td>\n",
       "      <td>-501.331529</td>\n",
       "      <td>10.039245</td>\n",
       "      <td>-500.169983</td>\n",
       "      <td>7.984757</td>\n",
       "      <td>-500.582168</td>\n",
       "      <td>13.998353</td>\n",
       "      <td>-599.787184</td>\n",
       "      <td>2.488248</td>\n",
       "      <td>14.265474</td>\n",
       "      <td>4.592547</td>\n",
       "      <td>9.001494</td>\n",
       "      <td>42.701629</td>\n",
       "      <td>6.029369</td>\n",
       "      <td>9.968944</td>\n",
       "      <td>5.257781</td>\n",
       "      <td>69.266198</td>\n",
       "      <td>2.224930</td>\n",
       "      <td>10.462676</td>\n",
       "      <td>0.927452</td>\n",
       "      <td>16.634514</td>\n",
       "    </tr>\n",
       "    <tr>\n",
       "      <th>2</th>\n",
       "      <td>2016-01-15 02:00:00</td>\n",
       "      <td>6.362222</td>\n",
       "      <td>6.116455</td>\n",
       "      <td>2.159622</td>\n",
       "      <td>35.971630</td>\n",
       "      <td>530.026610</td>\n",
       "      <td>57.510649</td>\n",
       "      <td>11.920603</td>\n",
       "      <td>6.197377</td>\n",
       "      <td>999.719565</td>\n",
       "      <td>-400.074028</td>\n",
       "      <td>1599.337330</td>\n",
       "      <td>-450.008530</td>\n",
       "      <td>1599.672797</td>\n",
       "      <td>-449.954491</td>\n",
       "      <td>1599.849325</td>\n",
       "      <td>-449.954185</td>\n",
       "      <td>1399.180945</td>\n",
       "      <td>-449.937588</td>\n",
       "      <td>1400.316682</td>\n",
       "      <td>-450.527147</td>\n",
       "      <td>11.920305</td>\n",
       "      <td>6.204633</td>\n",
       "      <td>42018.101184</td>\n",
       "      <td>3495.348910</td>\n",
       "      <td>3502.359819</td>\n",
       "      <td>2.945989</td>\n",
       "      <td>19.737170</td>\n",
       "      <td>11.695753</td>\n",
       "      <td>7.216833</td>\n",
       "      <td>27.454037</td>\n",
       "      <td>86.842308</td>\n",
       "      <td>1.162562</td>\n",
       "      <td>4.843460</td>\n",
       "      <td>0.546416</td>\n",
       "      <td>18.808533</td>\n",
       "      <td>123.819808</td>\n",
       "      <td>11.316280</td>\n",
       "      <td>7.25</td>\n",
       "      <td>0.991265</td>\n",
       "      <td>1601.556163</td>\n",
       "      <td>-499.997791</td>\n",
       "      <td>1600.386685</td>\n",
       "      <td>-500.607762</td>\n",
       "      <td>1602.003542</td>\n",
       "      <td>-500.870069</td>\n",
       "      <td>1599.541515</td>\n",
       "      <td>-499.827444</td>\n",
       "      <td>33.969464</td>\n",
       "      <td>8.603505</td>\n",
       "      <td>10.354494</td>\n",
       "      <td>19.167579</td>\n",
       "      <td>2.416800</td>\n",
       "      <td>16.491823</td>\n",
       "      <td>3.124664</td>\n",
       "      <td>6.471768</td>\n",
       "      <td>26.005245</td>\n",
       "      <td>-499.929616</td>\n",
       "      <td>23.886657</td>\n",
       "      <td>-499.951928</td>\n",
       "      <td>23.913535</td>\n",
       "      <td>-499.442343</td>\n",
       "      <td>23.957717</td>\n",
       "      <td>-499.901982</td>\n",
       "      <td>14.015015</td>\n",
       "      <td>-502.520901</td>\n",
       "      <td>11.912783</td>\n",
       "      <td>-501.133383</td>\n",
       "      <td>10.070913</td>\n",
       "      <td>-500.129135</td>\n",
       "      <td>8.013877</td>\n",
       "      <td>-500.517572</td>\n",
       "      <td>14.028663</td>\n",
       "      <td>-601.427363</td>\n",
       "      <td>2.458187</td>\n",
       "      <td>14.115662</td>\n",
       "      <td>4.624775</td>\n",
       "      <td>8.842896</td>\n",
       "      <td>42.657501</td>\n",
       "      <td>6.055926</td>\n",
       "      <td>10.213995</td>\n",
       "      <td>5.383759</td>\n",
       "      <td>68.116445</td>\n",
       "      <td>2.257889</td>\n",
       "      <td>10.507046</td>\n",
       "      <td>0.953716</td>\n",
       "      <td>16.208849</td>\n",
       "    </tr>\n",
       "    <tr>\n",
       "      <th>3</th>\n",
       "      <td>2016-01-15 03:00:00</td>\n",
       "      <td>6.118189</td>\n",
       "      <td>6.043309</td>\n",
       "      <td>2.037807</td>\n",
       "      <td>36.862241</td>\n",
       "      <td>542.590390</td>\n",
       "      <td>57.792734</td>\n",
       "      <td>11.630094</td>\n",
       "      <td>6.203177</td>\n",
       "      <td>999.814770</td>\n",
       "      <td>-400.200179</td>\n",
       "      <td>1600.059442</td>\n",
       "      <td>-450.619948</td>\n",
       "      <td>1600.012842</td>\n",
       "      <td>-449.910497</td>\n",
       "      <td>1597.725177</td>\n",
       "      <td>-450.130127</td>\n",
       "      <td>1400.943157</td>\n",
       "      <td>-450.030142</td>\n",
       "      <td>1400.234743</td>\n",
       "      <td>-449.790835</td>\n",
       "      <td>11.692450</td>\n",
       "      <td>6.196578</td>\n",
       "      <td>42029.447991</td>\n",
       "      <td>3498.578313</td>\n",
       "      <td>3499.162912</td>\n",
       "      <td>3.002340</td>\n",
       "      <td>19.320810</td>\n",
       "      <td>11.915047</td>\n",
       "      <td>7.175616</td>\n",
       "      <td>27.341277</td>\n",
       "      <td>87.226430</td>\n",
       "      <td>1.079755</td>\n",
       "      <td>4.655288</td>\n",
       "      <td>0.542525</td>\n",
       "      <td>19.330200</td>\n",
       "      <td>122.270188</td>\n",
       "      <td>11.322140</td>\n",
       "      <td>7.25</td>\n",
       "      <td>0.996739</td>\n",
       "      <td>1599.968720</td>\n",
       "      <td>-500.951778</td>\n",
       "      <td>1600.659236</td>\n",
       "      <td>-499.677094</td>\n",
       "      <td>1600.304144</td>\n",
       "      <td>-500.727997</td>\n",
       "      <td>1600.449520</td>\n",
       "      <td>-500.052575</td>\n",
       "      <td>28.260743</td>\n",
       "      <td>7.221879</td>\n",
       "      <td>8.496563</td>\n",
       "      <td>15.978538</td>\n",
       "      <td>2.262051</td>\n",
       "      <td>16.024359</td>\n",
       "      <td>2.960362</td>\n",
       "      <td>6.843791</td>\n",
       "      <td>25.942508</td>\n",
       "      <td>-499.176749</td>\n",
       "      <td>23.955516</td>\n",
       "      <td>-499.848796</td>\n",
       "      <td>23.966838</td>\n",
       "      <td>-500.008812</td>\n",
       "      <td>23.954443</td>\n",
       "      <td>-499.944710</td>\n",
       "      <td>14.036510</td>\n",
       "      <td>-500.857308</td>\n",
       "      <td>11.999550</td>\n",
       "      <td>-501.193686</td>\n",
       "      <td>9.970366</td>\n",
       "      <td>-499.201640</td>\n",
       "      <td>7.977324</td>\n",
       "      <td>-500.255908</td>\n",
       "      <td>14.005551</td>\n",
       "      <td>-599.996129</td>\n",
       "      <td>2.322062</td>\n",
       "      <td>13.732071</td>\n",
       "      <td>4.482453</td>\n",
       "      <td>9.122857</td>\n",
       "      <td>42.689819</td>\n",
       "      <td>6.047977</td>\n",
       "      <td>9.977019</td>\n",
       "      <td>4.858634</td>\n",
       "      <td>68.347543</td>\n",
       "      <td>2.146849</td>\n",
       "      <td>10.422762</td>\n",
       "      <td>0.883763</td>\n",
       "      <td>16.532835</td>\n",
       "    </tr>\n",
       "    <tr>\n",
       "      <th>4</th>\n",
       "      <td>2016-01-15 04:00:00</td>\n",
       "      <td>5.663707</td>\n",
       "      <td>6.060915</td>\n",
       "      <td>1.786875</td>\n",
       "      <td>34.347666</td>\n",
       "      <td>540.531893</td>\n",
       "      <td>56.047189</td>\n",
       "      <td>10.957755</td>\n",
       "      <td>6.198826</td>\n",
       "      <td>999.678690</td>\n",
       "      <td>-399.752729</td>\n",
       "      <td>1600.208824</td>\n",
       "      <td>-449.599614</td>\n",
       "      <td>1600.357732</td>\n",
       "      <td>-450.034364</td>\n",
       "      <td>1599.759049</td>\n",
       "      <td>-449.909799</td>\n",
       "      <td>1401.560902</td>\n",
       "      <td>-448.877187</td>\n",
       "      <td>1401.160227</td>\n",
       "      <td>-450.407128</td>\n",
       "      <td>10.960521</td>\n",
       "      <td>6.194897</td>\n",
       "      <td>42125.354245</td>\n",
       "      <td>3494.800771</td>\n",
       "      <td>3506.679315</td>\n",
       "      <td>3.169615</td>\n",
       "      <td>19.216101</td>\n",
       "      <td>12.411054</td>\n",
       "      <td>7.240205</td>\n",
       "      <td>27.041023</td>\n",
       "      <td>86.688794</td>\n",
       "      <td>1.012642</td>\n",
       "      <td>4.552800</td>\n",
       "      <td>0.515438</td>\n",
       "      <td>19.267422</td>\n",
       "      <td>117.988169</td>\n",
       "      <td>11.913613</td>\n",
       "      <td>7.25</td>\n",
       "      <td>1.009869</td>\n",
       "      <td>1601.339707</td>\n",
       "      <td>-498.975456</td>\n",
       "      <td>1601.437854</td>\n",
       "      <td>-500.323246</td>\n",
       "      <td>1599.581894</td>\n",
       "      <td>-500.888152</td>\n",
       "      <td>1602.649541</td>\n",
       "      <td>-500.593010</td>\n",
       "      <td>33.044932</td>\n",
       "      <td>9.089428</td>\n",
       "      <td>9.986786</td>\n",
       "      <td>19.199864</td>\n",
       "      <td>2.277073</td>\n",
       "      <td>16.480185</td>\n",
       "      <td>3.112100</td>\n",
       "      <td>6.550154</td>\n",
       "      <td>26.024787</td>\n",
       "      <td>-500.279091</td>\n",
       "      <td>23.955345</td>\n",
       "      <td>-500.593614</td>\n",
       "      <td>23.985703</td>\n",
       "      <td>-500.083811</td>\n",
       "      <td>23.958945</td>\n",
       "      <td>-499.990309</td>\n",
       "      <td>14.027298</td>\n",
       "      <td>-499.838632</td>\n",
       "      <td>11.953070</td>\n",
       "      <td>-501.053894</td>\n",
       "      <td>9.925709</td>\n",
       "      <td>-501.686727</td>\n",
       "      <td>7.894242</td>\n",
       "      <td>-500.356035</td>\n",
       "      <td>13.996647</td>\n",
       "      <td>-601.496691</td>\n",
       "      <td>2.330448</td>\n",
       "      <td>14.079996</td>\n",
       "      <td>4.470737</td>\n",
       "      <td>8.871028</td>\n",
       "      <td>42.774141</td>\n",
       "      <td>6.148599</td>\n",
       "      <td>10.142511</td>\n",
       "      <td>4.939416</td>\n",
       "      <td>66.927016</td>\n",
       "      <td>2.055292</td>\n",
       "      <td>10.360302</td>\n",
       "      <td>0.792826</td>\n",
       "      <td>16.525686</td>\n",
       "    </tr>\n",
       "  </tbody>\n",
       "</table>\n",
       "</div>"
      ],
      "text/plain": [
       "                  date  rougher.input.feed_au  rougher.input.feed_ag  \\\n",
       "0  2016-01-15 00:00:00               6.486150               6.100378   \n",
       "1  2016-01-15 01:00:00               6.478583               6.161113   \n",
       "2  2016-01-15 02:00:00               6.362222               6.116455   \n",
       "3  2016-01-15 03:00:00               6.118189               6.043309   \n",
       "4  2016-01-15 04:00:00               5.663707               6.060915   \n",
       "\n",
       "   rougher.input.feed_pb  rougher.input.feed_sol  rougher.input.feed_rate  \\\n",
       "0               2.284912               36.808594               523.546326   \n",
       "1               2.266033               35.753385               525.290581   \n",
       "2               2.159622               35.971630               530.026610   \n",
       "3               2.037807               36.862241               542.590390   \n",
       "4               1.786875               34.347666               540.531893   \n",
       "\n",
       "   rougher.input.feed_size  rougher.input.floatbank10_sulfate  \\\n",
       "0                55.486599                          11.986616   \n",
       "1                57.278666                          11.971193   \n",
       "2                57.510649                          11.920603   \n",
       "3                57.792734                          11.630094   \n",
       "4                56.047189                          10.957755   \n",
       "\n",
       "   rougher.input.floatbank10_xanthate  rougher.state.floatbank10_a_air  \\\n",
       "0                            6.007990                       999.706909   \n",
       "1                            6.005766                      1000.286398   \n",
       "2                            6.197377                       999.719565   \n",
       "3                            6.203177                       999.814770   \n",
       "4                            6.198826                       999.678690   \n",
       "\n",
       "   rougher.state.floatbank10_a_level  rougher.state.floatbank10_b_air  \\\n",
       "0                        -404.066986                      1603.011353   \n",
       "1                        -400.065196                      1600.754587   \n",
       "2                        -400.074028                      1599.337330   \n",
       "3                        -400.200179                      1600.059442   \n",
       "4                        -399.752729                      1600.208824   \n",
       "\n",
       "   rougher.state.floatbank10_b_level  rougher.state.floatbank10_c_air  \\\n",
       "0                        -434.715027                      1602.375000   \n",
       "1                        -449.953435                      1600.479580   \n",
       "2                        -450.008530                      1599.672797   \n",
       "3                        -450.619948                      1600.012842   \n",
       "4                        -449.599614                      1600.357732   \n",
       "\n",
       "   rougher.state.floatbank10_c_level  rougher.state.floatbank10_d_air  \\\n",
       "0                        -442.204468                      1598.937256   \n",
       "1                        -449.830646                      1600.527589   \n",
       "2                        -449.954491                      1599.849325   \n",
       "3                        -449.910497                      1597.725177   \n",
       "4                        -450.034364                      1599.759049   \n",
       "\n",
       "   rougher.state.floatbank10_d_level  rougher.state.floatbank10_e_air  \\\n",
       "0                        -451.294128                      1404.472046   \n",
       "1                        -449.953649                      1399.227084   \n",
       "2                        -449.954185                      1399.180945   \n",
       "3                        -450.130127                      1400.943157   \n",
       "4                        -449.909799                      1401.560902   \n",
       "\n",
       "   rougher.state.floatbank10_e_level  rougher.state.floatbank10_f_air  \\\n",
       "0                        -455.462982                      1416.354980   \n",
       "1                        -450.869848                      1399.719514   \n",
       "2                        -449.937588                      1400.316682   \n",
       "3                        -450.030142                      1400.234743   \n",
       "4                        -448.877187                      1401.160227   \n",
       "\n",
       "   rougher.state.floatbank10_f_level  rougher.input.floatbank11_sulfate  \\\n",
       "0                        -451.939636                          11.836743   \n",
       "1                        -450.119001                          11.996163   \n",
       "2                        -450.527147                          11.920305   \n",
       "3                        -449.790835                          11.692450   \n",
       "4                        -450.407128                          10.960521   \n",
       "\n",
       "   rougher.input.floatbank11_xanthate  \\\n",
       "0                            6.005818   \n",
       "1                            6.012594   \n",
       "2                            6.204633   \n",
       "3                            6.196578   \n",
       "4                            6.194897   \n",
       "\n",
       "   rougher.calculation.sulfate_to_au_concentrate  \\\n",
       "0                                   41885.707031   \n",
       "1                                   42050.861809   \n",
       "2                                   42018.101184   \n",
       "3                                   42029.447991   \n",
       "4                                   42125.354245   \n",
       "\n",
       "   rougher.calculation.floatbank10_sulfate_to_au_feed  \\\n",
       "0                                        3481.779053    \n",
       "1                                        3498.370979    \n",
       "2                                        3495.348910    \n",
       "3                                        3498.578313    \n",
       "4                                        3494.800771    \n",
       "\n",
       "   rougher.calculation.floatbank11_sulfate_to_au_feed  \\\n",
       "0                                        3520.337158    \n",
       "1                                        3489.981857    \n",
       "2                                        3502.359819    \n",
       "3                                        3499.162912    \n",
       "4                                        3506.679315    \n",
       "\n",
       "   rougher.calculation.au_pb_ratio  rougher.output.concentrate_au  \\\n",
       "0                         2.838687                      19.793808   \n",
       "1                         2.858998                      20.050975   \n",
       "2                         2.945989                      19.737170   \n",
       "3                         3.002340                      19.320810   \n",
       "4                         3.169615                      19.216101   \n",
       "\n",
       "   rougher.output.concentrate_ag  rougher.output.concentrate_pb  \\\n",
       "0                      11.500771                       7.101074   \n",
       "1                      11.615865                       7.278807   \n",
       "2                      11.695753                       7.216833   \n",
       "3                      11.915047                       7.175616   \n",
       "4                      12.411054                       7.240205   \n",
       "\n",
       "   rougher.output.concentrate_sol  rougher.output.recovery  \\\n",
       "0                       28.029297                87.107763   \n",
       "1                       28.067063                86.843261   \n",
       "2                       27.454037                86.842308   \n",
       "3                       27.341277                87.226430   \n",
       "4                       27.041023                86.688794   \n",
       "\n",
       "   rougher.output.tail_au  rougher.output.tail_ag  rougher.output.tail_pb  \\\n",
       "0                1.170244                5.008018                0.508728   \n",
       "1                1.184827                4.955378                0.536689   \n",
       "2                1.162562                4.843460                0.546416   \n",
       "3                1.079755                4.655288                0.542525   \n",
       "4                1.012642                4.552800                0.515438   \n",
       "\n",
       "   rougher.output.tail_sol  primary_cleaner.input.sulfate  \\\n",
       "0                19.154297                     127.092003   \n",
       "1                18.965234                     125.629232   \n",
       "2                18.808533                     123.819808   \n",
       "3                19.330200                     122.270188   \n",
       "4                19.267422                     117.988169   \n",
       "\n",
       "   primary_cleaner.input.depressant  primary_cleaner.input.feed_size  \\\n",
       "0                         10.128295                             7.25   \n",
       "1                         10.296251                             7.25   \n",
       "2                         11.316280                             7.25   \n",
       "3                         11.322140                             7.25   \n",
       "4                         11.913613                             7.25   \n",
       "\n",
       "   primary_cleaner.input.xanthate  primary_cleaner.state.floatbank8_a_air  \\\n",
       "0                        0.988759                             1549.775757   \n",
       "1                        1.002663                             1576.166671   \n",
       "2                        0.991265                             1601.556163   \n",
       "3                        0.996739                             1599.968720   \n",
       "4                        1.009869                             1601.339707   \n",
       "\n",
       "   primary_cleaner.state.floatbank8_a_level  \\\n",
       "0                               -498.912140   \n",
       "1                               -500.904965   \n",
       "2                               -499.997791   \n",
       "3                               -500.951778   \n",
       "4                               -498.975456   \n",
       "\n",
       "   primary_cleaner.state.floatbank8_b_air  \\\n",
       "0                             1551.434204   \n",
       "1                             1575.950626   \n",
       "2                             1600.386685   \n",
       "3                             1600.659236   \n",
       "4                             1601.437854   \n",
       "\n",
       "   primary_cleaner.state.floatbank8_b_level  \\\n",
       "0                               -516.403442   \n",
       "1                               -499.865889   \n",
       "2                               -500.607762   \n",
       "3                               -499.677094   \n",
       "4                               -500.323246   \n",
       "\n",
       "   primary_cleaner.state.floatbank8_c_air  \\\n",
       "0                             1549.873901   \n",
       "1                             1575.994189   \n",
       "2                             1602.003542   \n",
       "3                             1600.304144   \n",
       "4                             1599.581894   \n",
       "\n",
       "   primary_cleaner.state.floatbank8_c_level  \\\n",
       "0                               -498.666595   \n",
       "1                               -499.315107   \n",
       "2                               -500.870069   \n",
       "3                               -500.727997   \n",
       "4                               -500.888152   \n",
       "\n",
       "   primary_cleaner.state.floatbank8_d_air  \\\n",
       "0                             1554.367432   \n",
       "1                             1574.479259   \n",
       "2                             1599.541515   \n",
       "3                             1600.449520   \n",
       "4                             1602.649541   \n",
       "\n",
       "   primary_cleaner.state.floatbank8_d_level  \\\n",
       "0                               -493.428131   \n",
       "1                               -498.931665   \n",
       "2                               -499.827444   \n",
       "3                               -500.052575   \n",
       "4                               -500.593010   \n",
       "\n",
       "   primary_cleaner.output.concentrate_au  \\\n",
       "0                              34.174427   \n",
       "1                              34.118526   \n",
       "2                              33.969464   \n",
       "3                              28.260743   \n",
       "4                              33.044932   \n",
       "\n",
       "   primary_cleaner.output.concentrate_ag  \\\n",
       "0                               8.547551   \n",
       "1                               8.558743   \n",
       "2                               8.603505   \n",
       "3                               7.221879   \n",
       "4                               9.089428   \n",
       "\n",
       "   primary_cleaner.output.concentrate_pb  \\\n",
       "0                              10.389648   \n",
       "1                              10.497069   \n",
       "2                              10.354494   \n",
       "3                               8.496563   \n",
       "4                               9.986786   \n",
       "\n",
       "   primary_cleaner.output.concentrate_sol  primary_cleaner.output.tail_au  \\\n",
       "0                               19.529297                        2.106679   \n",
       "1                               19.369147                        2.353017   \n",
       "2                               19.167579                        2.416800   \n",
       "3                               15.978538                        2.262051   \n",
       "4                               19.199864                        2.277073   \n",
       "\n",
       "   primary_cleaner.output.tail_ag  primary_cleaner.output.tail_pb  \\\n",
       "0                       14.936526                        2.534912   \n",
       "1                       16.250511                        3.049646   \n",
       "2                       16.491823                        3.124664   \n",
       "3                       16.024359                        2.960362   \n",
       "4                       16.480185                        3.112100   \n",
       "\n",
       "   primary_cleaner.output.tail_sol  secondary_cleaner.state.floatbank2_a_air  \\\n",
       "0                         7.476074                                 25.853109   \n",
       "1                         6.733907                                 25.880539   \n",
       "2                         6.471768                                 26.005245   \n",
       "3                         6.843791                                 25.942508   \n",
       "4                         6.550154                                 26.024787   \n",
       "\n",
       "   secondary_cleaner.state.floatbank2_a_level  \\\n",
       "0                                 -498.526489   \n",
       "1                                 -499.989656   \n",
       "2                                 -499.929616   \n",
       "3                                 -499.176749   \n",
       "4                                 -500.279091   \n",
       "\n",
       "   secondary_cleaner.state.floatbank2_b_air  \\\n",
       "0                                 23.893660   \n",
       "1                                 23.889530   \n",
       "2                                 23.886657   \n",
       "3                                 23.955516   \n",
       "4                                 23.955345   \n",
       "\n",
       "   secondary_cleaner.state.floatbank2_b_level  \\\n",
       "0                                 -501.406281   \n",
       "1                                 -500.372428   \n",
       "2                                 -499.951928   \n",
       "3                                 -499.848796   \n",
       "4                                 -500.593614   \n",
       "\n",
       "   secondary_cleaner.state.floatbank3_a_air  \\\n",
       "0                                 23.961798   \n",
       "1                                 23.970550   \n",
       "2                                 23.913535   \n",
       "3                                 23.966838   \n",
       "4                                 23.985703   \n",
       "\n",
       "   secondary_cleaner.state.floatbank3_a_level  \\\n",
       "0                                 -495.262817   \n",
       "1                                 -500.085473   \n",
       "2                                 -499.442343   \n",
       "3                                 -500.008812   \n",
       "4                                 -500.083811   \n",
       "\n",
       "   secondary_cleaner.state.floatbank3_b_air  \\\n",
       "0                                 21.940409   \n",
       "1                                 22.085714   \n",
       "2                                 23.957717   \n",
       "3                                 23.954443   \n",
       "4                                 23.958945   \n",
       "\n",
       "   secondary_cleaner.state.floatbank3_b_level  \\\n",
       "0                                 -499.340973   \n",
       "1                                 -499.446897   \n",
       "2                                 -499.901982   \n",
       "3                                 -499.944710   \n",
       "4                                 -499.990309   \n",
       "\n",
       "   secondary_cleaner.state.floatbank4_a_air  \\\n",
       "0                                 14.016835   \n",
       "1                                 13.992281   \n",
       "2                                 14.015015   \n",
       "3                                 14.036510   \n",
       "4                                 14.027298   \n",
       "\n",
       "   secondary_cleaner.state.floatbank4_a_level  \\\n",
       "0                                 -502.488007   \n",
       "1                                 -505.503262   \n",
       "2                                 -502.520901   \n",
       "3                                 -500.857308   \n",
       "4                                 -499.838632   \n",
       "\n",
       "   secondary_cleaner.state.floatbank4_b_air  \\\n",
       "0                                 12.099931   \n",
       "1                                 11.950531   \n",
       "2                                 11.912783   \n",
       "3                                 11.999550   \n",
       "4                                 11.953070   \n",
       "\n",
       "   secondary_cleaner.state.floatbank4_b_level  \\\n",
       "0                                 -504.715942   \n",
       "1                                 -501.331529   \n",
       "2                                 -501.133383   \n",
       "3                                 -501.193686   \n",
       "4                                 -501.053894   \n",
       "\n",
       "   secondary_cleaner.state.floatbank5_a_air  \\\n",
       "0                                  9.925633   \n",
       "1                                 10.039245   \n",
       "2                                 10.070913   \n",
       "3                                  9.970366   \n",
       "4                                  9.925709   \n",
       "\n",
       "   secondary_cleaner.state.floatbank5_a_level  \\\n",
       "0                                 -498.310211   \n",
       "1                                 -500.169983   \n",
       "2                                 -500.129135   \n",
       "3                                 -499.201640   \n",
       "4                                 -501.686727   \n",
       "\n",
       "   secondary_cleaner.state.floatbank5_b_air  \\\n",
       "0                                  8.079666   \n",
       "1                                  7.984757   \n",
       "2                                  8.013877   \n",
       "3                                  7.977324   \n",
       "4                                  7.894242   \n",
       "\n",
       "   secondary_cleaner.state.floatbank5_b_level  \\\n",
       "0                                 -500.470978   \n",
       "1                                 -500.582168   \n",
       "2                                 -500.517572   \n",
       "3                                 -500.255908   \n",
       "4                                 -500.356035   \n",
       "\n",
       "   secondary_cleaner.state.floatbank6_a_air  \\\n",
       "0                                 14.151341   \n",
       "1                                 13.998353   \n",
       "2                                 14.028663   \n",
       "3                                 14.005551   \n",
       "4                                 13.996647   \n",
       "\n",
       "   secondary_cleaner.state.floatbank6_a_level  \\\n",
       "0                                 -605.841980   \n",
       "1                                 -599.787184   \n",
       "2                                 -601.427363   \n",
       "3                                 -599.996129   \n",
       "4                                 -601.496691   \n",
       "\n",
       "   secondary_cleaner.output.tail_au  secondary_cleaner.output.tail_ag  \\\n",
       "0                          2.606185                         14.500184   \n",
       "1                          2.488248                         14.265474   \n",
       "2                          2.458187                         14.115662   \n",
       "3                          2.322062                         13.732071   \n",
       "4                          2.330448                         14.079996   \n",
       "\n",
       "   secondary_cleaner.output.tail_pb  secondary_cleaner.output.tail_sol  \\\n",
       "0                          4.694824                           8.764648   \n",
       "1                          4.592547                           9.001494   \n",
       "2                          4.624775                           8.842896   \n",
       "3                          4.482453                           9.122857   \n",
       "4                          4.470737                           8.871028   \n",
       "\n",
       "   final.output.concentrate_au  final.output.concentrate_ag  \\\n",
       "0                    42.192020                     6.055403   \n",
       "1                    42.701629                     6.029369   \n",
       "2                    42.657501                     6.055926   \n",
       "3                    42.689819                     6.047977   \n",
       "4                    42.774141                     6.148599   \n",
       "\n",
       "   final.output.concentrate_pb  final.output.concentrate_sol  \\\n",
       "0                     9.889648                      5.507324   \n",
       "1                     9.968944                      5.257781   \n",
       "2                    10.213995                      5.383759   \n",
       "3                     9.977019                      4.858634   \n",
       "4                    10.142511                      4.939416   \n",
       "\n",
       "   final.output.recovery  final.output.tail_au  final.output.tail_ag  \\\n",
       "0              70.541216              2.143149             10.411962   \n",
       "1              69.266198              2.224930             10.462676   \n",
       "2              68.116445              2.257889             10.507046   \n",
       "3              68.347543              2.146849             10.422762   \n",
       "4              66.927016              2.055292             10.360302   \n",
       "\n",
       "   final.output.tail_pb  final.output.tail_sol  \n",
       "0              0.895447              16.904297  \n",
       "1              0.927452              16.634514  \n",
       "2              0.953716              16.208849  \n",
       "3              0.883763              16.532835  \n",
       "4              0.792826              16.525686  "
      ]
     },
     "execution_count": 3,
     "metadata": {},
     "output_type": "execute_result"
    }
   ],
   "source": [
    "data_full.info(False)\n",
    "data_full.head(5)"
   ]
  },
  {
   "cell_type": "code",
   "execution_count": 4,
   "metadata": {},
   "outputs": [
    {
     "name": "stdout",
     "output_type": "stream",
     "text": [
      "<class 'pandas.core.frame.DataFrame'>\n",
      "RangeIndex: 4860 entries, 0 to 4859\n",
      "Columns: 53 entries, date to secondary_cleaner.state.floatbank6_a_level\n",
      "dtypes: float64(52), object(1)\n",
      "memory usage: 2.0+ MB\n"
     ]
    },
    {
     "data": {
      "text/html": [
       "<div>\n",
       "<style scoped>\n",
       "    .dataframe tbody tr th:only-of-type {\n",
       "        vertical-align: middle;\n",
       "    }\n",
       "\n",
       "    .dataframe tbody tr th {\n",
       "        vertical-align: top;\n",
       "    }\n",
       "\n",
       "    .dataframe thead th {\n",
       "        text-align: right;\n",
       "    }\n",
       "</style>\n",
       "<table border=\"1\" class=\"dataframe\">\n",
       "  <thead>\n",
       "    <tr style=\"text-align: right;\">\n",
       "      <th></th>\n",
       "      <th>date</th>\n",
       "      <th>rougher.input.feed_au</th>\n",
       "      <th>rougher.input.feed_ag</th>\n",
       "      <th>rougher.input.feed_pb</th>\n",
       "      <th>rougher.input.feed_sol</th>\n",
       "      <th>rougher.input.feed_rate</th>\n",
       "      <th>rougher.input.feed_size</th>\n",
       "      <th>rougher.input.floatbank10_sulfate</th>\n",
       "      <th>rougher.input.floatbank10_xanthate</th>\n",
       "      <th>rougher.state.floatbank10_a_air</th>\n",
       "      <th>rougher.state.floatbank10_a_level</th>\n",
       "      <th>rougher.state.floatbank10_b_air</th>\n",
       "      <th>rougher.state.floatbank10_b_level</th>\n",
       "      <th>rougher.state.floatbank10_c_air</th>\n",
       "      <th>rougher.state.floatbank10_c_level</th>\n",
       "      <th>rougher.state.floatbank10_d_air</th>\n",
       "      <th>rougher.state.floatbank10_d_level</th>\n",
       "      <th>rougher.state.floatbank10_e_air</th>\n",
       "      <th>rougher.state.floatbank10_e_level</th>\n",
       "      <th>rougher.state.floatbank10_f_air</th>\n",
       "      <th>rougher.state.floatbank10_f_level</th>\n",
       "      <th>rougher.input.floatbank11_sulfate</th>\n",
       "      <th>rougher.input.floatbank11_xanthate</th>\n",
       "      <th>primary_cleaner.input.sulfate</th>\n",
       "      <th>primary_cleaner.input.depressant</th>\n",
       "      <th>primary_cleaner.input.feed_size</th>\n",
       "      <th>primary_cleaner.input.xanthate</th>\n",
       "      <th>primary_cleaner.state.floatbank8_a_air</th>\n",
       "      <th>primary_cleaner.state.floatbank8_a_level</th>\n",
       "      <th>primary_cleaner.state.floatbank8_b_air</th>\n",
       "      <th>primary_cleaner.state.floatbank8_b_level</th>\n",
       "      <th>primary_cleaner.state.floatbank8_c_air</th>\n",
       "      <th>primary_cleaner.state.floatbank8_c_level</th>\n",
       "      <th>primary_cleaner.state.floatbank8_d_air</th>\n",
       "      <th>primary_cleaner.state.floatbank8_d_level</th>\n",
       "      <th>secondary_cleaner.state.floatbank2_a_air</th>\n",
       "      <th>secondary_cleaner.state.floatbank2_a_level</th>\n",
       "      <th>secondary_cleaner.state.floatbank2_b_air</th>\n",
       "      <th>secondary_cleaner.state.floatbank2_b_level</th>\n",
       "      <th>secondary_cleaner.state.floatbank3_a_air</th>\n",
       "      <th>secondary_cleaner.state.floatbank3_a_level</th>\n",
       "      <th>secondary_cleaner.state.floatbank3_b_air</th>\n",
       "      <th>secondary_cleaner.state.floatbank3_b_level</th>\n",
       "      <th>secondary_cleaner.state.floatbank4_a_air</th>\n",
       "      <th>secondary_cleaner.state.floatbank4_a_level</th>\n",
       "      <th>secondary_cleaner.state.floatbank4_b_air</th>\n",
       "      <th>secondary_cleaner.state.floatbank4_b_level</th>\n",
       "      <th>secondary_cleaner.state.floatbank5_a_air</th>\n",
       "      <th>secondary_cleaner.state.floatbank5_a_level</th>\n",
       "      <th>secondary_cleaner.state.floatbank5_b_air</th>\n",
       "      <th>secondary_cleaner.state.floatbank5_b_level</th>\n",
       "      <th>secondary_cleaner.state.floatbank6_a_air</th>\n",
       "      <th>secondary_cleaner.state.floatbank6_a_level</th>\n",
       "    </tr>\n",
       "  </thead>\n",
       "  <tbody>\n",
       "    <tr>\n",
       "      <th>0</th>\n",
       "      <td>2017-12-09 14:59:59</td>\n",
       "      <td>4.365491</td>\n",
       "      <td>6.158718</td>\n",
       "      <td>3.875727</td>\n",
       "      <td>39.135119</td>\n",
       "      <td>555.820208</td>\n",
       "      <td>94.544358</td>\n",
       "      <td>6.146982</td>\n",
       "      <td>9.308612</td>\n",
       "      <td>1196.238112</td>\n",
       "      <td>-299.862743</td>\n",
       "      <td>1147.248241</td>\n",
       "      <td>-500.363165</td>\n",
       "      <td>1047.279065</td>\n",
       "      <td>-500.354091</td>\n",
       "      <td>948.756608</td>\n",
       "      <td>-498.439416</td>\n",
       "      <td>849.441918</td>\n",
       "      <td>-499.255503</td>\n",
       "      <td>850.112246</td>\n",
       "      <td>-499.407112</td>\n",
       "      <td>6.168939</td>\n",
       "      <td>9.309852</td>\n",
       "      <td>95.248427</td>\n",
       "      <td>8.078957</td>\n",
       "      <td>6.500000</td>\n",
       "      <td>1.283045</td>\n",
       "      <td>1648.759906</td>\n",
       "      <td>-399.862053</td>\n",
       "      <td>1650.135395</td>\n",
       "      <td>-399.957321</td>\n",
       "      <td>1648.831890</td>\n",
       "      <td>-400.586116</td>\n",
       "      <td>1649.464582</td>\n",
       "      <td>-400.673303</td>\n",
       "      <td>34.940919</td>\n",
       "      <td>-500.150510</td>\n",
       "      <td>30.031867</td>\n",
       "      <td>-500.328335</td>\n",
       "      <td>26.033990</td>\n",
       "      <td>-500.147792</td>\n",
       "      <td>22.952306</td>\n",
       "      <td>-500.037678</td>\n",
       "      <td>23.018622</td>\n",
       "      <td>-500.492702</td>\n",
       "      <td>20.020205</td>\n",
       "      <td>-500.220296</td>\n",
       "      <td>17.963512</td>\n",
       "      <td>-499.939490</td>\n",
       "      <td>12.990306</td>\n",
       "      <td>-500.080993</td>\n",
       "      <td>19.990336</td>\n",
       "      <td>-499.191575</td>\n",
       "    </tr>\n",
       "    <tr>\n",
       "      <th>1</th>\n",
       "      <td>2017-12-09 15:59:59</td>\n",
       "      <td>4.362781</td>\n",
       "      <td>6.048130</td>\n",
       "      <td>3.902537</td>\n",
       "      <td>39.713906</td>\n",
       "      <td>544.731687</td>\n",
       "      <td>123.742430</td>\n",
       "      <td>6.210119</td>\n",
       "      <td>9.297709</td>\n",
       "      <td>1201.904177</td>\n",
       "      <td>-299.907308</td>\n",
       "      <td>1154.087804</td>\n",
       "      <td>-500.036580</td>\n",
       "      <td>1054.009756</td>\n",
       "      <td>-500.237335</td>\n",
       "      <td>944.138793</td>\n",
       "      <td>-496.866953</td>\n",
       "      <td>851.589767</td>\n",
       "      <td>-499.040466</td>\n",
       "      <td>851.345606</td>\n",
       "      <td>-499.122561</td>\n",
       "      <td>6.209517</td>\n",
       "      <td>9.297194</td>\n",
       "      <td>98.880538</td>\n",
       "      <td>7.984164</td>\n",
       "      <td>6.500000</td>\n",
       "      <td>1.241969</td>\n",
       "      <td>1646.547763</td>\n",
       "      <td>-398.977083</td>\n",
       "      <td>1648.212240</td>\n",
       "      <td>-400.383265</td>\n",
       "      <td>1648.917387</td>\n",
       "      <td>-399.521344</td>\n",
       "      <td>1651.498591</td>\n",
       "      <td>-399.745329</td>\n",
       "      <td>34.980742</td>\n",
       "      <td>-498.131002</td>\n",
       "      <td>29.968453</td>\n",
       "      <td>-586.013330</td>\n",
       "      <td>25.971737</td>\n",
       "      <td>-499.608392</td>\n",
       "      <td>22.958448</td>\n",
       "      <td>-499.821308</td>\n",
       "      <td>23.024963</td>\n",
       "      <td>-501.153409</td>\n",
       "      <td>20.054122</td>\n",
       "      <td>-500.314711</td>\n",
       "      <td>17.979515</td>\n",
       "      <td>-499.272871</td>\n",
       "      <td>12.992404</td>\n",
       "      <td>-499.976268</td>\n",
       "      <td>20.013986</td>\n",
       "      <td>-500.625471</td>\n",
       "    </tr>\n",
       "    <tr>\n",
       "      <th>2</th>\n",
       "      <td>2017-12-09 16:59:59</td>\n",
       "      <td>5.081681</td>\n",
       "      <td>6.082745</td>\n",
       "      <td>4.564078</td>\n",
       "      <td>37.208683</td>\n",
       "      <td>558.155110</td>\n",
       "      <td>82.610855</td>\n",
       "      <td>7.363824</td>\n",
       "      <td>9.003562</td>\n",
       "      <td>1200.826926</td>\n",
       "      <td>-300.124116</td>\n",
       "      <td>1150.754676</td>\n",
       "      <td>-499.986009</td>\n",
       "      <td>1049.182824</td>\n",
       "      <td>-500.014696</td>\n",
       "      <td>948.085464</td>\n",
       "      <td>-499.997003</td>\n",
       "      <td>850.170086</td>\n",
       "      <td>-500.270334</td>\n",
       "      <td>849.557905</td>\n",
       "      <td>-500.198702</td>\n",
       "      <td>7.358308</td>\n",
       "      <td>9.000624</td>\n",
       "      <td>119.497545</td>\n",
       "      <td>8.003752</td>\n",
       "      <td>6.500000</td>\n",
       "      <td>1.259741</td>\n",
       "      <td>1647.368779</td>\n",
       "      <td>-399.788506</td>\n",
       "      <td>1648.395206</td>\n",
       "      <td>-400.166490</td>\n",
       "      <td>1648.953828</td>\n",
       "      <td>-400.468641</td>\n",
       "      <td>1649.821569</td>\n",
       "      <td>-400.071884</td>\n",
       "      <td>34.952967</td>\n",
       "      <td>-501.204647</td>\n",
       "      <td>29.927025</td>\n",
       "      <td>-500.106628</td>\n",
       "      <td>25.978253</td>\n",
       "      <td>-499.890060</td>\n",
       "      <td>23.004376</td>\n",
       "      <td>-500.014529</td>\n",
       "      <td>22.993827</td>\n",
       "      <td>-501.559663</td>\n",
       "      <td>20.029144</td>\n",
       "      <td>-500.000662</td>\n",
       "      <td>18.012723</td>\n",
       "      <td>-500.024764</td>\n",
       "      <td>13.016445</td>\n",
       "      <td>-500.058432</td>\n",
       "      <td>19.973767</td>\n",
       "      <td>-501.394155</td>\n",
       "    </tr>\n",
       "    <tr>\n",
       "      <th>3</th>\n",
       "      <td>2017-12-09 17:59:59</td>\n",
       "      <td>5.145949</td>\n",
       "      <td>6.084374</td>\n",
       "      <td>4.768124</td>\n",
       "      <td>36.808874</td>\n",
       "      <td>539.713765</td>\n",
       "      <td>77.984784</td>\n",
       "      <td>6.927072</td>\n",
       "      <td>8.955597</td>\n",
       "      <td>1199.292489</td>\n",
       "      <td>-299.778385</td>\n",
       "      <td>1152.512559</td>\n",
       "      <td>-500.338106</td>\n",
       "      <td>1052.601592</td>\n",
       "      <td>-499.695075</td>\n",
       "      <td>955.171539</td>\n",
       "      <td>-500.294989</td>\n",
       "      <td>851.957342</td>\n",
       "      <td>-499.779541</td>\n",
       "      <td>850.765662</td>\n",
       "      <td>-501.030559</td>\n",
       "      <td>6.929364</td>\n",
       "      <td>8.920717</td>\n",
       "      <td>108.080163</td>\n",
       "      <td>7.970121</td>\n",
       "      <td>6.660000</td>\n",
       "      <td>0.774909</td>\n",
       "      <td>1652.660845</td>\n",
       "      <td>-399.702218</td>\n",
       "      <td>1651.203128</td>\n",
       "      <td>-400.291472</td>\n",
       "      <td>1651.924848</td>\n",
       "      <td>-398.058033</td>\n",
       "      <td>1650.782696</td>\n",
       "      <td>-399.597977</td>\n",
       "      <td>35.038256</td>\n",
       "      <td>-500.102649</td>\n",
       "      <td>30.066959</td>\n",
       "      <td>-500.211499</td>\n",
       "      <td>26.013515</td>\n",
       "      <td>-500.054597</td>\n",
       "      <td>22.988928</td>\n",
       "      <td>-499.981410</td>\n",
       "      <td>23.032807</td>\n",
       "      <td>-501.287889</td>\n",
       "      <td>19.977466</td>\n",
       "      <td>-500.159903</td>\n",
       "      <td>17.980463</td>\n",
       "      <td>-500.504602</td>\n",
       "      <td>12.949071</td>\n",
       "      <td>-500.009937</td>\n",
       "      <td>20.010332</td>\n",
       "      <td>-508.337973</td>\n",
       "    </tr>\n",
       "    <tr>\n",
       "      <th>4</th>\n",
       "      <td>2017-12-09 18:59:59</td>\n",
       "      <td>5.735249</td>\n",
       "      <td>6.165220</td>\n",
       "      <td>4.512346</td>\n",
       "      <td>37.810642</td>\n",
       "      <td>558.713584</td>\n",
       "      <td>86.434874</td>\n",
       "      <td>7.823471</td>\n",
       "      <td>7.490356</td>\n",
       "      <td>1198.005449</td>\n",
       "      <td>-300.283401</td>\n",
       "      <td>1099.481500</td>\n",
       "      <td>-499.702465</td>\n",
       "      <td>999.539264</td>\n",
       "      <td>-499.306051</td>\n",
       "      <td>889.445596</td>\n",
       "      <td>-498.118617</td>\n",
       "      <td>800.533525</td>\n",
       "      <td>-499.765068</td>\n",
       "      <td>800.510356</td>\n",
       "      <td>-497.289533</td>\n",
       "      <td>7.824875</td>\n",
       "      <td>7.500678</td>\n",
       "      <td>117.750648</td>\n",
       "      <td>6.954311</td>\n",
       "      <td>6.426667</td>\n",
       "      <td>0.731271</td>\n",
       "      <td>1649.411497</td>\n",
       "      <td>-399.853156</td>\n",
       "      <td>1648.917211</td>\n",
       "      <td>-400.321866</td>\n",
       "      <td>1649.117753</td>\n",
       "      <td>-399.645348</td>\n",
       "      <td>1650.398209</td>\n",
       "      <td>-400.654533</td>\n",
       "      <td>34.894598</td>\n",
       "      <td>-498.444587</td>\n",
       "      <td>30.020745</td>\n",
       "      <td>-533.831343</td>\n",
       "      <td>26.022094</td>\n",
       "      <td>-499.725484</td>\n",
       "      <td>22.992992</td>\n",
       "      <td>-499.891405</td>\n",
       "      <td>23.001911</td>\n",
       "      <td>-499.947838</td>\n",
       "      <td>20.023735</td>\n",
       "      <td>-499.713680</td>\n",
       "      <td>17.990955</td>\n",
       "      <td>-500.334769</td>\n",
       "      <td>13.007523</td>\n",
       "      <td>-499.968459</td>\n",
       "      <td>19.995999</td>\n",
       "      <td>-499.788805</td>\n",
       "    </tr>\n",
       "  </tbody>\n",
       "</table>\n",
       "</div>"
      ],
      "text/plain": [
       "                  date  rougher.input.feed_au  rougher.input.feed_ag  \\\n",
       "0  2017-12-09 14:59:59               4.365491               6.158718   \n",
       "1  2017-12-09 15:59:59               4.362781               6.048130   \n",
       "2  2017-12-09 16:59:59               5.081681               6.082745   \n",
       "3  2017-12-09 17:59:59               5.145949               6.084374   \n",
       "4  2017-12-09 18:59:59               5.735249               6.165220   \n",
       "\n",
       "   rougher.input.feed_pb  rougher.input.feed_sol  rougher.input.feed_rate  \\\n",
       "0               3.875727               39.135119               555.820208   \n",
       "1               3.902537               39.713906               544.731687   \n",
       "2               4.564078               37.208683               558.155110   \n",
       "3               4.768124               36.808874               539.713765   \n",
       "4               4.512346               37.810642               558.713584   \n",
       "\n",
       "   rougher.input.feed_size  rougher.input.floatbank10_sulfate  \\\n",
       "0                94.544358                           6.146982   \n",
       "1               123.742430                           6.210119   \n",
       "2                82.610855                           7.363824   \n",
       "3                77.984784                           6.927072   \n",
       "4                86.434874                           7.823471   \n",
       "\n",
       "   rougher.input.floatbank10_xanthate  rougher.state.floatbank10_a_air  \\\n",
       "0                            9.308612                      1196.238112   \n",
       "1                            9.297709                      1201.904177   \n",
       "2                            9.003562                      1200.826926   \n",
       "3                            8.955597                      1199.292489   \n",
       "4                            7.490356                      1198.005449   \n",
       "\n",
       "   rougher.state.floatbank10_a_level  rougher.state.floatbank10_b_air  \\\n",
       "0                        -299.862743                      1147.248241   \n",
       "1                        -299.907308                      1154.087804   \n",
       "2                        -300.124116                      1150.754676   \n",
       "3                        -299.778385                      1152.512559   \n",
       "4                        -300.283401                      1099.481500   \n",
       "\n",
       "   rougher.state.floatbank10_b_level  rougher.state.floatbank10_c_air  \\\n",
       "0                        -500.363165                      1047.279065   \n",
       "1                        -500.036580                      1054.009756   \n",
       "2                        -499.986009                      1049.182824   \n",
       "3                        -500.338106                      1052.601592   \n",
       "4                        -499.702465                       999.539264   \n",
       "\n",
       "   rougher.state.floatbank10_c_level  rougher.state.floatbank10_d_air  \\\n",
       "0                        -500.354091                       948.756608   \n",
       "1                        -500.237335                       944.138793   \n",
       "2                        -500.014696                       948.085464   \n",
       "3                        -499.695075                       955.171539   \n",
       "4                        -499.306051                       889.445596   \n",
       "\n",
       "   rougher.state.floatbank10_d_level  rougher.state.floatbank10_e_air  \\\n",
       "0                        -498.439416                       849.441918   \n",
       "1                        -496.866953                       851.589767   \n",
       "2                        -499.997003                       850.170086   \n",
       "3                        -500.294989                       851.957342   \n",
       "4                        -498.118617                       800.533525   \n",
       "\n",
       "   rougher.state.floatbank10_e_level  rougher.state.floatbank10_f_air  \\\n",
       "0                        -499.255503                       850.112246   \n",
       "1                        -499.040466                       851.345606   \n",
       "2                        -500.270334                       849.557905   \n",
       "3                        -499.779541                       850.765662   \n",
       "4                        -499.765068                       800.510356   \n",
       "\n",
       "   rougher.state.floatbank10_f_level  rougher.input.floatbank11_sulfate  \\\n",
       "0                        -499.407112                           6.168939   \n",
       "1                        -499.122561                           6.209517   \n",
       "2                        -500.198702                           7.358308   \n",
       "3                        -501.030559                           6.929364   \n",
       "4                        -497.289533                           7.824875   \n",
       "\n",
       "   rougher.input.floatbank11_xanthate  primary_cleaner.input.sulfate  \\\n",
       "0                            9.309852                      95.248427   \n",
       "1                            9.297194                      98.880538   \n",
       "2                            9.000624                     119.497545   \n",
       "3                            8.920717                     108.080163   \n",
       "4                            7.500678                     117.750648   \n",
       "\n",
       "   primary_cleaner.input.depressant  primary_cleaner.input.feed_size  \\\n",
       "0                          8.078957                         6.500000   \n",
       "1                          7.984164                         6.500000   \n",
       "2                          8.003752                         6.500000   \n",
       "3                          7.970121                         6.660000   \n",
       "4                          6.954311                         6.426667   \n",
       "\n",
       "   primary_cleaner.input.xanthate  primary_cleaner.state.floatbank8_a_air  \\\n",
       "0                        1.283045                             1648.759906   \n",
       "1                        1.241969                             1646.547763   \n",
       "2                        1.259741                             1647.368779   \n",
       "3                        0.774909                             1652.660845   \n",
       "4                        0.731271                             1649.411497   \n",
       "\n",
       "   primary_cleaner.state.floatbank8_a_level  \\\n",
       "0                               -399.862053   \n",
       "1                               -398.977083   \n",
       "2                               -399.788506   \n",
       "3                               -399.702218   \n",
       "4                               -399.853156   \n",
       "\n",
       "   primary_cleaner.state.floatbank8_b_air  \\\n",
       "0                             1650.135395   \n",
       "1                             1648.212240   \n",
       "2                             1648.395206   \n",
       "3                             1651.203128   \n",
       "4                             1648.917211   \n",
       "\n",
       "   primary_cleaner.state.floatbank8_b_level  \\\n",
       "0                               -399.957321   \n",
       "1                               -400.383265   \n",
       "2                               -400.166490   \n",
       "3                               -400.291472   \n",
       "4                               -400.321866   \n",
       "\n",
       "   primary_cleaner.state.floatbank8_c_air  \\\n",
       "0                             1648.831890   \n",
       "1                             1648.917387   \n",
       "2                             1648.953828   \n",
       "3                             1651.924848   \n",
       "4                             1649.117753   \n",
       "\n",
       "   primary_cleaner.state.floatbank8_c_level  \\\n",
       "0                               -400.586116   \n",
       "1                               -399.521344   \n",
       "2                               -400.468641   \n",
       "3                               -398.058033   \n",
       "4                               -399.645348   \n",
       "\n",
       "   primary_cleaner.state.floatbank8_d_air  \\\n",
       "0                             1649.464582   \n",
       "1                             1651.498591   \n",
       "2                             1649.821569   \n",
       "3                             1650.782696   \n",
       "4                             1650.398209   \n",
       "\n",
       "   primary_cleaner.state.floatbank8_d_level  \\\n",
       "0                               -400.673303   \n",
       "1                               -399.745329   \n",
       "2                               -400.071884   \n",
       "3                               -399.597977   \n",
       "4                               -400.654533   \n",
       "\n",
       "   secondary_cleaner.state.floatbank2_a_air  \\\n",
       "0                                 34.940919   \n",
       "1                                 34.980742   \n",
       "2                                 34.952967   \n",
       "3                                 35.038256   \n",
       "4                                 34.894598   \n",
       "\n",
       "   secondary_cleaner.state.floatbank2_a_level  \\\n",
       "0                                 -500.150510   \n",
       "1                                 -498.131002   \n",
       "2                                 -501.204647   \n",
       "3                                 -500.102649   \n",
       "4                                 -498.444587   \n",
       "\n",
       "   secondary_cleaner.state.floatbank2_b_air  \\\n",
       "0                                 30.031867   \n",
       "1                                 29.968453   \n",
       "2                                 29.927025   \n",
       "3                                 30.066959   \n",
       "4                                 30.020745   \n",
       "\n",
       "   secondary_cleaner.state.floatbank2_b_level  \\\n",
       "0                                 -500.328335   \n",
       "1                                 -586.013330   \n",
       "2                                 -500.106628   \n",
       "3                                 -500.211499   \n",
       "4                                 -533.831343   \n",
       "\n",
       "   secondary_cleaner.state.floatbank3_a_air  \\\n",
       "0                                 26.033990   \n",
       "1                                 25.971737   \n",
       "2                                 25.978253   \n",
       "3                                 26.013515   \n",
       "4                                 26.022094   \n",
       "\n",
       "   secondary_cleaner.state.floatbank3_a_level  \\\n",
       "0                                 -500.147792   \n",
       "1                                 -499.608392   \n",
       "2                                 -499.890060   \n",
       "3                                 -500.054597   \n",
       "4                                 -499.725484   \n",
       "\n",
       "   secondary_cleaner.state.floatbank3_b_air  \\\n",
       "0                                 22.952306   \n",
       "1                                 22.958448   \n",
       "2                                 23.004376   \n",
       "3                                 22.988928   \n",
       "4                                 22.992992   \n",
       "\n",
       "   secondary_cleaner.state.floatbank3_b_level  \\\n",
       "0                                 -500.037678   \n",
       "1                                 -499.821308   \n",
       "2                                 -500.014529   \n",
       "3                                 -499.981410   \n",
       "4                                 -499.891405   \n",
       "\n",
       "   secondary_cleaner.state.floatbank4_a_air  \\\n",
       "0                                 23.018622   \n",
       "1                                 23.024963   \n",
       "2                                 22.993827   \n",
       "3                                 23.032807   \n",
       "4                                 23.001911   \n",
       "\n",
       "   secondary_cleaner.state.floatbank4_a_level  \\\n",
       "0                                 -500.492702   \n",
       "1                                 -501.153409   \n",
       "2                                 -501.559663   \n",
       "3                                 -501.287889   \n",
       "4                                 -499.947838   \n",
       "\n",
       "   secondary_cleaner.state.floatbank4_b_air  \\\n",
       "0                                 20.020205   \n",
       "1                                 20.054122   \n",
       "2                                 20.029144   \n",
       "3                                 19.977466   \n",
       "4                                 20.023735   \n",
       "\n",
       "   secondary_cleaner.state.floatbank4_b_level  \\\n",
       "0                                 -500.220296   \n",
       "1                                 -500.314711   \n",
       "2                                 -500.000662   \n",
       "3                                 -500.159903   \n",
       "4                                 -499.713680   \n",
       "\n",
       "   secondary_cleaner.state.floatbank5_a_air  \\\n",
       "0                                 17.963512   \n",
       "1                                 17.979515   \n",
       "2                                 18.012723   \n",
       "3                                 17.980463   \n",
       "4                                 17.990955   \n",
       "\n",
       "   secondary_cleaner.state.floatbank5_a_level  \\\n",
       "0                                 -499.939490   \n",
       "1                                 -499.272871   \n",
       "2                                 -500.024764   \n",
       "3                                 -500.504602   \n",
       "4                                 -500.334769   \n",
       "\n",
       "   secondary_cleaner.state.floatbank5_b_air  \\\n",
       "0                                 12.990306   \n",
       "1                                 12.992404   \n",
       "2                                 13.016445   \n",
       "3                                 12.949071   \n",
       "4                                 13.007523   \n",
       "\n",
       "   secondary_cleaner.state.floatbank5_b_level  \\\n",
       "0                                 -500.080993   \n",
       "1                                 -499.976268   \n",
       "2                                 -500.058432   \n",
       "3                                 -500.009937   \n",
       "4                                 -499.968459   \n",
       "\n",
       "   secondary_cleaner.state.floatbank6_a_air  \\\n",
       "0                                 19.990336   \n",
       "1                                 20.013986   \n",
       "2                                 19.973767   \n",
       "3                                 20.010332   \n",
       "4                                 19.995999   \n",
       "\n",
       "   secondary_cleaner.state.floatbank6_a_level  \n",
       "0                                 -499.191575  \n",
       "1                                 -500.625471  \n",
       "2                                 -501.394155  \n",
       "3                                 -508.337973  \n",
       "4                                 -499.788805  "
      ]
     },
     "execution_count": 4,
     "metadata": {},
     "output_type": "execute_result"
    }
   ],
   "source": [
    "data_test.info(False)\n",
    "data_test.head(5)"
   ]
  },
  {
   "cell_type": "code",
   "execution_count": 5,
   "metadata": {},
   "outputs": [
    {
     "name": "stdout",
     "output_type": "stream",
     "text": [
      "<class 'pandas.core.frame.DataFrame'>\n",
      "RangeIndex: 14579 entries, 0 to 14578\n",
      "Columns: 87 entries, date to final.output.tail_sol\n",
      "dtypes: float64(86), object(1)\n",
      "memory usage: 9.7+ MB\n"
     ]
    },
    {
     "data": {
      "text/html": [
       "<div>\n",
       "<style scoped>\n",
       "    .dataframe tbody tr th:only-of-type {\n",
       "        vertical-align: middle;\n",
       "    }\n",
       "\n",
       "    .dataframe tbody tr th {\n",
       "        vertical-align: top;\n",
       "    }\n",
       "\n",
       "    .dataframe thead th {\n",
       "        text-align: right;\n",
       "    }\n",
       "</style>\n",
       "<table border=\"1\" class=\"dataframe\">\n",
       "  <thead>\n",
       "    <tr style=\"text-align: right;\">\n",
       "      <th></th>\n",
       "      <th>date</th>\n",
       "      <th>rougher.input.feed_au</th>\n",
       "      <th>rougher.input.feed_ag</th>\n",
       "      <th>rougher.input.feed_pb</th>\n",
       "      <th>rougher.input.feed_sol</th>\n",
       "      <th>rougher.input.feed_rate</th>\n",
       "      <th>rougher.input.feed_size</th>\n",
       "      <th>rougher.input.floatbank10_sulfate</th>\n",
       "      <th>rougher.input.floatbank10_xanthate</th>\n",
       "      <th>rougher.state.floatbank10_a_air</th>\n",
       "      <th>rougher.state.floatbank10_a_level</th>\n",
       "      <th>rougher.state.floatbank10_b_air</th>\n",
       "      <th>rougher.state.floatbank10_b_level</th>\n",
       "      <th>rougher.state.floatbank10_c_air</th>\n",
       "      <th>rougher.state.floatbank10_c_level</th>\n",
       "      <th>rougher.state.floatbank10_d_air</th>\n",
       "      <th>rougher.state.floatbank10_d_level</th>\n",
       "      <th>rougher.state.floatbank10_e_air</th>\n",
       "      <th>rougher.state.floatbank10_e_level</th>\n",
       "      <th>rougher.state.floatbank10_f_air</th>\n",
       "      <th>rougher.state.floatbank10_f_level</th>\n",
       "      <th>rougher.input.floatbank11_sulfate</th>\n",
       "      <th>rougher.input.floatbank11_xanthate</th>\n",
       "      <th>rougher.calculation.sulfate_to_au_concentrate</th>\n",
       "      <th>rougher.calculation.floatbank10_sulfate_to_au_feed</th>\n",
       "      <th>rougher.calculation.floatbank11_sulfate_to_au_feed</th>\n",
       "      <th>rougher.calculation.au_pb_ratio</th>\n",
       "      <th>rougher.output.concentrate_au</th>\n",
       "      <th>rougher.output.concentrate_ag</th>\n",
       "      <th>rougher.output.concentrate_pb</th>\n",
       "      <th>rougher.output.concentrate_sol</th>\n",
       "      <th>rougher.output.recovery</th>\n",
       "      <th>rougher.output.tail_au</th>\n",
       "      <th>rougher.output.tail_ag</th>\n",
       "      <th>rougher.output.tail_pb</th>\n",
       "      <th>rougher.output.tail_sol</th>\n",
       "      <th>primary_cleaner.input.sulfate</th>\n",
       "      <th>primary_cleaner.input.depressant</th>\n",
       "      <th>primary_cleaner.input.feed_size</th>\n",
       "      <th>primary_cleaner.input.xanthate</th>\n",
       "      <th>primary_cleaner.state.floatbank8_a_air</th>\n",
       "      <th>primary_cleaner.state.floatbank8_a_level</th>\n",
       "      <th>primary_cleaner.state.floatbank8_b_air</th>\n",
       "      <th>primary_cleaner.state.floatbank8_b_level</th>\n",
       "      <th>primary_cleaner.state.floatbank8_c_air</th>\n",
       "      <th>primary_cleaner.state.floatbank8_c_level</th>\n",
       "      <th>primary_cleaner.state.floatbank8_d_air</th>\n",
       "      <th>primary_cleaner.state.floatbank8_d_level</th>\n",
       "      <th>primary_cleaner.output.concentrate_au</th>\n",
       "      <th>primary_cleaner.output.concentrate_ag</th>\n",
       "      <th>primary_cleaner.output.concentrate_pb</th>\n",
       "      <th>primary_cleaner.output.concentrate_sol</th>\n",
       "      <th>primary_cleaner.output.tail_au</th>\n",
       "      <th>primary_cleaner.output.tail_ag</th>\n",
       "      <th>primary_cleaner.output.tail_pb</th>\n",
       "      <th>primary_cleaner.output.tail_sol</th>\n",
       "      <th>secondary_cleaner.state.floatbank2_a_air</th>\n",
       "      <th>secondary_cleaner.state.floatbank2_a_level</th>\n",
       "      <th>secondary_cleaner.state.floatbank2_b_air</th>\n",
       "      <th>secondary_cleaner.state.floatbank2_b_level</th>\n",
       "      <th>secondary_cleaner.state.floatbank3_a_air</th>\n",
       "      <th>secondary_cleaner.state.floatbank3_a_level</th>\n",
       "      <th>secondary_cleaner.state.floatbank3_b_air</th>\n",
       "      <th>secondary_cleaner.state.floatbank3_b_level</th>\n",
       "      <th>secondary_cleaner.state.floatbank4_a_air</th>\n",
       "      <th>secondary_cleaner.state.floatbank4_a_level</th>\n",
       "      <th>secondary_cleaner.state.floatbank4_b_air</th>\n",
       "      <th>secondary_cleaner.state.floatbank4_b_level</th>\n",
       "      <th>secondary_cleaner.state.floatbank5_a_air</th>\n",
       "      <th>secondary_cleaner.state.floatbank5_a_level</th>\n",
       "      <th>secondary_cleaner.state.floatbank5_b_air</th>\n",
       "      <th>secondary_cleaner.state.floatbank5_b_level</th>\n",
       "      <th>secondary_cleaner.state.floatbank6_a_air</th>\n",
       "      <th>secondary_cleaner.state.floatbank6_a_level</th>\n",
       "      <th>secondary_cleaner.output.tail_au</th>\n",
       "      <th>secondary_cleaner.output.tail_ag</th>\n",
       "      <th>secondary_cleaner.output.tail_pb</th>\n",
       "      <th>secondary_cleaner.output.tail_sol</th>\n",
       "      <th>final.output.concentrate_au</th>\n",
       "      <th>final.output.concentrate_ag</th>\n",
       "      <th>final.output.concentrate_pb</th>\n",
       "      <th>final.output.concentrate_sol</th>\n",
       "      <th>final.output.recovery</th>\n",
       "      <th>final.output.tail_au</th>\n",
       "      <th>final.output.tail_ag</th>\n",
       "      <th>final.output.tail_pb</th>\n",
       "      <th>final.output.tail_sol</th>\n",
       "    </tr>\n",
       "  </thead>\n",
       "  <tbody>\n",
       "    <tr>\n",
       "      <th>0</th>\n",
       "      <td>2016-01-15 00:00:00</td>\n",
       "      <td>6.486150</td>\n",
       "      <td>6.100378</td>\n",
       "      <td>2.284912</td>\n",
       "      <td>36.808594</td>\n",
       "      <td>523.546326</td>\n",
       "      <td>55.486599</td>\n",
       "      <td>11.986616</td>\n",
       "      <td>6.007990</td>\n",
       "      <td>999.706909</td>\n",
       "      <td>-404.066986</td>\n",
       "      <td>1603.011353</td>\n",
       "      <td>-434.715027</td>\n",
       "      <td>1602.375000</td>\n",
       "      <td>-442.204468</td>\n",
       "      <td>1598.937256</td>\n",
       "      <td>-451.294128</td>\n",
       "      <td>1404.472046</td>\n",
       "      <td>-455.462982</td>\n",
       "      <td>1416.354980</td>\n",
       "      <td>-451.939636</td>\n",
       "      <td>11.836743</td>\n",
       "      <td>6.005818</td>\n",
       "      <td>41885.707031</td>\n",
       "      <td>3481.779053</td>\n",
       "      <td>3520.337158</td>\n",
       "      <td>2.838687</td>\n",
       "      <td>19.793808</td>\n",
       "      <td>11.500771</td>\n",
       "      <td>7.101074</td>\n",
       "      <td>28.029297</td>\n",
       "      <td>87.107763</td>\n",
       "      <td>1.170244</td>\n",
       "      <td>5.008018</td>\n",
       "      <td>0.508728</td>\n",
       "      <td>19.154297</td>\n",
       "      <td>127.092003</td>\n",
       "      <td>10.128295</td>\n",
       "      <td>7.25</td>\n",
       "      <td>0.988759</td>\n",
       "      <td>1549.775757</td>\n",
       "      <td>-498.912140</td>\n",
       "      <td>1551.434204</td>\n",
       "      <td>-516.403442</td>\n",
       "      <td>1549.873901</td>\n",
       "      <td>-498.666595</td>\n",
       "      <td>1554.367432</td>\n",
       "      <td>-493.428131</td>\n",
       "      <td>34.174427</td>\n",
       "      <td>8.547551</td>\n",
       "      <td>10.389648</td>\n",
       "      <td>19.529297</td>\n",
       "      <td>2.106679</td>\n",
       "      <td>14.936526</td>\n",
       "      <td>2.534912</td>\n",
       "      <td>7.476074</td>\n",
       "      <td>25.853109</td>\n",
       "      <td>-498.526489</td>\n",
       "      <td>23.893660</td>\n",
       "      <td>-501.406281</td>\n",
       "      <td>23.961798</td>\n",
       "      <td>-495.262817</td>\n",
       "      <td>21.940409</td>\n",
       "      <td>-499.340973</td>\n",
       "      <td>14.016835</td>\n",
       "      <td>-502.488007</td>\n",
       "      <td>12.099931</td>\n",
       "      <td>-504.715942</td>\n",
       "      <td>9.925633</td>\n",
       "      <td>-498.310211</td>\n",
       "      <td>8.079666</td>\n",
       "      <td>-500.470978</td>\n",
       "      <td>14.151341</td>\n",
       "      <td>-605.841980</td>\n",
       "      <td>2.606185</td>\n",
       "      <td>14.500184</td>\n",
       "      <td>4.694824</td>\n",
       "      <td>8.764648</td>\n",
       "      <td>42.192020</td>\n",
       "      <td>6.055403</td>\n",
       "      <td>9.889648</td>\n",
       "      <td>5.507324</td>\n",
       "      <td>70.541216</td>\n",
       "      <td>2.143149</td>\n",
       "      <td>10.411962</td>\n",
       "      <td>0.895447</td>\n",
       "      <td>16.904297</td>\n",
       "    </tr>\n",
       "    <tr>\n",
       "      <th>1</th>\n",
       "      <td>2016-01-15 01:00:00</td>\n",
       "      <td>6.478583</td>\n",
       "      <td>6.161113</td>\n",
       "      <td>2.266033</td>\n",
       "      <td>35.753385</td>\n",
       "      <td>525.290581</td>\n",
       "      <td>57.278666</td>\n",
       "      <td>11.971193</td>\n",
       "      <td>6.005766</td>\n",
       "      <td>1000.286398</td>\n",
       "      <td>-400.065196</td>\n",
       "      <td>1600.754587</td>\n",
       "      <td>-449.953435</td>\n",
       "      <td>1600.479580</td>\n",
       "      <td>-449.830646</td>\n",
       "      <td>1600.527589</td>\n",
       "      <td>-449.953649</td>\n",
       "      <td>1399.227084</td>\n",
       "      <td>-450.869848</td>\n",
       "      <td>1399.719514</td>\n",
       "      <td>-450.119001</td>\n",
       "      <td>11.996163</td>\n",
       "      <td>6.012594</td>\n",
       "      <td>42050.861809</td>\n",
       "      <td>3498.370979</td>\n",
       "      <td>3489.981857</td>\n",
       "      <td>2.858998</td>\n",
       "      <td>20.050975</td>\n",
       "      <td>11.615865</td>\n",
       "      <td>7.278807</td>\n",
       "      <td>28.067063</td>\n",
       "      <td>86.843261</td>\n",
       "      <td>1.184827</td>\n",
       "      <td>4.955378</td>\n",
       "      <td>0.536689</td>\n",
       "      <td>18.965234</td>\n",
       "      <td>125.629232</td>\n",
       "      <td>10.296251</td>\n",
       "      <td>7.25</td>\n",
       "      <td>1.002663</td>\n",
       "      <td>1576.166671</td>\n",
       "      <td>-500.904965</td>\n",
       "      <td>1575.950626</td>\n",
       "      <td>-499.865889</td>\n",
       "      <td>1575.994189</td>\n",
       "      <td>-499.315107</td>\n",
       "      <td>1574.479259</td>\n",
       "      <td>-498.931665</td>\n",
       "      <td>34.118526</td>\n",
       "      <td>8.558743</td>\n",
       "      <td>10.497069</td>\n",
       "      <td>19.369147</td>\n",
       "      <td>2.353017</td>\n",
       "      <td>16.250511</td>\n",
       "      <td>3.049646</td>\n",
       "      <td>6.733907</td>\n",
       "      <td>25.880539</td>\n",
       "      <td>-499.989656</td>\n",
       "      <td>23.889530</td>\n",
       "      <td>-500.372428</td>\n",
       "      <td>23.970550</td>\n",
       "      <td>-500.085473</td>\n",
       "      <td>22.085714</td>\n",
       "      <td>-499.446897</td>\n",
       "      <td>13.992281</td>\n",
       "      <td>-505.503262</td>\n",
       "      <td>11.950531</td>\n",
       "      <td>-501.331529</td>\n",
       "      <td>10.039245</td>\n",
       "      <td>-500.169983</td>\n",
       "      <td>7.984757</td>\n",
       "      <td>-500.582168</td>\n",
       "      <td>13.998353</td>\n",
       "      <td>-599.787184</td>\n",
       "      <td>2.488248</td>\n",
       "      <td>14.265474</td>\n",
       "      <td>4.592547</td>\n",
       "      <td>9.001494</td>\n",
       "      <td>42.701629</td>\n",
       "      <td>6.029369</td>\n",
       "      <td>9.968944</td>\n",
       "      <td>5.257781</td>\n",
       "      <td>69.266198</td>\n",
       "      <td>2.224930</td>\n",
       "      <td>10.462676</td>\n",
       "      <td>0.927452</td>\n",
       "      <td>16.634514</td>\n",
       "    </tr>\n",
       "    <tr>\n",
       "      <th>2</th>\n",
       "      <td>2016-01-15 02:00:00</td>\n",
       "      <td>6.362222</td>\n",
       "      <td>6.116455</td>\n",
       "      <td>2.159622</td>\n",
       "      <td>35.971630</td>\n",
       "      <td>530.026610</td>\n",
       "      <td>57.510649</td>\n",
       "      <td>11.920603</td>\n",
       "      <td>6.197377</td>\n",
       "      <td>999.719565</td>\n",
       "      <td>-400.074028</td>\n",
       "      <td>1599.337330</td>\n",
       "      <td>-450.008530</td>\n",
       "      <td>1599.672797</td>\n",
       "      <td>-449.954491</td>\n",
       "      <td>1599.849325</td>\n",
       "      <td>-449.954185</td>\n",
       "      <td>1399.180945</td>\n",
       "      <td>-449.937588</td>\n",
       "      <td>1400.316682</td>\n",
       "      <td>-450.527147</td>\n",
       "      <td>11.920305</td>\n",
       "      <td>6.204633</td>\n",
       "      <td>42018.101184</td>\n",
       "      <td>3495.348910</td>\n",
       "      <td>3502.359819</td>\n",
       "      <td>2.945989</td>\n",
       "      <td>19.737170</td>\n",
       "      <td>11.695753</td>\n",
       "      <td>7.216833</td>\n",
       "      <td>27.454037</td>\n",
       "      <td>86.842308</td>\n",
       "      <td>1.162562</td>\n",
       "      <td>4.843460</td>\n",
       "      <td>0.546416</td>\n",
       "      <td>18.808533</td>\n",
       "      <td>123.819808</td>\n",
       "      <td>11.316280</td>\n",
       "      <td>7.25</td>\n",
       "      <td>0.991265</td>\n",
       "      <td>1601.556163</td>\n",
       "      <td>-499.997791</td>\n",
       "      <td>1600.386685</td>\n",
       "      <td>-500.607762</td>\n",
       "      <td>1602.003542</td>\n",
       "      <td>-500.870069</td>\n",
       "      <td>1599.541515</td>\n",
       "      <td>-499.827444</td>\n",
       "      <td>33.969464</td>\n",
       "      <td>8.603505</td>\n",
       "      <td>10.354494</td>\n",
       "      <td>19.167579</td>\n",
       "      <td>2.416800</td>\n",
       "      <td>16.491823</td>\n",
       "      <td>3.124664</td>\n",
       "      <td>6.471768</td>\n",
       "      <td>26.005245</td>\n",
       "      <td>-499.929616</td>\n",
       "      <td>23.886657</td>\n",
       "      <td>-499.951928</td>\n",
       "      <td>23.913535</td>\n",
       "      <td>-499.442343</td>\n",
       "      <td>23.957717</td>\n",
       "      <td>-499.901982</td>\n",
       "      <td>14.015015</td>\n",
       "      <td>-502.520901</td>\n",
       "      <td>11.912783</td>\n",
       "      <td>-501.133383</td>\n",
       "      <td>10.070913</td>\n",
       "      <td>-500.129135</td>\n",
       "      <td>8.013877</td>\n",
       "      <td>-500.517572</td>\n",
       "      <td>14.028663</td>\n",
       "      <td>-601.427363</td>\n",
       "      <td>2.458187</td>\n",
       "      <td>14.115662</td>\n",
       "      <td>4.624775</td>\n",
       "      <td>8.842896</td>\n",
       "      <td>42.657501</td>\n",
       "      <td>6.055926</td>\n",
       "      <td>10.213995</td>\n",
       "      <td>5.383759</td>\n",
       "      <td>68.116445</td>\n",
       "      <td>2.257889</td>\n",
       "      <td>10.507046</td>\n",
       "      <td>0.953716</td>\n",
       "      <td>16.208849</td>\n",
       "    </tr>\n",
       "    <tr>\n",
       "      <th>3</th>\n",
       "      <td>2016-01-15 03:00:00</td>\n",
       "      <td>6.118189</td>\n",
       "      <td>6.043309</td>\n",
       "      <td>2.037807</td>\n",
       "      <td>36.862241</td>\n",
       "      <td>542.590390</td>\n",
       "      <td>57.792734</td>\n",
       "      <td>11.630094</td>\n",
       "      <td>6.203177</td>\n",
       "      <td>999.814770</td>\n",
       "      <td>-400.200179</td>\n",
       "      <td>1600.059442</td>\n",
       "      <td>-450.619948</td>\n",
       "      <td>1600.012842</td>\n",
       "      <td>-449.910497</td>\n",
       "      <td>1597.725177</td>\n",
       "      <td>-450.130127</td>\n",
       "      <td>1400.943157</td>\n",
       "      <td>-450.030142</td>\n",
       "      <td>1400.234743</td>\n",
       "      <td>-449.790835</td>\n",
       "      <td>11.692450</td>\n",
       "      <td>6.196578</td>\n",
       "      <td>42029.447991</td>\n",
       "      <td>3498.578313</td>\n",
       "      <td>3499.162912</td>\n",
       "      <td>3.002340</td>\n",
       "      <td>19.320810</td>\n",
       "      <td>11.915047</td>\n",
       "      <td>7.175616</td>\n",
       "      <td>27.341277</td>\n",
       "      <td>87.226430</td>\n",
       "      <td>1.079755</td>\n",
       "      <td>4.655288</td>\n",
       "      <td>0.542525</td>\n",
       "      <td>19.330200</td>\n",
       "      <td>122.270188</td>\n",
       "      <td>11.322140</td>\n",
       "      <td>7.25</td>\n",
       "      <td>0.996739</td>\n",
       "      <td>1599.968720</td>\n",
       "      <td>-500.951778</td>\n",
       "      <td>1600.659236</td>\n",
       "      <td>-499.677094</td>\n",
       "      <td>1600.304144</td>\n",
       "      <td>-500.727997</td>\n",
       "      <td>1600.449520</td>\n",
       "      <td>-500.052575</td>\n",
       "      <td>28.260743</td>\n",
       "      <td>7.221879</td>\n",
       "      <td>8.496563</td>\n",
       "      <td>15.978538</td>\n",
       "      <td>2.262051</td>\n",
       "      <td>16.024359</td>\n",
       "      <td>2.960362</td>\n",
       "      <td>6.843791</td>\n",
       "      <td>25.942508</td>\n",
       "      <td>-499.176749</td>\n",
       "      <td>23.955516</td>\n",
       "      <td>-499.848796</td>\n",
       "      <td>23.966838</td>\n",
       "      <td>-500.008812</td>\n",
       "      <td>23.954443</td>\n",
       "      <td>-499.944710</td>\n",
       "      <td>14.036510</td>\n",
       "      <td>-500.857308</td>\n",
       "      <td>11.999550</td>\n",
       "      <td>-501.193686</td>\n",
       "      <td>9.970366</td>\n",
       "      <td>-499.201640</td>\n",
       "      <td>7.977324</td>\n",
       "      <td>-500.255908</td>\n",
       "      <td>14.005551</td>\n",
       "      <td>-599.996129</td>\n",
       "      <td>2.322062</td>\n",
       "      <td>13.732071</td>\n",
       "      <td>4.482453</td>\n",
       "      <td>9.122857</td>\n",
       "      <td>42.689819</td>\n",
       "      <td>6.047977</td>\n",
       "      <td>9.977019</td>\n",
       "      <td>4.858634</td>\n",
       "      <td>68.347543</td>\n",
       "      <td>2.146849</td>\n",
       "      <td>10.422762</td>\n",
       "      <td>0.883763</td>\n",
       "      <td>16.532835</td>\n",
       "    </tr>\n",
       "    <tr>\n",
       "      <th>4</th>\n",
       "      <td>2016-01-15 04:00:00</td>\n",
       "      <td>5.663707</td>\n",
       "      <td>6.060915</td>\n",
       "      <td>1.786875</td>\n",
       "      <td>34.347666</td>\n",
       "      <td>540.531893</td>\n",
       "      <td>56.047189</td>\n",
       "      <td>10.957755</td>\n",
       "      <td>6.198826</td>\n",
       "      <td>999.678690</td>\n",
       "      <td>-399.752729</td>\n",
       "      <td>1600.208824</td>\n",
       "      <td>-449.599614</td>\n",
       "      <td>1600.357732</td>\n",
       "      <td>-450.034364</td>\n",
       "      <td>1599.759049</td>\n",
       "      <td>-449.909799</td>\n",
       "      <td>1401.560902</td>\n",
       "      <td>-448.877187</td>\n",
       "      <td>1401.160227</td>\n",
       "      <td>-450.407128</td>\n",
       "      <td>10.960521</td>\n",
       "      <td>6.194897</td>\n",
       "      <td>42125.354245</td>\n",
       "      <td>3494.800771</td>\n",
       "      <td>3506.679315</td>\n",
       "      <td>3.169615</td>\n",
       "      <td>19.216101</td>\n",
       "      <td>12.411054</td>\n",
       "      <td>7.240205</td>\n",
       "      <td>27.041023</td>\n",
       "      <td>86.688794</td>\n",
       "      <td>1.012642</td>\n",
       "      <td>4.552800</td>\n",
       "      <td>0.515438</td>\n",
       "      <td>19.267422</td>\n",
       "      <td>117.988169</td>\n",
       "      <td>11.913613</td>\n",
       "      <td>7.25</td>\n",
       "      <td>1.009869</td>\n",
       "      <td>1601.339707</td>\n",
       "      <td>-498.975456</td>\n",
       "      <td>1601.437854</td>\n",
       "      <td>-500.323246</td>\n",
       "      <td>1599.581894</td>\n",
       "      <td>-500.888152</td>\n",
       "      <td>1602.649541</td>\n",
       "      <td>-500.593010</td>\n",
       "      <td>33.044932</td>\n",
       "      <td>9.089428</td>\n",
       "      <td>9.986786</td>\n",
       "      <td>19.199864</td>\n",
       "      <td>2.277073</td>\n",
       "      <td>16.480185</td>\n",
       "      <td>3.112100</td>\n",
       "      <td>6.550154</td>\n",
       "      <td>26.024787</td>\n",
       "      <td>-500.279091</td>\n",
       "      <td>23.955345</td>\n",
       "      <td>-500.593614</td>\n",
       "      <td>23.985703</td>\n",
       "      <td>-500.083811</td>\n",
       "      <td>23.958945</td>\n",
       "      <td>-499.990309</td>\n",
       "      <td>14.027298</td>\n",
       "      <td>-499.838632</td>\n",
       "      <td>11.953070</td>\n",
       "      <td>-501.053894</td>\n",
       "      <td>9.925709</td>\n",
       "      <td>-501.686727</td>\n",
       "      <td>7.894242</td>\n",
       "      <td>-500.356035</td>\n",
       "      <td>13.996647</td>\n",
       "      <td>-601.496691</td>\n",
       "      <td>2.330448</td>\n",
       "      <td>14.079996</td>\n",
       "      <td>4.470737</td>\n",
       "      <td>8.871028</td>\n",
       "      <td>42.774141</td>\n",
       "      <td>6.148599</td>\n",
       "      <td>10.142511</td>\n",
       "      <td>4.939416</td>\n",
       "      <td>66.927016</td>\n",
       "      <td>2.055292</td>\n",
       "      <td>10.360302</td>\n",
       "      <td>0.792826</td>\n",
       "      <td>16.525686</td>\n",
       "    </tr>\n",
       "  </tbody>\n",
       "</table>\n",
       "</div>"
      ],
      "text/plain": [
       "                  date  rougher.input.feed_au  rougher.input.feed_ag  \\\n",
       "0  2016-01-15 00:00:00               6.486150               6.100378   \n",
       "1  2016-01-15 01:00:00               6.478583               6.161113   \n",
       "2  2016-01-15 02:00:00               6.362222               6.116455   \n",
       "3  2016-01-15 03:00:00               6.118189               6.043309   \n",
       "4  2016-01-15 04:00:00               5.663707               6.060915   \n",
       "\n",
       "   rougher.input.feed_pb  rougher.input.feed_sol  rougher.input.feed_rate  \\\n",
       "0               2.284912               36.808594               523.546326   \n",
       "1               2.266033               35.753385               525.290581   \n",
       "2               2.159622               35.971630               530.026610   \n",
       "3               2.037807               36.862241               542.590390   \n",
       "4               1.786875               34.347666               540.531893   \n",
       "\n",
       "   rougher.input.feed_size  rougher.input.floatbank10_sulfate  \\\n",
       "0                55.486599                          11.986616   \n",
       "1                57.278666                          11.971193   \n",
       "2                57.510649                          11.920603   \n",
       "3                57.792734                          11.630094   \n",
       "4                56.047189                          10.957755   \n",
       "\n",
       "   rougher.input.floatbank10_xanthate  rougher.state.floatbank10_a_air  \\\n",
       "0                            6.007990                       999.706909   \n",
       "1                            6.005766                      1000.286398   \n",
       "2                            6.197377                       999.719565   \n",
       "3                            6.203177                       999.814770   \n",
       "4                            6.198826                       999.678690   \n",
       "\n",
       "   rougher.state.floatbank10_a_level  rougher.state.floatbank10_b_air  \\\n",
       "0                        -404.066986                      1603.011353   \n",
       "1                        -400.065196                      1600.754587   \n",
       "2                        -400.074028                      1599.337330   \n",
       "3                        -400.200179                      1600.059442   \n",
       "4                        -399.752729                      1600.208824   \n",
       "\n",
       "   rougher.state.floatbank10_b_level  rougher.state.floatbank10_c_air  \\\n",
       "0                        -434.715027                      1602.375000   \n",
       "1                        -449.953435                      1600.479580   \n",
       "2                        -450.008530                      1599.672797   \n",
       "3                        -450.619948                      1600.012842   \n",
       "4                        -449.599614                      1600.357732   \n",
       "\n",
       "   rougher.state.floatbank10_c_level  rougher.state.floatbank10_d_air  \\\n",
       "0                        -442.204468                      1598.937256   \n",
       "1                        -449.830646                      1600.527589   \n",
       "2                        -449.954491                      1599.849325   \n",
       "3                        -449.910497                      1597.725177   \n",
       "4                        -450.034364                      1599.759049   \n",
       "\n",
       "   rougher.state.floatbank10_d_level  rougher.state.floatbank10_e_air  \\\n",
       "0                        -451.294128                      1404.472046   \n",
       "1                        -449.953649                      1399.227084   \n",
       "2                        -449.954185                      1399.180945   \n",
       "3                        -450.130127                      1400.943157   \n",
       "4                        -449.909799                      1401.560902   \n",
       "\n",
       "   rougher.state.floatbank10_e_level  rougher.state.floatbank10_f_air  \\\n",
       "0                        -455.462982                      1416.354980   \n",
       "1                        -450.869848                      1399.719514   \n",
       "2                        -449.937588                      1400.316682   \n",
       "3                        -450.030142                      1400.234743   \n",
       "4                        -448.877187                      1401.160227   \n",
       "\n",
       "   rougher.state.floatbank10_f_level  rougher.input.floatbank11_sulfate  \\\n",
       "0                        -451.939636                          11.836743   \n",
       "1                        -450.119001                          11.996163   \n",
       "2                        -450.527147                          11.920305   \n",
       "3                        -449.790835                          11.692450   \n",
       "4                        -450.407128                          10.960521   \n",
       "\n",
       "   rougher.input.floatbank11_xanthate  \\\n",
       "0                            6.005818   \n",
       "1                            6.012594   \n",
       "2                            6.204633   \n",
       "3                            6.196578   \n",
       "4                            6.194897   \n",
       "\n",
       "   rougher.calculation.sulfate_to_au_concentrate  \\\n",
       "0                                   41885.707031   \n",
       "1                                   42050.861809   \n",
       "2                                   42018.101184   \n",
       "3                                   42029.447991   \n",
       "4                                   42125.354245   \n",
       "\n",
       "   rougher.calculation.floatbank10_sulfate_to_au_feed  \\\n",
       "0                                        3481.779053    \n",
       "1                                        3498.370979    \n",
       "2                                        3495.348910    \n",
       "3                                        3498.578313    \n",
       "4                                        3494.800771    \n",
       "\n",
       "   rougher.calculation.floatbank11_sulfate_to_au_feed  \\\n",
       "0                                        3520.337158    \n",
       "1                                        3489.981857    \n",
       "2                                        3502.359819    \n",
       "3                                        3499.162912    \n",
       "4                                        3506.679315    \n",
       "\n",
       "   rougher.calculation.au_pb_ratio  rougher.output.concentrate_au  \\\n",
       "0                         2.838687                      19.793808   \n",
       "1                         2.858998                      20.050975   \n",
       "2                         2.945989                      19.737170   \n",
       "3                         3.002340                      19.320810   \n",
       "4                         3.169615                      19.216101   \n",
       "\n",
       "   rougher.output.concentrate_ag  rougher.output.concentrate_pb  \\\n",
       "0                      11.500771                       7.101074   \n",
       "1                      11.615865                       7.278807   \n",
       "2                      11.695753                       7.216833   \n",
       "3                      11.915047                       7.175616   \n",
       "4                      12.411054                       7.240205   \n",
       "\n",
       "   rougher.output.concentrate_sol  rougher.output.recovery  \\\n",
       "0                       28.029297                87.107763   \n",
       "1                       28.067063                86.843261   \n",
       "2                       27.454037                86.842308   \n",
       "3                       27.341277                87.226430   \n",
       "4                       27.041023                86.688794   \n",
       "\n",
       "   rougher.output.tail_au  rougher.output.tail_ag  rougher.output.tail_pb  \\\n",
       "0                1.170244                5.008018                0.508728   \n",
       "1                1.184827                4.955378                0.536689   \n",
       "2                1.162562                4.843460                0.546416   \n",
       "3                1.079755                4.655288                0.542525   \n",
       "4                1.012642                4.552800                0.515438   \n",
       "\n",
       "   rougher.output.tail_sol  primary_cleaner.input.sulfate  \\\n",
       "0                19.154297                     127.092003   \n",
       "1                18.965234                     125.629232   \n",
       "2                18.808533                     123.819808   \n",
       "3                19.330200                     122.270188   \n",
       "4                19.267422                     117.988169   \n",
       "\n",
       "   primary_cleaner.input.depressant  primary_cleaner.input.feed_size  \\\n",
       "0                         10.128295                             7.25   \n",
       "1                         10.296251                             7.25   \n",
       "2                         11.316280                             7.25   \n",
       "3                         11.322140                             7.25   \n",
       "4                         11.913613                             7.25   \n",
       "\n",
       "   primary_cleaner.input.xanthate  primary_cleaner.state.floatbank8_a_air  \\\n",
       "0                        0.988759                             1549.775757   \n",
       "1                        1.002663                             1576.166671   \n",
       "2                        0.991265                             1601.556163   \n",
       "3                        0.996739                             1599.968720   \n",
       "4                        1.009869                             1601.339707   \n",
       "\n",
       "   primary_cleaner.state.floatbank8_a_level  \\\n",
       "0                               -498.912140   \n",
       "1                               -500.904965   \n",
       "2                               -499.997791   \n",
       "3                               -500.951778   \n",
       "4                               -498.975456   \n",
       "\n",
       "   primary_cleaner.state.floatbank8_b_air  \\\n",
       "0                             1551.434204   \n",
       "1                             1575.950626   \n",
       "2                             1600.386685   \n",
       "3                             1600.659236   \n",
       "4                             1601.437854   \n",
       "\n",
       "   primary_cleaner.state.floatbank8_b_level  \\\n",
       "0                               -516.403442   \n",
       "1                               -499.865889   \n",
       "2                               -500.607762   \n",
       "3                               -499.677094   \n",
       "4                               -500.323246   \n",
       "\n",
       "   primary_cleaner.state.floatbank8_c_air  \\\n",
       "0                             1549.873901   \n",
       "1                             1575.994189   \n",
       "2                             1602.003542   \n",
       "3                             1600.304144   \n",
       "4                             1599.581894   \n",
       "\n",
       "   primary_cleaner.state.floatbank8_c_level  \\\n",
       "0                               -498.666595   \n",
       "1                               -499.315107   \n",
       "2                               -500.870069   \n",
       "3                               -500.727997   \n",
       "4                               -500.888152   \n",
       "\n",
       "   primary_cleaner.state.floatbank8_d_air  \\\n",
       "0                             1554.367432   \n",
       "1                             1574.479259   \n",
       "2                             1599.541515   \n",
       "3                             1600.449520   \n",
       "4                             1602.649541   \n",
       "\n",
       "   primary_cleaner.state.floatbank8_d_level  \\\n",
       "0                               -493.428131   \n",
       "1                               -498.931665   \n",
       "2                               -499.827444   \n",
       "3                               -500.052575   \n",
       "4                               -500.593010   \n",
       "\n",
       "   primary_cleaner.output.concentrate_au  \\\n",
       "0                              34.174427   \n",
       "1                              34.118526   \n",
       "2                              33.969464   \n",
       "3                              28.260743   \n",
       "4                              33.044932   \n",
       "\n",
       "   primary_cleaner.output.concentrate_ag  \\\n",
       "0                               8.547551   \n",
       "1                               8.558743   \n",
       "2                               8.603505   \n",
       "3                               7.221879   \n",
       "4                               9.089428   \n",
       "\n",
       "   primary_cleaner.output.concentrate_pb  \\\n",
       "0                              10.389648   \n",
       "1                              10.497069   \n",
       "2                              10.354494   \n",
       "3                               8.496563   \n",
       "4                               9.986786   \n",
       "\n",
       "   primary_cleaner.output.concentrate_sol  primary_cleaner.output.tail_au  \\\n",
       "0                               19.529297                        2.106679   \n",
       "1                               19.369147                        2.353017   \n",
       "2                               19.167579                        2.416800   \n",
       "3                               15.978538                        2.262051   \n",
       "4                               19.199864                        2.277073   \n",
       "\n",
       "   primary_cleaner.output.tail_ag  primary_cleaner.output.tail_pb  \\\n",
       "0                       14.936526                        2.534912   \n",
       "1                       16.250511                        3.049646   \n",
       "2                       16.491823                        3.124664   \n",
       "3                       16.024359                        2.960362   \n",
       "4                       16.480185                        3.112100   \n",
       "\n",
       "   primary_cleaner.output.tail_sol  secondary_cleaner.state.floatbank2_a_air  \\\n",
       "0                         7.476074                                 25.853109   \n",
       "1                         6.733907                                 25.880539   \n",
       "2                         6.471768                                 26.005245   \n",
       "3                         6.843791                                 25.942508   \n",
       "4                         6.550154                                 26.024787   \n",
       "\n",
       "   secondary_cleaner.state.floatbank2_a_level  \\\n",
       "0                                 -498.526489   \n",
       "1                                 -499.989656   \n",
       "2                                 -499.929616   \n",
       "3                                 -499.176749   \n",
       "4                                 -500.279091   \n",
       "\n",
       "   secondary_cleaner.state.floatbank2_b_air  \\\n",
       "0                                 23.893660   \n",
       "1                                 23.889530   \n",
       "2                                 23.886657   \n",
       "3                                 23.955516   \n",
       "4                                 23.955345   \n",
       "\n",
       "   secondary_cleaner.state.floatbank2_b_level  \\\n",
       "0                                 -501.406281   \n",
       "1                                 -500.372428   \n",
       "2                                 -499.951928   \n",
       "3                                 -499.848796   \n",
       "4                                 -500.593614   \n",
       "\n",
       "   secondary_cleaner.state.floatbank3_a_air  \\\n",
       "0                                 23.961798   \n",
       "1                                 23.970550   \n",
       "2                                 23.913535   \n",
       "3                                 23.966838   \n",
       "4                                 23.985703   \n",
       "\n",
       "   secondary_cleaner.state.floatbank3_a_level  \\\n",
       "0                                 -495.262817   \n",
       "1                                 -500.085473   \n",
       "2                                 -499.442343   \n",
       "3                                 -500.008812   \n",
       "4                                 -500.083811   \n",
       "\n",
       "   secondary_cleaner.state.floatbank3_b_air  \\\n",
       "0                                 21.940409   \n",
       "1                                 22.085714   \n",
       "2                                 23.957717   \n",
       "3                                 23.954443   \n",
       "4                                 23.958945   \n",
       "\n",
       "   secondary_cleaner.state.floatbank3_b_level  \\\n",
       "0                                 -499.340973   \n",
       "1                                 -499.446897   \n",
       "2                                 -499.901982   \n",
       "3                                 -499.944710   \n",
       "4                                 -499.990309   \n",
       "\n",
       "   secondary_cleaner.state.floatbank4_a_air  \\\n",
       "0                                 14.016835   \n",
       "1                                 13.992281   \n",
       "2                                 14.015015   \n",
       "3                                 14.036510   \n",
       "4                                 14.027298   \n",
       "\n",
       "   secondary_cleaner.state.floatbank4_a_level  \\\n",
       "0                                 -502.488007   \n",
       "1                                 -505.503262   \n",
       "2                                 -502.520901   \n",
       "3                                 -500.857308   \n",
       "4                                 -499.838632   \n",
       "\n",
       "   secondary_cleaner.state.floatbank4_b_air  \\\n",
       "0                                 12.099931   \n",
       "1                                 11.950531   \n",
       "2                                 11.912783   \n",
       "3                                 11.999550   \n",
       "4                                 11.953070   \n",
       "\n",
       "   secondary_cleaner.state.floatbank4_b_level  \\\n",
       "0                                 -504.715942   \n",
       "1                                 -501.331529   \n",
       "2                                 -501.133383   \n",
       "3                                 -501.193686   \n",
       "4                                 -501.053894   \n",
       "\n",
       "   secondary_cleaner.state.floatbank5_a_air  \\\n",
       "0                                  9.925633   \n",
       "1                                 10.039245   \n",
       "2                                 10.070913   \n",
       "3                                  9.970366   \n",
       "4                                  9.925709   \n",
       "\n",
       "   secondary_cleaner.state.floatbank5_a_level  \\\n",
       "0                                 -498.310211   \n",
       "1                                 -500.169983   \n",
       "2                                 -500.129135   \n",
       "3                                 -499.201640   \n",
       "4                                 -501.686727   \n",
       "\n",
       "   secondary_cleaner.state.floatbank5_b_air  \\\n",
       "0                                  8.079666   \n",
       "1                                  7.984757   \n",
       "2                                  8.013877   \n",
       "3                                  7.977324   \n",
       "4                                  7.894242   \n",
       "\n",
       "   secondary_cleaner.state.floatbank5_b_level  \\\n",
       "0                                 -500.470978   \n",
       "1                                 -500.582168   \n",
       "2                                 -500.517572   \n",
       "3                                 -500.255908   \n",
       "4                                 -500.356035   \n",
       "\n",
       "   secondary_cleaner.state.floatbank6_a_air  \\\n",
       "0                                 14.151341   \n",
       "1                                 13.998353   \n",
       "2                                 14.028663   \n",
       "3                                 14.005551   \n",
       "4                                 13.996647   \n",
       "\n",
       "   secondary_cleaner.state.floatbank6_a_level  \\\n",
       "0                                 -605.841980   \n",
       "1                                 -599.787184   \n",
       "2                                 -601.427363   \n",
       "3                                 -599.996129   \n",
       "4                                 -601.496691   \n",
       "\n",
       "   secondary_cleaner.output.tail_au  secondary_cleaner.output.tail_ag  \\\n",
       "0                          2.606185                         14.500184   \n",
       "1                          2.488248                         14.265474   \n",
       "2                          2.458187                         14.115662   \n",
       "3                          2.322062                         13.732071   \n",
       "4                          2.330448                         14.079996   \n",
       "\n",
       "   secondary_cleaner.output.tail_pb  secondary_cleaner.output.tail_sol  \\\n",
       "0                          4.694824                           8.764648   \n",
       "1                          4.592547                           9.001494   \n",
       "2                          4.624775                           8.842896   \n",
       "3                          4.482453                           9.122857   \n",
       "4                          4.470737                           8.871028   \n",
       "\n",
       "   final.output.concentrate_au  final.output.concentrate_ag  \\\n",
       "0                    42.192020                     6.055403   \n",
       "1                    42.701629                     6.029369   \n",
       "2                    42.657501                     6.055926   \n",
       "3                    42.689819                     6.047977   \n",
       "4                    42.774141                     6.148599   \n",
       "\n",
       "   final.output.concentrate_pb  final.output.concentrate_sol  \\\n",
       "0                     9.889648                      5.507324   \n",
       "1                     9.968944                      5.257781   \n",
       "2                    10.213995                      5.383759   \n",
       "3                     9.977019                      4.858634   \n",
       "4                    10.142511                      4.939416   \n",
       "\n",
       "   final.output.recovery  final.output.tail_au  final.output.tail_ag  \\\n",
       "0              70.541216              2.143149             10.411962   \n",
       "1              69.266198              2.224930             10.462676   \n",
       "2              68.116445              2.257889             10.507046   \n",
       "3              68.347543              2.146849             10.422762   \n",
       "4              66.927016              2.055292             10.360302   \n",
       "\n",
       "   final.output.tail_pb  final.output.tail_sol  \n",
       "0              0.895447              16.904297  \n",
       "1              0.927452              16.634514  \n",
       "2              0.953716              16.208849  \n",
       "3              0.883763              16.532835  \n",
       "4              0.792826              16.525686  "
      ]
     },
     "execution_count": 5,
     "metadata": {},
     "output_type": "execute_result"
    }
   ],
   "source": [
    "data_train.info(False)\n",
    "data_train.head(5)"
   ]
  },
  {
   "cell_type": "code",
   "execution_count": 6,
   "metadata": {},
   "outputs": [],
   "source": [
    "data = {'train' : data_train, 'test': data_test, 'full': data_full}"
   ]
  },
  {
   "cell_type": "code",
   "execution_count": 7,
   "metadata": {},
   "outputs": [],
   "source": [
    "def set_date_as_index(data):\n",
    "    if (data.duplicated().sum() == 0):\n",
    "        data['date'] = pd.to_datetime(data['date'], format='%Y-%m-%d %H:%M:%S')\n",
    "        return data.set_index(['date'])\n",
    "    else: print('Error')"
   ]
  },
  {
   "cell_type": "code",
   "execution_count": 8,
   "metadata": {},
   "outputs": [],
   "source": [
    "def transform_to_multiindex(columns):\n",
    "    col = str(list(columns)).strip('[\\']').split('\\', \\'')\n",
    "    sep_col = []\n",
    "    for line in col:\n",
    "        sep_col.append(line.split('.')) \n",
    "    return pd.MultiIndex.from_tuples(sep_col)"
   ]
  },
  {
   "cell_type": "code",
   "execution_count": 9,
   "metadata": {},
   "outputs": [],
   "source": [
    "def recovery_calculate(concentrate, feed, tail):\n",
    "    return (concentrate * (feed-tail) / (feed * (concentrate - tail))) * 100"
   ]
  },
  {
   "cell_type": "code",
   "execution_count": 10,
   "metadata": {},
   "outputs": [],
   "source": [
    "for k in data.keys():\n",
    "    data[k] = set_date_as_index(data[k])\n",
    "    data[k].columns = transform_to_multiindex(data[k])"
   ]
  },
  {
   "cell_type": "markdown",
   "metadata": {},
   "source": [
    "Подсчет "
   ]
  },
  {
   "cell_type": "code",
   "execution_count": 11,
   "metadata": {},
   "outputs": [
    {
     "data": {
      "text/plain": [
       "9.83758577644259e-15"
      ]
     },
     "execution_count": 11,
     "metadata": {},
     "output_type": "execute_result"
    }
   ],
   "source": [
    "mean_absolute_error(data['train']['rougher', 'output', 'recovery'], \n",
    "                    recovery_calculate(data['train']['rougher', 'output', 'concentrate_au'],\n",
    "                                       data['train']['rougher', 'input', 'feed_au'],\n",
    "                                       data['train']['rougher', 'output', 'tail_au']))"
   ]
  },
  {
   "cell_type": "markdown",
   "metadata": {},
   "source": [
    " MAE Для 'rougher.output.recovery' признака совпадает с рассчитанным по формуле"
   ]
  },
  {
   "cell_type": "code",
   "execution_count": 12,
   "metadata": {},
   "outputs": [
    {
     "data": {
      "text/plain": [
       "[('rougher', 'calculation', 'sulfate_to_au_concentrate'),\n",
       " ('rougher', 'calculation', 'floatbank10_sulfate_to_au_feed'),\n",
       " ('rougher', 'calculation', 'floatbank11_sulfate_to_au_feed'),\n",
       " ('rougher', 'calculation', 'au_pb_ratio'),\n",
       " ('rougher', 'output', 'concentrate_au'),\n",
       " ('rougher', 'output', 'concentrate_ag'),\n",
       " ('rougher', 'output', 'concentrate_pb'),\n",
       " ('rougher', 'output', 'concentrate_sol'),\n",
       " ('rougher', 'output', 'recovery'),\n",
       " ('rougher', 'output', 'tail_au'),\n",
       " ('rougher', 'output', 'tail_ag'),\n",
       " ('rougher', 'output', 'tail_pb'),\n",
       " ('rougher', 'output', 'tail_sol'),\n",
       " ('primary_cleaner', 'output', 'concentrate_au'),\n",
       " ('primary_cleaner', 'output', 'concentrate_ag'),\n",
       " ('primary_cleaner', 'output', 'concentrate_pb'),\n",
       " ('primary_cleaner', 'output', 'concentrate_sol'),\n",
       " ('primary_cleaner', 'output', 'tail_au'),\n",
       " ('primary_cleaner', 'output', 'tail_ag'),\n",
       " ('primary_cleaner', 'output', 'tail_pb'),\n",
       " ('primary_cleaner', 'output', 'tail_sol'),\n",
       " ('secondary_cleaner', 'output', 'tail_au'),\n",
       " ('secondary_cleaner', 'output', 'tail_ag'),\n",
       " ('secondary_cleaner', 'output', 'tail_pb'),\n",
       " ('secondary_cleaner', 'output', 'tail_sol'),\n",
       " ('final', 'output', 'concentrate_au'),\n",
       " ('final', 'output', 'concentrate_ag'),\n",
       " ('final', 'output', 'concentrate_pb'),\n",
       " ('final', 'output', 'concentrate_sol'),\n",
       " ('final', 'output', 'recovery'),\n",
       " ('final', 'output', 'tail_au'),\n",
       " ('final', 'output', 'tail_ag'),\n",
       " ('final', 'output', 'tail_pb'),\n",
       " ('final', 'output', 'tail_sol')]"
      ]
     },
     "execution_count": 12,
     "metadata": {},
     "output_type": "execute_result"
    }
   ],
   "source": [
    "col_full = data['full'].columns.to_list()\n",
    "col_test = data['test'].columns.to_list()\n",
    "not_in_test = []\n",
    "for col in col_full:\n",
    "    if col not in col_test: not_in_test.append(col)\n",
    "not_in_test"
   ]
  },
  {
   "cell_type": "markdown",
   "metadata": {},
   "source": [
    "В тестовом сете отсутстуют признаки связанные с количеством продукта на выходе, и расчетные характеристики. Эти метрики расчитываются вне технологического процесса и считаются \"оффлайн\" метриками. Для предсказания целевых показателей модель будет использоваться в реальном времени, когда эти метрики будут еще недоступны."
   ]
  },
  {
   "cell_type": "markdown",
   "metadata": {},
   "source": [
    "### Проверка целевых признаков"
   ]
  },
  {
   "cell_type": "code",
   "execution_count": 13,
   "metadata": {},
   "outputs": [],
   "source": [
    "def get_kde(column, x_label = None, y_label = None, legend = None, title = None, x_lim = None):\n",
    "    plt.figure(figsize=(8,5))\n",
    "    for item in column:\n",
    "        sns.kdeplot(item, fill=True, alpha=0.35)\n",
    "    if legend: plt.legend(legend)\n",
    "    if x_label: plt.xlabel(x_label)\n",
    "    if title: plt.title(title)\n",
    "    if y_label: plt.ylabel(y_label)\n",
    "    if x_lim: plt.xlim(x_lim)\n",
    "    plt.show()\n",
    "    "
   ]
  },
  {
   "cell_type": "code",
   "execution_count": 14,
   "metadata": {},
   "outputs": [
    {
     "data": {
      "image/png": "[encoded data removed]",
      "text/plain": [
       "<Figure size 576x360 with 1 Axes>"
      ]
     },
     "metadata": {
      "needs_background": "light"
     },
     "output_type": "display_data"
    }
   ],
   "source": [
    "get_kde([data['train']['rougher', 'output', 'recovery'], \n",
    "         data['train']['final', 'output', 'recovery']], 'Эффективность обогащения', \n",
    "        legend=['Черновой','Финальный'], y_label = 'Плотность', \n",
    "        title = 'Распределение эффективности обогащения целевых признаков')"
   ]
  },
  {
   "cell_type": "markdown",
   "metadata": {},
   "source": [
    "В распределении имеются крайние значения для эффективности обогащения в области 0 и 100"
   ]
  },
  {
   "cell_type": "code",
   "execution_count": 15,
   "metadata": {},
   "outputs": [
    {
     "data": {
      "text/plain": [
       "0.000000     394\n",
       "83.406924     10\n",
       "89.512544      5\n",
       "91.792293      5\n",
       "91.636690      4\n",
       "Name: (rougher, output, recovery), dtype: int64"
      ]
     },
     "metadata": {},
     "output_type": "display_data"
    },
    {
     "data": {
      "text/plain": [
       "0.000000      98\n",
       "100.000000    72\n",
       "71.668249      5\n",
       "67.275195      5\n",
       "75.962757      4\n",
       "Name: (final, output, recovery), dtype: int64"
      ]
     },
     "metadata": {},
     "output_type": "display_data"
    }
   ],
   "source": [
    "display(data['train']['rougher', 'output', 'recovery'].value_counts().sort_values(ascending=False).head(5),\n",
    "        data['train']['final', 'output', 'recovery'].value_counts().sort_values(ascending=False).head(5))"
   ]
  },
  {
   "cell_type": "code",
   "execution_count": 16,
   "metadata": {},
   "outputs": [],
   "source": [
    "data['train'] = data['train'].drop(data['train'][(data['train']['rougher', 'output', 'recovery']==0) | \n",
    "                                                 (data['train']['final', 'output', 'recovery']==0) |\n",
    "                                                 (data['train']['final', 'output', 'recovery']==100)].index ,axis=0)"
   ]
  },
  {
   "cell_type": "code",
   "execution_count": 17,
   "metadata": {},
   "outputs": [
    {
     "data": {
      "image/png": "[encoded data removed]",
      "text/plain": [
       "<Figure size 576x360 with 1 Axes>"
      ]
     },
     "metadata": {
      "needs_background": "light"
     },
     "output_type": "display_data"
    }
   ],
   "source": [
    "get_kde([data['train']['rougher', 'output', 'recovery'], \n",
    "         data['train']['final', 'output', 'recovery']], 'Эффективность обогащения', \n",
    "        legend=['Черновой','Финальный'], y_label = 'Плотность', \n",
    "        title = 'Распределение эффективности обогащения целевых признаков')"
   ]
  },
  {
   "cell_type": "markdown",
   "metadata": {},
   "source": [
    "### Заполнение пропусков"
   ]
  },
  {
   "cell_type": "code",
   "execution_count": 18,
   "metadata": {},
   "outputs": [
    {
     "data": {
      "text/plain": [
       "4481"
      ]
     },
     "execution_count": 18,
     "metadata": {},
     "output_type": "execute_result"
    }
   ],
   "source": [
    "data['full'].isna().sum().sum()"
   ]
  },
  {
   "cell_type": "markdown",
   "metadata": {},
   "source": [
    "В данных имеются пропуски, для их заполнения применен метод ближайших соседей, так как значения рядом имеют близкие значения."
   ]
  },
  {
   "cell_type": "code",
   "execution_count": 19,
   "metadata": {
    "scrolled": true
   },
   "outputs": [
    {
     "data": {
      "text/html": [
       "<div>\n",
       "<style scoped>\n",
       "    .dataframe tbody tr th:only-of-type {\n",
       "        vertical-align: middle;\n",
       "    }\n",
       "\n",
       "    .dataframe tbody tr th {\n",
       "        vertical-align: top;\n",
       "    }\n",
       "\n",
       "    .dataframe thead tr th {\n",
       "        text-align: left;\n",
       "    }\n",
       "\n",
       "    .dataframe thead tr:last-of-type th {\n",
       "        text-align: right;\n",
       "    }\n",
       "</style>\n",
       "<table border=\"1\" class=\"dataframe\">\n",
       "  <thead>\n",
       "    <tr>\n",
       "      <th></th>\n",
       "      <th colspan=\"35\" halign=\"left\">rougher</th>\n",
       "      <th colspan=\"20\" halign=\"left\">primary_cleaner</th>\n",
       "      <th colspan=\"22\" halign=\"left\">secondary_cleaner</th>\n",
       "      <th colspan=\"9\" halign=\"left\">final</th>\n",
       "    </tr>\n",
       "    <tr>\n",
       "      <th></th>\n",
       "      <th colspan=\"8\" halign=\"left\">input</th>\n",
       "      <th colspan=\"12\" halign=\"left\">state</th>\n",
       "      <th colspan=\"2\" halign=\"left\">input</th>\n",
       "      <th colspan=\"4\" halign=\"left\">calculation</th>\n",
       "      <th colspan=\"9\" halign=\"left\">output</th>\n",
       "      <th colspan=\"4\" halign=\"left\">input</th>\n",
       "      <th colspan=\"8\" halign=\"left\">state</th>\n",
       "      <th colspan=\"8\" halign=\"left\">output</th>\n",
       "      <th colspan=\"18\" halign=\"left\">state</th>\n",
       "      <th colspan=\"4\" halign=\"left\">output</th>\n",
       "      <th colspan=\"9\" halign=\"left\">output</th>\n",
       "    </tr>\n",
       "    <tr>\n",
       "      <th></th>\n",
       "      <th>feed_au</th>\n",
       "      <th>feed_ag</th>\n",
       "      <th>feed_pb</th>\n",
       "      <th>feed_sol</th>\n",
       "      <th>feed_rate</th>\n",
       "      <th>feed_size</th>\n",
       "      <th>floatbank10_sulfate</th>\n",
       "      <th>floatbank10_xanthate</th>\n",
       "      <th>floatbank10_a_air</th>\n",
       "      <th>floatbank10_a_level</th>\n",
       "      <th>floatbank10_b_air</th>\n",
       "      <th>floatbank10_b_level</th>\n",
       "      <th>floatbank10_c_air</th>\n",
       "      <th>floatbank10_c_level</th>\n",
       "      <th>floatbank10_d_air</th>\n",
       "      <th>floatbank10_d_level</th>\n",
       "      <th>floatbank10_e_air</th>\n",
       "      <th>floatbank10_e_level</th>\n",
       "      <th>floatbank10_f_air</th>\n",
       "      <th>floatbank10_f_level</th>\n",
       "      <th>floatbank11_sulfate</th>\n",
       "      <th>floatbank11_xanthate</th>\n",
       "      <th>sulfate_to_au_concentrate</th>\n",
       "      <th>floatbank10_sulfate_to_au_feed</th>\n",
       "      <th>floatbank11_sulfate_to_au_feed</th>\n",
       "      <th>au_pb_ratio</th>\n",
       "      <th>concentrate_au</th>\n",
       "      <th>concentrate_ag</th>\n",
       "      <th>concentrate_pb</th>\n",
       "      <th>concentrate_sol</th>\n",
       "      <th>recovery</th>\n",
       "      <th>tail_au</th>\n",
       "      <th>tail_ag</th>\n",
       "      <th>tail_pb</th>\n",
       "      <th>tail_sol</th>\n",
       "      <th>sulfate</th>\n",
       "      <th>depressant</th>\n",
       "      <th>feed_size</th>\n",
       "      <th>xanthate</th>\n",
       "      <th>floatbank8_a_air</th>\n",
       "      <th>floatbank8_a_level</th>\n",
       "      <th>floatbank8_b_air</th>\n",
       "      <th>floatbank8_b_level</th>\n",
       "      <th>floatbank8_c_air</th>\n",
       "      <th>floatbank8_c_level</th>\n",
       "      <th>floatbank8_d_air</th>\n",
       "      <th>floatbank8_d_level</th>\n",
       "      <th>concentrate_au</th>\n",
       "      <th>concentrate_ag</th>\n",
       "      <th>concentrate_pb</th>\n",
       "      <th>concentrate_sol</th>\n",
       "      <th>tail_au</th>\n",
       "      <th>tail_ag</th>\n",
       "      <th>tail_pb</th>\n",
       "      <th>tail_sol</th>\n",
       "      <th>floatbank2_a_air</th>\n",
       "      <th>floatbank2_a_level</th>\n",
       "      <th>floatbank2_b_air</th>\n",
       "      <th>floatbank2_b_level</th>\n",
       "      <th>floatbank3_a_air</th>\n",
       "      <th>floatbank3_a_level</th>\n",
       "      <th>floatbank3_b_air</th>\n",
       "      <th>floatbank3_b_level</th>\n",
       "      <th>floatbank4_a_air</th>\n",
       "      <th>floatbank4_a_level</th>\n",
       "      <th>floatbank4_b_air</th>\n",
       "      <th>floatbank4_b_level</th>\n",
       "      <th>floatbank5_a_air</th>\n",
       "      <th>floatbank5_a_level</th>\n",
       "      <th>floatbank5_b_air</th>\n",
       "      <th>floatbank5_b_level</th>\n",
       "      <th>floatbank6_a_air</th>\n",
       "      <th>floatbank6_a_level</th>\n",
       "      <th>tail_au</th>\n",
       "      <th>tail_ag</th>\n",
       "      <th>tail_pb</th>\n",
       "      <th>tail_sol</th>\n",
       "      <th>concentrate_au</th>\n",
       "      <th>concentrate_ag</th>\n",
       "      <th>concentrate_pb</th>\n",
       "      <th>concentrate_sol</th>\n",
       "      <th>recovery</th>\n",
       "      <th>tail_au</th>\n",
       "      <th>tail_ag</th>\n",
       "      <th>tail_pb</th>\n",
       "      <th>tail_sol</th>\n",
       "    </tr>\n",
       "    <tr>\n",
       "      <th>date</th>\n",
       "      <th></th>\n",
       "      <th></th>\n",
       "      <th></th>\n",
       "      <th></th>\n",
       "      <th></th>\n",
       "      <th></th>\n",
       "      <th></th>\n",
       "      <th></th>\n",
       "      <th></th>\n",
       "      <th></th>\n",
       "      <th></th>\n",
       "      <th></th>\n",
       "      <th></th>\n",
       "      <th></th>\n",
       "      <th></th>\n",
       "      <th></th>\n",
       "      <th></th>\n",
       "      <th></th>\n",
       "      <th></th>\n",
       "      <th></th>\n",
       "      <th></th>\n",
       "      <th></th>\n",
       "      <th></th>\n",
       "      <th></th>\n",
       "      <th></th>\n",
       "      <th></th>\n",
       "      <th></th>\n",
       "      <th></th>\n",
       "      <th></th>\n",
       "      <th></th>\n",
       "      <th></th>\n",
       "      <th></th>\n",
       "      <th></th>\n",
       "      <th></th>\n",
       "      <th></th>\n",
       "      <th></th>\n",
       "      <th></th>\n",
       "      <th></th>\n",
       "      <th></th>\n",
       "      <th></th>\n",
       "      <th></th>\n",
       "      <th></th>\n",
       "      <th></th>\n",
       "      <th></th>\n",
       "      <th></th>\n",
       "      <th></th>\n",
       "      <th></th>\n",
       "      <th></th>\n",
       "      <th></th>\n",
       "      <th></th>\n",
       "      <th></th>\n",
       "      <th></th>\n",
       "      <th></th>\n",
       "      <th></th>\n",
       "      <th></th>\n",
       "      <th></th>\n",
       "      <th></th>\n",
       "      <th></th>\n",
       "      <th></th>\n",
       "      <th></th>\n",
       "      <th></th>\n",
       "      <th></th>\n",
       "      <th></th>\n",
       "      <th></th>\n",
       "      <th></th>\n",
       "      <th></th>\n",
       "      <th></th>\n",
       "      <th></th>\n",
       "      <th></th>\n",
       "      <th></th>\n",
       "      <th></th>\n",
       "      <th></th>\n",
       "      <th></th>\n",
       "      <th></th>\n",
       "      <th></th>\n",
       "      <th></th>\n",
       "      <th></th>\n",
       "      <th></th>\n",
       "      <th></th>\n",
       "      <th></th>\n",
       "      <th></th>\n",
       "      <th></th>\n",
       "      <th></th>\n",
       "      <th></th>\n",
       "      <th></th>\n",
       "      <th></th>\n",
       "    </tr>\n",
       "  </thead>\n",
       "  <tbody>\n",
       "    <tr>\n",
       "      <th>2016-01-15 00:00:00</th>\n",
       "      <td>6.486150</td>\n",
       "      <td>6.100378</td>\n",
       "      <td>2.284912</td>\n",
       "      <td>36.808594</td>\n",
       "      <td>523.546326</td>\n",
       "      <td>55.486599</td>\n",
       "      <td>11.986616</td>\n",
       "      <td>6.007990</td>\n",
       "      <td>999.706909</td>\n",
       "      <td>-404.066986</td>\n",
       "      <td>1603.011353</td>\n",
       "      <td>-434.715027</td>\n",
       "      <td>1602.375000</td>\n",
       "      <td>-442.204468</td>\n",
       "      <td>1598.937256</td>\n",
       "      <td>-451.294128</td>\n",
       "      <td>1404.472046</td>\n",
       "      <td>-455.462982</td>\n",
       "      <td>1416.354980</td>\n",
       "      <td>-451.939636</td>\n",
       "      <td>11.836743</td>\n",
       "      <td>6.005818</td>\n",
       "      <td>41885.707031</td>\n",
       "      <td>3481.779053</td>\n",
       "      <td>3520.337158</td>\n",
       "      <td>2.838687</td>\n",
       "      <td>19.793808</td>\n",
       "      <td>11.500771</td>\n",
       "      <td>7.101074</td>\n",
       "      <td>28.029297</td>\n",
       "      <td>87.107763</td>\n",
       "      <td>1.170244</td>\n",
       "      <td>5.008018</td>\n",
       "      <td>0.508728</td>\n",
       "      <td>19.154297</td>\n",
       "      <td>127.092003</td>\n",
       "      <td>10.128295</td>\n",
       "      <td>7.25</td>\n",
       "      <td>0.988759</td>\n",
       "      <td>1549.775757</td>\n",
       "      <td>-498.912140</td>\n",
       "      <td>1551.434204</td>\n",
       "      <td>-516.403442</td>\n",
       "      <td>1549.873901</td>\n",
       "      <td>-498.666595</td>\n",
       "      <td>1554.367432</td>\n",
       "      <td>-493.428131</td>\n",
       "      <td>34.174427</td>\n",
       "      <td>8.547551</td>\n",
       "      <td>10.389648</td>\n",
       "      <td>19.529297</td>\n",
       "      <td>2.106679</td>\n",
       "      <td>14.936526</td>\n",
       "      <td>2.534912</td>\n",
       "      <td>7.476074</td>\n",
       "      <td>25.853109</td>\n",
       "      <td>-498.526489</td>\n",
       "      <td>23.893660</td>\n",
       "      <td>-501.406281</td>\n",
       "      <td>23.961798</td>\n",
       "      <td>-495.262817</td>\n",
       "      <td>21.940409</td>\n",
       "      <td>-499.340973</td>\n",
       "      <td>14.016835</td>\n",
       "      <td>-502.488007</td>\n",
       "      <td>12.099931</td>\n",
       "      <td>-504.715942</td>\n",
       "      <td>9.925633</td>\n",
       "      <td>-498.310211</td>\n",
       "      <td>8.079666</td>\n",
       "      <td>-500.470978</td>\n",
       "      <td>14.151341</td>\n",
       "      <td>-605.841980</td>\n",
       "      <td>2.606185</td>\n",
       "      <td>14.500184</td>\n",
       "      <td>4.694824</td>\n",
       "      <td>8.764648</td>\n",
       "      <td>42.192020</td>\n",
       "      <td>6.055403</td>\n",
       "      <td>9.889648</td>\n",
       "      <td>5.507324</td>\n",
       "      <td>70.541216</td>\n",
       "      <td>2.143149</td>\n",
       "      <td>10.411962</td>\n",
       "      <td>0.895447</td>\n",
       "      <td>16.904297</td>\n",
       "    </tr>\n",
       "    <tr>\n",
       "      <th>2016-01-15 01:00:00</th>\n",
       "      <td>6.478583</td>\n",
       "      <td>6.161113</td>\n",
       "      <td>2.266033</td>\n",
       "      <td>35.753385</td>\n",
       "      <td>525.290581</td>\n",
       "      <td>57.278666</td>\n",
       "      <td>11.971193</td>\n",
       "      <td>6.005766</td>\n",
       "      <td>1000.286398</td>\n",
       "      <td>-400.065196</td>\n",
       "      <td>1600.754587</td>\n",
       "      <td>-449.953435</td>\n",
       "      <td>1600.479580</td>\n",
       "      <td>-449.830646</td>\n",
       "      <td>1600.527589</td>\n",
       "      <td>-449.953649</td>\n",
       "      <td>1399.227084</td>\n",
       "      <td>-450.869848</td>\n",
       "      <td>1399.719514</td>\n",
       "      <td>-450.119001</td>\n",
       "      <td>11.996163</td>\n",
       "      <td>6.012594</td>\n",
       "      <td>42050.861809</td>\n",
       "      <td>3498.370979</td>\n",
       "      <td>3489.981857</td>\n",
       "      <td>2.858998</td>\n",
       "      <td>20.050975</td>\n",
       "      <td>11.615865</td>\n",
       "      <td>7.278807</td>\n",
       "      <td>28.067063</td>\n",
       "      <td>86.843261</td>\n",
       "      <td>1.184827</td>\n",
       "      <td>4.955378</td>\n",
       "      <td>0.536689</td>\n",
       "      <td>18.965234</td>\n",
       "      <td>125.629232</td>\n",
       "      <td>10.296251</td>\n",
       "      <td>7.25</td>\n",
       "      <td>1.002663</td>\n",
       "      <td>1576.166671</td>\n",
       "      <td>-500.904965</td>\n",
       "      <td>1575.950626</td>\n",
       "      <td>-499.865889</td>\n",
       "      <td>1575.994189</td>\n",
       "      <td>-499.315107</td>\n",
       "      <td>1574.479259</td>\n",
       "      <td>-498.931665</td>\n",
       "      <td>34.118526</td>\n",
       "      <td>8.558743</td>\n",
       "      <td>10.497069</td>\n",
       "      <td>19.369147</td>\n",
       "      <td>2.353017</td>\n",
       "      <td>16.250511</td>\n",
       "      <td>3.049646</td>\n",
       "      <td>6.733907</td>\n",
       "      <td>25.880539</td>\n",
       "      <td>-499.989656</td>\n",
       "      <td>23.889530</td>\n",
       "      <td>-500.372428</td>\n",
       "      <td>23.970550</td>\n",
       "      <td>-500.085473</td>\n",
       "      <td>22.085714</td>\n",
       "      <td>-499.446897</td>\n",
       "      <td>13.992281</td>\n",
       "      <td>-505.503262</td>\n",
       "      <td>11.950531</td>\n",
       "      <td>-501.331529</td>\n",
       "      <td>10.039245</td>\n",
       "      <td>-500.169983</td>\n",
       "      <td>7.984757</td>\n",
       "      <td>-500.582168</td>\n",
       "      <td>13.998353</td>\n",
       "      <td>-599.787184</td>\n",
       "      <td>2.488248</td>\n",
       "      <td>14.265474</td>\n",
       "      <td>4.592547</td>\n",
       "      <td>9.001494</td>\n",
       "      <td>42.701629</td>\n",
       "      <td>6.029369</td>\n",
       "      <td>9.968944</td>\n",
       "      <td>5.257781</td>\n",
       "      <td>69.266198</td>\n",
       "      <td>2.224930</td>\n",
       "      <td>10.462676</td>\n",
       "      <td>0.927452</td>\n",
       "      <td>16.634514</td>\n",
       "    </tr>\n",
       "    <tr>\n",
       "      <th>2016-01-15 02:00:00</th>\n",
       "      <td>6.362222</td>\n",
       "      <td>6.116455</td>\n",
       "      <td>2.159622</td>\n",
       "      <td>35.971630</td>\n",
       "      <td>530.026610</td>\n",
       "      <td>57.510649</td>\n",
       "      <td>11.920603</td>\n",
       "      <td>6.197377</td>\n",
       "      <td>999.719565</td>\n",
       "      <td>-400.074028</td>\n",
       "      <td>1599.337330</td>\n",
       "      <td>-450.008530</td>\n",
       "      <td>1599.672797</td>\n",
       "      <td>-449.954491</td>\n",
       "      <td>1599.849325</td>\n",
       "      <td>-449.954185</td>\n",
       "      <td>1399.180945</td>\n",
       "      <td>-449.937588</td>\n",
       "      <td>1400.316682</td>\n",
       "      <td>-450.527147</td>\n",
       "      <td>11.920305</td>\n",
       "      <td>6.204633</td>\n",
       "      <td>42018.101184</td>\n",
       "      <td>3495.348910</td>\n",
       "      <td>3502.359819</td>\n",
       "      <td>2.945989</td>\n",
       "      <td>19.737170</td>\n",
       "      <td>11.695753</td>\n",
       "      <td>7.216833</td>\n",
       "      <td>27.454037</td>\n",
       "      <td>86.842308</td>\n",
       "      <td>1.162562</td>\n",
       "      <td>4.843460</td>\n",
       "      <td>0.546416</td>\n",
       "      <td>18.808533</td>\n",
       "      <td>123.819808</td>\n",
       "      <td>11.316280</td>\n",
       "      <td>7.25</td>\n",
       "      <td>0.991265</td>\n",
       "      <td>1601.556163</td>\n",
       "      <td>-499.997791</td>\n",
       "      <td>1600.386685</td>\n",
       "      <td>-500.607762</td>\n",
       "      <td>1602.003542</td>\n",
       "      <td>-500.870069</td>\n",
       "      <td>1599.541515</td>\n",
       "      <td>-499.827444</td>\n",
       "      <td>33.969464</td>\n",
       "      <td>8.603505</td>\n",
       "      <td>10.354494</td>\n",
       "      <td>19.167579</td>\n",
       "      <td>2.416800</td>\n",
       "      <td>16.491823</td>\n",
       "      <td>3.124664</td>\n",
       "      <td>6.471768</td>\n",
       "      <td>26.005245</td>\n",
       "      <td>-499.929616</td>\n",
       "      <td>23.886657</td>\n",
       "      <td>-499.951928</td>\n",
       "      <td>23.913535</td>\n",
       "      <td>-499.442343</td>\n",
       "      <td>23.957717</td>\n",
       "      <td>-499.901982</td>\n",
       "      <td>14.015015</td>\n",
       "      <td>-502.520901</td>\n",
       "      <td>11.912783</td>\n",
       "      <td>-501.133383</td>\n",
       "      <td>10.070913</td>\n",
       "      <td>-500.129135</td>\n",
       "      <td>8.013877</td>\n",
       "      <td>-500.517572</td>\n",
       "      <td>14.028663</td>\n",
       "      <td>-601.427363</td>\n",
       "      <td>2.458187</td>\n",
       "      <td>14.115662</td>\n",
       "      <td>4.624775</td>\n",
       "      <td>8.842896</td>\n",
       "      <td>42.657501</td>\n",
       "      <td>6.055926</td>\n",
       "      <td>10.213995</td>\n",
       "      <td>5.383759</td>\n",
       "      <td>68.116445</td>\n",
       "      <td>2.257889</td>\n",
       "      <td>10.507046</td>\n",
       "      <td>0.953716</td>\n",
       "      <td>16.208849</td>\n",
       "    </tr>\n",
       "    <tr>\n",
       "      <th>2016-01-15 03:00:00</th>\n",
       "      <td>6.118189</td>\n",
       "      <td>6.043309</td>\n",
       "      <td>2.037807</td>\n",
       "      <td>36.862241</td>\n",
       "      <td>542.590390</td>\n",
       "      <td>57.792734</td>\n",
       "      <td>11.630094</td>\n",
       "      <td>6.203177</td>\n",
       "      <td>999.814770</td>\n",
       "      <td>-400.200179</td>\n",
       "      <td>1600.059442</td>\n",
       "      <td>-450.619948</td>\n",
       "      <td>1600.012842</td>\n",
       "      <td>-449.910497</td>\n",
       "      <td>1597.725177</td>\n",
       "      <td>-450.130127</td>\n",
       "      <td>1400.943157</td>\n",
       "      <td>-450.030142</td>\n",
       "      <td>1400.234743</td>\n",
       "      <td>-449.790835</td>\n",
       "      <td>11.692450</td>\n",
       "      <td>6.196578</td>\n",
       "      <td>42029.447991</td>\n",
       "      <td>3498.578313</td>\n",
       "      <td>3499.162912</td>\n",
       "      <td>3.002340</td>\n",
       "      <td>19.320810</td>\n",
       "      <td>11.915047</td>\n",
       "      <td>7.175616</td>\n",
       "      <td>27.341277</td>\n",
       "      <td>87.226430</td>\n",
       "      <td>1.079755</td>\n",
       "      <td>4.655288</td>\n",
       "      <td>0.542525</td>\n",
       "      <td>19.330200</td>\n",
       "      <td>122.270188</td>\n",
       "      <td>11.322140</td>\n",
       "      <td>7.25</td>\n",
       "      <td>0.996739</td>\n",
       "      <td>1599.968720</td>\n",
       "      <td>-500.951778</td>\n",
       "      <td>1600.659236</td>\n",
       "      <td>-499.677094</td>\n",
       "      <td>1600.304144</td>\n",
       "      <td>-500.727997</td>\n",
       "      <td>1600.449520</td>\n",
       "      <td>-500.052575</td>\n",
       "      <td>28.260743</td>\n",
       "      <td>7.221879</td>\n",
       "      <td>8.496563</td>\n",
       "      <td>15.978538</td>\n",
       "      <td>2.262051</td>\n",
       "      <td>16.024359</td>\n",
       "      <td>2.960362</td>\n",
       "      <td>6.843791</td>\n",
       "      <td>25.942508</td>\n",
       "      <td>-499.176749</td>\n",
       "      <td>23.955516</td>\n",
       "      <td>-499.848796</td>\n",
       "      <td>23.966838</td>\n",
       "      <td>-500.008812</td>\n",
       "      <td>23.954443</td>\n",
       "      <td>-499.944710</td>\n",
       "      <td>14.036510</td>\n",
       "      <td>-500.857308</td>\n",
       "      <td>11.999550</td>\n",
       "      <td>-501.193686</td>\n",
       "      <td>9.970366</td>\n",
       "      <td>-499.201640</td>\n",
       "      <td>7.977324</td>\n",
       "      <td>-500.255908</td>\n",
       "      <td>14.005551</td>\n",
       "      <td>-599.996129</td>\n",
       "      <td>2.322062</td>\n",
       "      <td>13.732071</td>\n",
       "      <td>4.482453</td>\n",
       "      <td>9.122857</td>\n",
       "      <td>42.689819</td>\n",
       "      <td>6.047977</td>\n",
       "      <td>9.977019</td>\n",
       "      <td>4.858634</td>\n",
       "      <td>68.347543</td>\n",
       "      <td>2.146849</td>\n",
       "      <td>10.422762</td>\n",
       "      <td>0.883763</td>\n",
       "      <td>16.532835</td>\n",
       "    </tr>\n",
       "    <tr>\n",
       "      <th>2016-01-15 04:00:00</th>\n",
       "      <td>5.663707</td>\n",
       "      <td>6.060915</td>\n",
       "      <td>1.786875</td>\n",
       "      <td>34.347666</td>\n",
       "      <td>540.531893</td>\n",
       "      <td>56.047189</td>\n",
       "      <td>10.957755</td>\n",
       "      <td>6.198826</td>\n",
       "      <td>999.678690</td>\n",
       "      <td>-399.752729</td>\n",
       "      <td>1600.208824</td>\n",
       "      <td>-449.599614</td>\n",
       "      <td>1600.357732</td>\n",
       "      <td>-450.034364</td>\n",
       "      <td>1599.759049</td>\n",
       "      <td>-449.909799</td>\n",
       "      <td>1401.560902</td>\n",
       "      <td>-448.877187</td>\n",
       "      <td>1401.160227</td>\n",
       "      <td>-450.407128</td>\n",
       "      <td>10.960521</td>\n",
       "      <td>6.194897</td>\n",
       "      <td>42125.354245</td>\n",
       "      <td>3494.800771</td>\n",
       "      <td>3506.679315</td>\n",
       "      <td>3.169615</td>\n",
       "      <td>19.216101</td>\n",
       "      <td>12.411054</td>\n",
       "      <td>7.240205</td>\n",
       "      <td>27.041023</td>\n",
       "      <td>86.688794</td>\n",
       "      <td>1.012642</td>\n",
       "      <td>4.552800</td>\n",
       "      <td>0.515438</td>\n",
       "      <td>19.267422</td>\n",
       "      <td>117.988169</td>\n",
       "      <td>11.913613</td>\n",
       "      <td>7.25</td>\n",
       "      <td>1.009869</td>\n",
       "      <td>1601.339707</td>\n",
       "      <td>-498.975456</td>\n",
       "      <td>1601.437854</td>\n",
       "      <td>-500.323246</td>\n",
       "      <td>1599.581894</td>\n",
       "      <td>-500.888152</td>\n",
       "      <td>1602.649541</td>\n",
       "      <td>-500.593010</td>\n",
       "      <td>33.044932</td>\n",
       "      <td>9.089428</td>\n",
       "      <td>9.986786</td>\n",
       "      <td>19.199864</td>\n",
       "      <td>2.277073</td>\n",
       "      <td>16.480185</td>\n",
       "      <td>3.112100</td>\n",
       "      <td>6.550154</td>\n",
       "      <td>26.024787</td>\n",
       "      <td>-500.279091</td>\n",
       "      <td>23.955345</td>\n",
       "      <td>-500.593614</td>\n",
       "      <td>23.985703</td>\n",
       "      <td>-500.083811</td>\n",
       "      <td>23.958945</td>\n",
       "      <td>-499.990309</td>\n",
       "      <td>14.027298</td>\n",
       "      <td>-499.838632</td>\n",
       "      <td>11.953070</td>\n",
       "      <td>-501.053894</td>\n",
       "      <td>9.925709</td>\n",
       "      <td>-501.686727</td>\n",
       "      <td>7.894242</td>\n",
       "      <td>-500.356035</td>\n",
       "      <td>13.996647</td>\n",
       "      <td>-601.496691</td>\n",
       "      <td>2.330448</td>\n",
       "      <td>14.079996</td>\n",
       "      <td>4.470737</td>\n",
       "      <td>8.871028</td>\n",
       "      <td>42.774141</td>\n",
       "      <td>6.148599</td>\n",
       "      <td>10.142511</td>\n",
       "      <td>4.939416</td>\n",
       "      <td>66.927016</td>\n",
       "      <td>2.055292</td>\n",
       "      <td>10.360302</td>\n",
       "      <td>0.792826</td>\n",
       "      <td>16.525686</td>\n",
       "    </tr>\n",
       "    <tr>\n",
       "      <th>...</th>\n",
       "      <td>...</td>\n",
       "      <td>...</td>\n",
       "      <td>...</td>\n",
       "      <td>...</td>\n",
       "      <td>...</td>\n",
       "      <td>...</td>\n",
       "      <td>...</td>\n",
       "      <td>...</td>\n",
       "      <td>...</td>\n",
       "      <td>...</td>\n",
       "      <td>...</td>\n",
       "      <td>...</td>\n",
       "      <td>...</td>\n",
       "      <td>...</td>\n",
       "      <td>...</td>\n",
       "      <td>...</td>\n",
       "      <td>...</td>\n",
       "      <td>...</td>\n",
       "      <td>...</td>\n",
       "      <td>...</td>\n",
       "      <td>...</td>\n",
       "      <td>...</td>\n",
       "      <td>...</td>\n",
       "      <td>...</td>\n",
       "      <td>...</td>\n",
       "      <td>...</td>\n",
       "      <td>...</td>\n",
       "      <td>...</td>\n",
       "      <td>...</td>\n",
       "      <td>...</td>\n",
       "      <td>...</td>\n",
       "      <td>...</td>\n",
       "      <td>...</td>\n",
       "      <td>...</td>\n",
       "      <td>...</td>\n",
       "      <td>...</td>\n",
       "      <td>...</td>\n",
       "      <td>...</td>\n",
       "      <td>...</td>\n",
       "      <td>...</td>\n",
       "      <td>...</td>\n",
       "      <td>...</td>\n",
       "      <td>...</td>\n",
       "      <td>...</td>\n",
       "      <td>...</td>\n",
       "      <td>...</td>\n",
       "      <td>...</td>\n",
       "      <td>...</td>\n",
       "      <td>...</td>\n",
       "      <td>...</td>\n",
       "      <td>...</td>\n",
       "      <td>...</td>\n",
       "      <td>...</td>\n",
       "      <td>...</td>\n",
       "      <td>...</td>\n",
       "      <td>...</td>\n",
       "      <td>...</td>\n",
       "      <td>...</td>\n",
       "      <td>...</td>\n",
       "      <td>...</td>\n",
       "      <td>...</td>\n",
       "      <td>...</td>\n",
       "      <td>...</td>\n",
       "      <td>...</td>\n",
       "      <td>...</td>\n",
       "      <td>...</td>\n",
       "      <td>...</td>\n",
       "      <td>...</td>\n",
       "      <td>...</td>\n",
       "      <td>...</td>\n",
       "      <td>...</td>\n",
       "      <td>...</td>\n",
       "      <td>...</td>\n",
       "      <td>...</td>\n",
       "      <td>...</td>\n",
       "      <td>...</td>\n",
       "      <td>...</td>\n",
       "      <td>...</td>\n",
       "      <td>...</td>\n",
       "      <td>...</td>\n",
       "      <td>...</td>\n",
       "      <td>...</td>\n",
       "      <td>...</td>\n",
       "      <td>...</td>\n",
       "      <td>...</td>\n",
       "      <td>...</td>\n",
       "    </tr>\n",
       "    <tr>\n",
       "      <th>2017-12-09 09:59:59</th>\n",
       "      <td>4.599524</td>\n",
       "      <td>5.822083</td>\n",
       "      <td>4.255546</td>\n",
       "      <td>37.480479</td>\n",
       "      <td>559.895089</td>\n",
       "      <td>85.247019</td>\n",
       "      <td>6.775864</td>\n",
       "      <td>9.005425</td>\n",
       "      <td>1200.454685</td>\n",
       "      <td>-300.012582</td>\n",
       "      <td>1150.627632</td>\n",
       "      <td>-500.007240</td>\n",
       "      <td>1052.213299</td>\n",
       "      <td>-499.814928</td>\n",
       "      <td>947.090150</td>\n",
       "      <td>-499.963329</td>\n",
       "      <td>850.209399</td>\n",
       "      <td>-499.970349</td>\n",
       "      <td>850.139876</td>\n",
       "      <td>-498.721100</td>\n",
       "      <td>6.775291</td>\n",
       "      <td>9.000862</td>\n",
       "      <td>48310.254419</td>\n",
       "      <td>2524.316705</td>\n",
       "      <td>2524.130891</td>\n",
       "      <td>1.080830</td>\n",
       "      <td>18.162221</td>\n",
       "      <td>11.351051</td>\n",
       "      <td>11.247837</td>\n",
       "      <td>29.858813</td>\n",
       "      <td>87.684717</td>\n",
       "      <td>0.728133</td>\n",
       "      <td>4.116153</td>\n",
       "      <td>0.618130</td>\n",
       "      <td>16.383667</td>\n",
       "      <td>125.423263</td>\n",
       "      <td>8.014263</td>\n",
       "      <td>6.50</td>\n",
       "      <td>1.338973</td>\n",
       "      <td>1648.628464</td>\n",
       "      <td>-400.254719</td>\n",
       "      <td>1649.423778</td>\n",
       "      <td>-399.892993</td>\n",
       "      <td>1648.461910</td>\n",
       "      <td>-400.079787</td>\n",
       "      <td>1649.980440</td>\n",
       "      <td>-399.801181</td>\n",
       "      <td>33.493651</td>\n",
       "      <td>6.372520</td>\n",
       "      <td>12.879280</td>\n",
       "      <td>7.756028</td>\n",
       "      <td>2.581269</td>\n",
       "      <td>22.974292</td>\n",
       "      <td>6.868943</td>\n",
       "      <td>4.315335</td>\n",
       "      <td>35.096512</td>\n",
       "      <td>-501.110562</td>\n",
       "      <td>29.933276</td>\n",
       "      <td>-500.291576</td>\n",
       "      <td>25.996427</td>\n",
       "      <td>-500.158269</td>\n",
       "      <td>23.033562</td>\n",
       "      <td>-499.972253</td>\n",
       "      <td>23.030949</td>\n",
       "      <td>-501.196721</td>\n",
       "      <td>20.034440</td>\n",
       "      <td>-499.842047</td>\n",
       "      <td>18.001504</td>\n",
       "      <td>-499.872052</td>\n",
       "      <td>12.998309</td>\n",
       "      <td>-500.027809</td>\n",
       "      <td>20.007108</td>\n",
       "      <td>-500.850685</td>\n",
       "      <td>0.000000</td>\n",
       "      <td>0.000000</td>\n",
       "      <td>0.000000</td>\n",
       "      <td>0.000000</td>\n",
       "      <td>47.765393</td>\n",
       "      <td>2.925574</td>\n",
       "      <td>10.855586</td>\n",
       "      <td>7.053796</td>\n",
       "      <td>64.054699</td>\n",
       "      <td>1.761994</td>\n",
       "      <td>8.578502</td>\n",
       "      <td>3.365823</td>\n",
       "      <td>10.603464</td>\n",
       "    </tr>\n",
       "    <tr>\n",
       "      <th>2017-12-09 10:59:59</th>\n",
       "      <td>4.658125</td>\n",
       "      <td>5.844800</td>\n",
       "      <td>4.241564</td>\n",
       "      <td>37.395565</td>\n",
       "      <td>561.464855</td>\n",
       "      <td>83.860651</td>\n",
       "      <td>6.770561</td>\n",
       "      <td>9.000889</td>\n",
       "      <td>1200.958146</td>\n",
       "      <td>-300.013649</td>\n",
       "      <td>1149.862859</td>\n",
       "      <td>-499.856868</td>\n",
       "      <td>1049.476804</td>\n",
       "      <td>-500.085763</td>\n",
       "      <td>960.563638</td>\n",
       "      <td>-499.675142</td>\n",
       "      <td>849.797044</td>\n",
       "      <td>-500.615874</td>\n",
       "      <td>850.462226</td>\n",
       "      <td>-500.703846</td>\n",
       "      <td>6.771708</td>\n",
       "      <td>9.001694</td>\n",
       "      <td>48001.534550</td>\n",
       "      <td>2489.159602</td>\n",
       "      <td>2489.526748</td>\n",
       "      <td>1.098209</td>\n",
       "      <td>18.287758</td>\n",
       "      <td>11.466046</td>\n",
       "      <td>11.038697</td>\n",
       "      <td>29.817524</td>\n",
       "      <td>90.677361</td>\n",
       "      <td>0.564683</td>\n",
       "      <td>3.926701</td>\n",
       "      <td>0.559078</td>\n",
       "      <td>17.340650</td>\n",
       "      <td>114.108530</td>\n",
       "      <td>7.961098</td>\n",
       "      <td>6.50</td>\n",
       "      <td>1.298811</td>\n",
       "      <td>1648.754818</td>\n",
       "      <td>-400.169291</td>\n",
       "      <td>1648.508847</td>\n",
       "      <td>-399.896538</td>\n",
       "      <td>1649.692752</td>\n",
       "      <td>-400.115498</td>\n",
       "      <td>1649.423919</td>\n",
       "      <td>-400.428729</td>\n",
       "      <td>32.636363</td>\n",
       "      <td>6.682350</td>\n",
       "      <td>12.681564</td>\n",
       "      <td>7.431864</td>\n",
       "      <td>2.664374</td>\n",
       "      <td>23.047492</td>\n",
       "      <td>6.673419</td>\n",
       "      <td>4.023964</td>\n",
       "      <td>35.116645</td>\n",
       "      <td>-499.070270</td>\n",
       "      <td>29.948081</td>\n",
       "      <td>-499.964126</td>\n",
       "      <td>25.990572</td>\n",
       "      <td>-499.785781</td>\n",
       "      <td>22.963252</td>\n",
       "      <td>-499.898742</td>\n",
       "      <td>23.033246</td>\n",
       "      <td>-500.912210</td>\n",
       "      <td>19.988437</td>\n",
       "      <td>-500.125966</td>\n",
       "      <td>18.011724</td>\n",
       "      <td>-500.090861</td>\n",
       "      <td>13.007108</td>\n",
       "      <td>-500.258238</td>\n",
       "      <td>19.983872</td>\n",
       "      <td>-502.581707</td>\n",
       "      <td>0.000000</td>\n",
       "      <td>0.000000</td>\n",
       "      <td>0.000000</td>\n",
       "      <td>0.000000</td>\n",
       "      <td>46.956275</td>\n",
       "      <td>3.076566</td>\n",
       "      <td>11.542302</td>\n",
       "      <td>6.929418</td>\n",
       "      <td>68.643324</td>\n",
       "      <td>1.567363</td>\n",
       "      <td>8.792890</td>\n",
       "      <td>3.120351</td>\n",
       "      <td>10.184715</td>\n",
       "    </tr>\n",
       "    <tr>\n",
       "      <th>2017-12-09 11:59:59</th>\n",
       "      <td>5.335862</td>\n",
       "      <td>6.091855</td>\n",
       "      <td>4.617558</td>\n",
       "      <td>37.369774</td>\n",
       "      <td>560.889077</td>\n",
       "      <td>85.718304</td>\n",
       "      <td>7.762770</td>\n",
       "      <td>9.158609</td>\n",
       "      <td>1199.245914</td>\n",
       "      <td>-300.845518</td>\n",
       "      <td>1149.807890</td>\n",
       "      <td>-498.789721</td>\n",
       "      <td>1047.963596</td>\n",
       "      <td>-498.413079</td>\n",
       "      <td>946.640977</td>\n",
       "      <td>-499.152477</td>\n",
       "      <td>849.664935</td>\n",
       "      <td>-499.214461</td>\n",
       "      <td>849.758091</td>\n",
       "      <td>-497.448664</td>\n",
       "      <td>7.766744</td>\n",
       "      <td>9.156069</td>\n",
       "      <td>45912.942619</td>\n",
       "      <td>2497.652954</td>\n",
       "      <td>2499.177950</td>\n",
       "      <td>1.155559</td>\n",
       "      <td>18.603550</td>\n",
       "      <td>11.124896</td>\n",
       "      <td>10.984003</td>\n",
       "      <td>30.068876</td>\n",
       "      <td>89.574376</td>\n",
       "      <td>0.748633</td>\n",
       "      <td>4.207261</td>\n",
       "      <td>0.612935</td>\n",
       "      <td>16.666590</td>\n",
       "      <td>123.381787</td>\n",
       "      <td>8.028927</td>\n",
       "      <td>6.50</td>\n",
       "      <td>1.304232</td>\n",
       "      <td>1648.421193</td>\n",
       "      <td>-400.382169</td>\n",
       "      <td>1648.742005</td>\n",
       "      <td>-400.359661</td>\n",
       "      <td>1648.578230</td>\n",
       "      <td>-399.363624</td>\n",
       "      <td>1648.833984</td>\n",
       "      <td>-399.669220</td>\n",
       "      <td>32.940215</td>\n",
       "      <td>6.559174</td>\n",
       "      <td>12.445966</td>\n",
       "      <td>7.056338</td>\n",
       "      <td>2.314352</td>\n",
       "      <td>22.854592</td>\n",
       "      <td>6.531541</td>\n",
       "      <td>3.934320</td>\n",
       "      <td>35.043205</td>\n",
       "      <td>-499.045671</td>\n",
       "      <td>29.906659</td>\n",
       "      <td>-499.979939</td>\n",
       "      <td>26.002402</td>\n",
       "      <td>-499.953431</td>\n",
       "      <td>22.987238</td>\n",
       "      <td>-499.967351</td>\n",
       "      <td>23.031497</td>\n",
       "      <td>-501.167942</td>\n",
       "      <td>20.007571</td>\n",
       "      <td>-499.740028</td>\n",
       "      <td>18.006038</td>\n",
       "      <td>-499.834374</td>\n",
       "      <td>13.001114</td>\n",
       "      <td>-500.155694</td>\n",
       "      <td>20.007840</td>\n",
       "      <td>-501.296428</td>\n",
       "      <td>0.000000</td>\n",
       "      <td>0.000000</td>\n",
       "      <td>0.000000</td>\n",
       "      <td>0.000000</td>\n",
       "      <td>46.713954</td>\n",
       "      <td>3.224920</td>\n",
       "      <td>11.356233</td>\n",
       "      <td>6.803482</td>\n",
       "      <td>73.755150</td>\n",
       "      <td>1.529220</td>\n",
       "      <td>8.769645</td>\n",
       "      <td>3.141541</td>\n",
       "      <td>10.403181</td>\n",
       "    </tr>\n",
       "    <tr>\n",
       "      <th>2017-12-09 12:59:59</th>\n",
       "      <td>4.838619</td>\n",
       "      <td>6.121323</td>\n",
       "      <td>4.144989</td>\n",
       "      <td>38.591551</td>\n",
       "      <td>559.031805</td>\n",
       "      <td>119.499241</td>\n",
       "      <td>7.356687</td>\n",
       "      <td>9.304952</td>\n",
       "      <td>1196.569267</td>\n",
       "      <td>-299.512227</td>\n",
       "      <td>1147.675196</td>\n",
       "      <td>-500.608341</td>\n",
       "      <td>1048.565741</td>\n",
       "      <td>-500.932810</td>\n",
       "      <td>949.773589</td>\n",
       "      <td>-500.023144</td>\n",
       "      <td>848.515225</td>\n",
       "      <td>-500.289405</td>\n",
       "      <td>850.013123</td>\n",
       "      <td>-496.822119</td>\n",
       "      <td>7.095508</td>\n",
       "      <td>9.297924</td>\n",
       "      <td>46200.099585</td>\n",
       "      <td>2614.403937</td>\n",
       "      <td>2518.550078</td>\n",
       "      <td>1.167342</td>\n",
       "      <td>18.441436</td>\n",
       "      <td>11.425983</td>\n",
       "      <td>10.888213</td>\n",
       "      <td>29.783972</td>\n",
       "      <td>87.724007</td>\n",
       "      <td>0.771582</td>\n",
       "      <td>4.177943</td>\n",
       "      <td>0.650557</td>\n",
       "      <td>16.960649</td>\n",
       "      <td>120.878188</td>\n",
       "      <td>7.962636</td>\n",
       "      <td>6.50</td>\n",
       "      <td>1.302419</td>\n",
       "      <td>1649.820162</td>\n",
       "      <td>-399.930973</td>\n",
       "      <td>1649.357538</td>\n",
       "      <td>-399.721222</td>\n",
       "      <td>1648.656192</td>\n",
       "      <td>-401.195834</td>\n",
       "      <td>1649.725133</td>\n",
       "      <td>-400.636306</td>\n",
       "      <td>32.925325</td>\n",
       "      <td>6.612376</td>\n",
       "      <td>12.623947</td>\n",
       "      <td>7.542264</td>\n",
       "      <td>2.462890</td>\n",
       "      <td>23.002490</td>\n",
       "      <td>6.629725</td>\n",
       "      <td>4.089124</td>\n",
       "      <td>35.026062</td>\n",
       "      <td>-499.891945</td>\n",
       "      <td>29.921795</td>\n",
       "      <td>-499.949663</td>\n",
       "      <td>26.031747</td>\n",
       "      <td>-500.384612</td>\n",
       "      <td>22.991058</td>\n",
       "      <td>-500.079590</td>\n",
       "      <td>22.960095</td>\n",
       "      <td>-501.612783</td>\n",
       "      <td>20.035660</td>\n",
       "      <td>-500.251357</td>\n",
       "      <td>17.998535</td>\n",
       "      <td>-500.395178</td>\n",
       "      <td>12.954048</td>\n",
       "      <td>-499.895163</td>\n",
       "      <td>19.968498</td>\n",
       "      <td>-501.041608</td>\n",
       "      <td>0.000000</td>\n",
       "      <td>0.000000</td>\n",
       "      <td>0.000000</td>\n",
       "      <td>0.000000</td>\n",
       "      <td>46.866780</td>\n",
       "      <td>3.195978</td>\n",
       "      <td>11.349355</td>\n",
       "      <td>6.862249</td>\n",
       "      <td>69.049291</td>\n",
       "      <td>1.612542</td>\n",
       "      <td>8.897321</td>\n",
       "      <td>3.130493</td>\n",
       "      <td>10.549470</td>\n",
       "    </tr>\n",
       "    <tr>\n",
       "      <th>2017-12-09 13:59:59</th>\n",
       "      <td>4.525061</td>\n",
       "      <td>5.970515</td>\n",
       "      <td>4.020002</td>\n",
       "      <td>40.074026</td>\n",
       "      <td>555.682872</td>\n",
       "      <td>122.262690</td>\n",
       "      <td>6.586020</td>\n",
       "      <td>9.299606</td>\n",
       "      <td>1204.866639</td>\n",
       "      <td>-299.235675</td>\n",
       "      <td>1149.942902</td>\n",
       "      <td>-501.717903</td>\n",
       "      <td>1049.604390</td>\n",
       "      <td>-500.549053</td>\n",
       "      <td>952.702732</td>\n",
       "      <td>-502.352296</td>\n",
       "      <td>849.016017</td>\n",
       "      <td>-500.505677</td>\n",
       "      <td>850.455635</td>\n",
       "      <td>-506.897968</td>\n",
       "      <td>6.584130</td>\n",
       "      <td>9.300133</td>\n",
       "      <td>44585.181334</td>\n",
       "      <td>2510.813545</td>\n",
       "      <td>2510.142433</td>\n",
       "      <td>1.125637</td>\n",
       "      <td>15.111231</td>\n",
       "      <td>8.523497</td>\n",
       "      <td>8.955135</td>\n",
       "      <td>22.786467</td>\n",
       "      <td>88.890579</td>\n",
       "      <td>0.685059</td>\n",
       "      <td>4.050010</td>\n",
       "      <td>0.636095</td>\n",
       "      <td>18.323080</td>\n",
       "      <td>105.666118</td>\n",
       "      <td>7.955111</td>\n",
       "      <td>6.50</td>\n",
       "      <td>1.315926</td>\n",
       "      <td>1649.166761</td>\n",
       "      <td>-399.888631</td>\n",
       "      <td>1649.196904</td>\n",
       "      <td>-399.677571</td>\n",
       "      <td>1647.896999</td>\n",
       "      <td>-399.988275</td>\n",
       "      <td>1649.772714</td>\n",
       "      <td>-399.831902</td>\n",
       "      <td>31.856742</td>\n",
       "      <td>7.128896</td>\n",
       "      <td>12.633558</td>\n",
       "      <td>7.941900</td>\n",
       "      <td>2.612231</td>\n",
       "      <td>22.298149</td>\n",
       "      <td>6.278250</td>\n",
       "      <td>4.457457</td>\n",
       "      <td>35.003586</td>\n",
       "      <td>-501.083794</td>\n",
       "      <td>29.990533</td>\n",
       "      <td>-611.855898</td>\n",
       "      <td>25.948429</td>\n",
       "      <td>-500.067268</td>\n",
       "      <td>22.968268</td>\n",
       "      <td>-499.839442</td>\n",
       "      <td>23.015718</td>\n",
       "      <td>-501.711599</td>\n",
       "      <td>19.951231</td>\n",
       "      <td>-499.857027</td>\n",
       "      <td>18.019543</td>\n",
       "      <td>-500.451156</td>\n",
       "      <td>13.023431</td>\n",
       "      <td>-499.914391</td>\n",
       "      <td>19.990885</td>\n",
       "      <td>-501.518452</td>\n",
       "      <td>0.000000</td>\n",
       "      <td>0.000000</td>\n",
       "      <td>0.000000</td>\n",
       "      <td>0.000000</td>\n",
       "      <td>46.795691</td>\n",
       "      <td>3.109998</td>\n",
       "      <td>11.434366</td>\n",
       "      <td>6.886013</td>\n",
       "      <td>67.002189</td>\n",
       "      <td>1.596616</td>\n",
       "      <td>8.529606</td>\n",
       "      <td>2.911418</td>\n",
       "      <td>11.115147</td>\n",
       "    </tr>\n",
       "  </tbody>\n",
       "</table>\n",
       "<p>14018 rows × 86 columns</p>\n",
       "</div>"
      ],
      "text/plain": [
       "                      rougher                                             \\\n",
       "                        input                                              \n",
       "                      feed_au   feed_ag   feed_pb   feed_sol   feed_rate   \n",
       "date                                                                       \n",
       "2016-01-15 00:00:00  6.486150  6.100378  2.284912  36.808594  523.546326   \n",
       "2016-01-15 01:00:00  6.478583  6.161113  2.266033  35.753385  525.290581   \n",
       "2016-01-15 02:00:00  6.362222  6.116455  2.159622  35.971630  530.026610   \n",
       "2016-01-15 03:00:00  6.118189  6.043309  2.037807  36.862241  542.590390   \n",
       "2016-01-15 04:00:00  5.663707  6.060915  1.786875  34.347666  540.531893   \n",
       "...                       ...       ...       ...        ...         ...   \n",
       "2017-12-09 09:59:59  4.599524  5.822083  4.255546  37.480479  559.895089   \n",
       "2017-12-09 10:59:59  4.658125  5.844800  4.241564  37.395565  561.464855   \n",
       "2017-12-09 11:59:59  5.335862  6.091855  4.617558  37.369774  560.889077   \n",
       "2017-12-09 12:59:59  4.838619  6.121323  4.144989  38.591551  559.031805   \n",
       "2017-12-09 13:59:59  4.525061  5.970515  4.020002  40.074026  555.682872   \n",
       "\n",
       "                                                                          \\\n",
       "                                                                           \n",
       "                      feed_size floatbank10_sulfate floatbank10_xanthate   \n",
       "date                                                                       \n",
       "2016-01-15 00:00:00   55.486599           11.986616             6.007990   \n",
       "2016-01-15 01:00:00   57.278666           11.971193             6.005766   \n",
       "2016-01-15 02:00:00   57.510649           11.920603             6.197377   \n",
       "2016-01-15 03:00:00   57.792734           11.630094             6.203177   \n",
       "2016-01-15 04:00:00   56.047189           10.957755             6.198826   \n",
       "...                         ...                 ...                  ...   \n",
       "2017-12-09 09:59:59   85.247019            6.775864             9.005425   \n",
       "2017-12-09 10:59:59   83.860651            6.770561             9.000889   \n",
       "2017-12-09 11:59:59   85.718304            7.762770             9.158609   \n",
       "2017-12-09 12:59:59  119.499241            7.356687             9.304952   \n",
       "2017-12-09 13:59:59  122.262690            6.586020             9.299606   \n",
       "\n",
       "                                                                             \\\n",
       "                                state                                         \n",
       "                    floatbank10_a_air floatbank10_a_level floatbank10_b_air   \n",
       "date                                                                          \n",
       "2016-01-15 00:00:00        999.706909         -404.066986       1603.011353   \n",
       "2016-01-15 01:00:00       1000.286398         -400.065196       1600.754587   \n",
       "2016-01-15 02:00:00        999.719565         -400.074028       1599.337330   \n",
       "2016-01-15 03:00:00        999.814770         -400.200179       1600.059442   \n",
       "2016-01-15 04:00:00        999.678690         -399.752729       1600.208824   \n",
       "...                               ...                 ...               ...   \n",
       "2017-12-09 09:59:59       1200.454685         -300.012582       1150.627632   \n",
       "2017-12-09 10:59:59       1200.958146         -300.013649       1149.862859   \n",
       "2017-12-09 11:59:59       1199.245914         -300.845518       1149.807890   \n",
       "2017-12-09 12:59:59       1196.569267         -299.512227       1147.675196   \n",
       "2017-12-09 13:59:59       1204.866639         -299.235675       1149.942902   \n",
       "\n",
       "                                                                               \\\n",
       "                                                                                \n",
       "                    floatbank10_b_level floatbank10_c_air floatbank10_c_level   \n",
       "date                                                                            \n",
       "2016-01-15 00:00:00         -434.715027       1602.375000         -442.204468   \n",
       "2016-01-15 01:00:00         -449.953435       1600.479580         -449.830646   \n",
       "2016-01-15 02:00:00         -450.008530       1599.672797         -449.954491   \n",
       "2016-01-15 03:00:00         -450.619948       1600.012842         -449.910497   \n",
       "2016-01-15 04:00:00         -449.599614       1600.357732         -450.034364   \n",
       "...                                 ...               ...                 ...   \n",
       "2017-12-09 09:59:59         -500.007240       1052.213299         -499.814928   \n",
       "2017-12-09 10:59:59         -499.856868       1049.476804         -500.085763   \n",
       "2017-12-09 11:59:59         -498.789721       1047.963596         -498.413079   \n",
       "2017-12-09 12:59:59         -500.608341       1048.565741         -500.932810   \n",
       "2017-12-09 13:59:59         -501.717903       1049.604390         -500.549053   \n",
       "\n",
       "                                                                             \\\n",
       "                                                                              \n",
       "                    floatbank10_d_air floatbank10_d_level floatbank10_e_air   \n",
       "date                                                                          \n",
       "2016-01-15 00:00:00       1598.937256         -451.294128       1404.472046   \n",
       "2016-01-15 01:00:00       1600.527589         -449.953649       1399.227084   \n",
       "2016-01-15 02:00:00       1599.849325         -449.954185       1399.180945   \n",
       "2016-01-15 03:00:00       1597.725177         -450.130127       1400.943157   \n",
       "2016-01-15 04:00:00       1599.759049         -449.909799       1401.560902   \n",
       "...                               ...                 ...               ...   \n",
       "2017-12-09 09:59:59        947.090150         -499.963329        850.209399   \n",
       "2017-12-09 10:59:59        960.563638         -499.675142        849.797044   \n",
       "2017-12-09 11:59:59        946.640977         -499.152477        849.664935   \n",
       "2017-12-09 12:59:59        949.773589         -500.023144        848.515225   \n",
       "2017-12-09 13:59:59        952.702732         -502.352296        849.016017   \n",
       "\n",
       "                                                                               \\\n",
       "                                                                                \n",
       "                    floatbank10_e_level floatbank10_f_air floatbank10_f_level   \n",
       "date                                                                            \n",
       "2016-01-15 00:00:00         -455.462982       1416.354980         -451.939636   \n",
       "2016-01-15 01:00:00         -450.869848       1399.719514         -450.119001   \n",
       "2016-01-15 02:00:00         -449.937588       1400.316682         -450.527147   \n",
       "2016-01-15 03:00:00         -450.030142       1400.234743         -449.790835   \n",
       "2016-01-15 04:00:00         -448.877187       1401.160227         -450.407128   \n",
       "...                                 ...               ...                 ...   \n",
       "2017-12-09 09:59:59         -499.970349        850.139876         -498.721100   \n",
       "2017-12-09 10:59:59         -500.615874        850.462226         -500.703846   \n",
       "2017-12-09 11:59:59         -499.214461        849.758091         -497.448664   \n",
       "2017-12-09 12:59:59         -500.289405        850.013123         -496.822119   \n",
       "2017-12-09 13:59:59         -500.505677        850.455635         -506.897968   \n",
       "\n",
       "                                                              \\\n",
       "                                  input                        \n",
       "                    floatbank11_sulfate floatbank11_xanthate   \n",
       "date                                                           \n",
       "2016-01-15 00:00:00           11.836743             6.005818   \n",
       "2016-01-15 01:00:00           11.996163             6.012594   \n",
       "2016-01-15 02:00:00           11.920305             6.204633   \n",
       "2016-01-15 03:00:00           11.692450             6.196578   \n",
       "2016-01-15 04:00:00           10.960521             6.194897   \n",
       "...                                 ...                  ...   \n",
       "2017-12-09 09:59:59            6.775291             9.000862   \n",
       "2017-12-09 10:59:59            6.771708             9.001694   \n",
       "2017-12-09 11:59:59            7.766744             9.156069   \n",
       "2017-12-09 12:59:59            7.095508             9.297924   \n",
       "2017-12-09 13:59:59            6.584130             9.300133   \n",
       "\n",
       "                                                                              \\\n",
       "                                  calculation                                  \n",
       "                    sulfate_to_au_concentrate floatbank10_sulfate_to_au_feed   \n",
       "date                                                                           \n",
       "2016-01-15 00:00:00              41885.707031                    3481.779053   \n",
       "2016-01-15 01:00:00              42050.861809                    3498.370979   \n",
       "2016-01-15 02:00:00              42018.101184                    3495.348910   \n",
       "2016-01-15 03:00:00              42029.447991                    3498.578313   \n",
       "2016-01-15 04:00:00              42125.354245                    3494.800771   \n",
       "...                                       ...                            ...   \n",
       "2017-12-09 09:59:59              48310.254419                    2524.316705   \n",
       "2017-12-09 10:59:59              48001.534550                    2489.159602   \n",
       "2017-12-09 11:59:59              45912.942619                    2497.652954   \n",
       "2017-12-09 12:59:59              46200.099585                    2614.403937   \n",
       "2017-12-09 13:59:59              44585.181334                    2510.813545   \n",
       "\n",
       "                                                                               \\\n",
       "                                                                       output   \n",
       "                    floatbank11_sulfate_to_au_feed au_pb_ratio concentrate_au   \n",
       "date                                                                            \n",
       "2016-01-15 00:00:00                    3520.337158    2.838687      19.793808   \n",
       "2016-01-15 01:00:00                    3489.981857    2.858998      20.050975   \n",
       "2016-01-15 02:00:00                    3502.359819    2.945989      19.737170   \n",
       "2016-01-15 03:00:00                    3499.162912    3.002340      19.320810   \n",
       "2016-01-15 04:00:00                    3506.679315    3.169615      19.216101   \n",
       "...                                            ...         ...            ...   \n",
       "2017-12-09 09:59:59                    2524.130891    1.080830      18.162221   \n",
       "2017-12-09 10:59:59                    2489.526748    1.098209      18.287758   \n",
       "2017-12-09 11:59:59                    2499.177950    1.155559      18.603550   \n",
       "2017-12-09 12:59:59                    2518.550078    1.167342      18.441436   \n",
       "2017-12-09 13:59:59                    2510.142433    1.125637      15.111231   \n",
       "\n",
       "                                                                              \\\n",
       "                                                                               \n",
       "                    concentrate_ag concentrate_pb concentrate_sol   recovery   \n",
       "date                                                                           \n",
       "2016-01-15 00:00:00      11.500771       7.101074       28.029297  87.107763   \n",
       "2016-01-15 01:00:00      11.615865       7.278807       28.067063  86.843261   \n",
       "2016-01-15 02:00:00      11.695753       7.216833       27.454037  86.842308   \n",
       "2016-01-15 03:00:00      11.915047       7.175616       27.341277  87.226430   \n",
       "2016-01-15 04:00:00      12.411054       7.240205       27.041023  86.688794   \n",
       "...                            ...            ...             ...        ...   \n",
       "2017-12-09 09:59:59      11.351051      11.247837       29.858813  87.684717   \n",
       "2017-12-09 10:59:59      11.466046      11.038697       29.817524  90.677361   \n",
       "2017-12-09 11:59:59      11.124896      10.984003       30.068876  89.574376   \n",
       "2017-12-09 12:59:59      11.425983      10.888213       29.783972  87.724007   \n",
       "2017-12-09 13:59:59       8.523497       8.955135       22.786467  88.890579   \n",
       "\n",
       "                                                             primary_cleaner  \\\n",
       "                                                                       input   \n",
       "                      tail_au   tail_ag   tail_pb   tail_sol         sulfate   \n",
       "date                                                                           \n",
       "2016-01-15 00:00:00  1.170244  5.008018  0.508728  19.154297      127.092003   \n",
       "2016-01-15 01:00:00  1.184827  4.955378  0.536689  18.965234      125.629232   \n",
       "2016-01-15 02:00:00  1.162562  4.843460  0.546416  18.808533      123.819808   \n",
       "2016-01-15 03:00:00  1.079755  4.655288  0.542525  19.330200      122.270188   \n",
       "2016-01-15 04:00:00  1.012642  4.552800  0.515438  19.267422      117.988169   \n",
       "...                       ...       ...       ...        ...             ...   \n",
       "2017-12-09 09:59:59  0.728133  4.116153  0.618130  16.383667      125.423263   \n",
       "2017-12-09 10:59:59  0.564683  3.926701  0.559078  17.340650      114.108530   \n",
       "2017-12-09 11:59:59  0.748633  4.207261  0.612935  16.666590      123.381787   \n",
       "2017-12-09 12:59:59  0.771582  4.177943  0.650557  16.960649      120.878188   \n",
       "2017-12-09 13:59:59  0.685059  4.050010  0.636095  18.323080      105.666118   \n",
       "\n",
       "                                                                     \\\n",
       "                                                              state   \n",
       "                    depressant feed_size  xanthate floatbank8_a_air   \n",
       "date                                                                  \n",
       "2016-01-15 00:00:00  10.128295      7.25  0.988759      1549.775757   \n",
       "2016-01-15 01:00:00  10.296251      7.25  1.002663      1576.166671   \n",
       "2016-01-15 02:00:00  11.316280      7.25  0.991265      1601.556163   \n",
       "2016-01-15 03:00:00  11.322140      7.25  0.996739      1599.968720   \n",
       "2016-01-15 04:00:00  11.913613      7.25  1.009869      1601.339707   \n",
       "...                        ...       ...       ...              ...   \n",
       "2017-12-09 09:59:59   8.014263      6.50  1.338973      1648.628464   \n",
       "2017-12-09 10:59:59   7.961098      6.50  1.298811      1648.754818   \n",
       "2017-12-09 11:59:59   8.028927      6.50  1.304232      1648.421193   \n",
       "2017-12-09 12:59:59   7.962636      6.50  1.302419      1649.820162   \n",
       "2017-12-09 13:59:59   7.955111      6.50  1.315926      1649.166761   \n",
       "\n",
       "                                                                            \\\n",
       "                                                                             \n",
       "                    floatbank8_a_level floatbank8_b_air floatbank8_b_level   \n",
       "date                                                                         \n",
       "2016-01-15 00:00:00        -498.912140      1551.434204        -516.403442   \n",
       "2016-01-15 01:00:00        -500.904965      1575.950626        -499.865889   \n",
       "2016-01-15 02:00:00        -499.997791      1600.386685        -500.607762   \n",
       "2016-01-15 03:00:00        -500.951778      1600.659236        -499.677094   \n",
       "2016-01-15 04:00:00        -498.975456      1601.437854        -500.323246   \n",
       "...                                ...              ...                ...   \n",
       "2017-12-09 09:59:59        -400.254719      1649.423778        -399.892993   \n",
       "2017-12-09 10:59:59        -400.169291      1648.508847        -399.896538   \n",
       "2017-12-09 11:59:59        -400.382169      1648.742005        -400.359661   \n",
       "2017-12-09 12:59:59        -399.930973      1649.357538        -399.721222   \n",
       "2017-12-09 13:59:59        -399.888631      1649.196904        -399.677571   \n",
       "\n",
       "                                                                          \\\n",
       "                                                                           \n",
       "                    floatbank8_c_air floatbank8_c_level floatbank8_d_air   \n",
       "date                                                                       \n",
       "2016-01-15 00:00:00      1549.873901        -498.666595      1554.367432   \n",
       "2016-01-15 01:00:00      1575.994189        -499.315107      1574.479259   \n",
       "2016-01-15 02:00:00      1602.003542        -500.870069      1599.541515   \n",
       "2016-01-15 03:00:00      1600.304144        -500.727997      1600.449520   \n",
       "2016-01-15 04:00:00      1599.581894        -500.888152      1602.649541   \n",
       "...                              ...                ...              ...   \n",
       "2017-12-09 09:59:59      1648.461910        -400.079787      1649.980440   \n",
       "2017-12-09 10:59:59      1649.692752        -400.115498      1649.423919   \n",
       "2017-12-09 11:59:59      1648.578230        -399.363624      1648.833984   \n",
       "2017-12-09 12:59:59      1648.656192        -401.195834      1649.725133   \n",
       "2017-12-09 13:59:59      1647.896999        -399.988275      1649.772714   \n",
       "\n",
       "                                                                      \\\n",
       "                                               output                  \n",
       "                    floatbank8_d_level concentrate_au concentrate_ag   \n",
       "date                                                                   \n",
       "2016-01-15 00:00:00        -493.428131      34.174427       8.547551   \n",
       "2016-01-15 01:00:00        -498.931665      34.118526       8.558743   \n",
       "2016-01-15 02:00:00        -499.827444      33.969464       8.603505   \n",
       "2016-01-15 03:00:00        -500.052575      28.260743       7.221879   \n",
       "2016-01-15 04:00:00        -500.593010      33.044932       9.089428   \n",
       "...                                ...            ...            ...   \n",
       "2017-12-09 09:59:59        -399.801181      33.493651       6.372520   \n",
       "2017-12-09 10:59:59        -400.428729      32.636363       6.682350   \n",
       "2017-12-09 11:59:59        -399.669220      32.940215       6.559174   \n",
       "2017-12-09 12:59:59        -400.636306      32.925325       6.612376   \n",
       "2017-12-09 13:59:59        -399.831902      31.856742       7.128896   \n",
       "\n",
       "                                                                         \\\n",
       "                                                                          \n",
       "                    concentrate_pb concentrate_sol   tail_au    tail_ag   \n",
       "date                                                                      \n",
       "2016-01-15 00:00:00      10.389648       19.529297  2.106679  14.936526   \n",
       "2016-01-15 01:00:00      10.497069       19.369147  2.353017  16.250511   \n",
       "2016-01-15 02:00:00      10.354494       19.167579  2.416800  16.491823   \n",
       "2016-01-15 03:00:00       8.496563       15.978538  2.262051  16.024359   \n",
       "2016-01-15 04:00:00       9.986786       19.199864  2.277073  16.480185   \n",
       "...                            ...             ...       ...        ...   \n",
       "2017-12-09 09:59:59      12.879280        7.756028  2.581269  22.974292   \n",
       "2017-12-09 10:59:59      12.681564        7.431864  2.664374  23.047492   \n",
       "2017-12-09 11:59:59      12.445966        7.056338  2.314352  22.854592   \n",
       "2017-12-09 12:59:59      12.623947        7.542264  2.462890  23.002490   \n",
       "2017-12-09 13:59:59      12.633558        7.941900  2.612231  22.298149   \n",
       "\n",
       "                                        secondary_cleaner                     \\\n",
       "                                                    state                      \n",
       "                      tail_pb  tail_sol  floatbank2_a_air floatbank2_a_level   \n",
       "date                                                                           \n",
       "2016-01-15 00:00:00  2.534912  7.476074         25.853109        -498.526489   \n",
       "2016-01-15 01:00:00  3.049646  6.733907         25.880539        -499.989656   \n",
       "2016-01-15 02:00:00  3.124664  6.471768         26.005245        -499.929616   \n",
       "2016-01-15 03:00:00  2.960362  6.843791         25.942508        -499.176749   \n",
       "2016-01-15 04:00:00  3.112100  6.550154         26.024787        -500.279091   \n",
       "...                       ...       ...               ...                ...   \n",
       "2017-12-09 09:59:59  6.868943  4.315335         35.096512        -501.110562   \n",
       "2017-12-09 10:59:59  6.673419  4.023964         35.116645        -499.070270   \n",
       "2017-12-09 11:59:59  6.531541  3.934320         35.043205        -499.045671   \n",
       "2017-12-09 12:59:59  6.629725  4.089124         35.026062        -499.891945   \n",
       "2017-12-09 13:59:59  6.278250  4.457457         35.003586        -501.083794   \n",
       "\n",
       "                                                                          \\\n",
       "                                                                           \n",
       "                    floatbank2_b_air floatbank2_b_level floatbank3_a_air   \n",
       "date                                                                       \n",
       "2016-01-15 00:00:00        23.893660        -501.406281        23.961798   \n",
       "2016-01-15 01:00:00        23.889530        -500.372428        23.970550   \n",
       "2016-01-15 02:00:00        23.886657        -499.951928        23.913535   \n",
       "2016-01-15 03:00:00        23.955516        -499.848796        23.966838   \n",
       "2016-01-15 04:00:00        23.955345        -500.593614        23.985703   \n",
       "...                              ...                ...              ...   \n",
       "2017-12-09 09:59:59        29.933276        -500.291576        25.996427   \n",
       "2017-12-09 10:59:59        29.948081        -499.964126        25.990572   \n",
       "2017-12-09 11:59:59        29.906659        -499.979939        26.002402   \n",
       "2017-12-09 12:59:59        29.921795        -499.949663        26.031747   \n",
       "2017-12-09 13:59:59        29.990533        -611.855898        25.948429   \n",
       "\n",
       "                                                                            \\\n",
       "                                                                             \n",
       "                    floatbank3_a_level floatbank3_b_air floatbank3_b_level   \n",
       "date                                                                         \n",
       "2016-01-15 00:00:00        -495.262817        21.940409        -499.340973   \n",
       "2016-01-15 01:00:00        -500.085473        22.085714        -499.446897   \n",
       "2016-01-15 02:00:00        -499.442343        23.957717        -499.901982   \n",
       "2016-01-15 03:00:00        -500.008812        23.954443        -499.944710   \n",
       "2016-01-15 04:00:00        -500.083811        23.958945        -499.990309   \n",
       "...                                ...              ...                ...   \n",
       "2017-12-09 09:59:59        -500.158269        23.033562        -499.972253   \n",
       "2017-12-09 10:59:59        -499.785781        22.963252        -499.898742   \n",
       "2017-12-09 11:59:59        -499.953431        22.987238        -499.967351   \n",
       "2017-12-09 12:59:59        -500.384612        22.991058        -500.079590   \n",
       "2017-12-09 13:59:59        -500.067268        22.968268        -499.839442   \n",
       "\n",
       "                                                                          \\\n",
       "                                                                           \n",
       "                    floatbank4_a_air floatbank4_a_level floatbank4_b_air   \n",
       "date                                                                       \n",
       "2016-01-15 00:00:00        14.016835        -502.488007        12.099931   \n",
       "2016-01-15 01:00:00        13.992281        -505.503262        11.950531   \n",
       "2016-01-15 02:00:00        14.015015        -502.520901        11.912783   \n",
       "2016-01-15 03:00:00        14.036510        -500.857308        11.999550   \n",
       "2016-01-15 04:00:00        14.027298        -499.838632        11.953070   \n",
       "...                              ...                ...              ...   \n",
       "2017-12-09 09:59:59        23.030949        -501.196721        20.034440   \n",
       "2017-12-09 10:59:59        23.033246        -500.912210        19.988437   \n",
       "2017-12-09 11:59:59        23.031497        -501.167942        20.007571   \n",
       "2017-12-09 12:59:59        22.960095        -501.612783        20.035660   \n",
       "2017-12-09 13:59:59        23.015718        -501.711599        19.951231   \n",
       "\n",
       "                                                                            \\\n",
       "                                                                             \n",
       "                    floatbank4_b_level floatbank5_a_air floatbank5_a_level   \n",
       "date                                                                         \n",
       "2016-01-15 00:00:00        -504.715942         9.925633        -498.310211   \n",
       "2016-01-15 01:00:00        -501.331529        10.039245        -500.169983   \n",
       "2016-01-15 02:00:00        -501.133383        10.070913        -500.129135   \n",
       "2016-01-15 03:00:00        -501.193686         9.970366        -499.201640   \n",
       "2016-01-15 04:00:00        -501.053894         9.925709        -501.686727   \n",
       "...                                ...              ...                ...   \n",
       "2017-12-09 09:59:59        -499.842047        18.001504        -499.872052   \n",
       "2017-12-09 10:59:59        -500.125966        18.011724        -500.090861   \n",
       "2017-12-09 11:59:59        -499.740028        18.006038        -499.834374   \n",
       "2017-12-09 12:59:59        -500.251357        17.998535        -500.395178   \n",
       "2017-12-09 13:59:59        -499.857027        18.019543        -500.451156   \n",
       "\n",
       "                                                                          \\\n",
       "                                                                           \n",
       "                    floatbank5_b_air floatbank5_b_level floatbank6_a_air   \n",
       "date                                                                       \n",
       "2016-01-15 00:00:00         8.079666        -500.470978        14.151341   \n",
       "2016-01-15 01:00:00         7.984757        -500.582168        13.998353   \n",
       "2016-01-15 02:00:00         8.013877        -500.517572        14.028663   \n",
       "2016-01-15 03:00:00         7.977324        -500.255908        14.005551   \n",
       "2016-01-15 04:00:00         7.894242        -500.356035        13.996647   \n",
       "...                              ...                ...              ...   \n",
       "2017-12-09 09:59:59        12.998309        -500.027809        20.007108   \n",
       "2017-12-09 10:59:59        13.007108        -500.258238        19.983872   \n",
       "2017-12-09 11:59:59        13.001114        -500.155694        20.007840   \n",
       "2017-12-09 12:59:59        12.954048        -499.895163        19.968498   \n",
       "2017-12-09 13:59:59        13.023431        -499.914391        19.990885   \n",
       "\n",
       "                                                                       \\\n",
       "                                          output                        \n",
       "                    floatbank6_a_level   tail_au    tail_ag   tail_pb   \n",
       "date                                                                    \n",
       "2016-01-15 00:00:00        -605.841980  2.606185  14.500184  4.694824   \n",
       "2016-01-15 01:00:00        -599.787184  2.488248  14.265474  4.592547   \n",
       "2016-01-15 02:00:00        -601.427363  2.458187  14.115662  4.624775   \n",
       "2016-01-15 03:00:00        -599.996129  2.322062  13.732071  4.482453   \n",
       "2016-01-15 04:00:00        -601.496691  2.330448  14.079996  4.470737   \n",
       "...                                ...       ...        ...       ...   \n",
       "2017-12-09 09:59:59        -500.850685  0.000000   0.000000  0.000000   \n",
       "2017-12-09 10:59:59        -502.581707  0.000000   0.000000  0.000000   \n",
       "2017-12-09 11:59:59        -501.296428  0.000000   0.000000  0.000000   \n",
       "2017-12-09 12:59:59        -501.041608  0.000000   0.000000  0.000000   \n",
       "2017-12-09 13:59:59        -501.518452  0.000000   0.000000  0.000000   \n",
       "\n",
       "                                       final                                \\\n",
       "                                      output                                 \n",
       "                     tail_sol concentrate_au concentrate_ag concentrate_pb   \n",
       "date                                                                         \n",
       "2016-01-15 00:00:00  8.764648      42.192020       6.055403       9.889648   \n",
       "2016-01-15 01:00:00  9.001494      42.701629       6.029369       9.968944   \n",
       "2016-01-15 02:00:00  8.842896      42.657501       6.055926      10.213995   \n",
       "2016-01-15 03:00:00  9.122857      42.689819       6.047977       9.977019   \n",
       "2016-01-15 04:00:00  8.871028      42.774141       6.148599      10.142511   \n",
       "...                       ...            ...            ...            ...   \n",
       "2017-12-09 09:59:59  0.000000      47.765393       2.925574      10.855586   \n",
       "2017-12-09 10:59:59  0.000000      46.956275       3.076566      11.542302   \n",
       "2017-12-09 11:59:59  0.000000      46.713954       3.224920      11.356233   \n",
       "2017-12-09 12:59:59  0.000000      46.866780       3.195978      11.349355   \n",
       "2017-12-09 13:59:59  0.000000      46.795691       3.109998      11.434366   \n",
       "\n",
       "                                                                               \\\n",
       "                                                                                \n",
       "                    concentrate_sol   recovery   tail_au    tail_ag   tail_pb   \n",
       "date                                                                            \n",
       "2016-01-15 00:00:00        5.507324  70.541216  2.143149  10.411962  0.895447   \n",
       "2016-01-15 01:00:00        5.257781  69.266198  2.224930  10.462676  0.927452   \n",
       "2016-01-15 02:00:00        5.383759  68.116445  2.257889  10.507046  0.953716   \n",
       "2016-01-15 03:00:00        4.858634  68.347543  2.146849  10.422762  0.883763   \n",
       "2016-01-15 04:00:00        4.939416  66.927016  2.055292  10.360302  0.792826   \n",
       "...                             ...        ...       ...        ...       ...   \n",
       "2017-12-09 09:59:59        7.053796  64.054699  1.761994   8.578502  3.365823   \n",
       "2017-12-09 10:59:59        6.929418  68.643324  1.567363   8.792890  3.120351   \n",
       "2017-12-09 11:59:59        6.803482  73.755150  1.529220   8.769645  3.141541   \n",
       "2017-12-09 12:59:59        6.862249  69.049291  1.612542   8.897321  3.130493   \n",
       "2017-12-09 13:59:59        6.886013  67.002189  1.596616   8.529606  2.911418   \n",
       "\n",
       "                                \n",
       "                                \n",
       "                      tail_sol  \n",
       "date                            \n",
       "2016-01-15 00:00:00  16.904297  \n",
       "2016-01-15 01:00:00  16.634514  \n",
       "2016-01-15 02:00:00  16.208849  \n",
       "2016-01-15 03:00:00  16.532835  \n",
       "2016-01-15 04:00:00  16.525686  \n",
       "...                        ...  \n",
       "2017-12-09 09:59:59  10.603464  \n",
       "2017-12-09 10:59:59  10.184715  \n",
       "2017-12-09 11:59:59  10.403181  \n",
       "2017-12-09 12:59:59  10.549470  \n",
       "2017-12-09 13:59:59  11.115147  \n",
       "\n",
       "[14018 rows x 86 columns]"
      ]
     },
     "execution_count": 19,
     "metadata": {},
     "output_type": "execute_result"
    }
   ],
   "source": [
    "imputer = KNNImputer(n_neighbors=2)\n",
    "data['train_filled'] = pd.DataFrame(imputer.fit_transform(data['train']),\n",
    "                                                        index=data['train'].index, \n",
    "                                                        columns=data['train'].columns)\n",
    "data['train_filled']"
   ]
  },
  {
   "cell_type": "code",
   "execution_count": 20,
   "metadata": {},
   "outputs": [],
   "source": [
    "data['half_filled'] = data['full']"
   ]
  },
  {
   "cell_type": "code",
   "execution_count": 21,
   "metadata": {},
   "outputs": [],
   "source": [
    "data['half_filled'].update(data['train_filled'])"
   ]
  },
  {
   "cell_type": "code",
   "execution_count": 22,
   "metadata": {},
   "outputs": [],
   "source": [
    "data['full_filled'] = pd.DataFrame(imputer.transform(data['half_filled']),\n",
    "                                        index=data['half_filled'].index,\n",
    "                                        columns=data['half_filled'].columns)"
   ]
  },
  {
   "cell_type": "code",
   "execution_count": 23,
   "metadata": {},
   "outputs": [],
   "source": [
    "data['test_filled'] = data['full_filled'].loc[data['test'].index, data['test'].columns]"
   ]
  },
  {
   "cell_type": "markdown",
   "metadata": {},
   "source": [
    "В ходе подготовки данных выявлены и устранены аномалии в целевых признаках, заполнены пропуски в данных методом ближайших соседей"
   ]
  },
  {
   "cell_type": "markdown",
   "metadata": {},
   "source": [
    "## Анализ данных"
   ]
  },
  {
   "cell_type": "markdown",
   "metadata": {},
   "source": [
    "### Концентрация металлов"
   ]
  },
  {
   "cell_type": "code",
   "execution_count": 24,
   "metadata": {},
   "outputs": [
    {
     "data": {
      "image/png": "[encoded data removed]",
      "text/plain": [
       "<Figure size 576x360 with 1 Axes>"
      ]
     },
     "metadata": {
      "needs_background": "light"
     },
     "output_type": "display_data"
    }
   ],
   "source": [
    "get_kde([data['train_filled']['rougher', 'input', 'feed_ag'],\n",
    "        data['train_filled']['rougher', 'output', 'concentrate_ag'],\n",
    "        data['train_filled']['primary_cleaner', 'output', 'concentrate_ag'],\n",
    "        data['train_filled']['final', 'output', 'concentrate_ag']], \n",
    "                legend=['Сырье','Флотация', 'Первичная очистка', 'Финальный концентрат'], title='Серебро', \n",
    "                x_label='Доля', y_label ='Плотность')"
   ]
  },
  {
   "cell_type": "code",
   "execution_count": 25,
   "metadata": {},
   "outputs": [
    {
     "data": {
      "image/png": "[encoded data removed]",
      "text/plain": [
       "<Figure size 576x360 with 1 Axes>"
      ]
     },
     "metadata": {
      "needs_background": "light"
     },
     "output_type": "display_data"
    }
   ],
   "source": [
    "get_kde([data['train_filled']['rougher', 'input', 'feed_au'],\n",
    "        data['train_filled']['rougher', 'output', 'concentrate_au'],\n",
    "        data['train_filled']['primary_cleaner', 'output', 'concentrate_au'],\n",
    "        data['train_filled']['final', 'output', 'concentrate_au']], \n",
    "                legend=['Сырье','Флотация', 'Первичная очистка', 'Финальный концентрат'], title='Золото', \n",
    "                x_label='Доля', y_label ='Плотность')"
   ]
  },
  {
   "cell_type": "code",
   "execution_count": 26,
   "metadata": {},
   "outputs": [
    {
     "data": {
      "image/png": "[encoded data removed]",
      "text/plain": [
       "<Figure size 576x360 with 1 Axes>"
      ]
     },
     "metadata": {
      "needs_background": "light"
     },
     "output_type": "display_data"
    }
   ],
   "source": [
    "get_kde([data['train_filled']['rougher', 'input', 'feed_pb'],\n",
    "        data['train_filled']['rougher', 'output', 'concentrate_pb'],\n",
    "        data['train_filled']['primary_cleaner', 'output', 'concentrate_pb'],\n",
    "        data['train_filled']['final', 'output', 'concentrate_pb']], \n",
    "                legend=['Сырье','Флотация', 'Первичная очистка', 'Финальный концентрат'], title='Свинец', \n",
    "                x_label='Доля', y_label ='Плотность')"
   ]
  },
  {
   "cell_type": "markdown",
   "metadata": {},
   "source": [
    "На распределениях видно, как процесс очистки повышает концентрацию золота обычно с 20 до 45%, доля свинца уменьшается после флотации, после сохраняется, доля серебра уменьшается после каждого процесса."
   ]
  },
  {
   "cell_type": "code",
   "execution_count": 27,
   "metadata": {},
   "outputs": [
    {
     "data": {
      "image/png": "[encoded data removed]",
      "text/plain": [
       "<Figure size 576x360 with 1 Axes>"
      ]
     },
     "metadata": {
      "needs_background": "light"
     },
     "output_type": "display_data"
    }
   ],
   "source": [
    "get_kde([data['train_filled']['rougher', 'output', 'tail_ag'],\n",
    "        data['train_filled']['primary_cleaner', 'output', 'tail_ag'],\n",
    "        data['train_filled']['secondary_cleaner', 'output', 'tail_ag'],\n",
    "        data['train_filled']['final', 'output', 'tail_ag']], \n",
    "                legend=['Флотация','Первичная очистка', 'вторичная очистка', 'Финальный концентрат'], title='Серебро хвосты',\n",
    "                x_label='Доля', y_label ='Плотность')"
   ]
  },
  {
   "cell_type": "code",
   "execution_count": 28,
   "metadata": {},
   "outputs": [
    {
     "data": {
      "image/png": "[encoded data removed]",
      "text/plain": [
       "<Figure size 576x360 with 1 Axes>"
      ]
     },
     "metadata": {
      "needs_background": "light"
     },
     "output_type": "display_data"
    }
   ],
   "source": [
    "get_kde([data['train_filled']['rougher', 'output', 'tail_au'],\n",
    "        data['train_filled']['primary_cleaner', 'output', 'tail_au'],\n",
    "        data['train_filled']['secondary_cleaner', 'output', 'tail_au'],\n",
    "        data['train_filled']['final', 'output', 'tail_au']], \n",
    "                legend=['Флотация','Первичная очистка', 'вторичная очистка', 'Финальный концентрат'], title='Золото хвосты',\n",
    "                x_label='Доля', y_label ='Плотность')"
   ]
  },
  {
   "cell_type": "code",
   "execution_count": 29,
   "metadata": {},
   "outputs": [
    {
     "data": {
      "image/png": "[encoded data removed]",
      "text/plain": [
       "<Figure size 576x360 with 1 Axes>"
      ]
     },
     "metadata": {
      "needs_background": "light"
     },
     "output_type": "display_data"
    }
   ],
   "source": [
    "get_kde([data['train_filled']['rougher', 'output', 'tail_pb'],\n",
    "        data['train_filled']['primary_cleaner', 'output', 'tail_pb'],\n",
    "        data['train_filled']['secondary_cleaner', 'output', 'tail_pb'],\n",
    "        data['train_filled']['final', 'output', 'tail_pb']], \n",
    "                legend=['Флотация','Первичная очистка', 'вторичная очистка', 'Финальный концентрат'], title='Свинец хвосты',\n",
    "                x_label='Доля', y_label ='Плотность')"
   ]
  },
  {
   "cell_type": "markdown",
   "metadata": {},
   "source": [
    "В хвосты попадает небольшое количество золота. Флотация является наиболее стабильным процессом.\n",
    "Плотность хостов свинца после флотации аномально высокая. Надо взглянуть на показания."
   ]
  },
  {
   "cell_type": "code",
   "execution_count": 30,
   "metadata": {},
   "outputs": [
    {
     "data": {
      "text/html": [
       "<div>\n",
       "<style scoped>\n",
       "    .dataframe tbody tr th:only-of-type {\n",
       "        vertical-align: middle;\n",
       "    }\n",
       "\n",
       "    .dataframe tbody tr th {\n",
       "        vertical-align: top;\n",
       "    }\n",
       "\n",
       "    .dataframe thead tr th {\n",
       "        text-align: left;\n",
       "    }\n",
       "\n",
       "    .dataframe thead tr:last-of-type th {\n",
       "        text-align: right;\n",
       "    }\n",
       "</style>\n",
       "<table border=\"1\" class=\"dataframe\">\n",
       "  <thead>\n",
       "    <tr>\n",
       "      <th></th>\n",
       "      <th>rougher</th>\n",
       "      <th>primary_cleaner</th>\n",
       "      <th>secondary_cleaner</th>\n",
       "      <th>final</th>\n",
       "    </tr>\n",
       "    <tr>\n",
       "      <th></th>\n",
       "      <th>output</th>\n",
       "      <th>output</th>\n",
       "      <th>output</th>\n",
       "      <th>output</th>\n",
       "    </tr>\n",
       "    <tr>\n",
       "      <th></th>\n",
       "      <th>tail_pb</th>\n",
       "      <th>tail_pb</th>\n",
       "      <th>tail_pb</th>\n",
       "      <th>tail_pb</th>\n",
       "    </tr>\n",
       "    <tr>\n",
       "      <th>date</th>\n",
       "      <th></th>\n",
       "      <th></th>\n",
       "      <th></th>\n",
       "      <th></th>\n",
       "    </tr>\n",
       "  </thead>\n",
       "  <tbody>\n",
       "    <tr>\n",
       "      <th>2016-01-15 00:00:00</th>\n",
       "      <td>0.508728</td>\n",
       "      <td>2.534912</td>\n",
       "      <td>4.694824</td>\n",
       "      <td>0.895447</td>\n",
       "    </tr>\n",
       "    <tr>\n",
       "      <th>2016-01-15 01:00:00</th>\n",
       "      <td>0.536689</td>\n",
       "      <td>3.049646</td>\n",
       "      <td>4.592547</td>\n",
       "      <td>0.927452</td>\n",
       "    </tr>\n",
       "    <tr>\n",
       "      <th>2016-01-15 02:00:00</th>\n",
       "      <td>0.546416</td>\n",
       "      <td>3.124664</td>\n",
       "      <td>4.624775</td>\n",
       "      <td>0.953716</td>\n",
       "    </tr>\n",
       "    <tr>\n",
       "      <th>2016-01-15 03:00:00</th>\n",
       "      <td>0.542525</td>\n",
       "      <td>2.960362</td>\n",
       "      <td>4.482453</td>\n",
       "      <td>0.883763</td>\n",
       "    </tr>\n",
       "    <tr>\n",
       "      <th>2016-01-15 04:00:00</th>\n",
       "      <td>0.515438</td>\n",
       "      <td>3.112100</td>\n",
       "      <td>4.470737</td>\n",
       "      <td>0.792826</td>\n",
       "    </tr>\n",
       "    <tr>\n",
       "      <th>...</th>\n",
       "      <td>...</td>\n",
       "      <td>...</td>\n",
       "      <td>...</td>\n",
       "      <td>...</td>\n",
       "    </tr>\n",
       "    <tr>\n",
       "      <th>2018-08-18 06:59:59</th>\n",
       "      <td>0.754358</td>\n",
       "      <td>2.843019</td>\n",
       "      <td>4.460185</td>\n",
       "      <td>1.171459</td>\n",
       "    </tr>\n",
       "    <tr>\n",
       "      <th>2018-08-18 07:59:59</th>\n",
       "      <td>0.749174</td>\n",
       "      <td>3.078792</td>\n",
       "      <td>4.656804</td>\n",
       "      <td>1.239738</td>\n",
       "    </tr>\n",
       "    <tr>\n",
       "      <th>2018-08-18 08:59:59</th>\n",
       "      <td>0.630120</td>\n",
       "      <td>3.082925</td>\n",
       "      <td>4.402372</td>\n",
       "      <td>0.961210</td>\n",
       "    </tr>\n",
       "    <tr>\n",
       "      <th>2018-08-18 09:59:59</th>\n",
       "      <td>0.557099</td>\n",
       "      <td>3.077749</td>\n",
       "      <td>4.576720</td>\n",
       "      <td>1.050592</td>\n",
       "    </tr>\n",
       "    <tr>\n",
       "      <th>2018-08-18 10:59:59</th>\n",
       "      <td>0.615418</td>\n",
       "      <td>2.866688</td>\n",
       "      <td>4.550553</td>\n",
       "      <td>1.159805</td>\n",
       "    </tr>\n",
       "  </tbody>\n",
       "</table>\n",
       "<p>19439 rows × 4 columns</p>\n",
       "</div>"
      ],
      "text/plain": [
       "                      rougher primary_cleaner secondary_cleaner     final\n",
       "                       output          output            output    output\n",
       "                      tail_pb         tail_pb           tail_pb   tail_pb\n",
       "date                                                                     \n",
       "2016-01-15 00:00:00  0.508728        2.534912          4.694824  0.895447\n",
       "2016-01-15 01:00:00  0.536689        3.049646          4.592547  0.927452\n",
       "2016-01-15 02:00:00  0.546416        3.124664          4.624775  0.953716\n",
       "2016-01-15 03:00:00  0.542525        2.960362          4.482453  0.883763\n",
       "2016-01-15 04:00:00  0.515438        3.112100          4.470737  0.792826\n",
       "...                       ...             ...               ...       ...\n",
       "2018-08-18 06:59:59  0.754358        2.843019          4.460185  1.171459\n",
       "2018-08-18 07:59:59  0.749174        3.078792          4.656804  1.239738\n",
       "2018-08-18 08:59:59  0.630120        3.082925          4.402372  0.961210\n",
       "2018-08-18 09:59:59  0.557099        3.077749          4.576720  1.050592\n",
       "2018-08-18 10:59:59  0.615418        2.866688          4.550553  1.159805\n",
       "\n",
       "[19439 rows x 4 columns]"
      ]
     },
     "execution_count": 30,
     "metadata": {},
     "output_type": "execute_result"
    }
   ],
   "source": [
    "data['full_filled'].loc[:, (['rougher', 'primary_cleaner', 'secondary_cleaner', 'final'], 'output', 'tail_pb')]"
   ]
  },
  {
   "cell_type": "code",
   "execution_count": 31,
   "metadata": {},
   "outputs": [
    {
     "data": {
      "text/html": [
       "<div>\n",
       "<style scoped>\n",
       "    .dataframe tbody tr th:only-of-type {\n",
       "        vertical-align: middle;\n",
       "    }\n",
       "\n",
       "    .dataframe tbody tr th {\n",
       "        vertical-align: top;\n",
       "    }\n",
       "\n",
       "    .dataframe thead tr th {\n",
       "        text-align: left;\n",
       "    }\n",
       "\n",
       "    .dataframe thead tr:last-of-type th {\n",
       "        text-align: right;\n",
       "    }\n",
       "</style>\n",
       "<table border=\"1\" class=\"dataframe\">\n",
       "  <thead>\n",
       "    <tr>\n",
       "      <th></th>\n",
       "      <th colspan=\"2\" halign=\"left\">rougher</th>\n",
       "    </tr>\n",
       "    <tr>\n",
       "      <th></th>\n",
       "      <th colspan=\"2\" halign=\"left\">output</th>\n",
       "    </tr>\n",
       "    <tr>\n",
       "      <th></th>\n",
       "      <th>tail_pb</th>\n",
       "      <th>tail_ag</th>\n",
       "    </tr>\n",
       "    <tr>\n",
       "      <th>date</th>\n",
       "      <th></th>\n",
       "      <th></th>\n",
       "    </tr>\n",
       "  </thead>\n",
       "  <tbody>\n",
       "    <tr>\n",
       "      <th>2016-01-15 00:00:00</th>\n",
       "      <td>0.508728</td>\n",
       "      <td>5.008018</td>\n",
       "    </tr>\n",
       "    <tr>\n",
       "      <th>2016-01-15 01:00:00</th>\n",
       "      <td>0.536689</td>\n",
       "      <td>4.955378</td>\n",
       "    </tr>\n",
       "    <tr>\n",
       "      <th>2016-01-15 02:00:00</th>\n",
       "      <td>0.546416</td>\n",
       "      <td>4.843460</td>\n",
       "    </tr>\n",
       "    <tr>\n",
       "      <th>2016-01-15 03:00:00</th>\n",
       "      <td>0.542525</td>\n",
       "      <td>4.655288</td>\n",
       "    </tr>\n",
       "    <tr>\n",
       "      <th>2016-01-15 04:00:00</th>\n",
       "      <td>0.515438</td>\n",
       "      <td>4.552800</td>\n",
       "    </tr>\n",
       "    <tr>\n",
       "      <th>...</th>\n",
       "      <td>...</td>\n",
       "      <td>...</td>\n",
       "    </tr>\n",
       "    <tr>\n",
       "      <th>2018-08-18 06:59:59</th>\n",
       "      <td>0.754358</td>\n",
       "      <td>4.949871</td>\n",
       "    </tr>\n",
       "    <tr>\n",
       "      <th>2018-08-18 07:59:59</th>\n",
       "      <td>0.749174</td>\n",
       "      <td>4.930477</td>\n",
       "    </tr>\n",
       "    <tr>\n",
       "      <th>2018-08-18 08:59:59</th>\n",
       "      <td>0.630120</td>\n",
       "      <td>4.785475</td>\n",
       "    </tr>\n",
       "    <tr>\n",
       "      <th>2018-08-18 09:59:59</th>\n",
       "      <td>0.557099</td>\n",
       "      <td>4.559246</td>\n",
       "    </tr>\n",
       "    <tr>\n",
       "      <th>2018-08-18 10:59:59</th>\n",
       "      <td>0.615418</td>\n",
       "      <td>4.667157</td>\n",
       "    </tr>\n",
       "  </tbody>\n",
       "</table>\n",
       "<p>19439 rows × 2 columns</p>\n",
       "</div>"
      ],
      "text/plain": [
       "                      rougher          \n",
       "                       output          \n",
       "                      tail_pb   tail_ag\n",
       "date                                   \n",
       "2016-01-15 00:00:00  0.508728  5.008018\n",
       "2016-01-15 01:00:00  0.536689  4.955378\n",
       "2016-01-15 02:00:00  0.546416  4.843460\n",
       "2016-01-15 03:00:00  0.542525  4.655288\n",
       "2016-01-15 04:00:00  0.515438  4.552800\n",
       "...                       ...       ...\n",
       "2018-08-18 06:59:59  0.754358  4.949871\n",
       "2018-08-18 07:59:59  0.749174  4.930477\n",
       "2018-08-18 08:59:59  0.630120  4.785475\n",
       "2018-08-18 09:59:59  0.557099  4.559246\n",
       "2018-08-18 10:59:59  0.615418  4.667157\n",
       "\n",
       "[19439 rows x 2 columns]"
      ]
     },
     "execution_count": 31,
     "metadata": {},
     "output_type": "execute_result"
    }
   ],
   "source": [
    "data['full_filled'].loc[:, ('rougher', 'output', ['tail_pb', 'tail_ag'])]"
   ]
  },
  {
   "cell_type": "markdown",
   "metadata": {},
   "source": [
    "Похоже в данные по свинцу вносили некорректные данные по объему. Похоже на ошибку в десяток. Домножим столбец:"
   ]
  },
  {
   "cell_type": "code",
   "execution_count": 32,
   "metadata": {},
   "outputs": [],
   "source": [
    "anomaly_pb = False"
   ]
  },
  {
   "cell_type": "code",
   "execution_count": 33,
   "metadata": {},
   "outputs": [],
   "source": [
    "if anomaly_pb:\n",
    "    for k in ('train_filled', 'full_filled'):\n",
    "        data[k]['rougher', 'output', 'tail_pb'] = data[k]['rougher', 'output', 'tail_pb'] * 10"
   ]
  },
  {
   "cell_type": "code",
   "execution_count": 34,
   "metadata": {},
   "outputs": [
    {
     "data": {
      "image/png": "[encoded data removed]",
      "text/plain": [
       "<Figure size 576x360 with 1 Axes>"
      ]
     },
     "metadata": {
      "needs_background": "light"
     },
     "output_type": "display_data"
    }
   ],
   "source": [
    "get_kde([data['train_filled']['rougher', 'output', 'tail_pb'],\n",
    "        data['train_filled']['primary_cleaner', 'output', 'tail_pb'],\n",
    "        data['train_filled']['secondary_cleaner', 'output', 'tail_pb'],\n",
    "        data['train_filled']['final', 'output', 'tail_pb']], \n",
    "                legend=['Флотация','Первичная очистка', 'вторичная очистка', 'Финальный концентрат'], title='Свинец хвосты',\n",
    "                x_label='Доля', y_label ='Плотность')"
   ]
  },
  {
   "cell_type": "markdown",
   "metadata": {},
   "source": [
    "Уточнено: Доля свинца до 2% в отвальных хвостах флотации считается нормой. Крректировка не требуется."
   ]
  },
  {
   "cell_type": "markdown",
   "metadata": {},
   "source": [
    "Так-же на всех графиках присутствуют всплески около \"0\" значений на хвостах и основном сырье в первичной и вторичных очистках удалим их:"
   ]
  },
  {
   "cell_type": "code",
   "execution_count": 35,
   "metadata": {},
   "outputs": [
    {
     "data": {
      "text/plain": [
       "primary_cleaner    output  concentrate_au      88\n",
       "                           concentrate_ag      88\n",
       "                           concentrate_pb      88\n",
       "                           concentrate_sol     88\n",
       "                           tail_au             86\n",
       "                           tail_ag             86\n",
       "                           tail_pb             86\n",
       "                           tail_sol            86\n",
       "secondary_cleaner  output  tail_au            661\n",
       "                           tail_ag            661\n",
       "                           tail_pb            661\n",
       "                           tail_sol           691\n",
       "dtype: int64"
      ]
     },
     "execution_count": 35,
     "metadata": {},
     "output_type": "execute_result"
    }
   ],
   "source": [
    "data['train_filled'].loc[:,(['primary_cleaner', 'secondary_cleaner'], 'output')].apply(lambda x: x==0).sum()"
   ]
  },
  {
   "cell_type": "code",
   "execution_count": 36,
   "metadata": {},
   "outputs": [
    {
     "data": {
      "text/plain": [
       "(14018, 86)"
      ]
     },
     "execution_count": 36,
     "metadata": {},
     "output_type": "execute_result"
    }
   ],
   "source": [
    "data['train_filled'].shape"
   ]
  },
  {
   "cell_type": "markdown",
   "metadata": {},
   "source": [
    "много значений имеют состояние 0, 0.01"
   ]
  },
  {
   "cell_type": "code",
   "execution_count": 37,
   "metadata": {},
   "outputs": [],
   "source": [
    "data['train_filled'] = \\\n",
    "data['train_filled'][~data['train_filled']\\\n",
    "    .loc[:,(['primary_cleaner', 'secondary_cleaner'], 'output')]\\\n",
    "    .apply(lambda val: (val==0).any(), axis=1)]"
   ]
  },
  {
   "cell_type": "code",
   "execution_count": 38,
   "metadata": {},
   "outputs": [
    {
     "data": {
      "text/plain": [
       "(13173, 86)"
      ]
     },
     "execution_count": 38,
     "metadata": {},
     "output_type": "execute_result"
    }
   ],
   "source": [
    "data['train_filled'].shape"
   ]
  },
  {
   "cell_type": "markdown",
   "metadata": {},
   "source": [
    "### Распределение размера гранул в выборках"
   ]
  },
  {
   "cell_type": "code",
   "execution_count": 39,
   "metadata": {},
   "outputs": [
    {
     "data": {
      "image/png": "[encoded data removed]",
      "text/plain": [
       "<Figure size 576x360 with 1 Axes>"
      ]
     },
     "metadata": {
      "needs_background": "light"
     },
     "output_type": "display_data"
    }
   ],
   "source": [
    "get_kde([data['train_filled']['rougher', 'input', 'feed_size'],\n",
    "        data['test_filled']['rougher', 'input', 'feed_size']],\n",
    "                legend=['Train', 'Test'], title='Гранулы')"
   ]
  },
  {
   "cell_type": "markdown",
   "metadata": {},
   "source": [
    "С размером гранул все в порядке. Они совпадают, но в данных есть выбросы."
   ]
  },
  {
   "cell_type": "code",
   "execution_count": 40,
   "metadata": {},
   "outputs": [
    {
     "data": {
      "image/png": "[encoded data removed]",
      "text/plain": [
       "<Figure size 432x288 with 1 Axes>"
      ]
     },
     "metadata": {
      "needs_background": "light"
     },
     "output_type": "display_data"
    }
   ],
   "source": [
    "plt.boxplot([data['train_filled']['rougher', 'input', 'feed_size'].dropna(), \n",
    "             data['test_filled']['rougher', 'input', 'feed_size'].dropna()]);\n",
    "plt.xticks([1,2], ['Train', 'Test'])\n",
    "plt.title('Диаграмма размаха размера гранул')\n",
    "plt.show()"
   ]
  },
  {
   "cell_type": "markdown",
   "metadata": {},
   "source": [
    "Гранулы на все 500 ед. Возможно стоит проверять показания. Выбросы есть и в тесте и в трейне."
   ]
  },
  {
   "cell_type": "markdown",
   "metadata": {},
   "source": [
    "### Суммарная концентрация веществ"
   ]
  },
  {
   "cell_type": "code",
   "execution_count": 41,
   "metadata": {},
   "outputs": [
    {
     "data": {
      "image/png": "[encoded data removed]",
      "text/plain": [
       "<Figure size 432x288 with 1 Axes>"
      ]
     },
     "metadata": {
      "needs_background": "light"
     },
     "output_type": "display_data"
    }
   ],
   "source": [
    "data_plot = data['train_filled'].loc[:, (['rougher', 'primary_cleaner', 'final'], ['output'], ['concentrate_au', 'concentrate_ag','concentrate_pb','concentrate_sol'])]\n",
    "data_i_plot = data['train_filled'].loc[:, ('rougher', 'input', ['feed_au', 'feed_ag', 'feed_pb', 'feed_sol',])]\n",
    "data_i_plot.columns = data_i_plot.columns.droplevel(1)\n",
    "data_i_plot = data_i_plot.stack(1)\n",
    "data_plot.columns = data_plot.columns.droplevel(1)\n",
    "data_plot = data_plot.stack(1)\n",
    "data_plot['input'] = data_i_plot['rougher'].to_list()\n",
    "data_plot.reset_index(inplace=True)\n",
    "data_plot.pivot_table(index='level_1', values=('rougher', 'input', 'primary_cleaner', 'final'), \n",
    "                      aggfunc='mean')\\\n",
    "         .transpose()\\\n",
    "         .loc[['final', 'primary_cleaner', 'rougher', 'input'],:]\\\n",
    "         .plot(kind='barh', stacked=True);\n",
    "plt.yticks([3,2,1,0], ['Сырье','Флотация','Первичная очистка','Финальный концентрат']);\n",
    "plt.legend(('Ag', 'Au', 'Pb', 'Sol'));\n",
    "plt.title('Средняя концентрация металлов на этапах очитски');"
   ]
  },
  {
   "cell_type": "code",
   "execution_count": 42,
   "metadata": {},
   "outputs": [
    {
     "data": {
      "image/png": "[encoded data removed]",
      "text/plain": [
       "<Figure size 432x288 with 1 Axes>"
      ]
     },
     "metadata": {
      "needs_background": "light"
     },
     "output_type": "display_data"
    }
   ],
   "source": [
    "sns.histplot(data_plot[data_plot['level_1'] == 'concentrate_ag']);\n",
    "plt.title('Ag');"
   ]
  },
  {
   "cell_type": "code",
   "execution_count": 43,
   "metadata": {},
   "outputs": [
    {
     "data": {
      "image/png": "[encoded data removed]",
      "text/plain": [
       "<Figure size 432x288 with 1 Axes>"
      ]
     },
     "metadata": {
      "needs_background": "light"
     },
     "output_type": "display_data"
    }
   ],
   "source": [
    "sns.histplot(data_plot[data_plot['level_1'] == 'concentrate_au']);\n",
    "plt.title('Au');"
   ]
  },
  {
   "cell_type": "code",
   "execution_count": 44,
   "metadata": {},
   "outputs": [
    {
     "data": {
      "image/png": "[encoded data removed]",
      "text/plain": [
       "<Figure size 432x288 with 1 Axes>"
      ]
     },
     "metadata": {
      "needs_background": "light"
     },
     "output_type": "display_data"
    }
   ],
   "source": [
    "sns.histplot(data_plot[data_plot['level_1'] == 'concentrate_pb']);\n",
    "plt.title('Pb');"
   ]
  },
  {
   "cell_type": "markdown",
   "metadata": {},
   "source": [
    "Через каждый этап концентрация золота все больше и больше."
   ]
  },
  {
   "cell_type": "markdown",
   "metadata": {},
   "source": [
    "* В ходе анализа данных изучена концентрация металлов (Au, Ag, Pb) в сырье, в черновом концентрате, в концентрате после первой очистки и в финальном концентрате. По распределениям наблюдается увеличесние концентрации золота и уменьшения примесей. Выявлены аномальные показания в вторичной и перичной очистке чистового материала и хвостов.\n",
    "* Распределения размеров гранул исходного сырья на обучающей и тестовой выборках совпадают, что позволяет использовать данные для обучения модели\n",
    "* На суммарной концентрации веществ видно как каждый этам очистки равномерно увеличивает концентрацию золота. Свинец слабо выводится только после вторичной очистки. Серебро выводится только на вервичной и вторичной очистке"
   ]
  },
  {
   "cell_type": "markdown",
   "metadata": {},
   "source": [
    "## Модель"
   ]
  },
  {
   "cell_type": "markdown",
   "metadata": {},
   "source": [
    "### Подготовка"
   ]
  },
  {
   "cell_type": "code",
   "execution_count": 45,
   "metadata": {},
   "outputs": [],
   "source": [
    "#Делимся на тренировочные Ху для червноовго и финального концентрата\n",
    "X_train_rougher = data['train_filled'].loc[:,data['test_filled'].columns]\n",
    "Y_train_rougher = data['train_filled']['rougher', 'output', 'recovery']\n",
    "\n",
    "X_train_final = data['train_filled'].loc[:,data['test_filled'].columns]\n",
    "Y_train_final = data['train_filled']['final', 'output', 'recovery']"
   ]
  },
  {
   "cell_type": "code",
   "execution_count": 46,
   "metadata": {},
   "outputs": [],
   "source": [
    "#Масштабирование признаков\n",
    "scaler_rougher = StandardScaler()\n",
    "X_train_rougher = scaler_rougher.fit_transform(X_train_rougher)\n",
    "X_test_rougher = scaler_rougher.transform(data['test_filled'])\n",
    "\n",
    "scaler_final = StandardScaler()\n",
    "X_train_final = scaler_final.fit_transform(X_train_final)\n",
    "X_test_final = scaler_final.transform(data['test_filled'])"
   ]
  },
  {
   "cell_type": "code",
   "execution_count": 47,
   "metadata": {},
   "outputs": [],
   "source": [
    "#Определение моделей и параметров\n",
    "solvers = [RandomForestRegressor(random_state = RND_SEED),\n",
    "    DecisionTreeRegressor(random_state = RND_SEED),\n",
    "    LinearRegression()]"
   ]
  },
  {
   "cell_type": "code",
   "execution_count": 57,
   "metadata": {},
   "outputs": [],
   "source": [
    "params = [    \n",
    "    #RandomForestRegressor\n",
    "    {'n_estimators': range(70,100,10),\n",
    "    'max_depth': [None] + [i for i in range(2, 7)],\n",
    "    },\n",
    "    #DecisionTreeRegressor\n",
    "    {'max_depth': [None] + [i for i in range(2, 7)],\n",
    "    'max_features' : ['sqrt', 'log2', None]\n",
    "    },\n",
    "    #LinearRegression\n",
    "    {\n",
    "    }\n",
    "]"
   ]
  },
  {
   "cell_type": "code",
   "execution_count": 58,
   "metadata": {},
   "outputs": [],
   "source": [
    "# Функция SMAPE\n",
    "def smape(true, pred):\n",
    "    err = abs(true - pred)\n",
    "    scal = (abs(true) + abs(pred))/2\n",
    "    return (err/scal).mean()*100\n",
    "\n",
    "# Функция SMAPE для первого этапа и финального\n",
    "def total_smape(rougher,final,text=''):\n",
    "    print(text, rougher*0.25+final*0.75)\n",
    "    return rougher*0.25+final*0.75"
   ]
  },
  {
   "cell_type": "code",
   "execution_count": 61,
   "metadata": {},
   "outputs": [],
   "source": [
    "#Тренируем модели по сетке\n",
    "def trener(X, y):\n",
    "    models = []\n",
    "    for solver, param in zip(solvers, params):\n",
    "        grid = GridSearchCV(solver, param, cv=5, \n",
    "                            verbose=True, n_jobs=-1, \n",
    "                            scoring=(make_scorer(smape, greater_is_better=False)))\n",
    "        grid.fit(X, y)\n",
    "        models.append(grid)\n",
    "        print(str(solver)[:str(solver).find('(')], -grid.best_score_)\n",
    "    return models"
   ]
  },
  {
   "cell_type": "code",
   "execution_count": 62,
   "metadata": {},
   "outputs": [
    {
     "name": "stdout",
     "output_type": "stream",
     "text": [
      "Fitting 5 folds for each of 18 candidates, totalling 90 fits\n",
      "RandomForestRegressor 6.886378438585568\n",
      "Fitting 5 folds for each of 18 candidates, totalling 90 fits\n",
      "DecisionTreeRegressor 7.321114052044676\n",
      "Fitting 5 folds for each of 1 candidates, totalling 5 fits\n",
      "LinearRegression 6.589418402551973\n",
      "Fitting 5 folds for each of 18 candidates, totalling 90 fits\n",
      "RandomForestRegressor 8.69618045555018\n",
      "Fitting 5 folds for each of 18 candidates, totalling 90 fits\n",
      "DecisionTreeRegressor 8.864654814555161\n",
      "Fitting 5 folds for each of 1 candidates, totalling 5 fits\n",
      "LinearRegression 9.3180951673225\n"
     ]
    }
   ],
   "source": [
    "#создаем списки моделей для целевых признаков\n",
    "models_rougher = trener(X_train_rougher, Y_train_rougher)\n",
    "models_final = trener(X_train_final, Y_train_final)"
   ]
  },
  {
   "cell_type": "code",
   "execution_count": 63,
   "metadata": {
    "scrolled": true
   },
   "outputs": [
    {
     "name": "stdout",
     "output_type": "stream",
     "text": [
      "total sMAPE for:  RandomForestRegressor(random_state=12345)\n",
      " 8.243729951309028\n",
      "total sMAPE for:  DecisionTreeRegressor(random_state=12345)\n",
      " 8.47876962392754\n",
      "total sMAPE for:  LinearRegression()\n",
      " 8.635925976129869\n"
     ]
    }
   ],
   "source": [
    "res = []\n",
    "best_model_idx = np.nan\n",
    "for i in range(len(models_rougher)):\n",
    "    print('total sMAPE for: ', models_rougher[i].estimator)\n",
    "    res.append(total_smape(-models_rougher[i].best_score_,\n",
    "                -models_final[i].best_score_,''))\n",
    "best_model_idx = res.index(min(res))"
   ]
  },
  {
   "cell_type": "markdown",
   "metadata": {},
   "source": [
    "RandomForestRegressor дала лучший итоговый результат. Применим его на тестовой выборке:"
   ]
  },
  {
   "cell_type": "code",
   "execution_count": 64,
   "metadata": {},
   "outputs": [
    {
     "name": "stdout",
     "output_type": "stream",
     "text": [
      "smape для RandomForestRegressor(random_state=12345) : 4.362299140831436  для чернового концентрата\n",
      "smape для RandomForestRegressor(random_state=12345) : 8.564436656235683  для финального концентрата\n",
      "Итоговый sMAPE: 7.513902277384621\n"
     ]
    },
    {
     "data": {
      "text/plain": [
       "7.513902277384621"
      ]
     },
     "execution_count": 64,
     "metadata": {},
     "output_type": "execute_result"
    }
   ],
   "source": [
    "rougher_pred = models_rougher[best_model_idx].predict(X_test_rougher)\n",
    "final_pred = models_final[best_model_idx].predict(X_test_final)\n",
    "res_r = smape(data['full_filled']['rougher', 'output', 'recovery'].loc[data['test_filled'].index], rougher_pred)\n",
    "res_f = smape(data['full_filled']['final', 'output', 'recovery'].loc[data['test_filled'].index], final_pred)\n",
    "print('smape для', models_rougher[best_model_idx].estimator,':', res_r, ' для чернового концентрата')\n",
    "print('smape для', models_final[best_model_idx].estimator, ':', res_f, ' для финального концентрата')\n",
    "total_smape(res_r, res_f, 'Итоговый sMAPE:')"
   ]
  },
  {
   "cell_type": "code",
   "execution_count": 65,
   "metadata": {},
   "outputs": [
    {
     "name": "stdout",
     "output_type": "stream",
     "text": [
      "Итоговый sMAPE для дамми: 8.50864230988464\n"
     ]
    },
    {
     "data": {
      "text/plain": [
       "8.50864230988464"
      ]
     },
     "execution_count": 65,
     "metadata": {},
     "output_type": "execute_result"
    }
   ],
   "source": [
    "dummy_rougher = DummyRegressor(strategy=\"mean\")\n",
    "dummy_rougher.fit(X_train_rougher, Y_train_rougher)\n",
    "dummy_final = DummyRegressor(strategy=\"mean\")\n",
    "dummy_final.fit(X_train_final, Y_train_final)\n",
    "res_r = smape(data['full_filled']['rougher', 'output', 'recovery'].loc[data['test_filled'].index], dummy_rougher.predict(X_test_rougher))\n",
    "res_f = smape(data['full_filled']['final', 'output', 'recovery'].loc[data['test_filled'].index], dummy_final.predict(X_test_final))\n",
    "total_smape(res_r, res_f, 'Итоговый sMAPE для дамми:')"
   ]
  },
  {
   "cell_type": "markdown",
   "metadata": {},
   "source": [
    "sMAPE на тестовой выборке для RFRegressor составил 7.51 \n",
    "\n",
    "Итоговый sMAPE для дамми составил 8.50\n",
    "\n",
    "Модель имеет эфективность ~15% и имеет основание для применения.\n",
    "\n",
    "Для повышения качества модели стоит подобрать дополнительные гиперпараметры для RFRegressor.\n"
   ]
  },
  {
   "cell_type": "markdown",
   "metadata": {},
   "source": [
    "### Вывод"
   ]
  },
  {
   "cell_type": "markdown",
   "metadata": {},
   "source": [
    "- В процессе предобработки данных выявлены пропуски в данных, возможно это вызвано сырыми данными, ошибками в считывании показаний\n",
    "- В Анализе данных обнаружили большое количество анамальных значений 0, такие данные вредят машинному обучению поэтому были удалены. Приода возникновения таких данных, вероятно, связана с природой получения данных в техническом процессе\n",
    "- Запись коцентрации свинца в сырье оказалась не верной, возможно не правильно предствлена доля\n",
    "- Модель Случайного Леса показала лучший результат по итоговой метрике sMAPE для чернового концентрата\n",
    "- Модель Деревья Решений показала лучший результат по итоговой метрике sMAPE для финального концентрата\n",
    "- Для предсказания можно использовать только модель Случайного Леса, она немного хуже предсказывает финальный концентрат\n",
    "- Итоговое sMAPE составил 7.51%\n"
   ]
  }
 ],
 "metadata": {
  "ExecuteTimeLog": [
   {
    "duration": 1481,
    "start_time": "2023-06-19T13:09:07.270Z"
   },
   {
    "duration": 119,
    "start_time": "2023-06-19T13:09:08.753Z"
   },
   {
    "duration": 0,
    "start_time": "2023-06-19T13:09:08.875Z"
   },
   {
    "duration": 0,
    "start_time": "2023-06-19T13:09:08.876Z"
   },
   {
    "duration": 0,
    "start_time": "2023-06-19T13:09:08.878Z"
   },
   {
    "duration": 0,
    "start_time": "2023-06-19T13:09:08.879Z"
   },
   {
    "duration": 0,
    "start_time": "2023-06-19T13:09:08.880Z"
   },
   {
    "duration": 0,
    "start_time": "2023-06-19T13:09:08.882Z"
   },
   {
    "duration": 0,
    "start_time": "2023-06-19T13:09:08.883Z"
   },
   {
    "duration": 0,
    "start_time": "2023-06-19T13:09:08.884Z"
   },
   {
    "duration": 0,
    "start_time": "2023-06-19T13:09:08.886Z"
   },
   {
    "duration": 0,
    "start_time": "2023-06-19T13:09:08.887Z"
   },
   {
    "duration": 0,
    "start_time": "2023-06-19T13:09:08.888Z"
   },
   {
    "duration": 0,
    "start_time": "2023-06-19T13:09:08.889Z"
   },
   {
    "duration": 0,
    "start_time": "2023-06-19T13:09:08.890Z"
   },
   {
    "duration": 0,
    "start_time": "2023-06-19T13:09:08.891Z"
   },
   {
    "duration": 0,
    "start_time": "2023-06-19T13:09:08.892Z"
   },
   {
    "duration": 0,
    "start_time": "2023-06-19T13:09:08.892Z"
   },
   {
    "duration": 0,
    "start_time": "2023-06-19T13:09:08.893Z"
   },
   {
    "duration": 0,
    "start_time": "2023-06-19T13:09:08.894Z"
   },
   {
    "duration": 0,
    "start_time": "2023-06-19T13:09:08.920Z"
   },
   {
    "duration": 0,
    "start_time": "2023-06-19T13:09:08.922Z"
   },
   {
    "duration": 0,
    "start_time": "2023-06-19T13:09:08.922Z"
   },
   {
    "duration": 0,
    "start_time": "2023-06-19T13:09:08.924Z"
   },
   {
    "duration": 0,
    "start_time": "2023-06-19T13:09:08.925Z"
   },
   {
    "duration": 0,
    "start_time": "2023-06-19T13:09:08.926Z"
   },
   {
    "duration": 0,
    "start_time": "2023-06-19T13:09:08.927Z"
   },
   {
    "duration": 0,
    "start_time": "2023-06-19T13:09:08.929Z"
   },
   {
    "duration": 0,
    "start_time": "2023-06-19T13:09:08.930Z"
   },
   {
    "duration": 0,
    "start_time": "2023-06-19T13:09:08.931Z"
   },
   {
    "duration": 0,
    "start_time": "2023-06-19T13:09:08.932Z"
   },
   {
    "duration": 0,
    "start_time": "2023-06-19T13:09:08.934Z"
   },
   {
    "duration": 0,
    "start_time": "2023-06-19T13:09:08.935Z"
   },
   {
    "duration": 0,
    "start_time": "2023-06-19T13:09:08.936Z"
   },
   {
    "duration": 0,
    "start_time": "2023-06-19T13:09:08.938Z"
   },
   {
    "duration": 0,
    "start_time": "2023-06-19T13:09:08.939Z"
   },
   {
    "duration": 0,
    "start_time": "2023-06-19T13:09:08.940Z"
   },
   {
    "duration": 0,
    "start_time": "2023-06-19T13:09:08.941Z"
   },
   {
    "duration": 2097,
    "start_time": "2023-06-19T13:10:42.359Z"
   },
   {
    "duration": 4,
    "start_time": "2023-06-19T13:10:48.042Z"
   },
   {
    "duration": 720,
    "start_time": "2023-06-19T13:10:48.047Z"
   },
   {
    "duration": 65,
    "start_time": "2023-06-19T13:10:48.768Z"
   },
   {
    "duration": 71,
    "start_time": "2023-06-19T13:10:48.835Z"
   },
   {
    "duration": 60,
    "start_time": "2023-06-19T13:10:48.908Z"
   },
   {
    "duration": 2,
    "start_time": "2023-06-19T13:10:48.970Z"
   },
   {
    "duration": 28,
    "start_time": "2023-06-19T13:10:48.973Z"
   },
   {
    "duration": 9,
    "start_time": "2023-06-19T13:10:49.002Z"
   },
   {
    "duration": 20,
    "start_time": "2023-06-19T13:10:49.012Z"
   },
   {
    "duration": 254,
    "start_time": "2023-06-19T13:10:49.035Z"
   },
   {
    "duration": 8,
    "start_time": "2023-06-19T13:10:49.290Z"
   },
   {
    "duration": 10,
    "start_time": "2023-06-19T13:10:49.299Z"
   },
   {
    "duration": 4,
    "start_time": "2023-06-19T13:10:49.319Z"
   },
   {
    "duration": 536,
    "start_time": "2023-06-19T13:10:49.325Z"
   },
   {
    "duration": 11,
    "start_time": "2023-06-19T13:10:49.863Z"
   },
   {
    "duration": 14,
    "start_time": "2023-06-19T13:10:49.875Z"
   },
   {
    "duration": 573,
    "start_time": "2023-06-19T13:10:49.891Z"
   },
   {
    "duration": 8,
    "start_time": "2023-06-19T13:10:50.465Z"
   },
   {
    "duration": 12606,
    "start_time": "2023-06-19T13:10:50.474Z"
   },
   {
    "duration": 9,
    "start_time": "2023-06-19T13:11:03.081Z"
   },
   {
    "duration": 774,
    "start_time": "2023-06-19T13:11:03.092Z"
   },
   {
    "duration": 803,
    "start_time": "2023-06-19T13:11:03.868Z"
   },
   {
    "duration": 811,
    "start_time": "2023-06-19T13:11:04.673Z"
   },
   {
    "duration": 1086,
    "start_time": "2023-06-19T13:11:05.487Z"
   },
   {
    "duration": 1008,
    "start_time": "2023-06-19T13:11:06.574Z"
   },
   {
    "duration": 1098,
    "start_time": "2023-06-19T13:11:07.583Z"
   },
   {
    "duration": 408,
    "start_time": "2023-06-19T13:11:08.683Z"
   },
   {
    "duration": 16,
    "start_time": "2023-06-19T13:11:09.094Z"
   },
   {
    "duration": 0,
    "start_time": "2023-06-19T13:11:09.111Z"
   },
   {
    "duration": 0,
    "start_time": "2023-06-19T13:11:09.120Z"
   },
   {
    "duration": 0,
    "start_time": "2023-06-19T13:11:09.121Z"
   },
   {
    "duration": 0,
    "start_time": "2023-06-19T13:11:09.122Z"
   },
   {
    "duration": 0,
    "start_time": "2023-06-19T13:11:09.123Z"
   },
   {
    "duration": 0,
    "start_time": "2023-06-19T13:11:09.123Z"
   },
   {
    "duration": 0,
    "start_time": "2023-06-19T13:11:09.124Z"
   },
   {
    "duration": 0,
    "start_time": "2023-06-19T13:11:09.125Z"
   },
   {
    "duration": 0,
    "start_time": "2023-06-19T13:11:09.126Z"
   },
   {
    "duration": 0,
    "start_time": "2023-06-19T13:11:09.127Z"
   },
   {
    "duration": 17,
    "start_time": "2023-06-19T13:11:45.479Z"
   },
   {
    "duration": 17,
    "start_time": "2023-06-19T13:11:58.835Z"
   },
   {
    "duration": 17,
    "start_time": "2023-06-19T13:13:23.839Z"
   },
   {
    "duration": 18,
    "start_time": "2023-06-19T13:13:46.252Z"
   },
   {
    "duration": 8,
    "start_time": "2023-06-19T13:13:50.316Z"
   },
   {
    "duration": 16,
    "start_time": "2023-06-19T13:14:11.066Z"
   },
   {
    "duration": 142,
    "start_time": "2023-06-19T13:14:41.971Z"
   },
   {
    "duration": 14,
    "start_time": "2023-06-19T13:14:44.831Z"
   },
   {
    "duration": 84,
    "start_time": "2023-06-19T13:15:15.269Z"
   },
   {
    "duration": 81,
    "start_time": "2023-06-19T13:15:19.998Z"
   },
   {
    "duration": 10,
    "start_time": "2023-06-19T13:15:35.065Z"
   },
   {
    "duration": 86,
    "start_time": "2023-06-19T13:15:47.764Z"
   },
   {
    "duration": 102,
    "start_time": "2023-06-19T13:16:28.721Z"
   },
   {
    "duration": 94,
    "start_time": "2023-06-19T13:16:34.763Z"
   },
   {
    "duration": 81,
    "start_time": "2023-06-19T13:16:40.616Z"
   },
   {
    "duration": 5,
    "start_time": "2023-06-19T13:16:46.511Z"
   },
   {
    "duration": 708,
    "start_time": "2023-06-19T13:16:46.519Z"
   },
   {
    "duration": 69,
    "start_time": "2023-06-19T13:16:47.229Z"
   },
   {
    "duration": 93,
    "start_time": "2023-06-19T13:16:47.301Z"
   },
   {
    "duration": 80,
    "start_time": "2023-06-19T13:16:47.397Z"
   },
   {
    "duration": 3,
    "start_time": "2023-06-19T13:16:47.479Z"
   },
   {
    "duration": 18,
    "start_time": "2023-06-19T13:16:47.483Z"
   },
   {
    "duration": 15,
    "start_time": "2023-06-19T13:16:47.502Z"
   },
   {
    "duration": 5,
    "start_time": "2023-06-19T13:16:47.518Z"
   },
   {
    "duration": 232,
    "start_time": "2023-06-19T13:16:47.524Z"
   },
   {
    "duration": 7,
    "start_time": "2023-06-19T13:16:47.758Z"
   },
   {
    "duration": 20,
    "start_time": "2023-06-19T13:16:47.767Z"
   },
   {
    "duration": 17,
    "start_time": "2023-06-19T13:16:47.791Z"
   },
   {
    "duration": 864,
    "start_time": "2023-06-19T13:16:47.809Z"
   },
   {
    "duration": 11,
    "start_time": "2023-06-19T13:16:48.675Z"
   },
   {
    "duration": 98,
    "start_time": "2023-06-19T13:16:48.688Z"
   },
   {
    "duration": 678,
    "start_time": "2023-06-19T13:16:48.787Z"
   },
   {
    "duration": 8,
    "start_time": "2023-06-19T13:16:49.467Z"
   },
   {
    "duration": 13325,
    "start_time": "2023-06-19T13:16:49.477Z"
   },
   {
    "duration": 18,
    "start_time": "2023-06-19T13:17:02.803Z"
   },
   {
    "duration": 959,
    "start_time": "2023-06-19T13:17:02.822Z"
   },
   {
    "duration": 920,
    "start_time": "2023-06-19T13:17:03.783Z"
   },
   {
    "duration": 1018,
    "start_time": "2023-06-19T13:17:04.704Z"
   },
   {
    "duration": 1066,
    "start_time": "2023-06-19T13:17:05.723Z"
   },
   {
    "duration": 1202,
    "start_time": "2023-06-19T13:17:06.791Z"
   },
   {
    "duration": 1308,
    "start_time": "2023-06-19T13:17:07.995Z"
   },
   {
    "duration": 455,
    "start_time": "2023-06-19T13:17:09.305Z"
   },
   {
    "duration": 112,
    "start_time": "2023-06-19T13:17:09.762Z"
   },
   {
    "duration": 8,
    "start_time": "2023-06-19T13:17:09.876Z"
   },
   {
    "duration": 224,
    "start_time": "2023-06-19T13:17:09.885Z"
   },
   {
    "duration": 99,
    "start_time": "2023-06-19T13:17:10.111Z"
   },
   {
    "duration": 15,
    "start_time": "2023-06-19T13:17:10.212Z"
   },
   {
    "duration": 52,
    "start_time": "2023-06-19T13:17:10.229Z"
   },
   {
    "duration": 4,
    "start_time": "2023-06-19T13:17:10.282Z"
   },
   {
    "duration": 16,
    "start_time": "2023-06-19T13:17:10.287Z"
   },
   {
    "duration": 41,
    "start_time": "2023-06-19T13:17:10.305Z"
   },
   {
    "duration": 125055,
    "start_time": "2023-06-19T13:17:10.350Z"
   },
   {
    "duration": 0,
    "start_time": "2023-06-19T13:19:15.407Z"
   },
   {
    "duration": 0,
    "start_time": "2023-06-19T13:19:15.409Z"
   },
   {
    "duration": 4,
    "start_time": "2023-06-19T13:19:16.922Z"
   },
   {
    "duration": 3,
    "start_time": "2023-06-19T13:19:17.274Z"
   },
   {
    "duration": 6,
    "start_time": "2023-06-19T13:19:17.548Z"
   },
   {
    "duration": 431814,
    "start_time": "2023-06-19T13:19:17.922Z"
   },
   {
    "duration": 47,
    "start_time": "2023-06-19T13:28:39.489Z"
   },
   {
    "duration": 16,
    "start_time": "2023-06-19T13:28:40.343Z"
   },
   {
    "duration": 4,
    "start_time": "2023-06-19T13:29:37.436Z"
   },
   {
    "duration": 5,
    "start_time": "2023-06-19T13:29:37.962Z"
   },
   {
    "duration": 398116,
    "start_time": "2023-06-19T13:29:38.512Z"
   },
   {
    "duration": 293,
    "start_time": "2023-06-19T13:36:16.630Z"
   },
   {
    "duration": 197,
    "start_time": "2023-06-19T13:36:16.925Z"
   },
   {
    "duration": 7,
    "start_time": "2023-06-19T13:36:17.124Z"
   },
   {
    "duration": 4,
    "start_time": "2023-06-19T13:37:24.463Z"
   },
   {
    "duration": 3,
    "start_time": "2023-06-19T13:37:30.015Z"
   },
   {
    "duration": 39,
    "start_time": "2023-06-19T13:37:33.794Z"
   },
   {
    "duration": 278,
    "start_time": "2023-06-19T13:37:34.367Z"
   },
   {
    "duration": 4,
    "start_time": "2023-06-19T13:38:14.406Z"
   },
   {
    "duration": 4,
    "start_time": "2023-06-19T13:38:15.840Z"
   },
   {
    "duration": 44,
    "start_time": "2023-06-19T13:38:19.168Z"
   },
   {
    "duration": 18,
    "start_time": "2023-06-19T13:38:19.957Z"
   },
   {
    "duration": 3,
    "start_time": "2023-06-19T13:44:44.701Z"
   },
   {
    "duration": 3,
    "start_time": "2023-06-19T13:44:49.592Z"
   },
   {
    "duration": 43,
    "start_time": "2023-06-19T13:44:53.330Z"
   },
   {
    "duration": 16,
    "start_time": "2023-06-19T13:44:53.913Z"
   },
   {
    "duration": 5,
    "start_time": "2023-06-19T13:48:50.300Z"
   },
   {
    "duration": 126,
    "start_time": "2023-06-19T13:48:55.094Z"
   },
   {
    "duration": 27,
    "start_time": "2023-06-19T13:48:55.506Z"
   },
   {
    "duration": 3,
    "start_time": "2023-06-19T13:49:17.320Z"
   },
   {
    "duration": 44,
    "start_time": "2023-06-19T13:49:20.533Z"
   },
   {
    "duration": 93,
    "start_time": "2023-06-19T13:49:21.268Z"
   },
   {
    "duration": 4,
    "start_time": "2023-06-19T13:49:47.170Z"
   },
   {
    "duration": 78,
    "start_time": "2023-06-19T13:49:49.948Z"
   },
   {
    "duration": 22,
    "start_time": "2023-06-19T13:49:51.188Z"
   },
   {
    "duration": 3,
    "start_time": "2023-06-19T13:53:20.495Z"
   },
   {
    "duration": 45,
    "start_time": "2023-06-19T13:53:23.889Z"
   },
   {
    "duration": 19,
    "start_time": "2023-06-19T13:53:24.230Z"
   },
   {
    "duration": 4,
    "start_time": "2023-06-19T13:53:43.816Z"
   },
   {
    "duration": 81,
    "start_time": "2023-06-19T13:53:46.440Z"
   },
   {
    "duration": 17,
    "start_time": "2023-06-19T13:53:46.800Z"
   },
   {
    "duration": 3,
    "start_time": "2023-06-19T13:55:53.631Z"
   },
   {
    "duration": 4,
    "start_time": "2023-06-19T13:55:54.082Z"
   },
   {
    "duration": 112,
    "start_time": "2023-06-19T13:55:56.911Z"
   },
   {
    "duration": 23,
    "start_time": "2023-06-19T13:55:57.351Z"
   },
   {
    "duration": 4,
    "start_time": "2023-06-19T13:56:16.985Z"
   },
   {
    "duration": 3,
    "start_time": "2023-06-19T13:56:26.132Z"
   },
   {
    "duration": 143,
    "start_time": "2023-06-19T13:56:28.576Z"
   },
   {
    "duration": 16,
    "start_time": "2023-06-19T13:56:28.977Z"
   },
   {
    "duration": 4,
    "start_time": "2023-06-19T13:56:39.293Z"
   },
   {
    "duration": 43,
    "start_time": "2023-06-19T13:56:42.279Z"
   },
   {
    "duration": 18,
    "start_time": "2023-06-19T13:56:42.764Z"
   },
   {
    "duration": 3,
    "start_time": "2023-06-19T13:57:53.555Z"
   },
   {
    "duration": 4,
    "start_time": "2023-06-19T13:57:55.742Z"
   },
   {
    "duration": 46,
    "start_time": "2023-06-19T13:57:58.318Z"
   },
   {
    "duration": 22,
    "start_time": "2023-06-19T13:57:58.795Z"
   },
   {
    "duration": 4,
    "start_time": "2023-06-19T13:59:02.378Z"
   },
   {
    "duration": 52,
    "start_time": "2023-06-19T13:59:05.299Z"
   },
   {
    "duration": 179,
    "start_time": "2023-06-19T13:59:05.355Z"
   },
   {
    "duration": 4,
    "start_time": "2023-06-19T13:59:15.686Z"
   },
   {
    "duration": 3,
    "start_time": "2023-06-19T14:01:19.866Z"
   },
   {
    "duration": 4,
    "start_time": "2023-06-19T14:01:20.393Z"
   },
   {
    "duration": 144,
    "start_time": "2023-06-19T14:01:22.878Z"
   },
   {
    "duration": 17,
    "start_time": "2023-06-19T14:01:27.939Z"
   },
   {
    "duration": 3,
    "start_time": "2023-06-19T14:02:14.593Z"
   },
   {
    "duration": 3,
    "start_time": "2023-06-19T14:02:15.204Z"
   },
   {
    "duration": 419276,
    "start_time": "2023-06-19T14:02:15.550Z"
   },
   {
    "duration": 292,
    "start_time": "2023-06-19T14:09:14.828Z"
   },
   {
    "duration": 119,
    "start_time": "2023-06-19T14:09:15.122Z"
   },
   {
    "duration": 60,
    "start_time": "2023-06-19T14:10:56.763Z"
   },
   {
    "duration": 10,
    "start_time": "2023-06-19T14:11:50.283Z"
   },
   {
    "duration": 5,
    "start_time": "2023-06-19T14:12:09.342Z"
   },
   {
    "duration": 6,
    "start_time": "2023-06-19T14:12:31.024Z"
   },
   {
    "duration": 5,
    "start_time": "2023-06-19T14:12:34.009Z"
   },
   {
    "duration": 5,
    "start_time": "2023-06-19T14:12:39.736Z"
   },
   {
    "duration": 6,
    "start_time": "2023-06-19T14:12:45.612Z"
   },
   {
    "duration": 3,
    "start_time": "2023-06-19T14:12:47.236Z"
   },
   {
    "duration": 3,
    "start_time": "2023-06-19T14:13:27.533Z"
   },
   {
    "duration": 4,
    "start_time": "2023-06-19T14:13:28.134Z"
   },
   {
    "duration": 62922,
    "start_time": "2023-06-19T14:13:28.565Z"
   },
   {
    "duration": 0,
    "start_time": "2023-06-19T14:14:31.489Z"
   },
   {
    "duration": 0,
    "start_time": "2023-06-19T14:14:31.490Z"
   },
   {
    "duration": 0,
    "start_time": "2023-06-19T14:14:31.491Z"
   },
   {
    "duration": 3,
    "start_time": "2023-06-19T14:14:32.311Z"
   },
   {
    "duration": 4,
    "start_time": "2023-06-19T14:14:35.380Z"
   },
   {
    "duration": 685,
    "start_time": "2023-06-19T14:14:35.386Z"
   },
   {
    "duration": 54,
    "start_time": "2023-06-19T14:14:36.073Z"
   },
   {
    "duration": 40,
    "start_time": "2023-06-19T14:14:36.129Z"
   },
   {
    "duration": 65,
    "start_time": "2023-06-19T14:14:36.171Z"
   },
   {
    "duration": 3,
    "start_time": "2023-06-19T14:14:36.237Z"
   },
   {
    "duration": 27,
    "start_time": "2023-06-19T14:14:36.242Z"
   },
   {
    "duration": 28,
    "start_time": "2023-06-19T14:14:36.271Z"
   },
   {
    "duration": 8,
    "start_time": "2023-06-19T14:14:36.300Z"
   },
   {
    "duration": 226,
    "start_time": "2023-06-19T14:14:36.310Z"
   },
   {
    "duration": 8,
    "start_time": "2023-06-19T14:14:36.537Z"
   },
   {
    "duration": 17,
    "start_time": "2023-06-19T14:14:36.546Z"
   },
   {
    "duration": 23,
    "start_time": "2023-06-19T14:14:36.566Z"
   },
   {
    "duration": 567,
    "start_time": "2023-06-19T14:14:36.591Z"
   },
   {
    "duration": 13,
    "start_time": "2023-06-19T14:14:37.160Z"
   },
   {
    "duration": 92,
    "start_time": "2023-06-19T14:14:37.175Z"
   },
   {
    "duration": 580,
    "start_time": "2023-06-19T14:14:37.268Z"
   },
   {
    "duration": 8,
    "start_time": "2023-06-19T14:14:37.850Z"
   },
   {
    "duration": 11926,
    "start_time": "2023-06-19T14:14:37.859Z"
   },
   {
    "duration": 9,
    "start_time": "2023-06-19T14:14:49.787Z"
   },
   {
    "duration": 767,
    "start_time": "2023-06-19T14:14:49.798Z"
   },
   {
    "duration": 814,
    "start_time": "2023-06-19T14:14:50.566Z"
   },
   {
    "duration": 785,
    "start_time": "2023-06-19T14:14:51.382Z"
   },
   {
    "duration": 1009,
    "start_time": "2023-06-19T14:14:52.168Z"
   },
   {
    "duration": 985,
    "start_time": "2023-06-19T14:14:53.179Z"
   },
   {
    "duration": 1004,
    "start_time": "2023-06-19T14:14:54.166Z"
   },
   {
    "duration": 422,
    "start_time": "2023-06-19T14:14:55.172Z"
   },
   {
    "duration": 115,
    "start_time": "2023-06-19T14:14:55.596Z"
   },
   {
    "duration": 77,
    "start_time": "2023-06-19T14:14:55.713Z"
   },
   {
    "duration": 217,
    "start_time": "2023-06-19T14:14:55.791Z"
   },
   {
    "duration": 14,
    "start_time": "2023-06-19T14:14:56.009Z"
   },
   {
    "duration": 254,
    "start_time": "2023-06-19T14:14:56.025Z"
   },
   {
    "duration": 3,
    "start_time": "2023-06-19T14:14:56.281Z"
   },
   {
    "duration": 20,
    "start_time": "2023-06-19T14:14:56.286Z"
   },
   {
    "duration": 10,
    "start_time": "2023-06-19T14:14:56.307Z"
   },
   {
    "duration": 404726,
    "start_time": "2023-06-19T14:14:56.318Z"
   },
   {
    "duration": 128,
    "start_time": "2023-06-19T14:21:41.122Z"
   },
   {
    "duration": 175,
    "start_time": "2023-06-19T14:21:41.252Z"
   },
   {
    "duration": 1272,
    "start_time": "2023-06-20T06:38:23.917Z"
   },
   {
    "duration": 828,
    "start_time": "2023-06-20T06:38:25.191Z"
   },
   {
    "duration": 77,
    "start_time": "2023-06-20T06:38:26.021Z"
   },
   {
    "duration": 46,
    "start_time": "2023-06-20T06:38:26.099Z"
   },
   {
    "duration": 84,
    "start_time": "2023-06-20T06:38:26.147Z"
   },
   {
    "duration": 3,
    "start_time": "2023-06-20T06:38:26.232Z"
   },
   {
    "duration": 5,
    "start_time": "2023-06-20T06:38:26.237Z"
   },
   {
    "duration": 25,
    "start_time": "2023-06-20T06:38:26.244Z"
   },
   {
    "duration": 9,
    "start_time": "2023-06-20T06:38:26.271Z"
   },
   {
    "duration": 259,
    "start_time": "2023-06-20T06:38:26.281Z"
   },
   {
    "duration": 66,
    "start_time": "2023-06-20T06:38:32.441Z"
   },
   {
    "duration": 3,
    "start_time": "2023-06-20T06:39:08.934Z"
   },
   {
    "duration": 740,
    "start_time": "2023-06-20T06:39:08.939Z"
   },
   {
    "duration": 60,
    "start_time": "2023-06-20T06:39:09.681Z"
   },
   {
    "duration": 48,
    "start_time": "2023-06-20T06:39:09.743Z"
   },
   {
    "duration": 56,
    "start_time": "2023-06-20T06:39:09.792Z"
   },
   {
    "duration": 19,
    "start_time": "2023-06-20T06:39:09.849Z"
   },
   {
    "duration": 2,
    "start_time": "2023-06-20T06:39:09.870Z"
   },
   {
    "duration": 4,
    "start_time": "2023-06-20T06:39:09.874Z"
   },
   {
    "duration": 4,
    "start_time": "2023-06-20T06:39:09.879Z"
   },
   {
    "duration": 233,
    "start_time": "2023-06-20T06:39:09.884Z"
   },
   {
    "duration": 0,
    "start_time": "2023-06-20T06:39:10.118Z"
   },
   {
    "duration": 1310,
    "start_time": "2023-06-20T06:39:24.565Z"
   },
   {
    "duration": 778,
    "start_time": "2023-06-20T06:39:25.877Z"
   },
   {
    "duration": 72,
    "start_time": "2023-06-20T06:39:26.656Z"
   },
   {
    "duration": 54,
    "start_time": "2023-06-20T06:39:26.730Z"
   },
   {
    "duration": 58,
    "start_time": "2023-06-20T06:39:26.786Z"
   },
   {
    "duration": 3,
    "start_time": "2023-06-20T06:39:26.845Z"
   },
   {
    "duration": 21,
    "start_time": "2023-06-20T06:39:26.849Z"
   },
   {
    "duration": 5,
    "start_time": "2023-06-20T06:39:26.871Z"
   },
   {
    "duration": 4,
    "start_time": "2023-06-20T06:39:26.877Z"
   },
   {
    "duration": 245,
    "start_time": "2023-06-20T06:39:26.883Z"
   },
   {
    "duration": 71,
    "start_time": "2023-06-20T06:39:27.130Z"
   },
   {
    "duration": 45,
    "start_time": "2023-06-20T06:40:53.182Z"
   },
   {
    "duration": 1321,
    "start_time": "2023-06-20T06:56:21.887Z"
   },
   {
    "duration": 850,
    "start_time": "2023-06-20T06:56:23.209Z"
   },
   {
    "duration": 78,
    "start_time": "2023-06-20T06:56:24.061Z"
   },
   {
    "duration": 58,
    "start_time": "2023-06-20T06:56:24.141Z"
   },
   {
    "duration": 82,
    "start_time": "2023-06-20T06:56:24.203Z"
   },
   {
    "duration": 2,
    "start_time": "2023-06-20T06:56:24.287Z"
   },
   {
    "duration": 11,
    "start_time": "2023-06-20T06:56:24.291Z"
   },
   {
    "duration": 7,
    "start_time": "2023-06-20T06:56:24.303Z"
   },
   {
    "duration": 9,
    "start_time": "2023-06-20T06:56:24.312Z"
   },
   {
    "duration": 270,
    "start_time": "2023-06-20T06:56:24.322Z"
   },
   {
    "duration": 49,
    "start_time": "2023-06-20T06:56:24.594Z"
   },
   {
    "duration": 23,
    "start_time": "2023-06-20T06:56:24.646Z"
   },
   {
    "duration": 6,
    "start_time": "2023-06-20T06:56:24.671Z"
   },
   {
    "duration": 103,
    "start_time": "2023-06-20T06:56:32.657Z"
   },
   {
    "duration": 1330,
    "start_time": "2023-06-20T07:02:24.664Z"
   },
   {
    "duration": 824,
    "start_time": "2023-06-20T07:02:25.995Z"
   },
   {
    "duration": 80,
    "start_time": "2023-06-20T07:02:26.821Z"
   },
   {
    "duration": 50,
    "start_time": "2023-06-20T07:02:26.903Z"
   },
   {
    "duration": 66,
    "start_time": "2023-06-20T07:02:26.970Z"
   },
   {
    "duration": 2,
    "start_time": "2023-06-20T07:02:27.038Z"
   },
   {
    "duration": 33,
    "start_time": "2023-06-20T07:02:27.042Z"
   },
   {
    "duration": 9,
    "start_time": "2023-06-20T07:02:27.077Z"
   },
   {
    "duration": 5,
    "start_time": "2023-06-20T07:02:27.089Z"
   },
   {
    "duration": 298,
    "start_time": "2023-06-20T07:02:27.096Z"
   },
   {
    "duration": 13,
    "start_time": "2023-06-20T07:02:27.395Z"
   },
   {
    "duration": 6,
    "start_time": "2023-06-20T07:02:27.409Z"
   },
   {
    "duration": 111,
    "start_time": "2023-06-20T07:02:27.416Z"
   },
   {
    "duration": 4,
    "start_time": "2023-06-20T07:02:27.530Z"
   },
   {
    "duration": 603,
    "start_time": "2023-06-20T07:02:27.536Z"
   },
   {
    "duration": 11,
    "start_time": "2023-06-20T07:02:28.141Z"
   },
   {
    "duration": 32,
    "start_time": "2023-06-20T07:02:28.154Z"
   },
   {
    "duration": 736,
    "start_time": "2023-06-20T07:02:28.188Z"
   },
   {
    "duration": 8,
    "start_time": "2023-06-20T07:02:28.926Z"
   },
   {
    "duration": 25814,
    "start_time": "2023-06-20T07:02:28.936Z"
   },
   {
    "duration": 17,
    "start_time": "2023-06-20T07:02:54.752Z"
   },
   {
    "duration": 759,
    "start_time": "2023-06-20T07:02:54.771Z"
   },
   {
    "duration": 818,
    "start_time": "2023-06-20T07:02:55.532Z"
   },
   {
    "duration": 1008,
    "start_time": "2023-06-20T07:02:56.351Z"
   },
   {
    "duration": 1083,
    "start_time": "2023-06-20T07:02:57.360Z"
   },
   {
    "duration": 989,
    "start_time": "2023-06-20T07:02:58.444Z"
   },
   {
    "duration": 1026,
    "start_time": "2023-06-20T07:02:59.435Z"
   },
   {
    "duration": 389,
    "start_time": "2023-06-20T07:03:00.469Z"
   },
   {
    "duration": 103,
    "start_time": "2023-06-20T07:03:00.859Z"
   },
   {
    "duration": 12,
    "start_time": "2023-06-20T07:03:00.975Z"
   },
   {
    "duration": 236,
    "start_time": "2023-06-20T07:03:00.989Z"
   },
   {
    "duration": 10,
    "start_time": "2023-06-20T07:03:01.226Z"
   },
   {
    "duration": 54,
    "start_time": "2023-06-20T07:03:27.404Z"
   },
   {
    "duration": 72,
    "start_time": "2023-06-20T07:03:32.252Z"
   },
   {
    "duration": 5,
    "start_time": "2023-06-20T07:05:01.064Z"
   },
   {
    "duration": 4,
    "start_time": "2023-06-20T07:05:08.783Z"
   },
   {
    "duration": 70,
    "start_time": "2023-06-20T08:22:01.766Z"
   },
   {
    "duration": 3,
    "start_time": "2023-06-20T08:22:04.821Z"
   },
   {
    "duration": 8,
    "start_time": "2023-06-20T08:22:05.397Z"
   },
   {
    "duration": 1617,
    "start_time": "2023-06-20T08:22:09.086Z"
   },
   {
    "duration": 2348,
    "start_time": "2023-06-20T08:22:10.704Z"
   },
   {
    "duration": 66,
    "start_time": "2023-06-20T08:22:13.053Z"
   },
   {
    "duration": 51,
    "start_time": "2023-06-20T08:22:13.121Z"
   },
   {
    "duration": 78,
    "start_time": "2023-06-20T08:22:13.175Z"
   },
   {
    "duration": 3,
    "start_time": "2023-06-20T08:22:13.254Z"
   },
   {
    "duration": 7,
    "start_time": "2023-06-20T08:22:13.258Z"
   },
   {
    "duration": 11,
    "start_time": "2023-06-20T08:22:13.267Z"
   },
   {
    "duration": 16,
    "start_time": "2023-06-20T08:22:13.279Z"
   },
   {
    "duration": 266,
    "start_time": "2023-06-20T08:22:13.297Z"
   },
   {
    "duration": 8,
    "start_time": "2023-06-20T08:22:13.565Z"
   },
   {
    "duration": 14,
    "start_time": "2023-06-20T08:22:13.575Z"
   },
   {
    "duration": 13,
    "start_time": "2023-06-20T08:22:13.591Z"
   },
   {
    "duration": 634,
    "start_time": "2023-06-20T08:22:16.936Z"
   },
   {
    "duration": 83,
    "start_time": "2023-06-20T08:22:30.617Z"
   },
   {
    "duration": 4,
    "start_time": "2023-06-20T08:22:49.047Z"
   },
   {
    "duration": 12,
    "start_time": "2023-06-20T08:22:49.380Z"
   },
   {
    "duration": 4,
    "start_time": "2023-06-20T08:23:15.519Z"
   },
   {
    "duration": 759,
    "start_time": "2023-06-20T08:23:15.891Z"
   },
   {
    "duration": 613,
    "start_time": "2023-06-20T08:48:05.258Z"
   },
   {
    "duration": 673,
    "start_time": "2023-06-20T08:48:36.693Z"
   },
   {
    "duration": 561,
    "start_time": "2023-06-20T08:48:50.922Z"
   },
   {
    "duration": 557,
    "start_time": "2023-06-20T08:49:08.924Z"
   },
   {
    "duration": 12,
    "start_time": "2023-06-20T08:49:10.490Z"
   },
   {
    "duration": 13,
    "start_time": "2023-06-20T08:49:11.206Z"
   },
   {
    "duration": 500,
    "start_time": "2023-06-20T08:49:11.865Z"
   },
   {
    "duration": 5332,
    "start_time": "2023-06-20T08:51:06.372Z"
   },
   {
    "duration": 5281,
    "start_time": "2023-06-20T08:51:30.499Z"
   },
   {
    "duration": 5331,
    "start_time": "2023-06-20T08:51:51.710Z"
   },
   {
    "duration": 5376,
    "start_time": "2023-06-20T08:53:24.945Z"
   },
   {
    "duration": 13,
    "start_time": "2023-06-20T08:53:42.774Z"
   },
   {
    "duration": 5187,
    "start_time": "2023-06-20T08:54:20.218Z"
   },
   {
    "duration": 9,
    "start_time": "2023-06-20T08:55:23.473Z"
   },
   {
    "duration": 9,
    "start_time": "2023-06-20T08:55:29.009Z"
   },
   {
    "duration": 548,
    "start_time": "2023-06-20T08:58:20.575Z"
   },
   {
    "duration": 8,
    "start_time": "2023-06-20T08:58:23.453Z"
   },
   {
    "duration": 638,
    "start_time": "2023-06-20T08:58:41.361Z"
   },
   {
    "duration": 706,
    "start_time": "2023-06-20T08:58:53.775Z"
   },
   {
    "duration": 7,
    "start_time": "2023-06-20T08:58:54.483Z"
   },
   {
    "duration": 663,
    "start_time": "2023-06-20T08:59:02.335Z"
   },
   {
    "duration": 6,
    "start_time": "2023-06-20T08:59:03.000Z"
   },
   {
    "duration": 674,
    "start_time": "2023-06-20T08:59:07.178Z"
   },
   {
    "duration": 8,
    "start_time": "2023-06-20T08:59:07.853Z"
   },
   {
    "duration": 647,
    "start_time": "2023-06-20T08:59:15.887Z"
   },
   {
    "duration": 9,
    "start_time": "2023-06-20T08:59:16.537Z"
   },
   {
    "duration": 22,
    "start_time": "2023-06-20T08:59:30.738Z"
   },
   {
    "duration": 672,
    "start_time": "2023-06-20T08:59:41.045Z"
   },
   {
    "duration": 14,
    "start_time": "2023-06-20T08:59:41.915Z"
   },
   {
    "duration": 45,
    "start_time": "2023-06-20T09:01:45.210Z"
   },
   {
    "duration": 11,
    "start_time": "2023-06-20T09:01:45.689Z"
   },
   {
    "duration": 44,
    "start_time": "2023-06-20T09:01:54.339Z"
   },
   {
    "duration": 9,
    "start_time": "2023-06-20T09:01:55.006Z"
   },
   {
    "duration": 2,
    "start_time": "2023-06-20T09:02:00.745Z"
   },
   {
    "duration": 3,
    "start_time": "2023-06-20T09:02:14.872Z"
   },
   {
    "duration": 74,
    "start_time": "2023-06-20T09:02:15.497Z"
   },
   {
    "duration": 45,
    "start_time": "2023-06-20T09:02:19.398Z"
   },
   {
    "duration": 5328,
    "start_time": "2023-06-20T09:04:00.909Z"
   },
   {
    "duration": 73,
    "start_time": "2023-06-20T09:04:06.239Z"
   },
   {
    "duration": 60,
    "start_time": "2023-06-20T09:04:25.480Z"
   },
   {
    "duration": 76,
    "start_time": "2023-06-20T09:04:35.174Z"
   },
   {
    "duration": 101,
    "start_time": "2023-06-20T09:04:43.095Z"
   },
   {
    "duration": 9,
    "start_time": "2023-06-20T09:04:55.902Z"
   },
   {
    "duration": 78,
    "start_time": "2023-06-20T09:07:19.004Z"
   },
   {
    "duration": 5,
    "start_time": "2023-06-20T09:07:41.341Z"
   },
   {
    "duration": 14,
    "start_time": "2023-06-20T09:07:46.749Z"
   },
   {
    "duration": 3,
    "start_time": "2023-06-20T09:07:52.471Z"
   },
   {
    "duration": 44,
    "start_time": "2023-06-20T09:07:52.724Z"
   },
   {
    "duration": 3516,
    "start_time": "2023-06-20T09:07:53.056Z"
   },
   {
    "duration": 6,
    "start_time": "2023-06-20T09:08:33.854Z"
   },
   {
    "duration": 129,
    "start_time": "2023-06-20T09:13:59.083Z"
   },
   {
    "duration": 926,
    "start_time": "2023-06-20T09:14:45.949Z"
   },
   {
    "duration": 939,
    "start_time": "2023-06-20T09:15:24.056Z"
   },
   {
    "duration": 1080,
    "start_time": "2023-06-20T09:16:04.735Z"
   },
   {
    "duration": 977,
    "start_time": "2023-06-20T09:16:40.306Z"
   },
   {
    "duration": 958,
    "start_time": "2023-06-20T09:17:28.041Z"
   },
   {
    "duration": 952,
    "start_time": "2023-06-20T09:18:03.633Z"
   },
   {
    "duration": 1029,
    "start_time": "2023-06-20T09:20:17.081Z"
   },
   {
    "duration": 1144,
    "start_time": "2023-06-20T09:20:18.113Z"
   },
   {
    "duration": 1243,
    "start_time": "2023-06-20T09:20:19.259Z"
   },
   {
    "duration": 20,
    "start_time": "2023-06-20T09:21:59.520Z"
   },
   {
    "duration": 119,
    "start_time": "2023-06-20T09:23:57.975Z"
   },
   {
    "duration": 101,
    "start_time": "2023-06-20T09:24:05.438Z"
   },
   {
    "duration": 85,
    "start_time": "2023-06-20T09:24:08.567Z"
   },
   {
    "duration": 197,
    "start_time": "2023-06-20T09:24:15.662Z"
   },
   {
    "duration": 148,
    "start_time": "2023-06-20T09:24:19.366Z"
   },
   {
    "duration": 98,
    "start_time": "2023-06-20T09:24:36.802Z"
   },
   {
    "duration": 80,
    "start_time": "2023-06-20T09:24:43.500Z"
   },
   {
    "duration": 179,
    "start_time": "2023-06-20T09:24:46.886Z"
   },
   {
    "duration": 37,
    "start_time": "2023-06-20T09:25:07.108Z"
   },
   {
    "duration": 14,
    "start_time": "2023-06-20T09:26:07.103Z"
   },
   {
    "duration": 22,
    "start_time": "2023-06-20T09:26:18.231Z"
   },
   {
    "duration": 91,
    "start_time": "2023-06-20T09:26:23.041Z"
   },
   {
    "duration": 22,
    "start_time": "2023-06-20T09:27:01.690Z"
   },
   {
    "duration": 26,
    "start_time": "2023-06-20T09:27:11.585Z"
   },
   {
    "duration": 15,
    "start_time": "2023-06-20T09:27:46.881Z"
   },
   {
    "duration": 22,
    "start_time": "2023-06-20T09:28:01.617Z"
   },
   {
    "duration": 26,
    "start_time": "2023-06-20T09:28:40.048Z"
   },
   {
    "duration": 1420,
    "start_time": "2023-06-20T09:29:08.113Z"
   },
   {
    "duration": 28,
    "start_time": "2023-06-20T09:29:15.616Z"
   },
   {
    "duration": 25,
    "start_time": "2023-06-20T09:29:49.532Z"
   },
   {
    "duration": 131,
    "start_time": "2023-06-20T09:31:34.726Z"
   },
   {
    "duration": 240,
    "start_time": "2023-06-20T09:31:49.839Z"
   },
   {
    "duration": 148,
    "start_time": "2023-06-20T09:32:59.344Z"
   },
   {
    "duration": 94,
    "start_time": "2023-06-20T09:33:03.651Z"
   },
   {
    "duration": 3451,
    "start_time": "2023-06-20T09:34:32.020Z"
   },
   {
    "duration": 7,
    "start_time": "2023-06-20T09:35:04.239Z"
   },
   {
    "duration": 1082,
    "start_time": "2023-06-20T09:35:06.485Z"
   },
   {
    "duration": 5,
    "start_time": "2023-06-20T09:35:30.575Z"
   },
   {
    "duration": 875,
    "start_time": "2023-06-20T09:35:30.581Z"
   },
   {
    "duration": 67,
    "start_time": "2023-06-20T09:35:31.458Z"
   },
   {
    "duration": 143,
    "start_time": "2023-06-20T09:35:31.527Z"
   },
   {
    "duration": 86,
    "start_time": "2023-06-20T09:35:31.672Z"
   },
   {
    "duration": 7,
    "start_time": "2023-06-20T09:35:31.760Z"
   },
   {
    "duration": 28,
    "start_time": "2023-06-20T09:35:31.768Z"
   },
   {
    "duration": 37,
    "start_time": "2023-06-20T09:35:31.798Z"
   },
   {
    "duration": 55,
    "start_time": "2023-06-20T09:35:31.839Z"
   },
   {
    "duration": 265,
    "start_time": "2023-06-20T09:35:31.895Z"
   },
   {
    "duration": 8,
    "start_time": "2023-06-20T09:35:32.162Z"
   },
   {
    "duration": 50,
    "start_time": "2023-06-20T09:35:32.172Z"
   },
   {
    "duration": 30,
    "start_time": "2023-06-20T09:35:32.227Z"
   },
   {
    "duration": 615,
    "start_time": "2023-06-20T09:35:32.259Z"
   },
   {
    "duration": 10,
    "start_time": "2023-06-20T09:35:32.875Z"
   },
   {
    "duration": 62,
    "start_time": "2023-06-20T09:35:32.887Z"
   },
   {
    "duration": 603,
    "start_time": "2023-06-20T09:35:32.952Z"
   },
   {
    "duration": 8,
    "start_time": "2023-06-20T09:35:33.557Z"
   },
   {
    "duration": 5476,
    "start_time": "2023-06-20T09:35:33.566Z"
   },
   {
    "duration": 3,
    "start_time": "2023-06-20T09:35:39.044Z"
   },
   {
    "duration": 81,
    "start_time": "2023-06-20T09:35:39.049Z"
   },
   {
    "duration": 3631,
    "start_time": "2023-06-20T09:35:39.135Z"
   },
   {
    "duration": 7,
    "start_time": "2023-06-20T09:35:42.768Z"
   },
   {
    "duration": 1102,
    "start_time": "2023-06-20T09:35:42.779Z"
   },
   {
    "duration": 1002,
    "start_time": "2023-06-20T09:35:43.882Z"
   },
   {
    "duration": 1051,
    "start_time": "2023-06-20T09:35:44.885Z"
   },
   {
    "duration": 943,
    "start_time": "2023-06-20T09:35:45.937Z"
   },
   {
    "duration": 1011,
    "start_time": "2023-06-20T09:35:46.882Z"
   },
   {
    "duration": 1086,
    "start_time": "2023-06-20T09:35:47.894Z"
   },
   {
    "duration": 16,
    "start_time": "2023-06-20T09:35:48.981Z"
   },
   {
    "duration": 37,
    "start_time": "2023-06-20T09:35:48.998Z"
   },
   {
    "duration": 18,
    "start_time": "2023-06-20T09:35:49.037Z"
   },
   {
    "duration": 1057,
    "start_time": "2023-06-20T09:36:49.985Z"
   },
   {
    "duration": 1178,
    "start_time": "2023-06-20T09:36:59.310Z"
   },
   {
    "duration": 931,
    "start_time": "2023-06-20T09:37:20.036Z"
   },
   {
    "duration": 956,
    "start_time": "2023-06-20T09:37:30.338Z"
   },
   {
    "duration": 16,
    "start_time": "2023-06-20T09:37:50.799Z"
   },
   {
    "duration": 14,
    "start_time": "2023-06-20T09:37:53.945Z"
   },
   {
    "duration": 1088,
    "start_time": "2023-06-20T09:38:13.600Z"
   },
   {
    "duration": 4,
    "start_time": "2023-06-20T09:38:38.182Z"
   },
   {
    "duration": 749,
    "start_time": "2023-06-20T09:38:38.188Z"
   },
   {
    "duration": 66,
    "start_time": "2023-06-20T09:38:38.940Z"
   },
   {
    "duration": 66,
    "start_time": "2023-06-20T09:38:39.010Z"
   },
   {
    "duration": 101,
    "start_time": "2023-06-20T09:38:39.078Z"
   },
   {
    "duration": 3,
    "start_time": "2023-06-20T09:38:39.181Z"
   },
   {
    "duration": 55,
    "start_time": "2023-06-20T09:38:39.186Z"
   },
   {
    "duration": 26,
    "start_time": "2023-06-20T09:38:39.243Z"
   },
   {
    "duration": 28,
    "start_time": "2023-06-20T09:38:39.272Z"
   },
   {
    "duration": 271,
    "start_time": "2023-06-20T09:38:39.301Z"
   },
   {
    "duration": 8,
    "start_time": "2023-06-20T09:38:39.574Z"
   },
   {
    "duration": 10,
    "start_time": "2023-06-20T09:38:39.583Z"
   },
   {
    "duration": 7,
    "start_time": "2023-06-20T09:38:39.594Z"
   },
   {
    "duration": 671,
    "start_time": "2023-06-20T09:38:39.622Z"
   },
   {
    "duration": 12,
    "start_time": "2023-06-20T09:38:40.295Z"
   },
   {
    "duration": 15,
    "start_time": "2023-06-20T09:38:40.329Z"
   },
   {
    "duration": 731,
    "start_time": "2023-06-20T09:38:40.346Z"
   },
   {
    "duration": 8,
    "start_time": "2023-06-20T09:38:41.078Z"
   },
   {
    "duration": 5518,
    "start_time": "2023-06-20T09:38:41.087Z"
   },
   {
    "duration": 4,
    "start_time": "2023-06-20T09:38:46.607Z"
   },
   {
    "duration": 56,
    "start_time": "2023-06-20T09:38:46.622Z"
   },
   {
    "duration": 3762,
    "start_time": "2023-06-20T09:38:46.679Z"
   },
   {
    "duration": 6,
    "start_time": "2023-06-20T09:38:50.442Z"
   },
   {
    "duration": 1002,
    "start_time": "2023-06-20T09:38:50.451Z"
   },
   {
    "duration": 1334,
    "start_time": "2023-06-20T09:38:51.455Z"
   },
   {
    "duration": 1103,
    "start_time": "2023-06-20T09:38:52.790Z"
   },
   {
    "duration": 1102,
    "start_time": "2023-06-20T09:38:53.895Z"
   },
   {
    "duration": 1086,
    "start_time": "2023-06-20T09:38:54.999Z"
   },
   {
    "duration": 1283,
    "start_time": "2023-06-20T09:38:56.087Z"
   },
   {
    "duration": 25,
    "start_time": "2023-06-20T09:38:57.373Z"
   },
   {
    "duration": 61,
    "start_time": "2023-06-20T09:38:57.400Z"
   },
   {
    "duration": 20,
    "start_time": "2023-06-20T09:38:57.464Z"
   },
   {
    "duration": 1164,
    "start_time": "2023-06-20T09:39:09.514Z"
   },
   {
    "duration": 1149,
    "start_time": "2023-06-20T09:39:16.234Z"
   },
   {
    "duration": 87,
    "start_time": "2023-06-20T09:39:27.074Z"
   },
   {
    "duration": 88,
    "start_time": "2023-06-20T09:42:12.184Z"
   },
   {
    "duration": 235,
    "start_time": "2023-06-20T09:43:27.436Z"
   },
   {
    "duration": 256,
    "start_time": "2023-06-20T09:43:44.689Z"
   },
   {
    "duration": 308,
    "start_time": "2023-06-20T09:43:56.538Z"
   },
   {
    "duration": 14,
    "start_time": "2023-06-20T09:44:11.439Z"
   },
   {
    "duration": 28,
    "start_time": "2023-06-20T09:44:29.954Z"
   },
   {
    "duration": 49,
    "start_time": "2023-06-20T09:44:38.708Z"
   },
   {
    "duration": 34,
    "start_time": "2023-06-20T09:44:48.776Z"
   },
   {
    "duration": 39,
    "start_time": "2023-06-20T09:44:51.617Z"
   },
   {
    "duration": 48,
    "start_time": "2023-06-20T09:44:56.606Z"
   },
   {
    "duration": 33,
    "start_time": "2023-06-20T09:45:29.302Z"
   },
   {
    "duration": 10,
    "start_time": "2023-06-20T09:45:43.598Z"
   },
   {
    "duration": 10,
    "start_time": "2023-06-20T09:46:23.392Z"
   },
   {
    "duration": 10,
    "start_time": "2023-06-20T09:46:44.789Z"
   },
   {
    "duration": 9,
    "start_time": "2023-06-20T09:47:00.173Z"
   },
   {
    "duration": 17,
    "start_time": "2023-06-20T09:49:11.256Z"
   },
   {
    "duration": 42,
    "start_time": "2023-06-20T09:49:19.635Z"
   },
   {
    "duration": 55,
    "start_time": "2023-06-20T09:49:40.495Z"
   },
   {
    "duration": 31,
    "start_time": "2023-06-20T09:49:48.532Z"
   },
   {
    "duration": 45,
    "start_time": "2023-06-20T09:50:14.232Z"
   },
   {
    "duration": 26,
    "start_time": "2023-06-20T09:50:24.410Z"
   },
   {
    "duration": 10,
    "start_time": "2023-06-20T09:50:30.336Z"
   },
   {
    "duration": 42,
    "start_time": "2023-06-20T09:50:37.090Z"
   },
   {
    "duration": 38,
    "start_time": "2023-06-20T09:50:43.532Z"
   },
   {
    "duration": 18,
    "start_time": "2023-06-20T09:50:49.630Z"
   },
   {
    "duration": 40,
    "start_time": "2023-06-20T09:50:53.844Z"
   },
   {
    "duration": 40,
    "start_time": "2023-06-20T09:51:19.642Z"
   },
   {
    "duration": 27,
    "start_time": "2023-06-20T09:51:51.079Z"
   },
   {
    "duration": 49,
    "start_time": "2023-06-20T09:52:24.100Z"
   },
   {
    "duration": 41,
    "start_time": "2023-06-20T09:52:27.638Z"
   },
   {
    "duration": 41,
    "start_time": "2023-06-20T09:52:36.167Z"
   },
   {
    "duration": 67,
    "start_time": "2023-06-20T09:52:45.896Z"
   },
   {
    "duration": 53,
    "start_time": "2023-06-20T09:53:00.698Z"
   },
   {
    "duration": 460,
    "start_time": "2023-06-20T09:54:21.190Z"
   },
   {
    "duration": 29,
    "start_time": "2023-06-20T09:54:32.475Z"
   },
   {
    "duration": 39,
    "start_time": "2023-06-20T09:54:37.856Z"
   },
   {
    "duration": 32,
    "start_time": "2023-06-20T09:55:05.972Z"
   },
   {
    "duration": 17,
    "start_time": "2023-06-20T09:55:54.447Z"
   },
   {
    "duration": 30,
    "start_time": "2023-06-20T09:55:59.746Z"
   },
   {
    "duration": 22,
    "start_time": "2023-06-20T09:56:45.091Z"
   },
   {
    "duration": 23,
    "start_time": "2023-06-20T09:57:00.590Z"
   },
   {
    "duration": 21,
    "start_time": "2023-06-20T09:57:08.752Z"
   },
   {
    "duration": 22,
    "start_time": "2023-06-20T09:57:14.587Z"
   },
   {
    "duration": 53,
    "start_time": "2023-06-20T09:57:20.898Z"
   },
   {
    "duration": 432,
    "start_time": "2023-06-20T09:57:56.642Z"
   },
   {
    "duration": 397,
    "start_time": "2023-06-20T09:58:13.707Z"
   },
   {
    "duration": 61,
    "start_time": "2023-06-20T09:58:31.094Z"
   },
   {
    "duration": 43,
    "start_time": "2023-06-20T09:58:42.840Z"
   },
   {
    "duration": 11941,
    "start_time": "2023-06-20T09:59:04.170Z"
   },
   {
    "duration": 441,
    "start_time": "2023-06-20T09:59:29.591Z"
   },
   {
    "duration": 446,
    "start_time": "2023-06-20T09:59:41.868Z"
   },
   {
    "duration": 691,
    "start_time": "2023-06-20T09:59:55.470Z"
   },
   {
    "duration": 503,
    "start_time": "2023-06-20T10:00:09.392Z"
   },
   {
    "duration": 2895,
    "start_time": "2023-06-20T10:00:33.350Z"
   },
   {
    "duration": 193,
    "start_time": "2023-06-20T10:01:15.508Z"
   },
   {
    "duration": 704,
    "start_time": "2023-06-20T10:01:28.473Z"
   },
   {
    "duration": 580,
    "start_time": "2023-06-20T10:01:40.076Z"
   },
   {
    "duration": 45,
    "start_time": "2023-06-20T10:01:54.174Z"
   },
   {
    "duration": 47,
    "start_time": "2023-06-20T10:01:59.043Z"
   },
   {
    "duration": 52,
    "start_time": "2023-06-20T10:02:05.645Z"
   },
   {
    "duration": 147,
    "start_time": "2023-06-20T10:02:25.943Z"
   },
   {
    "duration": 140,
    "start_time": "2023-06-20T10:02:29.531Z"
   },
   {
    "duration": 0,
    "start_time": "2023-06-20T10:02:56.675Z"
   },
   {
    "duration": 3040,
    "start_time": "2023-06-20T10:02:58.343Z"
   },
   {
    "duration": 64,
    "start_time": "2023-06-20T10:03:22.889Z"
   },
   {
    "duration": 71,
    "start_time": "2023-06-20T10:03:29.484Z"
   },
   {
    "duration": 531,
    "start_time": "2023-06-20T10:04:12.231Z"
   },
   {
    "duration": 358,
    "start_time": "2023-06-20T10:04:42.431Z"
   },
   {
    "duration": 581,
    "start_time": "2023-06-20T10:04:53.605Z"
   },
   {
    "duration": 475,
    "start_time": "2023-06-20T10:04:58.593Z"
   },
   {
    "duration": 64,
    "start_time": "2023-06-20T10:05:03.925Z"
   },
   {
    "duration": 63,
    "start_time": "2023-06-20T10:05:11.871Z"
   },
   {
    "duration": 68,
    "start_time": "2023-06-20T10:05:41.091Z"
   },
   {
    "duration": 67,
    "start_time": "2023-06-20T10:05:48.671Z"
   },
   {
    "duration": 55,
    "start_time": "2023-06-20T10:05:54.387Z"
   },
   {
    "duration": 71,
    "start_time": "2023-06-20T10:06:45.417Z"
   },
   {
    "duration": 89,
    "start_time": "2023-06-20T10:06:46.948Z"
   },
   {
    "duration": 50,
    "start_time": "2023-06-20T10:07:20.502Z"
   },
   {
    "duration": 73,
    "start_time": "2023-06-20T10:07:24.209Z"
   },
   {
    "duration": 49,
    "start_time": "2023-06-20T10:07:34.449Z"
   },
   {
    "duration": 224,
    "start_time": "2023-06-20T10:07:43.971Z"
   },
   {
    "duration": 67,
    "start_time": "2023-06-20T10:08:39.290Z"
   },
   {
    "duration": 214,
    "start_time": "2023-06-20T10:08:43.917Z"
   },
   {
    "duration": 212,
    "start_time": "2023-06-20T10:08:47.747Z"
   },
   {
    "duration": 271,
    "start_time": "2023-06-20T10:09:12.543Z"
   },
   {
    "duration": 151,
    "start_time": "2023-06-20T10:09:22.713Z"
   },
   {
    "duration": 140,
    "start_time": "2023-06-20T10:09:29.092Z"
   },
   {
    "duration": 287,
    "start_time": "2023-06-20T10:21:30.110Z"
   },
   {
    "duration": 220,
    "start_time": "2023-06-20T10:21:38.286Z"
   },
   {
    "duration": 871,
    "start_time": "2023-06-20T10:21:55.792Z"
   },
   {
    "duration": 952,
    "start_time": "2023-06-20T10:21:59.609Z"
   },
   {
    "duration": 519,
    "start_time": "2023-06-20T10:22:06.601Z"
   },
   {
    "duration": 503,
    "start_time": "2023-06-20T10:22:10.887Z"
   },
   {
    "duration": 661,
    "start_time": "2023-06-20T10:22:22.552Z"
   },
   {
    "duration": 665,
    "start_time": "2023-06-20T10:22:30.914Z"
   },
   {
    "duration": 790,
    "start_time": "2023-06-20T10:22:33.984Z"
   },
   {
    "duration": 481,
    "start_time": "2023-06-20T10:22:51.400Z"
   },
   {
    "duration": 74,
    "start_time": "2023-06-20T10:26:18.843Z"
   },
   {
    "duration": 241,
    "start_time": "2023-06-20T10:28:50.619Z"
   },
   {
    "duration": 650,
    "start_time": "2023-06-20T10:29:12.342Z"
   },
   {
    "duration": 868,
    "start_time": "2023-06-20T10:30:09.500Z"
   },
   {
    "duration": 658,
    "start_time": "2023-06-20T10:30:17.097Z"
   },
   {
    "duration": 552,
    "start_time": "2023-06-20T10:30:28.544Z"
   },
   {
    "duration": 876,
    "start_time": "2023-06-20T10:30:38.935Z"
   },
   {
    "duration": 181,
    "start_time": "2023-06-20T10:33:34.696Z"
   },
   {
    "duration": 3,
    "start_time": "2023-06-20T10:34:06.788Z"
   },
   {
    "duration": 5,
    "start_time": "2023-06-20T10:34:11.943Z"
   },
   {
    "duration": 4,
    "start_time": "2023-06-20T10:34:12.643Z"
   },
   {
    "duration": 8,
    "start_time": "2023-06-20T10:34:17.298Z"
   },
   {
    "duration": 7,
    "start_time": "2023-06-20T10:34:22.943Z"
   },
   {
    "duration": 884,
    "start_time": "2023-06-20T10:34:22.953Z"
   },
   {
    "duration": 107,
    "start_time": "2023-06-20T10:34:23.839Z"
   },
   {
    "duration": 39,
    "start_time": "2023-06-20T10:34:23.953Z"
   },
   {
    "duration": 71,
    "start_time": "2023-06-20T10:34:23.994Z"
   },
   {
    "duration": 30,
    "start_time": "2023-06-20T10:34:24.067Z"
   },
   {
    "duration": 37,
    "start_time": "2023-06-20T10:34:24.098Z"
   },
   {
    "duration": 114,
    "start_time": "2023-06-20T10:34:24.136Z"
   },
   {
    "duration": 55,
    "start_time": "2023-06-20T10:34:24.254Z"
   },
   {
    "duration": 346,
    "start_time": "2023-06-20T10:34:24.311Z"
   },
   {
    "duration": 8,
    "start_time": "2023-06-20T10:34:24.660Z"
   },
   {
    "duration": 46,
    "start_time": "2023-06-20T10:34:24.670Z"
   },
   {
    "duration": 56,
    "start_time": "2023-06-20T10:34:24.718Z"
   },
   {
    "duration": 757,
    "start_time": "2023-06-20T10:34:24.776Z"
   },
   {
    "duration": 15,
    "start_time": "2023-06-20T10:34:25.534Z"
   },
   {
    "duration": 53,
    "start_time": "2023-06-20T10:34:25.551Z"
   },
   {
    "duration": 711,
    "start_time": "2023-06-20T10:34:25.606Z"
   },
   {
    "duration": 16,
    "start_time": "2023-06-20T10:34:26.319Z"
   },
   {
    "duration": 6251,
    "start_time": "2023-06-20T10:34:26.337Z"
   },
   {
    "duration": 3,
    "start_time": "2023-06-20T10:34:32.590Z"
   },
   {
    "duration": 115,
    "start_time": "2023-06-20T10:34:32.595Z"
   },
   {
    "duration": 4179,
    "start_time": "2023-06-20T10:34:32.713Z"
   },
   {
    "duration": 5,
    "start_time": "2023-06-20T10:34:36.894Z"
   },
   {
    "duration": 1029,
    "start_time": "2023-06-20T10:34:36.901Z"
   },
   {
    "duration": 1043,
    "start_time": "2023-06-20T10:34:37.931Z"
   },
   {
    "duration": 965,
    "start_time": "2023-06-20T10:34:38.976Z"
   },
   {
    "duration": 995,
    "start_time": "2023-06-20T10:34:39.942Z"
   },
   {
    "duration": 1181,
    "start_time": "2023-06-20T10:34:40.939Z"
   },
   {
    "duration": 996,
    "start_time": "2023-06-20T10:34:42.130Z"
   },
   {
    "duration": 39,
    "start_time": "2023-06-20T10:34:43.128Z"
   },
   {
    "duration": 32,
    "start_time": "2023-06-20T10:34:43.169Z"
   },
   {
    "duration": 43,
    "start_time": "2023-06-20T10:34:43.203Z"
   },
   {
    "duration": 1048,
    "start_time": "2023-06-20T10:34:43.248Z"
   },
   {
    "duration": 648,
    "start_time": "2023-06-20T10:34:44.299Z"
   },
   {
    "duration": 112,
    "start_time": "2023-06-20T10:34:44.949Z"
   },
   {
    "duration": 7,
    "start_time": "2023-06-20T10:34:45.066Z"
   },
   {
    "duration": 343,
    "start_time": "2023-06-20T10:34:45.074Z"
   },
   {
    "duration": 1099,
    "start_time": "2023-06-20T10:34:45.419Z"
   },
   {
    "duration": 583,
    "start_time": "2023-06-20T10:34:46.520Z"
   },
   {
    "duration": 708,
    "start_time": "2023-06-20T10:34:47.104Z"
   },
   {
    "duration": 21,
    "start_time": "2023-06-20T10:34:47.814Z"
   },
   {
    "duration": 68,
    "start_time": "2023-06-20T10:34:47.837Z"
   },
   {
    "duration": 4,
    "start_time": "2023-06-20T10:34:47.906Z"
   },
   {
    "duration": 6,
    "start_time": "2023-06-20T10:34:47.911Z"
   },
   {
    "duration": 48,
    "start_time": "2023-06-20T10:34:47.918Z"
   },
   {
    "duration": 10,
    "start_time": "2023-06-20T10:34:47.967Z"
   },
   {
    "duration": 95116,
    "start_time": "2023-06-20T10:35:10.889Z"
   },
   {
    "duration": 0,
    "start_time": "2023-06-20T10:36:46.007Z"
   },
   {
    "duration": 4,
    "start_time": "2023-06-20T10:36:48.315Z"
   },
   {
    "duration": 4,
    "start_time": "2023-06-20T10:36:49.089Z"
   },
   {
    "duration": 13,
    "start_time": "2023-06-20T10:36:51.887Z"
   },
   {
    "duration": 115,
    "start_time": "2023-06-20T10:37:14.194Z"
   },
   {
    "duration": 152,
    "start_time": "2023-06-20T10:37:46.459Z"
   },
   {
    "duration": 3,
    "start_time": "2023-06-20T10:37:54.173Z"
   },
   {
    "duration": 12,
    "start_time": "2023-06-21T11:47:35.472Z"
   },
   {
    "duration": 68,
    "start_time": "2023-06-21T12:40:30.153Z"
   },
   {
    "duration": 2347,
    "start_time": "2023-06-21T12:40:33.844Z"
   },
   {
    "duration": 4385,
    "start_time": "2023-06-21T12:40:36.194Z"
   },
   {
    "duration": 106,
    "start_time": "2023-06-21T12:40:40.582Z"
   },
   {
    "duration": 51,
    "start_time": "2023-06-21T12:40:40.690Z"
   },
   {
    "duration": 129,
    "start_time": "2023-06-21T12:40:40.746Z"
   },
   {
    "duration": 3,
    "start_time": "2023-06-21T12:40:40.883Z"
   },
   {
    "duration": 6,
    "start_time": "2023-06-21T12:40:40.889Z"
   },
   {
    "duration": 13,
    "start_time": "2023-06-21T12:40:40.898Z"
   },
   {
    "duration": 8,
    "start_time": "2023-06-21T12:40:40.913Z"
   },
   {
    "duration": 341,
    "start_time": "2023-06-21T12:40:40.923Z"
   },
   {
    "duration": 20,
    "start_time": "2023-06-21T12:40:41.272Z"
   },
   {
    "duration": 14,
    "start_time": "2023-06-21T12:40:41.294Z"
   },
   {
    "duration": 20,
    "start_time": "2023-06-21T12:40:41.310Z"
   },
   {
    "duration": 786,
    "start_time": "2023-06-21T12:40:41.334Z"
   },
   {
    "duration": 19,
    "start_time": "2023-06-21T12:40:42.122Z"
   },
   {
    "duration": 21,
    "start_time": "2023-06-21T12:40:42.157Z"
   },
   {
    "duration": 776,
    "start_time": "2023-06-21T12:40:42.181Z"
   },
   {
    "duration": 14,
    "start_time": "2023-06-21T12:40:42.959Z"
   },
   {
    "duration": 16348,
    "start_time": "2023-06-21T12:40:42.979Z"
   },
   {
    "duration": 3,
    "start_time": "2023-06-21T12:40:59.329Z"
   },
   {
    "duration": 89,
    "start_time": "2023-06-21T12:40:59.333Z"
   },
   {
    "duration": 8212,
    "start_time": "2023-06-21T12:40:59.425Z"
   },
   {
    "duration": 9,
    "start_time": "2023-06-21T12:41:07.639Z"
   },
   {
    "duration": 1401,
    "start_time": "2023-06-21T12:41:07.650Z"
   },
   {
    "duration": 1433,
    "start_time": "2023-06-21T12:41:09.054Z"
   },
   {
    "duration": 1248,
    "start_time": "2023-06-21T12:41:10.489Z"
   },
   {
    "duration": 1081,
    "start_time": "2023-06-21T12:41:11.740Z"
   },
   {
    "duration": 1223,
    "start_time": "2023-06-21T12:41:12.824Z"
   },
   {
    "duration": 1373,
    "start_time": "2023-06-21T12:41:14.050Z"
   },
   {
    "duration": 37,
    "start_time": "2023-06-21T12:41:15.426Z"
   },
   {
    "duration": 23,
    "start_time": "2023-06-21T12:41:15.466Z"
   },
   {
    "duration": 14,
    "start_time": "2023-06-21T12:41:15.492Z"
   },
   {
    "duration": 1410,
    "start_time": "2023-06-21T12:41:15.509Z"
   },
   {
    "duration": 496,
    "start_time": "2023-06-21T12:41:16.922Z"
   },
   {
    "duration": 173,
    "start_time": "2023-06-21T12:41:17.420Z"
   },
   {
    "duration": 9,
    "start_time": "2023-06-21T12:41:17.597Z"
   },
   {
    "duration": 420,
    "start_time": "2023-06-21T12:41:47.304Z"
   },
   {
    "duration": 71,
    "start_time": "2023-06-21T12:42:23.104Z"
   },
   {
    "duration": 88,
    "start_time": "2023-06-21T12:42:40.048Z"
   },
   {
    "duration": 90,
    "start_time": "2023-06-21T12:42:45.915Z"
   },
   {
    "duration": 68,
    "start_time": "2023-06-21T12:42:58.607Z"
   },
   {
    "duration": 79,
    "start_time": "2023-06-21T12:43:03.846Z"
   },
   {
    "duration": 109,
    "start_time": "2023-06-21T12:43:23.207Z"
   },
   {
    "duration": 63,
    "start_time": "2023-06-21T12:44:25.323Z"
   },
   {
    "duration": 4,
    "start_time": "2023-06-21T12:50:31.254Z"
   },
   {
    "duration": 53,
    "start_time": "2023-06-21T13:10:31.953Z"
   },
   {
    "duration": 31,
    "start_time": "2023-06-21T13:17:51.465Z"
   },
   {
    "duration": 36,
    "start_time": "2023-06-21T13:18:03.331Z"
   },
   {
    "duration": 139,
    "start_time": "2023-06-21T13:25:31.924Z"
   },
   {
    "duration": 72,
    "start_time": "2023-06-21T13:25:36.300Z"
   },
   {
    "duration": 5,
    "start_time": "2023-06-21T13:25:38.753Z"
   },
   {
    "duration": 1125,
    "start_time": "2023-06-21T13:26:58.956Z"
   },
   {
    "duration": 60,
    "start_time": "2023-06-21T13:27:16.987Z"
   },
   {
    "duration": 57,
    "start_time": "2023-06-21T13:27:30.157Z"
   },
   {
    "duration": 4,
    "start_time": "2023-06-21T13:27:32.000Z"
   },
   {
    "duration": 5,
    "start_time": "2023-06-21T13:27:43.592Z"
   },
   {
    "duration": 31,
    "start_time": "2023-06-21T13:27:45.715Z"
   },
   {
    "duration": 943,
    "start_time": "2023-06-21T13:28:15.392Z"
   },
   {
    "duration": 965,
    "start_time": "2023-06-21T13:28:17.288Z"
   },
   {
    "duration": 1036,
    "start_time": "2023-06-21T13:28:19.008Z"
   },
   {
    "duration": 1044,
    "start_time": "2023-06-21T13:28:22.902Z"
   },
   {
    "duration": 1014,
    "start_time": "2023-06-21T13:28:24.528Z"
   },
   {
    "duration": 994,
    "start_time": "2023-06-21T13:28:32.141Z"
   },
   {
    "duration": 1007,
    "start_time": "2023-06-21T13:28:34.042Z"
   },
   {
    "duration": 939,
    "start_time": "2023-06-21T13:28:35.689Z"
   },
   {
    "duration": 1128,
    "start_time": "2023-06-21T13:29:48.346Z"
   },
   {
    "duration": 62,
    "start_time": "2023-06-21T13:31:06.413Z"
   },
   {
    "duration": 144,
    "start_time": "2023-06-21T13:31:27.047Z"
   },
   {
    "duration": 157,
    "start_time": "2023-06-21T13:31:57.816Z"
   },
   {
    "duration": 131,
    "start_time": "2023-06-21T13:32:28.110Z"
   },
   {
    "duration": 5,
    "start_time": "2023-06-21T13:33:00.864Z"
   },
   {
    "duration": 31,
    "start_time": "2023-06-21T13:33:04.686Z"
   },
   {
    "duration": 5,
    "start_time": "2023-06-21T13:33:10.700Z"
   },
   {
    "duration": 30,
    "start_time": "2023-06-21T13:33:28.535Z"
   },
   {
    "duration": 28,
    "start_time": "2023-06-21T13:33:36.431Z"
   },
   {
    "duration": 1413,
    "start_time": "2023-06-21T13:34:15.093Z"
   },
   {
    "duration": 41,
    "start_time": "2023-06-21T13:34:41.705Z"
   },
   {
    "duration": 41,
    "start_time": "2023-06-21T13:35:02.559Z"
   },
   {
    "duration": 83,
    "start_time": "2023-06-21T13:36:03.343Z"
   },
   {
    "duration": 4,
    "start_time": "2023-06-21T13:36:06.958Z"
   },
   {
    "duration": 86,
    "start_time": "2023-06-21T13:36:15.106Z"
   },
   {
    "duration": 4,
    "start_time": "2023-06-21T13:36:16.157Z"
   },
   {
    "duration": 29,
    "start_time": "2023-06-21T13:36:22.606Z"
   },
   {
    "duration": 81,
    "start_time": "2023-06-21T13:36:42.105Z"
   },
   {
    "duration": 4,
    "start_time": "2023-06-21T13:36:45.730Z"
   },
   {
    "duration": 774,
    "start_time": "2023-06-21T13:36:45.736Z"
   },
   {
    "duration": 74,
    "start_time": "2023-06-21T13:36:46.512Z"
   },
   {
    "duration": 44,
    "start_time": "2023-06-21T13:36:46.588Z"
   },
   {
    "duration": 71,
    "start_time": "2023-06-21T13:36:46.657Z"
   },
   {
    "duration": 4,
    "start_time": "2023-06-21T13:36:46.730Z"
   },
   {
    "duration": 5,
    "start_time": "2023-06-21T13:36:46.756Z"
   },
   {
    "duration": 13,
    "start_time": "2023-06-21T13:36:46.763Z"
   },
   {
    "duration": 4,
    "start_time": "2023-06-21T13:36:46.779Z"
   },
   {
    "duration": 274,
    "start_time": "2023-06-21T13:36:46.785Z"
   },
   {
    "duration": 10,
    "start_time": "2023-06-21T13:36:47.060Z"
   },
   {
    "duration": 23,
    "start_time": "2023-06-21T13:36:47.071Z"
   },
   {
    "duration": 11,
    "start_time": "2023-06-21T13:36:47.095Z"
   },
   {
    "duration": 611,
    "start_time": "2023-06-21T13:36:47.107Z"
   },
   {
    "duration": 12,
    "start_time": "2023-06-21T13:36:47.720Z"
   },
   {
    "duration": 29,
    "start_time": "2023-06-21T13:36:47.734Z"
   },
   {
    "duration": 553,
    "start_time": "2023-06-21T13:36:47.765Z"
   },
   {
    "duration": 9,
    "start_time": "2023-06-21T13:36:48.320Z"
   },
   {
    "duration": 9541,
    "start_time": "2023-06-21T13:36:48.330Z"
   },
   {
    "duration": 4,
    "start_time": "2023-06-21T13:36:57.872Z"
   },
   {
    "duration": 65,
    "start_time": "2023-06-21T13:36:57.878Z"
   },
   {
    "duration": 6035,
    "start_time": "2023-06-21T13:36:57.945Z"
   },
   {
    "duration": 8,
    "start_time": "2023-06-21T13:37:03.982Z"
   },
   {
    "duration": 1332,
    "start_time": "2023-06-21T13:37:03.994Z"
   },
   {
    "duration": 1222,
    "start_time": "2023-06-21T13:37:05.329Z"
   },
   {
    "duration": 1085,
    "start_time": "2023-06-21T13:37:06.553Z"
   },
   {
    "duration": 1358,
    "start_time": "2023-06-21T13:37:07.641Z"
   },
   {
    "duration": 1130,
    "start_time": "2023-06-21T13:37:09.002Z"
   },
   {
    "duration": 981,
    "start_time": "2023-06-21T13:37:10.134Z"
   },
   {
    "duration": 20,
    "start_time": "2023-06-21T13:37:11.117Z"
   },
   {
    "duration": 38,
    "start_time": "2023-06-21T13:37:11.139Z"
   },
   {
    "duration": 8,
    "start_time": "2023-06-21T13:37:11.179Z"
   },
   {
    "duration": 11,
    "start_time": "2023-06-21T13:37:11.189Z"
   },
   {
    "duration": 1032,
    "start_time": "2023-06-21T13:37:11.201Z"
   },
   {
    "duration": 50,
    "start_time": "2023-06-21T13:37:12.235Z"
   },
   {
    "duration": 5,
    "start_time": "2023-06-21T13:37:12.287Z"
   },
   {
    "duration": 1341,
    "start_time": "2023-06-21T13:40:28.524Z"
   },
   {
    "duration": 1389,
    "start_time": "2023-06-21T13:40:29.949Z"
   },
   {
    "duration": 255,
    "start_time": "2023-06-21T13:40:39.509Z"
   },
   {
    "duration": 1144,
    "start_time": "2023-06-21T13:40:42.614Z"
   },
   {
    "duration": 1117,
    "start_time": "2023-06-21T13:40:44.713Z"
   },
   {
    "duration": 1073,
    "start_time": "2023-06-21T13:40:46.309Z"
   },
   {
    "duration": 1037,
    "start_time": "2023-06-21T13:41:35.036Z"
   },
   {
    "duration": 233,
    "start_time": "2023-06-21T13:42:13.355Z"
   },
   {
    "duration": 62,
    "start_time": "2023-06-21T13:42:25.717Z"
   },
   {
    "duration": 253,
    "start_time": "2023-06-21T13:42:34.117Z"
   },
   {
    "duration": 251,
    "start_time": "2023-06-21T13:42:52.751Z"
   },
   {
    "duration": 14,
    "start_time": "2023-06-21T13:42:55.309Z"
   },
   {
    "duration": 70,
    "start_time": "2023-06-21T13:50:03.727Z"
   },
   {
    "duration": 98,
    "start_time": "2023-06-21T13:50:12.634Z"
   },
   {
    "duration": 307,
    "start_time": "2023-06-21T13:50:17.130Z"
   },
   {
    "duration": 374,
    "start_time": "2023-06-21T13:50:35.471Z"
   },
   {
    "duration": 1055,
    "start_time": "2023-06-21T13:50:37.630Z"
   },
   {
    "duration": 528,
    "start_time": "2023-06-21T13:50:39.553Z"
   },
   {
    "duration": 698,
    "start_time": "2023-06-21T13:50:40.944Z"
   },
   {
    "duration": 1118,
    "start_time": "2023-06-21T13:50:50.552Z"
   },
   {
    "duration": 677,
    "start_time": "2023-06-21T13:50:52.302Z"
   },
   {
    "duration": 732,
    "start_time": "2023-06-21T13:50:52.982Z"
   },
   {
    "duration": 249,
    "start_time": "2023-06-21T13:51:08.454Z"
   },
   {
    "duration": 1044,
    "start_time": "2023-06-21T13:51:10.238Z"
   },
   {
    "duration": 580,
    "start_time": "2023-06-21T13:51:11.283Z"
   },
   {
    "duration": 833,
    "start_time": "2023-06-21T13:51:11.865Z"
   },
   {
    "duration": 1377,
    "start_time": "2023-06-21T13:51:37.618Z"
   },
   {
    "duration": 1367,
    "start_time": "2023-06-21T13:51:39.870Z"
   },
   {
    "duration": 43,
    "start_time": "2023-06-21T13:51:55.322Z"
   },
   {
    "duration": 4,
    "start_time": "2023-06-21T13:51:56.043Z"
   },
   {
    "duration": 99,
    "start_time": "2023-06-21T13:51:58.972Z"
   },
   {
    "duration": 5,
    "start_time": "2023-06-21T13:52:01.256Z"
   },
   {
    "duration": 964,
    "start_time": "2023-06-21T13:52:32.759Z"
   },
   {
    "duration": 225,
    "start_time": "2023-06-21T13:52:37.814Z"
   },
   {
    "duration": 870,
    "start_time": "2023-06-21T13:52:39.349Z"
   },
   {
    "duration": 649,
    "start_time": "2023-06-21T13:52:41.230Z"
   },
   {
    "duration": 653,
    "start_time": "2023-06-21T13:52:42.514Z"
   },
   {
    "duration": 1077,
    "start_time": "2023-06-21T13:53:05.855Z"
   },
   {
    "duration": 1112,
    "start_time": "2023-06-21T13:53:07.714Z"
   },
   {
    "duration": 1040,
    "start_time": "2023-06-21T13:53:09.306Z"
   },
   {
    "duration": 1017,
    "start_time": "2023-06-21T13:53:11.622Z"
   },
   {
    "duration": 1098,
    "start_time": "2023-06-21T13:53:13.330Z"
   },
   {
    "duration": 1008,
    "start_time": "2023-06-21T13:53:14.926Z"
   },
   {
    "duration": 46,
    "start_time": "2023-06-21T13:54:18.366Z"
   },
   {
    "duration": 13,
    "start_time": "2023-06-21T14:09:16.029Z"
   },
   {
    "duration": 15,
    "start_time": "2023-06-21T14:09:36.764Z"
   },
   {
    "duration": 6,
    "start_time": "2023-06-21T14:17:03.967Z"
   },
   {
    "duration": 16,
    "start_time": "2023-06-21T14:17:08.830Z"
   },
   {
    "duration": 1580,
    "start_time": "2023-06-21T14:17:38.051Z"
   },
   {
    "duration": 760,
    "start_time": "2023-06-21T14:17:39.633Z"
   },
   {
    "duration": 84,
    "start_time": "2023-06-21T14:17:40.394Z"
   },
   {
    "duration": 46,
    "start_time": "2023-06-21T14:17:40.480Z"
   },
   {
    "duration": 96,
    "start_time": "2023-06-21T14:17:40.527Z"
   },
   {
    "duration": 3,
    "start_time": "2023-06-21T14:17:40.625Z"
   },
   {
    "duration": 22,
    "start_time": "2023-06-21T14:17:40.630Z"
   },
   {
    "duration": 17,
    "start_time": "2023-06-21T14:17:40.654Z"
   },
   {
    "duration": 3,
    "start_time": "2023-06-21T14:17:40.674Z"
   },
   {
    "duration": 278,
    "start_time": "2023-06-21T14:17:40.679Z"
   },
   {
    "duration": 11,
    "start_time": "2023-06-21T14:17:40.967Z"
   },
   {
    "duration": 7,
    "start_time": "2023-06-21T14:17:40.980Z"
   },
   {
    "duration": 7,
    "start_time": "2023-06-21T14:17:40.988Z"
   },
   {
    "duration": 642,
    "start_time": "2023-06-21T14:17:40.997Z"
   },
   {
    "duration": 26,
    "start_time": "2023-06-21T14:17:41.640Z"
   },
   {
    "duration": 16,
    "start_time": "2023-06-21T14:17:41.669Z"
   },
   {
    "duration": 535,
    "start_time": "2023-06-21T14:17:41.687Z"
   },
   {
    "duration": 10,
    "start_time": "2023-06-21T14:17:42.224Z"
   },
   {
    "duration": 7593,
    "start_time": "2023-06-21T14:17:42.236Z"
   },
   {
    "duration": 4,
    "start_time": "2023-06-21T14:17:49.831Z"
   },
   {
    "duration": 95,
    "start_time": "2023-06-21T14:17:49.837Z"
   },
   {
    "duration": 5179,
    "start_time": "2023-06-21T14:17:49.934Z"
   },
   {
    "duration": 7,
    "start_time": "2023-06-21T14:17:55.115Z"
   },
   {
    "duration": 1112,
    "start_time": "2023-06-21T14:17:55.123Z"
   },
   {
    "duration": 1202,
    "start_time": "2023-06-21T14:17:56.237Z"
   },
   {
    "duration": 1148,
    "start_time": "2023-06-21T14:17:57.441Z"
   },
   {
    "duration": 1028,
    "start_time": "2023-06-21T14:17:58.591Z"
   },
   {
    "duration": 1012,
    "start_time": "2023-06-21T14:17:59.623Z"
   },
   {
    "duration": 1095,
    "start_time": "2023-06-21T14:18:00.637Z"
   },
   {
    "duration": 38,
    "start_time": "2023-06-21T14:18:01.734Z"
   },
   {
    "duration": 80,
    "start_time": "2023-06-21T14:18:01.774Z"
   },
   {
    "duration": 52,
    "start_time": "2023-06-21T14:18:01.856Z"
   },
   {
    "duration": 42,
    "start_time": "2023-06-21T14:18:01.911Z"
   },
   {
    "duration": 1072,
    "start_time": "2023-06-21T14:18:01.955Z"
   },
   {
    "duration": 58,
    "start_time": "2023-06-21T14:18:03.029Z"
   },
   {
    "duration": 5,
    "start_time": "2023-06-21T14:18:03.089Z"
   },
   {
    "duration": 104,
    "start_time": "2023-06-21T14:18:03.095Z"
   },
   {
    "duration": 4,
    "start_time": "2023-06-21T14:18:03.201Z"
   },
   {
    "duration": 435,
    "start_time": "2023-06-21T14:18:03.207Z"
   },
   {
    "duration": 130,
    "start_time": "2023-06-21T14:18:03.644Z"
   },
   {
    "duration": 9,
    "start_time": "2023-06-21T14:18:03.776Z"
   },
   {
    "duration": 282,
    "start_time": "2023-06-21T14:18:03.787Z"
   },
   {
    "duration": 1119,
    "start_time": "2023-06-21T14:18:04.071Z"
   },
   {
    "duration": 572,
    "start_time": "2023-06-21T14:18:05.192Z"
   },
   {
    "duration": 833,
    "start_time": "2023-06-21T14:18:05.766Z"
   },
   {
    "duration": 10,
    "start_time": "2023-06-21T14:18:06.601Z"
   },
   {
    "duration": 52,
    "start_time": "2023-06-21T14:18:06.613Z"
   },
   {
    "duration": 6,
    "start_time": "2023-06-21T14:18:06.667Z"
   },
   {
    "duration": 37,
    "start_time": "2023-06-21T14:18:06.674Z"
   },
   {
    "duration": 24,
    "start_time": "2023-06-21T14:18:06.713Z"
   },
   {
    "duration": 15,
    "start_time": "2023-06-21T14:18:06.739Z"
   },
   {
    "duration": 742297,
    "start_time": "2023-06-21T14:18:06.756Z"
   },
   {
    "duration": 0,
    "start_time": "2023-06-21T14:30:29.062Z"
   },
   {
    "duration": 0,
    "start_time": "2023-06-21T14:30:29.062Z"
   },
   {
    "duration": 0,
    "start_time": "2023-06-21T14:30:29.067Z"
   },
   {
    "duration": 5,
    "start_time": "2023-06-21T14:30:35.872Z"
   },
   {
    "duration": 5,
    "start_time": "2023-06-21T14:30:37.218Z"
   },
   {
    "duration": 5,
    "start_time": "2023-06-21T14:30:38.045Z"
   },
   {
    "duration": 510350,
    "start_time": "2023-06-21T14:30:40.018Z"
   },
   {
    "duration": 8,
    "start_time": "2023-06-21T14:39:10.371Z"
   },
   {
    "duration": 7,
    "start_time": "2023-06-21T14:39:24.456Z"
   },
   {
    "duration": 272,
    "start_time": "2023-06-21T14:39:26.014Z"
   },
   {
    "duration": 293,
    "start_time": "2023-06-21T14:41:51.317Z"
   },
   {
    "duration": 283,
    "start_time": "2023-06-21T14:42:10.110Z"
   },
   {
    "duration": 55,
    "start_time": "2023-06-21T14:45:37.405Z"
   },
   {
    "duration": 5,
    "start_time": "2023-06-21T14:45:40.045Z"
   },
   {
    "duration": 5,
    "start_time": "2023-06-21T14:45:50.149Z"
   },
   {
    "duration": 795,
    "start_time": "2023-06-21T14:45:50.156Z"
   },
   {
    "duration": 80,
    "start_time": "2023-06-21T14:45:50.953Z"
   },
   {
    "duration": 71,
    "start_time": "2023-06-21T14:45:51.035Z"
   },
   {
    "duration": 90,
    "start_time": "2023-06-21T14:45:51.108Z"
   },
   {
    "duration": 4,
    "start_time": "2023-06-21T14:45:51.200Z"
   },
   {
    "duration": 13,
    "start_time": "2023-06-21T14:45:51.206Z"
   },
   {
    "duration": 21,
    "start_time": "2023-06-21T14:45:51.222Z"
   },
   {
    "duration": 16,
    "start_time": "2023-06-21T14:45:51.246Z"
   },
   {
    "duration": 255,
    "start_time": "2023-06-21T14:45:51.264Z"
   },
   {
    "duration": 10,
    "start_time": "2023-06-21T14:45:51.521Z"
   },
   {
    "duration": 25,
    "start_time": "2023-06-21T14:45:51.532Z"
   },
   {
    "duration": 8,
    "start_time": "2023-06-21T14:45:51.559Z"
   },
   {
    "duration": 558,
    "start_time": "2023-06-21T14:45:51.569Z"
   },
   {
    "duration": 13,
    "start_time": "2023-06-21T14:45:52.129Z"
   },
   {
    "duration": 13,
    "start_time": "2023-06-21T14:45:52.156Z"
   },
   {
    "duration": 561,
    "start_time": "2023-06-21T14:45:52.171Z"
   },
   {
    "duration": 9,
    "start_time": "2023-06-21T14:45:52.734Z"
   },
   {
    "duration": 8082,
    "start_time": "2023-06-21T14:45:52.744Z"
   },
   {
    "duration": 3,
    "start_time": "2023-06-21T14:46:00.828Z"
   },
   {
    "duration": 94,
    "start_time": "2023-06-21T14:46:00.833Z"
   },
   {
    "duration": 5581,
    "start_time": "2023-06-21T14:46:00.929Z"
   },
   {
    "duration": 9,
    "start_time": "2023-06-21T14:46:06.512Z"
   },
   {
    "duration": 1319,
    "start_time": "2023-06-21T14:46:06.525Z"
   },
   {
    "duration": 1132,
    "start_time": "2023-06-21T14:46:07.846Z"
   },
   {
    "duration": 1055,
    "start_time": "2023-06-21T14:46:08.981Z"
   },
   {
    "duration": 1004,
    "start_time": "2023-06-21T14:46:10.038Z"
   },
   {
    "duration": 1084,
    "start_time": "2023-06-21T14:46:11.045Z"
   },
   {
    "duration": 1104,
    "start_time": "2023-06-21T14:46:12.131Z"
   },
   {
    "duration": 26,
    "start_time": "2023-06-21T14:46:13.238Z"
   },
   {
    "duration": 23,
    "start_time": "2023-06-21T14:46:13.267Z"
   },
   {
    "duration": 22,
    "start_time": "2023-06-21T14:46:13.292Z"
   },
   {
    "duration": 20,
    "start_time": "2023-06-21T14:46:13.317Z"
   },
   {
    "duration": 1293,
    "start_time": "2023-06-21T14:46:13.339Z"
   },
   {
    "duration": 52,
    "start_time": "2023-06-21T14:46:14.635Z"
   },
   {
    "duration": 5,
    "start_time": "2023-06-21T14:46:14.689Z"
   },
   {
    "duration": 55,
    "start_time": "2023-06-21T14:46:17.518Z"
   },
   {
    "duration": 5,
    "start_time": "2023-06-21T14:46:19.847Z"
   },
   {
    "duration": 39,
    "start_time": "2023-06-21T14:47:04.236Z"
   },
   {
    "duration": 4,
    "start_time": "2023-06-21T14:47:04.966Z"
   },
   {
    "duration": 40,
    "start_time": "2023-06-21T14:47:27.241Z"
   },
   {
    "duration": 5,
    "start_time": "2023-06-21T14:47:28.174Z"
   },
   {
    "duration": 282,
    "start_time": "2023-06-21T14:47:49.814Z"
   },
   {
    "duration": 18,
    "start_time": "2023-06-21T14:47:58.567Z"
   },
   {
    "duration": 1607,
    "start_time": "2023-06-21T14:49:19.613Z"
   },
   {
    "duration": 811,
    "start_time": "2023-06-21T14:49:21.223Z"
   },
   {
    "duration": 95,
    "start_time": "2023-06-21T14:49:22.036Z"
   },
   {
    "duration": 61,
    "start_time": "2023-06-21T14:49:22.133Z"
   },
   {
    "duration": 94,
    "start_time": "2023-06-21T14:49:22.196Z"
   },
   {
    "duration": 3,
    "start_time": "2023-06-21T14:49:22.292Z"
   },
   {
    "duration": 19,
    "start_time": "2023-06-21T14:49:22.297Z"
   },
   {
    "duration": 10,
    "start_time": "2023-06-21T14:49:22.318Z"
   },
   {
    "duration": 5,
    "start_time": "2023-06-21T14:49:22.330Z"
   },
   {
    "duration": 276,
    "start_time": "2023-06-21T14:49:22.337Z"
   },
   {
    "duration": 9,
    "start_time": "2023-06-21T14:49:22.615Z"
   },
   {
    "duration": 10,
    "start_time": "2023-06-21T14:49:22.626Z"
   },
   {
    "duration": 23,
    "start_time": "2023-06-21T14:49:22.638Z"
   },
   {
    "duration": 827,
    "start_time": "2023-06-21T14:49:22.665Z"
   },
   {
    "duration": 14,
    "start_time": "2023-06-21T14:49:23.494Z"
   },
   {
    "duration": 19,
    "start_time": "2023-06-21T14:49:23.510Z"
   },
   {
    "duration": 953,
    "start_time": "2023-06-21T14:49:23.531Z"
   },
   {
    "duration": 10,
    "start_time": "2023-06-21T14:49:24.485Z"
   },
   {
    "duration": 9250,
    "start_time": "2023-06-21T14:49:24.497Z"
   },
   {
    "duration": 3,
    "start_time": "2023-06-21T14:49:33.757Z"
   },
   {
    "duration": 78,
    "start_time": "2023-06-21T14:49:33.762Z"
   },
   {
    "duration": 5207,
    "start_time": "2023-06-21T14:49:33.842Z"
   },
   {
    "duration": 9,
    "start_time": "2023-06-21T14:49:39.052Z"
   },
   {
    "duration": 1173,
    "start_time": "2023-06-21T14:49:39.064Z"
   },
   {
    "duration": 1175,
    "start_time": "2023-06-21T14:49:40.239Z"
   },
   {
    "duration": 1230,
    "start_time": "2023-06-21T14:49:41.416Z"
   },
   {
    "duration": 1356,
    "start_time": "2023-06-21T14:49:42.648Z"
   },
   {
    "duration": 1348,
    "start_time": "2023-06-21T14:49:44.007Z"
   },
   {
    "duration": 1081,
    "start_time": "2023-06-21T14:49:45.357Z"
   },
   {
    "duration": 29,
    "start_time": "2023-06-21T14:49:46.440Z"
   },
   {
    "duration": 27,
    "start_time": "2023-06-21T14:49:46.471Z"
   },
   {
    "duration": 7,
    "start_time": "2023-06-21T14:49:46.500Z"
   },
   {
    "duration": 14,
    "start_time": "2023-06-21T14:49:46.509Z"
   },
   {
    "duration": 1328,
    "start_time": "2023-06-21T14:49:46.525Z"
   },
   {
    "duration": 46,
    "start_time": "2023-06-21T14:49:47.855Z"
   },
   {
    "duration": 5,
    "start_time": "2023-06-21T14:49:47.903Z"
   },
   {
    "duration": 70,
    "start_time": "2023-06-21T14:49:47.909Z"
   },
   {
    "duration": 5,
    "start_time": "2023-06-21T14:49:47.982Z"
   },
   {
    "duration": 599,
    "start_time": "2023-06-21T14:49:47.988Z"
   },
   {
    "duration": 132,
    "start_time": "2023-06-21T14:49:48.589Z"
   },
   {
    "duration": 339,
    "start_time": "2023-06-21T14:49:48.726Z"
   },
   {
    "duration": 1072,
    "start_time": "2023-06-21T14:49:49.067Z"
   },
   {
    "duration": 659,
    "start_time": "2023-06-21T14:49:50.141Z"
   },
   {
    "duration": 939,
    "start_time": "2023-06-21T14:49:50.802Z"
   },
   {
    "duration": 19,
    "start_time": "2023-06-21T14:49:51.742Z"
   },
   {
    "duration": 61,
    "start_time": "2023-06-21T14:49:51.763Z"
   },
   {
    "duration": 4,
    "start_time": "2023-06-21T14:49:51.826Z"
   },
   {
    "duration": 28,
    "start_time": "2023-06-21T14:49:51.832Z"
   },
   {
    "duration": 27,
    "start_time": "2023-06-21T14:49:51.862Z"
   },
   {
    "duration": 30,
    "start_time": "2023-06-21T14:49:51.891Z"
   },
   {
    "duration": 498249,
    "start_time": "2023-06-21T14:49:51.923Z"
   },
   {
    "duration": 85,
    "start_time": "2023-06-21T14:58:10.175Z"
   },
   {
    "duration": 362,
    "start_time": "2023-06-21T14:58:10.262Z"
   },
   {
    "duration": 13,
    "start_time": "2023-06-21T14:58:10.626Z"
   },
   {
    "duration": 19,
    "start_time": "2023-06-21T14:58:48.209Z"
   },
   {
    "duration": 6,
    "start_time": "2023-06-21T14:58:58.536Z"
   },
   {
    "duration": 891,
    "start_time": "2023-06-21T14:58:58.545Z"
   },
   {
    "duration": 78,
    "start_time": "2023-06-21T14:58:59.438Z"
   },
   {
    "duration": 72,
    "start_time": "2023-06-21T14:58:59.518Z"
   },
   {
    "duration": 114,
    "start_time": "2023-06-21T14:58:59.592Z"
   },
   {
    "duration": 5,
    "start_time": "2023-06-21T14:58:59.708Z"
   },
   {
    "duration": 22,
    "start_time": "2023-06-21T14:58:59.714Z"
   },
   {
    "duration": 13,
    "start_time": "2023-06-21T14:58:59.738Z"
   },
   {
    "duration": 10,
    "start_time": "2023-06-21T14:58:59.754Z"
   },
   {
    "duration": 352,
    "start_time": "2023-06-21T14:58:59.766Z"
   },
   {
    "duration": 10,
    "start_time": "2023-06-21T14:59:00.120Z"
   },
   {
    "duration": 26,
    "start_time": "2023-06-21T14:59:00.131Z"
   },
   {
    "duration": 45,
    "start_time": "2023-06-21T14:59:00.159Z"
   },
   {
    "duration": 643,
    "start_time": "2023-06-21T14:59:00.207Z"
   },
   {
    "duration": 18,
    "start_time": "2023-06-21T14:59:00.853Z"
   },
   {
    "duration": 54,
    "start_time": "2023-06-21T14:59:00.873Z"
   },
   {
    "duration": 692,
    "start_time": "2023-06-21T14:59:00.930Z"
   },
   {
    "duration": 12,
    "start_time": "2023-06-21T14:59:01.625Z"
   },
   {
    "duration": 8767,
    "start_time": "2023-06-21T14:59:01.640Z"
   },
   {
    "duration": 3,
    "start_time": "2023-06-21T14:59:10.409Z"
   },
   {
    "duration": 67,
    "start_time": "2023-06-21T14:59:10.414Z"
   },
   {
    "duration": 5139,
    "start_time": "2023-06-21T14:59:10.483Z"
   },
   {
    "duration": 8,
    "start_time": "2023-06-21T14:59:15.624Z"
   },
   {
    "duration": 1026,
    "start_time": "2023-06-21T14:59:15.635Z"
   },
   {
    "duration": 993,
    "start_time": "2023-06-21T14:59:16.663Z"
   },
   {
    "duration": 1656,
    "start_time": "2023-06-21T14:59:17.659Z"
   },
   {
    "duration": 0,
    "start_time": "2023-06-21T14:59:19.318Z"
   },
   {
    "duration": 0,
    "start_time": "2023-06-21T14:59:19.319Z"
   },
   {
    "duration": 0,
    "start_time": "2023-06-21T14:59:19.321Z"
   },
   {
    "duration": 0,
    "start_time": "2023-06-21T14:59:19.322Z"
   },
   {
    "duration": 0,
    "start_time": "2023-06-21T14:59:19.324Z"
   },
   {
    "duration": 0,
    "start_time": "2023-06-21T14:59:19.325Z"
   },
   {
    "duration": 0,
    "start_time": "2023-06-21T14:59:19.326Z"
   },
   {
    "duration": 0,
    "start_time": "2023-06-21T14:59:19.327Z"
   },
   {
    "duration": 0,
    "start_time": "2023-06-21T14:59:19.329Z"
   },
   {
    "duration": 0,
    "start_time": "2023-06-21T14:59:19.330Z"
   },
   {
    "duration": 0,
    "start_time": "2023-06-21T14:59:19.331Z"
   },
   {
    "duration": 0,
    "start_time": "2023-06-21T14:59:19.332Z"
   },
   {
    "duration": 0,
    "start_time": "2023-06-21T14:59:19.333Z"
   },
   {
    "duration": 0,
    "start_time": "2023-06-21T14:59:19.357Z"
   },
   {
    "duration": 0,
    "start_time": "2023-06-21T14:59:19.359Z"
   },
   {
    "duration": 0,
    "start_time": "2023-06-21T14:59:19.360Z"
   },
   {
    "duration": 0,
    "start_time": "2023-06-21T14:59:19.361Z"
   },
   {
    "duration": 0,
    "start_time": "2023-06-21T14:59:19.362Z"
   },
   {
    "duration": 0,
    "start_time": "2023-06-21T14:59:19.363Z"
   },
   {
    "duration": 0,
    "start_time": "2023-06-21T14:59:19.364Z"
   },
   {
    "duration": 0,
    "start_time": "2023-06-21T14:59:19.365Z"
   },
   {
    "duration": 0,
    "start_time": "2023-06-21T14:59:19.367Z"
   },
   {
    "duration": 0,
    "start_time": "2023-06-21T14:59:19.367Z"
   },
   {
    "duration": 0,
    "start_time": "2023-06-21T14:59:19.368Z"
   },
   {
    "duration": 0,
    "start_time": "2023-06-21T14:59:19.371Z"
   },
   {
    "duration": 0,
    "start_time": "2023-06-21T14:59:19.372Z"
   },
   {
    "duration": 0,
    "start_time": "2023-06-21T14:59:19.373Z"
   },
   {
    "duration": 0,
    "start_time": "2023-06-21T14:59:19.375Z"
   },
   {
    "duration": 4,
    "start_time": "2023-06-21T14:59:33.006Z"
   },
   {
    "duration": 5,
    "start_time": "2023-06-21T15:00:01.359Z"
   },
   {
    "duration": 5,
    "start_time": "2023-06-21T15:00:03.280Z"
   },
   {
    "duration": 866,
    "start_time": "2023-06-21T15:00:03.287Z"
   },
   {
    "duration": 91,
    "start_time": "2023-06-21T15:00:04.155Z"
   },
   {
    "duration": 67,
    "start_time": "2023-06-21T15:00:04.248Z"
   },
   {
    "duration": 124,
    "start_time": "2023-06-21T15:00:04.318Z"
   },
   {
    "duration": 4,
    "start_time": "2023-06-21T15:00:04.457Z"
   },
   {
    "duration": 16,
    "start_time": "2023-06-21T15:00:04.463Z"
   },
   {
    "duration": 29,
    "start_time": "2023-06-21T15:00:04.481Z"
   },
   {
    "duration": 45,
    "start_time": "2023-06-21T15:00:04.513Z"
   },
   {
    "duration": 315,
    "start_time": "2023-06-21T15:00:04.560Z"
   },
   {
    "duration": 9,
    "start_time": "2023-06-21T15:00:04.877Z"
   },
   {
    "duration": 48,
    "start_time": "2023-06-21T15:00:04.888Z"
   },
   {
    "duration": 12,
    "start_time": "2023-06-21T15:00:04.938Z"
   },
   {
    "duration": 653,
    "start_time": "2023-06-21T15:00:04.953Z"
   },
   {
    "duration": 19,
    "start_time": "2023-06-21T15:00:05.608Z"
   },
   {
    "duration": 177,
    "start_time": "2023-06-21T15:00:05.629Z"
   },
   {
    "duration": 769,
    "start_time": "2023-06-21T15:00:05.809Z"
   },
   {
    "duration": 9,
    "start_time": "2023-06-21T15:00:06.580Z"
   },
   {
    "duration": 769,
    "start_time": "2023-06-21T15:00:06.591Z"
   },
   {
    "duration": 0,
    "start_time": "2023-06-21T15:00:07.363Z"
   },
   {
    "duration": 0,
    "start_time": "2023-06-21T15:00:07.365Z"
   },
   {
    "duration": 0,
    "start_time": "2023-06-21T15:00:07.366Z"
   },
   {
    "duration": 0,
    "start_time": "2023-06-21T15:00:07.367Z"
   },
   {
    "duration": 0,
    "start_time": "2023-06-21T15:00:07.369Z"
   },
   {
    "duration": 0,
    "start_time": "2023-06-21T15:00:07.371Z"
   },
   {
    "duration": 0,
    "start_time": "2023-06-21T15:00:07.374Z"
   },
   {
    "duration": 0,
    "start_time": "2023-06-21T15:00:07.376Z"
   },
   {
    "duration": 0,
    "start_time": "2023-06-21T15:00:07.377Z"
   },
   {
    "duration": 0,
    "start_time": "2023-06-21T15:00:07.378Z"
   },
   {
    "duration": 0,
    "start_time": "2023-06-21T15:00:07.379Z"
   },
   {
    "duration": 0,
    "start_time": "2023-06-21T15:00:07.381Z"
   },
   {
    "duration": 0,
    "start_time": "2023-06-21T15:00:07.382Z"
   },
   {
    "duration": 0,
    "start_time": "2023-06-21T15:00:07.384Z"
   },
   {
    "duration": 0,
    "start_time": "2023-06-21T15:00:07.384Z"
   },
   {
    "duration": 0,
    "start_time": "2023-06-21T15:00:07.386Z"
   },
   {
    "duration": 0,
    "start_time": "2023-06-21T15:00:07.387Z"
   },
   {
    "duration": 0,
    "start_time": "2023-06-21T15:00:07.390Z"
   },
   {
    "duration": 0,
    "start_time": "2023-06-21T15:00:07.392Z"
   },
   {
    "duration": 0,
    "start_time": "2023-06-21T15:00:07.395Z"
   },
   {
    "duration": 0,
    "start_time": "2023-06-21T15:00:07.397Z"
   },
   {
    "duration": 0,
    "start_time": "2023-06-21T15:00:07.399Z"
   },
   {
    "duration": 0,
    "start_time": "2023-06-21T15:00:07.401Z"
   },
   {
    "duration": 0,
    "start_time": "2023-06-21T15:00:07.402Z"
   },
   {
    "duration": 0,
    "start_time": "2023-06-21T15:00:07.457Z"
   },
   {
    "duration": 0,
    "start_time": "2023-06-21T15:00:07.459Z"
   },
   {
    "duration": 0,
    "start_time": "2023-06-21T15:00:07.459Z"
   },
   {
    "duration": 0,
    "start_time": "2023-06-21T15:00:07.461Z"
   },
   {
    "duration": 0,
    "start_time": "2023-06-21T15:00:07.462Z"
   },
   {
    "duration": 0,
    "start_time": "2023-06-21T15:00:07.463Z"
   },
   {
    "duration": 0,
    "start_time": "2023-06-21T15:00:07.464Z"
   },
   {
    "duration": 0,
    "start_time": "2023-06-21T15:00:07.465Z"
   },
   {
    "duration": 0,
    "start_time": "2023-06-21T15:00:07.467Z"
   },
   {
    "duration": 0,
    "start_time": "2023-06-21T15:00:07.468Z"
   },
   {
    "duration": 0,
    "start_time": "2023-06-21T15:00:07.469Z"
   },
   {
    "duration": 6,
    "start_time": "2023-06-21T15:00:33.558Z"
   },
   {
    "duration": 781,
    "start_time": "2023-06-21T15:00:33.566Z"
   },
   {
    "duration": 85,
    "start_time": "2023-06-21T15:00:34.349Z"
   },
   {
    "duration": 57,
    "start_time": "2023-06-21T15:00:34.437Z"
   },
   {
    "duration": 114,
    "start_time": "2023-06-21T15:00:34.496Z"
   },
   {
    "duration": 3,
    "start_time": "2023-06-21T15:00:34.612Z"
   },
   {
    "duration": 14,
    "start_time": "2023-06-21T15:00:34.616Z"
   },
   {
    "duration": 24,
    "start_time": "2023-06-21T15:00:34.632Z"
   },
   {
    "duration": 52,
    "start_time": "2023-06-21T15:00:34.658Z"
   },
   {
    "duration": 281,
    "start_time": "2023-06-21T15:00:34.713Z"
   },
   {
    "duration": 10,
    "start_time": "2023-06-21T15:00:34.996Z"
   },
   {
    "duration": 13,
    "start_time": "2023-06-21T15:00:35.008Z"
   },
   {
    "duration": 22,
    "start_time": "2023-06-21T15:00:35.022Z"
   },
   {
    "duration": 651,
    "start_time": "2023-06-21T15:00:35.046Z"
   },
   {
    "duration": 17,
    "start_time": "2023-06-21T15:00:35.699Z"
   },
   {
    "duration": 14,
    "start_time": "2023-06-21T15:00:35.718Z"
   },
   {
    "duration": 698,
    "start_time": "2023-06-21T15:00:35.734Z"
   },
   {
    "duration": 11,
    "start_time": "2023-06-21T15:00:36.436Z"
   },
   {
    "duration": 8625,
    "start_time": "2023-06-21T15:00:36.458Z"
   },
   {
    "duration": 3,
    "start_time": "2023-06-21T15:00:45.086Z"
   },
   {
    "duration": 121,
    "start_time": "2023-06-21T15:00:45.090Z"
   },
   {
    "duration": 4970,
    "start_time": "2023-06-21T15:00:45.213Z"
   },
   {
    "duration": 7,
    "start_time": "2023-06-21T15:00:50.185Z"
   },
   {
    "duration": 1244,
    "start_time": "2023-06-21T15:00:50.194Z"
   },
   {
    "duration": 1077,
    "start_time": "2023-06-21T15:00:51.441Z"
   },
   {
    "duration": 1017,
    "start_time": "2023-06-21T15:00:52.521Z"
   },
   {
    "duration": 1208,
    "start_time": "2023-06-21T15:00:53.540Z"
   },
   {
    "duration": 1031,
    "start_time": "2023-06-21T15:00:54.752Z"
   },
   {
    "duration": 1206,
    "start_time": "2023-06-21T15:00:55.786Z"
   },
   {
    "duration": 23,
    "start_time": "2023-06-21T15:00:56.993Z"
   },
   {
    "duration": 38,
    "start_time": "2023-06-21T15:00:57.018Z"
   },
   {
    "duration": 3,
    "start_time": "2023-06-21T15:00:57.058Z"
   },
   {
    "duration": 10,
    "start_time": "2023-06-21T15:00:57.063Z"
   },
   {
    "duration": 1436,
    "start_time": "2023-06-21T15:00:57.075Z"
   },
   {
    "duration": 65,
    "start_time": "2023-06-21T15:00:58.518Z"
   },
   {
    "duration": 5,
    "start_time": "2023-06-21T15:00:58.585Z"
   },
   {
    "duration": 45,
    "start_time": "2023-06-21T15:00:58.592Z"
   },
   {
    "duration": 19,
    "start_time": "2023-06-21T15:00:58.639Z"
   },
   {
    "duration": 550,
    "start_time": "2023-06-21T15:00:58.660Z"
   },
   {
    "duration": 133,
    "start_time": "2023-06-21T15:00:59.212Z"
   },
   {
    "duration": 237,
    "start_time": "2023-06-21T15:00:59.347Z"
   },
   {
    "duration": 1025,
    "start_time": "2023-06-21T15:00:59.586Z"
   },
   {
    "duration": 760,
    "start_time": "2023-06-21T15:01:00.613Z"
   },
   {
    "duration": 1108,
    "start_time": "2023-06-21T15:01:01.375Z"
   },
   {
    "duration": 13,
    "start_time": "2023-06-21T15:01:02.486Z"
   },
   {
    "duration": 78,
    "start_time": "2023-06-21T15:01:02.501Z"
   },
   {
    "duration": 4,
    "start_time": "2023-06-21T15:01:02.581Z"
   },
   {
    "duration": 12,
    "start_time": "2023-06-21T15:01:02.587Z"
   },
   {
    "duration": 22,
    "start_time": "2023-06-21T15:01:02.601Z"
   },
   {
    "duration": 16,
    "start_time": "2023-06-21T15:01:02.625Z"
   },
   {
    "duration": 544159,
    "start_time": "2023-06-21T15:01:02.643Z"
   },
   {
    "duration": 42,
    "start_time": "2023-06-21T15:10:06.818Z"
   },
   {
    "duration": 304,
    "start_time": "2023-06-21T15:10:06.863Z"
   },
   {
    "duration": 28,
    "start_time": "2023-06-21T15:10:07.177Z"
   },
   {
    "duration": 7,
    "start_time": "2023-06-21T15:13:43.869Z"
   },
   {
    "duration": 931,
    "start_time": "2023-06-21T15:13:43.879Z"
   },
   {
    "duration": 97,
    "start_time": "2023-06-21T15:13:44.812Z"
   },
   {
    "duration": 72,
    "start_time": "2023-06-21T15:13:44.912Z"
   },
   {
    "duration": 111,
    "start_time": "2023-06-21T15:13:44.987Z"
   },
   {
    "duration": 4,
    "start_time": "2023-06-21T15:13:45.100Z"
   },
   {
    "duration": 36,
    "start_time": "2023-06-21T15:13:45.107Z"
   },
   {
    "duration": 33,
    "start_time": "2023-06-21T15:13:45.146Z"
   },
   {
    "duration": 43,
    "start_time": "2023-06-21T15:13:45.182Z"
   },
   {
    "duration": 265,
    "start_time": "2023-06-21T15:13:45.227Z"
   },
   {
    "duration": 9,
    "start_time": "2023-06-21T15:13:45.495Z"
   },
   {
    "duration": 44,
    "start_time": "2023-06-21T15:13:45.505Z"
   },
   {
    "duration": 13,
    "start_time": "2023-06-21T15:13:45.552Z"
   },
   {
    "duration": 787,
    "start_time": "2023-06-21T15:13:45.576Z"
   },
   {
    "duration": 20,
    "start_time": "2023-06-21T15:13:46.374Z"
   },
   {
    "duration": 75,
    "start_time": "2023-06-21T15:13:46.395Z"
   },
   {
    "duration": 759,
    "start_time": "2023-06-21T15:13:46.483Z"
   },
   {
    "duration": 28,
    "start_time": "2023-06-21T15:13:47.244Z"
   },
   {
    "duration": 7371,
    "start_time": "2023-06-21T15:13:47.279Z"
   },
   {
    "duration": 4,
    "start_time": "2023-06-21T15:13:54.656Z"
   },
   {
    "duration": 66,
    "start_time": "2023-06-21T15:13:54.664Z"
   },
   {
    "duration": 5608,
    "start_time": "2023-06-21T15:13:54.732Z"
   },
   {
    "duration": 24,
    "start_time": "2023-06-21T15:14:00.342Z"
   },
   {
    "duration": 1636,
    "start_time": "2023-06-21T15:14:00.368Z"
   },
   {
    "duration": 1180,
    "start_time": "2023-06-21T15:14:02.006Z"
   },
   {
    "duration": 1302,
    "start_time": "2023-06-21T15:14:03.188Z"
   },
   {
    "duration": 1196,
    "start_time": "2023-06-21T15:14:04.492Z"
   },
   {
    "duration": 1093,
    "start_time": "2023-06-21T15:14:05.690Z"
   },
   {
    "duration": 1287,
    "start_time": "2023-06-21T15:14:06.789Z"
   },
   {
    "duration": 26,
    "start_time": "2023-06-21T15:14:08.079Z"
   },
   {
    "duration": 22,
    "start_time": "2023-06-21T15:14:08.108Z"
   },
   {
    "duration": 10,
    "start_time": "2023-06-21T15:14:08.132Z"
   },
   {
    "duration": 8,
    "start_time": "2023-06-21T15:14:08.144Z"
   },
   {
    "duration": 1193,
    "start_time": "2023-06-21T15:14:08.156Z"
   },
   {
    "duration": 80,
    "start_time": "2023-06-21T15:14:09.351Z"
   },
   {
    "duration": 4,
    "start_time": "2023-06-21T15:14:09.434Z"
   },
   {
    "duration": 82,
    "start_time": "2023-06-21T15:14:09.440Z"
   },
   {
    "duration": 8,
    "start_time": "2023-06-21T15:14:09.527Z"
   },
   {
    "duration": 545,
    "start_time": "2023-06-21T15:14:09.537Z"
   },
   {
    "duration": 133,
    "start_time": "2023-06-21T15:14:10.083Z"
   },
   {
    "duration": 335,
    "start_time": "2023-06-21T15:14:10.218Z"
   },
   {
    "duration": 1196,
    "start_time": "2023-06-21T15:14:10.555Z"
   },
   {
    "duration": 751,
    "start_time": "2023-06-21T15:14:11.761Z"
   },
   {
    "duration": 904,
    "start_time": "2023-06-21T15:14:12.515Z"
   },
   {
    "duration": 11,
    "start_time": "2023-06-21T15:14:13.421Z"
   },
   {
    "duration": 80,
    "start_time": "2023-06-21T15:14:13.434Z"
   },
   {
    "duration": 3,
    "start_time": "2023-06-21T15:14:13.516Z"
   },
   {
    "duration": 9,
    "start_time": "2023-06-21T15:14:13.521Z"
   },
   {
    "duration": 13,
    "start_time": "2023-06-21T15:14:13.533Z"
   },
   {
    "duration": 28,
    "start_time": "2023-06-21T15:14:13.548Z"
   },
   {
    "duration": 357882,
    "start_time": "2023-06-21T15:14:13.579Z"
   },
   {
    "duration": 90,
    "start_time": "2023-06-21T15:20:11.466Z"
   },
   {
    "duration": 235,
    "start_time": "2023-06-21T15:20:11.564Z"
   },
   {
    "duration": 14,
    "start_time": "2023-06-21T15:20:11.800Z"
   },
   {
    "duration": 9,
    "start_time": "2023-06-21T15:22:45.763Z"
   },
   {
    "duration": 3,
    "start_time": "2023-06-21T15:22:55.830Z"
   },
   {
    "duration": 5,
    "start_time": "2023-06-21T15:22:57.523Z"
   },
   {
    "duration": 5,
    "start_time": "2023-06-21T15:22:58.264Z"
   },
   {
    "duration": 308230,
    "start_time": "2023-06-21T15:22:59.632Z"
   },
   {
    "duration": 6,
    "start_time": "2023-06-21T15:28:07.865Z"
   },
   {
    "duration": 116,
    "start_time": "2023-06-21T15:28:07.874Z"
   },
   {
    "duration": 7,
    "start_time": "2023-06-21T15:28:29.940Z"
   },
   {
    "duration": 233,
    "start_time": "2023-06-21T15:28:32.518Z"
   },
   {
    "duration": 13,
    "start_time": "2023-06-21T15:28:36.693Z"
   },
   {
    "duration": 308463,
    "start_time": "2023-06-21T15:28:50.113Z"
   },
   {
    "duration": 8,
    "start_time": "2023-06-21T15:38:46.003Z"
   },
   {
    "duration": 230,
    "start_time": "2023-06-21T15:38:49.434Z"
   },
   {
    "duration": 15,
    "start_time": "2023-06-21T15:38:56.237Z"
   },
   {
    "duration": 5,
    "start_time": "2023-06-21T15:39:23.596Z"
   },
   {
    "duration": 862,
    "start_time": "2023-06-21T15:39:23.604Z"
   },
   {
    "duration": 76,
    "start_time": "2023-06-21T15:39:24.469Z"
   },
   {
    "duration": 62,
    "start_time": "2023-06-21T15:39:24.558Z"
   },
   {
    "duration": 104,
    "start_time": "2023-06-21T15:39:24.622Z"
   },
   {
    "duration": 3,
    "start_time": "2023-06-21T15:39:24.728Z"
   },
   {
    "duration": 8,
    "start_time": "2023-06-21T15:39:24.733Z"
   },
   {
    "duration": 27,
    "start_time": "2023-06-21T15:39:24.743Z"
   },
   {
    "duration": 5,
    "start_time": "2023-06-21T15:39:24.777Z"
   },
   {
    "duration": 295,
    "start_time": "2023-06-21T15:39:24.784Z"
   },
   {
    "duration": 10,
    "start_time": "2023-06-21T15:39:25.082Z"
   },
   {
    "duration": 47,
    "start_time": "2023-06-21T15:39:25.093Z"
   },
   {
    "duration": 43,
    "start_time": "2023-06-21T15:39:25.143Z"
   },
   {
    "duration": 762,
    "start_time": "2023-06-21T15:39:25.188Z"
   },
   {
    "duration": 24,
    "start_time": "2023-06-21T15:39:25.955Z"
   },
   {
    "duration": 15,
    "start_time": "2023-06-21T15:39:25.981Z"
   },
   {
    "duration": 694,
    "start_time": "2023-06-21T15:39:25.998Z"
   },
   {
    "duration": 12,
    "start_time": "2023-06-21T15:39:26.695Z"
   },
   {
    "duration": 10221,
    "start_time": "2023-06-21T15:39:26.710Z"
   },
   {
    "duration": 4,
    "start_time": "2023-06-21T15:39:36.933Z"
   },
   {
    "duration": 71,
    "start_time": "2023-06-21T15:39:36.939Z"
   },
   {
    "duration": 6675,
    "start_time": "2023-06-21T15:39:37.012Z"
   },
   {
    "duration": 8,
    "start_time": "2023-06-21T15:39:43.688Z"
   },
   {
    "duration": 1268,
    "start_time": "2023-06-21T15:39:43.698Z"
   },
   {
    "duration": 1275,
    "start_time": "2023-06-21T15:39:44.968Z"
   },
   {
    "duration": 1101,
    "start_time": "2023-06-21T15:39:46.245Z"
   },
   {
    "duration": 1460,
    "start_time": "2023-06-21T15:39:47.349Z"
   },
   {
    "duration": 1197,
    "start_time": "2023-06-21T15:39:48.810Z"
   },
   {
    "duration": 1131,
    "start_time": "2023-06-21T15:39:50.009Z"
   },
   {
    "duration": 31,
    "start_time": "2023-06-21T15:39:51.142Z"
   },
   {
    "duration": 51,
    "start_time": "2023-06-21T15:39:51.175Z"
   },
   {
    "duration": 23,
    "start_time": "2023-06-21T15:39:51.228Z"
   },
   {
    "duration": 53,
    "start_time": "2023-06-21T15:39:51.253Z"
   },
   {
    "duration": 1046,
    "start_time": "2023-06-21T15:39:51.308Z"
   },
   {
    "duration": 30,
    "start_time": "2023-06-21T15:39:56.441Z"
   },
   {
    "duration": 8,
    "start_time": "2023-06-21T15:39:57.306Z"
   },
   {
    "duration": 41,
    "start_time": "2023-06-21T15:39:59.508Z"
   },
   {
    "duration": 8,
    "start_time": "2023-06-21T15:40:12.648Z"
   },
   {
    "duration": 753,
    "start_time": "2023-06-21T15:40:12.661Z"
   },
   {
    "duration": 89,
    "start_time": "2023-06-21T15:40:13.416Z"
   },
   {
    "duration": 71,
    "start_time": "2023-06-21T15:40:13.508Z"
   },
   {
    "duration": 91,
    "start_time": "2023-06-21T15:40:13.581Z"
   },
   {
    "duration": 6,
    "start_time": "2023-06-21T15:40:13.677Z"
   },
   {
    "duration": 6,
    "start_time": "2023-06-21T15:40:13.686Z"
   },
   {
    "duration": 12,
    "start_time": "2023-06-21T15:40:13.694Z"
   },
   {
    "duration": 14,
    "start_time": "2023-06-21T15:40:13.708Z"
   },
   {
    "duration": 263,
    "start_time": "2023-06-21T15:40:13.724Z"
   },
   {
    "duration": 9,
    "start_time": "2023-06-21T15:40:13.988Z"
   },
   {
    "duration": 9,
    "start_time": "2023-06-21T15:40:13.999Z"
   },
   {
    "duration": 6,
    "start_time": "2023-06-21T15:40:14.010Z"
   },
   {
    "duration": 700,
    "start_time": "2023-06-21T15:40:14.018Z"
   },
   {
    "duration": 24,
    "start_time": "2023-06-21T15:40:14.720Z"
   },
   {
    "duration": 33,
    "start_time": "2023-06-21T15:40:14.746Z"
   },
   {
    "duration": 538,
    "start_time": "2023-06-21T15:40:14.785Z"
   },
   {
    "duration": 10,
    "start_time": "2023-06-21T15:40:15.325Z"
   },
   {
    "duration": 9550,
    "start_time": "2023-06-21T15:40:15.337Z"
   },
   {
    "duration": 3,
    "start_time": "2023-06-21T15:40:24.889Z"
   },
   {
    "duration": 81,
    "start_time": "2023-06-21T15:40:24.893Z"
   },
   {
    "duration": 6917,
    "start_time": "2023-06-21T15:40:24.976Z"
   },
   {
    "duration": 9,
    "start_time": "2023-06-21T15:40:31.895Z"
   },
   {
    "duration": 1074,
    "start_time": "2023-06-21T15:40:31.906Z"
   },
   {
    "duration": 1178,
    "start_time": "2023-06-21T15:40:32.984Z"
   },
   {
    "duration": 983,
    "start_time": "2023-06-21T15:40:34.164Z"
   },
   {
    "duration": 1291,
    "start_time": "2023-06-21T15:40:35.149Z"
   },
   {
    "duration": 1138,
    "start_time": "2023-06-21T15:40:36.445Z"
   },
   {
    "duration": 999,
    "start_time": "2023-06-21T15:40:37.585Z"
   },
   {
    "duration": 28,
    "start_time": "2023-06-21T15:40:38.586Z"
   },
   {
    "duration": 43,
    "start_time": "2023-06-21T15:40:38.616Z"
   },
   {
    "duration": 21,
    "start_time": "2023-06-21T15:40:38.662Z"
   },
   {
    "duration": 21,
    "start_time": "2023-06-21T15:40:38.685Z"
   },
   {
    "duration": 1123,
    "start_time": "2023-06-21T15:40:38.708Z"
   },
   {
    "duration": 61,
    "start_time": "2023-06-21T15:40:39.833Z"
   },
   {
    "duration": 5,
    "start_time": "2023-06-21T15:40:39.896Z"
   },
   {
    "duration": 48,
    "start_time": "2023-06-21T15:40:39.902Z"
   },
   {
    "duration": 19,
    "start_time": "2023-06-21T15:40:39.953Z"
   },
   {
    "duration": 500,
    "start_time": "2023-06-21T15:40:39.974Z"
   },
   {
    "duration": 130,
    "start_time": "2023-06-21T15:40:40.476Z"
   },
   {
    "duration": 299,
    "start_time": "2023-06-21T15:40:40.609Z"
   },
   {
    "duration": 1174,
    "start_time": "2023-06-21T15:40:40.910Z"
   },
   {
    "duration": 650,
    "start_time": "2023-06-21T15:40:42.087Z"
   },
   {
    "duration": 934,
    "start_time": "2023-06-21T15:40:42.740Z"
   },
   {
    "duration": 14,
    "start_time": "2023-06-21T15:40:43.677Z"
   },
   {
    "duration": 47,
    "start_time": "2023-06-21T15:40:43.693Z"
   },
   {
    "duration": 4,
    "start_time": "2023-06-21T15:40:43.741Z"
   },
   {
    "duration": 23,
    "start_time": "2023-06-21T15:40:43.747Z"
   },
   {
    "duration": 20,
    "start_time": "2023-06-21T15:40:43.772Z"
   },
   {
    "duration": 38,
    "start_time": "2023-06-21T15:40:43.794Z"
   },
   {
    "duration": 320841,
    "start_time": "2023-06-21T15:40:43.835Z"
   },
   {
    "duration": 88,
    "start_time": "2023-06-21T15:46:04.683Z"
   },
   {
    "duration": 313,
    "start_time": "2023-06-21T15:46:04.778Z"
   },
   {
    "duration": 14,
    "start_time": "2023-06-21T15:46:05.093Z"
   },
   {
    "duration": 9,
    "start_time": "2023-06-21T15:50:50.516Z"
   },
   {
    "duration": 222,
    "start_time": "2023-06-21T15:50:52.408Z"
   },
   {
    "duration": 17,
    "start_time": "2023-06-21T15:50:56.124Z"
   },
   {
    "duration": 3,
    "start_time": "2023-06-21T15:51:21.837Z"
   },
   {
    "duration": 5,
    "start_time": "2023-06-21T15:51:31.017Z"
   },
   {
    "duration": 882,
    "start_time": "2023-06-21T15:51:31.025Z"
   },
   {
    "duration": 89,
    "start_time": "2023-06-21T15:51:31.909Z"
   },
   {
    "duration": 79,
    "start_time": "2023-06-21T15:51:31.999Z"
   },
   {
    "duration": 109,
    "start_time": "2023-06-21T15:51:32.083Z"
   },
   {
    "duration": 3,
    "start_time": "2023-06-21T15:51:32.194Z"
   },
   {
    "duration": 12,
    "start_time": "2023-06-21T15:51:32.200Z"
   },
   {
    "duration": 10,
    "start_time": "2023-06-21T15:51:32.213Z"
   },
   {
    "duration": 12,
    "start_time": "2023-06-21T15:51:32.225Z"
   },
   {
    "duration": 283,
    "start_time": "2023-06-21T15:51:32.239Z"
   },
   {
    "duration": 9,
    "start_time": "2023-06-21T15:51:32.524Z"
   },
   {
    "duration": 31,
    "start_time": "2023-06-21T15:51:32.535Z"
   },
   {
    "duration": 6,
    "start_time": "2023-06-21T15:51:32.573Z"
   },
   {
    "duration": 646,
    "start_time": "2023-06-21T15:51:32.584Z"
   },
   {
    "duration": 30,
    "start_time": "2023-06-21T15:51:33.233Z"
   },
   {
    "duration": 16,
    "start_time": "2023-06-21T15:51:33.265Z"
   },
   {
    "duration": 858,
    "start_time": "2023-06-21T15:51:33.283Z"
   },
   {
    "duration": 30,
    "start_time": "2023-06-21T15:51:34.143Z"
   },
   {
    "duration": 10230,
    "start_time": "2023-06-21T15:51:34.176Z"
   },
   {
    "duration": 3,
    "start_time": "2023-06-21T15:51:44.409Z"
   },
   {
    "duration": 90,
    "start_time": "2023-06-21T15:51:44.414Z"
   },
   {
    "duration": 6584,
    "start_time": "2023-06-21T15:51:44.506Z"
   },
   {
    "duration": 8,
    "start_time": "2023-06-21T15:51:51.092Z"
   },
   {
    "duration": 1336,
    "start_time": "2023-06-21T15:51:51.103Z"
   },
   {
    "duration": 1059,
    "start_time": "2023-06-21T15:51:52.442Z"
   },
   {
    "duration": 1172,
    "start_time": "2023-06-21T15:51:53.503Z"
   },
   {
    "duration": 1289,
    "start_time": "2023-06-21T15:51:54.678Z"
   },
   {
    "duration": 1231,
    "start_time": "2023-06-21T15:51:55.969Z"
   },
   {
    "duration": 1468,
    "start_time": "2023-06-21T15:51:57.203Z"
   },
   {
    "duration": 21,
    "start_time": "2023-06-21T15:51:58.673Z"
   },
   {
    "duration": 23,
    "start_time": "2023-06-21T15:51:58.696Z"
   },
   {
    "duration": 17,
    "start_time": "2023-06-21T15:51:58.721Z"
   },
   {
    "duration": 26,
    "start_time": "2023-06-21T15:51:58.741Z"
   },
   {
    "duration": 1069,
    "start_time": "2023-06-21T15:51:58.777Z"
   },
   {
    "duration": 56,
    "start_time": "2023-06-21T15:51:59.848Z"
   },
   {
    "duration": 5,
    "start_time": "2023-06-21T15:51:59.907Z"
   },
   {
    "duration": 69,
    "start_time": "2023-06-21T15:51:59.914Z"
   },
   {
    "duration": 5,
    "start_time": "2023-06-21T15:51:59.985Z"
   },
   {
    "duration": 591,
    "start_time": "2023-06-21T15:51:59.992Z"
   },
   {
    "duration": 133,
    "start_time": "2023-06-21T15:52:00.585Z"
   },
   {
    "duration": 316,
    "start_time": "2023-06-21T15:52:00.724Z"
   },
   {
    "duration": 1315,
    "start_time": "2023-06-21T15:52:01.042Z"
   },
   {
    "duration": 713,
    "start_time": "2023-06-21T15:52:02.359Z"
   },
   {
    "duration": 870,
    "start_time": "2023-06-21T15:52:03.074Z"
   },
   {
    "duration": 37,
    "start_time": "2023-06-21T15:52:03.946Z"
   },
   {
    "duration": 48,
    "start_time": "2023-06-21T15:52:03.986Z"
   },
   {
    "duration": 4,
    "start_time": "2023-06-21T15:52:04.036Z"
   },
   {
    "duration": 30,
    "start_time": "2023-06-21T15:52:04.042Z"
   },
   {
    "duration": 6,
    "start_time": "2023-06-21T15:52:04.081Z"
   },
   {
    "duration": 42,
    "start_time": "2023-06-21T15:52:04.090Z"
   },
   {
    "duration": 311527,
    "start_time": "2023-06-21T15:52:04.134Z"
   },
   {
    "duration": 92,
    "start_time": "2023-06-21T15:57:15.670Z"
   },
   {
    "duration": 243,
    "start_time": "2023-06-21T15:57:15.766Z"
   },
   {
    "duration": 12,
    "start_time": "2023-06-21T15:57:16.012Z"
   },
   {
    "duration": 130,
    "start_time": "2023-06-22T15:51:05.819Z"
   },
   {
    "duration": 1630,
    "start_time": "2023-06-22T16:14:24.809Z"
   },
   {
    "duration": 2329,
    "start_time": "2023-06-22T16:14:26.441Z"
   },
   {
    "duration": 81,
    "start_time": "2023-06-22T16:14:28.772Z"
   },
   {
    "duration": 62,
    "start_time": "2023-06-22T16:14:28.855Z"
   },
   {
    "duration": 74,
    "start_time": "2023-06-22T16:14:28.920Z"
   },
   {
    "duration": 3,
    "start_time": "2023-06-22T16:14:28.996Z"
   },
   {
    "duration": 11,
    "start_time": "2023-06-22T16:14:29.001Z"
   },
   {
    "duration": 13,
    "start_time": "2023-06-22T16:14:29.013Z"
   },
   {
    "duration": 16,
    "start_time": "2023-06-22T16:14:29.027Z"
   },
   {
    "duration": 259,
    "start_time": "2023-06-22T16:14:29.045Z"
   },
   {
    "duration": 8,
    "start_time": "2023-06-22T16:14:29.306Z"
   },
   {
    "duration": 12,
    "start_time": "2023-06-22T16:14:29.315Z"
   },
   {
    "duration": 12,
    "start_time": "2023-06-22T16:14:29.329Z"
   },
   {
    "duration": 677,
    "start_time": "2023-06-22T16:14:29.351Z"
   },
   {
    "duration": 12,
    "start_time": "2023-06-22T16:14:30.030Z"
   },
   {
    "duration": 199,
    "start_time": "2023-06-22T16:14:30.052Z"
   },
   {
    "duration": 564,
    "start_time": "2023-06-22T16:14:30.254Z"
   },
   {
    "duration": 9,
    "start_time": "2023-06-22T16:14:30.820Z"
   },
   {
    "duration": 8783,
    "start_time": "2023-06-22T16:14:30.831Z"
   },
   {
    "duration": 4,
    "start_time": "2023-06-22T16:14:39.615Z"
   },
   {
    "duration": 66,
    "start_time": "2023-06-22T16:14:39.620Z"
   },
   {
    "duration": 5711,
    "start_time": "2023-06-22T16:14:39.688Z"
   },
   {
    "duration": 9,
    "start_time": "2023-06-22T16:14:45.401Z"
   },
   {
    "duration": 1026,
    "start_time": "2023-06-22T16:14:45.411Z"
   },
   {
    "duration": 1109,
    "start_time": "2023-06-22T16:14:46.439Z"
   },
   {
    "duration": 1019,
    "start_time": "2023-06-22T16:14:47.553Z"
   },
   {
    "duration": 1059,
    "start_time": "2023-06-22T16:14:48.574Z"
   },
   {
    "duration": 1001,
    "start_time": "2023-06-22T16:14:49.635Z"
   },
   {
    "duration": 989,
    "start_time": "2023-06-22T16:14:50.638Z"
   },
   {
    "duration": 36,
    "start_time": "2023-06-22T16:14:51.629Z"
   },
   {
    "duration": 37,
    "start_time": "2023-06-22T16:14:51.667Z"
   },
   {
    "duration": 26,
    "start_time": "2023-06-22T16:14:51.706Z"
   },
   {
    "duration": 34,
    "start_time": "2023-06-22T16:14:51.735Z"
   },
   {
    "duration": 1048,
    "start_time": "2023-06-22T16:14:51.773Z"
   },
   {
    "duration": 56,
    "start_time": "2023-06-22T16:14:52.824Z"
   },
   {
    "duration": 14,
    "start_time": "2023-06-22T16:14:52.882Z"
   },
   {
    "duration": 88,
    "start_time": "2023-06-22T16:14:52.898Z"
   },
   {
    "duration": 5,
    "start_time": "2023-06-22T16:14:52.988Z"
   },
   {
    "duration": 469,
    "start_time": "2023-06-22T16:14:52.995Z"
   },
   {
    "duration": 115,
    "start_time": "2023-06-22T16:14:53.466Z"
   },
   {
    "duration": 259,
    "start_time": "2023-06-22T16:14:53.585Z"
   },
   {
    "duration": 1021,
    "start_time": "2023-06-22T16:14:53.846Z"
   },
   {
    "duration": 559,
    "start_time": "2023-06-22T16:14:54.869Z"
   },
   {
    "duration": 798,
    "start_time": "2023-06-22T16:14:55.430Z"
   },
   {
    "duration": 10,
    "start_time": "2023-06-22T16:14:56.230Z"
   },
   {
    "duration": 68,
    "start_time": "2023-06-22T16:14:56.241Z"
   },
   {
    "duration": 3,
    "start_time": "2023-06-22T16:14:56.310Z"
   },
   {
    "duration": 11,
    "start_time": "2023-06-22T16:14:56.314Z"
   },
   {
    "duration": 9,
    "start_time": "2023-06-22T16:14:56.326Z"
   },
   {
    "duration": 9,
    "start_time": "2023-06-22T16:14:56.336Z"
   },
   {
    "duration": 220430,
    "start_time": "2023-06-22T16:14:56.346Z"
   },
   {
    "duration": 16,
    "start_time": "2023-06-22T16:18:36.859Z"
   },
   {
    "duration": 121,
    "start_time": "2023-06-22T16:18:36.878Z"
   },
   {
    "duration": 41,
    "start_time": "2023-06-22T16:18:37.001Z"
   },
   {
    "duration": 41,
    "start_time": "2023-06-22T16:44:31.829Z"
   },
   {
    "duration": 19,
    "start_time": "2023-06-22T16:45:52.420Z"
   },
   {
    "duration": 2089,
    "start_time": "2023-06-22T16:46:46.928Z"
   },
   {
    "duration": 38,
    "start_time": "2023-06-22T17:14:32.723Z"
   },
   {
    "duration": 78,
    "start_time": "2023-06-22T17:14:53.691Z"
   },
   {
    "duration": 50,
    "start_time": "2023-06-22T17:15:06.624Z"
   },
   {
    "duration": 83,
    "start_time": "2023-06-22T17:16:31.750Z"
   },
   {
    "duration": 43,
    "start_time": "2023-06-22T17:20:50.735Z"
   },
   {
    "duration": 16,
    "start_time": "2023-06-22T17:21:33.134Z"
   },
   {
    "duration": 13,
    "start_time": "2023-06-22T17:25:15.504Z"
   },
   {
    "duration": 21,
    "start_time": "2023-06-22T17:25:25.871Z"
   },
   {
    "duration": 15,
    "start_time": "2023-06-22T19:05:55.649Z"
   },
   {
    "duration": 116,
    "start_time": "2023-06-22T19:06:26.192Z"
   },
   {
    "duration": 25,
    "start_time": "2023-06-22T19:06:33.836Z"
   },
   {
    "duration": 93,
    "start_time": "2023-06-22T19:09:51.735Z"
   },
   {
    "duration": 167,
    "start_time": "2023-06-22T19:10:12.029Z"
   },
   {
    "duration": 35,
    "start_time": "2023-06-22T19:10:31.145Z"
   },
   {
    "duration": 23,
    "start_time": "2023-06-22T19:10:45.885Z"
   },
   {
    "duration": 38,
    "start_time": "2023-06-22T19:14:07.896Z"
   },
   {
    "duration": 5,
    "start_time": "2023-06-22T19:16:01.732Z"
   },
   {
    "duration": 2961,
    "start_time": "2023-06-22T19:16:01.739Z"
   },
   {
    "duration": 84,
    "start_time": "2023-06-22T19:16:04.703Z"
   },
   {
    "duration": 68,
    "start_time": "2023-06-22T19:16:04.789Z"
   },
   {
    "duration": 90,
    "start_time": "2023-06-22T19:16:04.860Z"
   },
   {
    "duration": 7,
    "start_time": "2023-06-22T19:16:04.951Z"
   },
   {
    "duration": 37,
    "start_time": "2023-06-22T19:16:04.963Z"
   },
   {
    "duration": 26,
    "start_time": "2023-06-22T19:16:05.002Z"
   },
   {
    "duration": 11,
    "start_time": "2023-06-22T19:16:05.030Z"
   },
   {
    "duration": 328,
    "start_time": "2023-06-22T19:16:05.042Z"
   },
   {
    "duration": 15,
    "start_time": "2023-06-22T19:16:05.371Z"
   },
   {
    "duration": 44,
    "start_time": "2023-06-22T19:16:05.387Z"
   },
   {
    "duration": 28,
    "start_time": "2023-06-22T19:16:05.433Z"
   },
   {
    "duration": 672,
    "start_time": "2023-06-22T19:16:05.466Z"
   },
   {
    "duration": 27,
    "start_time": "2023-06-22T19:16:06.140Z"
   },
   {
    "duration": 40,
    "start_time": "2023-06-22T19:16:06.172Z"
   },
   {
    "duration": 747,
    "start_time": "2023-06-22T19:16:06.214Z"
   },
   {
    "duration": 24,
    "start_time": "2023-06-22T19:16:06.974Z"
   },
   {
    "duration": 10310,
    "start_time": "2023-06-22T19:16:07.002Z"
   },
   {
    "duration": 3,
    "start_time": "2023-06-22T19:16:17.314Z"
   },
   {
    "duration": 85,
    "start_time": "2023-06-22T19:16:17.320Z"
   },
   {
    "duration": 9253,
    "start_time": "2023-06-22T19:16:17.407Z"
   },
   {
    "duration": 10,
    "start_time": "2023-06-22T19:16:26.664Z"
   },
   {
    "duration": 1260,
    "start_time": "2023-06-22T19:16:26.676Z"
   },
   {
    "duration": 1044,
    "start_time": "2023-06-22T19:16:27.938Z"
   },
   {
    "duration": 979,
    "start_time": "2023-06-22T19:16:28.985Z"
   },
   {
    "duration": 1222,
    "start_time": "2023-06-22T19:16:29.965Z"
   },
   {
    "duration": 1085,
    "start_time": "2023-06-22T19:16:31.190Z"
   },
   {
    "duration": 1202,
    "start_time": "2023-06-22T19:16:32.279Z"
   },
   {
    "duration": 20,
    "start_time": "2023-06-22T19:16:33.483Z"
   },
   {
    "duration": 39,
    "start_time": "2023-06-22T19:16:33.505Z"
   },
   {
    "duration": 46,
    "start_time": "2023-06-22T19:16:33.546Z"
   },
   {
    "duration": 7,
    "start_time": "2023-06-22T19:16:33.594Z"
   },
   {
    "duration": 1158,
    "start_time": "2023-06-22T19:16:33.603Z"
   },
   {
    "duration": 22,
    "start_time": "2023-06-22T19:25:18.406Z"
   },
   {
    "duration": 59,
    "start_time": "2023-06-22T19:25:30.884Z"
   },
   {
    "duration": 221,
    "start_time": "2023-06-22T19:26:07.294Z"
   },
   {
    "duration": 27,
    "start_time": "2023-06-22T19:26:11.300Z"
   },
   {
    "duration": 29,
    "start_time": "2023-06-22T19:27:14.811Z"
   },
   {
    "duration": 6,
    "start_time": "2023-06-22T19:27:54.744Z"
   },
   {
    "duration": 41,
    "start_time": "2023-06-22T19:30:41.846Z"
   },
   {
    "duration": 20,
    "start_time": "2023-06-22T19:31:10.103Z"
   },
   {
    "duration": 174,
    "start_time": "2023-06-22T19:31:30.505Z"
   },
   {
    "duration": 58,
    "start_time": "2023-06-22T19:31:36.640Z"
   },
   {
    "duration": 37,
    "start_time": "2023-06-22T19:32:16.094Z"
   },
   {
    "duration": 25,
    "start_time": "2023-06-22T19:32:47.594Z"
   },
   {
    "duration": 4981,
    "start_time": "2023-06-22T19:35:08.471Z"
   },
   {
    "duration": 5337,
    "start_time": "2023-06-22T19:35:37.503Z"
   },
   {
    "duration": 4963,
    "start_time": "2023-06-22T19:36:22.643Z"
   },
   {
    "duration": 42,
    "start_time": "2023-06-22T19:37:08.979Z"
   },
   {
    "duration": 14,
    "start_time": "2023-06-22T19:39:22.107Z"
   },
   {
    "duration": 67,
    "start_time": "2023-06-22T19:40:02.751Z"
   },
   {
    "duration": 15,
    "start_time": "2023-06-22T19:42:30.498Z"
   },
   {
    "duration": 62,
    "start_time": "2023-06-22T19:42:36.844Z"
   },
   {
    "duration": 106,
    "start_time": "2023-06-22T19:42:50.142Z"
   },
   {
    "duration": 28,
    "start_time": "2023-06-22T19:45:12.151Z"
   },
   {
    "duration": 16,
    "start_time": "2023-06-22T19:45:17.206Z"
   },
   {
    "duration": 2470,
    "start_time": "2023-06-22T19:48:29.556Z"
   },
   {
    "duration": 2912,
    "start_time": "2023-06-22T19:48:41.436Z"
   },
   {
    "duration": 2610,
    "start_time": "2023-06-22T19:49:06.387Z"
   },
   {
    "duration": 2712,
    "start_time": "2023-06-22T19:49:13.475Z"
   },
   {
    "duration": 3123,
    "start_time": "2023-06-22T19:50:16.613Z"
   },
   {
    "duration": 2392,
    "start_time": "2023-06-22T19:50:24.441Z"
   },
   {
    "duration": 8428,
    "start_time": "2023-06-22T19:50:35.686Z"
   },
   {
    "duration": 2533,
    "start_time": "2023-06-22T19:50:53.178Z"
   },
   {
    "duration": 2486,
    "start_time": "2023-06-22T19:51:35.598Z"
   },
   {
    "duration": 2629,
    "start_time": "2023-06-22T19:51:53.616Z"
   },
   {
    "duration": 12,
    "start_time": "2023-06-22T19:51:58.984Z"
   },
   {
    "duration": 21,
    "start_time": "2023-06-22T20:02:36.711Z"
   },
   {
    "duration": 131,
    "start_time": "2023-06-22T20:03:41.684Z"
   },
   {
    "duration": 2527,
    "start_time": "2023-06-22T20:05:31.258Z"
   },
   {
    "duration": 1390,
    "start_time": "2023-06-22T20:05:33.787Z"
   },
   {
    "duration": 250,
    "start_time": "2023-06-22T20:05:35.179Z"
   },
   {
    "duration": 155,
    "start_time": "2023-06-22T20:05:35.431Z"
   },
   {
    "duration": 142,
    "start_time": "2023-06-22T20:05:35.595Z"
   },
   {
    "duration": 6,
    "start_time": "2023-06-22T20:05:35.739Z"
   },
   {
    "duration": 90,
    "start_time": "2023-06-22T20:05:35.747Z"
   },
   {
    "duration": 100,
    "start_time": "2023-06-22T20:05:35.839Z"
   },
   {
    "duration": 77,
    "start_time": "2023-06-22T20:05:35.942Z"
   },
   {
    "duration": 551,
    "start_time": "2023-06-22T20:05:36.022Z"
   },
   {
    "duration": 18,
    "start_time": "2023-06-22T20:05:36.575Z"
   },
   {
    "duration": 104,
    "start_time": "2023-06-22T20:05:36.595Z"
   },
   {
    "duration": 45,
    "start_time": "2023-06-22T20:05:36.705Z"
   },
   {
    "duration": 1014,
    "start_time": "2023-06-22T20:05:36.767Z"
   },
   {
    "duration": 30,
    "start_time": "2023-06-22T20:05:37.787Z"
   },
   {
    "duration": 79,
    "start_time": "2023-06-22T20:05:37.827Z"
   },
   {
    "duration": 886,
    "start_time": "2023-06-22T20:05:37.912Z"
   },
   {
    "duration": 14,
    "start_time": "2023-06-22T20:05:38.804Z"
   },
   {
    "duration": 12293,
    "start_time": "2023-06-22T20:05:38.824Z"
   },
   {
    "duration": 4,
    "start_time": "2023-06-22T20:05:51.122Z"
   },
   {
    "duration": 102,
    "start_time": "2023-06-22T20:05:51.128Z"
   },
   {
    "duration": 7200,
    "start_time": "2023-06-22T20:05:51.232Z"
   },
   {
    "duration": 9,
    "start_time": "2023-06-22T20:05:58.435Z"
   },
   {
    "duration": 1571,
    "start_time": "2023-06-22T20:05:58.461Z"
   },
   {
    "duration": 1463,
    "start_time": "2023-06-22T20:06:00.034Z"
   },
   {
    "duration": 1384,
    "start_time": "2023-06-22T20:06:01.505Z"
   },
   {
    "duration": 1251,
    "start_time": "2023-06-22T20:06:02.891Z"
   },
   {
    "duration": 1496,
    "start_time": "2023-06-22T20:06:04.144Z"
   },
   {
    "duration": 1437,
    "start_time": "2023-06-22T20:06:05.642Z"
   },
   {
    "duration": 42,
    "start_time": "2023-06-22T20:06:07.096Z"
   },
   {
    "duration": 30,
    "start_time": "2023-06-22T20:06:07.141Z"
   },
   {
    "duration": 74,
    "start_time": "2023-06-22T20:06:07.173Z"
   },
   {
    "duration": 72,
    "start_time": "2023-06-22T20:06:07.251Z"
   },
   {
    "duration": 1520,
    "start_time": "2023-06-22T20:06:07.326Z"
   },
   {
    "duration": 35,
    "start_time": "2023-06-22T20:06:08.850Z"
   },
   {
    "duration": 142,
    "start_time": "2023-06-22T20:06:08.888Z"
   },
   {
    "duration": 3432,
    "start_time": "2023-06-22T20:06:09.032Z"
   },
   {
    "duration": 21,
    "start_time": "2023-06-22T20:06:12.472Z"
   },
   {
    "duration": 640,
    "start_time": "2023-06-22T20:06:12.502Z"
   },
   {
    "duration": 204,
    "start_time": "2023-06-22T20:06:13.145Z"
   },
   {
    "duration": 431,
    "start_time": "2023-06-22T20:06:13.355Z"
   },
   {
    "duration": 1718,
    "start_time": "2023-06-22T20:06:13.795Z"
   },
   {
    "duration": 1329,
    "start_time": "2023-06-22T20:06:15.516Z"
   },
   {
    "duration": 1426,
    "start_time": "2023-06-22T20:06:16.848Z"
   },
   {
    "duration": 46,
    "start_time": "2023-06-22T20:06:18.279Z"
   },
   {
    "duration": 202,
    "start_time": "2023-06-22T20:06:18.329Z"
   },
   {
    "duration": 73,
    "start_time": "2023-06-22T20:06:18.536Z"
   },
   {
    "duration": 224,
    "start_time": "2023-06-22T20:06:18.612Z"
   },
   {
    "duration": 0,
    "start_time": "2023-06-22T20:06:18.839Z"
   },
   {
    "duration": 0,
    "start_time": "2023-06-22T20:06:18.841Z"
   },
   {
    "duration": 0,
    "start_time": "2023-06-22T20:06:18.843Z"
   },
   {
    "duration": 0,
    "start_time": "2023-06-22T20:06:18.849Z"
   },
   {
    "duration": 0,
    "start_time": "2023-06-22T20:06:18.851Z"
   },
   {
    "duration": 0,
    "start_time": "2023-06-22T20:06:18.852Z"
   },
   {
    "duration": 4,
    "start_time": "2023-06-22T20:08:37.541Z"
   },
   {
    "duration": 9,
    "start_time": "2023-06-22T20:08:44.234Z"
   },
   {
    "duration": 11,
    "start_time": "2023-06-22T20:08:45.422Z"
   },
   {
    "duration": 2185792,
    "start_time": "2023-06-22T20:08:48.478Z"
   },
   {
    "duration": 8,
    "start_time": "2023-06-22T20:45:29.855Z"
   },
   {
    "duration": 17,
    "start_time": "2023-06-22T20:45:30.924Z"
   },
   {
    "duration": 17,
    "start_time": "2023-06-22T20:45:38.397Z"
   },
   {
    "duration": 6,
    "start_time": "2023-06-22T20:49:52.420Z"
   },
   {
    "duration": 4,
    "start_time": "2023-06-22T20:50:34.391Z"
   },
   {
    "duration": 4,
    "start_time": "2023-06-22T20:50:39.428Z"
   },
   {
    "duration": 4,
    "start_time": "2023-06-22T20:50:40.623Z"
   },
   {
    "duration": 1384201,
    "start_time": "2023-06-22T20:50:43.289Z"
   },
   {
    "duration": 4,
    "start_time": "2023-06-22T21:14:27.396Z"
   },
   {
    "duration": 2836131,
    "start_time": "2023-06-22T21:14:29.552Z"
   },
   {
    "duration": 8,
    "start_time": "2023-06-22T22:06:51.477Z"
   },
   {
    "duration": 47,
    "start_time": "2023-06-22T22:06:53.481Z"
   },
   {
    "duration": 17,
    "start_time": "2023-06-22T22:06:58.293Z"
   }
  ],
  "kernelspec": {
   "display_name": "Python 3 (ipykernel)",
   "language": "python",
   "name": "python3"
  },
  "language_info": {
   "codemirror_mode": {
    "name": "ipython",
    "version": 3
   },
   "file_extension": ".py",
   "mimetype": "text/x-python",
   "name": "python",
   "nbconvert_exporter": "python",
   "pygments_lexer": "ipython3",
   "version": "3.9.5"
  },
  "toc": {
   "base_numbering": 1,
   "nav_menu": {},
   "number_sections": true,
   "sideBar": true,
   "skip_h1_title": true,
   "title_cell": "Содержание",
   "title_sidebar": "Contents",
   "toc_cell": true,
   "toc_position": {
    "height": "calc(100% - 180px)",
    "left": "10px",
    "top": "150px",
    "width": "165px"
   },
   "toc_section_display": true,
   "toc_window_display": true
  }
 },
 "nbformat": 4,
 "nbformat_minor": 2
}
