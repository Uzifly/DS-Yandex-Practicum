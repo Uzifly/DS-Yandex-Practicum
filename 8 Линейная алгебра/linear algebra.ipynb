{
 "cells": [
  {
   "cell_type": "markdown",
   "metadata": {
    "toc": true
   },
   "source": [
    "<h1>Содержание<span class=\"tocSkip\"></span></h1>\n",
    "<div class=\"toc\"><ul class=\"toc-item\"><li><span><a href=\"#Загрузка-данных\" data-toc-modified-id=\"Загрузка-данных-1\"><span class=\"toc-item-num\">1&nbsp;&nbsp;</span>Загрузка данных</a></span></li><li><span><a href=\"#Умножение-матриц\" data-toc-modified-id=\"Умножение-матриц-2\"><span class=\"toc-item-num\">2&nbsp;&nbsp;</span>Умножение матриц</a></span></li><li><span><a href=\"#Алгоритм-преобразования\" data-toc-modified-id=\"Алгоритм-преобразования-3\"><span class=\"toc-item-num\">3&nbsp;&nbsp;</span>Алгоритм преобразования</a></span></li><li><span><a href=\"#Проверка-алгоритма\" data-toc-modified-id=\"Проверка-алгоритма-4\"><span class=\"toc-item-num\">4&nbsp;&nbsp;</span>Проверка алгоритма</a></span></li><li><span><a href=\"#Вывод\" data-toc-modified-id=\"Вывод-5\"><span class=\"toc-item-num\">5&nbsp;&nbsp;</span>Вывод</a></span></li><li><span><a href=\"#Чек-лист-проверки\" data-toc-modified-id=\"Чек-лист-проверки-6\"><span class=\"toc-item-num\">6&nbsp;&nbsp;</span>Чек-лист проверки</a></span></li></ul></div>"
   ]
  },
  {
   "cell_type": "markdown",
   "metadata": {},
   "source": [
    "# Защита персональных данных клиентов"
   ]
  },
  {
   "cell_type": "markdown",
   "metadata": {},
   "source": [
    "Вам нужно защитить данные клиентов страховой компании «Хоть потоп». Разработайте такой метод преобразования данных, чтобы по ним было сложно восстановить персональную информацию. Обоснуйте корректность его работы.\n",
    "\n",
    "Нужно защитить данные, чтобы при преобразовании качество моделей машинного обучения не ухудшилось. Подбирать наилучшую модель не требуется."
   ]
  },
  {
   "cell_type": "markdown",
   "metadata": {},
   "source": [
    "## Загрузка данных"
   ]
  },
  {
   "cell_type": "code",
   "execution_count": 1,
   "metadata": {},
   "outputs": [],
   "source": [
    "import pandas as pd\n",
    "import numpy as np\n",
    "import matplotlib.pyplot as plt\n",
    "\n",
    "from random import random\n",
    "from sklearn.model_selection import train_test_split\n",
    "from sklearn.linear_model import LinearRegression\n",
    "from sklearn.metrics import r2_score\n",
    "\n",
    "RND_SEED = 12345"
   ]
  },
  {
   "cell_type": "code",
   "execution_count": 2,
   "metadata": {},
   "outputs": [],
   "source": [
    "data = pd. read_csv('/datasets/insurance.csv')"
   ]
  },
  {
   "cell_type": "code",
   "execution_count": 3,
   "metadata": {},
   "outputs": [
    {
     "data": {
      "text/html": [
       "<div>\n",
       "<style scoped>\n",
       "    .dataframe tbody tr th:only-of-type {\n",
       "        vertical-align: middle;\n",
       "    }\n",
       "\n",
       "    .dataframe tbody tr th {\n",
       "        vertical-align: top;\n",
       "    }\n",
       "\n",
       "    .dataframe thead th {\n",
       "        text-align: right;\n",
       "    }\n",
       "</style>\n",
       "<table border=\"1\" class=\"dataframe\">\n",
       "  <thead>\n",
       "    <tr style=\"text-align: right;\">\n",
       "      <th></th>\n",
       "      <th>Пол</th>\n",
       "      <th>Возраст</th>\n",
       "      <th>Зарплата</th>\n",
       "      <th>Члены семьи</th>\n",
       "      <th>Страховые выплаты</th>\n",
       "    </tr>\n",
       "  </thead>\n",
       "  <tbody>\n",
       "    <tr>\n",
       "      <th>0</th>\n",
       "      <td>1</td>\n",
       "      <td>41.0</td>\n",
       "      <td>49600.0</td>\n",
       "      <td>1</td>\n",
       "      <td>0</td>\n",
       "    </tr>\n",
       "    <tr>\n",
       "      <th>1</th>\n",
       "      <td>0</td>\n",
       "      <td>46.0</td>\n",
       "      <td>38000.0</td>\n",
       "      <td>1</td>\n",
       "      <td>1</td>\n",
       "    </tr>\n",
       "    <tr>\n",
       "      <th>2</th>\n",
       "      <td>0</td>\n",
       "      <td>29.0</td>\n",
       "      <td>21000.0</td>\n",
       "      <td>0</td>\n",
       "      <td>0</td>\n",
       "    </tr>\n",
       "    <tr>\n",
       "      <th>3</th>\n",
       "      <td>0</td>\n",
       "      <td>21.0</td>\n",
       "      <td>41700.0</td>\n",
       "      <td>2</td>\n",
       "      <td>0</td>\n",
       "    </tr>\n",
       "    <tr>\n",
       "      <th>4</th>\n",
       "      <td>1</td>\n",
       "      <td>28.0</td>\n",
       "      <td>26100.0</td>\n",
       "      <td>0</td>\n",
       "      <td>0</td>\n",
       "    </tr>\n",
       "  </tbody>\n",
       "</table>\n",
       "</div>"
      ],
      "text/plain": [
       "   Пол  Возраст  Зарплата  Члены семьи  Страховые выплаты\n",
       "0    1     41.0   49600.0            1                  0\n",
       "1    0     46.0   38000.0            1                  1\n",
       "2    0     29.0   21000.0            0                  0\n",
       "3    0     21.0   41700.0            2                  0\n",
       "4    1     28.0   26100.0            0                  0"
      ]
     },
     "execution_count": 3,
     "metadata": {},
     "output_type": "execute_result"
    }
   ],
   "source": [
    "data.head(5)"
   ]
  },
  {
   "cell_type": "code",
   "execution_count": 4,
   "metadata": {},
   "outputs": [
    {
     "data": {
      "text/html": [
       "<div>\n",
       "<style scoped>\n",
       "    .dataframe tbody tr th:only-of-type {\n",
       "        vertical-align: middle;\n",
       "    }\n",
       "\n",
       "    .dataframe tbody tr th {\n",
       "        vertical-align: top;\n",
       "    }\n",
       "\n",
       "    .dataframe thead th {\n",
       "        text-align: right;\n",
       "    }\n",
       "</style>\n",
       "<table border=\"1\" class=\"dataframe\">\n",
       "  <thead>\n",
       "    <tr style=\"text-align: right;\">\n",
       "      <th></th>\n",
       "      <th>Пол</th>\n",
       "      <th>Возраст</th>\n",
       "      <th>Зарплата</th>\n",
       "      <th>Члены семьи</th>\n",
       "      <th>Страховые выплаты</th>\n",
       "    </tr>\n",
       "  </thead>\n",
       "  <tbody>\n",
       "    <tr>\n",
       "      <th>count</th>\n",
       "      <td>5000.000000</td>\n",
       "      <td>5000.000000</td>\n",
       "      <td>5000.000000</td>\n",
       "      <td>5000.000000</td>\n",
       "      <td>5000.000000</td>\n",
       "    </tr>\n",
       "    <tr>\n",
       "      <th>mean</th>\n",
       "      <td>0.499000</td>\n",
       "      <td>30.952800</td>\n",
       "      <td>39916.360000</td>\n",
       "      <td>1.194200</td>\n",
       "      <td>0.148000</td>\n",
       "    </tr>\n",
       "    <tr>\n",
       "      <th>std</th>\n",
       "      <td>0.500049</td>\n",
       "      <td>8.440807</td>\n",
       "      <td>9900.083569</td>\n",
       "      <td>1.091387</td>\n",
       "      <td>0.463183</td>\n",
       "    </tr>\n",
       "    <tr>\n",
       "      <th>min</th>\n",
       "      <td>0.000000</td>\n",
       "      <td>18.000000</td>\n",
       "      <td>5300.000000</td>\n",
       "      <td>0.000000</td>\n",
       "      <td>0.000000</td>\n",
       "    </tr>\n",
       "    <tr>\n",
       "      <th>25%</th>\n",
       "      <td>0.000000</td>\n",
       "      <td>24.000000</td>\n",
       "      <td>33300.000000</td>\n",
       "      <td>0.000000</td>\n",
       "      <td>0.000000</td>\n",
       "    </tr>\n",
       "    <tr>\n",
       "      <th>50%</th>\n",
       "      <td>0.000000</td>\n",
       "      <td>30.000000</td>\n",
       "      <td>40200.000000</td>\n",
       "      <td>1.000000</td>\n",
       "      <td>0.000000</td>\n",
       "    </tr>\n",
       "    <tr>\n",
       "      <th>75%</th>\n",
       "      <td>1.000000</td>\n",
       "      <td>37.000000</td>\n",
       "      <td>46600.000000</td>\n",
       "      <td>2.000000</td>\n",
       "      <td>0.000000</td>\n",
       "    </tr>\n",
       "    <tr>\n",
       "      <th>max</th>\n",
       "      <td>1.000000</td>\n",
       "      <td>65.000000</td>\n",
       "      <td>79000.000000</td>\n",
       "      <td>6.000000</td>\n",
       "      <td>5.000000</td>\n",
       "    </tr>\n",
       "  </tbody>\n",
       "</table>\n",
       "</div>"
      ],
      "text/plain": [
       "               Пол      Возраст      Зарплата  Члены семьи  Страховые выплаты\n",
       "count  5000.000000  5000.000000   5000.000000  5000.000000        5000.000000\n",
       "mean      0.499000    30.952800  39916.360000     1.194200           0.148000\n",
       "std       0.500049     8.440807   9900.083569     1.091387           0.463183\n",
       "min       0.000000    18.000000   5300.000000     0.000000           0.000000\n",
       "25%       0.000000    24.000000  33300.000000     0.000000           0.000000\n",
       "50%       0.000000    30.000000  40200.000000     1.000000           0.000000\n",
       "75%       1.000000    37.000000  46600.000000     2.000000           0.000000\n",
       "max       1.000000    65.000000  79000.000000     6.000000           5.000000"
      ]
     },
     "execution_count": 4,
     "metadata": {},
     "output_type": "execute_result"
    }
   ],
   "source": [
    "data.describe()"
   ]
  },
  {
   "cell_type": "markdown",
   "metadata": {},
   "source": [
    "Пропусков в данных нет, серьезных аномалий, исходя из таблицы, не видно."
   ]
  },
  {
   "cell_type": "markdown",
   "metadata": {},
   "source": [
    "## Умножение матриц"
   ]
  },
  {
   "cell_type": "markdown",
   "metadata": {},
   "source": [
    "В этом задании вы можете записывать формулы в *Jupyter Notebook.*\n",
    "\n",
    "Чтобы записать формулу внутри текста, окружите её символами доллара \\\\$; если снаружи —  двойными символами \\\\$\\\\$. Эти формулы записываются на языке вёрстки *LaTeX.* \n",
    "\n",
    "Для примера мы записали формулы линейной регрессии. Можете их скопировать и отредактировать, чтобы решить задачу.\n",
    "\n",
    "Работать в *LaTeX* необязательно."
   ]
  },
  {
   "cell_type": "markdown",
   "metadata": {},
   "source": [
    "Обозначения:\n",
    "\n",
    "- $X$ — матрица признаков (нулевой столбец состоит из единиц)\n",
    "\n",
    "- $y$ — вектор целевого признака\n",
    "\n",
    "- $P$ — матрица, на которую умножаются признаки\n",
    "\n",
    "- $w$ — вектор весов линейной регрессии (нулевой элемент равен сдвигу)"
   ]
  },
  {
   "cell_type": "markdown",
   "metadata": {},
   "source": [
    "Предсказания:\n",
    "\n",
    "$$\n",
    "a = Xw\n",
    "$$\n",
    "\n",
    "Задача обучения:\n",
    "\n",
    "$$\n",
    "w = \\arg\\min_w MSE(Xw, y)\n",
    "$$\n",
    "\n",
    "Формула обучения:\n",
    "\n",
    "$$\n",
    "w = (X^T X)^{-1} X^T y\n",
    "$$"
   ]
  },
  {
   "cell_type": "markdown",
   "metadata": {},
   "source": [
    "**Вопрос:** Признаки умножают на обратимую матрицу. Изменится ли качество линейной регрессии?\n",
    "\n",
    "**Ответ:** При умножении на обратимую матрицу качество модели не меняется\n",
    "\n",
    "**Обоснование:** умножаем матрицу признаков на обратимую матрицу P:\n",
    "$$\n",
    "wp = ((XP)^T XP)^{-1} (XP)^T y\n",
    "$$\n",
    "раскрываем скобки\n",
    "$$\n",
    "wp = (P^T X^T X P)^{-1} P^T X^T y\n",
    "$$\n",
    "представим $X^T X$ как множитель, дораскроем скобки\n",
    "$$\n",
    "wp = P^{-1} (X^T X)^{-1} (P^T)^{-1} P^T X^T y\n",
    "$$\n",
    "$(P^T)^{-1} P^T$ является единичной матрицей. Подставим $w$:\n",
    "$$\n",
    "wp = P^{-1} w\n",
    "$$\n",
    "следственно:\n",
    "$$\n",
    "ap = XPwp = XPP^{-1} w = XEw = Xw = a\n",
    "$$"
   ]
  },
  {
   "cell_type": "markdown",
   "metadata": {},
   "source": [
    "## Алгоритм преобразования"
   ]
  },
  {
   "cell_type": "markdown",
   "metadata": {},
   "source": [
    "**Алгоритм**\n",
    "\n",
    "1. создать случайную матрицу\n",
    "2. проверить ее на обратимость\n",
    "3. умножить признаки на полученную матрицу\n",
    "4. сравнить метрики R2 исходных и преобразованных данных."
   ]
  },
  {
   "cell_type": "code",
   "execution_count": 5,
   "metadata": {},
   "outputs": [],
   "source": [
    "class MatrixCoder:\n",
    "    _key = []\n",
    "    def __create_key__(self, data):\n",
    "        det = 0\n",
    "        while det == 0:\n",
    "            self._key = np.random.randint(1000, size=(data.shape[1], data.shape[1]))\n",
    "            det = np.linalg.det(self._key)\n",
    "            \n",
    "    def transform(self, data):\n",
    "        if len(self._key) == 0:\n",
    "            self.__create_key__(data)\n",
    "        self.data = data.dot(self._key)\n",
    "        self.data.columns = data.columns\n",
    "        return self.data\n",
    "    \n",
    "    def decode(self, data):\n",
    "        self.data = np.round(data.dot(np.linalg.inv(self._key)))\n",
    "        self.data.columns = data.columns\n",
    "        return self.data\n",
    "    \n",
    "    def show_key(self):\n",
    "        return self._key\n",
    "    "
   ]
  },
  {
   "cell_type": "markdown",
   "metadata": {},
   "source": [
    "**Обоснование**\n",
    "\n",
    "Шифрующая матрица должна иметь размерность равную количеству признаков шифруемых данных, являться квадратной и обратимой (детерминант != 0). Таким образом сгенерированная матрица будет перемножать данные сохраняя размерность, а умножение на обратную матрицу приведет данные в исходный вид. "
   ]
  },
  {
   "cell_type": "markdown",
   "metadata": {},
   "source": [
    "## Проверка алгоритма"
   ]
  },
  {
   "cell_type": "markdown",
   "metadata": {},
   "source": [
    "Делим на таргет и фичи, делаем выборки данных"
   ]
  },
  {
   "cell_type": "code",
   "execution_count": 6,
   "metadata": {},
   "outputs": [],
   "source": [
    "data_X, data_y = data.drop(['Страховые выплаты'], axis=1), data['Страховые выплаты']"
   ]
  },
  {
   "cell_type": "code",
   "execution_count": 7,
   "metadata": {},
   "outputs": [],
   "source": [
    "X_train, X_test, y_train, y_test = train_test_split(data.drop(['Страховые выплаты'], axis=1), \n",
    "                                                    data['Страховые выплаты'], \n",
    "                                                    test_size=0.35, \n",
    "                                                    random_state=RND_SEED)"
   ]
  },
  {
   "cell_type": "markdown",
   "metadata": {},
   "source": [
    "Функция обучает линейную регрессию и возвращает R2"
   ]
  },
  {
   "cell_type": "code",
   "execution_count": 8,
   "metadata": {},
   "outputs": [],
   "source": [
    "\n",
    "def check_model(X_train=X_train, X_test=X_test):\n",
    "    model = LinearRegression() \n",
    "    model.fit(X_train, y_train)\n",
    "    return r2_score(y_test, model.predict(X_test))"
   ]
  },
  {
   "cell_type": "code",
   "execution_count": 9,
   "metadata": {},
   "outputs": [],
   "source": [
    "# получаем R2 для чистых данных\n",
    "r2_clean_data = check_model()"
   ]
  },
  {
   "cell_type": "code",
   "execution_count": 10,
   "metadata": {},
   "outputs": [],
   "source": [
    "# кодируем признаки и созраняем для них R2 \n",
    "mc = MatrixCoder()\n",
    "X_train_coded, X_test_coded = mc.transform(X_train), mc.transform(X_test)\n",
    "r2_coded_data = check_model(X_train_coded, X_test_coded)"
   ]
  },
  {
   "cell_type": "code",
   "execution_count": 11,
   "metadata": {},
   "outputs": [
    {
     "name": "stdout",
     "output_type": "stream",
     "text": [
      "R2 чистых данных = 0.4270038468669354, \n",
      "R2 кодированных данных = 0.4270038468669235, \n",
      "разница = 1.1879386363489175e-14\n"
     ]
    }
   ],
   "source": [
    "print(\"R2 чистых данных = {}, \\nR2 кодированных данных = {}, \\nразница = {}\"\n",
    "      .format(r2_clean_data, r2_coded_data, r2_clean_data - r2_coded_data))"
   ]
  },
  {
   "cell_type": "markdown",
   "metadata": {},
   "source": [
    "Погрешность появляется после 14 знака, разница незначительна."
   ]
  },
  {
   "cell_type": "code",
   "execution_count": 12,
   "metadata": {},
   "outputs": [
    {
     "data": {
      "text/html": [
       "<div>\n",
       "<style scoped>\n",
       "    .dataframe tbody tr th:only-of-type {\n",
       "        vertical-align: middle;\n",
       "    }\n",
       "\n",
       "    .dataframe tbody tr th {\n",
       "        vertical-align: top;\n",
       "    }\n",
       "\n",
       "    .dataframe thead th {\n",
       "        text-align: right;\n",
       "    }\n",
       "</style>\n",
       "<table border=\"1\" class=\"dataframe\">\n",
       "  <thead>\n",
       "    <tr style=\"text-align: right;\">\n",
       "      <th></th>\n",
       "      <th>Пол</th>\n",
       "      <th>Возраст</th>\n",
       "      <th>Зарплата</th>\n",
       "      <th>Члены семьи</th>\n",
       "    </tr>\n",
       "  </thead>\n",
       "  <tbody>\n",
       "    <tr>\n",
       "      <th>160</th>\n",
       "      <td>26546446.0</td>\n",
       "      <td>4936351.0</td>\n",
       "      <td>9786697.0</td>\n",
       "      <td>32365152.0</td>\n",
       "    </tr>\n",
       "    <tr>\n",
       "      <th>1765</th>\n",
       "      <td>36524622.0</td>\n",
       "      <td>6786855.0</td>\n",
       "      <td>13462467.0</td>\n",
       "      <td>44532190.0</td>\n",
       "    </tr>\n",
       "    <tr>\n",
       "      <th>196</th>\n",
       "      <td>29422648.0</td>\n",
       "      <td>5464902.0</td>\n",
       "      <td>10838220.0</td>\n",
       "      <td>35870694.0</td>\n",
       "    </tr>\n",
       "    <tr>\n",
       "      <th>2023</th>\n",
       "      <td>37557078.0</td>\n",
       "      <td>6975852.0</td>\n",
       "      <td>13840533.0</td>\n",
       "      <td>45792042.0</td>\n",
       "    </tr>\n",
       "    <tr>\n",
       "      <th>807</th>\n",
       "      <td>39033920.0</td>\n",
       "      <td>7248864.0</td>\n",
       "      <td>14383104.0</td>\n",
       "      <td>47591968.0</td>\n",
       "    </tr>\n",
       "  </tbody>\n",
       "</table>\n",
       "</div>"
      ],
      "text/plain": [
       "             Пол    Возраст    Зарплата  Члены семьи\n",
       "160   26546446.0  4936351.0   9786697.0   32365152.0\n",
       "1765  36524622.0  6786855.0  13462467.0   44532190.0\n",
       "196   29422648.0  5464902.0  10838220.0   35870694.0\n",
       "2023  37557078.0  6975852.0  13840533.0   45792042.0\n",
       "807   39033920.0  7248864.0  14383104.0   47591968.0"
      ]
     },
     "execution_count": 12,
     "metadata": {},
     "output_type": "execute_result"
    }
   ],
   "source": [
    "X_train_coded.head(5)"
   ]
  },
  {
   "cell_type": "markdown",
   "metadata": {},
   "source": [
    "Данные действительно искажаются и понять их сложно."
   ]
  },
  {
   "cell_type": "code",
   "execution_count": 13,
   "metadata": {},
   "outputs": [
    {
     "data": {
      "text/html": [
       "<div>\n",
       "<style scoped>\n",
       "    .dataframe tbody tr th:only-of-type {\n",
       "        vertical-align: middle;\n",
       "    }\n",
       "\n",
       "    .dataframe tbody tr th {\n",
       "        vertical-align: top;\n",
       "    }\n",
       "\n",
       "    .dataframe thead th {\n",
       "        text-align: right;\n",
       "    }\n",
       "</style>\n",
       "<table border=\"1\" class=\"dataframe\">\n",
       "  <thead>\n",
       "    <tr style=\"text-align: right;\">\n",
       "      <th></th>\n",
       "      <th>Пол</th>\n",
       "      <th>Возраст</th>\n",
       "      <th>Зарплата</th>\n",
       "      <th>Члены семьи</th>\n",
       "    </tr>\n",
       "  </thead>\n",
       "  <tbody>\n",
       "    <tr>\n",
       "      <th>160</th>\n",
       "      <td>0</td>\n",
       "      <td>32.0</td>\n",
       "      <td>35900.0</td>\n",
       "      <td>3</td>\n",
       "    </tr>\n",
       "    <tr>\n",
       "      <th>1765</th>\n",
       "      <td>0</td>\n",
       "      <td>38.0</td>\n",
       "      <td>49400.0</td>\n",
       "      <td>1</td>\n",
       "    </tr>\n",
       "    <tr>\n",
       "      <th>196</th>\n",
       "      <td>0</td>\n",
       "      <td>18.0</td>\n",
       "      <td>39800.0</td>\n",
       "      <td>4</td>\n",
       "    </tr>\n",
       "    <tr>\n",
       "      <th>2023</th>\n",
       "      <td>1</td>\n",
       "      <td>34.0</td>\n",
       "      <td>50800.0</td>\n",
       "      <td>0</td>\n",
       "    </tr>\n",
       "    <tr>\n",
       "      <th>807</th>\n",
       "      <td>0</td>\n",
       "      <td>32.0</td>\n",
       "      <td>52800.0</td>\n",
       "      <td>0</td>\n",
       "    </tr>\n",
       "  </tbody>\n",
       "</table>\n",
       "</div>"
      ],
      "text/plain": [
       "      Пол  Возраст  Зарплата  Члены семьи\n",
       "160     0     32.0   35900.0            3\n",
       "1765    0     38.0   49400.0            1\n",
       "196     0     18.0   39800.0            4\n",
       "2023    1     34.0   50800.0            0\n",
       "807     0     32.0   52800.0            0"
      ]
     },
     "execution_count": 13,
     "metadata": {},
     "output_type": "execute_result"
    }
   ],
   "source": [
    "X_train.head(5)"
   ]
  },
  {
   "cell_type": "code",
   "execution_count": 14,
   "metadata": {},
   "outputs": [
    {
     "data": {
      "text/html": [
       "<div>\n",
       "<style scoped>\n",
       "    .dataframe tbody tr th:only-of-type {\n",
       "        vertical-align: middle;\n",
       "    }\n",
       "\n",
       "    .dataframe tbody tr th {\n",
       "        vertical-align: top;\n",
       "    }\n",
       "\n",
       "    .dataframe thead th {\n",
       "        text-align: right;\n",
       "    }\n",
       "</style>\n",
       "<table border=\"1\" class=\"dataframe\">\n",
       "  <thead>\n",
       "    <tr style=\"text-align: right;\">\n",
       "      <th></th>\n",
       "      <th>Пол</th>\n",
       "      <th>Возраст</th>\n",
       "      <th>Зарплата</th>\n",
       "      <th>Члены семьи</th>\n",
       "    </tr>\n",
       "  </thead>\n",
       "  <tbody>\n",
       "    <tr>\n",
       "      <th>160</th>\n",
       "      <td>-0.0</td>\n",
       "      <td>32.0</td>\n",
       "      <td>35900.0</td>\n",
       "      <td>3.0</td>\n",
       "    </tr>\n",
       "    <tr>\n",
       "      <th>1765</th>\n",
       "      <td>-0.0</td>\n",
       "      <td>38.0</td>\n",
       "      <td>49400.0</td>\n",
       "      <td>1.0</td>\n",
       "    </tr>\n",
       "    <tr>\n",
       "      <th>196</th>\n",
       "      <td>-0.0</td>\n",
       "      <td>18.0</td>\n",
       "      <td>39800.0</td>\n",
       "      <td>4.0</td>\n",
       "    </tr>\n",
       "    <tr>\n",
       "      <th>2023</th>\n",
       "      <td>1.0</td>\n",
       "      <td>34.0</td>\n",
       "      <td>50800.0</td>\n",
       "      <td>0.0</td>\n",
       "    </tr>\n",
       "    <tr>\n",
       "      <th>807</th>\n",
       "      <td>-0.0</td>\n",
       "      <td>32.0</td>\n",
       "      <td>52800.0</td>\n",
       "      <td>0.0</td>\n",
       "    </tr>\n",
       "  </tbody>\n",
       "</table>\n",
       "</div>"
      ],
      "text/plain": [
       "      Пол  Возраст  Зарплата  Члены семьи\n",
       "160  -0.0     32.0   35900.0          3.0\n",
       "1765 -0.0     38.0   49400.0          1.0\n",
       "196  -0.0     18.0   39800.0          4.0\n",
       "2023  1.0     34.0   50800.0          0.0\n",
       "807  -0.0     32.0   52800.0          0.0"
      ]
     },
     "execution_count": 14,
     "metadata": {},
     "output_type": "execute_result"
    }
   ],
   "source": [
    "(mc.decode(X_train_coded)).head(5)"
   ]
  },
  {
   "cell_type": "markdown",
   "metadata": {},
   "source": [
    "Декодирование проходит успешно"
   ]
  },
  {
   "cell_type": "code",
   "execution_count": 15,
   "metadata": {},
   "outputs": [
    {
     "data": {
      "text/plain": [
       "array([[238,  34,  85, 876],\n",
       "       [460, 477, 672, 599],\n",
       "       [739, 137, 272, 901],\n",
       "       [542, 929, 131,  28]])"
      ]
     },
     "execution_count": 15,
     "metadata": {},
     "output_type": "execute_result"
    }
   ],
   "source": [
    "mc.show_key()"
   ]
  },
  {
   "cell_type": "markdown",
   "metadata": {},
   "source": [
    "Ключ, которым выполняются преобразования."
   ]
  },
  {
   "cell_type": "markdown",
   "metadata": {},
   "source": [
    "## Вывод ##"
   ]
  },
  {
   "cell_type": "markdown",
   "metadata": {},
   "source": [
    "По результатам проведенного исследования доказано, что при умножении матрицы признаков на случайную обратимую матрицу можно визуально исказить данные, не потеряв качества модели обучения. Для решения задачи написан алгоритм и составлен класс, который выполняет поставленную задачу. Его можно применять в дальнейших проектах."
   ]
  }
 ],
 "metadata": {
  "ExecuteTimeLog": [
   {
    "duration": 459,
    "start_time": "2023-07-08T21:07:58.217Z"
   },
   {
    "duration": 3,
    "start_time": "2023-07-08T21:08:07.526Z"
   },
   {
    "duration": 34,
    "start_time": "2023-07-08T21:08:07.880Z"
   },
   {
    "duration": 28,
    "start_time": "2023-07-08T21:08:13.357Z"
   },
   {
    "duration": 16,
    "start_time": "2023-07-08T21:08:17.770Z"
   },
   {
    "duration": 14,
    "start_time": "2023-07-08T21:08:35.431Z"
   },
   {
    "duration": 20,
    "start_time": "2023-07-08T21:08:47.351Z"
   },
   {
    "duration": 31,
    "start_time": "2023-07-08T21:09:46.086Z"
   },
   {
    "duration": 8,
    "start_time": "2023-07-08T21:09:52.780Z"
   },
   {
    "duration": 69,
    "start_time": "2023-07-25T20:33:06.108Z"
   },
   {
    "duration": 442,
    "start_time": "2023-07-25T20:33:12.117Z"
   },
   {
    "duration": 76,
    "start_time": "2023-07-25T20:33:12.561Z"
   },
   {
    "duration": 15,
    "start_time": "2023-07-25T20:33:12.866Z"
   },
   {
    "duration": 21,
    "start_time": "2023-07-25T20:33:13.541Z"
   },
   {
    "duration": 128,
    "start_time": "2023-07-31T20:14:45.270Z"
   },
   {
    "duration": 6,
    "start_time": "2023-07-31T20:14:50.951Z"
   },
   {
    "duration": 44,
    "start_time": "2023-07-31T20:15:43.164Z"
   },
   {
    "duration": 1736,
    "start_time": "2023-07-31T20:16:03.544Z"
   },
   {
    "duration": 93,
    "start_time": "2023-07-31T20:16:07.373Z"
   },
   {
    "duration": 13,
    "start_time": "2023-07-31T20:16:07.642Z"
   },
   {
    "duration": 30,
    "start_time": "2023-07-31T20:16:08.388Z"
   },
   {
    "duration": 5,
    "start_time": "2023-07-31T20:16:12.149Z"
   },
   {
    "duration": 76,
    "start_time": "2023-07-31T20:16:15.174Z"
   },
   {
    "duration": 5,
    "start_time": "2023-07-31T20:16:19.970Z"
   },
   {
    "duration": 4,
    "start_time": "2023-07-31T20:16:47.498Z"
   },
   {
    "duration": 5,
    "start_time": "2023-07-31T20:16:52.550Z"
   },
   {
    "duration": 3,
    "start_time": "2023-07-31T20:16:56.999Z"
   },
   {
    "duration": 6,
    "start_time": "2023-07-31T20:17:05.295Z"
   },
   {
    "duration": 4,
    "start_time": "2023-07-31T20:22:25.749Z"
   },
   {
    "duration": 4,
    "start_time": "2023-07-31T20:22:29.549Z"
   },
   {
    "duration": 14,
    "start_time": "2023-07-31T20:22:32.799Z"
   },
   {
    "duration": 5,
    "start_time": "2023-07-31T20:22:38.219Z"
   },
   {
    "duration": 7,
    "start_time": "2023-07-31T20:22:48.881Z"
   },
   {
    "duration": 17,
    "start_time": "2023-07-31T20:22:53.752Z"
   },
   {
    "duration": 16,
    "start_time": "2023-07-31T20:23:01.453Z"
   },
   {
    "duration": 5,
    "start_time": "2023-07-31T20:23:12.841Z"
   },
   {
    "duration": 12,
    "start_time": "2023-07-31T20:23:14.018Z"
   },
   {
    "duration": 5,
    "start_time": "2023-07-31T20:23:19.849Z"
   },
   {
    "duration": 5,
    "start_time": "2023-07-31T20:23:27.595Z"
   },
   {
    "duration": 5,
    "start_time": "2023-07-31T20:23:28.016Z"
   },
   {
    "duration": 6,
    "start_time": "2023-07-31T20:23:35.315Z"
   },
   {
    "duration": 13,
    "start_time": "2023-07-31T20:23:42.208Z"
   },
   {
    "duration": 7,
    "start_time": "2023-07-31T20:25:01.864Z"
   },
   {
    "duration": 6,
    "start_time": "2023-07-31T20:26:15.637Z"
   },
   {
    "duration": 8,
    "start_time": "2023-07-31T20:26:16.257Z"
   },
   {
    "duration": 15,
    "start_time": "2023-07-31T20:27:34.808Z"
   },
   {
    "duration": 14,
    "start_time": "2023-07-31T20:27:39.849Z"
   },
   {
    "duration": 3,
    "start_time": "2023-07-31T20:30:33.326Z"
   },
   {
    "duration": 4,
    "start_time": "2023-07-31T20:31:28.265Z"
   },
   {
    "duration": 20,
    "start_time": "2023-07-31T20:31:52.148Z"
   },
   {
    "duration": 4,
    "start_time": "2023-07-31T20:32:02.744Z"
   },
   {
    "duration": 10,
    "start_time": "2023-07-31T20:32:08.763Z"
   },
   {
    "duration": 7,
    "start_time": "2023-07-31T20:32:09.964Z"
   },
   {
    "duration": 8,
    "start_time": "2023-07-31T20:32:10.352Z"
   },
   {
    "duration": 3,
    "start_time": "2023-07-31T20:32:10.702Z"
   },
   {
    "duration": 8,
    "start_time": "2023-07-31T20:32:11.098Z"
   },
   {
    "duration": 5,
    "start_time": "2023-07-31T20:34:09.570Z"
   },
   {
    "duration": 6,
    "start_time": "2023-07-31T20:34:10.853Z"
   },
   {
    "duration": 9,
    "start_time": "2023-07-31T20:34:11.256Z"
   },
   {
    "duration": 3,
    "start_time": "2023-07-31T20:34:11.606Z"
   },
   {
    "duration": 18,
    "start_time": "2023-07-31T20:34:12.253Z"
   },
   {
    "duration": 5,
    "start_time": "2023-07-31T20:34:28.924Z"
   },
   {
    "duration": 4,
    "start_time": "2023-07-31T20:34:29.956Z"
   },
   {
    "duration": 8,
    "start_time": "2023-07-31T20:34:30.353Z"
   },
   {
    "duration": 4,
    "start_time": "2023-07-31T20:34:30.818Z"
   },
   {
    "duration": 13,
    "start_time": "2023-07-31T20:34:31.357Z"
   },
   {
    "duration": 6,
    "start_time": "2023-07-31T20:36:42.466Z"
   },
   {
    "duration": 4,
    "start_time": "2023-07-31T20:39:17.499Z"
   },
   {
    "duration": 7,
    "start_time": "2023-07-31T20:39:18.366Z"
   },
   {
    "duration": 6,
    "start_time": "2023-07-31T20:39:18.630Z"
   },
   {
    "duration": 6,
    "start_time": "2023-07-31T20:39:18.954Z"
   },
   {
    "duration": 9,
    "start_time": "2023-07-31T20:39:19.511Z"
   },
   {
    "duration": 14,
    "start_time": "2023-07-31T20:39:25.170Z"
   },
   {
    "duration": 15,
    "start_time": "2023-07-31T20:39:46.672Z"
   },
   {
    "duration": 4,
    "start_time": "2023-07-31T20:39:56.299Z"
   },
   {
    "duration": 7,
    "start_time": "2023-07-31T20:39:58.824Z"
   },
   {
    "duration": 16,
    "start_time": "2023-07-31T20:39:59.219Z"
   },
   {
    "duration": 3,
    "start_time": "2023-07-31T20:39:59.549Z"
   },
   {
    "duration": 14,
    "start_time": "2023-07-31T20:39:59.999Z"
   },
   {
    "duration": 6,
    "start_time": "2023-07-31T20:40:32.103Z"
   },
   {
    "duration": 4,
    "start_time": "2023-07-31T20:40:33.318Z"
   },
   {
    "duration": 7,
    "start_time": "2023-07-31T20:40:33.615Z"
   },
   {
    "duration": 3,
    "start_time": "2023-07-31T20:40:33.974Z"
   },
   {
    "duration": 22,
    "start_time": "2023-07-31T20:40:34.415Z"
   },
   {
    "duration": 5,
    "start_time": "2023-07-31T20:41:41.111Z"
   },
   {
    "duration": 7,
    "start_time": "2023-07-31T20:41:42.139Z"
   },
   {
    "duration": 9,
    "start_time": "2023-07-31T20:41:42.344Z"
   },
   {
    "duration": 4,
    "start_time": "2023-07-31T20:41:42.542Z"
   },
   {
    "duration": 20,
    "start_time": "2023-07-31T20:41:42.840Z"
   },
   {
    "duration": 5,
    "start_time": "2023-07-31T20:42:02.742Z"
   },
   {
    "duration": 4,
    "start_time": "2023-07-31T20:42:04.047Z"
   },
   {
    "duration": 9,
    "start_time": "2023-07-31T20:42:04.360Z"
   },
   {
    "duration": 4,
    "start_time": "2023-07-31T20:42:04.746Z"
   },
   {
    "duration": 22,
    "start_time": "2023-07-31T20:42:05.157Z"
   },
   {
    "duration": 4,
    "start_time": "2023-07-31T20:42:45.112Z"
   },
   {
    "duration": 4,
    "start_time": "2023-07-31T20:42:46.303Z"
   },
   {
    "duration": 12,
    "start_time": "2023-07-31T20:42:46.551Z"
   },
   {
    "duration": 3,
    "start_time": "2023-07-31T20:42:46.843Z"
   },
   {
    "duration": 16,
    "start_time": "2023-07-31T20:42:47.415Z"
   },
   {
    "duration": 13,
    "start_time": "2023-07-31T20:43:50.699Z"
   },
   {
    "duration": 5,
    "start_time": "2023-07-31T20:44:17.799Z"
   },
   {
    "duration": 4,
    "start_time": "2023-07-31T20:44:20.140Z"
   },
   {
    "duration": 10,
    "start_time": "2023-07-31T20:44:20.523Z"
   },
   {
    "duration": 5,
    "start_time": "2023-07-31T20:44:20.908Z"
   },
   {
    "duration": 23,
    "start_time": "2023-07-31T20:44:21.700Z"
   },
   {
    "duration": 5,
    "start_time": "2023-07-31T20:49:30.070Z"
   },
   {
    "duration": 4,
    "start_time": "2023-07-31T20:49:31.547Z"
   },
   {
    "duration": 8,
    "start_time": "2023-07-31T20:49:31.751Z"
   },
   {
    "duration": 3,
    "start_time": "2023-07-31T20:49:32.047Z"
   },
   {
    "duration": 18,
    "start_time": "2023-07-31T20:49:32.445Z"
   },
   {
    "duration": 115,
    "start_time": "2023-07-31T20:49:46.376Z"
   },
   {
    "duration": 5,
    "start_time": "2023-07-31T20:50:12.499Z"
   },
   {
    "duration": 4,
    "start_time": "2023-07-31T20:50:13.612Z"
   },
   {
    "duration": 7,
    "start_time": "2023-07-31T20:50:13.828Z"
   },
   {
    "duration": 3,
    "start_time": "2023-07-31T20:50:14.052Z"
   },
   {
    "duration": 13,
    "start_time": "2023-07-31T20:50:14.500Z"
   },
   {
    "duration": 5,
    "start_time": "2023-07-31T20:53:19.304Z"
   },
   {
    "duration": 5,
    "start_time": "2023-07-31T20:53:22.343Z"
   },
   {
    "duration": 4,
    "start_time": "2023-07-31T20:53:23.817Z"
   },
   {
    "duration": 7,
    "start_time": "2023-07-31T20:53:24.060Z"
   },
   {
    "duration": 3,
    "start_time": "2023-07-31T20:53:24.424Z"
   },
   {
    "duration": 4,
    "start_time": "2023-07-31T20:53:24.905Z"
   },
   {
    "duration": 4,
    "start_time": "2023-07-31T20:53:32.462Z"
   },
   {
    "duration": 4,
    "start_time": "2023-07-31T20:53:33.177Z"
   },
   {
    "duration": 13,
    "start_time": "2023-07-31T20:53:39.344Z"
   },
   {
    "duration": 14,
    "start_time": "2023-07-31T20:53:44.600Z"
   },
   {
    "duration": 1342,
    "start_time": "2023-07-31T20:54:01.640Z"
   },
   {
    "duration": 30,
    "start_time": "2023-07-31T20:54:03.754Z"
   },
   {
    "duration": 14,
    "start_time": "2023-07-31T20:54:04.105Z"
   },
   {
    "duration": 25,
    "start_time": "2023-07-31T20:54:04.468Z"
   },
   {
    "duration": 4,
    "start_time": "2023-07-31T20:54:07.906Z"
   },
   {
    "duration": 5,
    "start_time": "2023-07-31T20:54:09.154Z"
   },
   {
    "duration": 6,
    "start_time": "2023-07-31T20:54:09.544Z"
   },
   {
    "duration": 4,
    "start_time": "2023-07-31T20:54:09.924Z"
   },
   {
    "duration": 4,
    "start_time": "2023-07-31T20:54:10.262Z"
   },
   {
    "duration": 12,
    "start_time": "2023-07-31T20:54:11.113Z"
   },
   {
    "duration": 105,
    "start_time": "2023-07-31T20:54:48.908Z"
   },
   {
    "duration": 8,
    "start_time": "2023-07-31T20:54:53.649Z"
   },
   {
    "duration": 8,
    "start_time": "2023-07-31T20:54:59.048Z"
   },
   {
    "duration": 6,
    "start_time": "2023-07-31T20:55:07.448Z"
   },
   {
    "duration": 1455,
    "start_time": "2023-07-31T20:55:18.655Z"
   },
   {
    "duration": 30,
    "start_time": "2023-07-31T20:55:20.112Z"
   },
   {
    "duration": 13,
    "start_time": "2023-07-31T20:55:20.144Z"
   },
   {
    "duration": 62,
    "start_time": "2023-07-31T20:55:20.159Z"
   },
   {
    "duration": 5,
    "start_time": "2023-07-31T20:55:24.169Z"
   },
   {
    "duration": 4,
    "start_time": "2023-07-31T20:55:25.504Z"
   },
   {
    "duration": 9,
    "start_time": "2023-07-31T20:55:25.905Z"
   },
   {
    "duration": 133,
    "start_time": "2023-07-31T20:55:26.353Z"
   },
   {
    "duration": 3,
    "start_time": "2023-07-31T20:55:26.817Z"
   },
   {
    "duration": 3,
    "start_time": "2023-07-31T20:55:38.028Z"
   },
   {
    "duration": 8,
    "start_time": "2023-07-31T20:55:39.203Z"
   },
   {
    "duration": 4,
    "start_time": "2023-07-31T20:55:41.650Z"
   },
   {
    "duration": 8,
    "start_time": "2023-07-31T20:55:43.504Z"
   },
   {
    "duration": 7,
    "start_time": "2023-07-31T20:56:34.729Z"
   },
   {
    "duration": 137,
    "start_time": "2023-07-31T20:58:26.667Z"
   },
   {
    "duration": 11,
    "start_time": "2023-07-31T20:59:38.227Z"
   },
   {
    "duration": 8,
    "start_time": "2023-07-31T20:59:49.412Z"
   },
   {
    "duration": 9,
    "start_time": "2023-07-31T20:59:55.825Z"
   },
   {
    "duration": 114,
    "start_time": "2023-07-31T21:01:02.340Z"
   },
   {
    "duration": 10,
    "start_time": "2023-07-31T21:01:20.072Z"
   },
   {
    "duration": 8,
    "start_time": "2023-07-31T21:01:36.721Z"
   },
   {
    "duration": 7,
    "start_time": "2023-07-31T21:01:39.942Z"
   },
   {
    "duration": 3,
    "start_time": "2023-07-31T21:01:40.729Z"
   },
   {
    "duration": 3,
    "start_time": "2023-07-31T21:01:47.865Z"
   },
   {
    "duration": 9,
    "start_time": "2023-07-31T21:02:31.640Z"
   },
   {
    "duration": 3,
    "start_time": "2023-07-31T21:02:32.050Z"
   },
   {
    "duration": 3,
    "start_time": "2023-07-31T21:02:44.556Z"
   },
   {
    "duration": 3,
    "start_time": "2023-07-31T21:02:51.350Z"
   },
   {
    "duration": 28,
    "start_time": "2023-07-31T21:02:51.653Z"
   },
   {
    "duration": 8,
    "start_time": "2023-07-31T21:02:52.005Z"
   },
   {
    "duration": 21,
    "start_time": "2023-07-31T21:02:52.424Z"
   },
   {
    "duration": 4,
    "start_time": "2023-07-31T21:02:55.145Z"
   },
   {
    "duration": 4,
    "start_time": "2023-07-31T21:02:56.221Z"
   },
   {
    "duration": 9,
    "start_time": "2023-07-31T21:02:56.228Z"
   },
   {
    "duration": 3,
    "start_time": "2023-07-31T21:02:56.509Z"
   },
   {
    "duration": 8,
    "start_time": "2023-07-31T21:02:56.813Z"
   },
   {
    "duration": 9,
    "start_time": "2023-07-31T21:02:57.225Z"
   },
   {
    "duration": 4,
    "start_time": "2023-07-31T21:02:57.746Z"
   },
   {
    "duration": 3,
    "start_time": "2023-07-31T21:03:10.841Z"
   },
   {
    "duration": 14,
    "start_time": "2023-07-31T21:03:47.964Z"
   },
   {
    "duration": 5,
    "start_time": "2023-07-31T21:03:59.722Z"
   },
   {
    "duration": 6,
    "start_time": "2023-07-31T21:04:04.928Z"
   },
   {
    "duration": 14,
    "start_time": "2023-07-31T21:04:08.213Z"
   },
   {
    "duration": 13,
    "start_time": "2023-07-31T21:04:27.872Z"
   },
   {
    "duration": 6,
    "start_time": "2023-07-31T21:04:31.721Z"
   },
   {
    "duration": 13,
    "start_time": "2023-07-31T21:04:37.913Z"
   },
   {
    "duration": 9,
    "start_time": "2023-07-31T21:04:44.743Z"
   },
   {
    "duration": 17,
    "start_time": "2023-07-31T21:04:47.446Z"
   },
   {
    "duration": 10,
    "start_time": "2023-07-31T21:05:43.466Z"
   },
   {
    "duration": 4,
    "start_time": "2023-07-31T21:05:44.057Z"
   },
   {
    "duration": 16,
    "start_time": "2023-07-31T21:05:45.354Z"
   },
   {
    "duration": 16,
    "start_time": "2023-07-31T21:05:52.621Z"
   },
   {
    "duration": 18,
    "start_time": "2023-07-31T21:06:09.609Z"
   },
   {
    "duration": 4,
    "start_time": "2023-07-31T21:06:12.737Z"
   },
   {
    "duration": 12,
    "start_time": "2023-07-31T21:06:20.446Z"
   },
   {
    "duration": 15,
    "start_time": "2023-07-31T21:06:32.538Z"
   },
   {
    "duration": 5,
    "start_time": "2023-07-31T21:06:39.428Z"
   },
   {
    "duration": 11,
    "start_time": "2023-07-31T21:07:01.077Z"
   },
   {
    "duration": 4,
    "start_time": "2023-07-31T21:07:07.470Z"
   },
   {
    "duration": 6,
    "start_time": "2023-07-31T21:09:08.944Z"
   },
   {
    "duration": 11,
    "start_time": "2023-07-31T21:09:49.318Z"
   },
   {
    "duration": 4,
    "start_time": "2023-07-31T21:10:08.510Z"
   },
   {
    "duration": 8,
    "start_time": "2023-07-31T21:10:40.141Z"
   },
   {
    "duration": 8,
    "start_time": "2023-07-31T21:11:34.965Z"
   },
   {
    "duration": 4,
    "start_time": "2023-07-31T21:11:55.745Z"
   },
   {
    "duration": 12,
    "start_time": "2023-07-31T21:13:43.721Z"
   },
   {
    "duration": 11,
    "start_time": "2023-07-31T21:13:46.326Z"
   },
   {
    "duration": 10,
    "start_time": "2023-07-31T21:13:59.264Z"
   },
   {
    "duration": 23,
    "start_time": "2023-07-31T21:14:28.802Z"
   },
   {
    "duration": 4,
    "start_time": "2023-07-31T21:14:50.257Z"
   },
   {
    "duration": 5,
    "start_time": "2023-07-31T21:17:36.432Z"
   },
   {
    "duration": 1440,
    "start_time": "2023-07-31T21:17:49.157Z"
   },
   {
    "duration": 29,
    "start_time": "2023-07-31T21:17:50.599Z"
   },
   {
    "duration": 12,
    "start_time": "2023-07-31T21:17:50.629Z"
   },
   {
    "duration": 23,
    "start_time": "2023-07-31T21:17:50.642Z"
   },
   {
    "duration": 4,
    "start_time": "2023-07-31T21:17:50.668Z"
   },
   {
    "duration": 6,
    "start_time": "2023-07-31T21:17:50.673Z"
   },
   {
    "duration": 8,
    "start_time": "2023-07-31T21:17:50.681Z"
   },
   {
    "duration": 4,
    "start_time": "2023-07-31T21:17:50.691Z"
   },
   {
    "duration": 13,
    "start_time": "2023-07-31T21:17:50.696Z"
   },
   {
    "duration": 10,
    "start_time": "2023-07-31T21:17:50.710Z"
   },
   {
    "duration": 4,
    "start_time": "2023-07-31T21:17:50.721Z"
   },
   {
    "duration": 33,
    "start_time": "2023-07-31T21:17:50.726Z"
   },
   {
    "duration": 12,
    "start_time": "2023-07-31T21:17:50.761Z"
   },
   {
    "duration": 14,
    "start_time": "2023-07-31T21:17:50.776Z"
   },
   {
    "duration": 66,
    "start_time": "2023-07-31T21:17:50.792Z"
   },
   {
    "duration": 1703,
    "start_time": "2023-08-01T21:12:06.156Z"
   },
   {
    "duration": 77,
    "start_time": "2023-08-01T21:12:07.861Z"
   },
   {
    "duration": 11,
    "start_time": "2023-08-01T21:12:07.939Z"
   },
   {
    "duration": 27,
    "start_time": "2023-08-01T21:12:07.952Z"
   },
   {
    "duration": 5,
    "start_time": "2023-08-01T21:12:07.981Z"
   },
   {
    "duration": 16,
    "start_time": "2023-08-01T21:12:07.987Z"
   },
   {
    "duration": 18,
    "start_time": "2023-08-01T21:12:08.004Z"
   },
   {
    "duration": 17,
    "start_time": "2023-08-01T21:12:08.023Z"
   },
   {
    "duration": 11,
    "start_time": "2023-08-01T21:12:08.041Z"
   },
   {
    "duration": 19,
    "start_time": "2023-08-01T21:12:08.053Z"
   },
   {
    "duration": 7,
    "start_time": "2023-08-01T21:12:08.073Z"
   },
   {
    "duration": 22,
    "start_time": "2023-08-01T21:12:08.082Z"
   },
   {
    "duration": 19,
    "start_time": "2023-08-01T21:12:08.105Z"
   },
   {
    "duration": 74,
    "start_time": "2023-08-01T21:12:08.126Z"
   },
   {
    "duration": 8,
    "start_time": "2023-08-01T21:12:08.202Z"
   },
   {
    "duration": 9,
    "start_time": "2023-08-01T21:12:15.034Z"
   },
   {
    "duration": 105,
    "start_time": "2023-08-01T21:12:25.090Z"
   },
   {
    "duration": 12,
    "start_time": "2023-08-01T21:12:37.491Z"
   },
   {
    "duration": 4,
    "start_time": "2023-08-01T21:12:42.348Z"
   },
   {
    "duration": 8,
    "start_time": "2023-08-01T21:12:53.051Z"
   },
   {
    "duration": 4,
    "start_time": "2023-08-01T21:13:01.716Z"
   },
   {
    "duration": 4,
    "start_time": "2023-08-01T21:13:07.024Z"
   },
   {
    "duration": 4,
    "start_time": "2023-08-01T21:13:12.256Z"
   },
   {
    "duration": 4,
    "start_time": "2023-08-01T21:13:20.689Z"
   },
   {
    "duration": 85,
    "start_time": "2023-08-01T21:14:00.432Z"
   },
   {
    "duration": 9,
    "start_time": "2023-08-01T21:14:06.627Z"
   },
   {
    "duration": 189,
    "start_time": "2023-08-01T21:14:11.234Z"
   },
   {
    "duration": 11,
    "start_time": "2023-08-01T21:14:22.444Z"
   },
   {
    "duration": 11,
    "start_time": "2023-08-01T21:14:26.060Z"
   },
   {
    "duration": 32357,
    "start_time": "2023-08-01T21:14:35.984Z"
   },
   {
    "duration": 9,
    "start_time": "2023-08-01T21:15:25.732Z"
   },
   {
    "duration": 32545,
    "start_time": "2023-08-01T21:15:49.330Z"
   },
   {
    "duration": 8,
    "start_time": "2023-08-01T21:19:28.986Z"
   },
   {
    "duration": 10,
    "start_time": "2023-08-01T21:19:41.803Z"
   },
   {
    "duration": 31688,
    "start_time": "2023-08-01T21:20:17.434Z"
   },
   {
    "duration": 8,
    "start_time": "2023-08-01T21:20:49.124Z"
   },
   {
    "duration": 1271,
    "start_time": "2023-08-01T21:20:49.133Z"
   },
   {
    "duration": 31707,
    "start_time": "2023-08-01T21:21:05.328Z"
   },
   {
    "duration": 8,
    "start_time": "2023-08-01T21:22:26.455Z"
   },
   {
    "duration": 8,
    "start_time": "2023-08-01T21:23:09.043Z"
   },
   {
    "duration": 3038,
    "start_time": "2023-08-01T21:23:39.314Z"
   },
   {
    "duration": 3842,
    "start_time": "2023-08-01T21:23:56.040Z"
   },
   {
    "duration": 157,
    "start_time": "2023-08-01T21:24:43.823Z"
   },
   {
    "duration": 215,
    "start_time": "2023-08-01T21:24:55.257Z"
   },
   {
    "duration": 8,
    "start_time": "2023-08-01T21:25:51.838Z"
   },
   {
    "duration": 7,
    "start_time": "2023-08-01T21:25:57.156Z"
   },
   {
    "duration": 8,
    "start_time": "2023-08-01T21:26:02.200Z"
   },
   {
    "duration": 8,
    "start_time": "2023-08-01T21:26:13.550Z"
   },
   {
    "duration": 1292,
    "start_time": "2023-08-01T21:28:16.390Z"
   },
   {
    "duration": 29,
    "start_time": "2023-08-01T21:28:17.684Z"
   },
   {
    "duration": 12,
    "start_time": "2023-08-01T21:28:17.715Z"
   },
   {
    "duration": 27,
    "start_time": "2023-08-01T21:28:17.729Z"
   },
   {
    "duration": 4,
    "start_time": "2023-08-01T21:28:17.758Z"
   },
   {
    "duration": 12,
    "start_time": "2023-08-01T21:28:17.764Z"
   },
   {
    "duration": 21,
    "start_time": "2023-08-01T21:28:17.778Z"
   },
   {
    "duration": 9,
    "start_time": "2023-08-01T21:28:17.801Z"
   },
   {
    "duration": 13,
    "start_time": "2023-08-01T21:28:17.812Z"
   },
   {
    "duration": 12,
    "start_time": "2023-08-01T21:28:17.827Z"
   },
   {
    "duration": 8,
    "start_time": "2023-08-01T21:28:17.840Z"
   },
   {
    "duration": 15,
    "start_time": "2023-08-01T21:28:17.850Z"
   },
   {
    "duration": 11,
    "start_time": "2023-08-01T21:28:17.867Z"
   },
   {
    "duration": 25,
    "start_time": "2023-08-01T21:28:17.881Z"
   },
   {
    "duration": 5,
    "start_time": "2023-08-01T21:28:17.907Z"
   },
   {
    "duration": 2685,
    "start_time": "2023-08-02T08:10:04.499Z"
   },
   {
    "duration": 76,
    "start_time": "2023-08-02T08:10:07.186Z"
   },
   {
    "duration": 11,
    "start_time": "2023-08-02T08:10:07.264Z"
   },
   {
    "duration": 26,
    "start_time": "2023-08-02T08:10:07.277Z"
   },
   {
    "duration": 4,
    "start_time": "2023-08-02T08:10:07.305Z"
   },
   {
    "duration": 21,
    "start_time": "2023-08-02T08:10:07.311Z"
   },
   {
    "duration": 12,
    "start_time": "2023-08-02T08:10:07.333Z"
   },
   {
    "duration": 15,
    "start_time": "2023-08-02T08:10:07.346Z"
   },
   {
    "duration": 32,
    "start_time": "2023-08-02T08:10:07.363Z"
   },
   {
    "duration": 26,
    "start_time": "2023-08-02T08:10:07.398Z"
   },
   {
    "duration": 10,
    "start_time": "2023-08-02T08:10:07.426Z"
   },
   {
    "duration": 31,
    "start_time": "2023-08-02T08:10:07.438Z"
   },
   {
    "duration": 38,
    "start_time": "2023-08-02T08:10:07.470Z"
   },
   {
    "duration": 90,
    "start_time": "2023-08-02T08:10:07.510Z"
   },
   {
    "duration": 100,
    "start_time": "2023-08-02T08:10:07.602Z"
   },
   {
    "duration": 5,
    "start_time": "2023-08-02T10:41:53.607Z"
   },
   {
    "duration": 120,
    "start_time": "2023-08-02T10:41:59.589Z"
   },
   {
    "duration": 5,
    "start_time": "2023-08-02T10:45:50.232Z"
   },
   {
    "duration": 8,
    "start_time": "2023-08-02T10:45:54.757Z"
   },
   {
    "duration": 2322,
    "start_time": "2023-08-02T10:46:07.594Z"
   },
   {
    "duration": 29,
    "start_time": "2023-08-02T10:46:09.918Z"
   },
   {
    "duration": 11,
    "start_time": "2023-08-02T10:46:09.949Z"
   },
   {
    "duration": 37,
    "start_time": "2023-08-02T10:46:09.962Z"
   },
   {
    "duration": 47,
    "start_time": "2023-08-02T10:46:10.000Z"
   },
   {
    "duration": 35,
    "start_time": "2023-08-02T10:46:10.048Z"
   },
   {
    "duration": 24,
    "start_time": "2023-08-02T10:46:10.084Z"
   },
   {
    "duration": 9,
    "start_time": "2023-08-02T10:46:10.110Z"
   },
   {
    "duration": 12,
    "start_time": "2023-08-02T10:46:10.121Z"
   },
   {
    "duration": 16,
    "start_time": "2023-08-02T10:46:10.135Z"
   },
   {
    "duration": 5,
    "start_time": "2023-08-02T10:46:10.153Z"
   },
   {
    "duration": 28,
    "start_time": "2023-08-02T10:46:10.160Z"
   },
   {
    "duration": 39,
    "start_time": "2023-08-02T10:46:10.190Z"
   },
   {
    "duration": 18,
    "start_time": "2023-08-02T10:46:10.230Z"
   },
   {
    "duration": 52,
    "start_time": "2023-08-02T10:46:10.250Z"
   },
   {
    "duration": 69,
    "start_time": "2023-08-02T11:21:14.023Z"
   },
   {
    "duration": 1651,
    "start_time": "2023-08-02T11:21:34.095Z"
   },
   {
    "duration": 100,
    "start_time": "2023-08-02T11:21:35.748Z"
   },
   {
    "duration": 22,
    "start_time": "2023-08-02T11:21:35.850Z"
   },
   {
    "duration": 34,
    "start_time": "2023-08-02T11:21:35.874Z"
   },
   {
    "duration": 23,
    "start_time": "2023-08-02T11:21:35.909Z"
   },
   {
    "duration": 14,
    "start_time": "2023-08-02T11:21:35.934Z"
   },
   {
    "duration": 34,
    "start_time": "2023-08-02T11:21:35.950Z"
   },
   {
    "duration": 13,
    "start_time": "2023-08-02T11:21:35.986Z"
   },
   {
    "duration": 16,
    "start_time": "2023-08-02T11:21:36.000Z"
   },
   {
    "duration": 48,
    "start_time": "2023-08-02T11:21:36.019Z"
   },
   {
    "duration": 14,
    "start_time": "2023-08-02T11:21:36.072Z"
   },
   {
    "duration": 44,
    "start_time": "2023-08-02T11:21:36.088Z"
   },
   {
    "duration": 14,
    "start_time": "2023-08-02T11:21:36.134Z"
   },
   {
    "duration": 236,
    "start_time": "2023-08-02T11:21:40.885Z"
   },
   {
    "duration": 30,
    "start_time": "2023-08-02T11:21:49.156Z"
   },
   {
    "duration": 20,
    "start_time": "2023-08-02T11:22:08.277Z"
   },
   {
    "duration": 13,
    "start_time": "2023-08-02T11:22:22.992Z"
   },
   {
    "duration": 9,
    "start_time": "2023-08-02T11:22:32.026Z"
   },
   {
    "duration": 14,
    "start_time": "2023-08-02T11:22:32.741Z"
   },
   {
    "duration": 14,
    "start_time": "2023-08-02T11:22:58.106Z"
   },
   {
    "duration": 15,
    "start_time": "2023-08-02T11:22:59.527Z"
   },
   {
    "duration": 14,
    "start_time": "2023-08-02T11:23:25.424Z"
   },
   {
    "duration": 13,
    "start_time": "2023-08-02T11:23:47.885Z"
   },
   {
    "duration": 8,
    "start_time": "2023-08-02T11:24:56.858Z"
   },
   {
    "duration": 4,
    "start_time": "2023-08-02T11:24:58.498Z"
   },
   {
    "duration": 6,
    "start_time": "2023-08-02T11:24:58.725Z"
   },
   {
    "duration": 5,
    "start_time": "2023-08-02T11:24:59.455Z"
   },
   {
    "duration": 12,
    "start_time": "2023-08-02T11:25:00.258Z"
   },
   {
    "duration": 8,
    "start_time": "2023-08-02T11:25:00.615Z"
   },
   {
    "duration": 3,
    "start_time": "2023-08-02T11:25:00.854Z"
   },
   {
    "duration": 19,
    "start_time": "2023-08-02T11:25:02.652Z"
   },
   {
    "duration": 10,
    "start_time": "2023-08-02T11:25:03.838Z"
   },
   {
    "duration": 30,
    "start_time": "2023-08-02T11:25:04.859Z"
   },
   {
    "duration": 16,
    "start_time": "2023-08-02T11:25:18.036Z"
   },
   {
    "duration": 5,
    "start_time": "2023-08-02T11:26:24.085Z"
   },
   {
    "duration": 4,
    "start_time": "2023-08-02T11:26:26.216Z"
   },
   {
    "duration": 10,
    "start_time": "2023-08-02T11:26:26.753Z"
   },
   {
    "duration": 6,
    "start_time": "2023-08-02T11:26:27.790Z"
   },
   {
    "duration": 7,
    "start_time": "2023-08-02T11:26:28.395Z"
   },
   {
    "duration": 9,
    "start_time": "2023-08-02T11:26:29.922Z"
   },
   {
    "duration": 3,
    "start_time": "2023-08-02T11:26:30.696Z"
   },
   {
    "duration": 10,
    "start_time": "2023-08-02T11:26:31.717Z"
   },
   {
    "duration": 24,
    "start_time": "2023-08-02T11:26:35.661Z"
   },
   {
    "duration": 18,
    "start_time": "2023-08-02T11:26:36.350Z"
   },
   {
    "duration": 5,
    "start_time": "2023-08-02T11:26:37.891Z"
   },
   {
    "duration": 4,
    "start_time": "2023-08-02T11:27:45.328Z"
   },
   {
    "duration": 13,
    "start_time": "2023-08-02T11:27:47.277Z"
   },
   {
    "duration": 6,
    "start_time": "2023-08-02T11:27:47.792Z"
   },
   {
    "duration": 3,
    "start_time": "2023-08-02T11:27:48.694Z"
   },
   {
    "duration": 8,
    "start_time": "2023-08-02T11:27:49.348Z"
   },
   {
    "duration": 24,
    "start_time": "2023-08-02T11:27:50.377Z"
   },
   {
    "duration": 3,
    "start_time": "2023-08-02T11:27:50.714Z"
   },
   {
    "duration": 5,
    "start_time": "2023-08-02T11:28:26.327Z"
   },
   {
    "duration": 5,
    "start_time": "2023-08-02T11:28:29.009Z"
   },
   {
    "duration": 11,
    "start_time": "2023-08-02T11:28:34.431Z"
   },
   {
    "duration": 5,
    "start_time": "2023-08-02T11:28:53.485Z"
   },
   {
    "duration": 11,
    "start_time": "2023-08-02T11:28:55.056Z"
   },
   {
    "duration": 7,
    "start_time": "2023-08-02T11:28:55.340Z"
   },
   {
    "duration": 3,
    "start_time": "2023-08-02T11:28:56.529Z"
   },
   {
    "duration": 9,
    "start_time": "2023-08-02T11:28:56.996Z"
   },
   {
    "duration": 7,
    "start_time": "2023-08-02T11:28:57.616Z"
   },
   {
    "duration": 4,
    "start_time": "2023-08-02T11:28:58.118Z"
   },
   {
    "duration": 14,
    "start_time": "2023-08-02T11:29:04.469Z"
   },
   {
    "duration": 21,
    "start_time": "2023-08-02T11:29:05.018Z"
   },
   {
    "duration": 3,
    "start_time": "2023-08-02T11:29:05.616Z"
   },
   {
    "duration": 13,
    "start_time": "2023-08-02T11:29:49.660Z"
   },
   {
    "duration": 4,
    "start_time": "2023-08-02T11:29:51.308Z"
   },
   {
    "duration": 18,
    "start_time": "2023-08-02T11:29:51.509Z"
   },
   {
    "duration": 3,
    "start_time": "2023-08-02T11:29:52.497Z"
   },
   {
    "duration": 7,
    "start_time": "2023-08-02T11:29:53.114Z"
   },
   {
    "duration": 19,
    "start_time": "2023-08-02T11:29:54.028Z"
   },
   {
    "duration": 5,
    "start_time": "2023-08-02T11:30:07.196Z"
   },
   {
    "duration": 4,
    "start_time": "2023-08-02T11:30:10.394Z"
   },
   {
    "duration": 7,
    "start_time": "2023-08-02T11:30:10.896Z"
   },
   {
    "duration": 5,
    "start_time": "2023-08-02T11:30:11.370Z"
   },
   {
    "duration": 7,
    "start_time": "2023-08-02T11:30:11.594Z"
   },
   {
    "duration": 21,
    "start_time": "2023-08-02T11:30:11.883Z"
   },
   {
    "duration": 3,
    "start_time": "2023-08-02T11:30:12.113Z"
   },
   {
    "duration": 5,
    "start_time": "2023-08-02T11:30:37.491Z"
   },
   {
    "duration": 4,
    "start_time": "2023-08-02T11:30:38.744Z"
   },
   {
    "duration": 7,
    "start_time": "2023-08-02T11:30:39.012Z"
   },
   {
    "duration": 3,
    "start_time": "2023-08-02T11:30:39.525Z"
   },
   {
    "duration": 8,
    "start_time": "2023-08-02T11:30:39.748Z"
   },
   {
    "duration": 18,
    "start_time": "2023-08-02T11:30:40.160Z"
   },
   {
    "duration": 4,
    "start_time": "2023-08-02T11:30:41.350Z"
   },
   {
    "duration": 9,
    "start_time": "2023-08-02T11:30:42.383Z"
   },
   {
    "duration": 494,
    "start_time": "2023-08-02T11:33:51.833Z"
   },
   {
    "duration": 11,
    "start_time": "2023-08-02T11:34:06.495Z"
   },
   {
    "duration": 5,
    "start_time": "2023-08-02T11:34:56.394Z"
   },
   {
    "duration": 4,
    "start_time": "2023-08-02T11:34:58.285Z"
   },
   {
    "duration": 7,
    "start_time": "2023-08-02T11:34:58.789Z"
   },
   {
    "duration": 3,
    "start_time": "2023-08-02T11:34:59.826Z"
   },
   {
    "duration": 7,
    "start_time": "2023-08-02T11:35:00.797Z"
   },
   {
    "duration": 10,
    "start_time": "2023-08-02T11:35:01.198Z"
   },
   {
    "duration": 3,
    "start_time": "2023-08-02T11:35:02.017Z"
   },
   {
    "duration": 10,
    "start_time": "2023-08-02T11:35:03.409Z"
   },
   {
    "duration": 18,
    "start_time": "2023-08-02T11:35:05.050Z"
   },
   {
    "duration": 15,
    "start_time": "2023-08-02T11:35:05.887Z"
   },
   {
    "duration": 5,
    "start_time": "2023-08-02T11:35:43.595Z"
   },
   {
    "duration": 5,
    "start_time": "2023-08-02T11:36:04.924Z"
   },
   {
    "duration": 4,
    "start_time": "2023-08-02T11:36:07.899Z"
   },
   {
    "duration": 8,
    "start_time": "2023-08-02T11:36:08.320Z"
   },
   {
    "duration": 3,
    "start_time": "2023-08-02T11:36:09.292Z"
   },
   {
    "duration": 11,
    "start_time": "2023-08-02T11:36:09.860Z"
   },
   {
    "duration": 9,
    "start_time": "2023-08-02T11:36:10.329Z"
   },
   {
    "duration": 4,
    "start_time": "2023-08-02T11:36:10.848Z"
   },
   {
    "duration": 10,
    "start_time": "2023-08-02T11:36:12.286Z"
   },
   {
    "duration": 16,
    "start_time": "2023-08-02T11:36:15.360Z"
   },
   {
    "duration": 14,
    "start_time": "2023-08-02T11:36:16.483Z"
   },
   {
    "duration": 4,
    "start_time": "2023-08-02T11:36:19.676Z"
   },
   {
    "duration": 5,
    "start_time": "2023-08-02T11:36:57.601Z"
   },
   {
    "duration": 5,
    "start_time": "2023-08-02T11:37:17.707Z"
   },
   {
    "duration": 4,
    "start_time": "2023-08-02T11:37:19.429Z"
   },
   {
    "duration": 7,
    "start_time": "2023-08-02T11:37:19.693Z"
   },
   {
    "duration": 3,
    "start_time": "2023-08-02T11:37:20.793Z"
   },
   {
    "duration": 8,
    "start_time": "2023-08-02T11:37:21.348Z"
   },
   {
    "duration": 8,
    "start_time": "2023-08-02T11:37:21.873Z"
   },
   {
    "duration": 4,
    "start_time": "2023-08-02T11:37:22.382Z"
   },
   {
    "duration": 10,
    "start_time": "2023-08-02T11:37:23.339Z"
   },
   {
    "duration": 10,
    "start_time": "2023-08-02T11:37:24.645Z"
   },
   {
    "duration": 12,
    "start_time": "2023-08-02T11:37:25.399Z"
   },
   {
    "duration": 2877,
    "start_time": "2023-08-02T12:07:57.079Z"
   },
   {
    "duration": 33,
    "start_time": "2023-08-02T12:07:59.957Z"
   },
   {
    "duration": 18,
    "start_time": "2023-08-02T12:07:59.992Z"
   },
   {
    "duration": 69,
    "start_time": "2023-08-02T12:08:00.012Z"
   },
   {
    "duration": 44,
    "start_time": "2023-08-02T12:08:00.084Z"
   },
   {
    "duration": 51,
    "start_time": "2023-08-02T12:08:00.135Z"
   },
   {
    "duration": 63,
    "start_time": "2023-08-02T12:08:00.188Z"
   },
   {
    "duration": 26,
    "start_time": "2023-08-02T12:08:00.257Z"
   },
   {
    "duration": 26,
    "start_time": "2023-08-02T12:08:00.284Z"
   },
   {
    "duration": 58,
    "start_time": "2023-08-02T12:08:00.312Z"
   },
   {
    "duration": 102,
    "start_time": "2023-08-02T12:08:00.372Z"
   },
   {
    "duration": 55,
    "start_time": "2023-08-02T12:08:00.476Z"
   },
   {
    "duration": 62,
    "start_time": "2023-08-02T12:08:00.533Z"
   },
   {
    "duration": 110,
    "start_time": "2023-08-02T12:08:00.597Z"
   },
   {
    "duration": 100,
    "start_time": "2023-08-02T12:08:00.713Z"
   }
  ],
  "kernelspec": {
   "display_name": "Python 3 (ipykernel)",
   "language": "python",
   "name": "python3"
  },
  "language_info": {
   "codemirror_mode": {
    "name": "ipython",
    "version": 3
   },
   "file_extension": ".py",
   "mimetype": "text/x-python",
   "name": "python",
   "nbconvert_exporter": "python",
   "pygments_lexer": "ipython3",
   "version": "3.9.5"
  },
  "toc": {
   "base_numbering": 1,
   "nav_menu": {},
   "number_sections": true,
   "sideBar": true,
   "skip_h1_title": true,
   "title_cell": "Содержание",
   "title_sidebar": "Contents",
   "toc_cell": true,
   "toc_position": {},
   "toc_section_display": true,
   "toc_window_display": true
  }
 },
 "nbformat": 4,
 "nbformat_minor": 2
}
