{
 "cells": [
  {
   "cell_type": "markdown",
   "metadata": {},
   "source": [
    "# Проект: Исследовательский анализ данных\n",
    "\n",
    "В моем распоряжении данные сервиса Яндекс Недвижимость — архив объявлений за несколько лет о продаже квартир в Санкт-Петербурге и соседних населённых пунктах.\n",
    "Задача — выполнить предобработку данных и изучить их, чтобы найти интересные особенности и зависимости, которые существуют на рынке недвижимости.\n",
    "О каждой квартире в базе содержится два типа данных: добавленные пользователем и картографические. Например, к первому типу относятся площадь квартиры, её этаж и количество балконов, ко второму — расстояния до центра города, аэропорта и ближайшего парка. "
   ]
  },
  {
   "cell_type": "markdown",
   "metadata": {
    "tags": []
   },
   "source": [
    "## Оглавление<a name=\"Head\"></a> \n",
    "## [Шаг 1: Общая информация](#1)\n",
    "## [Шаг 2: Предобработка данных](#2)\n",
    "### [Потолки, этажность, апартаменты, студии, балконы.](#21)\n",
    "### [Пос**ё**лки](#22)\n",
    "### [Заполнение NaN и обработка аномальных значений площадей.](#23)\n",
    "### [Выгрузка прервалась](#24)\n",
    "### [Типы данных](#25)\n",
    "### [Итоги предобработки данных:](#26)\n",
    "## [Шаг 3. Добавление в таблицу новых столбцов со следующими параметрами:](#3)\n",
    "## [Шаг 4. Исследовательский анализ данных:](#4)\n",
    "### [1. Расчет площадей](#4)\n",
    "#### [Общая площадь:](#4)\n",
    "#### [Жилая площадь:](#412)\n",
    "#### [Площадь кухни:](#413)\n",
    "#### [Цена объекта:](#414)\n",
    "#### [Количество комнат:](#415)\n",
    "#### [Высота потолков:](#416)\n",
    "#### [Этаж квартиры:](#417)\n",
    "#### [Тип этажа квартиры:](#418)\n",
    "#### [Общее количество этажей в доме:](#419)\n",
    "#### [Расстояние до центра города в метрах:](#4110)\n",
    "#### [Расстояние до ближайшего аэропорта:](#4111)\n",
    "#### [Расстояние до ближайшего парка:](#4112)\n",
    "#### [День и месяц публикации объявления:](#4113)\n",
    "### [2. Скорость продажи квартир](#42)\n",
    "### [3. Факторы влияющие на общую (полную) стоимость объекта](#43)\n",
    "#### [Общая площадь:](#43)\n",
    "#### [Жилая площадь и площадь кухни:](#432)\n",
    "#### [Количество комнат:](#433)\n",
    "#### [Этаж, на котором расположена квартира (первый, последний, другой):](#434)\n",
    "#### [Дата размещения (день недели, месяц, год):](#435)\n",
    "### [4. Цены одного квадратного метра в 10 населённых пунктах с наибольшим числом объявлений.](#44)\n",
    "### [5. Cредняя цена каждого километра в сторону центра.](#45)\n",
    "## [Шаг 5: Заключение](#5)"
   ]
  },
  {
   "cell_type": "markdown",
   "metadata": {},
   "source": [
    "## [Шаг 1: Общая информация](#Head)<a name=\"1\"></a> "
   ]
  },
  {
   "cell_type": "code",
   "execution_count": 1,
   "metadata": {},
   "outputs": [],
   "source": [
    "\n",
    "import pandas as pd\n",
    "import matplotlib.pyplot as plt\n",
    "import math\n",
    "try:\n",
    "    data = pd.read_csv('/Users/evgeniu/Desktop/Education/real_estate_data.csv', sep='\\t')\n",
    "except:\n",
    "    data = pd.read_csv('https://code.s3.yandex.net/datasets/real_estate_data.csv', sep='\\t')"
   ]
  },
  {
   "cell_type": "code",
   "execution_count": 2,
   "metadata": {},
   "outputs": [
    {
     "name": "stdout",
     "output_type": "stream",
     "text": [
      "<class 'pandas.core.frame.DataFrame'>\n",
      "RangeIndex: 23699 entries, 0 to 23698\n",
      "Data columns (total 22 columns):\n",
      " #   Column                Non-Null Count  Dtype  \n",
      "---  ------                --------------  -----  \n",
      " 0   total_images          23699 non-null  int64  \n",
      " 1   last_price            23699 non-null  float64\n",
      " 2   total_area            23699 non-null  float64\n",
      " 3   first_day_exposition  23699 non-null  object \n",
      " 4   rooms                 23699 non-null  int64  \n",
      " 5   ceiling_height        14504 non-null  float64\n",
      " 6   floors_total          23613 non-null  float64\n",
      " 7   living_area           21796 non-null  float64\n",
      " 8   floor                 23699 non-null  int64  \n",
      " 9   is_apartment          2775 non-null   object \n",
      " 10  studio                23699 non-null  bool   \n",
      " 11  open_plan             23699 non-null  bool   \n",
      " 12  kitchen_area          21421 non-null  float64\n",
      " 13  balcony               12180 non-null  float64\n",
      " 14  locality_name         23650 non-null  object \n",
      " 15  airports_nearest      18157 non-null  float64\n",
      " 16  cityCenters_nearest   18180 non-null  float64\n",
      " 17  parks_around3000      18181 non-null  float64\n",
      " 18  parks_nearest         8079 non-null   float64\n",
      " 19  ponds_around3000      18181 non-null  float64\n",
      " 20  ponds_nearest         9110 non-null   float64\n",
      " 21  days_exposition       20518 non-null  float64\n",
      "dtypes: bool(2), float64(14), int64(3), object(3)\n",
      "memory usage: 3.7+ MB\n"
     ]
    },
    {
     "data": {
      "text/html": [
       "<div>\n",
       "<style scoped>\n",
       "    .dataframe tbody tr th:only-of-type {\n",
       "        vertical-align: middle;\n",
       "    }\n",
       "\n",
       "    .dataframe tbody tr th {\n",
       "        vertical-align: top;\n",
       "    }\n",
       "\n",
       "    .dataframe thead th {\n",
       "        text-align: right;\n",
       "    }\n",
       "</style>\n",
       "<table border=\"1\" class=\"dataframe\">\n",
       "  <thead>\n",
       "    <tr style=\"text-align: right;\">\n",
       "      <th></th>\n",
       "      <th>total_images</th>\n",
       "      <th>last_price</th>\n",
       "      <th>total_area</th>\n",
       "      <th>first_day_exposition</th>\n",
       "      <th>rooms</th>\n",
       "      <th>ceiling_height</th>\n",
       "      <th>floors_total</th>\n",
       "      <th>living_area</th>\n",
       "      <th>floor</th>\n",
       "      <th>is_apartment</th>\n",
       "      <th>...</th>\n",
       "      <th>kitchen_area</th>\n",
       "      <th>balcony</th>\n",
       "      <th>locality_name</th>\n",
       "      <th>airports_nearest</th>\n",
       "      <th>cityCenters_nearest</th>\n",
       "      <th>parks_around3000</th>\n",
       "      <th>parks_nearest</th>\n",
       "      <th>ponds_around3000</th>\n",
       "      <th>ponds_nearest</th>\n",
       "      <th>days_exposition</th>\n",
       "    </tr>\n",
       "  </thead>\n",
       "  <tbody>\n",
       "    <tr>\n",
       "      <th>0</th>\n",
       "      <td>20</td>\n",
       "      <td>13000000.0</td>\n",
       "      <td>108.0</td>\n",
       "      <td>2019-03-07T00:00:00</td>\n",
       "      <td>3</td>\n",
       "      <td>2.70</td>\n",
       "      <td>16.0</td>\n",
       "      <td>51.0</td>\n",
       "      <td>8</td>\n",
       "      <td>NaN</td>\n",
       "      <td>...</td>\n",
       "      <td>25.0</td>\n",
       "      <td>NaN</td>\n",
       "      <td>Санкт-Петербург</td>\n",
       "      <td>18863.0</td>\n",
       "      <td>16028.0</td>\n",
       "      <td>1.0</td>\n",
       "      <td>482.0</td>\n",
       "      <td>2.0</td>\n",
       "      <td>755.0</td>\n",
       "      <td>NaN</td>\n",
       "    </tr>\n",
       "    <tr>\n",
       "      <th>1</th>\n",
       "      <td>7</td>\n",
       "      <td>3350000.0</td>\n",
       "      <td>40.4</td>\n",
       "      <td>2018-12-04T00:00:00</td>\n",
       "      <td>1</td>\n",
       "      <td>NaN</td>\n",
       "      <td>11.0</td>\n",
       "      <td>18.6</td>\n",
       "      <td>1</td>\n",
       "      <td>NaN</td>\n",
       "      <td>...</td>\n",
       "      <td>11.0</td>\n",
       "      <td>2.0</td>\n",
       "      <td>посёлок Шушары</td>\n",
       "      <td>12817.0</td>\n",
       "      <td>18603.0</td>\n",
       "      <td>0.0</td>\n",
       "      <td>NaN</td>\n",
       "      <td>0.0</td>\n",
       "      <td>NaN</td>\n",
       "      <td>81.0</td>\n",
       "    </tr>\n",
       "    <tr>\n",
       "      <th>2</th>\n",
       "      <td>10</td>\n",
       "      <td>5196000.0</td>\n",
       "      <td>56.0</td>\n",
       "      <td>2015-08-20T00:00:00</td>\n",
       "      <td>2</td>\n",
       "      <td>NaN</td>\n",
       "      <td>5.0</td>\n",
       "      <td>34.3</td>\n",
       "      <td>4</td>\n",
       "      <td>NaN</td>\n",
       "      <td>...</td>\n",
       "      <td>8.3</td>\n",
       "      <td>0.0</td>\n",
       "      <td>Санкт-Петербург</td>\n",
       "      <td>21741.0</td>\n",
       "      <td>13933.0</td>\n",
       "      <td>1.0</td>\n",
       "      <td>90.0</td>\n",
       "      <td>2.0</td>\n",
       "      <td>574.0</td>\n",
       "      <td>558.0</td>\n",
       "    </tr>\n",
       "    <tr>\n",
       "      <th>3</th>\n",
       "      <td>0</td>\n",
       "      <td>64900000.0</td>\n",
       "      <td>159.0</td>\n",
       "      <td>2015-07-24T00:00:00</td>\n",
       "      <td>3</td>\n",
       "      <td>NaN</td>\n",
       "      <td>14.0</td>\n",
       "      <td>NaN</td>\n",
       "      <td>9</td>\n",
       "      <td>NaN</td>\n",
       "      <td>...</td>\n",
       "      <td>NaN</td>\n",
       "      <td>0.0</td>\n",
       "      <td>Санкт-Петербург</td>\n",
       "      <td>28098.0</td>\n",
       "      <td>6800.0</td>\n",
       "      <td>2.0</td>\n",
       "      <td>84.0</td>\n",
       "      <td>3.0</td>\n",
       "      <td>234.0</td>\n",
       "      <td>424.0</td>\n",
       "    </tr>\n",
       "    <tr>\n",
       "      <th>4</th>\n",
       "      <td>2</td>\n",
       "      <td>10000000.0</td>\n",
       "      <td>100.0</td>\n",
       "      <td>2018-06-19T00:00:00</td>\n",
       "      <td>2</td>\n",
       "      <td>3.03</td>\n",
       "      <td>14.0</td>\n",
       "      <td>32.0</td>\n",
       "      <td>13</td>\n",
       "      <td>NaN</td>\n",
       "      <td>...</td>\n",
       "      <td>41.0</td>\n",
       "      <td>NaN</td>\n",
       "      <td>Санкт-Петербург</td>\n",
       "      <td>31856.0</td>\n",
       "      <td>8098.0</td>\n",
       "      <td>2.0</td>\n",
       "      <td>112.0</td>\n",
       "      <td>1.0</td>\n",
       "      <td>48.0</td>\n",
       "      <td>121.0</td>\n",
       "    </tr>\n",
       "  </tbody>\n",
       "</table>\n",
       "<p>5 rows × 22 columns</p>\n",
       "</div>"
      ],
      "text/plain": [
       "   total_images  last_price  total_area first_day_exposition  rooms  \\\n",
       "0            20  13000000.0       108.0  2019-03-07T00:00:00      3   \n",
       "1             7   3350000.0        40.4  2018-12-04T00:00:00      1   \n",
       "2            10   5196000.0        56.0  2015-08-20T00:00:00      2   \n",
       "3             0  64900000.0       159.0  2015-07-24T00:00:00      3   \n",
       "4             2  10000000.0       100.0  2018-06-19T00:00:00      2   \n",
       "\n",
       "   ceiling_height  floors_total  living_area  floor is_apartment  ...  \\\n",
       "0            2.70          16.0         51.0      8          NaN  ...   \n",
       "1             NaN          11.0         18.6      1          NaN  ...   \n",
       "2             NaN           5.0         34.3      4          NaN  ...   \n",
       "3             NaN          14.0          NaN      9          NaN  ...   \n",
       "4            3.03          14.0         32.0     13          NaN  ...   \n",
       "\n",
       "   kitchen_area  balcony    locality_name  airports_nearest  \\\n",
       "0          25.0      NaN  Санкт-Петербург           18863.0   \n",
       "1          11.0      2.0   посёлок Шушары           12817.0   \n",
       "2           8.3      0.0  Санкт-Петербург           21741.0   \n",
       "3           NaN      0.0  Санкт-Петербург           28098.0   \n",
       "4          41.0      NaN  Санкт-Петербург           31856.0   \n",
       "\n",
       "  cityCenters_nearest  parks_around3000  parks_nearest  ponds_around3000  \\\n",
       "0             16028.0               1.0          482.0               2.0   \n",
       "1             18603.0               0.0            NaN               0.0   \n",
       "2             13933.0               1.0           90.0               2.0   \n",
       "3              6800.0               2.0           84.0               3.0   \n",
       "4              8098.0               2.0          112.0               1.0   \n",
       "\n",
       "   ponds_nearest  days_exposition  \n",
       "0          755.0              NaN  \n",
       "1            NaN             81.0  \n",
       "2          574.0            558.0  \n",
       "3          234.0            424.0  \n",
       "4           48.0            121.0  \n",
       "\n",
       "[5 rows x 22 columns]"
      ]
     },
     "execution_count": 2,
     "metadata": {},
     "output_type": "execute_result"
    }
   ],
   "source": [
    "data.info()\n",
    "data.head()"
   ]
  },
  {
   "cell_type": "markdown",
   "metadata": {},
   "source": [
    "\n",
    "<table>\n",
    "    <caption>Описание данных</caption>\n",
    "    <tr>\n",
    "        <td>airports_nearest</td> <td>расстояние до ближайшего аэропорта в метрах (м)</td>\n",
    "    </tr>\n",
    "    <tr>\n",
    "        <td>balcony</td> <td>число балконов</td>\n",
    "    </tr>\n",
    "    <tr>\n",
    "        <td>ceiling_height</td><td>высота потолков (м)</td>\n",
    "    </tr>\n",
    "    <tr>\n",
    "        <td>cityCenters_nearest</td><td>расстояние до центра города (м)</td>\n",
    "    </tr>\n",
    "    <tr>\n",
    "        <td>days_exposition</td><td>сколько дней было размещено объявление (от публикации до снятия)</td>\n",
    "    </tr>\n",
    "    <tr>\n",
    "        <td>first_day_exposition</td><td>дата публикации</td>\n",
    "    </tr>\n",
    "    <tr>\n",
    "        <td>floor</td><td>этаж</td>\n",
    "    </tr>\n",
    "    <tr>\n",
    "        <td>floors_total</td><td>всего этажей в доме</td>\n",
    "    </tr>\n",
    "    <tr>\n",
    "        <td>is_apartment</td><td>апартаменты (булев тип)</td>\n",
    "    </tr>\n",
    "    <tr>\n",
    "        <td>last_price</td><td>цена на момент снятия с публикации</td>\n",
    "    </tr>\n",
    "    <tr>\n",
    "        <td>living_area</td><td>жилая площадь в квадратных метрах (м²)</td>\n",
    "    </tr>\n",
    "    <tr>\n",
    "        <td>locality_name</td><td>название населённого пункта</td>\n",
    "    </tr>\n",
    "    <tr>\n",
    "        <td>open_plan</td><td>свободная планировка (булев тип)</td>\n",
    "    </tr>\n",
    "    <tr>\n",
    "        <td>parks_around3000</td><td>число парков в радиусе 3 км</td>\n",
    "    </tr>\n",
    "    <tr>\n",
    "        <td>parks_nearest</td><td>расстояние до ближайшего парка (м)</td>\n",
    "    </tr>\n",
    "     <tr>\n",
    "        <td>ponds_around3000</td><td>число водоёмов в радиусе 3 км</td>\n",
    "    </tr>\n",
    "     <tr>\n",
    "        <td>ponds_nearest</td><td>расстояние до ближайшего водоёма (м)</td>\n",
    "    </tr>\n",
    "     <tr>\n",
    "        <td>rooms</td><td>число комнат</td>\n",
    "    </tr>\n",
    "     <tr>\n",
    "        <td>studio</td><td>квартира-студия (булев тип)</td>\n",
    "    </tr>\n",
    "     <tr>\n",
    "        <td>total_area</td><td>общая площадь квартиры в квадратных метрах (м²)</td>\n",
    "    </tr>\n",
    "     <tr>\n",
    "        <td>total_images</td><td>число фотографий квартиры в объявлении</td>\n",
    "    </tr>\n",
    "</table>"
   ]
  },
  {
   "cell_type": "code",
   "execution_count": 3,
   "metadata": {},
   "outputs": [
    {
     "data": {
      "image/png": "[encoded data removed]",
      "text/plain": [
       "<Figure size 1080x720 with 20 Axes>"
      ]
     },
     "metadata": {
      "needs_background": "light"
     },
     "output_type": "display_data"
    }
   ],
   "source": [
    "data.hist(figsize=(15, 10), bins=50)\n",
    "plt.rcParams['font.size'] = 7\n",
    "plt.show()"
   ]
  },
  {
   "cell_type": "markdown",
   "metadata": {},
   "source": [
    "## [Шаг 2: Предобработка данных](#Head) <a name=\"2\"></a> "
   ]
  },
  {
   "cell_type": "code",
   "execution_count": 4,
   "metadata": {},
   "outputs": [
    {
     "data": {
      "text/plain": [
       "total_images                0\n",
       "last_price                  0\n",
       "total_area                  0\n",
       "first_day_exposition        0\n",
       "rooms                       0\n",
       "ceiling_height           9195\n",
       "floors_total               86\n",
       "living_area              1903\n",
       "floor                       0\n",
       "is_apartment            20924\n",
       "studio                      0\n",
       "open_plan                   0\n",
       "kitchen_area             2278\n",
       "balcony                 11519\n",
       "locality_name              49\n",
       "airports_nearest         5542\n",
       "cityCenters_nearest      5519\n",
       "parks_around3000         5518\n",
       "parks_nearest           15620\n",
       "ponds_around3000         5518\n",
       "ponds_nearest           14589\n",
       "days_exposition          3181\n",
       "dtype: int64"
      ]
     },
     "execution_count": 4,
     "metadata": {},
     "output_type": "execute_result"
    }
   ],
   "source": [
    "data.isna().sum()"
   ]
  },
  {
   "cell_type": "markdown",
   "metadata": {},
   "source": [
    "В датасете есть 14 сотлбцов с пропусками. Проверим каждый из них и попробуем заполнить:"
   ]
  },
  {
   "cell_type": "code",
   "execution_count": 5,
   "metadata": {},
   "outputs": [
    {
     "data": {
      "text/html": [
       "<style  type=\"text/css\" >\n",
       "#T_cd32f_row0_col0,#T_cd32f_row1_col0,#T_cd32f_row2_col0,#T_cd32f_row3_col0,#T_cd32f_row4_col0,#T_cd32f_row8_col0,#T_cd32f_row10_col0,#T_cd32f_row11_col0,#T_cd32f_row14_col0{\n",
       "            background-color:  #3b4cc0;\n",
       "            color:  #f1f1f1;\n",
       "        }#T_cd32f_row5_col0{\n",
       "            background-color:  #ccd9ed;\n",
       "            color:  #000000;\n",
       "        }#T_cd32f_row6_col0{\n",
       "            background-color:  #3c4ec2;\n",
       "            color:  #f1f1f1;\n",
       "        }#T_cd32f_row7_col0{\n",
       "            background-color:  #5673e0;\n",
       "            color:  #000000;\n",
       "        }#T_cd32f_row9_col0{\n",
       "            background-color:  #b40426;\n",
       "            color:  #f1f1f1;\n",
       "        }#T_cd32f_row12_col0{\n",
       "            background-color:  #5b7ae5;\n",
       "            color:  #000000;\n",
       "        }#T_cd32f_row13_col0{\n",
       "            background-color:  #e9d5cb;\n",
       "            color:  #000000;\n",
       "        }#T_cd32f_row15_col0,#T_cd32f_row16_col0,#T_cd32f_row17_col0,#T_cd32f_row19_col0{\n",
       "            background-color:  #92b4fe;\n",
       "            color:  #000000;\n",
       "        }#T_cd32f_row18_col0{\n",
       "            background-color:  #f49a7b;\n",
       "            color:  #000000;\n",
       "        }#T_cd32f_row20_col0{\n",
       "            background-color:  #f7ad90;\n",
       "            color:  #000000;\n",
       "        }#T_cd32f_row21_col0{\n",
       "            background-color:  #6a8bef;\n",
       "            color:  #000000;\n",
       "        }</style><table id=\"T_cd32f_\" ><thead>    <tr>        <th class=\"blank level0\" ></th>        <th class=\"col_heading level0 col0\" >0</th>    </tr></thead><tbody>\n",
       "                <tr>\n",
       "                        <th id=\"T_cd32f_level0_row0\" class=\"row_heading level0 row0\" >total_images</th>\n",
       "                        <td id=\"T_cd32f_row0_col0\" class=\"data row0 col0\" >0.000000</td>\n",
       "            </tr>\n",
       "            <tr>\n",
       "                        <th id=\"T_cd32f_level0_row1\" class=\"row_heading level0 row1\" >last_price</th>\n",
       "                        <td id=\"T_cd32f_row1_col0\" class=\"data row1 col0\" >0.000000</td>\n",
       "            </tr>\n",
       "            <tr>\n",
       "                        <th id=\"T_cd32f_level0_row2\" class=\"row_heading level0 row2\" >total_area</th>\n",
       "                        <td id=\"T_cd32f_row2_col0\" class=\"data row2 col0\" >0.000000</td>\n",
       "            </tr>\n",
       "            <tr>\n",
       "                        <th id=\"T_cd32f_level0_row3\" class=\"row_heading level0 row3\" >first_day_exposition</th>\n",
       "                        <td id=\"T_cd32f_row3_col0\" class=\"data row3 col0\" >0.000000</td>\n",
       "            </tr>\n",
       "            <tr>\n",
       "                        <th id=\"T_cd32f_level0_row4\" class=\"row_heading level0 row4\" >rooms</th>\n",
       "                        <td id=\"T_cd32f_row4_col0\" class=\"data row4 col0\" >0.000000</td>\n",
       "            </tr>\n",
       "            <tr>\n",
       "                        <th id=\"T_cd32f_level0_row5\" class=\"row_heading level0 row5\" >ceiling_height</th>\n",
       "                        <td id=\"T_cd32f_row5_col0\" class=\"data row5 col0\" >38.800000</td>\n",
       "            </tr>\n",
       "            <tr>\n",
       "                        <th id=\"T_cd32f_level0_row6\" class=\"row_heading level0 row6\" >floors_total</th>\n",
       "                        <td id=\"T_cd32f_row6_col0\" class=\"data row6 col0\" >0.400000</td>\n",
       "            </tr>\n",
       "            <tr>\n",
       "                        <th id=\"T_cd32f_level0_row7\" class=\"row_heading level0 row7\" >living_area</th>\n",
       "                        <td id=\"T_cd32f_row7_col0\" class=\"data row7 col0\" >8.000000</td>\n",
       "            </tr>\n",
       "            <tr>\n",
       "                        <th id=\"T_cd32f_level0_row8\" class=\"row_heading level0 row8\" >floor</th>\n",
       "                        <td id=\"T_cd32f_row8_col0\" class=\"data row8 col0\" >0.000000</td>\n",
       "            </tr>\n",
       "            <tr>\n",
       "                        <th id=\"T_cd32f_level0_row9\" class=\"row_heading level0 row9\" >is_apartment</th>\n",
       "                        <td id=\"T_cd32f_row9_col0\" class=\"data row9 col0\" >88.300000</td>\n",
       "            </tr>\n",
       "            <tr>\n",
       "                        <th id=\"T_cd32f_level0_row10\" class=\"row_heading level0 row10\" >studio</th>\n",
       "                        <td id=\"T_cd32f_row10_col0\" class=\"data row10 col0\" >0.000000</td>\n",
       "            </tr>\n",
       "            <tr>\n",
       "                        <th id=\"T_cd32f_level0_row11\" class=\"row_heading level0 row11\" >open_plan</th>\n",
       "                        <td id=\"T_cd32f_row11_col0\" class=\"data row11 col0\" >0.000000</td>\n",
       "            </tr>\n",
       "            <tr>\n",
       "                        <th id=\"T_cd32f_level0_row12\" class=\"row_heading level0 row12\" >kitchen_area</th>\n",
       "                        <td id=\"T_cd32f_row12_col0\" class=\"data row12 col0\" >9.600000</td>\n",
       "            </tr>\n",
       "            <tr>\n",
       "                        <th id=\"T_cd32f_level0_row13\" class=\"row_heading level0 row13\" >balcony</th>\n",
       "                        <td id=\"T_cd32f_row13_col0\" class=\"data row13 col0\" >48.600000</td>\n",
       "            </tr>\n",
       "            <tr>\n",
       "                        <th id=\"T_cd32f_level0_row14\" class=\"row_heading level0 row14\" >locality_name</th>\n",
       "                        <td id=\"T_cd32f_row14_col0\" class=\"data row14 col0\" >0.200000</td>\n",
       "            </tr>\n",
       "            <tr>\n",
       "                        <th id=\"T_cd32f_level0_row15\" class=\"row_heading level0 row15\" >airports_nearest</th>\n",
       "                        <td id=\"T_cd32f_row15_col0\" class=\"data row15 col0\" >23.400000</td>\n",
       "            </tr>\n",
       "            <tr>\n",
       "                        <th id=\"T_cd32f_level0_row16\" class=\"row_heading level0 row16\" >cityCenters_nearest</th>\n",
       "                        <td id=\"T_cd32f_row16_col0\" class=\"data row16 col0\" >23.300000</td>\n",
       "            </tr>\n",
       "            <tr>\n",
       "                        <th id=\"T_cd32f_level0_row17\" class=\"row_heading level0 row17\" >parks_around3000</th>\n",
       "                        <td id=\"T_cd32f_row17_col0\" class=\"data row17 col0\" >23.300000</td>\n",
       "            </tr>\n",
       "            <tr>\n",
       "                        <th id=\"T_cd32f_level0_row18\" class=\"row_heading level0 row18\" >parks_nearest</th>\n",
       "                        <td id=\"T_cd32f_row18_col0\" class=\"data row18 col0\" >65.900000</td>\n",
       "            </tr>\n",
       "            <tr>\n",
       "                        <th id=\"T_cd32f_level0_row19\" class=\"row_heading level0 row19\" >ponds_around3000</th>\n",
       "                        <td id=\"T_cd32f_row19_col0\" class=\"data row19 col0\" >23.300000</td>\n",
       "            </tr>\n",
       "            <tr>\n",
       "                        <th id=\"T_cd32f_level0_row20\" class=\"row_heading level0 row20\" >ponds_nearest</th>\n",
       "                        <td id=\"T_cd32f_row20_col0\" class=\"data row20 col0\" >61.600000</td>\n",
       "            </tr>\n",
       "            <tr>\n",
       "                        <th id=\"T_cd32f_level0_row21\" class=\"row_heading level0 row21\" >days_exposition</th>\n",
       "                        <td id=\"T_cd32f_row21_col0\" class=\"data row21 col0\" >13.400000</td>\n",
       "            </tr>\n",
       "    </tbody></table>"
      ],
      "text/plain": [
       "<pandas.io.formats.style.Styler at 0x7f9cceba6ac0>"
      ]
     },
     "execution_count": 5,
     "metadata": {},
     "output_type": "execute_result"
    }
   ],
   "source": [
    "pd.DataFrame(round(data.isna().mean()*100,1)).style.background_gradient('coolwarm')\n"
   ]
  },
  {
   "cell_type": "markdown",
   "metadata": {},
   "source": [
    "### [Потолки, этажность, апартаменты, студии, балконы.](#Head)<a name=\"21\"></a> "
   ]
  },
  {
   "cell_type": "code",
   "execution_count": 6,
   "metadata": {},
   "outputs": [
    {
     "data": {
      "text/plain": [
       "2.65"
      ]
     },
     "execution_count": 6,
     "metadata": {},
     "output_type": "execute_result"
    }
   ],
   "source": [
    "#NaN высоты потолков заполяю медианными значениями. Пропусков много, эти записи лучше не терять.\n",
    "data['ceiling_height'] = data['ceiling_height'].fillna(data['ceiling_height'].median())\n",
    "data['ceiling_height'].median()"
   ]
  },
  {
   "cell_type": "code",
   "execution_count": 7,
   "metadata": {},
   "outputs": [
    {
     "data": {
      "text/plain": [
       "array([  1.  ,   1.2 ,   1.75,   2.  ,   2.2 ,   2.25,   2.3 ,   2.34,\n",
       "         2.4 ,   2.45,   2.46,   2.47,   2.48,   2.49,   2.5 ,   2.51,\n",
       "         2.52,   2.53,   2.54,   2.55,   2.56,   2.57,   2.58,   2.59,\n",
       "         2.6 ,   2.61,   2.62,   2.63,   2.64,   2.65,   2.66,   2.67,\n",
       "         2.68,   2.69,   2.7 ,   2.71,   2.72,   2.73,   2.74,   2.75,\n",
       "         2.76,   2.77,   2.78,   2.79,   2.8 ,   2.81,   2.82,   2.83,\n",
       "         2.84,   2.85,   2.86,   2.87,   2.88,   2.89,   2.9 ,   2.91,\n",
       "         2.92,   2.93,   2.94,   2.95,   2.96,   2.97,   2.98,   2.99,\n",
       "         3.  ,   3.01,   3.02,   3.03,   3.04,   3.05,   3.06,   3.07,\n",
       "         3.08,   3.09,   3.1 ,   3.11,   3.12,   3.13,   3.14,   3.15,\n",
       "         3.16,   3.17,   3.18,   3.2 ,   3.21,   3.22,   3.23,   3.24,\n",
       "         3.25,   3.26,   3.27,   3.28,   3.29,   3.3 ,   3.31,   3.32,\n",
       "         3.33,   3.34,   3.35,   3.36,   3.37,   3.38,   3.39,   3.4 ,\n",
       "         3.42,   3.43,   3.44,   3.45,   3.46,   3.47,   3.48,   3.49,\n",
       "         3.5 ,   3.51,   3.52,   3.53,   3.54,   3.55,   3.56,   3.57,\n",
       "         3.58,   3.59,   3.6 ,   3.62,   3.63,   3.65,   3.66,   3.67,\n",
       "         3.68,   3.69,   3.7 ,   3.75,   3.76,   3.78,   3.8 ,   3.82,\n",
       "         3.83,   3.84,   3.85,   3.86,   3.87,   3.88,   3.9 ,   3.93,\n",
       "         3.95,   3.98,   4.  ,   4.06,   4.1 ,   4.14,   4.15,   4.19,\n",
       "         4.2 ,   4.25,   4.3 ,   4.37,   4.4 ,   4.45,   4.5 ,   4.65,\n",
       "         4.7 ,   4.8 ,   4.9 ,   5.  ,   5.2 ,   5.3 ,   5.5 ,   5.6 ,\n",
       "         5.8 ,   6.  ,   8.  ,   8.3 ,  10.3 ,  14.  ,  20.  ,  22.6 ,\n",
       "        24.  ,  25.  ,  26.  ,  27.  ,  27.5 ,  32.  , 100.  ])"
      ]
     },
     "execution_count": 7,
     "metadata": {},
     "output_type": "execute_result"
    }
   ],
   "source": [
    "data['ceiling_height'].sort_values().unique() #Есть неадекватная высота потолка(1, 100, 1.2), есть значения 20-32, где, вероятно, не поставили разделитель при указании высоты."
   ]
  },
  {
   "cell_type": "code",
   "execution_count": 8,
   "metadata": {},
   "outputs": [],
   "source": [
    "\n",
    "data.loc[(data['ceiling_height'] >= 20) & (data['ceiling_height'] <= 32), 'ceiling_height'] = data['ceiling_height']/10 #Делим ошибочные значения\n",
    "data = data[~((data['ceiling_height'] > 6) | (data['ceiling_height'] < 1.7))] #Отбрасываем невнятные данные"
   ]
  },
  {
   "cell_type": "code",
   "execution_count": 9,
   "metadata": {},
   "outputs": [
    {
     "data": {
      "text/plain": [
       "1"
      ]
     },
     "metadata": {},
     "output_type": "display_data"
    },
    {
     "data": {
      "text/plain": [
       "1.0"
      ]
     },
     "metadata": {},
     "output_type": "display_data"
    }
   ],
   "source": [
    "for floor in data['floor'].unique():\n",
    "    data.loc[(data['floor'] == floor) & (data['floors_total'].isna()), 'floors_total'] = \\\n",
    "        round(data.loc[(data['floor'] == floor), 'floors_total'].mean())\n",
    "#Подставляем к каждому пропущенному значению этажности среденее значение количества этажей дома, этажу корого соответствует продаваемая квартира.\n",
    "display(data['floor'].min(), data['floors_total'].min())"
   ]
  },
  {
   "cell_type": "code",
   "execution_count": 10,
   "metadata": {},
   "outputs": [],
   "source": [
    "#Если для апртаментов не указано значение, то ему стоит присвоить значение False. \n",
    "data['is_apartment'] = data['is_apartment'].fillna(False)\n",
    "#Для объявлений с NaN балконов стоит поставить значение 0. При создании объявления наиболее вероятно, что это значение не установили в 0.\n",
    "data['balcony'] = data['balcony'].fillna(0)"
   ]
  },
  {
   "cell_type": "code",
   "execution_count": 11,
   "metadata": {},
   "outputs": [
    {
     "data": {
      "text/plain": [
       "197"
      ]
     },
     "metadata": {},
     "output_type": "display_data"
    },
    {
     "data": {
      "text/plain": [
       "0    138\n",
       "1     11\n",
       "Name: rooms, dtype: int64"
      ]
     },
     "execution_count": 11,
     "metadata": {},
     "output_type": "execute_result"
    }
   ],
   "source": [
    "display(data[data['rooms'] == 0]['rooms'].count())\n",
    "data[data['studio']]['rooms'].value_counts()"
   ]
  },
  {
   "cell_type": "code",
   "execution_count": 12,
   "metadata": {},
   "outputs": [],
   "source": [
    "#квартиры без комнат - студии. Заполним:\n",
    "data.loc[data['rooms'] == 0, 'studio'] = True"
   ]
  },
  {
   "cell_type": "markdown",
   "metadata": {},
   "source": [
    "### [Пос**ё**лки](#Head)<a name=\"22\"></a> "
   ]
  },
  {
   "cell_type": "code",
   "execution_count": 13,
   "metadata": {},
   "outputs": [],
   "source": [
    "#Проверка locality_name\n",
    "len(data[data['locality_name'].isna()])\n",
    "# Пропущено 49 значений с названием города, это не частные дома, здания многоэтажные. \n",
    "# На многих записях указано расстояние до аэропорта и центра.\n",
    "# Данных немного, определим эти квартиры в населенный пункт 'unknown'\n",
    "data['locality_name'] = data['locality_name'].fillna('unknown')"
   ]
  },
  {
   "cell_type": "code",
   "execution_count": 14,
   "metadata": {},
   "outputs": [
    {
     "name": "stdout",
     "output_type": "stream",
     "text": [
      "['Санкт-Петербург', 'Ломоносов', 'Сертолово', 'Петергоф', 'Пушкин', 'Коммунар', 'Колпино', 'Гатчина', 'Выборг', 'Кронштадт', 'Кировск', 'Павловск', 'Всеволожск', 'Волхов', 'Кингисепп', 'Приозерск', 'Сестрорецк', 'Красное Село', 'Сясьстрой', 'Сланцы', 'Ивангород', 'Мурино', 'Шлиссельбург', 'Никольское', 'Зеленогорск', 'Сосновый Бор', 'Кудрово', 'Кириши', 'Луга', 'Волосово', 'Отрадное', 'Тихвин', 'Тосно', 'Бокситогорск', 'Пикалёво', 'Подпорожье', 'Приморск', 'Новая Ладога', 'Лодейное Поле', 'Светогорск', 'Любань', 'Каменногорск', 'Высоцк']\n"
     ]
    }
   ],
   "source": [
    "#Унифицируем префиксы для поселений\n",
    "village = {'посёлок' : ['посёлок городского типа', 'поселок городского типа', 'пгт', 'городской посёлок',  \n",
    "                        'городской поселок', 'коттеджный посёлок', 'коттеджный поселок', 'посёлок станции', \n",
    "                        'поселок станции', 'посёлок при железнодорожной станции', 'поселок', 'село',], \n",
    "           'снт' : ['садовое товарищество', 'садоводческое некоммерческое товарищество'],\n",
    "           'деревня' : ['деревня']}\n",
    "#Достанем записи с Названиями городов-саттелитов\n",
    "cities = []\n",
    "for city in data['locality_name'].unique():\n",
    "    if city.istitle():\n",
    "        cities.append(city)\n",
    "print(cities)"
   ]
  },
  {
   "cell_type": "code",
   "execution_count": 15,
   "metadata": {},
   "outputs": [],
   "source": [
    "def fix_village(village_name):\n",
    "    for city in cities:\n",
    "        if city in village_name:\n",
    "            return city #Вернем город\n",
    "        \n",
    "    for val, key in zip(village.values(), village.keys()):\n",
    "        for item in val:\n",
    "            if item in village_name:\n",
    "                return village_name.replace(item, key)\n",
    "    return village_name #Или унифицируем приставку по словарю\n",
    " "
   ]
  },
  {
   "cell_type": "code",
   "execution_count": 16,
   "metadata": {},
   "outputs": [],
   "source": [
    "data['locality_name'] = data['locality_name'].apply(fix_village)\n"
   ]
  },
  {
   "cell_type": "code",
   "execution_count": 17,
   "metadata": {
    "scrolled": true
   },
   "outputs": [
    {
     "data": {
      "text/plain": [
       "array(['unknown', 'Бокситогорск', 'Волосово', 'Волхов', 'Всеволожск',\n",
       "       'Выборг', 'Высоцк', 'Гатчина', 'Зеленогорск', 'Ивангород',\n",
       "       'Каменногорск', 'Кингисепп', 'Кириши', 'Кировск', 'Колпино',\n",
       "       'Коммунар', 'Красное Село', 'Кронштадт', 'Кудрово',\n",
       "       'Лодейное Поле', 'Ломоносов', 'Луга', 'Любань', 'Мурино',\n",
       "       'Никольское', 'Новая Ладога', 'Отрадное', 'Павловск', 'Петергоф',\n",
       "       'Пикалёво', 'Подпорожье', 'Приморск', 'Приозерск', 'Пушкин',\n",
       "       'Санкт-Петербург', 'Светогорск', 'Сертолово', 'Сестрорецк',\n",
       "       'Сланцы', 'Сосновый Бор', 'Сясьстрой', 'Тихвин', 'Тосно',\n",
       "       'Шлиссельбург', 'деревня Агалатово', 'деревня Аро',\n",
       "       'деревня Батово', 'деревня Бегуницы', 'деревня Белогорка',\n",
       "       'деревня Большая Вруда', 'деревня Большая Пустомержа',\n",
       "       'деревня Большие Колпаны', 'деревня Большое Рейзино',\n",
       "       'деревня Большой Сабск', 'деревня Бор', 'деревня Борисова Грива',\n",
       "       'деревня Ваганово', 'деревня Вартемяги', 'деревня Вахнова Кара',\n",
       "       'деревня Выскатка', 'деревня Гарболово', 'деревня Глинка',\n",
       "       'деревня Горбунки', 'деревня Гостилицы', 'деревня Заклинье',\n",
       "       'деревня Заневка', 'деревня Зимитицы', 'деревня Извара',\n",
       "       'деревня Иссад', 'деревня Калитино', 'деревня Кальтино',\n",
       "       'деревня Камышовка', 'деревня Каськово', 'деревня Келози',\n",
       "       'деревня Кипень', 'деревня Кисельня', 'деревня Колтуши',\n",
       "       'деревня Коркино', 'деревня Котлы', 'деревня Кривко',\n",
       "       'деревня Кузьмолово', 'деревня Курковицы', 'деревня Куровицы',\n",
       "       'деревня Куттузи', 'деревня Лаврики', 'деревня Лаголово',\n",
       "       'деревня Лампово', 'деревня Лесколово', 'деревня Лопухинка',\n",
       "       'деревня Лупполово', 'деревня Малая Романовка',\n",
       "       'деревня Малое Верево', 'деревня Малое Карлино',\n",
       "       'деревня Малые Колпаны', 'деревня Мануйлово', 'деревня Меньково',\n",
       "       'деревня Мины', 'деревня Мистолово', 'деревня Ненимяки',\n",
       "       'деревня Нижние Осельки', 'деревня Нижняя', 'деревня Низино',\n",
       "       'деревня Новое Девяткино', 'деревня Новолисино', 'деревня Нурма',\n",
       "       'деревня Оржицы', 'деревня Парицы', 'деревня Пельгора',\n",
       "       'деревня Пеники', 'деревня Пижма', 'деревня Пикколово',\n",
       "       'деревня Пудомяги', 'деревня Пустынка', 'деревня Пчева',\n",
       "       'деревня Рабитицы', 'деревня Разбегаево', 'деревня Раздолье',\n",
       "       'деревня Разметелево', 'деревня Рапполово', 'деревня Реброво',\n",
       "       'деревня Русско', 'деревня Сижно', 'деревня Снегирёвка',\n",
       "       'деревня Старая', 'деревня Старая Пустошь',\n",
       "       'деревня Старое Хинколово', 'деревня Старополье',\n",
       "       'деревня Старосиверская', 'деревня Старые Бегуницы',\n",
       "       'деревня Суоранда', 'деревня Сяськелево', 'деревня Тарасово',\n",
       "       'деревня Терпилицы', 'деревня Тихковицы', 'деревня Тойворово',\n",
       "       'деревня Торосово', 'деревня Торошковичи', 'деревня Трубников Бор',\n",
       "       'деревня Фалилеево', 'деревня Фёдоровское', 'деревня Хапо-Ое',\n",
       "       'деревня Хязельки', 'деревня Чудской Бор', 'деревня Шпаньково',\n",
       "       'деревня Щеглово', 'деревня Юкки', 'деревня Ялгино',\n",
       "       'деревня Яльгелево', 'деревня Ям-Тесово',\n",
       "       'посёлок Александровская', 'посёлок Алексеевка', 'посёлок Аннино',\n",
       "       'посёлок Барышево', 'посёлок Белоостров', 'посёлок Большая Ижора',\n",
       "       'посёлок Бугры', 'посёлок Будогощь', 'посёлок Важины',\n",
       "       'посёлок Вещево', 'посёлок Виллози', 'посёлок Вознесенье',\n",
       "       'посёлок Возрождение', 'посёлок Войсковицы', 'посёлок Войскорово',\n",
       "       'посёлок Володарское', 'посёлок Вырица', 'посёлок Высокоключевой',\n",
       "       'посёлок Гаврилово', 'посёлок Гарболово', 'посёлок Гладкое',\n",
       "       'посёлок Глажево', 'посёлок Глебычево', 'посёлок Гончарово',\n",
       "       'посёлок Громово', 'посёлок Дзержинского', 'посёлок Дружная Горка',\n",
       "       'посёлок Дружноселье', 'посёлок Дубровка', 'посёлок Елизаветино',\n",
       "       'посёлок Ефимовский', 'посёлок Жилгородок', 'посёлок Жилпосёлок',\n",
       "       'посёлок Житково', 'посёлок Заводской', 'посёлок Запорожское',\n",
       "       'посёлок Зимитицы', 'посёлок Ильичёво', 'посёлок Калитино',\n",
       "       'посёлок Каложицы', 'посёлок Кивеннапа Север', 'посёлок Кикерино',\n",
       "       'посёлок Кирпичное', 'посёлок Кобралово', 'посёлок Кобринское',\n",
       "       'посёлок Кондратьево', 'посёлок Копорье', 'посёлок Корнево',\n",
       "       'посёлок Коробицыно', 'посёлок Котельский',\n",
       "       'посёлок Красная Долина', 'посёлок Красносельское',\n",
       "       'посёлок Красный Бор', 'посёлок Кузнечное',\n",
       "       'посёлок Кузьмоловский', 'посёлок Лебяжье', 'посёлок Левашово',\n",
       "       'посёлок Ленинское', 'посёлок Лесное', 'посёлок Лесогорский',\n",
       "       'посёлок Лисий Нос', 'посёлок Лужайка', 'посёлок Лукаши',\n",
       "       'посёлок Мга', 'посёлок Мельниково', 'посёлок Металлострой',\n",
       "       'посёлок Мичуринское', 'посёлок Молодцово', 'посёлок Молодёжное',\n",
       "       'посёлок Мыза-Ивановка', 'посёлок Назия', 'посёлок Никольский',\n",
       "       'посёлок Новогорелово', 'посёлок Новоселье', 'посёлок Новый Свет',\n",
       "       'посёлок Новый Учхоз', 'посёлок Оредеж', 'посёлок Павлово',\n",
       "       'посёлок Пансионат Зелёный Бор', 'посёлок Парголово',\n",
       "       'посёлок Паша', 'посёлок Первомайское', 'посёлок Перово',\n",
       "       'посёлок Песочный', 'посёлок Петро-Славянка', 'посёлок Петровское',\n",
       "       'посёлок Платформа 69-й километр', 'посёлок Плодовое',\n",
       "       'посёлок Плоское', 'посёлок Победа', 'посёлок Поляны',\n",
       "       'посёлок Понтонный', 'посёлок Почап', 'посёлок Починок',\n",
       "       'посёлок Приветнинское', 'посёлок Пригородный',\n",
       "       'посёлок Приладожский', 'посёлок Пудость', 'посёлок Путилово',\n",
       "       'посёлок Пушное', 'посёлок Пчевжа', 'посёлок Рабитицы',\n",
       "       'посёлок Рахья', 'посёлок Репино', 'посёлок Рождествено',\n",
       "       'посёлок Романовка', 'посёлок Ромашки', 'посёлок Ропша',\n",
       "       'посёлок Рощино', 'посёлок Рябово', 'посёлок Сапёрное',\n",
       "       'посёлок Сапёрный', 'посёлок Свирь', 'посёлок Свирьстрой',\n",
       "       'посёлок Севастьяново', 'посёлок Селезнёво', 'посёлок Сельцо',\n",
       "       'посёлок Семиозерье', 'посёлок Семрино', 'посёлок Серебрянский',\n",
       "       'посёлок Сиверский', 'посёлок Синявино', 'посёлок Советский',\n",
       "       'посёлок Совхозный', 'посёлок Сосново', 'посёлок Старая Ладога',\n",
       "       'посёлок Старая Малукса', 'посёлок Стеклянный', 'посёлок Стрельна',\n",
       "       'посёлок Суйда', 'посёлок Сумино', 'посёлок Суходолье',\n",
       "       'посёлок Счастье', 'посёлок Тайцы', 'посёлок Тельмана',\n",
       "       'посёлок Терволово', 'посёлок Токсово', 'посёлок Торковичи',\n",
       "       'посёлок Торфяное', 'посёлок Тёсово-4', 'посёлок Углово',\n",
       "       'посёлок Ульяновка', 'посёлок Усть-Ижора', 'посёлок Ушаки',\n",
       "       'посёлок Форносово', 'посёлок Форт Красная Горка',\n",
       "       'посёлок Фёдоровское', 'посёлок Цвелодубово', 'посёлок Цвылёво',\n",
       "       'посёлок Шугозеро', 'посёлок Шум', 'посёлок Шушары',\n",
       "       'посёлок Щеглово', 'посёлок Янино-1', 'посёлок имени Морозова',\n",
       "       'посёлок имени Свердлова', 'снт Лесная Поляна', 'снт Новая Ропша',\n",
       "       'снт Приладожский', 'снт Рахья', 'снт Садко'], dtype=object)"
      ]
     },
     "execution_count": 17,
     "metadata": {},
     "output_type": "execute_result"
    }
   ],
   "source": [
    "data['locality_name'].sort_values().unique()"
   ]
  },
  {
   "cell_type": "markdown",
   "metadata": {},
   "source": [
    "В списке была большая вариативность указаний населнного пункта. Был создан словарь по которому приставки унифицируются, пустые записи называются 'unknown'. Для более качествнного хранения информации стоит использовать строгий формат записи."
   ]
  },
  {
   "cell_type": "code",
   "execution_count": 18,
   "metadata": {},
   "outputs": [
    {
     "data": {
      "text/plain": [
       "310"
      ]
     },
     "execution_count": 18,
     "metadata": {},
     "output_type": "execute_result"
    }
   ],
   "source": [
    "#Не забываем проверять себя\n",
    "#Код ревьюера\n",
    "len(data.locality_name.unique())"
   ]
  },
  {
   "cell_type": "markdown",
   "metadata": {},
   "source": [
    "\n",
    "### [Заполнение NaN и обработка аномальных значений площадей.](#Head)<a name=\"23\"></a> "
   ]
  },
  {
   "cell_type": "code",
   "execution_count": 19,
   "metadata": {},
   "outputs": [
    {
     "name": "stdout",
     "output_type": "stream",
     "text": [
      "Ошибки исходных данных(площадь < кухня + жилая): 64 \n",
      "Количество строк с пустой площадью кухни или жилой: 2715\n"
     ]
    }
   ],
   "source": [
    "\n",
    "print('Ошибки исходных данных(площадь < кухня + жилая):', len(data.query('total_area < (kitchen_area + living_area)')),\\\n",
    "        '\\nКоличество строк с пустой площадью кухни или жилой:', len(data[(data['living_area'].isna()) | (data['kitchen_area'].isna())]))"
   ]
  },
  {
   "cell_type": "code",
   "execution_count": 20,
   "metadata": {},
   "outputs": [],
   "source": [
    "\n",
    "def fill_area(row):\n",
    "    if math.isnan(row['living_area']):\n",
    "        row['living_area'] = find_neighbor(row['total_area'], 'living_area')\n",
    "    if math.isnan(row['kitchen_area']):\n",
    "        row['kitchen_area'] = find_neighbor(row['total_area'], 'kitchen_area')\n",
    "    return row\n",
    "#алгоритм нахождения ближайших записей по значению\n",
    "def find_neighbor(value, target_column):\n",
    "    stack = []\n",
    "    expander = 0.1\n",
    "    while len(stack)<20:\n",
    "        stack = data[(data['total_area'] < value + expander)][target_column] #Расширяю поиск только на меньшие площади, что бы не породить ошибки\n",
    "        expander += 0.2\n",
    "    return stack.median() #Код говно, пока можно заварить чаю"
   ]
  },
  {
   "cell_type": "code",
   "execution_count": 21,
   "metadata": {},
   "outputs": [],
   "source": [
    "data = data.apply(fill_area, axis = 1)"
   ]
  },
  {
   "cell_type": "code",
   "execution_count": 22,
   "metadata": {},
   "outputs": [
    {
     "name": "stdout",
     "output_type": "stream",
     "text": [
      "Ошибки исходных данных(площадь < кухня + жилая): 111 \n",
      "Количество строк с пустой площадью кухни или жилой: 0 \n",
      "Small kitchen: 1.3 \n",
      "Small living: 2.0 \n",
      "Small area: 12.0\n"
     ]
    }
   ],
   "source": [
    "print('Ошибки исходных данных(площадь < кухня + жилая):', len(data.query('total_area < (kitchen_area + living_area)')),\\\n",
    "        '\\nКоличество строк с пустой площадью кухни или жилой:', len(data[(data['living_area'].isna()) | (data['kitchen_area'].isna())]),\\\n",
    "        '\\nSmall kitchen:', data['kitchen_area'].min(), '\\nSmall living:', data['living_area'].min(), '\\nSmall area:', data['total_area'].min())"
   ]
  },
  {
   "cell_type": "code",
   "execution_count": 23,
   "metadata": {},
   "outputs": [
    {
     "name": "stdout",
     "output_type": "stream",
     "text": [
      "количество ошибок: 0\n"
     ]
    }
   ],
   "source": [
    "error = data.loc[(data['total_area']) < (data['kitchen_area'] + data['living_area'])][['total_area', 'kitchen_area', 'living_area']]\n",
    "error['error_delta'] = error['kitchen_area'] + error['living_area'] - error['total_area']\n",
    "\n",
    "#Ниже расчет доли площади, которая не является жилой и кухней.\n",
    "no_life_area_koef = (abs((data['kitchen_area'] + data['living_area'] - data['total_area'])) / data['total_area']).median()\n",
    "#1/4 площади в квартирах не относится к жилой или кухне. ее доля должна быть в значениях с ошибкой\n",
    "no_life_area_koef = 2 - 2 * no_life_area_koef \n",
    "# значение для того что бы отнять пропорционально площади от жилой площади и кухни. Магия да и только!\n",
    "\n",
    "error['kitchen_area'] = error['kitchen_area'] - (error['error_delta'] / no_life_area_koef)\n",
    "error['living_area'] = error['living_area'] - (error['error_delta'] / no_life_area_koef)\n",
    "\n",
    "data.update(error)\n",
    "print('количество ошибок:', len(data.query('total_area < (kitchen_area + living_area)')))"
   ]
  },
  {
   "cell_type": "markdown",
   "metadata": {},
   "source": [
    "Пропущенные значения вызваны пропусками при заполнении карточки объявления. Ошибки по площадям были допущены при заполнении данных. Вобщем человеческий фактор.\n",
    "\n"
   ]
  },
  {
   "cell_type": "markdown",
   "metadata": {},
   "source": [
    "### [Выгрузка прервалась](#Head)<a name=\"24\"></a> \n",
    "ponds_around3000, airports_nearest, cityCenters_nearest, parks_around3000 имеют схожее количество пропусков. Возможно в этом есть какая-то связь"
   ]
  },
  {
   "cell_type": "code",
   "execution_count": 24,
   "metadata": {},
   "outputs": [
    {
     "data": {
      "text/plain": [
       "total_images               0\n",
       "last_price                 0\n",
       "total_area                 0\n",
       "first_day_exposition       0\n",
       "rooms                      0\n",
       "ceiling_height             0\n",
       "floors_total               0\n",
       "living_area                0\n",
       "floor                      0\n",
       "is_apartment               0\n",
       "studio                     0\n",
       "open_plan                  0\n",
       "kitchen_area               0\n",
       "balcony                    0\n",
       "locality_name              0\n",
       "airports_nearest        5516\n",
       "cityCenters_nearest     5516\n",
       "parks_around3000        5516\n",
       "parks_nearest           5516\n",
       "ponds_around3000        5516\n",
       "ponds_nearest           5516\n",
       "days_exposition          865\n",
       "dtype: int64"
      ]
     },
     "execution_count": 24,
     "metadata": {},
     "output_type": "execute_result"
    }
   ],
   "source": [
    "data.query('airports_nearest.isna() and cityCenters_nearest.isna() and ponds_around3000.isna() and parks_around3000.isna()').isna().sum()"
   ]
  },
  {
   "cell_type": "markdown",
   "metadata": {},
   "source": [
    "airports_nearest, cityCenters_nearest, parks_around3000, parks_nearest, ponds_around3000, ponds_nearest имеют пустые значения.\n",
    "Похоже проблема вызвана ошибкой при выгрузке данных. Это важное замечание. Возможно эта часть датасета не сможет учавствовать в некоторых исследованиях. "
   ]
  },
  {
   "cell_type": "code",
   "execution_count": 25,
   "metadata": {},
   "outputs": [
    {
     "data": {
      "image/png": "[encoded data removed]",
      "text/plain": [
       "<Figure size 432x288 with 1 Axes>"
      ]
     },
     "metadata": {
      "needs_background": "light"
     },
     "output_type": "display_data"
    }
   ],
   "source": [
    "data[data['days_exposition'].isna()]['first_day_exposition'].value_counts().hist(bins=10, range=(1,11));\n",
    "#Похоже пустые данные в days_exposition означают что объявление было еще активно на момент выгрузки. Нет даты закрытия - NaN. Заменим на -1"
   ]
  },
  {
   "cell_type": "code",
   "execution_count": 26,
   "metadata": {},
   "outputs": [],
   "source": [
    "data['days_exposition'] = data['days_exposition'].fillna(-1)"
   ]
  },
  {
   "cell_type": "code",
   "execution_count": 27,
   "metadata": {},
   "outputs": [
    {
     "data": {
      "text/plain": [
       "total_images                0\n",
       "last_price                  0\n",
       "total_area                  0\n",
       "first_day_exposition        0\n",
       "rooms                       0\n",
       "ceiling_height              0\n",
       "floors_total                0\n",
       "living_area                 0\n",
       "floor                       0\n",
       "is_apartment                0\n",
       "studio                      0\n",
       "open_plan                   0\n",
       "kitchen_area                0\n",
       "balcony                     0\n",
       "locality_name               0\n",
       "airports_nearest         5540\n",
       "cityCenters_nearest      5517\n",
       "parks_around3000         5516\n",
       "parks_nearest           15615\n",
       "ponds_around3000         5516\n",
       "ponds_nearest           14584\n",
       "days_exposition             0\n",
       "dtype: int64"
      ]
     },
     "execution_count": 27,
     "metadata": {},
     "output_type": "execute_result"
    }
   ],
   "source": [
    "data.isna().sum()"
   ]
  },
  {
   "cell_type": "code",
   "execution_count": 28,
   "metadata": {},
   "outputs": [
    {
     "name": "stdout",
     "output_type": "stream",
     "text": [
      "<class 'pandas.core.frame.DataFrame'>\n",
      "Int64Index: 23690 entries, 0 to 23698\n",
      "Data columns (total 22 columns):\n",
      " #   Column                Non-Null Count  Dtype  \n",
      "---  ------                --------------  -----  \n",
      " 0   total_images          23690 non-null  int64  \n",
      " 1   last_price            23690 non-null  float64\n",
      " 2   total_area            23690 non-null  float64\n",
      " 3   first_day_exposition  23690 non-null  object \n",
      " 4   rooms                 23690 non-null  int64  \n",
      " 5   ceiling_height        23690 non-null  float64\n",
      " 6   floors_total          23690 non-null  float64\n",
      " 7   living_area           23690 non-null  float64\n",
      " 8   floor                 23690 non-null  int64  \n",
      " 9   is_apartment          23690 non-null  bool   \n",
      " 10  studio                23690 non-null  bool   \n",
      " 11  open_plan             23690 non-null  bool   \n",
      " 12  kitchen_area          23690 non-null  float64\n",
      " 13  balcony               23690 non-null  float64\n",
      " 14  locality_name         23690 non-null  object \n",
      " 15  airports_nearest      18150 non-null  float64\n",
      " 16  cityCenters_nearest   18173 non-null  float64\n",
      " 17  parks_around3000      18174 non-null  float64\n",
      " 18  parks_nearest         8075 non-null   float64\n",
      " 19  ponds_around3000      18174 non-null  float64\n",
      " 20  ponds_nearest         9106 non-null   float64\n",
      " 21  days_exposition       23690 non-null  float64\n",
      "dtypes: bool(3), float64(14), int64(3), object(2)\n",
      "memory usage: 3.7+ MB\n"
     ]
    }
   ],
   "source": [
    "data.info()"
   ]
  },
  {
   "cell_type": "markdown",
   "metadata": {},
   "source": [
    "### [Типы данных](#Head)<a name=\"25\"></a> \n",
    "\n",
    "Для дальйшей работой с датасетом нужно преобразовать следующие столбцы:\n",
    "* first_day_exposition - содерижт дату, надо привести в datetime для более удобного взаимодействия\n",
    "* floors_total - к int 2,5 этажа в доме не видал.\n",
    "* balcony - к int \n",
    "* days_exposition - к int - все что имеет целочисленный вид лучше подтянуть под int"
   ]
  },
  {
   "cell_type": "code",
   "execution_count": 29,
   "metadata": {},
   "outputs": [
    {
     "data": {
      "text/html": [
       "<div>\n",
       "<style scoped>\n",
       "    .dataframe tbody tr th:only-of-type {\n",
       "        vertical-align: middle;\n",
       "    }\n",
       "\n",
       "    .dataframe tbody tr th {\n",
       "        vertical-align: top;\n",
       "    }\n",
       "\n",
       "    .dataframe thead th {\n",
       "        text-align: right;\n",
       "    }\n",
       "</style>\n",
       "<table border=\"1\" class=\"dataframe\">\n",
       "  <thead>\n",
       "    <tr style=\"text-align: right;\">\n",
       "      <th></th>\n",
       "      <th>total_images</th>\n",
       "      <th>last_price</th>\n",
       "      <th>total_area</th>\n",
       "      <th>first_day_exposition</th>\n",
       "      <th>rooms</th>\n",
       "      <th>ceiling_height</th>\n",
       "      <th>floors_total</th>\n",
       "      <th>living_area</th>\n",
       "      <th>floor</th>\n",
       "      <th>is_apartment</th>\n",
       "      <th>...</th>\n",
       "      <th>kitchen_area</th>\n",
       "      <th>balcony</th>\n",
       "      <th>locality_name</th>\n",
       "      <th>airports_nearest</th>\n",
       "      <th>cityCenters_nearest</th>\n",
       "      <th>parks_around3000</th>\n",
       "      <th>parks_nearest</th>\n",
       "      <th>ponds_around3000</th>\n",
       "      <th>ponds_nearest</th>\n",
       "      <th>days_exposition</th>\n",
       "    </tr>\n",
       "  </thead>\n",
       "  <tbody>\n",
       "    <tr>\n",
       "      <th>0</th>\n",
       "      <td>20</td>\n",
       "      <td>13000000.0</td>\n",
       "      <td>108.0</td>\n",
       "      <td>2019-03-07</td>\n",
       "      <td>3</td>\n",
       "      <td>2.70</td>\n",
       "      <td>16</td>\n",
       "      <td>51.0</td>\n",
       "      <td>8</td>\n",
       "      <td>False</td>\n",
       "      <td>...</td>\n",
       "      <td>25.0</td>\n",
       "      <td>0</td>\n",
       "      <td>Санкт-Петербург</td>\n",
       "      <td>18863.0</td>\n",
       "      <td>16028.0</td>\n",
       "      <td>1.0</td>\n",
       "      <td>482.0</td>\n",
       "      <td>2.0</td>\n",
       "      <td>755.0</td>\n",
       "      <td>-1</td>\n",
       "    </tr>\n",
       "    <tr>\n",
       "      <th>1</th>\n",
       "      <td>7</td>\n",
       "      <td>3350000.0</td>\n",
       "      <td>40.4</td>\n",
       "      <td>2018-12-04</td>\n",
       "      <td>1</td>\n",
       "      <td>2.65</td>\n",
       "      <td>11</td>\n",
       "      <td>18.6</td>\n",
       "      <td>1</td>\n",
       "      <td>False</td>\n",
       "      <td>...</td>\n",
       "      <td>11.0</td>\n",
       "      <td>2</td>\n",
       "      <td>посёлок Шушары</td>\n",
       "      <td>12817.0</td>\n",
       "      <td>18603.0</td>\n",
       "      <td>0.0</td>\n",
       "      <td>NaN</td>\n",
       "      <td>0.0</td>\n",
       "      <td>NaN</td>\n",
       "      <td>81</td>\n",
       "    </tr>\n",
       "    <tr>\n",
       "      <th>2</th>\n",
       "      <td>10</td>\n",
       "      <td>5196000.0</td>\n",
       "      <td>56.0</td>\n",
       "      <td>2015-08-20</td>\n",
       "      <td>2</td>\n",
       "      <td>2.65</td>\n",
       "      <td>5</td>\n",
       "      <td>34.3</td>\n",
       "      <td>4</td>\n",
       "      <td>False</td>\n",
       "      <td>...</td>\n",
       "      <td>8.3</td>\n",
       "      <td>0</td>\n",
       "      <td>Санкт-Петербург</td>\n",
       "      <td>21741.0</td>\n",
       "      <td>13933.0</td>\n",
       "      <td>1.0</td>\n",
       "      <td>90.0</td>\n",
       "      <td>2.0</td>\n",
       "      <td>574.0</td>\n",
       "      <td>558</td>\n",
       "    </tr>\n",
       "    <tr>\n",
       "      <th>3</th>\n",
       "      <td>0</td>\n",
       "      <td>64900000.0</td>\n",
       "      <td>159.0</td>\n",
       "      <td>2015-07-24</td>\n",
       "      <td>3</td>\n",
       "      <td>2.65</td>\n",
       "      <td>14</td>\n",
       "      <td>30.0</td>\n",
       "      <td>9</td>\n",
       "      <td>False</td>\n",
       "      <td>...</td>\n",
       "      <td>9.0</td>\n",
       "      <td>0</td>\n",
       "      <td>Санкт-Петербург</td>\n",
       "      <td>28098.0</td>\n",
       "      <td>6800.0</td>\n",
       "      <td>2.0</td>\n",
       "      <td>84.0</td>\n",
       "      <td>3.0</td>\n",
       "      <td>234.0</td>\n",
       "      <td>424</td>\n",
       "    </tr>\n",
       "    <tr>\n",
       "      <th>4</th>\n",
       "      <td>2</td>\n",
       "      <td>10000000.0</td>\n",
       "      <td>100.0</td>\n",
       "      <td>2018-06-19</td>\n",
       "      <td>2</td>\n",
       "      <td>3.03</td>\n",
       "      <td>14</td>\n",
       "      <td>32.0</td>\n",
       "      <td>13</td>\n",
       "      <td>False</td>\n",
       "      <td>...</td>\n",
       "      <td>41.0</td>\n",
       "      <td>0</td>\n",
       "      <td>Санкт-Петербург</td>\n",
       "      <td>31856.0</td>\n",
       "      <td>8098.0</td>\n",
       "      <td>2.0</td>\n",
       "      <td>112.0</td>\n",
       "      <td>1.0</td>\n",
       "      <td>48.0</td>\n",
       "      <td>121</td>\n",
       "    </tr>\n",
       "  </tbody>\n",
       "</table>\n",
       "<p>5 rows × 22 columns</p>\n",
       "</div>"
      ],
      "text/plain": [
       "   total_images  last_price  total_area first_day_exposition  rooms  \\\n",
       "0            20  13000000.0       108.0           2019-03-07      3   \n",
       "1             7   3350000.0        40.4           2018-12-04      1   \n",
       "2            10   5196000.0        56.0           2015-08-20      2   \n",
       "3             0  64900000.0       159.0           2015-07-24      3   \n",
       "4             2  10000000.0       100.0           2018-06-19      2   \n",
       "\n",
       "   ceiling_height  floors_total  living_area  floor  is_apartment  ...  \\\n",
       "0            2.70            16         51.0      8         False  ...   \n",
       "1            2.65            11         18.6      1         False  ...   \n",
       "2            2.65             5         34.3      4         False  ...   \n",
       "3            2.65            14         30.0      9         False  ...   \n",
       "4            3.03            14         32.0     13         False  ...   \n",
       "\n",
       "   kitchen_area  balcony    locality_name  airports_nearest  \\\n",
       "0          25.0        0  Санкт-Петербург           18863.0   \n",
       "1          11.0        2   посёлок Шушары           12817.0   \n",
       "2           8.3        0  Санкт-Петербург           21741.0   \n",
       "3           9.0        0  Санкт-Петербург           28098.0   \n",
       "4          41.0        0  Санкт-Петербург           31856.0   \n",
       "\n",
       "  cityCenters_nearest  parks_around3000  parks_nearest  ponds_around3000  \\\n",
       "0             16028.0               1.0          482.0               2.0   \n",
       "1             18603.0               0.0            NaN               0.0   \n",
       "2             13933.0               1.0           90.0               2.0   \n",
       "3              6800.0               2.0           84.0               3.0   \n",
       "4              8098.0               2.0          112.0               1.0   \n",
       "\n",
       "   ponds_nearest  days_exposition  \n",
       "0          755.0               -1  \n",
       "1            NaN               81  \n",
       "2          574.0              558  \n",
       "3          234.0              424  \n",
       "4           48.0              121  \n",
       "\n",
       "[5 rows x 22 columns]"
      ]
     },
     "execution_count": 29,
     "metadata": {},
     "output_type": "execute_result"
    }
   ],
   "source": [
    "try:\n",
    "    data['floors_total'] = data['floors_total'].astype('int')\n",
    "    data['balcony'] = data['balcony'].astype('int')\n",
    "    data['days_exposition'] = data['days_exposition'].astype('int')\n",
    "    data['first_day_exposition'] = pd.to_datetime( \n",
    "        data['first_day_exposition'], format = '%Y-%m-%dT%H:%M:%S' #2015-08-20T00:00:00\n",
    "    )\n",
    "except:\n",
    "    print('Ошибка преобразования')\n",
    "data.head(5)"
   ]
  },
  {
   "cell_type": "code",
   "execution_count": 30,
   "metadata": {},
   "outputs": [
    {
     "data": {
      "text/plain": [
       "0"
      ]
     },
     "execution_count": 30,
     "metadata": {},
     "output_type": "execute_result"
    }
   ],
   "source": [
    "data.duplicated().sum() #Поиск явных дубликатов"
   ]
  },
  {
   "cell_type": "markdown",
   "metadata": {},
   "source": [
    "### [Итоги предобработки данных:](#Head)<a name=\"26\"></a> \n",
    "* Пропуски *ceiling_height, is_apartment, balcony, floors_total, studio* имели случайный характер, форма карточки объявления не требует наличие этих данных, люди указывали на свое усмотрение.  \n",
    "* *is_apartment, balcony* - False по умолчанию\n",
    "* *studio* - Дополнен значениями True для 0 комнат\n",
    "* *ceiling_height* получил медиану всех значений. Аномалии были вызваны направильно внесенными данными. Было бы хорошо передать программистам добавить проверку высоты потолков в поле карточки.\n",
    "* floors_total получил медианное значение по этажности домов этажа, который указан в объявлении.\n",
    "* *kitchen_area, living_area* пустые ячейки получили медианные значения по выборке минимум из 20 значений набора, состоящего из ближайших по общей площади объявлений. Аномалией в данных являлся набор площадей, который в сумме превышал общую площадь квартиры. Ошибки были исправлены путем пропорционального уменьшения площадей до ~75% от общей площади. Данные так-же не обязательны к заполнению, и, возможно, стоило бы добавить проверку на верность вводимых данных.\n",
    "* *days_exposition* был NaN на активных объявлениях, это технический пропуск. -1 стал для не закрытого объявления. Кажется так будет легче исключить данные, и будет видно если они случайно попадут в зависимую от этого столбца выборку.\n",
    "* ~5500 строк не получили значений об окружении в датасете. Возможно это ошибка при выгрузке. Остальная чаcть значений не заполнена. Возможно по этим адресам неизвестна геолокация, или искомые парки или водоемы далеко. Для маленьких населенных пунктов эта информация тоже могла быть недоступна т.к не размечена карта.\n",
    "* *locality_name* имел пропуски, деревня неизвестных адресов стала 'unknown'. Пропуска могут быть обусловлены отсутствием адреса в объявлении."
   ]
  },
  {
   "cell_type": "markdown",
   "metadata": {},
   "source": [
    "## [Шаг 3. Добавление в таблицу новых столбцов со следующими параметрами:](#Head)<a name=\"3\"></a> \n",
    "\n",
    "цена одного квадратного метра;\n",
    "день недели публикации объявления (0 — понедельник, 1 — вторник и так далее);\n",
    "месяц публикации объявления;\n",
    "год публикации объявления;\n",
    "тип этажа квартиры (значения — «первый», «последний», «другой»);\n",
    "расстояние до центра города в километрах (переведите из м в км и округлите до целых значений)."
   ]
  },
  {
   "cell_type": "code",
   "execution_count": 31,
   "metadata": {},
   "outputs": [],
   "source": [
    "data['price_per_square'] = data['last_price'] / data['total_area']\n",
    "data['day_first_day_exposition'] = pd.DatetimeIndex(data['first_day_exposition']).weekday\n",
    "data['month_first_day_exposition'] = pd.DatetimeIndex(data['first_day_exposition']).month\n",
    "data['year_first_day_exposition'] = pd.DatetimeIndex(data['first_day_exposition']).year"
   ]
  },
  {
   "cell_type": "code",
   "execution_count": 32,
   "metadata": {},
   "outputs": [],
   "source": [
    "def floor_classifier(row):\n",
    "    if row['floors_total'] == row['floor']:\n",
    "        return 'последний'\n",
    "    elif row['floor'] == 1:\n",
    "        return 'первый'\n",
    "    else:\n",
    "        return 'другой'"
   ]
  },
  {
   "cell_type": "code",
   "execution_count": 33,
   "metadata": {},
   "outputs": [],
   "source": [
    "data['floor_type'] = data.apply(floor_classifier, axis=1)\n",
    "data['cityCenters_km_nearest'] = round(data['cityCenters_nearest']/1000)"
   ]
  },
  {
   "cell_type": "code",
   "execution_count": 34,
   "metadata": {},
   "outputs": [
    {
     "data": {
      "text/html": [
       "<div>\n",
       "<style scoped>\n",
       "    .dataframe tbody tr th:only-of-type {\n",
       "        vertical-align: middle;\n",
       "    }\n",
       "\n",
       "    .dataframe tbody tr th {\n",
       "        vertical-align: top;\n",
       "    }\n",
       "\n",
       "    .dataframe thead th {\n",
       "        text-align: right;\n",
       "    }\n",
       "</style>\n",
       "<table border=\"1\" class=\"dataframe\">\n",
       "  <thead>\n",
       "    <tr style=\"text-align: right;\">\n",
       "      <th></th>\n",
       "      <th>total_images</th>\n",
       "      <th>last_price</th>\n",
       "      <th>total_area</th>\n",
       "      <th>first_day_exposition</th>\n",
       "      <th>rooms</th>\n",
       "      <th>ceiling_height</th>\n",
       "      <th>floors_total</th>\n",
       "      <th>living_area</th>\n",
       "      <th>floor</th>\n",
       "      <th>is_apartment</th>\n",
       "      <th>...</th>\n",
       "      <th>parks_nearest</th>\n",
       "      <th>ponds_around3000</th>\n",
       "      <th>ponds_nearest</th>\n",
       "      <th>days_exposition</th>\n",
       "      <th>price_per_square</th>\n",
       "      <th>day_first_day_exposition</th>\n",
       "      <th>month_first_day_exposition</th>\n",
       "      <th>year_first_day_exposition</th>\n",
       "      <th>floor_type</th>\n",
       "      <th>cityCenters_km_nearest</th>\n",
       "    </tr>\n",
       "  </thead>\n",
       "  <tbody>\n",
       "    <tr>\n",
       "      <th>0</th>\n",
       "      <td>20</td>\n",
       "      <td>13000000.0</td>\n",
       "      <td>108.0</td>\n",
       "      <td>2019-03-07</td>\n",
       "      <td>3</td>\n",
       "      <td>2.70</td>\n",
       "      <td>16</td>\n",
       "      <td>51.0</td>\n",
       "      <td>8</td>\n",
       "      <td>False</td>\n",
       "      <td>...</td>\n",
       "      <td>482.0</td>\n",
       "      <td>2.0</td>\n",
       "      <td>755.0</td>\n",
       "      <td>-1</td>\n",
       "      <td>120370.370370</td>\n",
       "      <td>3</td>\n",
       "      <td>3</td>\n",
       "      <td>2019</td>\n",
       "      <td>другой</td>\n",
       "      <td>16.0</td>\n",
       "    </tr>\n",
       "    <tr>\n",
       "      <th>1</th>\n",
       "      <td>7</td>\n",
       "      <td>3350000.0</td>\n",
       "      <td>40.4</td>\n",
       "      <td>2018-12-04</td>\n",
       "      <td>1</td>\n",
       "      <td>2.65</td>\n",
       "      <td>11</td>\n",
       "      <td>18.6</td>\n",
       "      <td>1</td>\n",
       "      <td>False</td>\n",
       "      <td>...</td>\n",
       "      <td>NaN</td>\n",
       "      <td>0.0</td>\n",
       "      <td>NaN</td>\n",
       "      <td>81</td>\n",
       "      <td>82920.792079</td>\n",
       "      <td>1</td>\n",
       "      <td>12</td>\n",
       "      <td>2018</td>\n",
       "      <td>первый</td>\n",
       "      <td>19.0</td>\n",
       "    </tr>\n",
       "    <tr>\n",
       "      <th>2</th>\n",
       "      <td>10</td>\n",
       "      <td>5196000.0</td>\n",
       "      <td>56.0</td>\n",
       "      <td>2015-08-20</td>\n",
       "      <td>2</td>\n",
       "      <td>2.65</td>\n",
       "      <td>5</td>\n",
       "      <td>34.3</td>\n",
       "      <td>4</td>\n",
       "      <td>False</td>\n",
       "      <td>...</td>\n",
       "      <td>90.0</td>\n",
       "      <td>2.0</td>\n",
       "      <td>574.0</td>\n",
       "      <td>558</td>\n",
       "      <td>92785.714286</td>\n",
       "      <td>3</td>\n",
       "      <td>8</td>\n",
       "      <td>2015</td>\n",
       "      <td>другой</td>\n",
       "      <td>14.0</td>\n",
       "    </tr>\n",
       "    <tr>\n",
       "      <th>3</th>\n",
       "      <td>0</td>\n",
       "      <td>64900000.0</td>\n",
       "      <td>159.0</td>\n",
       "      <td>2015-07-24</td>\n",
       "      <td>3</td>\n",
       "      <td>2.65</td>\n",
       "      <td>14</td>\n",
       "      <td>30.0</td>\n",
       "      <td>9</td>\n",
       "      <td>False</td>\n",
       "      <td>...</td>\n",
       "      <td>84.0</td>\n",
       "      <td>3.0</td>\n",
       "      <td>234.0</td>\n",
       "      <td>424</td>\n",
       "      <td>408176.100629</td>\n",
       "      <td>4</td>\n",
       "      <td>7</td>\n",
       "      <td>2015</td>\n",
       "      <td>другой</td>\n",
       "      <td>7.0</td>\n",
       "    </tr>\n",
       "    <tr>\n",
       "      <th>4</th>\n",
       "      <td>2</td>\n",
       "      <td>10000000.0</td>\n",
       "      <td>100.0</td>\n",
       "      <td>2018-06-19</td>\n",
       "      <td>2</td>\n",
       "      <td>3.03</td>\n",
       "      <td>14</td>\n",
       "      <td>32.0</td>\n",
       "      <td>13</td>\n",
       "      <td>False</td>\n",
       "      <td>...</td>\n",
       "      <td>112.0</td>\n",
       "      <td>1.0</td>\n",
       "      <td>48.0</td>\n",
       "      <td>121</td>\n",
       "      <td>100000.000000</td>\n",
       "      <td>1</td>\n",
       "      <td>6</td>\n",
       "      <td>2018</td>\n",
       "      <td>другой</td>\n",
       "      <td>8.0</td>\n",
       "    </tr>\n",
       "  </tbody>\n",
       "</table>\n",
       "<p>5 rows × 28 columns</p>\n",
       "</div>"
      ],
      "text/plain": [
       "   total_images  last_price  total_area first_day_exposition  rooms  \\\n",
       "0            20  13000000.0       108.0           2019-03-07      3   \n",
       "1             7   3350000.0        40.4           2018-12-04      1   \n",
       "2            10   5196000.0        56.0           2015-08-20      2   \n",
       "3             0  64900000.0       159.0           2015-07-24      3   \n",
       "4             2  10000000.0       100.0           2018-06-19      2   \n",
       "\n",
       "   ceiling_height  floors_total  living_area  floor  is_apartment  ...  \\\n",
       "0            2.70            16         51.0      8         False  ...   \n",
       "1            2.65            11         18.6      1         False  ...   \n",
       "2            2.65             5         34.3      4         False  ...   \n",
       "3            2.65            14         30.0      9         False  ...   \n",
       "4            3.03            14         32.0     13         False  ...   \n",
       "\n",
       "   parks_nearest  ponds_around3000  ponds_nearest  days_exposition  \\\n",
       "0          482.0               2.0          755.0               -1   \n",
       "1            NaN               0.0            NaN               81   \n",
       "2           90.0               2.0          574.0              558   \n",
       "3           84.0               3.0          234.0              424   \n",
       "4          112.0               1.0           48.0              121   \n",
       "\n",
       "  price_per_square  day_first_day_exposition  month_first_day_exposition  \\\n",
       "0    120370.370370                         3                           3   \n",
       "1     82920.792079                         1                          12   \n",
       "2     92785.714286                         3                           8   \n",
       "3    408176.100629                         4                           7   \n",
       "4    100000.000000                         1                           6   \n",
       "\n",
       "   year_first_day_exposition  floor_type  cityCenters_km_nearest  \n",
       "0                       2019      другой                    16.0  \n",
       "1                       2018      первый                    19.0  \n",
       "2                       2015      другой                    14.0  \n",
       "3                       2015      другой                     7.0  \n",
       "4                       2018      другой                     8.0  \n",
       "\n",
       "[5 rows x 28 columns]"
      ]
     },
     "execution_count": 34,
     "metadata": {},
     "output_type": "execute_result"
    }
   ],
   "source": [
    "data.head()"
   ]
  },
  {
   "cell_type": "markdown",
   "metadata": {},
   "source": [
    "## [Шаг 4. Исследовательский анализ данных:](#Head)<a name=\"4\"></a> \n",
    "### 1. Расчет площадей\n",
    "#### Общая площадь:\n"
   ]
  },
  {
   "cell_type": "code",
   "execution_count": 35,
   "metadata": {},
   "outputs": [
    {
     "data": {
      "image/png": "[encoded data removed]",
      "text/plain": [
       "<Figure size 432x288 with 1 Axes>"
      ]
     },
     "metadata": {
      "needs_background": "light"
     },
     "output_type": "display_data"
    }
   ],
   "source": [
    "data['total_area'].hist(range = (0, 200), bins = 100);"
   ]
  },
  {
   "cell_type": "markdown",
   "metadata": {},
   "source": [
    "36 однушка, 45 двушка, 60 трешка, 75 на 4 комнаты. \n",
    "На графике видны пучки у типового жилья.\n",
    "#### [Жилая площадь:](#Head)<a name=\"412\"></a> "
   ]
  },
  {
   "cell_type": "code",
   "execution_count": 36,
   "metadata": {},
   "outputs": [
    {
     "data": {
      "image/png": "[encoded data removed]",
      "text/plain": [
       "<Figure size 432x288 with 1 Axes>"
      ]
     },
     "metadata": {
      "needs_background": "light"
     },
     "output_type": "display_data"
    }
   ],
   "source": [
    "data['living_area'].hist(range = (0, 100), bins = 100, legend = None);"
   ]
  },
  {
   "cell_type": "markdown",
   "metadata": {},
   "source": [
    "Тут тоже имеются пучки идущие за количеством комнат. 17 жилых квадратов хотят продать больше всего.\n",
    "#### [Площадь кухни:](#Head)<a name=\"413\"></a> "
   ]
  },
  {
   "cell_type": "code",
   "execution_count": 37,
   "metadata": {},
   "outputs": [
    {
     "data": {
      "image/png": "[encoded data removed]",
      "text/plain": [
       "<Figure size 432x288 with 1 Axes>"
      ]
     },
     "metadata": {
      "needs_background": "light"
     },
     "output_type": "display_data"
    }
   ],
   "source": [
    "data['kitchen_area'].hist(range = (0, 25), bins = 60, legend = None);"
   ]
  },
  {
   "cell_type": "markdown",
   "metadata": {},
   "source": [
    "Видны типовые решения по размерам кухонь.\n",
    "#### [Цена объекта:](#Head)<a name=\"414\"></a> "
   ]
  },
  {
   "cell_type": "code",
   "execution_count": 38,
   "metadata": {},
   "outputs": [
    {
     "data": {
      "image/png": "[encoded data removed]",
      "text/plain": [
       "<Figure size 432x288 with 1 Axes>"
      ]
     },
     "metadata": {
      "needs_background": "light"
     },
     "output_type": "display_data"
    }
   ],
   "source": [
    "data['last_price'].hist(range = (0, 30000000), bins = 150);"
   ]
  },
  {
   "cell_type": "markdown",
   "metadata": {},
   "source": [
    "График распределения цены. Типовая недвижимость в Ленинградской области ~4млн. \n",
    "Видно как продавцы любят округлять ценники\n",
    "#### [Количество комнат:](#Head)<a name=\"415\"></a> "
   ]
  },
  {
   "cell_type": "code",
   "execution_count": 39,
   "metadata": {},
   "outputs": [
    {
     "data": {
      "image/png": "[encoded data removed]",
      "text/plain": [
       "<Figure size 432x288 with 1 Axes>"
      ]
     },
     "metadata": {
      "needs_background": "light"
     },
     "output_type": "display_data"
    }
   ],
   "source": [
    "data['rooms'].hist(bins = 8, range = (1,8));"
   ]
  },
  {
   "cell_type": "markdown",
   "metadata": {},
   "source": [
    "Количство однушек и двушек в продаже равно! А уже 4 комнаты можно встретить сильно реже чем 3\n",
    "#### [Высота потолков:](#Head)<a name=\"416\"></a> "
   ]
  },
  {
   "cell_type": "code",
   "execution_count": 40,
   "metadata": {},
   "outputs": [
    {
     "data": {
      "image/png": "[encoded data removed]",
      "text/plain": [
       "<Figure size 432x288 with 1 Axes>"
      ]
     },
     "metadata": {
      "needs_background": "light"
     },
     "output_type": "display_data"
    }
   ],
   "source": [
    "data['ceiling_height'].hist(range=(2,4), bins = 60);"
   ]
  },
  {
   "cell_type": "markdown",
   "metadata": {},
   "source": [
    "Здесь получилось увидеть ~9к записей NaN по высоте потолка в позиции 2.65. Если их отбросить то видим стандарный 2.5, 2.6, 2.7, 2.8, 3 \n",
    "#### [Этаж квартиры:](#Head)<a name=\"417\"></a> "
   ]
  },
  {
   "cell_type": "code",
   "execution_count": 41,
   "metadata": {},
   "outputs": [
    {
     "data": {
      "image/png": "[encoded data removed]",
      "text/plain": [
       "<Figure size 432x288 with 1 Axes>"
      ]
     },
     "metadata": {
      "needs_background": "light"
     },
     "output_type": "display_data"
    }
   ],
   "source": [
    "data['floor'].hist(bins = 30, range = (1, 30));"
   ]
  },
  {
   "cell_type": "markdown",
   "metadata": {},
   "source": [
    "Половина объма объявлений ниже 6-го этажа. Хороший вид где-то на 25.\n",
    "#### [Тип этажа квартиры:](#Head)<a name=\"418\"></a> "
   ]
  },
  {
   "cell_type": "code",
   "execution_count": 42,
   "metadata": {},
   "outputs": [
    {
     "data": {
      "image/png": "[encoded data removed]",
      "text/plain": [
       "<Figure size 432x288 with 1 Axes>"
      ]
     },
     "metadata": {
      "needs_background": "light"
     },
     "output_type": "display_data"
    }
   ],
   "source": [
    "data['floor_type'].hist(bins = 3);"
   ]
  },
  {
   "cell_type": "markdown",
   "metadata": {},
   "source": [
    "Квартир последних этажей больше чем первых в продаже. Объем первых и последних 2/9 от прочих.\n",
    "#### [Общее количество этажей в доме:](#Head)<a name=\"419\"></a> "
   ]
  },
  {
   "cell_type": "code",
   "execution_count": 43,
   "metadata": {},
   "outputs": [
    {
     "data": {
      "image/png": "[encoded data removed]",
      "text/plain": [
       "<Figure size 432x288 with 1 Axes>"
      ]
     },
     "metadata": {
      "needs_background": "light"
     },
     "output_type": "display_data"
    }
   ],
   "source": [
    "data['floors_total'].hist(bins = 40, range = (1, 40));"
   ]
  },
  {
   "cell_type": "markdown",
   "metadata": {},
   "source": [
    "Сталинки, хрущевки. Все видно здесь. 5 и 9 этажные дома составляют почти половину рынка недвижимости.\n",
    "#### [Расстояние до центра города в метрах:](#Head)<a name=\"4110\"></a> "
   ]
  },
  {
   "cell_type": "code",
   "execution_count": 44,
   "metadata": {},
   "outputs": [
    {
     "data": {
      "image/png": "[encoded data removed]",
      "text/plain": [
       "<Figure size 432x288 with 1 Axes>"
      ]
     },
     "metadata": {
      "needs_background": "light"
     },
     "output_type": "display_data"
    }
   ],
   "source": [
    "data['cityCenters_nearest'].hist(bins = 30, range = (0, 60000));"
   ]
  },
  {
   "cell_type": "markdown",
   "metadata": {},
   "source": [
    "10км до центра. Это, оказывается, норма. Количество продаваемого жилья растет с удалением от центра, до границ города. Дальше видны только города-саттелиты.\n",
    "#### [Расстояние до ближайшего аэропорта:](#Head)<a name=\"4111\"></a> "
   ]
  },
  {
   "cell_type": "code",
   "execution_count": 45,
   "metadata": {},
   "outputs": [
    {
     "data": {
      "image/png": "[encoded data removed]",
      "text/plain": [
       "<Figure size 432x288 with 1 Axes>"
      ]
     },
     "metadata": {
      "needs_background": "light"
     },
     "output_type": "display_data"
    }
   ],
   "source": [
    "data['airports_nearest'].hist(bins = 30, range = (0, 60000));"
   ]
  },
  {
   "cell_type": "markdown",
   "metadata": {},
   "source": [
    "Ни одного дома в радиусе 5-км от аэропорта. По гистограмме видно, что аэропорт примерно в ~15 км удален от центра города по равномерной плотности 10-40км\n",
    "#### [Расстояние до ближайшего парка:](#Head)<a name=\"4112\"></a> "
   ]
  },
  {
   "cell_type": "code",
   "execution_count": 46,
   "metadata": {},
   "outputs": [
    {
     "data": {
      "image/png": "[encoded data removed]",
      "text/plain": [
       "<Figure size 432x288 with 1 Axes>"
      ]
     },
     "metadata": {
      "needs_background": "light"
     },
     "output_type": "display_data"
    }
   ],
   "source": [
    "data['parks_nearest'].hist(bins = 30, range = (0,2500));"
   ]
  },
  {
   "cell_type": "markdown",
   "metadata": {},
   "source": [
    "Парк у дома - это хорошо. Выходит, что парки обычно расположены в 1,5 км друг от друга\n",
    "\n",
    "#### [День и месяц публикации объявления:](#Head)<a name=\"4113\"></a> "
   ]
  },
  {
   "cell_type": "code",
   "execution_count": 47,
   "metadata": {},
   "outputs": [
    {
     "data": {
      "image/png": "[encoded data removed]",
      "text/plain": [
       "<Figure size 432x288 with 1 Axes>"
      ]
     },
     "metadata": {
      "needs_background": "light"
     },
     "output_type": "display_data"
    }
   ],
   "source": [
    "data['day_first_day_exposition'].hist(bins = 7);"
   ]
  },
  {
   "cell_type": "markdown",
   "metadata": {},
   "source": [
    "Понедельник - день тяжелый,\n",
    "среда - маленькая пятница,\n",
    "пятница - подготовка к выходным. \n",
    "Такой график у риелторов в том числе."
   ]
  },
  {
   "cell_type": "code",
   "execution_count": 48,
   "metadata": {},
   "outputs": [
    {
     "data": {
      "image/png": "[encoded data removed]",
      "text/plain": [
       "<Figure size 432x288 with 1 Axes>"
      ]
     },
     "metadata": {
      "needs_background": "light"
     },
     "output_type": "display_data"
    }
   ],
   "source": [
    "data['month_first_day_exposition'].hist(bins = 12);"
   ]
  },
  {
   "cell_type": "markdown",
   "metadata": {},
   "source": [
    "Летом и зимой активность ниже, весна - лучший период искать предложения."
   ]
  },
  {
   "cell_type": "markdown",
   "metadata": {},
   "source": [
    "### [2. Скорость продажи квартир](#Head)<a name=\"42\"></a> "
   ]
  },
  {
   "cell_type": "code",
   "execution_count": 49,
   "metadata": {},
   "outputs": [
    {
     "name": "stdout",
     "output_type": "stream",
     "text": [
      "Cреднее значение времени продажи: 156 \n",
      "Медианное время продажи: 74\n"
     ]
    },
    {
     "data": {
      "image/png": "[encoded data removed]",
      "text/plain": [
       "<Figure size 432x288 with 1 Axes>"
      ]
     },
     "metadata": {
      "needs_background": "light"
     },
     "output_type": "display_data"
    }
   ],
   "source": [
    "print('Cреднее значение времени продажи:', round(data['days_exposition'].mean()), '\\nМедианное время продажи:', round(data['days_exposition'].median()))\n",
    "data['days_exposition'].hist(bins = 60, range = (1,600));"
   ]
  },
  {
   "cell_type": "code",
   "execution_count": 50,
   "metadata": {},
   "outputs": [
    {
     "data": {
      "text/plain": [
       "-1     3181\n",
       " 45     880\n",
       " 60     538\n",
       " 7      234\n",
       " 30     208\n",
       " 90     204\n",
       " 4      176\n",
       " 3      158\n",
       " 5      152\n",
       " 14     147\n",
       "Name: days_exposition, dtype: int64"
      ]
     },
     "execution_count": 50,
     "metadata": {},
     "output_type": "execute_result"
    }
   ],
   "source": [
    "data['days_exposition'].value_counts().head(10)"
   ]
  },
  {
   "cell_type": "code",
   "execution_count": 51,
   "metadata": {},
   "outputs": [
    {
     "data": {
      "text/plain": [
       "count    20509.000000\n",
       "mean       180.879614\n",
       "std        219.745266\n",
       "min          1.000000\n",
       "25%         45.000000\n",
       "50%         95.000000\n",
       "75%        232.000000\n",
       "max       1580.000000\n",
       "Name: days_exposition, dtype: float64"
      ]
     },
     "execution_count": 51,
     "metadata": {},
     "output_type": "execute_result"
    }
   ],
   "source": [
    "data[data['days_exposition'] != -1]['days_exposition'].describe()"
   ]
  },
  {
   "cell_type": "markdown",
   "metadata": {},
   "source": [
    "\n",
    "Удивительно, распределение имеет аномальные данные. Высокие значения относятся к круглым датам. Возможно что объявления иногда висят активным до закрытия его платформой.\n",
    "Особо долгие (даже 5 лет!) объявление уводят среднее время до 180 дней. Хотя медиана в 2 раза меньше, всего 95 дней.\n",
    "Границу первого квартиля можно принять как быструю продажу: продать квартиру за полтора месяца значит быстро. \n",
    "8 месяцев на доске объявлений - это 3-й квартиль. Значения выше буду считаться как долгое время продажи."
   ]
  },
  {
   "cell_type": "markdown",
   "metadata": {},
   "source": [
    "### [3. Факторы влияющие на общую (полную) стоимость объекта](#Head)<a name=\"43\"></a> \n",
    "#### Общая площадь:"
   ]
  },
  {
   "cell_type": "code",
   "execution_count": 52,
   "metadata": {},
   "outputs": [
    {
     "name": "stdout",
     "output_type": "stream",
     "text": [
      "Коэффициент корелляции: 0.65\n"
     ]
    },
    {
     "data": {
      "image/png": "[encoded data removed]",
      "text/plain": [
       "<Figure size 432x288 with 1 Axes>"
      ]
     },
     "metadata": {
      "needs_background": "light"
     },
     "output_type": "display_data"
    }
   ],
   "source": [
    "print('Коэффициент корелляции:', round(data['last_price'].corr(data['total_area']), 2))\n",
    "data.plot(x = 'last_price', xlim = (0, 40000000), \n",
    "          y = 'total_area', ylim = (0, 400), \n",
    "          kind='scatter', alpha = 0.3,\n",
    "          legend=None);"
   ]
  },
  {
   "cell_type": "markdown",
   "metadata": {},
   "source": [
    "Зависимость цены от площади достаточно высока, и является определяющей в цене жилья.\n",
    "#### [Жилая площадь и площадь кухни:](#Head)<a name=\"432\"></a>"
   ]
  },
  {
   "cell_type": "code",
   "execution_count": 53,
   "metadata": {},
   "outputs": [
    {
     "name": "stdout",
     "output_type": "stream",
     "text": [
      "Коэффициент корелляции: 0.54\n"
     ]
    },
    {
     "data": {
      "image/png": "[encoded data removed]",
      "text/plain": [
       "<Figure size 432x288 with 1 Axes>"
      ]
     },
     "metadata": {
      "needs_background": "light"
     },
     "output_type": "display_data"
    }
   ],
   "source": [
    "print('Коэффициент корелляции:', round(data['last_price'].corr(data['living_area']), 2))\n",
    "data.plot(x = 'last_price', xlim = (0, 40000000), \n",
    "          y = 'living_area', ylim = (0, 200), \n",
    "          kind='scatter', alpha = 0.3);"
   ]
  },
  {
   "cell_type": "code",
   "execution_count": 54,
   "metadata": {},
   "outputs": [
    {
     "name": "stdout",
     "output_type": "stream",
     "text": [
      "Коэффициент корелляции: 0.44\n"
     ]
    },
    {
     "data": {
      "image/png": "[encoded data removed]",
      "text/plain": [
       "<Figure size 432x288 with 1 Axes>"
      ]
     },
     "metadata": {
      "needs_background": "light"
     },
     "output_type": "display_data"
    }
   ],
   "source": [
    "#Сводная таблица цена кухня площадь \n",
    "print('Коэффициент корелляции:', round(data['last_price'].corr(data['kitchen_area']), 2))\n",
    "data.plot(x = 'last_price', xlim = (0, 40000000), \n",
    "          y = 'kitchen_area', ylim = (0, 75), \n",
    "          kind='scatter', alpha = 0.3);\n",
    "#скаттер"
   ]
  },
  {
   "cell_type": "markdown",
   "metadata": {},
   "source": [
    "Зависимость цены от жилой площади и площади кухни меньше чем от общей. На графике просматривается линия на уровне 35м и 10м для кухни, которая никак не коррелирует. Похоже там сосредоточены другие определяющие факторы цены.\n",
    "#### [Количество комнат:](#Head)<a name=\"433\"></a>"
   ]
  },
  {
   "cell_type": "code",
   "execution_count": 55,
   "metadata": {},
   "outputs": [
    {
     "data": {
      "text/plain": [
       "1     8043\n",
       "2     7936\n",
       "3     5813\n",
       "4     1180\n",
       "5      326\n",
       "0      197\n",
       "6      105\n",
       "7       59\n",
       "8       12\n",
       "9        8\n",
       "10       3\n",
       "11       2\n",
       "14       2\n",
       "19       1\n",
       "16       1\n",
       "12       1\n",
       "15       1\n",
       "Name: rooms, dtype: int64"
      ]
     },
     "execution_count": 55,
     "metadata": {},
     "output_type": "execute_result"
    }
   ],
   "source": [
    "data['rooms'].value_counts()"
   ]
  },
  {
   "cell_type": "code",
   "execution_count": 56,
   "metadata": {},
   "outputs": [],
   "source": [
    "#На 7+ комнат выборка будет очень мала, что может сильно исказить данные. Для анализа возьмем первые 6, включая студии.\n",
    "room_relation = data[data['rooms'] < 6]\n",
    "room_relation = room_relation.pivot_table(index='rooms', values=['last_price', 'price_per_square'], aggfunc='median')\n",
    "room_relation['last_price'] = round(room_relation['last_price'] / 1000000, 2)\n",
    "room_relation['price_per_square'] = round(room_relation['price_per_square'] / 1000, 2)"
   ]
  },
  {
   "cell_type": "code",
   "execution_count": 57,
   "metadata": {},
   "outputs": [
    {
     "data": {
      "image/png": "[encoded data removed]",
      "text/plain": [
       "<Figure size 576x360 with 1 Axes>"
      ]
     },
     "metadata": {
      "needs_background": "light"
     },
     "output_type": "display_data"
    }
   ],
   "source": [
    "room_relation.plot.bar(y='price_per_square', figsize = (8,5), \n",
    "                    title = 'Зависимость между количеством комнат и стоимостью квадратного метра', rot = 0,\n",
    "                   xlabel = \"Количество комнат\",\n",
    "                   ylabel = \"Цена за кв.метр (тыс. руб)\",\n",
    "                   legend = None);"
   ]
  },
  {
   "cell_type": "code",
   "execution_count": 58,
   "metadata": {},
   "outputs": [
    {
     "data": {
      "image/png": "[encoded data removed]",
      "text/plain": [
       "<Figure size 576x360 with 1 Axes>"
      ]
     },
     "metadata": {
      "needs_background": "light"
     },
     "output_type": "display_data"
    }
   ],
   "source": [
    "room_relation.plot.bar(y='last_price', figsize = (8,5), \n",
    "                    title = 'Зависимость между количеством комнат и стоимостью квартиры', rot = 0,\n",
    "                   xlabel = \"Количество комнат\",\n",
    "                   ylabel = \"Цена (млн. руб)\",\n",
    "                   legend = None);"
   ]
  },
  {
   "cell_type": "markdown",
   "metadata": {},
   "source": [
    "Самыми доступными по цене будут студии, но в студии самая большая цена за квадрат. А цена за комнату растет по экспоненте.\n",
    "#### [Этаж, на котором расположена квартира (первый, последний, другой):](#Head)<a name=\"434\"></a>"
   ]
  },
  {
   "cell_type": "code",
   "execution_count": 59,
   "metadata": {},
   "outputs": [
    {
     "data": {
      "image/png": "[encoded data removed]",
      "text/plain": [
       "<Figure size 576x360 with 1 Axes>"
      ]
     },
     "metadata": {
      "needs_background": "light"
     },
     "output_type": "display_data"
    }
   ],
   "source": [
    "#Сводная таблица цена за этаж (группировка по этажу первый последний другой),\n",
    "floor_type_relation = data.pivot_table(index='floor_type', values=['last_price'], aggfunc='median')\n",
    "floor_type_relation['last_price'] = round(floor_type_relation['last_price'] / 1000000, 2)\n",
    "floor_type_relation.plot.bar(y='last_price', figsize = (8,5), \n",
    "                    title = 'Зависимость между типом этажа и стоимостью квартиры', rot = 0,\n",
    "                   xlabel = \"Тип этажа\",\n",
    "                   ylabel = \"Цена (млн. руб)\",\n",
    "                   legend = None);"
   ]
  },
  {
   "cell_type": "markdown",
   "metadata": {},
   "source": [
    "На первом проходняк, на последнем крыша течет и лифт гудит. А между будет подороже.\n",
    "#### [Дата размещения (день недели, месяц, год):](#Head)<a name=\"435\"></a>"
   ]
  },
  {
   "cell_type": "code",
   "execution_count": 60,
   "metadata": {},
   "outputs": [
    {
     "data": {
      "text/html": [
       "<div>\n",
       "<style scoped>\n",
       "    .dataframe tbody tr th:only-of-type {\n",
       "        vertical-align: middle;\n",
       "    }\n",
       "\n",
       "    .dataframe tbody tr th {\n",
       "        vertical-align: top;\n",
       "    }\n",
       "\n",
       "    .dataframe thead th {\n",
       "        text-align: right;\n",
       "    }\n",
       "</style>\n",
       "<table border=\"1\" class=\"dataframe\">\n",
       "  <thead>\n",
       "    <tr style=\"text-align: right;\">\n",
       "      <th></th>\n",
       "      <th>median</th>\n",
       "      <th>count</th>\n",
       "    </tr>\n",
       "    <tr>\n",
       "      <th>year_first_day_exposition</th>\n",
       "      <th></th>\n",
       "      <th></th>\n",
       "    </tr>\n",
       "  </thead>\n",
       "  <tbody>\n",
       "    <tr>\n",
       "      <th>2014</th>\n",
       "      <td>7.70</td>\n",
       "      <td>137</td>\n",
       "    </tr>\n",
       "    <tr>\n",
       "      <th>2015</th>\n",
       "      <td>5.35</td>\n",
       "      <td>1190</td>\n",
       "    </tr>\n",
       "    <tr>\n",
       "      <th>2016</th>\n",
       "      <td>4.55</td>\n",
       "      <td>2782</td>\n",
       "    </tr>\n",
       "    <tr>\n",
       "      <th>2017</th>\n",
       "      <td>4.50</td>\n",
       "      <td>8188</td>\n",
       "    </tr>\n",
       "    <tr>\n",
       "      <th>2018</th>\n",
       "      <td>4.55</td>\n",
       "      <td>8514</td>\n",
       "    </tr>\n",
       "    <tr>\n",
       "      <th>2019</th>\n",
       "      <td>5.05</td>\n",
       "      <td>2879</td>\n",
       "    </tr>\n",
       "  </tbody>\n",
       "</table>\n",
       "</div>"
      ],
      "text/plain": [
       "                           median  count\n",
       "year_first_day_exposition               \n",
       "2014                         7.70    137\n",
       "2015                         5.35   1190\n",
       "2016                         4.55   2782\n",
       "2017                         4.50   8188\n",
       "2018                         4.55   8514\n",
       "2019                         5.05   2879"
      ]
     },
     "execution_count": 60,
     "metadata": {},
     "output_type": "execute_result"
    }
   ],
   "source": [
    "#Сводная таблица цена группировка по \n",
    "day_relation = data.pivot_table(index='day_first_day_exposition', values=['last_price'], aggfunc='median')\n",
    "day_relation['last_price'] = round(day_relation['last_price'] / 1000000, 3)\n",
    "day_relation['name_day'] = ['Понедельник', 'Вторник', 'Среда', 'Четверг', 'Пятница', 'Суббота', 'Воскресение']\n",
    "month_relation = data.pivot_table(index='month_first_day_exposition', values=['last_price'], aggfunc='median')\n",
    "month_relation['last_price'] = round(month_relation['last_price'] / 1000000, 3)\n",
    "year_relation = data.pivot_table(index='year_first_day_exposition', values=['last_price'], aggfunc=['median', 'count'])\n",
    "year_relation.columns = ['median', 'count']\n",
    "year_relation['median'] = round(year_relation['median'] / 1000000, 3)\n",
    "year_relation #в 2014 выборка маленькая. Данные могут быть искажены"
   ]
  },
  {
   "cell_type": "code",
   "execution_count": 61,
   "metadata": {},
   "outputs": [
    {
     "data": {
      "image/png": "[encoded data removed]",
      "text/plain": [
       "<Figure size 576x360 with 1 Axes>"
      ]
     },
     "metadata": {
      "needs_background": "light"
     },
     "output_type": "display_data"
    }
   ],
   "source": [
    "day_plot = day_relation.plot(y='last_price', figsize = (8,5), \n",
    "                    title = 'Зависимость между днем недели и стоимостью квартиры', rot = 0,\n",
    "                   xlabel = \"День\",\n",
    "                   xticks = day_relation.index,\n",
    "                   ylabel = \"Цена (млн. руб)\", \n",
    "                   legend = None);\n",
    "day_plot.set_xticklabels(day_relation.name_day);"
   ]
  },
  {
   "cell_type": "code",
   "execution_count": 62,
   "metadata": {},
   "outputs": [
    {
     "data": {
      "image/png": "[encoded data removed]",
      "text/plain": [
       "<Figure size 576x360 with 1 Axes>"
      ]
     },
     "metadata": {
      "needs_background": "light"
     },
     "output_type": "display_data"
    }
   ],
   "source": [
    "month_relation.plot(y='last_price', figsize = (8,5), \n",
    "                    title = 'Зависимость между месяцем и стоимостью квартиры', rot = 0,\n",
    "                   xlabel = \"Месяц\",\n",
    "                   xticks = month_relation.index,\n",
    "                   ylabel = \"Цена (млн. руб)\", \n",
    "                   legend = None);"
   ]
  },
  {
   "cell_type": "markdown",
   "metadata": {},
   "source": [
    "В апреле цены повыше, в июне - пониже. Разница ~10%. Возможно это случайный фактор. Но может быть цены снижают перед летом, что-бы ускорить продажи. Лето на рынке недвидимости может быть тихим сезоном, из-за снижения активности покупателей, сезона отпусков."
   ]
  },
  {
   "cell_type": "code",
   "execution_count": 63,
   "metadata": {},
   "outputs": [
    {
     "data": {
      "image/png": "[encoded data removed]",
      "text/plain": [
       "<Figure size 576x360 with 1 Axes>"
      ]
     },
     "metadata": {
      "needs_background": "light"
     },
     "output_type": "display_data"
    }
   ],
   "source": [
    "year_relation.plot(y='median', figsize = (8,5), \n",
    "                    title = 'Зависимость между одом продажи и стоимостью квартиры', rot = 0,\n",
    "                   xlabel = \"Год\",\n",
    "                   ylabel = \"Цена (млн. руб)\", \n",
    "                   legend = None);"
   ]
  },
  {
   "cell_type": "markdown",
   "metadata": {},
   "source": [
    "На графике виден конец событий 2014 года, когда рубль немного закрепился. График скорее всего коррелирует с Российскими экономическими показателями."
   ]
  },
  {
   "cell_type": "markdown",
   "metadata": {},
   "source": [
    "### [4. Цены одного квадратного метра в 10 населённых пунктах с наибольшим числом объявлений.](#Head)<a name=\"44\"></a>"
   ]
  },
  {
   "cell_type": "code",
   "execution_count": 64,
   "metadata": {},
   "outputs": [
    {
     "data": {
      "text/html": [
       "<div>\n",
       "<style scoped>\n",
       "    .dataframe tbody tr th:only-of-type {\n",
       "        vertical-align: middle;\n",
       "    }\n",
       "\n",
       "    .dataframe tbody tr th {\n",
       "        vertical-align: top;\n",
       "    }\n",
       "\n",
       "    .dataframe thead th {\n",
       "        text-align: right;\n",
       "    }\n",
       "</style>\n",
       "<table border=\"1\" class=\"dataframe\">\n",
       "  <thead>\n",
       "    <tr style=\"text-align: right;\">\n",
       "      <th></th>\n",
       "      <th>mean_price</th>\n",
       "      <th>count</th>\n",
       "    </tr>\n",
       "    <tr>\n",
       "      <th>locality_name</th>\n",
       "      <th></th>\n",
       "      <th></th>\n",
       "    </tr>\n",
       "  </thead>\n",
       "  <tbody>\n",
       "    <tr>\n",
       "      <th>Санкт-Петербург</th>\n",
       "      <td>114820.615344</td>\n",
       "      <td>15715</td>\n",
       "    </tr>\n",
       "    <tr>\n",
       "      <th>Пушкин</th>\n",
       "      <td>103125.819291</td>\n",
       "      <td>369</td>\n",
       "    </tr>\n",
       "    <tr>\n",
       "      <th>Кудрово</th>\n",
       "      <td>95324.930544</td>\n",
       "      <td>472</td>\n",
       "    </tr>\n",
       "    <tr>\n",
       "      <th>посёлок Парголово</th>\n",
       "      <td>90175.913458</td>\n",
       "      <td>327</td>\n",
       "    </tr>\n",
       "    <tr>\n",
       "      <th>Мурино</th>\n",
       "      <td>86087.512050</td>\n",
       "      <td>590</td>\n",
       "    </tr>\n",
       "    <tr>\n",
       "      <th>посёлок Шушары</th>\n",
       "      <td>78677.364217</td>\n",
       "      <td>440</td>\n",
       "    </tr>\n",
       "    <tr>\n",
       "      <th>Колпино</th>\n",
       "      <td>75424.579098</td>\n",
       "      <td>338</td>\n",
       "    </tr>\n",
       "    <tr>\n",
       "      <th>Гатчина</th>\n",
       "      <td>68746.146763</td>\n",
       "      <td>307</td>\n",
       "    </tr>\n",
       "    <tr>\n",
       "      <th>Всеволожск</th>\n",
       "      <td>68654.473986</td>\n",
       "      <td>398</td>\n",
       "    </tr>\n",
       "    <tr>\n",
       "      <th>Выборг</th>\n",
       "      <td>58141.909153</td>\n",
       "      <td>237</td>\n",
       "    </tr>\n",
       "  </tbody>\n",
       "</table>\n",
       "</div>"
      ],
      "text/plain": [
       "                      mean_price  count\n",
       "locality_name                          \n",
       "Санкт-Петербург    114820.615344  15715\n",
       "Пушкин             103125.819291    369\n",
       "Кудрово             95324.930544    472\n",
       "посёлок Парголово   90175.913458    327\n",
       "Мурино              86087.512050    590\n",
       "посёлок Шушары      78677.364217    440\n",
       "Колпино             75424.579098    338\n",
       "Гатчина             68746.146763    307\n",
       "Всеволожск          68654.473986    398\n",
       "Выборг              58141.909153    237"
      ]
     },
     "execution_count": 64,
     "metadata": {},
     "output_type": "execute_result"
    }
   ],
   "source": [
    "locality_pps = data.pivot_table(index='locality_name', values='price_per_square', aggfunc=['mean', 'count'])#.sort_values(by='price_per_square')\n",
    "locality_pps.columns = ['mean_price', 'count']\n",
    "locality_pps = locality_pps.sort_values(['count'], ascending=False).head(10)\n",
    "locality_pps.sort_values(['mean_price'], ascending=False)"
   ]
  },
  {
   "cell_type": "markdown",
   "metadata": {},
   "source": [
    "В самые дорогие площади входят Санкт-Петербург и города-поселки агломерации. Самый дешевый оказался из выборки оказался Выброг. 58000 за м2 и не самая глушь. Киборг из песни знал куда ехать :)."
   ]
  },
  {
   "cell_type": "markdown",
   "metadata": {},
   "source": [
    "### [5. Cредняя цена каждого километра в сторону центра.](#Head)<a name=\"45\"></a>"
   ]
  },
  {
   "cell_type": "code",
   "execution_count": 65,
   "metadata": {},
   "outputs": [
    {
     "data": {
      "image/png": "[encoded data removed]",
      "text/plain": [
       "<Figure size 576x360 with 1 Axes>"
      ]
     },
     "metadata": {
      "needs_background": "light"
     },
     "output_type": "display_data"
    }
   ],
   "source": [
    "center_nearest_relation = data[data['locality_name'] == 'Санкт-Петербург'].pivot_table(index='cityCenters_km_nearest', values='last_price')\n",
    "center_nearest_relation['last_price'] = round(center_nearest_relation['last_price'] / 1000000, 3)\n",
    "center_nearest_relation.plot.bar(y='last_price', figsize = (8,5), \n",
    "                    title = 'Зависимость цены квартиры от удаленности до центра', rot = 0,\n",
    "                   xlabel = \"Рассстояние до центра\",\n",
    "                   ylabel = \"Цена (млн. руб)\", \n",
    "                   legend = None);"
   ]
  },
  {
   "cell_type": "markdown",
   "metadata": {},
   "source": [
    "Одна квартира в центре или шесть в десяти км от центра. На графике видно что после удаления на 9-10 км от центра расстояние прктически перестает играть роль в ценообразовании. Чем ближе к центру, тем бильнее зависимость: квартира в самом центре на 30% дороже чем квартира в 1-2км!"
   ]
  },
  {
   "cell_type": "markdown",
   "metadata": {},
   "source": [
    "## [Шаг 5: Заключение](#Head)<a name=\"5\"></a>\n",
    "Работу по исследованию данных можно считать завершенной. \n",
    "В ходе работы была выполнена предобработка данных:\n",
    "* Были обнаружены ошибки и неполное заполнение карточек объявлений. Возможно стоит иметь словарь населнных пунктов, и сделать более строгую проверку поле ввода. Ошибки были исправлены, пропуски заполнены. \n",
    "* Часть информации была утерена при выгрузке таблицы. Некоторые исследования охватывали не полный объем данных.\n",
    "\n",
    "Изученые параметры позволили сделать следующие выводы:\n",
    "* На рынке недвижимости много однотипного жилья. \n",
    "* Основная масса предложениый 1,2-х комнатные квартиры.\n",
    "* За исследуеммый период медианная квартира в ЛО стоила около 4-х млн руб.\n",
    "* В выходные размещается в два раза меньше объявлений, чем днем.\n",
    "* Весной размещается больше всего объявлений. \n",
    "* Медианное время продажи - 3 месяца. Быстрая продажа происходит за полтора месяца, долгая от 8мес.\n",
    "* Корреляция цены от площади 0.65. \n",
    "* С ростом количества комнат цена растет, но метры в студиях дороже.\n",
    "* Квартиры на крайних этажах продаются чуть дешевле прочих\n",
    "* Искать квартиру лучше весной, а покупать в начале лета. По вторникам размещают более дорогие квартиры, чем в прочие дни.\n",
    "* Жилье в центре сильно дороже. Расстояние до центра перестаёт влиять на цену с 10 километра. \n",
    "* В городах-поселках цены сильно ниже(1.5-4 раза) чем в Санкт-Петербурге, хоть они и находятся в одной области.\n",
    "\n",
    "Из замечаний хочется отметить:\n",
    "* Возможно высоту потолка имеет смысл хранить в картографической информации. В типовом доме потолки будут одинаковы в каждой квартире. \n",
    "* Ошибка в выгрузке данных может дать не полное представление об исследованиях, основанных на картографических показателях.\n",
    "* В количестве дней размещения (days_exposition) имеются высокие значения на 30, 45, 60, 90 дней. Стоит уточнить природу их появлений.\n",
    "\n"
   ]
  }
 ],
 "metadata": {
  "ExecuteTimeLog": [
   {
    "duration": 1183,
    "start_time": "2023-03-19T03:33:33.960Z"
   },
   {
    "duration": 34,
    "start_time": "2023-03-19T03:33:35.145Z"
   },
   {
    "duration": 107,
    "start_time": "2023-03-19T03:33:35.181Z"
   },
   {
    "duration": 0,
    "start_time": "2023-03-19T03:33:35.291Z"
   },
   {
    "duration": 0,
    "start_time": "2023-03-19T03:33:35.293Z"
   },
   {
    "duration": 0,
    "start_time": "2023-03-19T03:33:35.294Z"
   },
   {
    "duration": 0,
    "start_time": "2023-03-19T03:33:35.296Z"
   },
   {
    "duration": 0,
    "start_time": "2023-03-19T03:33:35.297Z"
   },
   {
    "duration": 0,
    "start_time": "2023-03-19T03:33:35.299Z"
   },
   {
    "duration": 0,
    "start_time": "2023-03-19T03:33:35.300Z"
   },
   {
    "duration": 0,
    "start_time": "2023-03-19T03:33:35.301Z"
   },
   {
    "duration": 0,
    "start_time": "2023-03-19T03:33:35.302Z"
   },
   {
    "duration": 0,
    "start_time": "2023-03-19T03:33:35.303Z"
   },
   {
    "duration": 0,
    "start_time": "2023-03-19T03:33:35.304Z"
   },
   {
    "duration": 0,
    "start_time": "2023-03-19T03:33:35.305Z"
   },
   {
    "duration": 0,
    "start_time": "2023-03-19T03:33:35.306Z"
   },
   {
    "duration": 0,
    "start_time": "2023-03-19T03:33:35.307Z"
   },
   {
    "duration": 0,
    "start_time": "2023-03-19T03:33:35.309Z"
   },
   {
    "duration": 0,
    "start_time": "2023-03-19T03:33:35.310Z"
   },
   {
    "duration": 0,
    "start_time": "2023-03-19T03:33:35.311Z"
   },
   {
    "duration": 0,
    "start_time": "2023-03-19T03:33:35.312Z"
   },
   {
    "duration": 0,
    "start_time": "2023-03-19T03:33:35.313Z"
   },
   {
    "duration": 0,
    "start_time": "2023-03-19T03:33:35.314Z"
   },
   {
    "duration": 0,
    "start_time": "2023-03-19T03:33:35.315Z"
   },
   {
    "duration": 0,
    "start_time": "2023-03-19T03:33:35.316Z"
   },
   {
    "duration": 0,
    "start_time": "2023-03-19T03:33:35.318Z"
   },
   {
    "duration": 0,
    "start_time": "2023-03-19T03:33:35.319Z"
   },
   {
    "duration": 0,
    "start_time": "2023-03-19T03:33:35.373Z"
   },
   {
    "duration": 0,
    "start_time": "2023-03-19T03:33:35.374Z"
   },
   {
    "duration": 0,
    "start_time": "2023-03-19T03:33:35.376Z"
   },
   {
    "duration": 0,
    "start_time": "2023-03-19T03:33:35.377Z"
   },
   {
    "duration": 0,
    "start_time": "2023-03-19T03:33:35.378Z"
   },
   {
    "duration": 0,
    "start_time": "2023-03-19T03:33:35.380Z"
   },
   {
    "duration": 0,
    "start_time": "2023-03-19T03:33:35.381Z"
   },
   {
    "duration": 0,
    "start_time": "2023-03-19T03:33:35.382Z"
   },
   {
    "duration": 0,
    "start_time": "2023-03-19T03:33:35.383Z"
   },
   {
    "duration": 0,
    "start_time": "2023-03-19T03:33:35.384Z"
   },
   {
    "duration": 0,
    "start_time": "2023-03-19T03:33:35.385Z"
   },
   {
    "duration": 0,
    "start_time": "2023-03-19T03:33:35.386Z"
   },
   {
    "duration": 0,
    "start_time": "2023-03-19T03:33:35.387Z"
   },
   {
    "duration": 0,
    "start_time": "2023-03-19T03:33:35.388Z"
   },
   {
    "duration": 0,
    "start_time": "2023-03-19T03:33:35.389Z"
   },
   {
    "duration": 0,
    "start_time": "2023-03-19T03:33:35.390Z"
   },
   {
    "duration": 0,
    "start_time": "2023-03-19T03:33:35.391Z"
   },
   {
    "duration": 0,
    "start_time": "2023-03-19T03:33:35.392Z"
   },
   {
    "duration": 0,
    "start_time": "2023-03-19T03:33:35.393Z"
   },
   {
    "duration": 0,
    "start_time": "2023-03-19T03:33:35.395Z"
   },
   {
    "duration": 0,
    "start_time": "2023-03-19T03:33:35.397Z"
   },
   {
    "duration": 0,
    "start_time": "2023-03-19T03:33:35.398Z"
   },
   {
    "duration": 0,
    "start_time": "2023-03-19T03:33:35.400Z"
   },
   {
    "duration": 0,
    "start_time": "2023-03-19T03:33:35.401Z"
   },
   {
    "duration": 0,
    "start_time": "2023-03-19T03:33:35.401Z"
   },
   {
    "duration": 0,
    "start_time": "2023-03-19T03:33:35.402Z"
   },
   {
    "duration": 0,
    "start_time": "2023-03-19T03:33:35.403Z"
   },
   {
    "duration": 0,
    "start_time": "2023-03-19T03:33:35.405Z"
   },
   {
    "duration": 0,
    "start_time": "2023-03-19T03:33:35.406Z"
   },
   {
    "duration": 0,
    "start_time": "2023-03-19T03:33:35.407Z"
   },
   {
    "duration": 0,
    "start_time": "2023-03-19T03:33:35.408Z"
   },
   {
    "duration": 0,
    "start_time": "2023-03-19T03:33:35.410Z"
   },
   {
    "duration": 0,
    "start_time": "2023-03-19T03:33:35.472Z"
   },
   {
    "duration": 0,
    "start_time": "2023-03-19T03:33:35.474Z"
   },
   {
    "duration": 0,
    "start_time": "2023-03-19T03:33:35.475Z"
   },
   {
    "duration": 93,
    "start_time": "2023-03-19T05:52:23.120Z"
   },
   {
    "duration": 8,
    "start_time": "2023-03-19T05:52:51.052Z"
   },
   {
    "duration": 2057,
    "start_time": "2023-03-19T05:53:20.857Z"
   },
   {
    "duration": 28,
    "start_time": "2023-03-19T05:53:28.156Z"
   },
   {
    "duration": 113,
    "start_time": "2023-03-19T05:53:34.857Z"
   },
   {
    "duration": 17,
    "start_time": "2023-03-19T05:53:37.304Z"
   },
   {
    "duration": 126,
    "start_time": "2023-03-19T05:53:50.887Z"
   },
   {
    "duration": 21,
    "start_time": "2023-03-19T05:53:52.209Z"
   },
   {
    "duration": 133,
    "start_time": "2023-03-19T05:54:06.494Z"
   },
   {
    "duration": 58,
    "start_time": "2023-03-19T05:54:07.914Z"
   },
   {
    "duration": 3741,
    "start_time": "2023-03-19T05:54:12.190Z"
   },
   {
    "duration": 4,
    "start_time": "2023-03-19T05:55:12.262Z"
   },
   {
    "duration": 144,
    "start_time": "2023-03-19T05:55:16.356Z"
   },
   {
    "duration": 115,
    "start_time": "2023-03-19T05:55:46.459Z"
   },
   {
    "duration": 340,
    "start_time": "2023-03-19T05:57:53.444Z"
   },
   {
    "duration": 46,
    "start_time": "2023-03-19T05:58:40.694Z"
   },
   {
    "duration": 3565,
    "start_time": "2023-03-19T05:58:40.746Z"
   },
   {
    "duration": 24,
    "start_time": "2023-03-19T05:58:44.313Z"
   },
   {
    "duration": 41,
    "start_time": "2023-03-19T05:58:44.339Z"
   },
   {
    "duration": 14,
    "start_time": "2023-03-19T05:58:44.381Z"
   },
   {
    "duration": 28,
    "start_time": "2023-03-19T05:58:44.397Z"
   },
   {
    "duration": 113,
    "start_time": "2023-03-19T05:58:44.427Z"
   },
   {
    "duration": 15,
    "start_time": "2023-03-19T05:58:44.542Z"
   },
   {
    "duration": 78,
    "start_time": "2023-03-19T05:58:44.559Z"
   },
   {
    "duration": 48,
    "start_time": "2023-03-19T05:58:44.640Z"
   },
   {
    "duration": 13,
    "start_time": "2023-03-19T05:58:44.690Z"
   },
   {
    "duration": 9,
    "start_time": "2023-03-19T05:58:44.705Z"
   },
   {
    "duration": 5,
    "start_time": "2023-03-19T05:58:44.715Z"
   },
   {
    "duration": 54,
    "start_time": "2023-03-19T05:58:44.722Z"
   },
   {
    "duration": 29,
    "start_time": "2023-03-19T05:58:44.778Z"
   },
   {
    "duration": 13,
    "start_time": "2023-03-19T05:58:44.809Z"
   },
   {
    "duration": 64,
    "start_time": "2023-03-19T05:58:44.824Z"
   },
   {
    "duration": 12602,
    "start_time": "2023-03-19T05:58:44.890Z"
   },
   {
    "duration": 20,
    "start_time": "2023-03-19T05:58:57.495Z"
   },
   {
    "duration": 47,
    "start_time": "2023-03-19T05:58:57.516Z"
   },
   {
    "duration": 37,
    "start_time": "2023-03-19T05:58:57.565Z"
   },
   {
    "duration": 202,
    "start_time": "2023-03-19T05:58:57.604Z"
   },
   {
    "duration": 4,
    "start_time": "2023-03-19T05:58:57.808Z"
   },
   {
    "duration": 27,
    "start_time": "2023-03-19T05:58:57.814Z"
   },
   {
    "duration": 60,
    "start_time": "2023-03-19T05:58:57.843Z"
   },
   {
    "duration": 87,
    "start_time": "2023-03-19T05:58:57.906Z"
   },
   {
    "duration": 18,
    "start_time": "2023-03-19T05:58:57.998Z"
   },
   {
    "duration": 5,
    "start_time": "2023-03-19T05:58:58.022Z"
   },
   {
    "duration": 595,
    "start_time": "2023-03-19T05:58:58.029Z"
   },
   {
    "duration": 31,
    "start_time": "2023-03-19T05:58:58.626Z"
   },
   {
    "duration": 349,
    "start_time": "2023-03-19T05:58:58.659Z"
   },
   {
    "duration": 304,
    "start_time": "2023-03-19T05:58:59.009Z"
   },
   {
    "duration": 252,
    "start_time": "2023-03-19T05:58:59.316Z"
   },
   {
    "duration": 435,
    "start_time": "2023-03-19T05:58:59.570Z"
   },
   {
    "duration": 196,
    "start_time": "2023-03-19T05:59:00.008Z"
   },
   {
    "duration": 284,
    "start_time": "2023-03-19T05:59:00.206Z"
   },
   {
    "duration": 257,
    "start_time": "2023-03-19T05:59:00.492Z"
   },
   {
    "duration": 158,
    "start_time": "2023-03-19T05:59:00.751Z"
   },
   {
    "duration": 270,
    "start_time": "2023-03-19T05:59:00.911Z"
   },
   {
    "duration": 269,
    "start_time": "2023-03-19T05:59:01.190Z"
   },
   {
    "duration": 205,
    "start_time": "2023-03-19T05:59:01.463Z"
   },
   {
    "duration": 181,
    "start_time": "2023-03-19T05:59:01.670Z"
   },
   {
    "duration": 244,
    "start_time": "2023-03-19T05:59:01.853Z"
   },
   {
    "duration": 223,
    "start_time": "2023-03-19T05:59:02.099Z"
   },
   {
    "duration": 270,
    "start_time": "2023-03-19T05:59:02.324Z"
   },
   {
    "duration": 6,
    "start_time": "2023-03-19T05:59:02.596Z"
   },
   {
    "duration": 11,
    "start_time": "2023-03-19T05:59:02.604Z"
   },
   {
    "duration": 278,
    "start_time": "2023-03-19T05:59:02.635Z"
   },
   {
    "duration": 267,
    "start_time": "2023-03-19T05:59:02.915Z"
   },
   {
    "duration": 243,
    "start_time": "2023-03-19T05:59:03.184Z"
   },
   {
    "duration": 11,
    "start_time": "2023-03-19T05:59:03.429Z"
   },
   {
    "duration": 60,
    "start_time": "2023-03-19T05:59:03.442Z"
   },
   {
    "duration": 175,
    "start_time": "2023-03-19T05:59:03.504Z"
   },
   {
    "duration": 182,
    "start_time": "2023-03-19T05:59:03.681Z"
   },
   {
    "duration": 164,
    "start_time": "2023-03-19T05:59:03.869Z"
   },
   {
    "duration": 62,
    "start_time": "2023-03-19T05:59:04.039Z"
   },
   {
    "duration": 197,
    "start_time": "2023-03-19T05:59:04.104Z"
   },
   {
    "duration": 294,
    "start_time": "2023-03-19T05:59:04.303Z"
   },
   {
    "duration": 188,
    "start_time": "2023-03-19T05:59:04.599Z"
   },
   {
    "duration": 27,
    "start_time": "2023-03-19T05:59:04.789Z"
   },
   {
    "duration": 341,
    "start_time": "2023-03-19T05:59:04.830Z"
   },
   {
    "duration": 176,
    "start_time": "2023-03-19T05:59:39.895Z"
   },
   {
    "duration": 1142,
    "start_time": "2023-03-19T08:50:02.100Z"
   },
   {
    "duration": 55,
    "start_time": "2023-03-19T08:50:03.245Z"
   },
   {
    "duration": 3622,
    "start_time": "2023-03-19T08:50:03.302Z"
   },
   {
    "duration": 11,
    "start_time": "2023-03-19T08:50:06.927Z"
   },
   {
    "duration": 13,
    "start_time": "2023-03-19T08:50:06.940Z"
   },
   {
    "duration": 10,
    "start_time": "2023-03-19T08:50:06.955Z"
   },
   {
    "duration": 16,
    "start_time": "2023-03-19T08:50:06.968Z"
   },
   {
    "duration": 62,
    "start_time": "2023-03-19T08:50:06.986Z"
   },
   {
    "duration": 19,
    "start_time": "2023-03-19T08:50:07.051Z"
   },
   {
    "duration": 24,
    "start_time": "2023-03-19T08:50:07.074Z"
   },
   {
    "duration": 6,
    "start_time": "2023-03-19T08:50:07.100Z"
   },
   {
    "duration": 13,
    "start_time": "2023-03-19T08:50:07.108Z"
   },
   {
    "duration": 43,
    "start_time": "2023-03-19T08:50:07.123Z"
   },
   {
    "duration": 4,
    "start_time": "2023-03-19T08:50:07.168Z"
   },
   {
    "duration": 27,
    "start_time": "2023-03-19T08:50:07.173Z"
   },
   {
    "duration": 21,
    "start_time": "2023-03-19T08:50:07.202Z"
   },
   {
    "duration": 13,
    "start_time": "2023-03-19T08:50:07.224Z"
   },
   {
    "duration": 5,
    "start_time": "2023-03-19T08:50:07.264Z"
   },
   {
    "duration": 11655,
    "start_time": "2023-03-19T08:50:07.271Z"
   },
   {
    "duration": 23,
    "start_time": "2023-03-19T08:50:18.928Z"
   },
   {
    "duration": 30,
    "start_time": "2023-03-19T08:50:18.965Z"
   },
   {
    "duration": 18,
    "start_time": "2023-03-19T08:50:18.997Z"
   },
   {
    "duration": 175,
    "start_time": "2023-03-19T08:50:19.017Z"
   },
   {
    "duration": 4,
    "start_time": "2023-03-19T08:50:19.194Z"
   },
   {
    "duration": 13,
    "start_time": "2023-03-19T08:50:19.200Z"
   },
   {
    "duration": 17,
    "start_time": "2023-03-19T08:50:19.215Z"
   },
   {
    "duration": 63,
    "start_time": "2023-03-19T08:50:19.234Z"
   },
   {
    "duration": 16,
    "start_time": "2023-03-19T08:50:19.301Z"
   },
   {
    "duration": 3,
    "start_time": "2023-03-19T08:50:19.319Z"
   },
   {
    "duration": 419,
    "start_time": "2023-03-19T08:50:19.324Z"
   },
   {
    "duration": 29,
    "start_time": "2023-03-19T08:50:19.745Z"
   },
   {
    "duration": 282,
    "start_time": "2023-03-19T08:50:19.776Z"
   },
   {
    "duration": 256,
    "start_time": "2023-03-19T08:50:20.060Z"
   },
   {
    "duration": 209,
    "start_time": "2023-03-19T08:50:20.318Z"
   },
   {
    "duration": 320,
    "start_time": "2023-03-19T08:50:20.528Z"
   },
   {
    "duration": 240,
    "start_time": "2023-03-19T08:50:20.850Z"
   },
   {
    "duration": 224,
    "start_time": "2023-03-19T08:50:21.092Z"
   },
   {
    "duration": 180,
    "start_time": "2023-03-19T08:50:21.318Z"
   },
   {
    "duration": 131,
    "start_time": "2023-03-19T08:50:21.501Z"
   },
   {
    "duration": 193,
    "start_time": "2023-03-19T08:50:21.634Z"
   },
   {
    "duration": 185,
    "start_time": "2023-03-19T08:50:21.828Z"
   },
   {
    "duration": 181,
    "start_time": "2023-03-19T08:50:22.015Z"
   },
   {
    "duration": 170,
    "start_time": "2023-03-19T08:50:22.198Z"
   },
   {
    "duration": 141,
    "start_time": "2023-03-19T08:50:22.370Z"
   },
   {
    "duration": 143,
    "start_time": "2023-03-19T08:50:22.513Z"
   },
   {
    "duration": 317,
    "start_time": "2023-03-19T08:50:22.658Z"
   },
   {
    "duration": 7,
    "start_time": "2023-03-19T08:50:22.978Z"
   },
   {
    "duration": 9,
    "start_time": "2023-03-19T08:50:22.987Z"
   },
   {
    "duration": 274,
    "start_time": "2023-03-19T08:50:22.998Z"
   },
   {
    "duration": 244,
    "start_time": "2023-03-19T08:50:23.274Z"
   },
   {
    "duration": 238,
    "start_time": "2023-03-19T08:50:23.521Z"
   },
   {
    "duration": 7,
    "start_time": "2023-03-19T08:50:23.763Z"
   },
   {
    "duration": 24,
    "start_time": "2023-03-19T08:50:23.772Z"
   },
   {
    "duration": 161,
    "start_time": "2023-03-19T08:50:23.798Z"
   },
   {
    "duration": 181,
    "start_time": "2023-03-19T08:50:23.964Z"
   },
   {
    "duration": 159,
    "start_time": "2023-03-19T08:50:24.148Z"
   },
   {
    "duration": 38,
    "start_time": "2023-03-19T08:50:24.310Z"
   },
   {
    "duration": 185,
    "start_time": "2023-03-19T08:50:24.350Z"
   },
   {
    "duration": 214,
    "start_time": "2023-03-19T08:50:24.538Z"
   },
   {
    "duration": 155,
    "start_time": "2023-03-19T08:50:24.754Z"
   },
   {
    "duration": 26,
    "start_time": "2023-03-19T08:50:24.911Z"
   },
   {
    "duration": 375,
    "start_time": "2023-03-19T08:50:24.939Z"
   },
   {
    "duration": 55,
    "start_time": "2023-03-19T08:53:55.456Z"
   },
   {
    "duration": 6,
    "start_time": "2023-03-19T08:55:47.454Z"
   },
   {
    "duration": 6,
    "start_time": "2023-03-19T08:56:15.812Z"
   },
   {
    "duration": 1072,
    "start_time": "2023-03-19T09:03:40.298Z"
   },
   {
    "duration": 48,
    "start_time": "2023-03-19T09:03:41.372Z"
   },
   {
    "duration": 3438,
    "start_time": "2023-03-19T09:03:41.422Z"
   },
   {
    "duration": 17,
    "start_time": "2023-03-19T09:03:44.863Z"
   },
   {
    "duration": 11,
    "start_time": "2023-03-19T09:03:44.883Z"
   },
   {
    "duration": 16,
    "start_time": "2023-03-19T09:03:44.896Z"
   },
   {
    "duration": 16,
    "start_time": "2023-03-19T09:03:44.915Z"
   },
   {
    "duration": 60,
    "start_time": "2023-03-19T09:03:44.964Z"
   },
   {
    "duration": 7,
    "start_time": "2023-03-19T09:03:45.026Z"
   },
   {
    "duration": 41,
    "start_time": "2023-03-19T09:03:45.035Z"
   },
   {
    "duration": 7,
    "start_time": "2023-03-19T09:03:45.078Z"
   },
   {
    "duration": 26,
    "start_time": "2023-03-19T09:03:45.087Z"
   },
   {
    "duration": 13,
    "start_time": "2023-03-19T09:03:45.115Z"
   },
   {
    "duration": 28,
    "start_time": "2023-03-19T09:03:45.132Z"
   },
   {
    "duration": 62,
    "start_time": "2023-03-19T09:03:45.162Z"
   },
   {
    "duration": 33,
    "start_time": "2023-03-19T09:03:45.227Z"
   },
   {
    "duration": 19,
    "start_time": "2023-03-19T09:03:45.263Z"
   },
   {
    "duration": 36,
    "start_time": "2023-03-19T09:03:45.284Z"
   },
   {
    "duration": 17,
    "start_time": "2023-03-19T09:03:45.322Z"
   },
   {
    "duration": 11828,
    "start_time": "2023-03-19T09:03:45.341Z"
   },
   {
    "duration": 21,
    "start_time": "2023-03-19T09:03:57.171Z"
   },
   {
    "duration": 27,
    "start_time": "2023-03-19T09:03:57.194Z"
   },
   {
    "duration": 45,
    "start_time": "2023-03-19T09:03:57.223Z"
   },
   {
    "duration": 178,
    "start_time": "2023-03-19T09:03:57.271Z"
   },
   {
    "duration": 3,
    "start_time": "2023-03-19T09:03:57.450Z"
   },
   {
    "duration": 21,
    "start_time": "2023-03-19T09:03:57.455Z"
   },
   {
    "duration": 15,
    "start_time": "2023-03-19T09:03:57.477Z"
   },
   {
    "duration": 37,
    "start_time": "2023-03-19T09:03:57.494Z"
   },
   {
    "duration": 34,
    "start_time": "2023-03-19T09:03:57.533Z"
   },
   {
    "duration": 3,
    "start_time": "2023-03-19T09:03:57.569Z"
   },
   {
    "duration": 409,
    "start_time": "2023-03-19T09:03:57.574Z"
   },
   {
    "duration": 30,
    "start_time": "2023-03-19T09:03:57.984Z"
   },
   {
    "duration": 368,
    "start_time": "2023-03-19T09:03:58.016Z"
   },
   {
    "duration": 271,
    "start_time": "2023-03-19T09:03:58.386Z"
   },
   {
    "duration": 215,
    "start_time": "2023-03-19T09:03:58.663Z"
   },
   {
    "duration": 334,
    "start_time": "2023-03-19T09:03:58.881Z"
   },
   {
    "duration": 171,
    "start_time": "2023-03-19T09:03:59.216Z"
   },
   {
    "duration": 223,
    "start_time": "2023-03-19T09:03:59.389Z"
   },
   {
    "duration": 277,
    "start_time": "2023-03-19T09:03:59.614Z"
   },
   {
    "duration": 142,
    "start_time": "2023-03-19T09:03:59.893Z"
   },
   {
    "duration": 202,
    "start_time": "2023-03-19T09:04:00.040Z"
   },
   {
    "duration": 188,
    "start_time": "2023-03-19T09:04:00.243Z"
   },
   {
    "duration": 182,
    "start_time": "2023-03-19T09:04:00.433Z"
   },
   {
    "duration": 180,
    "start_time": "2023-03-19T09:04:00.618Z"
   },
   {
    "duration": 149,
    "start_time": "2023-03-19T09:04:00.800Z"
   },
   {
    "duration": 148,
    "start_time": "2023-03-19T09:04:00.951Z"
   },
   {
    "duration": 245,
    "start_time": "2023-03-19T09:04:01.101Z"
   },
   {
    "duration": 17,
    "start_time": "2023-03-19T09:04:01.348Z"
   },
   {
    "duration": 34,
    "start_time": "2023-03-19T09:04:01.367Z"
   },
   {
    "duration": 281,
    "start_time": "2023-03-19T09:04:01.403Z"
   },
   {
    "duration": 382,
    "start_time": "2023-03-19T09:04:01.686Z"
   },
   {
    "duration": 240,
    "start_time": "2023-03-19T09:04:02.070Z"
   },
   {
    "duration": 7,
    "start_time": "2023-03-19T09:04:02.311Z"
   },
   {
    "duration": 47,
    "start_time": "2023-03-19T09:04:02.319Z"
   },
   {
    "duration": 161,
    "start_time": "2023-03-19T09:04:02.368Z"
   },
   {
    "duration": 179,
    "start_time": "2023-03-19T09:04:02.530Z"
   },
   {
    "duration": 154,
    "start_time": "2023-03-19T09:04:02.711Z"
   },
   {
    "duration": 38,
    "start_time": "2023-03-19T09:04:02.867Z"
   },
   {
    "duration": 198,
    "start_time": "2023-03-19T09:04:02.907Z"
   },
   {
    "duration": 199,
    "start_time": "2023-03-19T09:04:03.107Z"
   },
   {
    "duration": 175,
    "start_time": "2023-03-19T09:04:03.308Z"
   },
   {
    "duration": 29,
    "start_time": "2023-03-19T09:04:03.485Z"
   },
   {
    "duration": 327,
    "start_time": "2023-03-19T09:04:03.515Z"
   },
   {
    "duration": 999,
    "start_time": "2023-03-19T09:04:26.016Z"
   },
   {
    "duration": 43,
    "start_time": "2023-03-19T09:04:27.018Z"
   },
   {
    "duration": 3360,
    "start_time": "2023-03-19T09:04:27.064Z"
   },
   {
    "duration": 15,
    "start_time": "2023-03-19T09:04:30.428Z"
   },
   {
    "duration": 26,
    "start_time": "2023-03-19T09:04:30.446Z"
   },
   {
    "duration": 29,
    "start_time": "2023-03-19T09:04:30.475Z"
   },
   {
    "duration": 37,
    "start_time": "2023-03-19T09:04:30.506Z"
   },
   {
    "duration": 82,
    "start_time": "2023-03-19T09:04:30.546Z"
   },
   {
    "duration": 12,
    "start_time": "2023-03-19T09:04:30.631Z"
   },
   {
    "duration": 48,
    "start_time": "2023-03-19T09:04:30.648Z"
   },
   {
    "duration": 26,
    "start_time": "2023-03-19T09:04:30.698Z"
   },
   {
    "duration": 32,
    "start_time": "2023-03-19T09:04:30.726Z"
   },
   {
    "duration": 66,
    "start_time": "2023-03-19T09:04:30.759Z"
   },
   {
    "duration": 39,
    "start_time": "2023-03-19T09:04:30.828Z"
   },
   {
    "duration": 59,
    "start_time": "2023-03-19T09:04:30.870Z"
   },
   {
    "duration": 47,
    "start_time": "2023-03-19T09:04:30.931Z"
   },
   {
    "duration": 42,
    "start_time": "2023-03-19T09:04:30.980Z"
   },
   {
    "duration": 54,
    "start_time": "2023-03-19T09:04:31.024Z"
   },
   {
    "duration": 55,
    "start_time": "2023-03-19T09:04:31.080Z"
   },
   {
    "duration": 11155,
    "start_time": "2023-03-19T09:04:31.137Z"
   },
   {
    "duration": 22,
    "start_time": "2023-03-19T09:04:42.294Z"
   },
   {
    "duration": 46,
    "start_time": "2023-03-19T09:04:42.318Z"
   },
   {
    "duration": 17,
    "start_time": "2023-03-19T09:04:42.366Z"
   },
   {
    "duration": 158,
    "start_time": "2023-03-19T09:04:42.385Z"
   },
   {
    "duration": 4,
    "start_time": "2023-03-19T09:04:42.545Z"
   },
   {
    "duration": 11,
    "start_time": "2023-03-19T09:04:42.563Z"
   },
   {
    "duration": 16,
    "start_time": "2023-03-19T09:04:42.576Z"
   },
   {
    "duration": 69,
    "start_time": "2023-03-19T09:04:42.597Z"
   },
   {
    "duration": 16,
    "start_time": "2023-03-19T09:04:42.668Z"
   },
   {
    "duration": 3,
    "start_time": "2023-03-19T09:04:42.686Z"
   },
   {
    "duration": 429,
    "start_time": "2023-03-19T09:04:42.691Z"
   },
   {
    "duration": 29,
    "start_time": "2023-03-19T09:04:43.122Z"
   },
   {
    "duration": 281,
    "start_time": "2023-03-19T09:04:43.163Z"
   },
   {
    "duration": 259,
    "start_time": "2023-03-19T09:04:43.446Z"
   },
   {
    "duration": 215,
    "start_time": "2023-03-19T09:04:43.708Z"
   },
   {
    "duration": 346,
    "start_time": "2023-03-19T09:04:43.925Z"
   },
   {
    "duration": 259,
    "start_time": "2023-03-19T09:04:44.273Z"
   },
   {
    "duration": 296,
    "start_time": "2023-03-19T09:04:44.535Z"
   },
   {
    "duration": 185,
    "start_time": "2023-03-19T09:04:44.833Z"
   },
   {
    "duration": 135,
    "start_time": "2023-03-19T09:04:45.021Z"
   },
   {
    "duration": 195,
    "start_time": "2023-03-19T09:04:45.164Z"
   },
   {
    "duration": 181,
    "start_time": "2023-03-19T09:04:45.364Z"
   },
   {
    "duration": 182,
    "start_time": "2023-03-19T09:04:45.547Z"
   },
   {
    "duration": 181,
    "start_time": "2023-03-19T09:04:45.731Z"
   },
   {
    "duration": 146,
    "start_time": "2023-03-19T09:04:45.914Z"
   },
   {
    "duration": 145,
    "start_time": "2023-03-19T09:04:46.064Z"
   },
   {
    "duration": 332,
    "start_time": "2023-03-19T09:04:46.211Z"
   },
   {
    "duration": 6,
    "start_time": "2023-03-19T09:04:46.545Z"
   },
   {
    "duration": 10,
    "start_time": "2023-03-19T09:04:46.565Z"
   },
   {
    "duration": 262,
    "start_time": "2023-03-19T09:04:46.577Z"
   },
   {
    "duration": 241,
    "start_time": "2023-03-19T09:04:46.841Z"
   },
   {
    "duration": 234,
    "start_time": "2023-03-19T09:04:47.084Z"
   },
   {
    "duration": 6,
    "start_time": "2023-03-19T09:04:47.320Z"
   },
   {
    "duration": 44,
    "start_time": "2023-03-19T09:04:47.327Z"
   },
   {
    "duration": 163,
    "start_time": "2023-03-19T09:04:47.373Z"
   },
   {
    "duration": 165,
    "start_time": "2023-03-19T09:04:47.538Z"
   },
   {
    "duration": 154,
    "start_time": "2023-03-19T09:04:47.705Z"
   },
   {
    "duration": 40,
    "start_time": "2023-03-19T09:04:47.864Z"
   },
   {
    "duration": 192,
    "start_time": "2023-03-19T09:04:47.906Z"
   },
   {
    "duration": 192,
    "start_time": "2023-03-19T09:04:48.100Z"
   },
   {
    "duration": 164,
    "start_time": "2023-03-19T09:04:48.294Z"
   },
   {
    "duration": 28,
    "start_time": "2023-03-19T09:04:48.460Z"
   },
   {
    "duration": 411,
    "start_time": "2023-03-19T09:04:48.490Z"
   },
   {
    "duration": 54,
    "start_time": "2023-03-20T21:45:38.008Z"
   },
   {
    "duration": 7,
    "start_time": "2023-03-20T21:45:45.482Z"
   },
   {
    "duration": 859,
    "start_time": "2023-03-20T21:45:55.092Z"
   },
   {
    "duration": 40,
    "start_time": "2023-03-20T21:45:55.954Z"
   },
   {
    "duration": 3031,
    "start_time": "2023-03-20T21:45:55.996Z"
   },
   {
    "duration": 11,
    "start_time": "2023-03-20T21:45:59.030Z"
   },
   {
    "duration": 8,
    "start_time": "2023-03-20T21:45:59.043Z"
   },
   {
    "duration": 9,
    "start_time": "2023-03-20T21:45:59.053Z"
   },
   {
    "duration": 11,
    "start_time": "2023-03-20T21:45:59.063Z"
   },
   {
    "duration": 79,
    "start_time": "2023-03-20T21:45:59.075Z"
   },
   {
    "duration": 7,
    "start_time": "2023-03-20T21:45:59.155Z"
   },
   {
    "duration": 10,
    "start_time": "2023-03-20T21:45:59.164Z"
   },
   {
    "duration": 13,
    "start_time": "2023-03-20T21:45:59.175Z"
   },
   {
    "duration": 7,
    "start_time": "2023-03-20T21:45:59.203Z"
   },
   {
    "duration": 15,
    "start_time": "2023-03-20T21:45:59.212Z"
   },
   {
    "duration": 10,
    "start_time": "2023-03-20T21:45:59.228Z"
   },
   {
    "duration": 24,
    "start_time": "2023-03-20T21:45:59.239Z"
   },
   {
    "duration": 38,
    "start_time": "2023-03-20T21:45:59.265Z"
   },
   {
    "duration": 6,
    "start_time": "2023-03-20T21:45:59.305Z"
   },
   {
    "duration": 11,
    "start_time": "2023-03-20T21:45:59.313Z"
   },
   {
    "duration": 5,
    "start_time": "2023-03-20T21:45:59.325Z"
   },
   {
    "duration": 9790,
    "start_time": "2023-03-20T21:45:59.331Z"
   },
   {
    "duration": 19,
    "start_time": "2023-03-20T21:46:09.123Z"
   },
   {
    "duration": 24,
    "start_time": "2023-03-20T21:46:09.143Z"
   },
   {
    "duration": 38,
    "start_time": "2023-03-20T21:46:09.168Z"
   },
   {
    "duration": 131,
    "start_time": "2023-03-20T21:46:09.208Z"
   },
   {
    "duration": 4,
    "start_time": "2023-03-20T21:46:09.341Z"
   },
   {
    "duration": 12,
    "start_time": "2023-03-20T21:46:09.347Z"
   },
   {
    "duration": 13,
    "start_time": "2023-03-20T21:46:09.361Z"
   },
   {
    "duration": 66,
    "start_time": "2023-03-20T21:46:09.378Z"
   },
   {
    "duration": 14,
    "start_time": "2023-03-20T21:46:09.446Z"
   },
   {
    "duration": 3,
    "start_time": "2023-03-20T21:46:09.461Z"
   },
   {
    "duration": 393,
    "start_time": "2023-03-20T21:46:09.466Z"
   },
   {
    "duration": 24,
    "start_time": "2023-03-20T21:46:09.861Z"
   },
   {
    "duration": 270,
    "start_time": "2023-03-20T21:46:09.887Z"
   },
   {
    "duration": 238,
    "start_time": "2023-03-20T21:46:10.158Z"
   },
   {
    "duration": 187,
    "start_time": "2023-03-20T21:46:10.398Z"
   },
   {
    "duration": 324,
    "start_time": "2023-03-20T21:46:10.586Z"
   },
   {
    "duration": 219,
    "start_time": "2023-03-20T21:46:10.912Z"
   },
   {
    "duration": 223,
    "start_time": "2023-03-20T21:46:11.133Z"
   },
   {
    "duration": 169,
    "start_time": "2023-03-20T21:46:11.358Z"
   },
   {
    "duration": 118,
    "start_time": "2023-03-20T21:46:11.529Z"
   },
   {
    "duration": 212,
    "start_time": "2023-03-20T21:46:11.649Z"
   },
   {
    "duration": 219,
    "start_time": "2023-03-20T21:46:11.863Z"
   },
   {
    "duration": 162,
    "start_time": "2023-03-20T21:46:12.084Z"
   },
   {
    "duration": 156,
    "start_time": "2023-03-20T21:46:12.247Z"
   },
   {
    "duration": 123,
    "start_time": "2023-03-20T21:46:12.404Z"
   },
   {
    "duration": 131,
    "start_time": "2023-03-20T21:46:12.528Z"
   },
   {
    "duration": 281,
    "start_time": "2023-03-20T21:46:12.661Z"
   },
   {
    "duration": 6,
    "start_time": "2023-03-20T21:46:12.944Z"
   },
   {
    "duration": 15,
    "start_time": "2023-03-20T21:46:12.951Z"
   },
   {
    "duration": 221,
    "start_time": "2023-03-20T21:46:12.967Z"
   },
   {
    "duration": 208,
    "start_time": "2023-03-20T21:46:13.189Z"
   },
   {
    "duration": 210,
    "start_time": "2023-03-20T21:46:13.403Z"
   },
   {
    "duration": 6,
    "start_time": "2023-03-20T21:46:13.615Z"
   },
   {
    "duration": 15,
    "start_time": "2023-03-20T21:46:13.622Z"
   },
   {
    "duration": 151,
    "start_time": "2023-03-20T21:46:13.638Z"
   },
   {
    "duration": 145,
    "start_time": "2023-03-20T21:46:13.791Z"
   },
   {
    "duration": 135,
    "start_time": "2023-03-20T21:46:13.938Z"
   },
   {
    "duration": 40,
    "start_time": "2023-03-20T21:46:14.075Z"
   },
   {
    "duration": 153,
    "start_time": "2023-03-20T21:46:14.117Z"
   },
   {
    "duration": 173,
    "start_time": "2023-03-20T21:46:14.272Z"
   },
   {
    "duration": 147,
    "start_time": "2023-03-20T21:46:14.447Z"
   },
   {
    "duration": 27,
    "start_time": "2023-03-20T21:46:14.596Z"
   },
   {
    "duration": 335,
    "start_time": "2023-03-20T21:46:14.625Z"
   },
   {
    "duration": 76,
    "start_time": "2023-03-20T21:46:23.320Z"
   },
   {
    "duration": 8,
    "start_time": "2023-03-20T21:46:35.435Z"
   },
   {
    "duration": 13,
    "start_time": "2023-03-20T21:46:50.153Z"
   },
   {
    "duration": 51,
    "start_time": "2023-03-20T21:47:04.306Z"
   },
   {
    "duration": 28,
    "start_time": "2023-03-20T21:49:45.444Z"
   },
   {
    "duration": 25,
    "start_time": "2023-03-20T21:49:51.345Z"
   },
   {
    "duration": 26,
    "start_time": "2023-03-20T21:50:26.299Z"
   },
   {
    "duration": 6,
    "start_time": "2023-03-20T22:01:45.423Z"
   },
   {
    "duration": 149,
    "start_time": "2023-03-20T22:05:17.025Z"
   },
   {
    "duration": 1234,
    "start_time": "2023-03-21T04:14:03.637Z"
   },
   {
    "duration": 43,
    "start_time": "2023-03-21T04:14:04.873Z"
   },
   {
    "duration": 3748,
    "start_time": "2023-03-21T04:14:04.919Z"
   },
   {
    "duration": 13,
    "start_time": "2023-03-21T04:14:08.671Z"
   },
   {
    "duration": 77,
    "start_time": "2023-03-21T04:14:08.688Z"
   },
   {
    "duration": 9,
    "start_time": "2023-03-21T04:14:08.767Z"
   },
   {
    "duration": 9,
    "start_time": "2023-03-21T04:14:08.780Z"
   },
   {
    "duration": 16,
    "start_time": "2023-03-21T04:14:08.791Z"
   },
   {
    "duration": 74,
    "start_time": "2023-03-21T04:14:08.809Z"
   },
   {
    "duration": 6,
    "start_time": "2023-03-21T04:14:08.886Z"
   },
   {
    "duration": 25,
    "start_time": "2023-03-21T04:14:08.894Z"
   },
   {
    "duration": 4,
    "start_time": "2023-03-21T04:14:08.920Z"
   },
   {
    "duration": 10,
    "start_time": "2023-03-21T04:14:08.944Z"
   },
   {
    "duration": 20,
    "start_time": "2023-03-21T04:14:08.956Z"
   },
   {
    "duration": 13,
    "start_time": "2023-03-21T04:14:08.980Z"
   },
   {
    "duration": 31,
    "start_time": "2023-03-21T04:14:08.994Z"
   },
   {
    "duration": 28,
    "start_time": "2023-03-21T04:14:09.028Z"
   },
   {
    "duration": 20,
    "start_time": "2023-03-21T04:14:09.063Z"
   },
   {
    "duration": 27,
    "start_time": "2023-03-21T04:14:09.085Z"
   },
   {
    "duration": 6,
    "start_time": "2023-03-21T04:14:09.114Z"
   },
   {
    "duration": 11000,
    "start_time": "2023-03-21T04:14:09.122Z"
   },
   {
    "duration": 40,
    "start_time": "2023-03-21T04:14:20.124Z"
   },
   {
    "duration": 27,
    "start_time": "2023-03-21T04:14:20.167Z"
   },
   {
    "duration": 15,
    "start_time": "2023-03-21T04:14:20.196Z"
   },
   {
    "duration": 163,
    "start_time": "2023-03-21T04:14:20.213Z"
   },
   {
    "duration": 5,
    "start_time": "2023-03-21T04:14:20.378Z"
   },
   {
    "duration": 21,
    "start_time": "2023-03-21T04:14:20.385Z"
   },
   {
    "duration": 103,
    "start_time": "2023-03-21T04:14:20.411Z"
   },
   {
    "duration": 57,
    "start_time": "2023-03-21T04:14:20.516Z"
   },
   {
    "duration": 29,
    "start_time": "2023-03-21T04:14:20.575Z"
   },
   {
    "duration": 20,
    "start_time": "2023-03-21T04:14:20.606Z"
   },
   {
    "duration": 25,
    "start_time": "2023-03-21T04:14:20.643Z"
   },
   {
    "duration": 450,
    "start_time": "2023-03-21T04:14:20.672Z"
   },
   {
    "duration": 42,
    "start_time": "2023-03-21T04:14:21.124Z"
   },
   {
    "duration": 310,
    "start_time": "2023-03-21T04:14:21.169Z"
   },
   {
    "duration": 274,
    "start_time": "2023-03-21T04:14:21.482Z"
   },
   {
    "duration": 200,
    "start_time": "2023-03-21T04:14:21.758Z"
   },
   {
    "duration": 311,
    "start_time": "2023-03-21T04:14:21.960Z"
   },
   {
    "duration": 241,
    "start_time": "2023-03-21T04:14:22.273Z"
   },
   {
    "duration": 217,
    "start_time": "2023-03-21T04:14:22.516Z"
   },
   {
    "duration": 176,
    "start_time": "2023-03-21T04:14:22.740Z"
   },
   {
    "duration": 129,
    "start_time": "2023-03-21T04:14:22.918Z"
   },
   {
    "duration": 209,
    "start_time": "2023-03-21T04:14:23.049Z"
   },
   {
    "duration": 157,
    "start_time": "2023-03-21T04:14:23.260Z"
   },
   {
    "duration": 169,
    "start_time": "2023-03-21T04:14:23.419Z"
   },
   {
    "duration": 186,
    "start_time": "2023-03-21T04:14:23.590Z"
   },
   {
    "duration": 124,
    "start_time": "2023-03-21T04:14:23.778Z"
   },
   {
    "duration": 138,
    "start_time": "2023-03-21T04:14:23.904Z"
   },
   {
    "duration": 325,
    "start_time": "2023-03-21T04:14:24.045Z"
   },
   {
    "duration": 8,
    "start_time": "2023-03-21T04:14:24.372Z"
   },
   {
    "duration": 18,
    "start_time": "2023-03-21T04:14:24.382Z"
   },
   {
    "duration": 227,
    "start_time": "2023-03-21T04:14:24.402Z"
   },
   {
    "duration": 220,
    "start_time": "2023-03-21T04:14:24.641Z"
   },
   {
    "duration": 211,
    "start_time": "2023-03-21T04:14:24.863Z"
   },
   {
    "duration": 7,
    "start_time": "2023-03-21T04:14:25.076Z"
   },
   {
    "duration": 17,
    "start_time": "2023-03-21T04:14:25.085Z"
   },
   {
    "duration": 170,
    "start_time": "2023-03-21T04:14:25.104Z"
   },
   {
    "duration": 147,
    "start_time": "2023-03-21T04:14:25.276Z"
   },
   {
    "duration": 139,
    "start_time": "2023-03-21T04:14:25.425Z"
   },
   {
    "duration": 33,
    "start_time": "2023-03-21T04:14:25.566Z"
   },
   {
    "duration": 192,
    "start_time": "2023-03-21T04:14:25.600Z"
   },
   {
    "duration": 247,
    "start_time": "2023-03-21T04:14:25.794Z"
   },
   {
    "duration": 181,
    "start_time": "2023-03-21T04:14:26.043Z"
   },
   {
    "duration": 38,
    "start_time": "2023-03-21T04:14:26.225Z"
   },
   {
    "duration": 367,
    "start_time": "2023-03-21T04:14:26.264Z"
   }
  ],
  "kernelspec": {
   "display_name": "Python 3 (ipykernel)",
   "language": "python",
   "name": "python3"
  },
  "language_info": {
   "codemirror_mode": {
    "name": "ipython",
    "version": 3
   },
   "file_extension": ".py",
   "mimetype": "text/x-python",
   "name": "python",
   "nbconvert_exporter": "python",
   "pygments_lexer": "ipython3",
   "version": "3.9.5"
  },
  "toc": {
   "base_numbering": 1,
   "nav_menu": {
    "height": "587px",
    "width": "408px"
   },
   "number_sections": true,
   "sideBar": true,
   "skip_h1_title": true,
   "title_cell": "Table of Contents",
   "title_sidebar": "Contents",
   "toc_cell": false,
   "toc_position": {
    "height": "calc(100% - 180px)",
    "left": "10px",
    "top": "150px",
    "width": "366.2px"
   },
   "toc_section_display": true,
   "toc_window_display": false
  },
  "vscode": {
   "interpreter": {
    "hash": "aee8b7b246df8f9039afb4144a1f6fd8d2ca17a180786b69acc140d282b71a49"
   }
  }
 },
 "nbformat": 4,
 "nbformat_minor": 2
}
