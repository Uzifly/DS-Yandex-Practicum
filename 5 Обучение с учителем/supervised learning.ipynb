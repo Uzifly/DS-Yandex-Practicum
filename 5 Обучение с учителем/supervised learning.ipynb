{
 "cells": [
  {
   "cell_type": "markdown",
   "metadata": {},
   "source": [
    "<h1>Содержание<span class=\"tocSkip\"></span></h1>\n",
    "<div class=\"toc\"><ul class=\"toc-item\"><li><span><a href=\"#Подготовка-данных\" data-toc-modified-id=\"Подготовка-данных-1\"><span class=\"toc-item-num\">1&nbsp;&nbsp;</span>Подготовка данных</a></span></li><li><span><a href=\"#Исследование-задачи\" data-toc-modified-id=\"Исследование-задачи-2\"><span class=\"toc-item-num\">2&nbsp;&nbsp;</span>Исследование задачи</a></span></li><li><span><a href=\"#Борьба-с-дисбалансом\" data-toc-modified-id=\"Борьба-с-дисбалансом-3\"><span class=\"toc-item-num\">3&nbsp;&nbsp;</span>Борьба с дисбалансом</a></span></li><li><span><a href=\"#Тестирование-модели\" data-toc-modified-id=\"Тестирование-модели-4\"><span class=\"toc-item-num\">4&nbsp;&nbsp;</span>Тестирование модели</a></span></li><li><span><a href=\"#Чек-лист-готовности-проекта\" data-toc-modified-id=\"Чек-лист-готовности-проекта-5\"><span class=\"toc-item-num\">5&nbsp;&nbsp;</span>Чек-лист готовности проекта</a></span></li></ul></div>"
   ]
  },
  {
   "cell_type": "markdown",
   "metadata": {},
   "source": [
    "# Отток клиентов"
   ]
  },
  {
   "cell_type": "markdown",
   "metadata": {},
   "source": [
    "Из «Бета-Банка» стали уходить клиенты. Каждый месяц. Немного, но заметно. Банковские маркетологи посчитали: сохранять текущих клиентов дешевле, чем привлекать новых.\n",
    "\n",
    "Нужно спрогнозировать, уйдёт клиент из банка в ближайшее время или нет. Вам предоставлены исторические данные о поведении клиентов и расторжении договоров с банком. \n",
    "\n",
    "Постройте модель с предельно большим значением *F1*-меры. Чтобы сдать проект успешно, нужно довести метрику до 0.59. Проверьте *F1*-меру на тестовой выборке самостоятельно.\n",
    "\n",
    "Дополнительно измеряйте *AUC-ROC*, сравнивайте её значение с *F1*-мерой.\n",
    "\n",
    "Источник данных: [https://www.kaggle.com/barelydedicated/bank-customer-churn-modeling](https://www.kaggle.com/barelydedicated/bank-customer-churn-modeling)"
   ]
  },
  {
   "cell_type": "code",
   "execution_count": 1,
   "metadata": {},
   "outputs": [],
   "source": [
    "import pandas as pd\n",
    "import numpy as np\n",
    "import sklearn as sk\n",
    "import matplotlib.pyplot as plt\n",
    "\n",
    "from sklearn.experimental import enable_halving_search_cv\n",
    "from sklearn.impute import KNNImputer\n",
    "from sklearn.preprocessing import StandardScaler, OneHotEncoder\n",
    "from sklearn.tree import DecisionTreeClassifier\n",
    "from sklearn.ensemble import RandomForestClassifier\n",
    "from sklearn.linear_model import LogisticRegression, LinearRegression\n",
    "from sklearn.model_selection import GridSearchCV, HalvingGridSearchCV, train_test_split\n",
    "from sklearn.metrics import roc_auc_score, f1_score\n",
    "from sklearn.utils import shuffle\n",
    "\n",
    "\n",
    "RND_SEED = 12345\n",
    "FAST_MODE = False\n",
    "# Включенный FAST_MODE будет обучать модели без перебора параметров, \n",
    "# используя заранее определенный набор, результат дает хуже, но не нужно ждать.\n",
    "# Если есть время на обучение (20 мин на 8 потоках) то можно перевести в False\n"
   ]
  },
  {
   "cell_type": "markdown",
   "metadata": {},
   "source": [
    "## Подготовка данных"
   ]
  },
  {
   "cell_type": "code",
   "execution_count": 2,
   "metadata": {},
   "outputs": [],
   "source": [
    "try:\n",
    "    data = pd.read_csv('/Users/evgeniu/Desktop/Education/Practicum/Churn.csv')\n",
    "except:\n",
    "    data = pd.read_csv('https://code.s3.yandex.net/datasets/Churn.csv')"
   ]
  },
  {
   "cell_type": "code",
   "execution_count": 3,
   "metadata": {},
   "outputs": [
    {
     "name": "stdout",
     "output_type": "stream",
     "text": [
      "<class 'pandas.core.frame.DataFrame'>\n",
      "RangeIndex: 10000 entries, 0 to 9999\n",
      "Data columns (total 14 columns):\n",
      " #   Column           Non-Null Count  Dtype  \n",
      "---  ------           --------------  -----  \n",
      " 0   RowNumber        10000 non-null  int64  \n",
      " 1   CustomerId       10000 non-null  int64  \n",
      " 2   Surname          10000 non-null  object \n",
      " 3   CreditScore      10000 non-null  int64  \n",
      " 4   Geography        10000 non-null  object \n",
      " 5   Gender           10000 non-null  object \n",
      " 6   Age              10000 non-null  int64  \n",
      " 7   Tenure           9091 non-null   float64\n",
      " 8   Balance          10000 non-null  float64\n",
      " 9   NumOfProducts    10000 non-null  int64  \n",
      " 10  HasCrCard        10000 non-null  int64  \n",
      " 11  IsActiveMember   10000 non-null  int64  \n",
      " 12  EstimatedSalary  10000 non-null  float64\n",
      " 13  Exited           10000 non-null  int64  \n",
      "dtypes: float64(3), int64(8), object(3)\n",
      "memory usage: 1.1+ MB\n"
     ]
    }
   ],
   "source": [
    "data.info()"
   ]
  },
  {
   "cell_type": "code",
   "execution_count": 4,
   "metadata": {},
   "outputs": [
    {
     "data": {
      "text/html": [
       "<div>\n",
       "<style scoped>\n",
       "    .dataframe tbody tr th:only-of-type {\n",
       "        vertical-align: middle;\n",
       "    }\n",
       "\n",
       "    .dataframe tbody tr th {\n",
       "        vertical-align: top;\n",
       "    }\n",
       "\n",
       "    .dataframe thead th {\n",
       "        text-align: right;\n",
       "    }\n",
       "</style>\n",
       "<table border=\"1\" class=\"dataframe\">\n",
       "  <thead>\n",
       "    <tr style=\"text-align: right;\">\n",
       "      <th></th>\n",
       "      <th>RowNumber</th>\n",
       "      <th>CustomerId</th>\n",
       "      <th>Surname</th>\n",
       "      <th>CreditScore</th>\n",
       "      <th>Geography</th>\n",
       "      <th>Gender</th>\n",
       "      <th>Age</th>\n",
       "      <th>Tenure</th>\n",
       "      <th>Balance</th>\n",
       "      <th>NumOfProducts</th>\n",
       "      <th>HasCrCard</th>\n",
       "      <th>IsActiveMember</th>\n",
       "      <th>EstimatedSalary</th>\n",
       "      <th>Exited</th>\n",
       "    </tr>\n",
       "  </thead>\n",
       "  <tbody>\n",
       "    <tr>\n",
       "      <th>0</th>\n",
       "      <td>1</td>\n",
       "      <td>15634602</td>\n",
       "      <td>Hargrave</td>\n",
       "      <td>619</td>\n",
       "      <td>France</td>\n",
       "      <td>Female</td>\n",
       "      <td>42</td>\n",
       "      <td>2.0</td>\n",
       "      <td>0.00</td>\n",
       "      <td>1</td>\n",
       "      <td>1</td>\n",
       "      <td>1</td>\n",
       "      <td>101348.88</td>\n",
       "      <td>1</td>\n",
       "    </tr>\n",
       "    <tr>\n",
       "      <th>1</th>\n",
       "      <td>2</td>\n",
       "      <td>15647311</td>\n",
       "      <td>Hill</td>\n",
       "      <td>608</td>\n",
       "      <td>Spain</td>\n",
       "      <td>Female</td>\n",
       "      <td>41</td>\n",
       "      <td>1.0</td>\n",
       "      <td>83807.86</td>\n",
       "      <td>1</td>\n",
       "      <td>0</td>\n",
       "      <td>1</td>\n",
       "      <td>112542.58</td>\n",
       "      <td>0</td>\n",
       "    </tr>\n",
       "    <tr>\n",
       "      <th>2</th>\n",
       "      <td>3</td>\n",
       "      <td>15619304</td>\n",
       "      <td>Onio</td>\n",
       "      <td>502</td>\n",
       "      <td>France</td>\n",
       "      <td>Female</td>\n",
       "      <td>42</td>\n",
       "      <td>8.0</td>\n",
       "      <td>159660.80</td>\n",
       "      <td>3</td>\n",
       "      <td>1</td>\n",
       "      <td>0</td>\n",
       "      <td>113931.57</td>\n",
       "      <td>1</td>\n",
       "    </tr>\n",
       "    <tr>\n",
       "      <th>3</th>\n",
       "      <td>4</td>\n",
       "      <td>15701354</td>\n",
       "      <td>Boni</td>\n",
       "      <td>699</td>\n",
       "      <td>France</td>\n",
       "      <td>Female</td>\n",
       "      <td>39</td>\n",
       "      <td>1.0</td>\n",
       "      <td>0.00</td>\n",
       "      <td>2</td>\n",
       "      <td>0</td>\n",
       "      <td>0</td>\n",
       "      <td>93826.63</td>\n",
       "      <td>0</td>\n",
       "    </tr>\n",
       "    <tr>\n",
       "      <th>4</th>\n",
       "      <td>5</td>\n",
       "      <td>15737888</td>\n",
       "      <td>Mitchell</td>\n",
       "      <td>850</td>\n",
       "      <td>Spain</td>\n",
       "      <td>Female</td>\n",
       "      <td>43</td>\n",
       "      <td>2.0</td>\n",
       "      <td>125510.82</td>\n",
       "      <td>1</td>\n",
       "      <td>1</td>\n",
       "      <td>1</td>\n",
       "      <td>79084.10</td>\n",
       "      <td>0</td>\n",
       "    </tr>\n",
       "  </tbody>\n",
       "</table>\n",
       "</div>"
      ],
      "text/plain": [
       "   RowNumber  CustomerId   Surname  CreditScore Geography  Gender  Age  \\\n",
       "0          1    15634602  Hargrave          619    France  Female   42   \n",
       "1          2    15647311      Hill          608     Spain  Female   41   \n",
       "2          3    15619304      Onio          502    France  Female   42   \n",
       "3          4    15701354      Boni          699    France  Female   39   \n",
       "4          5    15737888  Mitchell          850     Spain  Female   43   \n",
       "\n",
       "   Tenure    Balance  NumOfProducts  HasCrCard  IsActiveMember  \\\n",
       "0     2.0       0.00              1          1               1   \n",
       "1     1.0   83807.86              1          0               1   \n",
       "2     8.0  159660.80              3          1               0   \n",
       "3     1.0       0.00              2          0               0   \n",
       "4     2.0  125510.82              1          1               1   \n",
       "\n",
       "   EstimatedSalary  Exited  \n",
       "0        101348.88       1  \n",
       "1        112542.58       0  \n",
       "2        113931.57       1  \n",
       "3         93826.63       0  \n",
       "4         79084.10       0  "
      ]
     },
     "execution_count": 4,
     "metadata": {},
     "output_type": "execute_result"
    }
   ],
   "source": [
    "data.head(5)"
   ]
  },
  {
   "cell_type": "code",
   "execution_count": 5,
   "metadata": {},
   "outputs": [
    {
     "data": {
      "text/plain": [
       "2037"
      ]
     },
     "execution_count": 5,
     "metadata": {},
     "output_type": "execute_result"
    }
   ],
   "source": [
    "data['Exited'].sum()"
   ]
  },
  {
   "cell_type": "markdown",
   "metadata": {},
   "source": [
    "У нас есть 10к строк с клиентами банка, 2к из которых ушли."
   ]
  },
  {
   "cell_type": "code",
   "execution_count": 6,
   "metadata": {},
   "outputs": [
    {
     "data": {
      "text/plain": [
       "RowNumber            0\n",
       "CustomerId           0\n",
       "Surname              0\n",
       "CreditScore          0\n",
       "Geography            0\n",
       "Gender               0\n",
       "Age                  0\n",
       "Tenure             909\n",
       "Balance              0\n",
       "NumOfProducts        0\n",
       "HasCrCard            0\n",
       "IsActiveMember       0\n",
       "EstimatedSalary      0\n",
       "Exited               0\n",
       "dtype: int64"
      ]
     },
     "execution_count": 6,
     "metadata": {},
     "output_type": "execute_result"
    }
   ],
   "source": [
    "data.isna().sum()"
   ]
  },
  {
   "cell_type": "code",
   "execution_count": 7,
   "metadata": {},
   "outputs": [
    {
     "data": {
      "text/html": [
       "<div>\n",
       "<style scoped>\n",
       "    .dataframe tbody tr th:only-of-type {\n",
       "        vertical-align: middle;\n",
       "    }\n",
       "\n",
       "    .dataframe tbody tr th {\n",
       "        vertical-align: top;\n",
       "    }\n",
       "\n",
       "    .dataframe thead th {\n",
       "        text-align: right;\n",
       "    }\n",
       "</style>\n",
       "<table border=\"1\" class=\"dataframe\">\n",
       "  <thead>\n",
       "    <tr style=\"text-align: right;\">\n",
       "      <th></th>\n",
       "      <th>RowNumber</th>\n",
       "      <th>CustomerId</th>\n",
       "      <th>Surname</th>\n",
       "      <th>CreditScore</th>\n",
       "      <th>Geography</th>\n",
       "      <th>Gender</th>\n",
       "      <th>Age</th>\n",
       "      <th>Tenure</th>\n",
       "      <th>Balance</th>\n",
       "      <th>NumOfProducts</th>\n",
       "      <th>HasCrCard</th>\n",
       "      <th>IsActiveMember</th>\n",
       "      <th>EstimatedSalary</th>\n",
       "      <th>Exited</th>\n",
       "    </tr>\n",
       "  </thead>\n",
       "  <tbody>\n",
       "    <tr>\n",
       "      <th>30</th>\n",
       "      <td>31</td>\n",
       "      <td>15589475</td>\n",
       "      <td>Azikiwe</td>\n",
       "      <td>591</td>\n",
       "      <td>Spain</td>\n",
       "      <td>Female</td>\n",
       "      <td>39</td>\n",
       "      <td>NaN</td>\n",
       "      <td>0.00</td>\n",
       "      <td>3</td>\n",
       "      <td>1</td>\n",
       "      <td>0</td>\n",
       "      <td>140469.38</td>\n",
       "      <td>1</td>\n",
       "    </tr>\n",
       "    <tr>\n",
       "      <th>53</th>\n",
       "      <td>54</td>\n",
       "      <td>15702298</td>\n",
       "      <td>Parkhill</td>\n",
       "      <td>655</td>\n",
       "      <td>Germany</td>\n",
       "      <td>Male</td>\n",
       "      <td>41</td>\n",
       "      <td>NaN</td>\n",
       "      <td>125561.97</td>\n",
       "      <td>1</td>\n",
       "      <td>0</td>\n",
       "      <td>0</td>\n",
       "      <td>164040.94</td>\n",
       "      <td>1</td>\n",
       "    </tr>\n",
       "    <tr>\n",
       "      <th>125</th>\n",
       "      <td>126</td>\n",
       "      <td>15627360</td>\n",
       "      <td>Fuller</td>\n",
       "      <td>432</td>\n",
       "      <td>France</td>\n",
       "      <td>Male</td>\n",
       "      <td>42</td>\n",
       "      <td>NaN</td>\n",
       "      <td>152603.45</td>\n",
       "      <td>1</td>\n",
       "      <td>1</td>\n",
       "      <td>0</td>\n",
       "      <td>110265.24</td>\n",
       "      <td>1</td>\n",
       "    </tr>\n",
       "    <tr>\n",
       "      <th>237</th>\n",
       "      <td>238</td>\n",
       "      <td>15764866</td>\n",
       "      <td>Synnot</td>\n",
       "      <td>539</td>\n",
       "      <td>Germany</td>\n",
       "      <td>Female</td>\n",
       "      <td>43</td>\n",
       "      <td>NaN</td>\n",
       "      <td>116220.50</td>\n",
       "      <td>3</td>\n",
       "      <td>1</td>\n",
       "      <td>0</td>\n",
       "      <td>55803.96</td>\n",
       "      <td>1</td>\n",
       "    </tr>\n",
       "    <tr>\n",
       "      <th>357</th>\n",
       "      <td>358</td>\n",
       "      <td>15661629</td>\n",
       "      <td>Ricci</td>\n",
       "      <td>522</td>\n",
       "      <td>Spain</td>\n",
       "      <td>Male</td>\n",
       "      <td>34</td>\n",
       "      <td>NaN</td>\n",
       "      <td>126436.29</td>\n",
       "      <td>1</td>\n",
       "      <td>1</td>\n",
       "      <td>0</td>\n",
       "      <td>174248.52</td>\n",
       "      <td>1</td>\n",
       "    </tr>\n",
       "    <tr>\n",
       "      <th>...</th>\n",
       "      <td>...</td>\n",
       "      <td>...</td>\n",
       "      <td>...</td>\n",
       "      <td>...</td>\n",
       "      <td>...</td>\n",
       "      <td>...</td>\n",
       "      <td>...</td>\n",
       "      <td>...</td>\n",
       "      <td>...</td>\n",
       "      <td>...</td>\n",
       "      <td>...</td>\n",
       "      <td>...</td>\n",
       "      <td>...</td>\n",
       "      <td>...</td>\n",
       "    </tr>\n",
       "    <tr>\n",
       "      <th>9337</th>\n",
       "      <td>9338</td>\n",
       "      <td>15797751</td>\n",
       "      <td>Pai</td>\n",
       "      <td>466</td>\n",
       "      <td>Germany</td>\n",
       "      <td>Female</td>\n",
       "      <td>47</td>\n",
       "      <td>NaN</td>\n",
       "      <td>102085.72</td>\n",
       "      <td>1</td>\n",
       "      <td>1</td>\n",
       "      <td>1</td>\n",
       "      <td>183536.24</td>\n",
       "      <td>1</td>\n",
       "    </tr>\n",
       "    <tr>\n",
       "      <th>9466</th>\n",
       "      <td>9467</td>\n",
       "      <td>15592716</td>\n",
       "      <td>Clarke</td>\n",
       "      <td>559</td>\n",
       "      <td>France</td>\n",
       "      <td>Male</td>\n",
       "      <td>52</td>\n",
       "      <td>NaN</td>\n",
       "      <td>0.00</td>\n",
       "      <td>1</td>\n",
       "      <td>1</td>\n",
       "      <td>0</td>\n",
       "      <td>129013.59</td>\n",
       "      <td>1</td>\n",
       "    </tr>\n",
       "    <tr>\n",
       "      <th>9652</th>\n",
       "      <td>9653</td>\n",
       "      <td>15726720</td>\n",
       "      <td>Blinova</td>\n",
       "      <td>480</td>\n",
       "      <td>France</td>\n",
       "      <td>Female</td>\n",
       "      <td>40</td>\n",
       "      <td>NaN</td>\n",
       "      <td>0.00</td>\n",
       "      <td>1</td>\n",
       "      <td>1</td>\n",
       "      <td>0</td>\n",
       "      <td>170332.67</td>\n",
       "      <td>1</td>\n",
       "    </tr>\n",
       "    <tr>\n",
       "      <th>9858</th>\n",
       "      <td>9859</td>\n",
       "      <td>15619514</td>\n",
       "      <td>Bull</td>\n",
       "      <td>507</td>\n",
       "      <td>Germany</td>\n",
       "      <td>Male</td>\n",
       "      <td>40</td>\n",
       "      <td>NaN</td>\n",
       "      <td>120105.43</td>\n",
       "      <td>1</td>\n",
       "      <td>1</td>\n",
       "      <td>0</td>\n",
       "      <td>92075.01</td>\n",
       "      <td>1</td>\n",
       "    </tr>\n",
       "    <tr>\n",
       "      <th>9956</th>\n",
       "      <td>9957</td>\n",
       "      <td>15707861</td>\n",
       "      <td>Nucci</td>\n",
       "      <td>520</td>\n",
       "      <td>France</td>\n",
       "      <td>Female</td>\n",
       "      <td>46</td>\n",
       "      <td>NaN</td>\n",
       "      <td>85216.61</td>\n",
       "      <td>1</td>\n",
       "      <td>1</td>\n",
       "      <td>0</td>\n",
       "      <td>117369.52</td>\n",
       "      <td>1</td>\n",
       "    </tr>\n",
       "  </tbody>\n",
       "</table>\n",
       "<p>183 rows × 14 columns</p>\n",
       "</div>"
      ],
      "text/plain": [
       "      RowNumber  CustomerId   Surname  CreditScore Geography  Gender  Age  \\\n",
       "30           31    15589475   Azikiwe          591     Spain  Female   39   \n",
       "53           54    15702298  Parkhill          655   Germany    Male   41   \n",
       "125         126    15627360    Fuller          432    France    Male   42   \n",
       "237         238    15764866    Synnot          539   Germany  Female   43   \n",
       "357         358    15661629     Ricci          522     Spain    Male   34   \n",
       "...         ...         ...       ...          ...       ...     ...  ...   \n",
       "9337       9338    15797751       Pai          466   Germany  Female   47   \n",
       "9466       9467    15592716    Clarke          559    France    Male   52   \n",
       "9652       9653    15726720   Blinova          480    France  Female   40   \n",
       "9858       9859    15619514      Bull          507   Germany    Male   40   \n",
       "9956       9957    15707861     Nucci          520    France  Female   46   \n",
       "\n",
       "      Tenure    Balance  NumOfProducts  HasCrCard  IsActiveMember  \\\n",
       "30       NaN       0.00              3          1               0   \n",
       "53       NaN  125561.97              1          0               0   \n",
       "125      NaN  152603.45              1          1               0   \n",
       "237      NaN  116220.50              3          1               0   \n",
       "357      NaN  126436.29              1          1               0   \n",
       "...      ...        ...            ...        ...             ...   \n",
       "9337     NaN  102085.72              1          1               1   \n",
       "9466     NaN       0.00              1          1               0   \n",
       "9652     NaN       0.00              1          1               0   \n",
       "9858     NaN  120105.43              1          1               0   \n",
       "9956     NaN   85216.61              1          1               0   \n",
       "\n",
       "      EstimatedSalary  Exited  \n",
       "30          140469.38       1  \n",
       "53          164040.94       1  \n",
       "125         110265.24       1  \n",
       "237          55803.96       1  \n",
       "357         174248.52       1  \n",
       "...               ...     ...  \n",
       "9337        183536.24       1  \n",
       "9466        129013.59       1  \n",
       "9652        170332.67       1  \n",
       "9858         92075.01       1  \n",
       "9956        117369.52       1  \n",
       "\n",
       "[183 rows x 14 columns]"
      ]
     },
     "execution_count": 7,
     "metadata": {},
     "output_type": "execute_result"
    }
   ],
   "source": [
    "data[data['Tenure'].isna() & data['Exited'] == 1]"
   ]
  },
  {
   "cell_type": "markdown",
   "metadata": {},
   "source": [
    "Среди данных есть 909 пропусков в Tenure, 183 из них ушли"
   ]
  },
  {
   "cell_type": "code",
   "execution_count": 8,
   "metadata": {},
   "outputs": [
    {
     "data": {
      "text/plain": [
       "4.901833872707659"
      ]
     },
     "metadata": {},
     "output_type": "display_data"
    },
    {
     "data": {
      "text/plain": [
       "5.022246787342822"
      ]
     },
     "metadata": {},
     "output_type": "display_data"
    }
   ],
   "source": [
    "display(data[data['Exited'] == 1]['Tenure'].mean(), data[data['Exited'] == 0]['Tenure'].mean())"
   ]
  },
  {
   "cell_type": "code",
   "execution_count": 9,
   "metadata": {},
   "outputs": [
    {
     "data": {
      "image/png": "[encoded data removed]",
      "text/plain": [
       "<Figure size 640x480 with 1 Axes>"
      ]
     },
     "metadata": {},
     "output_type": "display_data"
    }
   ],
   "source": [
    "data.pivot_table(index='Tenure', values=['CustomerId', 'Exited'], aggfunc={'CustomerId': 'count', 'Exited': 'sum'}).plot(kind='bar');"
   ]
  },
  {
   "cell_type": "markdown",
   "metadata": {},
   "source": [
    "По гистограмме видно, что клиенты уходят не зависимо от времени работы с банком. Распределение равномерное. Удалять строки не хочется, это 10%. Заполнение усредненным единым значением даст сильный всплеск в распределении. Для заполнения пропусков можно использовать метод линейной регрессии. К нему я вернусь после подготовки данных. "
   ]
  },
  {
   "cell_type": "code",
   "execution_count": 10,
   "metadata": {},
   "outputs": [
    {
     "data": {
      "text/plain": [
       "0"
      ]
     },
     "execution_count": 10,
     "metadata": {},
     "output_type": "execute_result"
    }
   ],
   "source": [
    "data.duplicated().sum()"
   ]
  },
  {
   "cell_type": "markdown",
   "metadata": {},
   "source": [
    "## Исследование задачи"
   ]
  },
  {
   "cell_type": "code",
   "execution_count": 11,
   "metadata": {},
   "outputs": [
    {
     "data": {
      "text/plain": [
       "2932"
      ]
     },
     "execution_count": 11,
     "metadata": {},
     "output_type": "execute_result"
    }
   ],
   "source": [
    "len(data['Surname'].unique())"
   ]
  },
  {
   "cell_type": "markdown",
   "metadata": {},
   "source": [
    "3000 уникальных фамилии. Для модели эти записи ничего не значат."
   ]
  },
  {
   "cell_type": "code",
   "execution_count": 12,
   "metadata": {},
   "outputs": [
    {
     "data": {
      "image/png": "[encoded data removed]",
      "text/plain": [
       "<Figure size 640x480 with 1 Axes>"
      ]
     },
     "metadata": {},
     "output_type": "display_data"
    }
   ],
   "source": [
    "data.groupby(['CreditScore'])['CustomerId'].count().plot();"
   ]
  },
  {
   "cell_type": "markdown",
   "metadata": {},
   "source": [
    "Здесь что-то невнятное по рейтингу у 900"
   ]
  },
  {
   "cell_type": "code",
   "execution_count": 13,
   "metadata": {},
   "outputs": [
    {
     "data": {
      "text/plain": [
       "CreditScore\n",
       "850    233\n",
       "678     63\n",
       "655     54\n",
       "705     53\n",
       "667     53\n",
       "684     52\n",
       "651     50\n",
       "670     50\n",
       "648     48\n",
       "660     48\n",
       "Name: CustomerId, dtype: int64"
      ]
     },
     "execution_count": 13,
     "metadata": {},
     "output_type": "execute_result"
    }
   ],
   "source": [
    "data.groupby(['CreditScore'])['CustomerId'].count().sort_values(ascending=False).head(10)"
   ]
  },
  {
   "cell_type": "markdown",
   "metadata": {},
   "source": [
    "Кто-то подкрутил клиентам банка рейтинг. Взглянем на этих \"любимчиков\" банка."
   ]
  },
  {
   "cell_type": "code",
   "execution_count": 14,
   "metadata": {},
   "outputs": [
    {
     "data": {
      "text/plain": [
       "Balance            78718.993219\n",
       "NumOfProducts          1.515021\n",
       "HasCrCard              0.699571\n",
       "IsActiveMember         0.549356\n",
       "EstimatedSalary    95919.323777\n",
       "Exited                 0.184549\n",
       "dtype: float64"
      ]
     },
     "execution_count": 14,
     "metadata": {},
     "output_type": "execute_result"
    }
   ],
   "source": [
    "data[data['CreditScore'] == 850].iloc[:, -6:].sum()/data[data['CreditScore'] == 850].iloc[:, -6:].count()"
   ]
  },
  {
   "cell_type": "code",
   "execution_count": 15,
   "metadata": {},
   "outputs": [
    {
     "data": {
      "text/plain": [
       "Balance             76485.889288\n",
       "NumOfProducts           1.530200\n",
       "HasCrCard               0.705500\n",
       "IsActiveMember          0.515100\n",
       "EstimatedSalary    100090.239881\n",
       "Exited                  0.203700\n",
       "dtype: float64"
      ]
     },
     "execution_count": 15,
     "metadata": {},
     "output_type": "execute_result"
    }
   ],
   "source": [
    "data.iloc[:, -6:].sum()/data.iloc[:, -6:].count()"
   ]
  },
  {
   "cell_type": "markdown",
   "metadata": {},
   "source": [
    "Клинты с рейтингом 850 не отличаются от всех остальных, это просто люди с идеальной кредитной историей"
   ]
  },
  {
   "cell_type": "code",
   "execution_count": 18,
   "metadata": {},
   "outputs": [
    {
     "data": {
      "image/png": "[encoded data removed]",
      "text/plain": [
       "<Figure size 640x480 with 1 Axes>"
      ]
     },
     "metadata": {},
     "output_type": "display_data"
    }
   ],
   "source": [
    "data.groupby(['CreditScore'])['CustomerId'].count().plot();"
   ]
  },
  {
   "cell_type": "code",
   "execution_count": 19,
   "metadata": {},
   "outputs": [
    {
     "data": {
      "image/png": "[encoded data removed]",
      "text/plain": [
       "<Figure size 640x480 with 1 Axes>"
      ]
     },
     "metadata": {},
     "output_type": "display_data"
    }
   ],
   "source": [
    "data.pivot_table(index='Geography', values=['CustomerId', 'Exited'], \n",
    "                 aggfunc={'CustomerId': 'count', 'Exited': 'sum'})\\\n",
    "                .plot(kind='bar', legend=None);"
   ]
  },
  {
   "cell_type": "code",
   "execution_count": 20,
   "metadata": {},
   "outputs": [
    {
     "data": {
      "image/png": "[encoded data removed]",
      "text/plain": [
       "<Figure size 640x480 with 1 Axes>"
      ]
     },
     "metadata": {},
     "output_type": "display_data"
    }
   ],
   "source": [
    "data.groupby(['Age'])['Age'].count().plot();"
   ]
  },
  {
   "cell_type": "markdown",
   "metadata": {},
   "source": [
    "График показывает количество клиентов по возрастам"
   ]
  },
  {
   "cell_type": "code",
   "execution_count": 21,
   "metadata": {},
   "outputs": [
    {
     "data": {
      "image/png": "[encoded data removed]",
      "text/plain": [
       "<Figure size 640x480 with 1 Axes>"
      ]
     },
     "metadata": {},
     "output_type": "display_data"
    }
   ],
   "source": [
    "data['Balance'].hist();"
   ]
  },
  {
   "cell_type": "code",
   "execution_count": 22,
   "metadata": {},
   "outputs": [
    {
     "data": {
      "image/png": "[encoded data removed]",
      "text/plain": [
       "<Figure size 640x480 with 1 Axes>"
      ]
     },
     "metadata": {},
     "output_type": "display_data"
    }
   ],
   "source": [
    "data[data['Exited'] == 1]['Balance'].hist();"
   ]
  },
  {
   "cell_type": "markdown",
   "metadata": {},
   "source": [
    "Распределение баланса денежных средств."
   ]
  },
  {
   "cell_type": "code",
   "execution_count": 23,
   "metadata": {},
   "outputs": [
    {
     "data": {
      "image/png": "[encoded data removed]",
      "text/plain": [
       "<Figure size 640x480 with 1 Axes>"
      ]
     },
     "metadata": {},
     "output_type": "display_data"
    }
   ],
   "source": [
    "data['EstimatedSalary'].hist();"
   ]
  },
  {
   "cell_type": "code",
   "execution_count": 24,
   "metadata": {},
   "outputs": [
    {
     "data": {
      "image/png": "[encoded data removed]",
      "text/plain": [
       "<Figure size 640x480 with 1 Axes>"
      ]
     },
     "metadata": {},
     "output_type": "display_data"
    }
   ],
   "source": [
    "data[data['Exited'] == 1]['EstimatedSalary'].hist();"
   ]
  },
  {
   "cell_type": "markdown",
   "metadata": {},
   "source": [
    "Стена распределения зарплат. Зависимость среди вышедших слабая."
   ]
  },
  {
   "cell_type": "code",
   "execution_count": 25,
   "metadata": {},
   "outputs": [
    {
     "data": {
      "image/png": "[encoded data removed]",
      "text/plain": [
       "<Figure size 640x480 with 1 Axes>"
      ]
     },
     "metadata": {},
     "output_type": "display_data"
    }
   ],
   "source": [
    "data['NumOfProducts'].hist(bins=4);"
   ]
  },
  {
   "cell_type": "markdown",
   "metadata": {},
   "source": [
    "Обычно у клиента 1-2 продукта"
   ]
  },
  {
   "cell_type": "markdown",
   "metadata": {},
   "source": [
    "### Заполнение пропусков методом линейной регрессии"
   ]
  },
  {
   "cell_type": "code",
   "execution_count": 26,
   "metadata": {},
   "outputs": [],
   "source": [
    "na_data = data.copy()\n",
    "na_data = na_data.drop(['Surname', 'CustomerId', 'RowNumber'], axis=1)\n",
    "na_data['Tenure'] = na_data['Tenure'].fillna(0)"
   ]
  },
  {
   "cell_type": "code",
   "execution_count": 27,
   "metadata": {},
   "outputs": [
    {
     "data": {
      "text/plain": [
       "(909, 11)"
      ]
     },
     "execution_count": 27,
     "metadata": {},
     "output_type": "execute_result"
    }
   ],
   "source": [
    "# В тесте записи с пустым Tenure\n",
    "test = na_data[data['Tenure'].isna()]\n",
    "test.shape"
   ]
  },
  {
   "cell_type": "code",
   "execution_count": 28,
   "metadata": {},
   "outputs": [
    {
     "data": {
      "text/plain": [
       "(9091, 11)"
      ]
     },
     "execution_count": 28,
     "metadata": {},
     "output_type": "execute_result"
    }
   ],
   "source": [
    "# Тренируем модель на полных записях\n",
    "train = na_data[~data['Tenure'].isna()]\n",
    "train.shape"
   ]
  },
  {
   "cell_type": "code",
   "execution_count": 29,
   "metadata": {},
   "outputs": [],
   "source": [
    "y_train = train['Tenure']\n",
    "X_train = train.drop('Tenure', axis=1)\n",
    "\n",
    "X_test = test.drop('Tenure', axis=1)\n",
    "# y_test не требуется"
   ]
  },
  {
   "cell_type": "code",
   "execution_count": 30,
   "metadata": {},
   "outputs": [],
   "source": [
    "# Порядковое кодирование строковых значений\n",
    "def replacer(set, col, encoder=False):\n",
    "    if encoder == False:\n",
    "        encoder = OneHotEncoder(sparse_output=False, drop='first')\n",
    "        encoder.fit(set[col])\n",
    "    res = pd.DataFrame(encoder.transform(set[col]))\n",
    "    set = set.drop(col, axis = 1)\n",
    "    return pd.DataFrame(np.concatenate((res, set), axis=1))\n",
    "\n",
    "def transform_data(train_set, test_set, OHEcol, scale=True):\n",
    "    encoder = OneHotEncoder(sparse_output=False, drop='first')\n",
    "    encoder.fit(train_set[OHEcol])\n",
    "\n",
    "    train_set_OHE = replacer(train_set, OHEcol, encoder)\n",
    "    test_set_OHE = replacer(test_set, OHEcol, encoder)\n",
    "    if scale:\n",
    "        scaler = StandardScaler()\n",
    "        scaler.fit(train_set_OHE)\n",
    "        train_tf = pd.DataFrame(scaler.transform(train_set_OHE), columns = train_set_OHE.columns)\n",
    "        test_tf = pd.DataFrame(scaler.transform(test_set_OHE), columns = test_set_OHE.columns)\n",
    "        return train_tf, test_tf\n",
    "    else:\n",
    "        return train_set_OHE, test_set_OHE\n"
   ]
  },
  {
   "cell_type": "code",
   "execution_count": 31,
   "metadata": {},
   "outputs": [
    {
     "name": "stdout",
     "output_type": "stream",
     "text": [
      "        0         1         2         3         4         5         6   \\\n",
      "0 -0.58078 -0.573159 -1.099164 -0.329200  0.289040 -1.227780 -0.912601   \n",
      "1 -0.58078  1.744717 -1.099164 -0.443301  0.194298  0.116887 -0.912601   \n",
      "2 -0.58078 -0.573159 -1.099164 -1.542828  0.289040  1.333920  2.529911   \n",
      "\n",
      "         7        8         9         10  \n",
      "0  0.646896  0.96934  0.020264  1.975716  \n",
      "1 -1.545844  0.96934  0.214527 -0.506146  \n",
      "2  0.646896 -1.03163  0.238632  1.975716   \n",
      "          0         1         2         3         4         5         6   \\\n",
      "0 -0.580780  1.744717 -1.099164 -0.619641  0.004815 -1.227780  2.529911   \n",
      "1  1.721823 -0.573159  0.909782 -1.044929 -0.089927  0.431098 -0.912601   \n",
      "2  1.721823 -0.573159  0.909782 -0.681878 -0.279411  1.115556  0.808655   \n",
      "\n",
      "         7        8         9         10  \n",
      "0  0.646896 -1.03163  0.699185  1.975716  \n",
      "1 -1.545844  0.96934 -0.161451 -0.506146  \n",
      "2 -1.545844 -1.03163 -0.238741 -0.506146  \n"
     ]
    }
   ],
   "source": [
    "X_train_tf, X_test_tf = transform_data(X_train, X_test, ['Geography', 'Gender'])\n",
    "print(X_train_tf.head(3),'\\n', X_test_tf.head(3))"
   ]
  },
  {
   "cell_type": "code",
   "execution_count": 32,
   "metadata": {},
   "outputs": [
    {
     "name": "stderr",
     "output_type": "stream",
     "text": [
      "/var/folders/8v/rm1bmfds00g00p2x5xhkmm1r0000gn/T/ipykernel_23534/3112236381.py:6: SettingWithCopyWarning: \n",
      "A value is trying to be set on a copy of a slice from a DataFrame.\n",
      "Try using .loc[row_indexer,col_indexer] = value instead\n",
      "\n",
      "See the caveats in the documentation: https://pandas.pydata.org/pandas-docs/stable/user_guide/indexing.html#returning-a-view-versus-a-copy\n",
      "  test['Tenure'] = y_pred\n"
     ]
    }
   ],
   "source": [
    "\n",
    "# обучаем предсказываем применяем\n",
    "lr_model = LinearRegression(fit_intercept=False)\n",
    "lr_model.fit(X_train_tf, y_train)\n",
    "y_pred = lr_model.predict(X_test_tf)\n",
    " \n",
    "test['Tenure'] = y_pred"
   ]
  },
  {
   "cell_type": "code",
   "execution_count": 33,
   "metadata": {},
   "outputs": [],
   "source": [
    "#собираем данные обратно в кучу\n",
    "data_lr = pd.concat([train, test])\n",
    "data_lr.sort_index(inplace=True)\n",
    "#lr.tail(5)"
   ]
  },
  {
   "cell_type": "code",
   "execution_count": 34,
   "metadata": {},
   "outputs": [
    {
     "data": {
      "text/plain": [
       "count    909.000000\n",
       "mean       0.001031\n",
       "std        0.146366\n",
       "min       -0.411721\n",
       "25%       -0.092453\n",
       "50%        0.000462\n",
       "75%        0.110036\n",
       "max        0.328060\n",
       "Name: Tenure, dtype: float64"
      ]
     },
     "metadata": {},
     "output_type": "display_data"
    },
    {
     "data": {
      "image/png": "[encoded data removed]",
      "text/plain": [
       "<Figure size 640x480 with 1 Axes>"
      ]
     },
     "metadata": {},
     "output_type": "display_data"
    }
   ],
   "source": [
    "# вернем исходный масштаб с помощью метода .inverse_transform()\n",
    "#lr_ordinal = pd.DataFrame(scaler.inverse_transform(so_lr), columns = so_lr.columns)\n",
    "\n",
    "display(data_lr[data['Tenure'].isna()]['Tenure'].describe())\n",
    "data_lr[data['Tenure'].isna()]['Tenure'].plot();"
   ]
  },
  {
   "cell_type": "markdown",
   "metadata": {},
   "source": [
    "Модель предсказала значения близкие к 0, с небольшими отклонениями. Если округлить предсказаные значения, то мы получим средние 5 лет и создадим всплеск. \n",
    "\n",
    "Есть мысль \"усилить\" дисперсию, что-бы получить распределение похожее на известные данные. Грязно, но лучше чем рандом 0,10."
   ]
  },
  {
   "cell_type": "code",
   "execution_count": 35,
   "metadata": {},
   "outputs": [],
   "source": [
    "data_lr.loc[data['Tenure'].isna(), 'Tenure'] = ((data_lr[data['Tenure'].isna()]['Tenure']* 10) + 5).round(0)"
   ]
  },
  {
   "cell_type": "code",
   "execution_count": 36,
   "metadata": {},
   "outputs": [
    {
     "data": {
      "image/png": "[encoded data removed]",
      "text/plain": [
       "<Figure size 640x480 with 1 Axes>"
      ]
     },
     "metadata": {},
     "output_type": "display_data"
    }
   ],
   "source": [
    "data_lr.loc[data['Tenure'].isna()]['Tenure'].hist(bins=8);"
   ]
  },
  {
   "cell_type": "markdown",
   "metadata": {},
   "source": [
    "Получили распределение похожее на нормальное.Навредить не должно."
   ]
  },
  {
   "cell_type": "code",
   "execution_count": 37,
   "metadata": {},
   "outputs": [
    {
     "name": "stdout",
     "output_type": "stream",
     "text": [
      "<class 'pandas.core.frame.DataFrame'>\n",
      "Int64Index: 10000 entries, 0 to 9999\n",
      "Data columns (total 11 columns):\n",
      " #   Column           Non-Null Count  Dtype  \n",
      "---  ------           --------------  -----  \n",
      " 0   CreditScore      10000 non-null  int64  \n",
      " 1   Geography        10000 non-null  object \n",
      " 2   Gender           10000 non-null  object \n",
      " 3   Age              10000 non-null  int64  \n",
      " 4   Tenure           10000 non-null  float64\n",
      " 5   Balance          10000 non-null  float64\n",
      " 6   NumOfProducts    10000 non-null  int64  \n",
      " 7   HasCrCard        10000 non-null  int64  \n",
      " 8   IsActiveMember   10000 non-null  int64  \n",
      " 9   EstimatedSalary  10000 non-null  float64\n",
      " 10  Exited           10000 non-null  int64  \n",
      "dtypes: float64(3), int64(6), object(2)\n",
      "memory usage: 937.5+ KB\n"
     ]
    }
   ],
   "source": [
    "data_lr.info()"
   ]
  },
  {
   "cell_type": "markdown",
   "metadata": {},
   "source": [
    "### Заполнение пропусков методом расчета ближайших соседей"
   ]
  },
  {
   "cell_type": "code",
   "execution_count": 38,
   "metadata": {},
   "outputs": [],
   "source": [
    "imputer = KNNImputer(n_neighbors=2, weights=\"uniform\")"
   ]
  },
  {
   "cell_type": "code",
   "execution_count": 39,
   "metadata": {},
   "outputs": [],
   "source": [
    "na_data.loc[data['Tenure'].isna(), 'Tenure'] = np.nan #Вернем nan\n",
    "knn = pd.DataFrame(imputer.fit_transform(replacer(na_data, ['Geography', 'Gender'])))\n",
    "data_knn = na_data.copy()\n",
    "data_knn.loc[data['Tenure'].isna(), 'Tenure']=knn[5]"
   ]
  },
  {
   "cell_type": "code",
   "execution_count": 40,
   "metadata": {},
   "outputs": [
    {
     "data": {
      "image/png": "[encoded data removed]",
      "text/plain": [
       "<Figure size 640x480 with 1 Axes>"
      ]
     },
     "metadata": {},
     "output_type": "display_data"
    }
   ],
   "source": [
    "data_knn.loc[data['Tenure'].isna()]['Tenure'].hist(bins=8);"
   ]
  },
  {
   "cell_type": "markdown",
   "metadata": {},
   "source": [
    "Этот метод дал распределение ближе к исходному."
   ]
  },
  {
   "cell_type": "markdown",
   "metadata": {},
   "source": [
    "### Первые модели"
   ]
  },
  {
   "cell_type": "markdown",
   "metadata": {},
   "source": [
    "#### Подготовка"
   ]
  },
  {
   "cell_type": "code",
   "execution_count": 41,
   "metadata": {},
   "outputs": [],
   "source": [
    "#Делаем наборы данных для датасетов.\n",
    "#Сплит на обучение и тест. Тестовые данные не определяются так как обучение будет проходить с применением кросс-валидации.\n",
    "def prepare_data(dt):\n",
    "    y = data['Exited']\n",
    "    X = dt.drop('Exited', axis = 1)\n",
    "    X_train, X_test, y_train, y_test = train_test_split(X, y, test_size= .25, random_state=RND_SEED)\n",
    "    return X_train, X_test, y_train, y_test"
   ]
  },
  {
   "cell_type": "code",
   "execution_count": 42,
   "metadata": {},
   "outputs": [],
   "source": [
    "#Подготовка параматров для обучения\n",
    "solvers = [LogisticRegression(),\n",
    "    DecisionTreeClassifier(),\n",
    "    RandomForestClassifier()]\n",
    "\n",
    "if (not FAST_MODE):\n",
    "    params = [    \n",
    "        #LogisticRegression\n",
    "        {'penalty' : ['l2'],\n",
    "        'C' : np.logspace(-4, 2, 20),\n",
    "        'solver' : ['lbfgs', 'newton-cg', 'liblinear', 'sag', 'saga'],\n",
    "        'max_iter' : [100, 1000, 2500, 5000]\n",
    "        },\n",
    "        #DecisionTreeClassifier\n",
    "        {'criterion' : ['gini', 'entropy'],\n",
    "        'max_features': ['sqrt', 'log2'],\n",
    "        'max_depth': range (5,10, 1),\n",
    "        'min_samples_leaf': range (1,8),\n",
    "        'min_samples_split': range (2,10,2),\n",
    "        'random_state': [RND_SEED]\n",
    "        },\n",
    "        #RandomForestClassifier\n",
    "        {'criterion' : ['gini', 'entropy'],\n",
    "        'max_features': ['sqrt', 'log2'],\n",
    "        'n_estimators': range (20, 70, 8),\n",
    "        'max_depth': range (5,10, 1),\n",
    "        'min_samples_leaf': range (1,6,2),\n",
    "        'min_samples_split': range (2,8,2),\n",
    "        'random_state': [RND_SEED]\n",
    "        }\n",
    "    ]\n",
    "else:\n",
    "    params = [\n",
    "        #LogisticRegression\n",
    "        {'C' : [0.007847599703514606],\n",
    "        'penalty' : ['l1'],\n",
    "        'solver' : ['liblinear']\n",
    "        },\n",
    "        #DecisionTreeClassifier\n",
    "        {'max_depth' : [6], \n",
    "        'min_samples_leaf' : [7],\n",
    "        'max_features' : ['sqrt'], \n",
    "        'random_state' : [RND_SEED]\n",
    "        },\n",
    "        #RandomForestClassifier\n",
    "        {'criterion': ['gini'],\n",
    "        'max_depth': [9],\n",
    "        'max_features': ['sqrt'],\n",
    "        'min_samples_leaf': [1],\n",
    "        'min_samples_split': [4],\n",
    "        'n_estimators': [44],\n",
    "        'random_state': [RND_SEED]\n",
    "        }\n",
    "\n",
    "\n",
    "    ]"
   ]
  },
  {
   "cell_type": "code",
   "execution_count": 43,
   "metadata": {},
   "outputs": [],
   "source": [
    "#Уичм три модели с подбором параметров\n",
    "def trener(X, y):\n",
    "    models = []\n",
    "    for solver, param in zip(solvers, params):\n",
    "        grid = GridSearchCV(solver, param, cv=5, verbose=True, n_jobs=-1, scoring='f1')\n",
    "        grid.fit(X, y)\n",
    "        models.append(grid)\n",
    "        print(str(solver)[:-2], grid.best_score_)\n",
    "    return models\n"
   ]
  },
  {
   "cell_type": "code",
   "execution_count": 44,
   "metadata": {},
   "outputs": [],
   "source": [
    "#Определяем результативность моделей на тесте.\n",
    "def models_result(models, X_test, y_test):\n",
    "    res = []\n",
    "    for model in models:\n",
    "        res.append((str(model.estimator)[:-2],\n",
    "                    roc_auc_score(y_test, model.predict_proba(X_test)[:,1]),\n",
    "                    f1_score(y_test, model.predict(X_test))))\n",
    "    return res"
   ]
  },
  {
   "cell_type": "code",
   "execution_count": 45,
   "metadata": {},
   "outputs": [],
   "source": [
    "#Учим три модели с подбором параметров\n",
    "def trener(X, y):\n",
    "    models = []\n",
    "    for solver, param in zip(solvers, params):\n",
    "        grid = HalvingGridSearchCV(solver, param, cv=3, verbose=False, n_jobs=-1, factor=3, min_resources=833)\n",
    "        grid.fit(X, y)\n",
    "        models.append(grid)\n",
    "    return models"
   ]
  },
  {
   "cell_type": "markdown",
   "metadata": {},
   "source": [
    "#### Обучение"
   ]
  },
  {
   "cell_type": "code",
   "execution_count": 46,
   "metadata": {},
   "outputs": [],
   "source": [
    "#Тренируем несбалансированную модель\n",
    "result=[]\n",
    "for dt in (data_lr, data_knn):\n",
    "    X_train, X_test, y_train, y_test = prepare_data(dt)\n",
    "    X_train, X_test = transform_data(X_train, X_test, ['Geography', 'Gender'])\n",
    "    X_train.index = y_train.index\n",
    "    X_test.index = y_test.index\n",
    "    unbalanced_model = trener(X_train, y_train)\n",
    "    result.append(models_result(unbalanced_model, X_test, y_test))"
   ]
  },
  {
   "cell_type": "code",
   "execution_count": 47,
   "metadata": {},
   "outputs": [
    {
     "data": {
      "text/html": [
       "<div>\n",
       "<style scoped>\n",
       "    .dataframe tbody tr th:only-of-type {\n",
       "        vertical-align: middle;\n",
       "    }\n",
       "\n",
       "    .dataframe tbody tr th {\n",
       "        vertical-align: top;\n",
       "    }\n",
       "\n",
       "    .dataframe thead th {\n",
       "        text-align: right;\n",
       "    }\n",
       "</style>\n",
       "<table border=\"1\" class=\"dataframe\">\n",
       "  <thead>\n",
       "    <tr style=\"text-align: right;\">\n",
       "      <th></th>\n",
       "      <th>Data_method</th>\n",
       "      <th>Data_fill_type</th>\n",
       "      <th>Solver</th>\n",
       "      <th>ROCAUC</th>\n",
       "      <th>F1</th>\n",
       "    </tr>\n",
       "  </thead>\n",
       "  <tbody>\n",
       "    <tr>\n",
       "      <th>0</th>\n",
       "      <td>no balance</td>\n",
       "      <td>lr</td>\n",
       "      <td>LogisticRegression</td>\n",
       "      <td>0.757889</td>\n",
       "      <td>0.303199</td>\n",
       "    </tr>\n",
       "    <tr>\n",
       "      <th>1</th>\n",
       "      <td>NaN</td>\n",
       "      <td>NaN</td>\n",
       "      <td>DecisionTreeClassifier</td>\n",
       "      <td>0.796871</td>\n",
       "      <td>0.432507</td>\n",
       "    </tr>\n",
       "    <tr>\n",
       "      <th>2</th>\n",
       "      <td>NaN</td>\n",
       "      <td>NaN</td>\n",
       "      <td>RandomForestClassifier</td>\n",
       "      <td>0.867720</td>\n",
       "      <td>0.538365</td>\n",
       "    </tr>\n",
       "    <tr>\n",
       "      <th>3</th>\n",
       "      <td>NaN</td>\n",
       "      <td>knn</td>\n",
       "      <td>LogisticRegression</td>\n",
       "      <td>0.758765</td>\n",
       "      <td>0.294530</td>\n",
       "    </tr>\n",
       "    <tr>\n",
       "      <th>4</th>\n",
       "      <td>NaN</td>\n",
       "      <td>NaN</td>\n",
       "      <td>DecisionTreeClassifier</td>\n",
       "      <td>0.777332</td>\n",
       "      <td>0.430925</td>\n",
       "    </tr>\n",
       "    <tr>\n",
       "      <th>5</th>\n",
       "      <td>NaN</td>\n",
       "      <td>NaN</td>\n",
       "      <td>RandomForestClassifier</td>\n",
       "      <td>0.863088</td>\n",
       "      <td>0.549068</td>\n",
       "    </tr>\n",
       "  </tbody>\n",
       "</table>\n",
       "</div>"
      ],
      "text/plain": [
       "  Data_method Data_fill_type                  Solver    ROCAUC        F1\n",
       "0  no balance             lr      LogisticRegression  0.757889  0.303199\n",
       "1         NaN            NaN  DecisionTreeClassifier  0.796871  0.432507\n",
       "2         NaN            NaN  RandomForestClassifier  0.867720  0.538365\n",
       "3         NaN            knn      LogisticRegression  0.758765  0.294530\n",
       "4         NaN            NaN  DecisionTreeClassifier  0.777332  0.430925\n",
       "5         NaN            NaN  RandomForestClassifier  0.863088  0.549068"
      ]
     },
     "execution_count": 47,
     "metadata": {},
     "output_type": "execute_result"
    }
   ],
   "source": [
    "nb_res = pd.DataFrame(result[0] + result[1])\n",
    "nb_res.insert(0, \"0\", pd.Series(['lr', 'knn'], index=[0, 3]))\n",
    "nb_res.insert(0, '4', pd.Series('no balance'))\n",
    "nb_res.columns=['Data_method', 'Data_fill_type', 'Solver', 'ROCAUC', 'F1']\n",
    "nb_res"
   ]
  },
  {
   "cell_type": "markdown",
   "metadata": {},
   "source": [
    "Модели показывают слабый результат. Для улучшения показателей сбалансирую классы."
   ]
  },
  {
   "cell_type": "markdown",
   "metadata": {},
   "source": [
    "## Борьба с дисбалансом"
   ]
  },
  {
   "cell_type": "code",
   "execution_count": 48,
   "metadata": {},
   "outputs": [
    {
     "data": {
      "text/plain": [
       "0    7963\n",
       "1    2037\n",
       "Name: Exited, dtype: int64"
      ]
     },
     "execution_count": 48,
     "metadata": {},
     "output_type": "execute_result"
    }
   ],
   "source": [
    "data['Exited'].value_counts()"
   ]
  },
  {
   "cell_type": "markdown",
   "metadata": {},
   "source": [
    "В данных присутствует дисбаланс в целевых значениях в соотношении ~4:1. Попробую решить задачу путем уменьшения 0 значений и увеличения 1"
   ]
  },
  {
   "cell_type": "code",
   "execution_count": 49,
   "metadata": {},
   "outputs": [],
   "source": [
    "#Метод изменения размера выборки\n",
    "def resample(features, target, value):\n",
    "    features_zeros = features[target == 0]\n",
    "    features_ones = features[target == 1]\n",
    "    target_zeros = target[target == 0]\n",
    "    target_ones = target[target == 1]\n",
    "\n",
    "    if value > 1:\n",
    "        features_resampled = pd.concat([features_zeros] + [features_ones] * value)\n",
    "        target_resampled = pd.concat([target_zeros] + [target_ones] * value)\n",
    "\n",
    "    if value < 1:\n",
    "        features_resampled = pd.concat(\n",
    "        [features_zeros.sample(frac=value, random_state=RND_SEED)] + [features_ones])\n",
    "        target_resampled = pd.concat(\n",
    "        [target_zeros.sample(frac=value, random_state=RND_SEED)] + [target_ones])\n",
    "    \n",
    "    features_resampled, target_resampled = shuffle(\n",
    "        features_resampled, target_resampled, random_state=RND_SEED)\n",
    "    \n",
    "    return features_resampled, target_resampled"
   ]
  },
  {
   "cell_type": "code",
   "execution_count": 52,
   "metadata": {},
   "outputs": [],
   "source": [
    "#Тренируем сбалансированную модель с уменьшением выборки\n",
    "result=[]\n",
    "for dt in (data_lr, data_knn):\n",
    "    X_train, X_test, y_train, y_test = prepare_data(dt)\n",
    "    X_train, X_test = transform_data(X_train, X_test, ['Geography', 'Gender'])\n",
    "    X_train.index = y_train.index\n",
    "    X_test.index = y_test.index\n",
    "    X_train_ds, y_train_ds = resample(X_train, y_train, 0.25)\n",
    "    balanced_downsampled_model = trener(X_train_ds, y_train_ds)\n",
    "    result.append(models_result(balanced_downsampled_model, X_test, y_test))"
   ]
  },
  {
   "cell_type": "code",
   "execution_count": null,
   "metadata": {},
   "outputs": [
    {
     "data": {
      "text/html": [
       "<div>\n",
       "<style scoped>\n",
       "    .dataframe tbody tr th:only-of-type {\n",
       "        vertical-align: middle;\n",
       "    }\n",
       "\n",
       "    .dataframe tbody tr th {\n",
       "        vertical-align: top;\n",
       "    }\n",
       "\n",
       "    .dataframe thead th {\n",
       "        text-align: right;\n",
       "    }\n",
       "</style>\n",
       "<table border=\"1\" class=\"dataframe\">\n",
       "  <thead>\n",
       "    <tr style=\"text-align: right;\">\n",
       "      <th></th>\n",
       "      <th>Data_method</th>\n",
       "      <th>Data_fill_type</th>\n",
       "      <th>Solver</th>\n",
       "      <th>ROCAUC</th>\n",
       "      <th>F1</th>\n",
       "    </tr>\n",
       "  </thead>\n",
       "  <tbody>\n",
       "    <tr>\n",
       "      <th>0</th>\n",
       "      <td>downsampling</td>\n",
       "      <td>lr</td>\n",
       "      <td>LogisticRegression</td>\n",
       "      <td>0.752835</td>\n",
       "      <td>0.473775</td>\n",
       "    </tr>\n",
       "    <tr>\n",
       "      <th>1</th>\n",
       "      <td>NaN</td>\n",
       "      <td>NaN</td>\n",
       "      <td>DecisionTreeClassifier</td>\n",
       "      <td>0.789523</td>\n",
       "      <td>0.522099</td>\n",
       "    </tr>\n",
       "    <tr>\n",
       "      <th>2</th>\n",
       "      <td>NaN</td>\n",
       "      <td>NaN</td>\n",
       "      <td>RandomForestClassifier</td>\n",
       "      <td>0.850019</td>\n",
       "      <td>0.594440</td>\n",
       "    </tr>\n",
       "    <tr>\n",
       "      <th>3</th>\n",
       "      <td>NaN</td>\n",
       "      <td>knn</td>\n",
       "      <td>LogisticRegression</td>\n",
       "      <td>0.752828</td>\n",
       "      <td>0.473775</td>\n",
       "    </tr>\n",
       "    <tr>\n",
       "      <th>4</th>\n",
       "      <td>NaN</td>\n",
       "      <td>NaN</td>\n",
       "      <td>DecisionTreeClassifier</td>\n",
       "      <td>0.782543</td>\n",
       "      <td>0.524740</td>\n",
       "    </tr>\n",
       "    <tr>\n",
       "      <th>5</th>\n",
       "      <td>NaN</td>\n",
       "      <td>NaN</td>\n",
       "      <td>RandomForestClassifier</td>\n",
       "      <td>0.851450</td>\n",
       "      <td>0.605091</td>\n",
       "    </tr>\n",
       "  </tbody>\n",
       "</table>\n",
       "</div>"
      ],
      "text/plain": [
       "    Data_method Data_fill_type                  Solver    ROCAUC        F1\n",
       "0  downsampling             lr      LogisticRegression  0.752835  0.473775\n",
       "1           NaN            NaN  DecisionTreeClassifier  0.789523  0.522099\n",
       "2           NaN            NaN  RandomForestClassifier  0.850019  0.594440\n",
       "3           NaN            knn      LogisticRegression  0.752828  0.473775\n",
       "4           NaN            NaN  DecisionTreeClassifier  0.782543  0.524740\n",
       "5           NaN            NaN  RandomForestClassifier  0.851450  0.605091"
      ]
     },
     "execution_count": 50,
     "metadata": {},
     "output_type": "execute_result"
    }
   ],
   "source": [
    "db_res = pd.DataFrame(result[0] + result[1])\n",
    "db_res.insert(0, \"0\", pd.Series(['lr', 'knn'], index=[0, 3]))\n",
    "db_res.insert(0, '4', pd.Series('downsampling'))\n",
    "db_res.columns=['Data_method', 'Data_fill_type', 'Solver', 'ROCAUC', 'F1']\n",
    "db_res"
   ]
  },
  {
   "cell_type": "code",
   "execution_count": null,
   "metadata": {},
   "outputs": [],
   "source": [
    "#Тренируем сбалансированную модель с увеличением выборки\n",
    "result=[]\n",
    "for dt in (data_lr, data_knn):\n",
    "    X_train, X_test, y_train, y_test = prepare_data(dt)\n",
    "    X_train, X_test = transform_data(X_train, X_test, ['Geography', 'Gender'])\n",
    "    X_train.index = y_train.index\n",
    "    X_test.index = y_test.index\n",
    "    X_train_us, y_train_us = resample(X_train, y_train, 4)\n",
    "    balanced_upsampled_model = trener(X_train_us, y_train_us)\n",
    "    result.append(models_result(balanced_upsampled_model, X_test, y_test))"
   ]
  },
  {
   "cell_type": "code",
   "execution_count": null,
   "metadata": {},
   "outputs": [
    {
     "data": {
      "text/html": [
       "<div>\n",
       "<style scoped>\n",
       "    .dataframe tbody tr th:only-of-type {\n",
       "        vertical-align: middle;\n",
       "    }\n",
       "\n",
       "    .dataframe tbody tr th {\n",
       "        vertical-align: top;\n",
       "    }\n",
       "\n",
       "    .dataframe thead th {\n",
       "        text-align: right;\n",
       "    }\n",
       "</style>\n",
       "<table border=\"1\" class=\"dataframe\">\n",
       "  <thead>\n",
       "    <tr style=\"text-align: right;\">\n",
       "      <th></th>\n",
       "      <th>Data_method</th>\n",
       "      <th>Data_fill_type</th>\n",
       "      <th>Solver</th>\n",
       "      <th>ROCAUC</th>\n",
       "      <th>F1</th>\n",
       "    </tr>\n",
       "  </thead>\n",
       "  <tbody>\n",
       "    <tr>\n",
       "      <th>0</th>\n",
       "      <td>upsampling</td>\n",
       "      <td>lr</td>\n",
       "      <td>LogisticRegression</td>\n",
       "      <td>0.753445</td>\n",
       "      <td>0.487277</td>\n",
       "    </tr>\n",
       "    <tr>\n",
       "      <th>1</th>\n",
       "      <td>NaN</td>\n",
       "      <td>NaN</td>\n",
       "      <td>DecisionTreeClassifier</td>\n",
       "      <td>0.781695</td>\n",
       "      <td>0.524652</td>\n",
       "    </tr>\n",
       "    <tr>\n",
       "      <th>2</th>\n",
       "      <td>NaN</td>\n",
       "      <td>NaN</td>\n",
       "      <td>RandomForestClassifier</td>\n",
       "      <td>0.861358</td>\n",
       "      <td>0.636437</td>\n",
       "    </tr>\n",
       "    <tr>\n",
       "      <th>3</th>\n",
       "      <td>NaN</td>\n",
       "      <td>knn</td>\n",
       "      <td>LogisticRegression</td>\n",
       "      <td>0.754006</td>\n",
       "      <td>0.494569</td>\n",
       "    </tr>\n",
       "    <tr>\n",
       "      <th>4</th>\n",
       "      <td>NaN</td>\n",
       "      <td>NaN</td>\n",
       "      <td>DecisionTreeClassifier</td>\n",
       "      <td>0.788283</td>\n",
       "      <td>0.527796</td>\n",
       "    </tr>\n",
       "    <tr>\n",
       "      <th>5</th>\n",
       "      <td>NaN</td>\n",
       "      <td>NaN</td>\n",
       "      <td>RandomForestClassifier</td>\n",
       "      <td>0.858793</td>\n",
       "      <td>0.629213</td>\n",
       "    </tr>\n",
       "  </tbody>\n",
       "</table>\n",
       "</div>"
      ],
      "text/plain": [
       "  Data_method Data_fill_type                  Solver    ROCAUC        F1\n",
       "0  upsampling             lr      LogisticRegression  0.753445  0.487277\n",
       "1         NaN            NaN  DecisionTreeClassifier  0.781695  0.524652\n",
       "2         NaN            NaN  RandomForestClassifier  0.861358  0.636437\n",
       "3         NaN            knn      LogisticRegression  0.754006  0.494569\n",
       "4         NaN            NaN  DecisionTreeClassifier  0.788283  0.527796\n",
       "5         NaN            NaN  RandomForestClassifier  0.858793  0.629213"
      ]
     },
     "execution_count": 52,
     "metadata": {},
     "output_type": "execute_result"
    }
   ],
   "source": [
    "ub_res = pd.DataFrame(result[0] + result[1])\n",
    "ub_res.insert(0, \"0\", pd.Series(['lr', 'knn'], index=[0, 3]))\n",
    "ub_res.insert(0, '4', pd.Series('upsampling'))\n",
    "ub_res.columns=['Data_method', 'Data_fill_type', 'Solver', 'ROCAUC', 'F1']\n",
    "ub_res"
   ]
  },
  {
   "cell_type": "markdown",
   "metadata": {},
   "source": [
    "## Тестирование модели"
   ]
  },
  {
   "cell_type": "code",
   "execution_count": null,
   "metadata": {},
   "outputs": [
    {
     "data": {
      "text/html": [
       "<div>\n",
       "<style scoped>\n",
       "    .dataframe tbody tr th:only-of-type {\n",
       "        vertical-align: middle;\n",
       "    }\n",
       "\n",
       "    .dataframe tbody tr th {\n",
       "        vertical-align: top;\n",
       "    }\n",
       "\n",
       "    .dataframe thead th {\n",
       "        text-align: right;\n",
       "    }\n",
       "</style>\n",
       "<table border=\"1\" class=\"dataframe\">\n",
       "  <thead>\n",
       "    <tr style=\"text-align: right;\">\n",
       "      <th></th>\n",
       "      <th>Data_method</th>\n",
       "      <th>Data_fill_type</th>\n",
       "      <th>Solver</th>\n",
       "      <th>ROCAUC</th>\n",
       "      <th>F1</th>\n",
       "    </tr>\n",
       "  </thead>\n",
       "  <tbody>\n",
       "    <tr>\n",
       "      <th>0</th>\n",
       "      <td>no balance</td>\n",
       "      <td>lr</td>\n",
       "      <td>LogisticRegression</td>\n",
       "      <td>0.750105</td>\n",
       "      <td>0.142857</td>\n",
       "    </tr>\n",
       "    <tr>\n",
       "      <th>1</th>\n",
       "      <td>no balance</td>\n",
       "      <td>lr</td>\n",
       "      <td>DecisionTreeClassifier</td>\n",
       "      <td>0.764978</td>\n",
       "      <td>0.445283</td>\n",
       "    </tr>\n",
       "    <tr>\n",
       "      <th>2</th>\n",
       "      <td>no balance</td>\n",
       "      <td>lr</td>\n",
       "      <td>RandomForestClassifier</td>\n",
       "      <td>0.859769</td>\n",
       "      <td>0.539523</td>\n",
       "    </tr>\n",
       "    <tr>\n",
       "      <th>3</th>\n",
       "      <td>no balance</td>\n",
       "      <td>knn</td>\n",
       "      <td>LogisticRegression</td>\n",
       "      <td>0.750326</td>\n",
       "      <td>0.136808</td>\n",
       "    </tr>\n",
       "    <tr>\n",
       "      <th>4</th>\n",
       "      <td>no balance</td>\n",
       "      <td>knn</td>\n",
       "      <td>DecisionTreeClassifier</td>\n",
       "      <td>0.764845</td>\n",
       "      <td>0.445283</td>\n",
       "    </tr>\n",
       "    <tr>\n",
       "      <th>5</th>\n",
       "      <td>no balance</td>\n",
       "      <td>knn</td>\n",
       "      <td>RandomForestClassifier</td>\n",
       "      <td>0.859330</td>\n",
       "      <td>0.533333</td>\n",
       "    </tr>\n",
       "    <tr>\n",
       "      <th>0</th>\n",
       "      <td>downsampling</td>\n",
       "      <td>lr</td>\n",
       "      <td>LogisticRegression</td>\n",
       "      <td>0.752835</td>\n",
       "      <td>0.473775</td>\n",
       "    </tr>\n",
       "    <tr>\n",
       "      <th>1</th>\n",
       "      <td>downsampling</td>\n",
       "      <td>lr</td>\n",
       "      <td>DecisionTreeClassifier</td>\n",
       "      <td>0.789523</td>\n",
       "      <td>0.522099</td>\n",
       "    </tr>\n",
       "    <tr>\n",
       "      <th>2</th>\n",
       "      <td>downsampling</td>\n",
       "      <td>lr</td>\n",
       "      <td>RandomForestClassifier</td>\n",
       "      <td>0.850019</td>\n",
       "      <td>0.594440</td>\n",
       "    </tr>\n",
       "    <tr>\n",
       "      <th>3</th>\n",
       "      <td>downsampling</td>\n",
       "      <td>knn</td>\n",
       "      <td>LogisticRegression</td>\n",
       "      <td>0.752828</td>\n",
       "      <td>0.473775</td>\n",
       "    </tr>\n",
       "    <tr>\n",
       "      <th>4</th>\n",
       "      <td>downsampling</td>\n",
       "      <td>knn</td>\n",
       "      <td>DecisionTreeClassifier</td>\n",
       "      <td>0.782543</td>\n",
       "      <td>0.524740</td>\n",
       "    </tr>\n",
       "    <tr>\n",
       "      <th>5</th>\n",
       "      <td>downsampling</td>\n",
       "      <td>knn</td>\n",
       "      <td>RandomForestClassifier</td>\n",
       "      <td>0.851450</td>\n",
       "      <td>0.605091</td>\n",
       "    </tr>\n",
       "    <tr>\n",
       "      <th>0</th>\n",
       "      <td>upsampling</td>\n",
       "      <td>lr</td>\n",
       "      <td>LogisticRegression</td>\n",
       "      <td>0.753445</td>\n",
       "      <td>0.487277</td>\n",
       "    </tr>\n",
       "    <tr>\n",
       "      <th>1</th>\n",
       "      <td>upsampling</td>\n",
       "      <td>lr</td>\n",
       "      <td>DecisionTreeClassifier</td>\n",
       "      <td>0.781695</td>\n",
       "      <td>0.524652</td>\n",
       "    </tr>\n",
       "    <tr>\n",
       "      <th>2</th>\n",
       "      <td>upsampling</td>\n",
       "      <td>lr</td>\n",
       "      <td>RandomForestClassifier</td>\n",
       "      <td>0.861358</td>\n",
       "      <td>0.636437</td>\n",
       "    </tr>\n",
       "    <tr>\n",
       "      <th>3</th>\n",
       "      <td>upsampling</td>\n",
       "      <td>knn</td>\n",
       "      <td>LogisticRegression</td>\n",
       "      <td>0.754006</td>\n",
       "      <td>0.494569</td>\n",
       "    </tr>\n",
       "    <tr>\n",
       "      <th>4</th>\n",
       "      <td>upsampling</td>\n",
       "      <td>knn</td>\n",
       "      <td>DecisionTreeClassifier</td>\n",
       "      <td>0.788283</td>\n",
       "      <td>0.527796</td>\n",
       "    </tr>\n",
       "    <tr>\n",
       "      <th>5</th>\n",
       "      <td>upsampling</td>\n",
       "      <td>knn</td>\n",
       "      <td>RandomForestClassifier</td>\n",
       "      <td>0.858793</td>\n",
       "      <td>0.629213</td>\n",
       "    </tr>\n",
       "  </tbody>\n",
       "</table>\n",
       "</div>"
      ],
      "text/plain": [
       "    Data_method Data_fill_type                  Solver    ROCAUC        F1\n",
       "0    no balance             lr      LogisticRegression  0.750105  0.142857\n",
       "1    no balance             lr  DecisionTreeClassifier  0.764978  0.445283\n",
       "2    no balance             lr  RandomForestClassifier  0.859769  0.539523\n",
       "3    no balance            knn      LogisticRegression  0.750326  0.136808\n",
       "4    no balance            knn  DecisionTreeClassifier  0.764845  0.445283\n",
       "5    no balance            knn  RandomForestClassifier  0.859330  0.533333\n",
       "0  downsampling             lr      LogisticRegression  0.752835  0.473775\n",
       "1  downsampling             lr  DecisionTreeClassifier  0.789523  0.522099\n",
       "2  downsampling             lr  RandomForestClassifier  0.850019  0.594440\n",
       "3  downsampling            knn      LogisticRegression  0.752828  0.473775\n",
       "4  downsampling            knn  DecisionTreeClassifier  0.782543  0.524740\n",
       "5  downsampling            knn  RandomForestClassifier  0.851450  0.605091\n",
       "0    upsampling             lr      LogisticRegression  0.753445  0.487277\n",
       "1    upsampling             lr  DecisionTreeClassifier  0.781695  0.524652\n",
       "2    upsampling             lr  RandomForestClassifier  0.861358  0.636437\n",
       "3    upsampling            knn      LogisticRegression  0.754006  0.494569\n",
       "4    upsampling            knn  DecisionTreeClassifier  0.788283  0.527796\n",
       "5    upsampling            knn  RandomForestClassifier  0.858793  0.629213"
      ]
     },
     "execution_count": 53,
     "metadata": {},
     "output_type": "execute_result"
    }
   ],
   "source": [
    "pd.concat([nb_res, db_res, ub_res]).ffill()"
   ]
  },
  {
   "cell_type": "markdown",
   "metadata": {},
   "source": [
    "Результат обучения на уменьшеной выборке не дал удовлетворительного результат F1 меры, но оказалься лучше модели на несбалансированных классах\n",
    "Обучение модели на увеличеной выборке показал F1 меру 0.63(При обучении с halving gridsearch показатель оказался таким). Методы заполнения пропусков не оказали сильного влияния на качество моделей"
   ]
  },
  {
   "cell_type": "markdown",
   "metadata": {},
   "source": [
    "### Вывод\n",
    "В ходе проекта были проработаны данные об оттоке клиентов. Методом перебора параметов поиском по сетке были определены лучше модели. Сбалансированые категории дают лучший результат обучения, даже если они повторяют друг друга в наборе. \n",
    "F1 мера была достигнута методом случайного леса. Результат составил 0.636 на тестировании, что удовлетворяет условиям модели.\n",
    "Площадь под ROC кривой 0.86 что так-же говорит об нормальном качестве модели. "
   ]
  }
 ],
 "metadata": {
  "ExecuteTimeLog": [
   {
    "duration": 3090,
    "start_time": "2023-06-12T04:12:04.635Z"
   },
   {
    "duration": 208,
    "start_time": "2023-06-12T04:12:07.728Z"
   },
   {
    "duration": 12,
    "start_time": "2023-06-12T04:12:07.938Z"
   },
   {
    "duration": 18,
    "start_time": "2023-06-12T04:12:07.952Z"
   },
   {
    "duration": 4,
    "start_time": "2023-06-12T04:12:07.973Z"
   },
   {
    "duration": 24,
    "start_time": "2023-06-12T04:12:07.978Z"
   },
   {
    "duration": 20,
    "start_time": "2023-06-12T04:12:08.004Z"
   },
   {
    "duration": 9,
    "start_time": "2023-06-12T04:12:08.026Z"
   },
   {
    "duration": 208,
    "start_time": "2023-06-12T04:12:08.037Z"
   },
   {
    "duration": 12,
    "start_time": "2023-06-12T04:12:08.247Z"
   },
   {
    "duration": 13,
    "start_time": "2023-06-12T04:12:08.261Z"
   },
   {
    "duration": 113,
    "start_time": "2023-06-12T04:12:08.275Z"
   },
   {
    "duration": 7,
    "start_time": "2023-06-12T04:12:08.389Z"
   },
   {
    "duration": 23,
    "start_time": "2023-06-12T04:12:08.399Z"
   },
   {
    "duration": 8,
    "start_time": "2023-06-12T04:12:08.424Z"
   },
   {
    "duration": 66,
    "start_time": "2023-06-12T04:12:08.434Z"
   },
   {
    "duration": 17,
    "start_time": "2023-06-12T04:12:08.501Z"
   },
   {
    "duration": 115,
    "start_time": "2023-06-12T04:12:08.519Z"
   },
   {
    "duration": 106,
    "start_time": "2023-06-12T04:12:08.635Z"
   },
   {
    "duration": 217,
    "start_time": "2023-06-12T04:12:08.743Z"
   },
   {
    "duration": 129,
    "start_time": "2023-06-12T04:12:08.962Z"
   },
   {
    "duration": 122,
    "start_time": "2023-06-12T04:12:09.092Z"
   },
   {
    "duration": 145,
    "start_time": "2023-06-12T04:12:09.216Z"
   },
   {
    "duration": 133,
    "start_time": "2023-06-12T04:12:09.362Z"
   },
   {
    "duration": 130,
    "start_time": "2023-06-12T04:12:09.497Z"
   },
   {
    "duration": 114,
    "start_time": "2023-06-12T04:12:09.629Z"
   },
   {
    "duration": 0,
    "start_time": "2023-06-12T04:12:09.745Z"
   },
   {
    "duration": 0,
    "start_time": "2023-06-12T04:12:09.746Z"
   },
   {
    "duration": 0,
    "start_time": "2023-06-12T04:12:09.747Z"
   },
   {
    "duration": 0,
    "start_time": "2023-06-12T04:12:09.749Z"
   },
   {
    "duration": 0,
    "start_time": "2023-06-12T04:12:09.750Z"
   },
   {
    "duration": 0,
    "start_time": "2023-06-12T04:12:09.751Z"
   },
   {
    "duration": 0,
    "start_time": "2023-06-12T04:12:09.752Z"
   },
   {
    "duration": 0,
    "start_time": "2023-06-12T04:12:09.754Z"
   },
   {
    "duration": 0,
    "start_time": "2023-06-12T04:12:09.772Z"
   },
   {
    "duration": 0,
    "start_time": "2023-06-12T04:12:09.773Z"
   },
   {
    "duration": 0,
    "start_time": "2023-06-12T04:12:09.774Z"
   },
   {
    "duration": 1,
    "start_time": "2023-06-12T04:12:09.775Z"
   },
   {
    "duration": 0,
    "start_time": "2023-06-12T04:12:09.777Z"
   },
   {
    "duration": 0,
    "start_time": "2023-06-12T04:12:09.778Z"
   },
   {
    "duration": 0,
    "start_time": "2023-06-12T04:12:09.779Z"
   },
   {
    "duration": 0,
    "start_time": "2023-06-12T04:12:09.781Z"
   },
   {
    "duration": 0,
    "start_time": "2023-06-12T04:12:09.782Z"
   },
   {
    "duration": 0,
    "start_time": "2023-06-12T04:12:09.783Z"
   },
   {
    "duration": 0,
    "start_time": "2023-06-12T04:12:09.784Z"
   },
   {
    "duration": 0,
    "start_time": "2023-06-12T04:12:09.787Z"
   },
   {
    "duration": 0,
    "start_time": "2023-06-12T04:12:09.788Z"
   },
   {
    "duration": 1732,
    "start_time": "2023-06-12T18:32:16.130Z"
   },
   {
    "duration": 146,
    "start_time": "2023-06-12T18:32:17.866Z"
   },
   {
    "duration": 15,
    "start_time": "2023-06-12T18:32:18.014Z"
   },
   {
    "duration": 25,
    "start_time": "2023-06-12T18:32:18.032Z"
   },
   {
    "duration": 12,
    "start_time": "2023-06-12T18:32:18.063Z"
   },
   {
    "duration": 25,
    "start_time": "2023-06-12T18:32:18.078Z"
   },
   {
    "duration": 98,
    "start_time": "2023-06-12T18:32:18.105Z"
   },
   {
    "duration": 14,
    "start_time": "2023-06-12T18:32:18.206Z"
   },
   {
    "duration": 269,
    "start_time": "2023-06-12T18:32:18.222Z"
   },
   {
    "duration": 15,
    "start_time": "2023-06-12T18:32:18.496Z"
   },
   {
    "duration": 11,
    "start_time": "2023-06-12T18:32:18.514Z"
   },
   {
    "duration": 182,
    "start_time": "2023-06-12T18:32:18.527Z"
   },
   {
    "duration": 8,
    "start_time": "2023-06-12T18:32:18.712Z"
   },
   {
    "duration": 57,
    "start_time": "2023-06-12T18:32:18.723Z"
   },
   {
    "duration": 28,
    "start_time": "2023-06-12T18:32:18.782Z"
   },
   {
    "duration": 71,
    "start_time": "2023-06-12T18:32:18.813Z"
   },
   {
    "duration": 24,
    "start_time": "2023-06-12T18:32:18.886Z"
   },
   {
    "duration": 144,
    "start_time": "2023-06-12T18:32:18.912Z"
   },
   {
    "duration": 142,
    "start_time": "2023-06-12T18:32:19.059Z"
   },
   {
    "duration": 180,
    "start_time": "2023-06-12T18:32:19.204Z"
   },
   {
    "duration": 240,
    "start_time": "2023-06-12T18:32:19.387Z"
   },
   {
    "duration": 164,
    "start_time": "2023-06-12T18:32:19.629Z"
   },
   {
    "duration": 187,
    "start_time": "2023-06-12T18:32:19.795Z"
   },
   {
    "duration": 188,
    "start_time": "2023-06-12T18:32:19.984Z"
   },
   {
    "duration": 141,
    "start_time": "2023-06-12T18:32:20.173Z"
   },
   {
    "duration": 55,
    "start_time": "2023-06-12T18:32:20.316Z"
   },
   {
    "duration": 29,
    "start_time": "2023-06-12T18:32:20.372Z"
   },
   {
    "duration": 16,
    "start_time": "2023-06-12T18:32:20.405Z"
   },
   {
    "duration": 31,
    "start_time": "2023-06-12T18:32:20.423Z"
   },
   {
    "duration": 53,
    "start_time": "2023-06-12T18:32:20.462Z"
   },
   {
    "duration": 57,
    "start_time": "2023-06-12T18:32:20.517Z"
   },
   {
    "duration": 114,
    "start_time": "2023-06-12T18:32:20.576Z"
   },
   {
    "duration": 239,
    "start_time": "2023-06-12T18:32:20.693Z"
   },
   {
    "duration": 7,
    "start_time": "2023-06-12T18:32:20.933Z"
   },
   {
    "duration": 184,
    "start_time": "2023-06-12T18:32:20.947Z"
   },
   {
    "duration": 30,
    "start_time": "2023-06-12T18:32:21.133Z"
   },
   {
    "duration": 13,
    "start_time": "2023-06-12T18:32:21.175Z"
   },
   {
    "duration": 1406,
    "start_time": "2023-06-12T18:32:21.190Z"
   },
   {
    "duration": 154,
    "start_time": "2023-06-12T18:32:22.598Z"
   },
   {
    "duration": 14,
    "start_time": "2023-06-12T18:32:22.759Z"
   },
   {
    "duration": 18,
    "start_time": "2023-06-12T18:32:22.778Z"
   },
   {
    "duration": 12,
    "start_time": "2023-06-12T18:32:22.798Z"
   },
   {
    "duration": 13,
    "start_time": "2023-06-12T18:32:22.811Z"
   },
   {
    "duration": 51,
    "start_time": "2023-06-12T18:32:22.827Z"
   },
   {
    "duration": 1935,
    "start_time": "2023-06-12T18:32:22.880Z"
   },
   {
    "duration": 64,
    "start_time": "2023-06-12T18:32:24.817Z"
   },
   {
    "duration": 17,
    "start_time": "2023-06-12T18:32:24.884Z"
   },
   {
    "duration": 10,
    "start_time": "2023-06-12T18:32:24.905Z"
   },
   {
    "duration": 1572,
    "start_time": "2023-06-12T18:32:24.917Z"
   },
   {
    "duration": 15,
    "start_time": "2023-06-12T18:32:26.491Z"
   },
   {
    "duration": 2390,
    "start_time": "2023-06-12T18:32:26.507Z"
   },
   {
    "duration": 19,
    "start_time": "2023-06-12T18:32:28.899Z"
   },
   {
    "duration": 56,
    "start_time": "2023-06-12T18:32:28.921Z"
   },
   {
    "duration": 9,
    "start_time": "2023-06-12T18:32:54.178Z"
   },
   {
    "duration": 1746,
    "start_time": "2023-06-12T18:33:00.777Z"
   },
   {
    "duration": 134,
    "start_time": "2023-06-12T18:33:02.525Z"
   },
   {
    "duration": 15,
    "start_time": "2023-06-12T18:33:02.661Z"
   },
   {
    "duration": 27,
    "start_time": "2023-06-12T18:33:02.678Z"
   },
   {
    "duration": 10,
    "start_time": "2023-06-12T18:33:02.706Z"
   },
   {
    "duration": 31,
    "start_time": "2023-06-12T18:33:02.718Z"
   },
   {
    "duration": 36,
    "start_time": "2023-06-12T18:33:02.751Z"
   },
   {
    "duration": 9,
    "start_time": "2023-06-12T18:33:02.789Z"
   },
   {
    "duration": 225,
    "start_time": "2023-06-12T18:33:02.800Z"
   },
   {
    "duration": 31,
    "start_time": "2023-06-12T18:33:03.029Z"
   },
   {
    "duration": 6,
    "start_time": "2023-06-12T18:33:03.062Z"
   },
   {
    "duration": 123,
    "start_time": "2023-06-12T18:33:03.069Z"
   },
   {
    "duration": 8,
    "start_time": "2023-06-12T18:33:03.194Z"
   },
   {
    "duration": 12,
    "start_time": "2023-06-12T18:33:03.204Z"
   },
   {
    "duration": 37,
    "start_time": "2023-06-12T18:33:03.218Z"
   },
   {
    "duration": 22,
    "start_time": "2023-06-12T18:33:03.260Z"
   },
   {
    "duration": 12,
    "start_time": "2023-06-12T18:33:03.284Z"
   },
   {
    "duration": 136,
    "start_time": "2023-06-12T18:33:03.298Z"
   },
   {
    "duration": 138,
    "start_time": "2023-06-12T18:33:03.436Z"
   },
   {
    "duration": 185,
    "start_time": "2023-06-12T18:33:03.576Z"
   },
   {
    "duration": 229,
    "start_time": "2023-06-12T18:33:03.763Z"
   },
   {
    "duration": 143,
    "start_time": "2023-06-12T18:33:03.994Z"
   },
   {
    "duration": 164,
    "start_time": "2023-06-12T18:33:04.141Z"
   },
   {
    "duration": 156,
    "start_time": "2023-06-12T18:33:04.307Z"
   },
   {
    "duration": 145,
    "start_time": "2023-06-12T18:33:04.464Z"
   },
   {
    "duration": 236,
    "start_time": "2023-06-12T18:33:04.611Z"
   },
   {
    "duration": 127,
    "start_time": "2023-06-12T18:33:04.858Z"
   },
   {
    "duration": 6,
    "start_time": "2023-06-12T18:33:04.989Z"
   },
   {
    "duration": 10,
    "start_time": "2023-06-12T18:33:04.996Z"
   },
   {
    "duration": 8,
    "start_time": "2023-06-12T18:33:05.008Z"
   },
   {
    "duration": 15,
    "start_time": "2023-06-12T18:33:05.018Z"
   },
   {
    "duration": 112,
    "start_time": "2023-06-12T18:33:05.043Z"
   },
   {
    "duration": 190,
    "start_time": "2023-06-12T18:33:05.157Z"
   },
   {
    "duration": 9,
    "start_time": "2023-06-12T18:33:05.349Z"
   },
   {
    "duration": 142,
    "start_time": "2023-06-12T18:33:05.366Z"
   },
   {
    "duration": 11,
    "start_time": "2023-06-12T18:33:05.510Z"
   },
   {
    "duration": 2,
    "start_time": "2023-06-12T18:33:05.523Z"
   },
   {
    "duration": 1149,
    "start_time": "2023-06-12T18:33:05.527Z"
   },
   {
    "duration": 129,
    "start_time": "2023-06-12T18:33:06.678Z"
   },
   {
    "duration": 4,
    "start_time": "2023-06-12T18:33:06.808Z"
   },
   {
    "duration": 8,
    "start_time": "2023-06-12T18:33:06.814Z"
   },
   {
    "duration": 27,
    "start_time": "2023-06-12T18:33:06.824Z"
   },
   {
    "duration": 20,
    "start_time": "2023-06-12T18:33:06.853Z"
   },
   {
    "duration": 8,
    "start_time": "2023-06-12T18:33:06.875Z"
   },
   {
    "duration": 24653,
    "start_time": "2023-06-12T18:33:06.885Z"
   },
   {
    "duration": 0,
    "start_time": "2023-06-12T18:33:31.540Z"
   },
   {
    "duration": 0,
    "start_time": "2023-06-12T18:33:31.542Z"
   },
   {
    "duration": 0,
    "start_time": "2023-06-12T18:33:31.545Z"
   },
   {
    "duration": 0,
    "start_time": "2023-06-12T18:33:31.546Z"
   },
   {
    "duration": 0,
    "start_time": "2023-06-12T18:33:31.549Z"
   },
   {
    "duration": 0,
    "start_time": "2023-06-12T18:33:31.550Z"
   },
   {
    "duration": 0,
    "start_time": "2023-06-12T18:33:31.552Z"
   },
   {
    "duration": 0,
    "start_time": "2023-06-12T18:33:31.553Z"
   },
   {
    "duration": 1605,
    "start_time": "2023-06-12T18:47:39.864Z"
   },
   {
    "duration": 118,
    "start_time": "2023-06-12T18:47:41.475Z"
   },
   {
    "duration": 19,
    "start_time": "2023-06-12T18:47:41.595Z"
   },
   {
    "duration": 23,
    "start_time": "2023-06-12T18:47:41.616Z"
   },
   {
    "duration": 24,
    "start_time": "2023-06-12T18:47:41.642Z"
   },
   {
    "duration": 17,
    "start_time": "2023-06-12T18:47:41.669Z"
   },
   {
    "duration": 37,
    "start_time": "2023-06-12T18:47:41.688Z"
   },
   {
    "duration": 23,
    "start_time": "2023-06-12T18:47:41.728Z"
   },
   {
    "duration": 338,
    "start_time": "2023-06-12T18:47:41.752Z"
   },
   {
    "duration": 19,
    "start_time": "2023-06-12T18:47:42.093Z"
   },
   {
    "duration": 6,
    "start_time": "2023-06-12T18:47:42.115Z"
   },
   {
    "duration": 165,
    "start_time": "2023-06-12T18:47:42.154Z"
   },
   {
    "duration": 9,
    "start_time": "2023-06-12T18:47:42.321Z"
   },
   {
    "duration": 35,
    "start_time": "2023-06-12T18:47:42.351Z"
   },
   {
    "duration": 13,
    "start_time": "2023-06-12T18:47:42.388Z"
   },
   {
    "duration": 3,
    "start_time": "2023-06-12T18:47:42.404Z"
   },
   {
    "duration": 11,
    "start_time": "2023-06-12T18:47:42.410Z"
   },
   {
    "duration": 184,
    "start_time": "2023-06-12T18:47:42.423Z"
   },
   {
    "duration": 166,
    "start_time": "2023-06-12T18:47:42.610Z"
   },
   {
    "duration": 206,
    "start_time": "2023-06-12T18:47:42.777Z"
   },
   {
    "duration": 307,
    "start_time": "2023-06-12T18:47:42.995Z"
   },
   {
    "duration": 194,
    "start_time": "2023-06-12T18:47:43.304Z"
   },
   {
    "duration": 185,
    "start_time": "2023-06-12T18:47:43.500Z"
   },
   {
    "duration": 170,
    "start_time": "2023-06-12T18:47:43.688Z"
   },
   {
    "duration": 133,
    "start_time": "2023-06-12T18:47:43.860Z"
   },
   {
    "duration": 55,
    "start_time": "2023-06-12T18:47:43.995Z"
   },
   {
    "duration": 26,
    "start_time": "2023-06-12T18:47:44.051Z"
   },
   {
    "duration": 7,
    "start_time": "2023-06-12T18:47:44.079Z"
   },
   {
    "duration": 12,
    "start_time": "2023-06-12T18:47:44.089Z"
   },
   {
    "duration": 15,
    "start_time": "2023-06-12T18:47:44.102Z"
   },
   {
    "duration": 42,
    "start_time": "2023-06-12T18:47:44.120Z"
   },
   {
    "duration": 121,
    "start_time": "2023-06-12T18:47:44.165Z"
   },
   {
    "duration": 214,
    "start_time": "2023-06-12T18:47:44.342Z"
   },
   {
    "duration": 7,
    "start_time": "2023-06-12T18:47:44.564Z"
   },
   {
    "duration": 157,
    "start_time": "2023-06-12T18:47:44.573Z"
   },
   {
    "duration": 19,
    "start_time": "2023-06-12T18:47:44.733Z"
   },
   {
    "duration": 27,
    "start_time": "2023-06-12T18:47:44.754Z"
   },
   {
    "duration": 1471,
    "start_time": "2023-06-12T18:47:44.784Z"
   },
   {
    "duration": 184,
    "start_time": "2023-06-12T18:47:46.261Z"
   },
   {
    "duration": 6,
    "start_time": "2023-06-12T18:47:46.449Z"
   },
   {
    "duration": 24,
    "start_time": "2023-06-12T18:47:46.460Z"
   },
   {
    "duration": 17,
    "start_time": "2023-06-12T18:47:46.486Z"
   },
   {
    "duration": 23,
    "start_time": "2023-06-12T18:47:46.506Z"
   },
   {
    "duration": 6,
    "start_time": "2023-06-12T18:47:46.532Z"
   },
   {
    "duration": 21903,
    "start_time": "2023-06-12T18:47:46.540Z"
   },
   {
    "duration": 0,
    "start_time": "2023-06-12T18:48:08.445Z"
   },
   {
    "duration": 0,
    "start_time": "2023-06-12T18:48:08.447Z"
   },
   {
    "duration": 0,
    "start_time": "2023-06-12T18:48:08.448Z"
   },
   {
    "duration": 0,
    "start_time": "2023-06-12T18:48:08.449Z"
   },
   {
    "duration": 0,
    "start_time": "2023-06-12T18:48:08.450Z"
   },
   {
    "duration": 0,
    "start_time": "2023-06-12T18:48:08.454Z"
   },
   {
    "duration": 0,
    "start_time": "2023-06-12T18:48:08.456Z"
   },
   {
    "duration": 0,
    "start_time": "2023-06-12T18:48:08.457Z"
   },
   {
    "duration": 9,
    "start_time": "2023-06-12T19:05:37.428Z"
   },
   {
    "duration": 1704,
    "start_time": "2023-06-12T19:05:45.767Z"
   },
   {
    "duration": 124,
    "start_time": "2023-06-12T19:05:47.474Z"
   },
   {
    "duration": 15,
    "start_time": "2023-06-12T19:05:47.600Z"
   },
   {
    "duration": 20,
    "start_time": "2023-06-12T19:05:47.617Z"
   },
   {
    "duration": 41,
    "start_time": "2023-06-12T19:05:47.640Z"
   },
   {
    "duration": 18,
    "start_time": "2023-06-12T19:05:47.683Z"
   },
   {
    "duration": 94,
    "start_time": "2023-06-12T19:05:47.704Z"
   },
   {
    "duration": 15,
    "start_time": "2023-06-12T19:05:47.801Z"
   },
   {
    "duration": 278,
    "start_time": "2023-06-12T19:05:47.817Z"
   },
   {
    "duration": 13,
    "start_time": "2023-06-12T19:05:48.098Z"
   },
   {
    "duration": 19,
    "start_time": "2023-06-12T19:05:48.113Z"
   },
   {
    "duration": 170,
    "start_time": "2023-06-12T19:05:48.135Z"
   },
   {
    "duration": 9,
    "start_time": "2023-06-12T19:05:48.307Z"
   },
   {
    "duration": 37,
    "start_time": "2023-06-12T19:05:48.318Z"
   },
   {
    "duration": 56,
    "start_time": "2023-06-12T19:05:48.362Z"
   },
   {
    "duration": 22,
    "start_time": "2023-06-12T19:05:48.421Z"
   },
   {
    "duration": 48,
    "start_time": "2023-06-12T19:05:48.448Z"
   },
   {
    "duration": 200,
    "start_time": "2023-06-12T19:05:48.499Z"
   },
   {
    "duration": 174,
    "start_time": "2023-06-12T19:05:48.701Z"
   },
   {
    "duration": 195,
    "start_time": "2023-06-12T19:05:48.878Z"
   },
   {
    "duration": 273,
    "start_time": "2023-06-12T19:05:49.075Z"
   },
   {
    "duration": 179,
    "start_time": "2023-06-12T19:05:49.355Z"
   },
   {
    "duration": 177,
    "start_time": "2023-06-12T19:05:49.537Z"
   },
   {
    "duration": 231,
    "start_time": "2023-06-12T19:05:49.717Z"
   },
   {
    "duration": 162,
    "start_time": "2023-06-12T19:05:49.952Z"
   },
   {
    "duration": 64,
    "start_time": "2023-06-12T19:05:50.117Z"
   },
   {
    "duration": 25,
    "start_time": "2023-06-12T19:05:50.186Z"
   },
   {
    "duration": 12,
    "start_time": "2023-06-12T19:05:50.213Z"
   },
   {
    "duration": 61,
    "start_time": "2023-06-12T19:05:50.228Z"
   },
   {
    "duration": 22,
    "start_time": "2023-06-12T19:05:50.292Z"
   },
   {
    "duration": 69,
    "start_time": "2023-06-12T19:05:50.317Z"
   },
   {
    "duration": 75,
    "start_time": "2023-06-12T19:05:50.391Z"
   },
   {
    "duration": 247,
    "start_time": "2023-06-12T19:05:50.472Z"
   },
   {
    "duration": 8,
    "start_time": "2023-06-12T19:05:50.721Z"
   },
   {
    "duration": 239,
    "start_time": "2023-06-12T19:05:50.731Z"
   },
   {
    "duration": 14,
    "start_time": "2023-06-12T19:05:50.972Z"
   },
   {
    "duration": 4,
    "start_time": "2023-06-12T19:05:50.989Z"
   },
   {
    "duration": 1853,
    "start_time": "2023-06-12T19:05:50.996Z"
   },
   {
    "duration": 157,
    "start_time": "2023-06-12T19:05:52.853Z"
   },
   {
    "duration": 5,
    "start_time": "2023-06-12T19:05:53.012Z"
   },
   {
    "duration": 35,
    "start_time": "2023-06-12T19:05:53.023Z"
   },
   {
    "duration": 20,
    "start_time": "2023-06-12T19:05:53.065Z"
   },
   {
    "duration": 11,
    "start_time": "2023-06-12T19:05:53.088Z"
   },
   {
    "duration": 16,
    "start_time": "2023-06-12T19:05:53.101Z"
   },
   {
    "duration": 204085,
    "start_time": "2023-06-12T19:05:53.119Z"
   },
   {
    "duration": 0,
    "start_time": "2023-06-12T19:09:17.206Z"
   },
   {
    "duration": 0,
    "start_time": "2023-06-12T19:09:17.208Z"
   },
   {
    "duration": 0,
    "start_time": "2023-06-12T19:09:17.209Z"
   },
   {
    "duration": 0,
    "start_time": "2023-06-12T19:09:17.211Z"
   },
   {
    "duration": 0,
    "start_time": "2023-06-12T19:09:17.212Z"
   },
   {
    "duration": 0,
    "start_time": "2023-06-12T19:09:17.216Z"
   },
   {
    "duration": 0,
    "start_time": "2023-06-12T19:09:17.217Z"
   },
   {
    "duration": 0,
    "start_time": "2023-06-12T19:09:17.218Z"
   },
   {
    "duration": 1901,
    "start_time": "2023-06-12T19:19:14.410Z"
   },
   {
    "duration": 129,
    "start_time": "2023-06-12T19:19:16.314Z"
   },
   {
    "duration": 32,
    "start_time": "2023-06-12T19:19:16.450Z"
   },
   {
    "duration": 25,
    "start_time": "2023-06-12T19:19:16.490Z"
   },
   {
    "duration": 7,
    "start_time": "2023-06-12T19:19:16.517Z"
   },
   {
    "duration": 24,
    "start_time": "2023-06-12T19:19:16.526Z"
   },
   {
    "duration": 54,
    "start_time": "2023-06-12T19:19:16.553Z"
   },
   {
    "duration": 14,
    "start_time": "2023-06-12T19:19:16.609Z"
   },
   {
    "duration": 302,
    "start_time": "2023-06-12T19:19:16.625Z"
   },
   {
    "duration": 21,
    "start_time": "2023-06-12T19:19:16.931Z"
   },
   {
    "duration": 26,
    "start_time": "2023-06-12T19:19:16.962Z"
   },
   {
    "duration": 193,
    "start_time": "2023-06-12T19:19:16.991Z"
   },
   {
    "duration": 9,
    "start_time": "2023-06-12T19:19:17.186Z"
   },
   {
    "duration": 13,
    "start_time": "2023-06-12T19:19:17.197Z"
   },
   {
    "duration": 37,
    "start_time": "2023-06-12T19:19:17.213Z"
   },
   {
    "duration": 5,
    "start_time": "2023-06-12T19:19:17.253Z"
   },
   {
    "duration": 26,
    "start_time": "2023-06-12T19:19:17.260Z"
   },
   {
    "duration": 131,
    "start_time": "2023-06-12T19:19:17.289Z"
   },
   {
    "duration": 150,
    "start_time": "2023-06-12T19:19:17.422Z"
   },
   {
    "duration": 155,
    "start_time": "2023-06-12T19:19:17.574Z"
   },
   {
    "duration": 260,
    "start_time": "2023-06-12T19:19:17.730Z"
   },
   {
    "duration": 172,
    "start_time": "2023-06-12T19:19:17.992Z"
   },
   {
    "duration": 234,
    "start_time": "2023-06-12T19:19:18.165Z"
   },
   {
    "duration": 218,
    "start_time": "2023-06-12T19:19:18.404Z"
   },
   {
    "duration": 192,
    "start_time": "2023-06-12T19:19:18.625Z"
   },
   {
    "duration": 78,
    "start_time": "2023-06-12T19:19:18.819Z"
   },
   {
    "duration": 36,
    "start_time": "2023-06-12T19:19:18.900Z"
   },
   {
    "duration": 70,
    "start_time": "2023-06-12T19:19:18.941Z"
   },
   {
    "duration": 10,
    "start_time": "2023-06-12T19:19:19.013Z"
   },
   {
    "duration": 10,
    "start_time": "2023-06-12T19:19:19.025Z"
   },
   {
    "duration": 52,
    "start_time": "2023-06-12T19:19:19.037Z"
   },
   {
    "duration": 80,
    "start_time": "2023-06-12T19:19:19.092Z"
   },
   {
    "duration": 299,
    "start_time": "2023-06-12T19:19:19.178Z"
   },
   {
    "duration": 7,
    "start_time": "2023-06-12T19:19:19.481Z"
   },
   {
    "duration": 204,
    "start_time": "2023-06-12T19:19:19.491Z"
   },
   {
    "duration": 16,
    "start_time": "2023-06-12T19:19:19.697Z"
   },
   {
    "duration": 3,
    "start_time": "2023-06-12T19:19:19.715Z"
   },
   {
    "duration": 1444,
    "start_time": "2023-06-12T19:19:19.721Z"
   },
   {
    "duration": 186,
    "start_time": "2023-06-12T19:19:21.167Z"
   },
   {
    "duration": 6,
    "start_time": "2023-06-12T19:19:21.358Z"
   },
   {
    "duration": 19,
    "start_time": "2023-06-12T19:19:21.366Z"
   },
   {
    "duration": 9,
    "start_time": "2023-06-12T19:19:21.387Z"
   },
   {
    "duration": 9,
    "start_time": "2023-06-12T19:19:21.398Z"
   },
   {
    "duration": 9,
    "start_time": "2023-06-12T19:19:21.409Z"
   },
   {
    "duration": 1662339,
    "start_time": "2023-06-12T19:19:21.420Z"
   },
   {
    "duration": 14,
    "start_time": "2023-06-12T19:47:03.760Z"
   },
   {
    "duration": 20,
    "start_time": "2023-06-12T19:47:03.775Z"
   },
   {
    "duration": 27,
    "start_time": "2023-06-12T19:47:03.797Z"
   },
   {
    "duration": 1276260,
    "start_time": "2023-06-12T19:47:03.825Z"
   },
   {
    "duration": 14,
    "start_time": "2023-06-12T20:08:20.088Z"
   },
   {
    "duration": 1792589,
    "start_time": "2023-06-12T20:08:20.104Z"
   },
   {
    "duration": 19,
    "start_time": "2023-06-12T20:38:12.696Z"
   },
   {
    "duration": 34,
    "start_time": "2023-06-12T20:38:12.717Z"
   },
   {
    "duration": 6,
    "start_time": "2023-06-12T20:40:50.994Z"
   },
   {
    "duration": 3292,
    "start_time": "2023-06-13T17:39:17.432Z"
   },
   {
    "duration": 200,
    "start_time": "2023-06-13T17:39:20.727Z"
   },
   {
    "duration": 15,
    "start_time": "2023-06-13T17:39:20.929Z"
   },
   {
    "duration": 18,
    "start_time": "2023-06-13T17:39:20.946Z"
   },
   {
    "duration": 5,
    "start_time": "2023-06-13T17:39:20.967Z"
   },
   {
    "duration": 32,
    "start_time": "2023-06-13T17:39:20.974Z"
   },
   {
    "duration": 44,
    "start_time": "2023-06-13T17:39:21.008Z"
   },
   {
    "duration": 19,
    "start_time": "2023-06-13T17:39:21.054Z"
   },
   {
    "duration": 225,
    "start_time": "2023-06-13T17:39:21.075Z"
   },
   {
    "duration": 13,
    "start_time": "2023-06-13T17:39:21.301Z"
   },
   {
    "duration": 11,
    "start_time": "2023-06-13T17:39:21.316Z"
   },
   {
    "duration": 132,
    "start_time": "2023-06-13T17:39:21.328Z"
   },
   {
    "duration": 7,
    "start_time": "2023-06-13T17:39:21.462Z"
   },
   {
    "duration": 23,
    "start_time": "2023-06-13T17:39:21.472Z"
   },
   {
    "duration": 19,
    "start_time": "2023-06-13T17:39:21.496Z"
   },
   {
    "duration": 2,
    "start_time": "2023-06-13T17:39:21.517Z"
   },
   {
    "duration": 34,
    "start_time": "2023-06-13T17:39:21.520Z"
   },
   {
    "duration": 122,
    "start_time": "2023-06-13T17:39:21.556Z"
   },
   {
    "duration": 121,
    "start_time": "2023-06-13T17:39:21.680Z"
   },
   {
    "duration": 192,
    "start_time": "2023-06-13T17:39:21.803Z"
   },
   {
    "duration": 139,
    "start_time": "2023-06-13T17:39:21.996Z"
   },
   {
    "duration": 135,
    "start_time": "2023-06-13T17:39:22.138Z"
   },
   {
    "duration": 141,
    "start_time": "2023-06-13T17:39:22.275Z"
   },
   {
    "duration": 142,
    "start_time": "2023-06-13T17:39:22.418Z"
   },
   {
    "duration": 115,
    "start_time": "2023-06-13T17:39:22.561Z"
   },
   {
    "duration": 44,
    "start_time": "2023-06-13T17:39:22.678Z"
   },
   {
    "duration": 18,
    "start_time": "2023-06-13T17:39:22.724Z"
   },
   {
    "duration": 6,
    "start_time": "2023-06-13T17:39:22.743Z"
   },
   {
    "duration": 12,
    "start_time": "2023-06-13T17:39:22.751Z"
   },
   {
    "duration": 8,
    "start_time": "2023-06-13T17:39:22.764Z"
   },
   {
    "duration": 127,
    "start_time": "2023-06-13T17:39:22.773Z"
   },
   {
    "duration": 103,
    "start_time": "2023-06-13T17:39:22.902Z"
   },
   {
    "duration": 148,
    "start_time": "2023-06-13T17:39:23.007Z"
   },
   {
    "duration": 6,
    "start_time": "2023-06-13T17:39:23.157Z"
   },
   {
    "duration": 148,
    "start_time": "2023-06-13T17:39:23.164Z"
   },
   {
    "duration": 10,
    "start_time": "2023-06-13T17:39:23.314Z"
   },
   {
    "duration": 7,
    "start_time": "2023-06-13T17:39:23.326Z"
   },
   {
    "duration": 1186,
    "start_time": "2023-06-13T17:39:23.335Z"
   },
   {
    "duration": 152,
    "start_time": "2023-06-13T17:39:24.523Z"
   },
   {
    "duration": 5,
    "start_time": "2023-06-13T17:39:24.677Z"
   },
   {
    "duration": 31,
    "start_time": "2023-06-13T17:39:24.687Z"
   },
   {
    "duration": 16,
    "start_time": "2023-06-13T17:39:24.720Z"
   },
   {
    "duration": 9,
    "start_time": "2023-06-13T17:39:24.738Z"
   },
   {
    "duration": 12,
    "start_time": "2023-06-13T17:39:24.749Z"
   },
   {
    "duration": 1565,
    "start_time": "2023-06-13T17:39:24.763Z"
   },
   {
    "duration": 13,
    "start_time": "2023-06-13T17:39:26.330Z"
   },
   {
    "duration": 15,
    "start_time": "2023-06-13T17:39:26.344Z"
   },
   {
    "duration": 34,
    "start_time": "2023-06-13T17:39:26.361Z"
   },
   {
    "duration": 1336,
    "start_time": "2023-06-13T17:39:26.397Z"
   },
   {
    "duration": 13,
    "start_time": "2023-06-13T17:39:27.734Z"
   },
   {
    "duration": 1881,
    "start_time": "2023-06-13T17:39:27.748Z"
   },
   {
    "duration": 12,
    "start_time": "2023-06-13T17:39:29.630Z"
   },
   {
    "duration": 33,
    "start_time": "2023-06-13T17:39:29.643Z"
   }
  ],
  "kernelspec": {
   "display_name": "Python 3 (ipykernel)",
   "language": "python",
   "name": "python3"
  },
  "language_info": {
   "codemirror_mode": {
    "name": "ipython",
    "version": 3
   },
   "file_extension": ".py",
   "mimetype": "text/x-python",
   "name": "python",
   "nbconvert_exporter": "python",
   "pygments_lexer": "ipython3",
   "version": "3.9.5"
  },
  "toc": {
   "base_numbering": 1,
   "nav_menu": {},
   "number_sections": true,
   "sideBar": true,
   "skip_h1_title": true,
   "title_cell": "Table of Contents",
   "title_sidebar": "Contents",
   "toc_cell": false,
   "toc_position": {},
   "toc_section_display": true,
   "toc_window_display": true
  }
 },
 "nbformat": 4,
 "nbformat_minor": 2
}
