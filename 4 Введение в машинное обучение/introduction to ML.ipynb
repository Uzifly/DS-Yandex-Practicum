{
 "cells": [
  {
   "cell_type": "markdown",
   "metadata": {},
   "source": [
    "# Рекомендация тарифов"
   ]
  },
  {
   "cell_type": "markdown",
   "metadata": {},
   "source": [
    "В вашем распоряжении данные о поведении клиентов, которые уже перешли на эти тарифы (из проекта курса «Статистический анализ данных»). Нужно построить модель для задачи классификации, которая выберет подходящий тариф. Предобработка данных не понадобится — вы её уже сделали.\n",
    "\n",
    "Постройте модель с максимально большим значением *accuracy*. Чтобы сдать проект успешно, нужно довести долю правильных ответов по крайней мере до 0.75. Проверьте *accuracy* на тестовой выборке самостоятельно."
   ]
  },
  {
   "cell_type": "markdown",
   "metadata": {},
   "source": [
    "## Откройте и изучите файл"
   ]
  },
  {
   "cell_type": "code",
   "execution_count": 1,
   "metadata": {},
   "outputs": [],
   "source": [
    "import pandas as pd\n",
    "import numpy as np\n",
    "import sklearn\n",
    "from sklearn.model_selection import train_test_split"
   ]
  },
  {
   "cell_type": "code",
   "execution_count": 2,
   "metadata": {},
   "outputs": [],
   "source": [
    "rnd_seed = 13"
   ]
  },
  {
   "cell_type": "code",
   "execution_count": 3,
   "metadata": {},
   "outputs": [],
   "source": [
    "data = pd.read_csv('/datasets/users_behavior.csv')"
   ]
  },
  {
   "cell_type": "code",
   "execution_count": 4,
   "metadata": {},
   "outputs": [
    {
     "data": {
      "text/html": [
       "<div>\n",
       "<style scoped>\n",
       "    .dataframe tbody tr th:only-of-type {\n",
       "        vertical-align: middle;\n",
       "    }\n",
       "\n",
       "    .dataframe tbody tr th {\n",
       "        vertical-align: top;\n",
       "    }\n",
       "\n",
       "    .dataframe thead th {\n",
       "        text-align: right;\n",
       "    }\n",
       "</style>\n",
       "<table border=\"1\" class=\"dataframe\">\n",
       "  <thead>\n",
       "    <tr style=\"text-align: right;\">\n",
       "      <th></th>\n",
       "      <th>calls</th>\n",
       "      <th>minutes</th>\n",
       "      <th>messages</th>\n",
       "      <th>mb_used</th>\n",
       "      <th>is_ultra</th>\n",
       "    </tr>\n",
       "  </thead>\n",
       "  <tbody>\n",
       "    <tr>\n",
       "      <th>0</th>\n",
       "      <td>40.0</td>\n",
       "      <td>311.90</td>\n",
       "      <td>83.0</td>\n",
       "      <td>19915.42</td>\n",
       "      <td>0</td>\n",
       "    </tr>\n",
       "    <tr>\n",
       "      <th>1</th>\n",
       "      <td>85.0</td>\n",
       "      <td>516.75</td>\n",
       "      <td>56.0</td>\n",
       "      <td>22696.96</td>\n",
       "      <td>0</td>\n",
       "    </tr>\n",
       "    <tr>\n",
       "      <th>2</th>\n",
       "      <td>77.0</td>\n",
       "      <td>467.66</td>\n",
       "      <td>86.0</td>\n",
       "      <td>21060.45</td>\n",
       "      <td>0</td>\n",
       "    </tr>\n",
       "    <tr>\n",
       "      <th>3</th>\n",
       "      <td>106.0</td>\n",
       "      <td>745.53</td>\n",
       "      <td>81.0</td>\n",
       "      <td>8437.39</td>\n",
       "      <td>1</td>\n",
       "    </tr>\n",
       "    <tr>\n",
       "      <th>4</th>\n",
       "      <td>66.0</td>\n",
       "      <td>418.74</td>\n",
       "      <td>1.0</td>\n",
       "      <td>14502.75</td>\n",
       "      <td>0</td>\n",
       "    </tr>\n",
       "    <tr>\n",
       "      <th>5</th>\n",
       "      <td>58.0</td>\n",
       "      <td>344.56</td>\n",
       "      <td>21.0</td>\n",
       "      <td>15823.37</td>\n",
       "      <td>0</td>\n",
       "    </tr>\n",
       "  </tbody>\n",
       "</table>\n",
       "</div>"
      ],
      "text/plain": [
       "   calls  minutes  messages   mb_used  is_ultra\n",
       "0   40.0   311.90      83.0  19915.42         0\n",
       "1   85.0   516.75      56.0  22696.96         0\n",
       "2   77.0   467.66      86.0  21060.45         0\n",
       "3  106.0   745.53      81.0   8437.39         1\n",
       "4   66.0   418.74       1.0  14502.75         0\n",
       "5   58.0   344.56      21.0  15823.37         0"
      ]
     },
     "execution_count": 4,
     "metadata": {},
     "output_type": "execute_result"
    }
   ],
   "source": [
    "data[:6]"
   ]
  },
  {
   "cell_type": "markdown",
   "metadata": {},
   "source": [
    "В таблице предсталены столбцы с звонками, минутами разговора, количеством сообщений и количеством использованного трафика. Результирующая колонка содержит булево значение: 1 если новый тариф \"Ультра\", 0 - \"Смарт\""
   ]
  },
  {
   "cell_type": "code",
   "execution_count": 5,
   "metadata": {},
   "outputs": [
    {
     "data": {
      "text/plain": [
       "calls       0\n",
       "minutes     0\n",
       "messages    0\n",
       "mb_used     0\n",
       "is_ultra    0\n",
       "dtype: int64"
      ]
     },
     "execution_count": 5,
     "metadata": {},
     "output_type": "execute_result"
    }
   ],
   "source": [
    "data.isna().sum()"
   ]
  },
  {
   "cell_type": "code",
   "execution_count": 6,
   "metadata": {},
   "outputs": [
    {
     "data": {
      "text/plain": [
       "0"
      ]
     },
     "execution_count": 6,
     "metadata": {},
     "output_type": "execute_result"
    }
   ],
   "source": [
    "data.duplicated().sum()"
   ]
  },
  {
   "cell_type": "markdown",
   "metadata": {},
   "source": [
    "данные не имеют пропусков и дубликатов. "
   ]
  },
  {
   "cell_type": "code",
   "execution_count": 7,
   "metadata": {},
   "outputs": [
    {
     "data": {
      "image/png": "[encoded data removed]",
      "text/plain": [
       "<Figure size 1080x720 with 4 Axes>"
      ]
     },
     "metadata": {
      "needs_background": "light"
     },
     "output_type": "display_data"
    }
   ],
   "source": [
    "data.iloc[:,:4].hist(figsize=(15,10), bins = 50);"
   ]
  },
  {
   "cell_type": "code",
   "execution_count": 8,
   "metadata": {},
   "outputs": [
    {
     "name": "stdout",
     "output_type": "stream",
     "text": [
      "классы имеют соотношение  30.65  к  69.35\n"
     ]
    },
    {
     "data": {
      "image/png": "[encoded data removed]",
      "text/plain": [
       "<Figure size 432x288 with 1 Axes>"
      ]
     },
     "metadata": {
      "needs_background": "light"
     },
     "output_type": "display_data"
    }
   ],
   "source": [
    "balance = (data['is_ultra'].sum() / data['is_ultra'].count() * 100).round(2)\n",
    "data['is_ultra'].hist(bins = 2);\n",
    "print('классы имеют соотношение ', balance, ' к ', 100-balance)"
   ]
  },
  {
   "cell_type": "markdown",
   "metadata": {},
   "source": [
    "Распределения имеют нормальный вид, без аномальных значений. Модель имеющую точность > 69% можно будет считать работающей."
   ]
  },
  {
   "cell_type": "markdown",
   "metadata": {},
   "source": [
    "## Разбейте данные на выборки"
   ]
  },
  {
   "cell_type": "markdown",
   "metadata": {},
   "source": [
    "Для выполнения задачи будет выделено три набора данных: тренировочная, тестовая и валидационная.\n",
    "На тренировочной выборке модели будут проходить обучение. На валидационной будет проверено поведение модели с целью выявления признаков переобучения, тестовая выборка покажет итоговый результат работы модели."
   ]
  },
  {
   "cell_type": "code",
   "execution_count": 9,
   "metadata": {},
   "outputs": [],
   "source": [
    "X, y = data.iloc[:,:4], data.iloc[:,-1]"
   ]
  },
  {
   "cell_type": "code",
   "execution_count": 10,
   "metadata": {},
   "outputs": [
    {
     "data": {
      "text/plain": [
       "((3214, 4), (3214,))"
      ]
     },
     "execution_count": 10,
     "metadata": {},
     "output_type": "execute_result"
    }
   ],
   "source": [
    "X.shape, y.shape"
   ]
  },
  {
   "cell_type": "code",
   "execution_count": 11,
   "metadata": {
    "scrolled": true
   },
   "outputs": [],
   "source": [
    "X_train, X_vrf, y_train, y_vrf = train_test_split(X, y, train_size = 0.6, random_state = rnd_seed)"
   ]
  },
  {
   "cell_type": "code",
   "execution_count": 12,
   "metadata": {},
   "outputs": [],
   "source": [
    "X_test, X_valid, y_test, y_valid = train_test_split(X_vrf, y_vrf, train_size = 0.5, random_state = rnd_seed)"
   ]
  },
  {
   "cell_type": "code",
   "execution_count": 13,
   "metadata": {},
   "outputs": [
    {
     "name": "stdout",
     "output_type": "stream",
     "text": [
      "(1928, 4)\n",
      "(1928,)\n",
      "(643, 4)\n",
      "(643, 4)\n",
      "(643,)\n",
      "(643,)\n"
     ]
    }
   ],
   "source": [
    "for value in (X_train, y_train, X_test, X_valid, y_test, y_valid):\n",
    "    print(value.shape)"
   ]
  },
  {
   "cell_type": "markdown",
   "metadata": {},
   "source": [
    "## Исследуйте модели"
   ]
  },
  {
   "cell_type": "markdown",
   "metadata": {},
   "source": [
    "Задача модели состоит в опредлении подходящего тарифа: \"смарт\" или \"ультра\". \n",
    "В данных есть резутаты решений клиентов о выборе тарифов. Это будут обучающие данные. \n",
    "Категорий целевого признака всего две. Решаем задачу бинарной классификации. \n",
    "Для обучения применим модель дерева решений, случайного леса и метод логистической регресси."
   ]
  },
  {
   "cell_type": "code",
   "execution_count": 14,
   "metadata": {},
   "outputs": [],
   "source": [
    "from sklearn.metrics import accuracy_score \n",
    "from sklearn.tree import DecisionTreeClassifier\n",
    "from sklearn.ensemble import RandomForestClassifier\n",
    "from sklearn.linear_model import LogisticRegression"
   ]
  },
  {
   "cell_type": "markdown",
   "metadata": {},
   "source": [
    "### Дерево решений"
   ]
  },
  {
   "cell_type": "code",
   "execution_count": 15,
   "metadata": {},
   "outputs": [],
   "source": [
    "def getBestDTCmodel(depth, rnd_seed, min_sample):\n",
    "    result = 0\n",
    "    best_result = 0\n",
    "    best_model = None\n",
    "    for i in range(1, depth+1):\n",
    "        for crit in [\"gini\", \"entropy\"]:\n",
    "            for smp in range(2, min_sample+1):\n",
    "                model = DecisionTreeClassifier(random_state = rnd_seed, max_depth = i, min_samples_split = smp, criterion = crit)\n",
    "                model.fit(X_train, y_train)\n",
    "                result = accuracy_score(y_valid, model.predict(X_valid))\n",
    "                if result > best_result:\n",
    "                    best_model = model\n",
    "                    best_result = result\n",
    "    print(\"Accuracy лучшей модели:\", best_result)\n",
    "    return best_model\n",
    "    "
   ]
  },
  {
   "cell_type": "code",
   "execution_count": 16,
   "metadata": {},
   "outputs": [
    {
     "name": "stdout",
     "output_type": "stream",
     "text": [
      "Accuracy лучшей модели: 0.80248833592535\n"
     ]
    }
   ],
   "source": [
    "modelDTC = getBestDTCmodel(10, rnd_seed, 20)"
   ]
  },
  {
   "cell_type": "markdown",
   "metadata": {},
   "source": [
    "Дерево решений дало удовлетворительный результат для задачи, \n",
    "но стоит попробовать и другие модели."
   ]
  },
  {
   "cell_type": "markdown",
   "metadata": {},
   "source": [
    "### Случайный лес"
   ]
  },
  {
   "cell_type": "code",
   "execution_count": 17,
   "metadata": {},
   "outputs": [],
   "source": [
    "def getBestRFCmodel(estimators, rnd_seed, min_sample):\n",
    "    result = 0\n",
    "    best_result = 0\n",
    "    best_model = None\n",
    "    for i in range(1, estimators+1):\n",
    "        for crit in [\"gini\", \"entropy\"]:\n",
    "            for smp in range(2, min_sample+1):\n",
    "                model = RandomForestClassifier(random_state = rnd_seed, n_estimators = i, min_samples_split = smp, criterion = crit)\n",
    "                model.fit(X_train, y_train)\n",
    "                result = model.score(X_valid, y_valid)\n",
    "                if result > best_result:\n",
    "                    best_model = model\n",
    "                    best_result = result\n",
    "    print(\"Accuracy лучшей модели:\", best_result)\n",
    "    return best_model\n",
    "    "
   ]
  },
  {
   "cell_type": "code",
   "execution_count": 18,
   "metadata": {},
   "outputs": [
    {
     "name": "stdout",
     "output_type": "stream",
     "text": [
      "Accuracy лучшей модели: 0.8195956454121306\n"
     ]
    }
   ],
   "source": [
    "modelRFC = getBestRFCmodel(10, rnd_seed, 30)"
   ]
  },
  {
   "cell_type": "markdown",
   "metadata": {},
   "source": [
    "Работа модели так-же дала неплохой результат."
   ]
  },
  {
   "cell_type": "markdown",
   "metadata": {},
   "source": [
    "### Логистическая регрессия"
   ]
  },
  {
   "cell_type": "code",
   "execution_count": 19,
   "metadata": {},
   "outputs": [],
   "source": [
    "def getLRmodel(rnd_seed, solvers, iter_value):\n",
    "    top_acc = -1.0\n",
    "    param = []\n",
    "    for solver in solvers:\n",
    "        for value in range(iter_value-1, iter_value, 100):\n",
    "            for class0 in range(10, 100, 20):\n",
    "                for class1 in range(10, 100, 20):\n",
    "                    for regularize in range(10, 100, 10):\n",
    "                        result = 0\n",
    "                        model = LogisticRegression(\n",
    "                            solver=solver, \n",
    "                            max_iter=value, \n",
    "                            random_state = rnd_seed,\n",
    "                            class_weight = {0: class0/100, 1: class1/100},\n",
    "                            C = regularize/100\n",
    "                            ) \n",
    "                        model.fit(X_train, y_train)\n",
    "                        result = model.score(X_valid, y_valid)\n",
    "                        if top_acc < result:\n",
    "                            top_acc = result\n",
    "                            param = [top_acc, solver, class0, class1, regularize]\n",
    "    print(param)\n",
    "    return model\n",
    "    "
   ]
  },
  {
   "cell_type": "code",
   "execution_count": 20,
   "metadata": {},
   "outputs": [
    {
     "name": "stderr",
     "output_type": "stream",
     "text": [
      "/opt/conda/lib/python3.9/site-packages/sklearn/linear_model/_sag.py:328: ConvergenceWarning: The max_iter was reached which means the coef_ did not converge\n",
      "  warnings.warn(\"The max_iter was reached which means \"\n",
      "/opt/conda/lib/python3.9/site-packages/sklearn/linear_model/_sag.py:328: ConvergenceWarning: The max_iter was reached which means the coef_ did not converge\n",
      "  warnings.warn(\"The max_iter was reached which means \"\n",
      "/opt/conda/lib/python3.9/site-packages/sklearn/linear_model/_sag.py:328: ConvergenceWarning: The max_iter was reached which means the coef_ did not converge\n",
      "  warnings.warn(\"The max_iter was reached which means \"\n",
      "/opt/conda/lib/python3.9/site-packages/sklearn/linear_model/_sag.py:328: ConvergenceWarning: The max_iter was reached which means the coef_ did not converge\n",
      "  warnings.warn(\"The max_iter was reached which means \"\n",
      "/opt/conda/lib/python3.9/site-packages/sklearn/linear_model/_sag.py:328: ConvergenceWarning: The max_iter was reached which means the coef_ did not converge\n",
      "  warnings.warn(\"The max_iter was reached which means \"\n",
      "/opt/conda/lib/python3.9/site-packages/sklearn/linear_model/_sag.py:328: ConvergenceWarning: The max_iter was reached which means the coef_ did not converge\n",
      "  warnings.warn(\"The max_iter was reached which means \"\n",
      "/opt/conda/lib/python3.9/site-packages/sklearn/linear_model/_sag.py:328: ConvergenceWarning: The max_iter was reached which means the coef_ did not converge\n",
      "  warnings.warn(\"The max_iter was reached which means \"\n",
      "/opt/conda/lib/python3.9/site-packages/sklearn/linear_model/_sag.py:328: ConvergenceWarning: The max_iter was reached which means the coef_ did not converge\n",
      "  warnings.warn(\"The max_iter was reached which means \"\n",
      "/opt/conda/lib/python3.9/site-packages/sklearn/linear_model/_sag.py:328: ConvergenceWarning: The max_iter was reached which means the coef_ did not converge\n",
      "  warnings.warn(\"The max_iter was reached which means \"\n",
      "/opt/conda/lib/python3.9/site-packages/sklearn/linear_model/_sag.py:328: ConvergenceWarning: The max_iter was reached which means the coef_ did not converge\n",
      "  warnings.warn(\"The max_iter was reached which means \"\n",
      "/opt/conda/lib/python3.9/site-packages/sklearn/linear_model/_sag.py:328: ConvergenceWarning: The max_iter was reached which means the coef_ did not converge\n",
      "  warnings.warn(\"The max_iter was reached which means \"\n",
      "/opt/conda/lib/python3.9/site-packages/sklearn/linear_model/_sag.py:328: ConvergenceWarning: The max_iter was reached which means the coef_ did not converge\n",
      "  warnings.warn(\"The max_iter was reached which means \"\n",
      "/opt/conda/lib/python3.9/site-packages/sklearn/linear_model/_sag.py:328: ConvergenceWarning: The max_iter was reached which means the coef_ did not converge\n",
      "  warnings.warn(\"The max_iter was reached which means \"\n",
      "/opt/conda/lib/python3.9/site-packages/sklearn/linear_model/_sag.py:328: ConvergenceWarning: The max_iter was reached which means the coef_ did not converge\n",
      "  warnings.warn(\"The max_iter was reached which means \"\n",
      "/opt/conda/lib/python3.9/site-packages/sklearn/linear_model/_sag.py:328: ConvergenceWarning: The max_iter was reached which means the coef_ did not converge\n",
      "  warnings.warn(\"The max_iter was reached which means \"\n",
      "/opt/conda/lib/python3.9/site-packages/sklearn/linear_model/_sag.py:328: ConvergenceWarning: The max_iter was reached which means the coef_ did not converge\n",
      "  warnings.warn(\"The max_iter was reached which means \"\n",
      "/opt/conda/lib/python3.9/site-packages/sklearn/linear_model/_sag.py:328: ConvergenceWarning: The max_iter was reached which means the coef_ did not converge\n",
      "  warnings.warn(\"The max_iter was reached which means \"\n",
      "/opt/conda/lib/python3.9/site-packages/sklearn/linear_model/_sag.py:328: ConvergenceWarning: The max_iter was reached which means the coef_ did not converge\n",
      "  warnings.warn(\"The max_iter was reached which means \"\n",
      "/opt/conda/lib/python3.9/site-packages/sklearn/linear_model/_sag.py:328: ConvergenceWarning: The max_iter was reached which means the coef_ did not converge\n",
      "  warnings.warn(\"The max_iter was reached which means \"\n",
      "/opt/conda/lib/python3.9/site-packages/sklearn/linear_model/_sag.py:328: ConvergenceWarning: The max_iter was reached which means the coef_ did not converge\n",
      "  warnings.warn(\"The max_iter was reached which means \"\n",
      "/opt/conda/lib/python3.9/site-packages/sklearn/linear_model/_sag.py:328: ConvergenceWarning: The max_iter was reached which means the coef_ did not converge\n",
      "  warnings.warn(\"The max_iter was reached which means \"\n",
      "/opt/conda/lib/python3.9/site-packages/sklearn/linear_model/_sag.py:328: ConvergenceWarning: The max_iter was reached which means the coef_ did not converge\n",
      "  warnings.warn(\"The max_iter was reached which means \"\n",
      "/opt/conda/lib/python3.9/site-packages/sklearn/linear_model/_sag.py:328: ConvergenceWarning: The max_iter was reached which means the coef_ did not converge\n",
      "  warnings.warn(\"The max_iter was reached which means \"\n",
      "/opt/conda/lib/python3.9/site-packages/sklearn/linear_model/_sag.py:328: ConvergenceWarning: The max_iter was reached which means the coef_ did not converge\n",
      "  warnings.warn(\"The max_iter was reached which means \"\n",
      "/opt/conda/lib/python3.9/site-packages/sklearn/linear_model/_sag.py:328: ConvergenceWarning: The max_iter was reached which means the coef_ did not converge\n",
      "  warnings.warn(\"The max_iter was reached which means \"\n",
      "/opt/conda/lib/python3.9/site-packages/sklearn/linear_model/_sag.py:328: ConvergenceWarning: The max_iter was reached which means the coef_ did not converge\n",
      "  warnings.warn(\"The max_iter was reached which means \"\n",
      "/opt/conda/lib/python3.9/site-packages/sklearn/linear_model/_sag.py:328: ConvergenceWarning: The max_iter was reached which means the coef_ did not converge\n",
      "  warnings.warn(\"The max_iter was reached which means \"\n",
      "/opt/conda/lib/python3.9/site-packages/sklearn/linear_model/_sag.py:328: ConvergenceWarning: The max_iter was reached which means the coef_ did not converge\n",
      "  warnings.warn(\"The max_iter was reached which means \"\n",
      "/opt/conda/lib/python3.9/site-packages/sklearn/linear_model/_sag.py:328: ConvergenceWarning: The max_iter was reached which means the coef_ did not converge\n",
      "  warnings.warn(\"The max_iter was reached which means \"\n",
      "/opt/conda/lib/python3.9/site-packages/sklearn/linear_model/_sag.py:328: ConvergenceWarning: The max_iter was reached which means the coef_ did not converge\n",
      "  warnings.warn(\"The max_iter was reached which means \"\n",
      "/opt/conda/lib/python3.9/site-packages/sklearn/linear_model/_sag.py:328: ConvergenceWarning: The max_iter was reached which means the coef_ did not converge\n",
      "  warnings.warn(\"The max_iter was reached which means \"\n",
      "/opt/conda/lib/python3.9/site-packages/sklearn/linear_model/_sag.py:328: ConvergenceWarning: The max_iter was reached which means the coef_ did not converge\n",
      "  warnings.warn(\"The max_iter was reached which means \"\n",
      "/opt/conda/lib/python3.9/site-packages/sklearn/linear_model/_sag.py:328: ConvergenceWarning: The max_iter was reached which means the coef_ did not converge\n",
      "  warnings.warn(\"The max_iter was reached which means \"\n",
      "/opt/conda/lib/python3.9/site-packages/sklearn/linear_model/_sag.py:328: ConvergenceWarning: The max_iter was reached which means the coef_ did not converge\n",
      "  warnings.warn(\"The max_iter was reached which means \"\n",
      "/opt/conda/lib/python3.9/site-packages/sklearn/linear_model/_sag.py:328: ConvergenceWarning: The max_iter was reached which means the coef_ did not converge\n",
      "  warnings.warn(\"The max_iter was reached which means \"\n",
      "/opt/conda/lib/python3.9/site-packages/sklearn/linear_model/_sag.py:328: ConvergenceWarning: The max_iter was reached which means the coef_ did not converge\n",
      "  warnings.warn(\"The max_iter was reached which means \"\n",
      "/opt/conda/lib/python3.9/site-packages/sklearn/linear_model/_sag.py:328: ConvergenceWarning: The max_iter was reached which means the coef_ did not converge\n",
      "  warnings.warn(\"The max_iter was reached which means \"\n",
      "/opt/conda/lib/python3.9/site-packages/sklearn/linear_model/_sag.py:328: ConvergenceWarning: The max_iter was reached which means the coef_ did not converge\n",
      "  warnings.warn(\"The max_iter was reached which means \"\n",
      "/opt/conda/lib/python3.9/site-packages/sklearn/linear_model/_sag.py:328: ConvergenceWarning: The max_iter was reached which means the coef_ did not converge\n",
      "  warnings.warn(\"The max_iter was reached which means \"\n",
      "/opt/conda/lib/python3.9/site-packages/sklearn/linear_model/_sag.py:328: ConvergenceWarning: The max_iter was reached which means the coef_ did not converge\n",
      "  warnings.warn(\"The max_iter was reached which means \"\n",
      "/opt/conda/lib/python3.9/site-packages/sklearn/linear_model/_sag.py:328: ConvergenceWarning: The max_iter was reached which means the coef_ did not converge\n",
      "  warnings.warn(\"The max_iter was reached which means \"\n",
      "/opt/conda/lib/python3.9/site-packages/sklearn/linear_model/_sag.py:328: ConvergenceWarning: The max_iter was reached which means the coef_ did not converge\n",
      "  warnings.warn(\"The max_iter was reached which means \"\n",
      "/opt/conda/lib/python3.9/site-packages/sklearn/linear_model/_sag.py:328: ConvergenceWarning: The max_iter was reached which means the coef_ did not converge\n",
      "  warnings.warn(\"The max_iter was reached which means \"\n",
      "/opt/conda/lib/python3.9/site-packages/sklearn/linear_model/_sag.py:328: ConvergenceWarning: The max_iter was reached which means the coef_ did not converge\n",
      "  warnings.warn(\"The max_iter was reached which means \"\n",
      "/opt/conda/lib/python3.9/site-packages/sklearn/linear_model/_sag.py:328: ConvergenceWarning: The max_iter was reached which means the coef_ did not converge\n",
      "  warnings.warn(\"The max_iter was reached which means \"\n",
      "/opt/conda/lib/python3.9/site-packages/sklearn/linear_model/_sag.py:328: ConvergenceWarning: The max_iter was reached which means the coef_ did not converge\n",
      "  warnings.warn(\"The max_iter was reached which means \"\n",
      "/opt/conda/lib/python3.9/site-packages/sklearn/linear_model/_sag.py:328: ConvergenceWarning: The max_iter was reached which means the coef_ did not converge\n",
      "  warnings.warn(\"The max_iter was reached which means \"\n",
      "/opt/conda/lib/python3.9/site-packages/sklearn/linear_model/_sag.py:328: ConvergenceWarning: The max_iter was reached which means the coef_ did not converge\n",
      "  warnings.warn(\"The max_iter was reached which means \"\n",
      "/opt/conda/lib/python3.9/site-packages/sklearn/linear_model/_sag.py:328: ConvergenceWarning: The max_iter was reached which means the coef_ did not converge\n",
      "  warnings.warn(\"The max_iter was reached which means \"\n",
      "/opt/conda/lib/python3.9/site-packages/sklearn/linear_model/_sag.py:328: ConvergenceWarning: The max_iter was reached which means the coef_ did not converge\n",
      "  warnings.warn(\"The max_iter was reached which means \"\n",
      "/opt/conda/lib/python3.9/site-packages/sklearn/linear_model/_sag.py:328: ConvergenceWarning: The max_iter was reached which means the coef_ did not converge\n",
      "  warnings.warn(\"The max_iter was reached which means \"\n",
      "/opt/conda/lib/python3.9/site-packages/sklearn/linear_model/_sag.py:328: ConvergenceWarning: The max_iter was reached which means the coef_ did not converge\n",
      "  warnings.warn(\"The max_iter was reached which means \"\n",
      "/opt/conda/lib/python3.9/site-packages/sklearn/linear_model/_sag.py:328: ConvergenceWarning: The max_iter was reached which means the coef_ did not converge\n",
      "  warnings.warn(\"The max_iter was reached which means \"\n",
      "/opt/conda/lib/python3.9/site-packages/sklearn/linear_model/_sag.py:328: ConvergenceWarning: The max_iter was reached which means the coef_ did not converge\n",
      "  warnings.warn(\"The max_iter was reached which means \"\n",
      "/opt/conda/lib/python3.9/site-packages/sklearn/linear_model/_sag.py:328: ConvergenceWarning: The max_iter was reached which means the coef_ did not converge\n",
      "  warnings.warn(\"The max_iter was reached which means \"\n",
      "/opt/conda/lib/python3.9/site-packages/sklearn/linear_model/_sag.py:328: ConvergenceWarning: The max_iter was reached which means the coef_ did not converge\n",
      "  warnings.warn(\"The max_iter was reached which means \"\n",
      "/opt/conda/lib/python3.9/site-packages/sklearn/linear_model/_sag.py:328: ConvergenceWarning: The max_iter was reached which means the coef_ did not converge\n",
      "  warnings.warn(\"The max_iter was reached which means \"\n",
      "/opt/conda/lib/python3.9/site-packages/sklearn/linear_model/_sag.py:328: ConvergenceWarning: The max_iter was reached which means the coef_ did not converge\n",
      "  warnings.warn(\"The max_iter was reached which means \"\n",
      "/opt/conda/lib/python3.9/site-packages/sklearn/linear_model/_sag.py:328: ConvergenceWarning: The max_iter was reached which means the coef_ did not converge\n",
      "  warnings.warn(\"The max_iter was reached which means \"\n",
      "/opt/conda/lib/python3.9/site-packages/sklearn/linear_model/_sag.py:328: ConvergenceWarning: The max_iter was reached which means the coef_ did not converge\n",
      "  warnings.warn(\"The max_iter was reached which means \"\n",
      "/opt/conda/lib/python3.9/site-packages/sklearn/linear_model/_sag.py:328: ConvergenceWarning: The max_iter was reached which means the coef_ did not converge\n",
      "  warnings.warn(\"The max_iter was reached which means \"\n",
      "/opt/conda/lib/python3.9/site-packages/sklearn/linear_model/_sag.py:328: ConvergenceWarning: The max_iter was reached which means the coef_ did not converge\n",
      "  warnings.warn(\"The max_iter was reached which means \"\n",
      "/opt/conda/lib/python3.9/site-packages/sklearn/linear_model/_sag.py:328: ConvergenceWarning: The max_iter was reached which means the coef_ did not converge\n",
      "  warnings.warn(\"The max_iter was reached which means \"\n",
      "/opt/conda/lib/python3.9/site-packages/sklearn/linear_model/_sag.py:328: ConvergenceWarning: The max_iter was reached which means the coef_ did not converge\n",
      "  warnings.warn(\"The max_iter was reached which means \"\n",
      "/opt/conda/lib/python3.9/site-packages/sklearn/linear_model/_sag.py:328: ConvergenceWarning: The max_iter was reached which means the coef_ did not converge\n",
      "  warnings.warn(\"The max_iter was reached which means \"\n",
      "/opt/conda/lib/python3.9/site-packages/sklearn/linear_model/_sag.py:328: ConvergenceWarning: The max_iter was reached which means the coef_ did not converge\n",
      "  warnings.warn(\"The max_iter was reached which means \"\n",
      "/opt/conda/lib/python3.9/site-packages/sklearn/linear_model/_sag.py:328: ConvergenceWarning: The max_iter was reached which means the coef_ did not converge\n",
      "  warnings.warn(\"The max_iter was reached which means \"\n",
      "/opt/conda/lib/python3.9/site-packages/sklearn/linear_model/_sag.py:328: ConvergenceWarning: The max_iter was reached which means the coef_ did not converge\n",
      "  warnings.warn(\"The max_iter was reached which means \"\n",
      "/opt/conda/lib/python3.9/site-packages/sklearn/linear_model/_sag.py:328: ConvergenceWarning: The max_iter was reached which means the coef_ did not converge\n",
      "  warnings.warn(\"The max_iter was reached which means \"\n",
      "/opt/conda/lib/python3.9/site-packages/sklearn/linear_model/_sag.py:328: ConvergenceWarning: The max_iter was reached which means the coef_ did not converge\n",
      "  warnings.warn(\"The max_iter was reached which means \"\n",
      "/opt/conda/lib/python3.9/site-packages/sklearn/linear_model/_sag.py:328: ConvergenceWarning: The max_iter was reached which means the coef_ did not converge\n",
      "  warnings.warn(\"The max_iter was reached which means \"\n",
      "/opt/conda/lib/python3.9/site-packages/sklearn/linear_model/_sag.py:328: ConvergenceWarning: The max_iter was reached which means the coef_ did not converge\n",
      "  warnings.warn(\"The max_iter was reached which means \"\n",
      "/opt/conda/lib/python3.9/site-packages/sklearn/linear_model/_sag.py:328: ConvergenceWarning: The max_iter was reached which means the coef_ did not converge\n",
      "  warnings.warn(\"The max_iter was reached which means \"\n",
      "/opt/conda/lib/python3.9/site-packages/sklearn/linear_model/_sag.py:328: ConvergenceWarning: The max_iter was reached which means the coef_ did not converge\n",
      "  warnings.warn(\"The max_iter was reached which means \"\n",
      "/opt/conda/lib/python3.9/site-packages/sklearn/linear_model/_sag.py:328: ConvergenceWarning: The max_iter was reached which means the coef_ did not converge\n",
      "  warnings.warn(\"The max_iter was reached which means \"\n",
      "/opt/conda/lib/python3.9/site-packages/sklearn/linear_model/_sag.py:328: ConvergenceWarning: The max_iter was reached which means the coef_ did not converge\n",
      "  warnings.warn(\"The max_iter was reached which means \"\n",
      "/opt/conda/lib/python3.9/site-packages/sklearn/linear_model/_sag.py:328: ConvergenceWarning: The max_iter was reached which means the coef_ did not converge\n",
      "  warnings.warn(\"The max_iter was reached which means \"\n",
      "/opt/conda/lib/python3.9/site-packages/sklearn/linear_model/_sag.py:328: ConvergenceWarning: The max_iter was reached which means the coef_ did not converge\n",
      "  warnings.warn(\"The max_iter was reached which means \"\n",
      "/opt/conda/lib/python3.9/site-packages/sklearn/linear_model/_sag.py:328: ConvergenceWarning: The max_iter was reached which means the coef_ did not converge\n",
      "  warnings.warn(\"The max_iter was reached which means \"\n",
      "/opt/conda/lib/python3.9/site-packages/sklearn/linear_model/_sag.py:328: ConvergenceWarning: The max_iter was reached which means the coef_ did not converge\n",
      "  warnings.warn(\"The max_iter was reached which means \"\n",
      "/opt/conda/lib/python3.9/site-packages/sklearn/linear_model/_sag.py:328: ConvergenceWarning: The max_iter was reached which means the coef_ did not converge\n",
      "  warnings.warn(\"The max_iter was reached which means \"\n",
      "/opt/conda/lib/python3.9/site-packages/sklearn/linear_model/_sag.py:328: ConvergenceWarning: The max_iter was reached which means the coef_ did not converge\n",
      "  warnings.warn(\"The max_iter was reached which means \"\n",
      "/opt/conda/lib/python3.9/site-packages/sklearn/linear_model/_sag.py:328: ConvergenceWarning: The max_iter was reached which means the coef_ did not converge\n",
      "  warnings.warn(\"The max_iter was reached which means \"\n",
      "/opt/conda/lib/python3.9/site-packages/sklearn/linear_model/_sag.py:328: ConvergenceWarning: The max_iter was reached which means the coef_ did not converge\n",
      "  warnings.warn(\"The max_iter was reached which means \"\n",
      "/opt/conda/lib/python3.9/site-packages/sklearn/linear_model/_sag.py:328: ConvergenceWarning: The max_iter was reached which means the coef_ did not converge\n",
      "  warnings.warn(\"The max_iter was reached which means \"\n",
      "/opt/conda/lib/python3.9/site-packages/sklearn/linear_model/_sag.py:328: ConvergenceWarning: The max_iter was reached which means the coef_ did not converge\n",
      "  warnings.warn(\"The max_iter was reached which means \"\n",
      "/opt/conda/lib/python3.9/site-packages/sklearn/linear_model/_sag.py:328: ConvergenceWarning: The max_iter was reached which means the coef_ did not converge\n",
      "  warnings.warn(\"The max_iter was reached which means \"\n",
      "/opt/conda/lib/python3.9/site-packages/sklearn/linear_model/_sag.py:328: ConvergenceWarning: The max_iter was reached which means the coef_ did not converge\n",
      "  warnings.warn(\"The max_iter was reached which means \"\n",
      "/opt/conda/lib/python3.9/site-packages/sklearn/linear_model/_sag.py:328: ConvergenceWarning: The max_iter was reached which means the coef_ did not converge\n",
      "  warnings.warn(\"The max_iter was reached which means \"\n",
      "/opt/conda/lib/python3.9/site-packages/sklearn/linear_model/_sag.py:328: ConvergenceWarning: The max_iter was reached which means the coef_ did not converge\n",
      "  warnings.warn(\"The max_iter was reached which means \"\n",
      "/opt/conda/lib/python3.9/site-packages/sklearn/linear_model/_sag.py:328: ConvergenceWarning: The max_iter was reached which means the coef_ did not converge\n",
      "  warnings.warn(\"The max_iter was reached which means \"\n",
      "/opt/conda/lib/python3.9/site-packages/sklearn/linear_model/_sag.py:328: ConvergenceWarning: The max_iter was reached which means the coef_ did not converge\n",
      "  warnings.warn(\"The max_iter was reached which means \"\n",
      "/opt/conda/lib/python3.9/site-packages/sklearn/linear_model/_sag.py:328: ConvergenceWarning: The max_iter was reached which means the coef_ did not converge\n",
      "  warnings.warn(\"The max_iter was reached which means \"\n",
      "/opt/conda/lib/python3.9/site-packages/sklearn/linear_model/_sag.py:328: ConvergenceWarning: The max_iter was reached which means the coef_ did not converge\n",
      "  warnings.warn(\"The max_iter was reached which means \"\n",
      "/opt/conda/lib/python3.9/site-packages/sklearn/linear_model/_sag.py:328: ConvergenceWarning: The max_iter was reached which means the coef_ did not converge\n",
      "  warnings.warn(\"The max_iter was reached which means \"\n",
      "/opt/conda/lib/python3.9/site-packages/sklearn/linear_model/_sag.py:328: ConvergenceWarning: The max_iter was reached which means the coef_ did not converge\n",
      "  warnings.warn(\"The max_iter was reached which means \"\n",
      "/opt/conda/lib/python3.9/site-packages/sklearn/linear_model/_sag.py:328: ConvergenceWarning: The max_iter was reached which means the coef_ did not converge\n",
      "  warnings.warn(\"The max_iter was reached which means \"\n",
      "/opt/conda/lib/python3.9/site-packages/sklearn/linear_model/_sag.py:328: ConvergenceWarning: The max_iter was reached which means the coef_ did not converge\n",
      "  warnings.warn(\"The max_iter was reached which means \"\n",
      "/opt/conda/lib/python3.9/site-packages/sklearn/linear_model/_sag.py:328: ConvergenceWarning: The max_iter was reached which means the coef_ did not converge\n",
      "  warnings.warn(\"The max_iter was reached which means \"\n",
      "/opt/conda/lib/python3.9/site-packages/sklearn/linear_model/_sag.py:328: ConvergenceWarning: The max_iter was reached which means the coef_ did not converge\n",
      "  warnings.warn(\"The max_iter was reached which means \"\n",
      "/opt/conda/lib/python3.9/site-packages/sklearn/linear_model/_sag.py:328: ConvergenceWarning: The max_iter was reached which means the coef_ did not converge\n",
      "  warnings.warn(\"The max_iter was reached which means \"\n",
      "/opt/conda/lib/python3.9/site-packages/sklearn/linear_model/_sag.py:328: ConvergenceWarning: The max_iter was reached which means the coef_ did not converge\n",
      "  warnings.warn(\"The max_iter was reached which means \"\n",
      "/opt/conda/lib/python3.9/site-packages/sklearn/linear_model/_sag.py:328: ConvergenceWarning: The max_iter was reached which means the coef_ did not converge\n",
      "  warnings.warn(\"The max_iter was reached which means \"\n",
      "/opt/conda/lib/python3.9/site-packages/sklearn/linear_model/_sag.py:328: ConvergenceWarning: The max_iter was reached which means the coef_ did not converge\n",
      "  warnings.warn(\"The max_iter was reached which means \"\n",
      "/opt/conda/lib/python3.9/site-packages/sklearn/linear_model/_sag.py:328: ConvergenceWarning: The max_iter was reached which means the coef_ did not converge\n",
      "  warnings.warn(\"The max_iter was reached which means \"\n",
      "/opt/conda/lib/python3.9/site-packages/sklearn/linear_model/_sag.py:328: ConvergenceWarning: The max_iter was reached which means the coef_ did not converge\n",
      "  warnings.warn(\"The max_iter was reached which means \"\n",
      "/opt/conda/lib/python3.9/site-packages/sklearn/linear_model/_sag.py:328: ConvergenceWarning: The max_iter was reached which means the coef_ did not converge\n",
      "  warnings.warn(\"The max_iter was reached which means \"\n",
      "/opt/conda/lib/python3.9/site-packages/sklearn/linear_model/_sag.py:328: ConvergenceWarning: The max_iter was reached which means the coef_ did not converge\n",
      "  warnings.warn(\"The max_iter was reached which means \"\n",
      "/opt/conda/lib/python3.9/site-packages/sklearn/linear_model/_sag.py:328: ConvergenceWarning: The max_iter was reached which means the coef_ did not converge\n",
      "  warnings.warn(\"The max_iter was reached which means \"\n",
      "/opt/conda/lib/python3.9/site-packages/sklearn/linear_model/_sag.py:328: ConvergenceWarning: The max_iter was reached which means the coef_ did not converge\n",
      "  warnings.warn(\"The max_iter was reached which means \"\n",
      "/opt/conda/lib/python3.9/site-packages/sklearn/linear_model/_sag.py:328: ConvergenceWarning: The max_iter was reached which means the coef_ did not converge\n",
      "  warnings.warn(\"The max_iter was reached which means \"\n",
      "/opt/conda/lib/python3.9/site-packages/sklearn/linear_model/_sag.py:328: ConvergenceWarning: The max_iter was reached which means the coef_ did not converge\n",
      "  warnings.warn(\"The max_iter was reached which means \"\n",
      "/opt/conda/lib/python3.9/site-packages/sklearn/linear_model/_sag.py:328: ConvergenceWarning: The max_iter was reached which means the coef_ did not converge\n",
      "  warnings.warn(\"The max_iter was reached which means \"\n",
      "/opt/conda/lib/python3.9/site-packages/sklearn/linear_model/_sag.py:328: ConvergenceWarning: The max_iter was reached which means the coef_ did not converge\n",
      "  warnings.warn(\"The max_iter was reached which means \"\n",
      "/opt/conda/lib/python3.9/site-packages/sklearn/linear_model/_sag.py:328: ConvergenceWarning: The max_iter was reached which means the coef_ did not converge\n",
      "  warnings.warn(\"The max_iter was reached which means \"\n",
      "/opt/conda/lib/python3.9/site-packages/sklearn/linear_model/_sag.py:328: ConvergenceWarning: The max_iter was reached which means the coef_ did not converge\n",
      "  warnings.warn(\"The max_iter was reached which means \"\n",
      "/opt/conda/lib/python3.9/site-packages/sklearn/linear_model/_sag.py:328: ConvergenceWarning: The max_iter was reached which means the coef_ did not converge\n",
      "  warnings.warn(\"The max_iter was reached which means \"\n",
      "/opt/conda/lib/python3.9/site-packages/sklearn/linear_model/_sag.py:328: ConvergenceWarning: The max_iter was reached which means the coef_ did not converge\n",
      "  warnings.warn(\"The max_iter was reached which means \"\n",
      "/opt/conda/lib/python3.9/site-packages/sklearn/linear_model/_sag.py:328: ConvergenceWarning: The max_iter was reached which means the coef_ did not converge\n",
      "  warnings.warn(\"The max_iter was reached which means \"\n",
      "/opt/conda/lib/python3.9/site-packages/sklearn/linear_model/_sag.py:328: ConvergenceWarning: The max_iter was reached which means the coef_ did not converge\n",
      "  warnings.warn(\"The max_iter was reached which means \"\n",
      "/opt/conda/lib/python3.9/site-packages/sklearn/linear_model/_sag.py:328: ConvergenceWarning: The max_iter was reached which means the coef_ did not converge\n",
      "  warnings.warn(\"The max_iter was reached which means \"\n",
      "/opt/conda/lib/python3.9/site-packages/sklearn/linear_model/_sag.py:328: ConvergenceWarning: The max_iter was reached which means the coef_ did not converge\n",
      "  warnings.warn(\"The max_iter was reached which means \"\n",
      "/opt/conda/lib/python3.9/site-packages/sklearn/linear_model/_sag.py:328: ConvergenceWarning: The max_iter was reached which means the coef_ did not converge\n",
      "  warnings.warn(\"The max_iter was reached which means \"\n",
      "/opt/conda/lib/python3.9/site-packages/sklearn/linear_model/_sag.py:328: ConvergenceWarning: The max_iter was reached which means the coef_ did not converge\n",
      "  warnings.warn(\"The max_iter was reached which means \"\n",
      "/opt/conda/lib/python3.9/site-packages/sklearn/linear_model/_sag.py:328: ConvergenceWarning: The max_iter was reached which means the coef_ did not converge\n",
      "  warnings.warn(\"The max_iter was reached which means \"\n",
      "/opt/conda/lib/python3.9/site-packages/sklearn/linear_model/_sag.py:328: ConvergenceWarning: The max_iter was reached which means the coef_ did not converge\n",
      "  warnings.warn(\"The max_iter was reached which means \"\n",
      "/opt/conda/lib/python3.9/site-packages/sklearn/linear_model/_sag.py:328: ConvergenceWarning: The max_iter was reached which means the coef_ did not converge\n",
      "  warnings.warn(\"The max_iter was reached which means \"\n",
      "/opt/conda/lib/python3.9/site-packages/sklearn/linear_model/_sag.py:328: ConvergenceWarning: The max_iter was reached which means the coef_ did not converge\n",
      "  warnings.warn(\"The max_iter was reached which means \"\n",
      "/opt/conda/lib/python3.9/site-packages/sklearn/linear_model/_sag.py:328: ConvergenceWarning: The max_iter was reached which means the coef_ did not converge\n",
      "  warnings.warn(\"The max_iter was reached which means \"\n",
      "/opt/conda/lib/python3.9/site-packages/sklearn/linear_model/_sag.py:328: ConvergenceWarning: The max_iter was reached which means the coef_ did not converge\n",
      "  warnings.warn(\"The max_iter was reached which means \"\n",
      "/opt/conda/lib/python3.9/site-packages/sklearn/linear_model/_sag.py:328: ConvergenceWarning: The max_iter was reached which means the coef_ did not converge\n",
      "  warnings.warn(\"The max_iter was reached which means \"\n",
      "/opt/conda/lib/python3.9/site-packages/sklearn/linear_model/_sag.py:328: ConvergenceWarning: The max_iter was reached which means the coef_ did not converge\n",
      "  warnings.warn(\"The max_iter was reached which means \"\n",
      "/opt/conda/lib/python3.9/site-packages/sklearn/linear_model/_sag.py:328: ConvergenceWarning: The max_iter was reached which means the coef_ did not converge\n",
      "  warnings.warn(\"The max_iter was reached which means \"\n",
      "/opt/conda/lib/python3.9/site-packages/sklearn/linear_model/_sag.py:328: ConvergenceWarning: The max_iter was reached which means the coef_ did not converge\n",
      "  warnings.warn(\"The max_iter was reached which means \"\n",
      "/opt/conda/lib/python3.9/site-packages/sklearn/linear_model/_sag.py:328: ConvergenceWarning: The max_iter was reached which means the coef_ did not converge\n",
      "  warnings.warn(\"The max_iter was reached which means \"\n",
      "/opt/conda/lib/python3.9/site-packages/sklearn/linear_model/_sag.py:328: ConvergenceWarning: The max_iter was reached which means the coef_ did not converge\n",
      "  warnings.warn(\"The max_iter was reached which means \"\n",
      "/opt/conda/lib/python3.9/site-packages/sklearn/linear_model/_sag.py:328: ConvergenceWarning: The max_iter was reached which means the coef_ did not converge\n",
      "  warnings.warn(\"The max_iter was reached which means \"\n",
      "/opt/conda/lib/python3.9/site-packages/sklearn/linear_model/_sag.py:328: ConvergenceWarning: The max_iter was reached which means the coef_ did not converge\n",
      "  warnings.warn(\"The max_iter was reached which means \"\n",
      "/opt/conda/lib/python3.9/site-packages/sklearn/linear_model/_sag.py:328: ConvergenceWarning: The max_iter was reached which means the coef_ did not converge\n",
      "  warnings.warn(\"The max_iter was reached which means \"\n",
      "/opt/conda/lib/python3.9/site-packages/sklearn/linear_model/_sag.py:328: ConvergenceWarning: The max_iter was reached which means the coef_ did not converge\n",
      "  warnings.warn(\"The max_iter was reached which means \"\n",
      "/opt/conda/lib/python3.9/site-packages/sklearn/linear_model/_sag.py:328: ConvergenceWarning: The max_iter was reached which means the coef_ did not converge\n",
      "  warnings.warn(\"The max_iter was reached which means \"\n",
      "/opt/conda/lib/python3.9/site-packages/sklearn/linear_model/_sag.py:328: ConvergenceWarning: The max_iter was reached which means the coef_ did not converge\n",
      "  warnings.warn(\"The max_iter was reached which means \"\n",
      "/opt/conda/lib/python3.9/site-packages/sklearn/linear_model/_sag.py:328: ConvergenceWarning: The max_iter was reached which means the coef_ did not converge\n",
      "  warnings.warn(\"The max_iter was reached which means \"\n",
      "/opt/conda/lib/python3.9/site-packages/sklearn/linear_model/_sag.py:328: ConvergenceWarning: The max_iter was reached which means the coef_ did not converge\n",
      "  warnings.warn(\"The max_iter was reached which means \"\n",
      "/opt/conda/lib/python3.9/site-packages/sklearn/linear_model/_sag.py:328: ConvergenceWarning: The max_iter was reached which means the coef_ did not converge\n",
      "  warnings.warn(\"The max_iter was reached which means \"\n",
      "/opt/conda/lib/python3.9/site-packages/sklearn/linear_model/_sag.py:328: ConvergenceWarning: The max_iter was reached which means the coef_ did not converge\n",
      "  warnings.warn(\"The max_iter was reached which means \"\n",
      "/opt/conda/lib/python3.9/site-packages/sklearn/linear_model/_sag.py:328: ConvergenceWarning: The max_iter was reached which means the coef_ did not converge\n",
      "  warnings.warn(\"The max_iter was reached which means \"\n",
      "/opt/conda/lib/python3.9/site-packages/sklearn/linear_model/_sag.py:328: ConvergenceWarning: The max_iter was reached which means the coef_ did not converge\n",
      "  warnings.warn(\"The max_iter was reached which means \"\n",
      "/opt/conda/lib/python3.9/site-packages/sklearn/linear_model/_sag.py:328: ConvergenceWarning: The max_iter was reached which means the coef_ did not converge\n",
      "  warnings.warn(\"The max_iter was reached which means \"\n",
      "/opt/conda/lib/python3.9/site-packages/sklearn/linear_model/_sag.py:328: ConvergenceWarning: The max_iter was reached which means the coef_ did not converge\n",
      "  warnings.warn(\"The max_iter was reached which means \"\n",
      "/opt/conda/lib/python3.9/site-packages/sklearn/linear_model/_sag.py:328: ConvergenceWarning: The max_iter was reached which means the coef_ did not converge\n",
      "  warnings.warn(\"The max_iter was reached which means \"\n",
      "/opt/conda/lib/python3.9/site-packages/sklearn/linear_model/_sag.py:328: ConvergenceWarning: The max_iter was reached which means the coef_ did not converge\n",
      "  warnings.warn(\"The max_iter was reached which means \"\n",
      "/opt/conda/lib/python3.9/site-packages/sklearn/linear_model/_sag.py:328: ConvergenceWarning: The max_iter was reached which means the coef_ did not converge\n",
      "  warnings.warn(\"The max_iter was reached which means \"\n",
      "/opt/conda/lib/python3.9/site-packages/sklearn/linear_model/_sag.py:328: ConvergenceWarning: The max_iter was reached which means the coef_ did not converge\n",
      "  warnings.warn(\"The max_iter was reached which means \"\n",
      "/opt/conda/lib/python3.9/site-packages/sklearn/linear_model/_sag.py:328: ConvergenceWarning: The max_iter was reached which means the coef_ did not converge\n",
      "  warnings.warn(\"The max_iter was reached which means \"\n",
      "/opt/conda/lib/python3.9/site-packages/sklearn/linear_model/_sag.py:328: ConvergenceWarning: The max_iter was reached which means the coef_ did not converge\n",
      "  warnings.warn(\"The max_iter was reached which means \"\n",
      "/opt/conda/lib/python3.9/site-packages/sklearn/linear_model/_sag.py:328: ConvergenceWarning: The max_iter was reached which means the coef_ did not converge\n",
      "  warnings.warn(\"The max_iter was reached which means \"\n",
      "/opt/conda/lib/python3.9/site-packages/sklearn/linear_model/_sag.py:328: ConvergenceWarning: The max_iter was reached which means the coef_ did not converge\n",
      "  warnings.warn(\"The max_iter was reached which means \"\n",
      "/opt/conda/lib/python3.9/site-packages/sklearn/linear_model/_sag.py:328: ConvergenceWarning: The max_iter was reached which means the coef_ did not converge\n",
      "  warnings.warn(\"The max_iter was reached which means \"\n",
      "/opt/conda/lib/python3.9/site-packages/sklearn/linear_model/_sag.py:328: ConvergenceWarning: The max_iter was reached which means the coef_ did not converge\n",
      "  warnings.warn(\"The max_iter was reached which means \"\n",
      "/opt/conda/lib/python3.9/site-packages/sklearn/linear_model/_sag.py:328: ConvergenceWarning: The max_iter was reached which means the coef_ did not converge\n",
      "  warnings.warn(\"The max_iter was reached which means \"\n",
      "/opt/conda/lib/python3.9/site-packages/sklearn/linear_model/_sag.py:328: ConvergenceWarning: The max_iter was reached which means the coef_ did not converge\n",
      "  warnings.warn(\"The max_iter was reached which means \"\n",
      "/opt/conda/lib/python3.9/site-packages/sklearn/linear_model/_sag.py:328: ConvergenceWarning: The max_iter was reached which means the coef_ did not converge\n",
      "  warnings.warn(\"The max_iter was reached which means \"\n",
      "/opt/conda/lib/python3.9/site-packages/sklearn/linear_model/_sag.py:328: ConvergenceWarning: The max_iter was reached which means the coef_ did not converge\n",
      "  warnings.warn(\"The max_iter was reached which means \"\n",
      "/opt/conda/lib/python3.9/site-packages/sklearn/linear_model/_sag.py:328: ConvergenceWarning: The max_iter was reached which means the coef_ did not converge\n",
      "  warnings.warn(\"The max_iter was reached which means \"\n",
      "/opt/conda/lib/python3.9/site-packages/sklearn/linear_model/_sag.py:328: ConvergenceWarning: The max_iter was reached which means the coef_ did not converge\n",
      "  warnings.warn(\"The max_iter was reached which means \"\n",
      "/opt/conda/lib/python3.9/site-packages/sklearn/linear_model/_sag.py:328: ConvergenceWarning: The max_iter was reached which means the coef_ did not converge\n",
      "  warnings.warn(\"The max_iter was reached which means \"\n",
      "/opt/conda/lib/python3.9/site-packages/sklearn/linear_model/_sag.py:328: ConvergenceWarning: The max_iter was reached which means the coef_ did not converge\n",
      "  warnings.warn(\"The max_iter was reached which means \"\n",
      "/opt/conda/lib/python3.9/site-packages/sklearn/linear_model/_sag.py:328: ConvergenceWarning: The max_iter was reached which means the coef_ did not converge\n",
      "  warnings.warn(\"The max_iter was reached which means \"\n",
      "/opt/conda/lib/python3.9/site-packages/sklearn/linear_model/_sag.py:328: ConvergenceWarning: The max_iter was reached which means the coef_ did not converge\n",
      "  warnings.warn(\"The max_iter was reached which means \"\n",
      "/opt/conda/lib/python3.9/site-packages/sklearn/linear_model/_sag.py:328: ConvergenceWarning: The max_iter was reached which means the coef_ did not converge\n",
      "  warnings.warn(\"The max_iter was reached which means \"\n",
      "/opt/conda/lib/python3.9/site-packages/sklearn/linear_model/_sag.py:328: ConvergenceWarning: The max_iter was reached which means the coef_ did not converge\n",
      "  warnings.warn(\"The max_iter was reached which means \"\n",
      "/opt/conda/lib/python3.9/site-packages/sklearn/linear_model/_sag.py:328: ConvergenceWarning: The max_iter was reached which means the coef_ did not converge\n",
      "  warnings.warn(\"The max_iter was reached which means \"\n",
      "/opt/conda/lib/python3.9/site-packages/sklearn/linear_model/_sag.py:328: ConvergenceWarning: The max_iter was reached which means the coef_ did not converge\n",
      "  warnings.warn(\"The max_iter was reached which means \"\n",
      "/opt/conda/lib/python3.9/site-packages/sklearn/linear_model/_sag.py:328: ConvergenceWarning: The max_iter was reached which means the coef_ did not converge\n",
      "  warnings.warn(\"The max_iter was reached which means \"\n",
      "/opt/conda/lib/python3.9/site-packages/sklearn/linear_model/_sag.py:328: ConvergenceWarning: The max_iter was reached which means the coef_ did not converge\n",
      "  warnings.warn(\"The max_iter was reached which means \"\n",
      "/opt/conda/lib/python3.9/site-packages/sklearn/linear_model/_sag.py:328: ConvergenceWarning: The max_iter was reached which means the coef_ did not converge\n",
      "  warnings.warn(\"The max_iter was reached which means \"\n",
      "/opt/conda/lib/python3.9/site-packages/sklearn/linear_model/_sag.py:328: ConvergenceWarning: The max_iter was reached which means the coef_ did not converge\n",
      "  warnings.warn(\"The max_iter was reached which means \"\n",
      "/opt/conda/lib/python3.9/site-packages/sklearn/linear_model/_sag.py:328: ConvergenceWarning: The max_iter was reached which means the coef_ did not converge\n",
      "  warnings.warn(\"The max_iter was reached which means \"\n",
      "/opt/conda/lib/python3.9/site-packages/sklearn/linear_model/_sag.py:328: ConvergenceWarning: The max_iter was reached which means the coef_ did not converge\n",
      "  warnings.warn(\"The max_iter was reached which means \"\n",
      "/opt/conda/lib/python3.9/site-packages/sklearn/linear_model/_sag.py:328: ConvergenceWarning: The max_iter was reached which means the coef_ did not converge\n",
      "  warnings.warn(\"The max_iter was reached which means \"\n",
      "/opt/conda/lib/python3.9/site-packages/sklearn/linear_model/_sag.py:328: ConvergenceWarning: The max_iter was reached which means the coef_ did not converge\n",
      "  warnings.warn(\"The max_iter was reached which means \"\n",
      "/opt/conda/lib/python3.9/site-packages/sklearn/linear_model/_sag.py:328: ConvergenceWarning: The max_iter was reached which means the coef_ did not converge\n",
      "  warnings.warn(\"The max_iter was reached which means \"\n",
      "/opt/conda/lib/python3.9/site-packages/sklearn/linear_model/_sag.py:328: ConvergenceWarning: The max_iter was reached which means the coef_ did not converge\n",
      "  warnings.warn(\"The max_iter was reached which means \"\n",
      "/opt/conda/lib/python3.9/site-packages/sklearn/linear_model/_sag.py:328: ConvergenceWarning: The max_iter was reached which means the coef_ did not converge\n",
      "  warnings.warn(\"The max_iter was reached which means \"\n",
      "/opt/conda/lib/python3.9/site-packages/sklearn/linear_model/_sag.py:328: ConvergenceWarning: The max_iter was reached which means the coef_ did not converge\n",
      "  warnings.warn(\"The max_iter was reached which means \"\n",
      "/opt/conda/lib/python3.9/site-packages/sklearn/linear_model/_sag.py:328: ConvergenceWarning: The max_iter was reached which means the coef_ did not converge\n",
      "  warnings.warn(\"The max_iter was reached which means \"\n",
      "/opt/conda/lib/python3.9/site-packages/sklearn/linear_model/_sag.py:328: ConvergenceWarning: The max_iter was reached which means the coef_ did not converge\n",
      "  warnings.warn(\"The max_iter was reached which means \"\n",
      "/opt/conda/lib/python3.9/site-packages/sklearn/linear_model/_sag.py:328: ConvergenceWarning: The max_iter was reached which means the coef_ did not converge\n",
      "  warnings.warn(\"The max_iter was reached which means \"\n",
      "/opt/conda/lib/python3.9/site-packages/sklearn/linear_model/_sag.py:328: ConvergenceWarning: The max_iter was reached which means the coef_ did not converge\n",
      "  warnings.warn(\"The max_iter was reached which means \"\n",
      "/opt/conda/lib/python3.9/site-packages/sklearn/linear_model/_sag.py:328: ConvergenceWarning: The max_iter was reached which means the coef_ did not converge\n",
      "  warnings.warn(\"The max_iter was reached which means \"\n",
      "/opt/conda/lib/python3.9/site-packages/sklearn/linear_model/_sag.py:328: ConvergenceWarning: The max_iter was reached which means the coef_ did not converge\n",
      "  warnings.warn(\"The max_iter was reached which means \"\n",
      "/opt/conda/lib/python3.9/site-packages/sklearn/linear_model/_sag.py:328: ConvergenceWarning: The max_iter was reached which means the coef_ did not converge\n",
      "  warnings.warn(\"The max_iter was reached which means \"\n",
      "/opt/conda/lib/python3.9/site-packages/sklearn/linear_model/_sag.py:328: ConvergenceWarning: The max_iter was reached which means the coef_ did not converge\n",
      "  warnings.warn(\"The max_iter was reached which means \"\n",
      "/opt/conda/lib/python3.9/site-packages/sklearn/linear_model/_sag.py:328: ConvergenceWarning: The max_iter was reached which means the coef_ did not converge\n",
      "  warnings.warn(\"The max_iter was reached which means \"\n",
      "/opt/conda/lib/python3.9/site-packages/sklearn/linear_model/_sag.py:328: ConvergenceWarning: The max_iter was reached which means the coef_ did not converge\n",
      "  warnings.warn(\"The max_iter was reached which means \"\n",
      "/opt/conda/lib/python3.9/site-packages/sklearn/linear_model/_sag.py:328: ConvergenceWarning: The max_iter was reached which means the coef_ did not converge\n",
      "  warnings.warn(\"The max_iter was reached which means \"\n",
      "/opt/conda/lib/python3.9/site-packages/sklearn/linear_model/_sag.py:328: ConvergenceWarning: The max_iter was reached which means the coef_ did not converge\n",
      "  warnings.warn(\"The max_iter was reached which means \"\n",
      "/opt/conda/lib/python3.9/site-packages/sklearn/linear_model/_sag.py:328: ConvergenceWarning: The max_iter was reached which means the coef_ did not converge\n",
      "  warnings.warn(\"The max_iter was reached which means \"\n",
      "/opt/conda/lib/python3.9/site-packages/sklearn/linear_model/_sag.py:328: ConvergenceWarning: The max_iter was reached which means the coef_ did not converge\n",
      "  warnings.warn(\"The max_iter was reached which means \"\n",
      "/opt/conda/lib/python3.9/site-packages/sklearn/linear_model/_sag.py:328: ConvergenceWarning: The max_iter was reached which means the coef_ did not converge\n",
      "  warnings.warn(\"The max_iter was reached which means \"\n",
      "/opt/conda/lib/python3.9/site-packages/sklearn/linear_model/_sag.py:328: ConvergenceWarning: The max_iter was reached which means the coef_ did not converge\n",
      "  warnings.warn(\"The max_iter was reached which means \"\n",
      "/opt/conda/lib/python3.9/site-packages/sklearn/linear_model/_sag.py:328: ConvergenceWarning: The max_iter was reached which means the coef_ did not converge\n",
      "  warnings.warn(\"The max_iter was reached which means \"\n",
      "/opt/conda/lib/python3.9/site-packages/sklearn/linear_model/_sag.py:328: ConvergenceWarning: The max_iter was reached which means the coef_ did not converge\n",
      "  warnings.warn(\"The max_iter was reached which means \"\n",
      "/opt/conda/lib/python3.9/site-packages/sklearn/linear_model/_sag.py:328: ConvergenceWarning: The max_iter was reached which means the coef_ did not converge\n",
      "  warnings.warn(\"The max_iter was reached which means \"\n",
      "/opt/conda/lib/python3.9/site-packages/sklearn/linear_model/_sag.py:328: ConvergenceWarning: The max_iter was reached which means the coef_ did not converge\n",
      "  warnings.warn(\"The max_iter was reached which means \"\n",
      "/opt/conda/lib/python3.9/site-packages/sklearn/linear_model/_sag.py:328: ConvergenceWarning: The max_iter was reached which means the coef_ did not converge\n",
      "  warnings.warn(\"The max_iter was reached which means \"\n",
      "/opt/conda/lib/python3.9/site-packages/sklearn/linear_model/_sag.py:328: ConvergenceWarning: The max_iter was reached which means the coef_ did not converge\n",
      "  warnings.warn(\"The max_iter was reached which means \"\n",
      "/opt/conda/lib/python3.9/site-packages/sklearn/linear_model/_sag.py:328: ConvergenceWarning: The max_iter was reached which means the coef_ did not converge\n",
      "  warnings.warn(\"The max_iter was reached which means \"\n",
      "/opt/conda/lib/python3.9/site-packages/sklearn/linear_model/_sag.py:328: ConvergenceWarning: The max_iter was reached which means the coef_ did not converge\n",
      "  warnings.warn(\"The max_iter was reached which means \"\n",
      "/opt/conda/lib/python3.9/site-packages/sklearn/linear_model/_sag.py:328: ConvergenceWarning: The max_iter was reached which means the coef_ did not converge\n",
      "  warnings.warn(\"The max_iter was reached which means \"\n",
      "/opt/conda/lib/python3.9/site-packages/sklearn/linear_model/_sag.py:328: ConvergenceWarning: The max_iter was reached which means the coef_ did not converge\n",
      "  warnings.warn(\"The max_iter was reached which means \"\n",
      "/opt/conda/lib/python3.9/site-packages/sklearn/linear_model/_sag.py:328: ConvergenceWarning: The max_iter was reached which means the coef_ did not converge\n",
      "  warnings.warn(\"The max_iter was reached which means \"\n",
      "/opt/conda/lib/python3.9/site-packages/sklearn/linear_model/_sag.py:328: ConvergenceWarning: The max_iter was reached which means the coef_ did not converge\n",
      "  warnings.warn(\"The max_iter was reached which means \"\n",
      "/opt/conda/lib/python3.9/site-packages/sklearn/linear_model/_sag.py:328: ConvergenceWarning: The max_iter was reached which means the coef_ did not converge\n",
      "  warnings.warn(\"The max_iter was reached which means \"\n",
      "/opt/conda/lib/python3.9/site-packages/sklearn/linear_model/_sag.py:328: ConvergenceWarning: The max_iter was reached which means the coef_ did not converge\n",
      "  warnings.warn(\"The max_iter was reached which means \"\n",
      "/opt/conda/lib/python3.9/site-packages/sklearn/linear_model/_sag.py:328: ConvergenceWarning: The max_iter was reached which means the coef_ did not converge\n",
      "  warnings.warn(\"The max_iter was reached which means \"\n",
      "/opt/conda/lib/python3.9/site-packages/sklearn/linear_model/_sag.py:328: ConvergenceWarning: The max_iter was reached which means the coef_ did not converge\n",
      "  warnings.warn(\"The max_iter was reached which means \"\n",
      "/opt/conda/lib/python3.9/site-packages/sklearn/linear_model/_sag.py:328: ConvergenceWarning: The max_iter was reached which means the coef_ did not converge\n",
      "  warnings.warn(\"The max_iter was reached which means \"\n",
      "/opt/conda/lib/python3.9/site-packages/sklearn/linear_model/_sag.py:328: ConvergenceWarning: The max_iter was reached which means the coef_ did not converge\n",
      "  warnings.warn(\"The max_iter was reached which means \"\n",
      "/opt/conda/lib/python3.9/site-packages/sklearn/linear_model/_sag.py:328: ConvergenceWarning: The max_iter was reached which means the coef_ did not converge\n",
      "  warnings.warn(\"The max_iter was reached which means \"\n",
      "/opt/conda/lib/python3.9/site-packages/sklearn/linear_model/_sag.py:328: ConvergenceWarning: The max_iter was reached which means the coef_ did not converge\n",
      "  warnings.warn(\"The max_iter was reached which means \"\n",
      "/opt/conda/lib/python3.9/site-packages/sklearn/linear_model/_sag.py:328: ConvergenceWarning: The max_iter was reached which means the coef_ did not converge\n",
      "  warnings.warn(\"The max_iter was reached which means \"\n",
      "/opt/conda/lib/python3.9/site-packages/sklearn/linear_model/_sag.py:328: ConvergenceWarning: The max_iter was reached which means the coef_ did not converge\n",
      "  warnings.warn(\"The max_iter was reached which means \"\n"
     ]
    },
    {
     "name": "stdout",
     "output_type": "stream",
     "text": [
      "[0.744945567651633, 'liblinear', 70, 90, 30]\n"
     ]
    },
    {
     "name": "stderr",
     "output_type": "stream",
     "text": [
      "/opt/conda/lib/python3.9/site-packages/sklearn/linear_model/_sag.py:328: ConvergenceWarning: The max_iter was reached which means the coef_ did not converge\n",
      "  warnings.warn(\"The max_iter was reached which means \"\n"
     ]
    }
   ],
   "source": [
    "modelLR = getLRmodel(rnd_seed, ['lbfgs', 'liblinear', 'saga'], 1000)"
   ]
  },
  {
   "cell_type": "markdown",
   "metadata": {},
   "source": [
    "## Проверьте модель на тестовой выборке"
   ]
  },
  {
   "cell_type": "code",
   "execution_count": 21,
   "metadata": {},
   "outputs": [
    {
     "name": "stdout",
     "output_type": "stream",
     "text": [
      "Тестовое предсказание модели дерева решений:  0.7869362363919129\n",
      "Тестовое предсказание модели случайного леса:  0.7947122861586314\n",
      "Тестовое предсказание модели логистической регрессии:  0.687402799377916\n"
     ]
    }
   ],
   "source": [
    "print(\"Тестовое предсказание модели дерева решений: \", accuracy_score(y_test, modelDTC.predict(X_test)))\n",
    "print(\"Тестовое предсказание модели случайного леса: \", accuracy_score(y_test, modelRFC.predict(X_test)))\n",
    "print(\"Тестовое предсказание модели логистической регрессии: \", accuracy_score(y_test, modelLR.predict(X_test)))"
   ]
  },
  {
   "cell_type": "markdown",
   "metadata": {},
   "source": [
    "## Вывод"
   ]
  },
  {
   "cell_type": "markdown",
   "metadata": {
    "scrolled": true
   },
   "source": [
    "В ходе работы было исследовано три модели машинного обучения на предварительно подготовленных данных. \n",
    "В ходе обучения модели были перебраны гиперпараметры и определена лучшая конфигурация для каждой модели. Модели дерева решений и случайного леса показали адекватный результат. В модели логистической регрессии точность находится на уровне порога адекватности, похоже она не сработала."
   ]
  }
 ],
 "metadata": {
  "ExecuteTimeLog": [
   {
    "duration": 419,
    "start_time": "2023-04-24T21:45:43.260Z"
   },
   {
    "duration": 83,
    "start_time": "2023-04-24T21:45:43.714Z"
   },
   {
    "duration": 19,
    "start_time": "2023-04-24T21:45:44.106Z"
   },
   {
    "duration": 28,
    "start_time": "2023-04-24T21:46:25.268Z"
   },
   {
    "duration": 7,
    "start_time": "2023-04-24T21:46:43.127Z"
   },
   {
    "duration": 6,
    "start_time": "2023-04-24T21:46:50.800Z"
   },
   {
    "duration": 8,
    "start_time": "2023-04-24T21:47:01.140Z"
   },
   {
    "duration": 51,
    "start_time": "2023-05-05T19:29:24.259Z"
   },
   {
    "duration": 5,
    "start_time": "2023-05-05T19:29:26.015Z"
   },
   {
    "duration": 337,
    "start_time": "2023-05-05T19:29:49.420Z"
   },
   {
    "duration": 160,
    "start_time": "2023-05-05T19:29:49.759Z"
   },
   {
    "duration": 9,
    "start_time": "2023-05-05T19:29:49.921Z"
   },
   {
    "duration": 6,
    "start_time": "2023-05-05T19:29:50.521Z"
   },
   {
    "duration": 11,
    "start_time": "2023-05-05T19:29:52.336Z"
   },
   {
    "duration": 8,
    "start_time": "2023-05-05T19:30:55.136Z"
   },
   {
    "duration": 835,
    "start_time": "2023-05-05T19:35:44.446Z"
   },
   {
    "duration": 410,
    "start_time": "2023-05-05T19:36:33.111Z"
   },
   {
    "duration": 84,
    "start_time": "2023-05-05T19:36:43.015Z"
   },
   {
    "duration": 285,
    "start_time": "2023-05-05T19:36:47.317Z"
   },
   {
    "duration": 317,
    "start_time": "2023-05-05T19:37:00.670Z"
   },
   {
    "duration": 41,
    "start_time": "2023-05-05T19:37:46.451Z"
   },
   {
    "duration": 627,
    "start_time": "2023-05-05T19:37:52.555Z"
   },
   {
    "duration": 746,
    "start_time": "2023-05-05T19:39:00.414Z"
   },
   {
    "duration": 837,
    "start_time": "2023-05-05T19:50:22.331Z"
   },
   {
    "duration": 2,
    "start_time": "2023-05-05T19:50:50.017Z"
   },
   {
    "duration": 2,
    "start_time": "2023-05-05T19:51:24.214Z"
   },
   {
    "duration": 7,
    "start_time": "2023-05-05T19:55:59.571Z"
   },
   {
    "duration": 3,
    "start_time": "2023-05-05T19:56:03.164Z"
   },
   {
    "duration": 39,
    "start_time": "2023-05-05T19:56:15.221Z"
   },
   {
    "duration": 4,
    "start_time": "2023-05-05T19:56:22.311Z"
   },
   {
    "duration": 3,
    "start_time": "2023-05-05T19:56:44.724Z"
   },
   {
    "duration": 47,
    "start_time": "2023-05-05T19:56:48.653Z"
   },
   {
    "duration": 6,
    "start_time": "2023-05-05T20:32:54.937Z"
   },
   {
    "duration": 48,
    "start_time": "2023-05-10T19:12:56.370Z"
   },
   {
    "duration": 6,
    "start_time": "2023-05-10T19:13:02.336Z"
   },
   {
    "duration": 6,
    "start_time": "2023-05-10T19:13:23.040Z"
   },
   {
    "duration": 8,
    "start_time": "2023-05-10T19:13:31.005Z"
   },
   {
    "duration": 987,
    "start_time": "2023-05-10T19:13:38.454Z"
   },
   {
    "duration": 2,
    "start_time": "2023-05-10T19:13:39.444Z"
   },
   {
    "duration": 76,
    "start_time": "2023-05-10T19:13:39.448Z"
   },
   {
    "duration": 18,
    "start_time": "2023-05-10T19:13:39.525Z"
   },
   {
    "duration": 6,
    "start_time": "2023-05-10T19:13:39.545Z"
   },
   {
    "duration": 18,
    "start_time": "2023-05-10T19:13:39.552Z"
   },
   {
    "duration": 1058,
    "start_time": "2023-05-10T19:13:39.572Z"
   },
   {
    "duration": 45,
    "start_time": "2023-05-10T19:13:40.633Z"
   },
   {
    "duration": 0,
    "start_time": "2023-05-10T19:13:40.680Z"
   },
   {
    "duration": 0,
    "start_time": "2023-05-10T19:13:40.682Z"
   },
   {
    "duration": 52,
    "start_time": "2023-05-10T19:13:54.529Z"
   },
   {
    "duration": 14,
    "start_time": "2023-05-10T19:14:12.992Z"
   },
   {
    "duration": 4,
    "start_time": "2023-05-10T19:14:13.416Z"
   },
   {
    "duration": 77,
    "start_time": "2023-05-10T19:14:14.255Z"
   },
   {
    "duration": 2,
    "start_time": "2023-05-10T19:15:05.394Z"
   },
   {
    "duration": 6,
    "start_time": "2023-05-10T19:15:08.670Z"
   },
   {
    "duration": 3,
    "start_time": "2023-05-10T19:17:04.525Z"
   },
   {
    "duration": 5,
    "start_time": "2023-05-10T19:17:08.165Z"
   },
   {
    "duration": 4,
    "start_time": "2023-05-10T19:17:22.202Z"
   },
   {
    "duration": 4,
    "start_time": "2023-05-10T19:17:40.389Z"
   },
   {
    "duration": 7,
    "start_time": "2023-05-10T19:17:48.418Z"
   },
   {
    "duration": 3,
    "start_time": "2023-05-10T19:17:51.340Z"
   },
   {
    "duration": 4,
    "start_time": "2023-05-10T19:17:56.135Z"
   },
   {
    "duration": 3,
    "start_time": "2023-05-10T19:18:12.110Z"
   },
   {
    "duration": 4,
    "start_time": "2023-05-10T19:18:16.034Z"
   },
   {
    "duration": 3,
    "start_time": "2023-05-10T19:18:20.302Z"
   },
   {
    "duration": 1019,
    "start_time": "2023-05-10T19:19:26.113Z"
   },
   {
    "duration": 2,
    "start_time": "2023-05-10T19:19:27.134Z"
   },
   {
    "duration": 30,
    "start_time": "2023-05-10T19:19:27.137Z"
   },
   {
    "duration": 18,
    "start_time": "2023-05-10T19:19:27.169Z"
   },
   {
    "duration": 7,
    "start_time": "2023-05-10T19:19:27.189Z"
   },
   {
    "duration": 6,
    "start_time": "2023-05-10T19:19:27.198Z"
   },
   {
    "duration": 917,
    "start_time": "2023-05-10T19:19:27.205Z"
   },
   {
    "duration": 3,
    "start_time": "2023-05-10T19:19:28.124Z"
   },
   {
    "duration": 7,
    "start_time": "2023-05-10T19:19:28.129Z"
   },
   {
    "duration": 5,
    "start_time": "2023-05-10T19:19:28.138Z"
   },
   {
    "duration": 5,
    "start_time": "2023-05-10T19:19:31.729Z"
   },
   {
    "duration": 4,
    "start_time": "2023-05-10T19:19:36.822Z"
   },
   {
    "duration": 102,
    "start_time": "2023-05-10T19:19:50.909Z"
   },
   {
    "duration": 10,
    "start_time": "2023-05-10T19:19:55.641Z"
   },
   {
    "duration": 4,
    "start_time": "2023-05-10T19:19:59.634Z"
   },
   {
    "duration": 4,
    "start_time": "2023-05-10T19:20:09.368Z"
   },
   {
    "duration": 5,
    "start_time": "2023-05-10T19:21:32.165Z"
   },
   {
    "duration": 5,
    "start_time": "2023-05-10T19:21:37.824Z"
   },
   {
    "duration": 4,
    "start_time": "2023-05-10T19:21:40.237Z"
   },
   {
    "duration": 9,
    "start_time": "2023-05-10T19:22:12.677Z"
   },
   {
    "duration": 3,
    "start_time": "2023-05-10T19:22:35.401Z"
   },
   {
    "duration": 4,
    "start_time": "2023-05-10T19:22:42.544Z"
   },
   {
    "duration": 4,
    "start_time": "2023-05-10T19:23:31.950Z"
   },
   {
    "duration": 3,
    "start_time": "2023-05-10T19:37:05.138Z"
   },
   {
    "duration": 3,
    "start_time": "2023-05-10T19:37:38.889Z"
   },
   {
    "duration": 34,
    "start_time": "2023-05-10T19:39:05.038Z"
   },
   {
    "duration": 19,
    "start_time": "2023-05-10T19:41:51.903Z"
   },
   {
    "duration": 9,
    "start_time": "2023-05-10T19:42:12.192Z"
   },
   {
    "duration": 13,
    "start_time": "2023-05-10T19:42:20.432Z"
   },
   {
    "duration": 14,
    "start_time": "2023-05-10T19:42:36.111Z"
   },
   {
    "duration": 13,
    "start_time": "2023-05-10T19:44:28.715Z"
   },
   {
    "duration": 5,
    "start_time": "2023-05-10T19:46:12.014Z"
   },
   {
    "duration": 4,
    "start_time": "2023-05-10T19:46:31.859Z"
   },
   {
    "duration": 9,
    "start_time": "2023-05-10T19:46:57.046Z"
   },
   {
    "duration": 3,
    "start_time": "2023-05-10T19:47:01.033Z"
   },
   {
    "duration": 3,
    "start_time": "2023-05-10T19:47:02.883Z"
   },
   {
    "duration": 8,
    "start_time": "2023-05-10T19:48:05.332Z"
   },
   {
    "duration": 5,
    "start_time": "2023-05-10T19:48:06.702Z"
   },
   {
    "duration": 4,
    "start_time": "2023-05-10T19:48:07.151Z"
   },
   {
    "duration": 9,
    "start_time": "2023-05-10T19:48:16.561Z"
   },
   {
    "duration": 4,
    "start_time": "2023-05-10T19:48:17.130Z"
   },
   {
    "duration": 4,
    "start_time": "2023-05-10T19:48:17.530Z"
   },
   {
    "duration": 10,
    "start_time": "2023-05-10T19:48:20.867Z"
   },
   {
    "duration": 4,
    "start_time": "2023-05-10T19:48:21.324Z"
   },
   {
    "duration": 4,
    "start_time": "2023-05-10T19:48:21.680Z"
   },
   {
    "duration": 11,
    "start_time": "2023-05-10T19:48:25.134Z"
   },
   {
    "duration": 5,
    "start_time": "2023-05-10T19:48:25.581Z"
   },
   {
    "duration": 4,
    "start_time": "2023-05-10T19:48:26.006Z"
   },
   {
    "duration": 13,
    "start_time": "2023-05-10T19:48:29.247Z"
   },
   {
    "duration": 4,
    "start_time": "2023-05-10T19:48:30.314Z"
   },
   {
    "duration": 4,
    "start_time": "2023-05-10T19:48:30.614Z"
   },
   {
    "duration": 11,
    "start_time": "2023-05-10T19:48:34.757Z"
   },
   {
    "duration": 4,
    "start_time": "2023-05-10T19:48:35.232Z"
   },
   {
    "duration": 7,
    "start_time": "2023-05-10T19:48:35.525Z"
   },
   {
    "duration": 10,
    "start_time": "2023-05-10T19:48:38.390Z"
   },
   {
    "duration": 5,
    "start_time": "2023-05-10T19:48:38.651Z"
   },
   {
    "duration": 4,
    "start_time": "2023-05-10T19:48:39.018Z"
   },
   {
    "duration": 9,
    "start_time": "2023-05-10T19:48:42.009Z"
   },
   {
    "duration": 5,
    "start_time": "2023-05-10T19:48:42.363Z"
   },
   {
    "duration": 4,
    "start_time": "2023-05-10T19:48:42.696Z"
   },
   {
    "duration": 4,
    "start_time": "2023-05-10T19:49:44.257Z"
   },
   {
    "duration": 3,
    "start_time": "2023-05-10T19:49:44.916Z"
   },
   {
    "duration": 9,
    "start_time": "2023-05-10T19:49:50.118Z"
   },
   {
    "duration": 4,
    "start_time": "2023-05-10T19:49:50.576Z"
   },
   {
    "duration": 4,
    "start_time": "2023-05-10T19:49:50.958Z"
   },
   {
    "duration": 10,
    "start_time": "2023-05-10T19:49:54.025Z"
   },
   {
    "duration": 5,
    "start_time": "2023-05-10T19:49:54.576Z"
   },
   {
    "duration": 5,
    "start_time": "2023-05-10T19:49:55.063Z"
   },
   {
    "duration": 8,
    "start_time": "2023-05-10T19:49:58.066Z"
   },
   {
    "duration": 5,
    "start_time": "2023-05-10T19:49:58.437Z"
   },
   {
    "duration": 4,
    "start_time": "2023-05-10T19:49:58.796Z"
   },
   {
    "duration": 8,
    "start_time": "2023-05-10T19:50:02.022Z"
   },
   {
    "duration": 4,
    "start_time": "2023-05-10T19:50:02.374Z"
   },
   {
    "duration": 4,
    "start_time": "2023-05-10T19:50:02.771Z"
   },
   {
    "duration": 7,
    "start_time": "2023-05-10T19:50:07.104Z"
   },
   {
    "duration": 4,
    "start_time": "2023-05-10T19:50:07.495Z"
   },
   {
    "duration": 4,
    "start_time": "2023-05-10T19:50:07.859Z"
   },
   {
    "duration": 6,
    "start_time": "2023-05-10T19:50:11.147Z"
   },
   {
    "duration": 5,
    "start_time": "2023-05-10T19:50:11.458Z"
   },
   {
    "duration": 4,
    "start_time": "2023-05-10T19:50:11.808Z"
   },
   {
    "duration": 4,
    "start_time": "2023-05-10T19:50:27.539Z"
   },
   {
    "duration": 7,
    "start_time": "2023-05-10T19:50:29.983Z"
   },
   {
    "duration": 4,
    "start_time": "2023-05-10T19:50:30.209Z"
   },
   {
    "duration": 3,
    "start_time": "2023-05-10T19:50:30.560Z"
   },
   {
    "duration": 12,
    "start_time": "2023-05-10T19:50:34.622Z"
   },
   {
    "duration": 4,
    "start_time": "2023-05-10T19:50:35.091Z"
   },
   {
    "duration": 5,
    "start_time": "2023-05-10T19:50:35.566Z"
   },
   {
    "duration": 9,
    "start_time": "2023-05-10T19:50:39.655Z"
   },
   {
    "duration": 4,
    "start_time": "2023-05-10T19:50:40.173Z"
   },
   {
    "duration": 4,
    "start_time": "2023-05-10T19:50:40.579Z"
   },
   {
    "duration": 9,
    "start_time": "2023-05-10T19:50:43.647Z"
   },
   {
    "duration": 4,
    "start_time": "2023-05-10T19:50:43.984Z"
   },
   {
    "duration": 4,
    "start_time": "2023-05-10T19:50:44.339Z"
   },
   {
    "duration": 10,
    "start_time": "2023-05-10T19:51:01.802Z"
   },
   {
    "duration": 4,
    "start_time": "2023-05-10T19:51:02.133Z"
   },
   {
    "duration": 5,
    "start_time": "2023-05-10T19:51:02.472Z"
   },
   {
    "duration": 13,
    "start_time": "2023-05-10T19:51:34.922Z"
   },
   {
    "duration": 3,
    "start_time": "2023-05-10T19:57:40.020Z"
   },
   {
    "duration": 3,
    "start_time": "2023-05-10T19:57:52.249Z"
   },
   {
    "duration": 3,
    "start_time": "2023-05-10T19:57:54.372Z"
   },
   {
    "duration": 13,
    "start_time": "2023-05-10T19:58:20.146Z"
   },
   {
    "duration": 3,
    "start_time": "2023-05-10T19:58:39.497Z"
   },
   {
    "duration": 16,
    "start_time": "2023-05-10T19:58:40.015Z"
   },
   {
    "duration": 3,
    "start_time": "2023-05-10T19:58:54.482Z"
   },
   {
    "duration": 17,
    "start_time": "2023-05-10T19:58:55.007Z"
   },
   {
    "duration": 4,
    "start_time": "2023-05-10T20:00:32.462Z"
   },
   {
    "duration": 50,
    "start_time": "2023-05-10T20:00:32.771Z"
   },
   {
    "duration": 3,
    "start_time": "2023-05-10T20:01:02.445Z"
   },
   {
    "duration": 52,
    "start_time": "2023-05-10T20:01:02.765Z"
   },
   {
    "duration": 3,
    "start_time": "2023-05-10T20:01:11.500Z"
   },
   {
    "duration": 54,
    "start_time": "2023-05-10T20:01:11.901Z"
   },
   {
    "duration": 4,
    "start_time": "2023-05-10T20:01:26.527Z"
   },
   {
    "duration": 68,
    "start_time": "2023-05-10T20:01:26.967Z"
   },
   {
    "duration": 4,
    "start_time": "2023-05-10T20:02:09.549Z"
   },
   {
    "duration": 52,
    "start_time": "2023-05-10T20:02:09.898Z"
   },
   {
    "duration": 4,
    "start_time": "2023-05-10T20:02:30.379Z"
   },
   {
    "duration": 14,
    "start_time": "2023-05-10T20:02:30.778Z"
   },
   {
    "duration": 4,
    "start_time": "2023-05-10T20:02:37.112Z"
   },
   {
    "duration": 51,
    "start_time": "2023-05-10T20:02:37.675Z"
   },
   {
    "duration": 4,
    "start_time": "2023-05-10T20:04:14.906Z"
   },
   {
    "duration": 58,
    "start_time": "2023-05-10T20:04:15.347Z"
   },
   {
    "duration": 77,
    "start_time": "2023-05-10T20:04:29.410Z"
   },
   {
    "duration": 4,
    "start_time": "2023-05-10T20:04:31.709Z"
   },
   {
    "duration": 72,
    "start_time": "2023-05-10T20:04:32.145Z"
   },
   {
    "duration": 3,
    "start_time": "2023-05-10T20:07:18.876Z"
   },
   {
    "duration": 71,
    "start_time": "2023-05-10T20:07:19.247Z"
   },
   {
    "duration": 4,
    "start_time": "2023-05-10T20:07:37.375Z"
   },
   {
    "duration": 67,
    "start_time": "2023-05-10T20:07:37.824Z"
   },
   {
    "duration": 45,
    "start_time": "2023-05-10T20:07:42.880Z"
   },
   {
    "duration": 3,
    "start_time": "2023-05-10T20:07:46.364Z"
   },
   {
    "duration": 74,
    "start_time": "2023-05-10T20:07:47.163Z"
   },
   {
    "duration": 4,
    "start_time": "2023-05-10T20:07:49.422Z"
   },
   {
    "duration": 66,
    "start_time": "2023-05-10T20:07:49.767Z"
   },
   {
    "duration": 3,
    "start_time": "2023-05-10T20:08:14.682Z"
   },
   {
    "duration": 74,
    "start_time": "2023-05-10T20:08:15.084Z"
   },
   {
    "duration": 3,
    "start_time": "2023-05-10T20:08:18.972Z"
   },
   {
    "duration": 66,
    "start_time": "2023-05-10T20:08:19.280Z"
   },
   {
    "duration": 3,
    "start_time": "2023-05-10T20:08:27.317Z"
   },
   {
    "duration": 78,
    "start_time": "2023-05-10T20:08:27.690Z"
   },
   {
    "duration": 5,
    "start_time": "2023-05-10T20:13:05.626Z"
   },
   {
    "duration": 86,
    "start_time": "2023-05-10T20:13:06.141Z"
   },
   {
    "duration": 3,
    "start_time": "2023-05-10T20:14:07.270Z"
   },
   {
    "duration": 81,
    "start_time": "2023-05-10T20:14:07.498Z"
   },
   {
    "duration": 8,
    "start_time": "2023-05-10T20:14:22.730Z"
   },
   {
    "duration": 77,
    "start_time": "2023-05-10T20:14:35.059Z"
   },
   {
    "duration": 64,
    "start_time": "2023-05-10T20:14:45.786Z"
   },
   {
    "duration": 3,
    "start_time": "2023-05-10T20:16:54.010Z"
   },
   {
    "duration": 66,
    "start_time": "2023-05-10T20:16:54.394Z"
   },
   {
    "duration": 3,
    "start_time": "2023-05-10T20:18:25.862Z"
   },
   {
    "duration": 66,
    "start_time": "2023-05-10T20:18:26.172Z"
   },
   {
    "duration": 67,
    "start_time": "2023-05-10T20:19:00.504Z"
   },
   {
    "duration": 4,
    "start_time": "2023-05-10T20:19:04.154Z"
   },
   {
    "duration": 65,
    "start_time": "2023-05-10T20:19:04.645Z"
   },
   {
    "duration": 5,
    "start_time": "2023-05-10T20:22:23.414Z"
   },
   {
    "duration": 103,
    "start_time": "2023-05-10T20:22:23.995Z"
   },
   {
    "duration": 4,
    "start_time": "2023-05-10T20:22:38.101Z"
   },
   {
    "duration": 73,
    "start_time": "2023-05-10T20:22:38.590Z"
   },
   {
    "duration": 3,
    "start_time": "2023-05-10T20:22:44.261Z"
   },
   {
    "duration": 73,
    "start_time": "2023-05-10T20:22:45.259Z"
   },
   {
    "duration": 4,
    "start_time": "2023-05-10T20:22:48.463Z"
   },
   {
    "duration": 73,
    "start_time": "2023-05-10T20:22:48.777Z"
   },
   {
    "duration": 3,
    "start_time": "2023-05-10T20:23:27.016Z"
   },
   {
    "duration": 65,
    "start_time": "2023-05-10T20:23:27.490Z"
   },
   {
    "duration": 4,
    "start_time": "2023-05-10T20:25:04.091Z"
   },
   {
    "duration": 70,
    "start_time": "2023-05-10T20:25:04.427Z"
   },
   {
    "duration": 4,
    "start_time": "2023-05-10T20:25:25.728Z"
   },
   {
    "duration": 65,
    "start_time": "2023-05-10T20:25:26.178Z"
   },
   {
    "duration": 3,
    "start_time": "2023-05-10T20:25:46.742Z"
   },
   {
    "duration": 65,
    "start_time": "2023-05-10T20:25:47.017Z"
   },
   {
    "duration": 68,
    "start_time": "2023-05-10T20:25:58.185Z"
   },
   {
    "duration": 66,
    "start_time": "2023-05-10T20:26:24.517Z"
   },
   {
    "duration": 3,
    "start_time": "2023-05-10T20:28:21.134Z"
   },
   {
    "duration": 74,
    "start_time": "2023-05-10T20:28:21.615Z"
   },
   {
    "duration": 3,
    "start_time": "2023-05-10T20:28:57.443Z"
   },
   {
    "duration": 69,
    "start_time": "2023-05-10T20:28:57.945Z"
   },
   {
    "duration": 65,
    "start_time": "2023-05-10T20:29:15.292Z"
   },
   {
    "duration": 3,
    "start_time": "2023-05-10T20:29:17.950Z"
   },
   {
    "duration": 66,
    "start_time": "2023-05-10T20:29:18.224Z"
   },
   {
    "duration": 3,
    "start_time": "2023-05-10T20:29:23.297Z"
   },
   {
    "duration": 72,
    "start_time": "2023-05-10T20:29:23.710Z"
   },
   {
    "duration": 3,
    "start_time": "2023-05-10T20:29:29.814Z"
   },
   {
    "duration": 73,
    "start_time": "2023-05-10T20:29:30.143Z"
   },
   {
    "duration": 4,
    "start_time": "2023-05-10T20:29:35.901Z"
   },
   {
    "duration": 77,
    "start_time": "2023-05-10T20:29:36.132Z"
   },
   {
    "duration": 4,
    "start_time": "2023-05-10T20:29:45.042Z"
   },
   {
    "duration": 75,
    "start_time": "2023-05-10T20:29:45.404Z"
   },
   {
    "duration": 4,
    "start_time": "2023-05-10T20:30:58.331Z"
   },
   {
    "duration": 75,
    "start_time": "2023-05-10T20:30:58.651Z"
   },
   {
    "duration": 53,
    "start_time": "2023-05-10T20:31:02.489Z"
   },
   {
    "duration": 4,
    "start_time": "2023-05-10T20:31:05.636Z"
   },
   {
    "duration": 64,
    "start_time": "2023-05-10T20:31:06.199Z"
   },
   {
    "duration": 3,
    "start_time": "2023-05-10T20:31:30.911Z"
   },
   {
    "duration": 64,
    "start_time": "2023-05-10T20:31:31.243Z"
   },
   {
    "duration": 3,
    "start_time": "2023-05-10T20:31:41.210Z"
   },
   {
    "duration": 70,
    "start_time": "2023-05-10T20:31:41.482Z"
   },
   {
    "duration": 4,
    "start_time": "2023-05-10T20:31:51.441Z"
   },
   {
    "duration": 64,
    "start_time": "2023-05-10T20:31:51.866Z"
   },
   {
    "duration": 3,
    "start_time": "2023-05-10T20:31:56.399Z"
   },
   {
    "duration": 71,
    "start_time": "2023-05-10T20:31:56.723Z"
   },
   {
    "duration": 3,
    "start_time": "2023-05-10T20:32:01.825Z"
   },
   {
    "duration": 69,
    "start_time": "2023-05-10T20:32:02.161Z"
   },
   {
    "duration": 4,
    "start_time": "2023-05-10T20:32:15.022Z"
   },
   {
    "duration": 71,
    "start_time": "2023-05-10T20:32:15.383Z"
   },
   {
    "duration": 3,
    "start_time": "2023-05-10T20:32:43.479Z"
   },
   {
    "duration": 85,
    "start_time": "2023-05-10T20:32:43.792Z"
   },
   {
    "duration": 3,
    "start_time": "2023-05-10T20:32:46.395Z"
   },
   {
    "duration": 72,
    "start_time": "2023-05-10T20:32:46.976Z"
   },
   {
    "duration": 4,
    "start_time": "2023-05-10T20:33:02.614Z"
   },
   {
    "duration": 64,
    "start_time": "2023-05-10T20:33:02.837Z"
   },
   {
    "duration": 3,
    "start_time": "2023-05-10T20:33:05.804Z"
   },
   {
    "duration": 65,
    "start_time": "2023-05-10T20:33:05.996Z"
   },
   {
    "duration": 3,
    "start_time": "2023-05-10T20:33:15.114Z"
   },
   {
    "duration": 76,
    "start_time": "2023-05-10T20:33:15.347Z"
   },
   {
    "duration": 3,
    "start_time": "2023-05-10T20:33:23.824Z"
   },
   {
    "duration": 81,
    "start_time": "2023-05-10T20:33:24.081Z"
   },
   {
    "duration": 4,
    "start_time": "2023-05-10T20:33:50.438Z"
   },
   {
    "duration": 72,
    "start_time": "2023-05-10T20:33:50.690Z"
   },
   {
    "duration": 3,
    "start_time": "2023-05-10T20:34:33.952Z"
   },
   {
    "duration": 65,
    "start_time": "2023-05-10T20:34:34.377Z"
   },
   {
    "duration": 4,
    "start_time": "2023-05-10T20:34:45.233Z"
   },
   {
    "duration": 73,
    "start_time": "2023-05-10T20:34:45.677Z"
   },
   {
    "duration": 4,
    "start_time": "2023-05-10T20:37:08.772Z"
   },
   {
    "duration": 68,
    "start_time": "2023-05-10T20:37:09.226Z"
   },
   {
    "duration": 3,
    "start_time": "2023-05-10T20:38:29.928Z"
   },
   {
    "duration": 62,
    "start_time": "2023-05-10T20:38:30.288Z"
   },
   {
    "duration": 4,
    "start_time": "2023-05-10T20:39:39.655Z"
   },
   {
    "duration": 67,
    "start_time": "2023-05-10T20:39:39.901Z"
   },
   {
    "duration": 4,
    "start_time": "2023-05-10T20:39:50.180Z"
   },
   {
    "duration": 78,
    "start_time": "2023-05-10T20:39:50.432Z"
   },
   {
    "duration": 4,
    "start_time": "2023-05-10T20:39:56.093Z"
   },
   {
    "duration": 77,
    "start_time": "2023-05-10T20:39:56.305Z"
   },
   {
    "duration": 54,
    "start_time": "2023-05-10T20:40:04.695Z"
   },
   {
    "duration": 106,
    "start_time": "2023-05-10T20:40:05.056Z"
   },
   {
    "duration": 48,
    "start_time": "2023-05-10T20:40:10.372Z"
   },
   {
    "duration": 77,
    "start_time": "2023-05-10T20:40:10.717Z"
   },
   {
    "duration": 4,
    "start_time": "2023-05-10T20:40:13.172Z"
   },
   {
    "duration": 70,
    "start_time": "2023-05-10T20:40:13.350Z"
   },
   {
    "duration": 3,
    "start_time": "2023-05-10T20:41:16.486Z"
   },
   {
    "duration": 73,
    "start_time": "2023-05-10T20:41:16.893Z"
   },
   {
    "duration": 3,
    "start_time": "2023-05-10T20:41:24.708Z"
   },
   {
    "duration": 65,
    "start_time": "2023-05-10T20:41:25.118Z"
   },
   {
    "duration": 3,
    "start_time": "2023-05-10T20:41:45.354Z"
   },
   {
    "duration": 67,
    "start_time": "2023-05-10T20:41:45.714Z"
   },
   {
    "duration": 3,
    "start_time": "2023-05-10T20:41:51.294Z"
   },
   {
    "duration": 73,
    "start_time": "2023-05-10T20:41:51.659Z"
   },
   {
    "duration": 3,
    "start_time": "2023-05-10T20:41:57.060Z"
   },
   {
    "duration": 72,
    "start_time": "2023-05-10T20:41:58.730Z"
   },
   {
    "duration": 5,
    "start_time": "2023-05-10T20:42:06.635Z"
   },
   {
    "duration": 65,
    "start_time": "2023-05-10T20:42:06.884Z"
   },
   {
    "duration": 3,
    "start_time": "2023-05-10T20:42:12.749Z"
   },
   {
    "duration": 75,
    "start_time": "2023-05-10T20:42:13.141Z"
   },
   {
    "duration": 4,
    "start_time": "2023-05-10T20:42:17.441Z"
   },
   {
    "duration": 66,
    "start_time": "2023-05-10T20:42:17.683Z"
   },
   {
    "duration": 3,
    "start_time": "2023-05-10T20:47:14.373Z"
   },
   {
    "duration": 5,
    "start_time": "2023-05-10T20:47:19.367Z"
   },
   {
    "duration": 49,
    "start_time": "2023-05-10T20:47:19.603Z"
   },
   {
    "duration": 11,
    "start_time": "2023-05-10T20:47:29.771Z"
   },
   {
    "duration": 50,
    "start_time": "2023-05-10T20:48:03.853Z"
   },
   {
    "duration": 11,
    "start_time": "2023-05-10T20:48:04.544Z"
   },
   {
    "duration": 4,
    "start_time": "2023-05-10T20:48:09.833Z"
   },
   {
    "duration": 64,
    "start_time": "2023-05-10T20:48:10.066Z"
   },
   {
    "duration": 62,
    "start_time": "2023-05-10T20:48:31.668Z"
   },
   {
    "duration": 43,
    "start_time": "2023-05-10T20:49:39.289Z"
   },
   {
    "duration": 51,
    "start_time": "2023-05-10T20:49:44.859Z"
   },
   {
    "duration": 71,
    "start_time": "2023-05-10T20:49:51.599Z"
   },
   {
    "duration": 66,
    "start_time": "2023-05-10T20:50:08.656Z"
   },
   {
    "duration": 4,
    "start_time": "2023-05-10T20:52:42.608Z"
   },
   {
    "duration": 5,
    "start_time": "2023-05-10T20:52:51.856Z"
   },
   {
    "duration": 11,
    "start_time": "2023-05-10T20:53:12.273Z"
   },
   {
    "duration": 4,
    "start_time": "2023-05-10T20:53:27.444Z"
   },
   {
    "duration": 12,
    "start_time": "2023-05-10T20:53:27.874Z"
   },
   {
    "duration": 14,
    "start_time": "2023-05-10T20:53:33.646Z"
   },
   {
    "duration": 4,
    "start_time": "2023-05-10T20:53:36.344Z"
   },
   {
    "duration": 269,
    "start_time": "2023-05-10T20:53:36.867Z"
   },
   {
    "duration": 4,
    "start_time": "2023-05-10T20:54:02.235Z"
   },
   {
    "duration": 272,
    "start_time": "2023-05-10T20:54:02.480Z"
   },
   {
    "duration": 2938,
    "start_time": "2023-05-10T20:54:14.703Z"
   },
   {
    "duration": 11401,
    "start_time": "2023-05-10T20:54:36.124Z"
   },
   {
    "duration": 4,
    "start_time": "2023-05-10T20:55:57.415Z"
   },
   {
    "duration": 29,
    "start_time": "2023-05-10T20:55:57.876Z"
   },
   {
    "duration": 4,
    "start_time": "2023-05-10T20:56:52.763Z"
   },
   {
    "duration": 27,
    "start_time": "2023-05-10T20:56:53.322Z"
   },
   {
    "duration": 3,
    "start_time": "2023-05-10T20:57:09.884Z"
   },
   {
    "duration": 11369,
    "start_time": "2023-05-10T20:57:10.209Z"
   },
   {
    "duration": 481,
    "start_time": "2023-05-10T20:57:57.716Z"
   },
   {
    "duration": 482,
    "start_time": "2023-05-10T20:58:12.053Z"
   },
   {
    "duration": 496,
    "start_time": "2023-05-10T20:59:39.241Z"
   },
   {
    "duration": 470,
    "start_time": "2023-05-10T20:59:48.493Z"
   },
   {
    "duration": 4,
    "start_time": "2023-05-10T21:00:09.131Z"
   },
   {
    "duration": 18,
    "start_time": "2023-05-10T21:00:09.334Z"
   },
   {
    "duration": 4,
    "start_time": "2023-05-10T21:00:14.485Z"
   },
   {
    "duration": 514,
    "start_time": "2023-05-10T21:00:14.952Z"
   },
   {
    "duration": 3161,
    "start_time": "2023-05-10T21:00:21.172Z"
   },
   {
    "duration": 483,
    "start_time": "2023-05-10T21:00:53.258Z"
   },
   {
    "duration": 4,
    "start_time": "2023-05-10T21:01:00.735Z"
   },
   {
    "duration": 493,
    "start_time": "2023-05-10T21:01:00.979Z"
   },
   {
    "duration": 484,
    "start_time": "2023-05-10T21:01:10.473Z"
   },
   {
    "duration": 461,
    "start_time": "2023-05-10T21:01:11.786Z"
   },
   {
    "duration": 49,
    "start_time": "2023-05-10T21:01:37.870Z"
   },
   {
    "duration": 2,
    "start_time": "2023-05-10T21:02:41.854Z"
   },
   {
    "duration": 4,
    "start_time": "2023-05-10T21:03:54.266Z"
   },
   {
    "duration": 3,
    "start_time": "2023-05-10T21:04:01.770Z"
   },
   {
    "duration": 528,
    "start_time": "2023-05-10T21:04:03.635Z"
   },
   {
    "duration": 3,
    "start_time": "2023-05-10T21:12:36.562Z"
   },
   {
    "duration": 187,
    "start_time": "2023-05-10T21:12:37.007Z"
   },
   {
    "duration": 4,
    "start_time": "2023-05-10T21:12:42.693Z"
   },
   {
    "duration": 187,
    "start_time": "2023-05-10T21:12:43.110Z"
   },
   {
    "duration": 3,
    "start_time": "2023-05-10T21:12:48.266Z"
   },
   {
    "duration": 165,
    "start_time": "2023-05-10T21:12:48.710Z"
   },
   {
    "duration": 4,
    "start_time": "2023-05-10T21:16:16.674Z"
   },
   {
    "duration": 196,
    "start_time": "2023-05-10T21:16:17.324Z"
   },
   {
    "duration": 4,
    "start_time": "2023-05-10T21:16:21.031Z"
   },
   {
    "duration": 177,
    "start_time": "2023-05-10T21:16:21.536Z"
   },
   {
    "duration": 4,
    "start_time": "2023-05-10T21:18:05.061Z"
   },
   {
    "duration": 29,
    "start_time": "2023-05-10T21:18:05.364Z"
   },
   {
    "duration": 3,
    "start_time": "2023-05-10T21:18:29.407Z"
   },
   {
    "duration": 26,
    "start_time": "2023-05-10T21:18:29.693Z"
   },
   {
    "duration": 3,
    "start_time": "2023-05-10T21:18:57.888Z"
   },
   {
    "duration": 18,
    "start_time": "2023-05-10T21:18:58.339Z"
   },
   {
    "duration": 3,
    "start_time": "2023-05-10T21:19:05.910Z"
   },
   {
    "duration": 26,
    "start_time": "2023-05-10T21:19:06.300Z"
   },
   {
    "duration": 3,
    "start_time": "2023-05-10T21:19:19.771Z"
   },
   {
    "duration": 13,
    "start_time": "2023-05-10T21:19:20.274Z"
   },
   {
    "duration": 3,
    "start_time": "2023-05-10T21:19:30.968Z"
   },
   {
    "duration": 76,
    "start_time": "2023-05-10T21:19:31.240Z"
   },
   {
    "duration": 3,
    "start_time": "2023-05-10T21:19:49.511Z"
   },
   {
    "duration": 13,
    "start_time": "2023-05-10T21:19:49.931Z"
   },
   {
    "duration": 3,
    "start_time": "2023-05-10T21:20:40.022Z"
   },
   {
    "duration": 15,
    "start_time": "2023-05-10T21:20:40.461Z"
   },
   {
    "duration": 4,
    "start_time": "2023-05-10T21:20:48.320Z"
   },
   {
    "duration": 13,
    "start_time": "2023-05-10T21:20:48.701Z"
   },
   {
    "duration": 3,
    "start_time": "2023-05-10T21:20:52.984Z"
   },
   {
    "duration": 13,
    "start_time": "2023-05-10T21:20:53.310Z"
   },
   {
    "duration": 3,
    "start_time": "2023-05-10T21:20:56.686Z"
   },
   {
    "duration": 13,
    "start_time": "2023-05-10T21:20:57.094Z"
   },
   {
    "duration": 3,
    "start_time": "2023-05-10T21:21:00.218Z"
   },
   {
    "duration": 17,
    "start_time": "2023-05-10T21:21:00.582Z"
   },
   {
    "duration": 3,
    "start_time": "2023-05-10T21:21:20.164Z"
   },
   {
    "duration": 163,
    "start_time": "2023-05-10T21:21:21.263Z"
   },
   {
    "duration": 3,
    "start_time": "2023-05-10T21:21:24.874Z"
   },
   {
    "duration": 3,
    "start_time": "2023-05-10T21:21:36.934Z"
   },
   {
    "duration": 77,
    "start_time": "2023-05-10T21:21:37.437Z"
   },
   {
    "duration": 3,
    "start_time": "2023-05-10T21:23:53.669Z"
   },
   {
    "duration": 12,
    "start_time": "2023-05-10T21:23:54.321Z"
   },
   {
    "duration": 3,
    "start_time": "2023-05-10T21:23:57.562Z"
   },
   {
    "duration": 12,
    "start_time": "2023-05-10T21:23:57.966Z"
   },
   {
    "duration": 3,
    "start_time": "2023-05-10T21:24:17.833Z"
   },
   {
    "duration": 14,
    "start_time": "2023-05-10T21:24:18.380Z"
   },
   {
    "duration": 3,
    "start_time": "2023-05-10T21:24:24.712Z"
   },
   {
    "duration": 20,
    "start_time": "2023-05-10T21:24:25.726Z"
   },
   {
    "duration": 3,
    "start_time": "2023-05-10T21:25:20.062Z"
   },
   {
    "duration": 13,
    "start_time": "2023-05-10T21:25:20.586Z"
   },
   {
    "duration": 3,
    "start_time": "2023-05-10T21:25:44.699Z"
   },
   {
    "duration": 18,
    "start_time": "2023-05-10T21:25:45.141Z"
   },
   {
    "duration": 3,
    "start_time": "2023-05-10T21:25:50.024Z"
   },
   {
    "duration": 19,
    "start_time": "2023-05-10T21:25:50.697Z"
   },
   {
    "duration": 3,
    "start_time": "2023-05-10T21:25:54.072Z"
   },
   {
    "duration": 3,
    "start_time": "2023-05-10T21:25:57.997Z"
   },
   {
    "duration": 20,
    "start_time": "2023-05-10T21:25:58.604Z"
   },
   {
    "duration": 3,
    "start_time": "2023-05-10T21:27:32.726Z"
   },
   {
    "duration": 11,
    "start_time": "2023-05-10T21:27:33.571Z"
   },
   {
    "duration": 4,
    "start_time": "2023-05-10T21:27:38.462Z"
   },
   {
    "duration": 19,
    "start_time": "2023-05-10T21:27:38.920Z"
   },
   {
    "duration": 4,
    "start_time": "2023-05-10T21:27:45.704Z"
   },
   {
    "duration": 18,
    "start_time": "2023-05-10T21:27:46.449Z"
   },
   {
    "duration": 3,
    "start_time": "2023-05-10T21:28:02.229Z"
   },
   {
    "duration": 26,
    "start_time": "2023-05-10T21:28:02.881Z"
   },
   {
    "duration": 3,
    "start_time": "2023-05-10T21:28:08.414Z"
   },
   {
    "duration": 17,
    "start_time": "2023-05-10T21:28:09.110Z"
   },
   {
    "duration": 3,
    "start_time": "2023-05-10T21:28:47.945Z"
   },
   {
    "duration": 18,
    "start_time": "2023-05-10T21:28:48.364Z"
   },
   {
    "duration": 3,
    "start_time": "2023-05-10T21:29:04.387Z"
   },
   {
    "duration": 28,
    "start_time": "2023-05-10T21:29:05.044Z"
   },
   {
    "duration": 3,
    "start_time": "2023-05-10T21:30:25.602Z"
   },
   {
    "duration": 13,
    "start_time": "2023-05-10T21:30:26.180Z"
   },
   {
    "duration": 4,
    "start_time": "2023-05-10T21:30:38.679Z"
   },
   {
    "duration": 250,
    "start_time": "2023-05-10T21:30:39.094Z"
   },
   {
    "duration": 4,
    "start_time": "2023-05-10T21:31:15.066Z"
   },
   {
    "duration": 15,
    "start_time": "2023-05-10T21:31:15.447Z"
   },
   {
    "duration": 4,
    "start_time": "2023-05-10T21:31:25.641Z"
   },
   {
    "duration": 13,
    "start_time": "2023-05-10T21:31:25.939Z"
   },
   {
    "duration": 3,
    "start_time": "2023-05-10T21:31:50.919Z"
   },
   {
    "duration": 18,
    "start_time": "2023-05-10T21:31:51.284Z"
   },
   {
    "duration": 3,
    "start_time": "2023-05-10T21:31:55.215Z"
   },
   {
    "duration": 14,
    "start_time": "2023-05-10T21:31:55.554Z"
   },
   {
    "duration": 3,
    "start_time": "2023-05-10T21:32:09.338Z"
   },
   {
    "duration": 13,
    "start_time": "2023-05-10T21:32:09.884Z"
   },
   {
    "duration": 3,
    "start_time": "2023-05-10T21:32:19.196Z"
   },
   {
    "duration": 15,
    "start_time": "2023-05-10T21:32:19.622Z"
   },
   {
    "duration": 4,
    "start_time": "2023-05-10T21:32:32.734Z"
   },
   {
    "duration": 20,
    "start_time": "2023-05-10T21:32:33.058Z"
   },
   {
    "duration": 3,
    "start_time": "2023-05-10T21:32:45.881Z"
   },
   {
    "duration": 21,
    "start_time": "2023-05-10T21:32:46.361Z"
   },
   {
    "duration": 3,
    "start_time": "2023-05-10T21:32:49.575Z"
   },
   {
    "duration": 12,
    "start_time": "2023-05-10T21:32:49.959Z"
   },
   {
    "duration": 4,
    "start_time": "2023-05-10T21:32:55.116Z"
   },
   {
    "duration": 20,
    "start_time": "2023-05-10T21:32:55.792Z"
   },
   {
    "duration": 3,
    "start_time": "2023-05-10T21:32:59.529Z"
   },
   {
    "duration": 19,
    "start_time": "2023-05-10T21:33:00.581Z"
   },
   {
    "duration": 3,
    "start_time": "2023-05-10T21:33:22.846Z"
   },
   {
    "duration": 17,
    "start_time": "2023-05-10T21:33:23.151Z"
   },
   {
    "duration": 3,
    "start_time": "2023-05-10T21:33:30.319Z"
   },
   {
    "duration": 34,
    "start_time": "2023-05-10T21:33:30.725Z"
   },
   {
    "duration": 4,
    "start_time": "2023-05-10T21:33:39.711Z"
   },
   {
    "duration": 19,
    "start_time": "2023-05-10T21:33:40.155Z"
   },
   {
    "duration": 4,
    "start_time": "2023-05-10T21:33:46.700Z"
   },
   {
    "duration": 18,
    "start_time": "2023-05-10T21:33:47.369Z"
   },
   {
    "duration": 3,
    "start_time": "2023-05-10T21:33:50.274Z"
   },
   {
    "duration": 13,
    "start_time": "2023-05-10T21:33:50.589Z"
   },
   {
    "duration": 3,
    "start_time": "2023-05-10T21:33:52.986Z"
   },
   {
    "duration": 24,
    "start_time": "2023-05-10T21:33:53.353Z"
   },
   {
    "duration": 9,
    "start_time": "2023-05-10T21:34:06.374Z"
   },
   {
    "duration": 3,
    "start_time": "2023-05-10T21:34:07.967Z"
   },
   {
    "duration": 21,
    "start_time": "2023-05-10T21:34:08.304Z"
   },
   {
    "duration": 5,
    "start_time": "2023-05-10T21:38:35.285Z"
   },
   {
    "duration": 46,
    "start_time": "2023-05-10T21:38:35.870Z"
   },
   {
    "duration": 3,
    "start_time": "2023-05-10T21:38:39.273Z"
   },
   {
    "duration": 43,
    "start_time": "2023-05-10T21:38:39.615Z"
   },
   {
    "duration": 3,
    "start_time": "2023-05-10T21:38:51.191Z"
   },
   {
    "duration": 16,
    "start_time": "2023-05-10T21:38:51.517Z"
   },
   {
    "duration": 4,
    "start_time": "2023-05-10T21:38:55.690Z"
   },
   {
    "duration": 1015,
    "start_time": "2023-05-10T21:40:39.720Z"
   },
   {
    "duration": 2,
    "start_time": "2023-05-10T21:40:40.737Z"
   },
   {
    "duration": 29,
    "start_time": "2023-05-10T21:40:40.741Z"
   },
   {
    "duration": 18,
    "start_time": "2023-05-10T21:40:40.772Z"
   },
   {
    "duration": 6,
    "start_time": "2023-05-10T21:40:40.792Z"
   },
   {
    "duration": 27,
    "start_time": "2023-05-10T21:40:40.800Z"
   },
   {
    "duration": 890,
    "start_time": "2023-05-10T21:40:40.829Z"
   },
   {
    "duration": 3,
    "start_time": "2023-05-10T21:40:41.721Z"
   },
   {
    "duration": 7,
    "start_time": "2023-05-10T21:40:41.725Z"
   },
   {
    "duration": 5,
    "start_time": "2023-05-10T21:40:41.733Z"
   },
   {
    "duration": 4,
    "start_time": "2023-05-10T21:40:41.739Z"
   },
   {
    "duration": 62,
    "start_time": "2023-05-10T21:40:41.744Z"
   },
   {
    "duration": 4,
    "start_time": "2023-05-10T21:40:41.807Z"
   },
   {
    "duration": 69,
    "start_time": "2023-05-10T21:40:41.813Z"
   },
   {
    "duration": 11,
    "start_time": "2023-05-10T21:40:41.883Z"
   },
   {
    "duration": 470,
    "start_time": "2023-05-10T21:40:41.895Z"
   },
   {
    "duration": 3,
    "start_time": "2023-05-10T21:40:42.367Z"
   },
   {
    "duration": 1033,
    "start_time": "2023-05-10T21:42:50.885Z"
   },
   {
    "duration": 3,
    "start_time": "2023-05-10T21:42:51.920Z"
   },
   {
    "duration": 28,
    "start_time": "2023-05-10T21:42:51.924Z"
   },
   {
    "duration": 16,
    "start_time": "2023-05-10T21:42:51.954Z"
   },
   {
    "duration": 5,
    "start_time": "2023-05-10T21:42:51.972Z"
   },
   {
    "duration": 6,
    "start_time": "2023-05-10T21:42:51.979Z"
   },
   {
    "duration": 850,
    "start_time": "2023-05-10T21:42:51.986Z"
   },
   {
    "duration": 3,
    "start_time": "2023-05-10T21:42:52.838Z"
   },
   {
    "duration": 4,
    "start_time": "2023-05-10T21:42:52.843Z"
   },
   {
    "duration": 5,
    "start_time": "2023-05-10T21:42:52.849Z"
   },
   {
    "duration": 4,
    "start_time": "2023-05-10T21:42:52.855Z"
   },
   {
    "duration": 61,
    "start_time": "2023-05-10T21:42:52.860Z"
   },
   {
    "duration": 4,
    "start_time": "2023-05-10T21:42:52.922Z"
   },
   {
    "duration": 79,
    "start_time": "2023-05-10T21:42:52.929Z"
   },
   {
    "duration": 3,
    "start_time": "2023-05-10T21:42:53.010Z"
   },
   {
    "duration": 479,
    "start_time": "2023-05-10T21:42:53.015Z"
   },
   {
    "duration": 4,
    "start_time": "2023-05-10T21:42:53.495Z"
   },
   {
    "duration": 62,
    "start_time": "2023-05-10T21:42:53.501Z"
   },
   {
    "duration": 5,
    "start_time": "2023-05-10T21:43:04.121Z"
   },
   {
    "duration": 8,
    "start_time": "2023-05-10T21:46:26.130Z"
   },
   {
    "duration": 39,
    "start_time": "2023-05-10T21:46:26.486Z"
   },
   {
    "duration": 1025,
    "start_time": "2023-05-10T21:46:48.467Z"
   },
   {
    "duration": 3,
    "start_time": "2023-05-10T21:46:49.494Z"
   },
   {
    "duration": 28,
    "start_time": "2023-05-10T21:46:49.499Z"
   },
   {
    "duration": 16,
    "start_time": "2023-05-10T21:46:49.529Z"
   },
   {
    "duration": 5,
    "start_time": "2023-05-10T21:46:49.547Z"
   },
   {
    "duration": 7,
    "start_time": "2023-05-10T21:46:49.554Z"
   },
   {
    "duration": 823,
    "start_time": "2023-05-10T21:46:49.562Z"
   },
   {
    "duration": 8,
    "start_time": "2023-05-10T21:46:50.386Z"
   },
   {
    "duration": 3,
    "start_time": "2023-05-10T21:46:50.396Z"
   },
   {
    "duration": 5,
    "start_time": "2023-05-10T21:46:50.401Z"
   },
   {
    "duration": 5,
    "start_time": "2023-05-10T21:46:50.407Z"
   },
   {
    "duration": 40,
    "start_time": "2023-05-10T21:46:50.414Z"
   },
   {
    "duration": 3,
    "start_time": "2023-05-10T21:46:50.456Z"
   },
   {
    "duration": 92,
    "start_time": "2023-05-10T21:46:50.460Z"
   },
   {
    "duration": 4,
    "start_time": "2023-05-10T21:46:50.553Z"
   },
   {
    "duration": 482,
    "start_time": "2023-05-10T21:46:50.558Z"
   },
   {
    "duration": 3,
    "start_time": "2023-05-10T21:46:51.041Z"
   },
   {
    "duration": 28,
    "start_time": "2023-05-10T21:46:51.045Z"
   },
   {
    "duration": 3,
    "start_time": "2023-05-10T21:47:12.720Z"
   },
   {
    "duration": 35,
    "start_time": "2023-05-10T21:47:13.096Z"
   },
   {
    "duration": 3,
    "start_time": "2023-05-10T21:49:33.609Z"
   },
   {
    "duration": 37,
    "start_time": "2023-05-10T21:49:34.128Z"
   },
   {
    "duration": 3,
    "start_time": "2023-05-10T21:50:16.503Z"
   },
   {
    "duration": 35,
    "start_time": "2023-05-10T21:50:16.774Z"
   },
   {
    "duration": 4,
    "start_time": "2023-05-10T21:50:35.413Z"
   },
   {
    "duration": 100,
    "start_time": "2023-05-10T21:50:35.797Z"
   },
   {
    "duration": 4,
    "start_time": "2023-05-10T21:50:45.291Z"
   },
   {
    "duration": 13,
    "start_time": "2023-05-10T21:50:45.571Z"
   },
   {
    "duration": 4,
    "start_time": "2023-05-10T21:50:52.527Z"
   },
   {
    "duration": 13,
    "start_time": "2023-05-10T21:50:53.497Z"
   },
   {
    "duration": 3,
    "start_time": "2023-05-10T21:50:56.219Z"
   },
   {
    "duration": 14,
    "start_time": "2023-05-10T21:50:56.510Z"
   },
   {
    "duration": 4,
    "start_time": "2023-05-10T21:51:01.351Z"
   },
   {
    "duration": 14,
    "start_time": "2023-05-10T21:51:01.708Z"
   },
   {
    "duration": 3,
    "start_time": "2023-05-10T21:54:30.181Z"
   },
   {
    "duration": 14,
    "start_time": "2023-05-10T21:54:30.572Z"
   },
   {
    "duration": 51,
    "start_time": "2023-05-10T21:56:23.659Z"
   },
   {
    "duration": 3,
    "start_time": "2023-05-10T21:56:34.845Z"
   },
   {
    "duration": 19,
    "start_time": "2023-05-10T21:56:35.581Z"
   },
   {
    "duration": 4,
    "start_time": "2023-05-10T21:57:05.337Z"
   },
   {
    "duration": 21,
    "start_time": "2023-05-10T21:57:06.499Z"
   },
   {
    "duration": 4,
    "start_time": "2023-05-10T21:57:11.874Z"
   },
   {
    "duration": 20,
    "start_time": "2023-05-10T21:57:12.817Z"
   },
   {
    "duration": 3,
    "start_time": "2023-05-10T21:57:19.044Z"
   },
   {
    "duration": 20,
    "start_time": "2023-05-10T21:57:19.666Z"
   },
   {
    "duration": 3,
    "start_time": "2023-05-10T21:57:23.361Z"
   },
   {
    "duration": 19,
    "start_time": "2023-05-10T21:57:23.961Z"
   },
   {
    "duration": 3,
    "start_time": "2023-05-10T21:57:29.546Z"
   },
   {
    "duration": 20,
    "start_time": "2023-05-10T21:57:30.148Z"
   },
   {
    "duration": 3,
    "start_time": "2023-05-10T21:58:56.254Z"
   },
   {
    "duration": 22,
    "start_time": "2023-05-10T21:58:56.770Z"
   },
   {
    "duration": 4,
    "start_time": "2023-05-10T21:59:11.650Z"
   },
   {
    "duration": 13,
    "start_time": "2023-05-10T21:59:12.110Z"
   },
   {
    "duration": 4,
    "start_time": "2023-05-10T21:59:19.457Z"
   },
   {
    "duration": 14,
    "start_time": "2023-05-10T21:59:20.254Z"
   },
   {
    "duration": 3,
    "start_time": "2023-05-10T21:59:23.177Z"
   },
   {
    "duration": 19,
    "start_time": "2023-05-10T21:59:23.569Z"
   },
   {
    "duration": 3,
    "start_time": "2023-05-10T21:59:52.343Z"
   },
   {
    "duration": 12,
    "start_time": "2023-05-10T21:59:53.147Z"
   },
   {
    "duration": 3,
    "start_time": "2023-05-10T21:59:56.091Z"
   },
   {
    "duration": 12,
    "start_time": "2023-05-10T21:59:56.459Z"
   },
   {
    "duration": 3,
    "start_time": "2023-05-10T21:59:59.344Z"
   },
   {
    "duration": 16,
    "start_time": "2023-05-10T21:59:59.796Z"
   },
   {
    "duration": 4,
    "start_time": "2023-05-10T22:00:04.622Z"
   },
   {
    "duration": 19,
    "start_time": "2023-05-10T22:00:05.028Z"
   },
   {
    "duration": 3,
    "start_time": "2023-05-10T22:00:07.717Z"
   },
   {
    "duration": 20,
    "start_time": "2023-05-10T22:00:08.108Z"
   },
   {
    "duration": 3,
    "start_time": "2023-05-10T22:00:10.871Z"
   },
   {
    "duration": 20,
    "start_time": "2023-05-10T22:00:11.319Z"
   },
   {
    "duration": 3,
    "start_time": "2023-05-10T22:00:14.289Z"
   },
   {
    "duration": 21,
    "start_time": "2023-05-10T22:00:14.601Z"
   },
   {
    "duration": 3,
    "start_time": "2023-05-10T22:00:17.715Z"
   },
   {
    "duration": 19,
    "start_time": "2023-05-10T22:00:18.191Z"
   },
   {
    "duration": 3,
    "start_time": "2023-05-10T22:00:21.454Z"
   },
   {
    "duration": 19,
    "start_time": "2023-05-10T22:00:21.751Z"
   },
   {
    "duration": 3,
    "start_time": "2023-05-10T22:00:42.390Z"
   },
   {
    "duration": 21,
    "start_time": "2023-05-10T22:00:43.197Z"
   },
   {
    "duration": 3,
    "start_time": "2023-05-10T22:00:45.870Z"
   },
   {
    "duration": 14,
    "start_time": "2023-05-10T22:00:46.179Z"
   },
   {
    "duration": 4,
    "start_time": "2023-05-10T22:00:48.559Z"
   },
   {
    "duration": 11,
    "start_time": "2023-05-10T22:00:49.012Z"
   },
   {
    "duration": 3,
    "start_time": "2023-05-10T22:00:51.707Z"
   },
   {
    "duration": 10,
    "start_time": "2023-05-10T22:00:52.051Z"
   },
   {
    "duration": 4,
    "start_time": "2023-05-10T22:00:55.210Z"
   },
   {
    "duration": 11,
    "start_time": "2023-05-10T22:00:55.579Z"
   },
   {
    "duration": 3,
    "start_time": "2023-05-10T22:00:58.776Z"
   },
   {
    "duration": 29,
    "start_time": "2023-05-10T22:00:59.126Z"
   },
   {
    "duration": 3,
    "start_time": "2023-05-10T22:01:01.729Z"
   },
   {
    "duration": 52,
    "start_time": "2023-05-10T22:01:02.095Z"
   },
   {
    "duration": 4,
    "start_time": "2023-05-10T22:01:04.463Z"
   },
   {
    "duration": 12,
    "start_time": "2023-05-10T22:01:04.905Z"
   },
   {
    "duration": 3,
    "start_time": "2023-05-10T22:01:08.576Z"
   },
   {
    "duration": 9,
    "start_time": "2023-05-10T22:01:08.900Z"
   },
   {
    "duration": 3,
    "start_time": "2023-05-10T22:01:11.199Z"
   },
   {
    "duration": 10,
    "start_time": "2023-05-10T22:01:11.546Z"
   },
   {
    "duration": 3,
    "start_time": "2023-05-10T22:01:13.788Z"
   },
   {
    "duration": 13,
    "start_time": "2023-05-10T22:01:14.072Z"
   },
   {
    "duration": 3,
    "start_time": "2023-05-10T22:01:15.628Z"
   },
   {
    "duration": 11,
    "start_time": "2023-05-10T22:01:15.910Z"
   },
   {
    "duration": 4,
    "start_time": "2023-05-10T22:01:17.236Z"
   },
   {
    "duration": 3,
    "start_time": "2023-05-10T22:01:21.403Z"
   },
   {
    "duration": 9,
    "start_time": "2023-05-10T22:01:21.873Z"
   },
   {
    "duration": 4,
    "start_time": "2023-05-10T22:01:24.735Z"
   },
   {
    "duration": 10,
    "start_time": "2023-05-10T22:01:24.989Z"
   },
   {
    "duration": 3,
    "start_time": "2023-05-10T22:01:28.151Z"
   },
   {
    "duration": 10,
    "start_time": "2023-05-10T22:01:28.866Z"
   },
   {
    "duration": 3,
    "start_time": "2023-05-10T22:01:32.223Z"
   },
   {
    "duration": 13,
    "start_time": "2023-05-10T22:01:32.584Z"
   },
   {
    "duration": 3,
    "start_time": "2023-05-10T22:01:39.229Z"
   },
   {
    "duration": 12,
    "start_time": "2023-05-10T22:01:39.568Z"
   },
   {
    "duration": 3,
    "start_time": "2023-05-10T22:02:55.939Z"
   },
   {
    "duration": 12,
    "start_time": "2023-05-10T22:02:56.611Z"
   },
   {
    "duration": 3,
    "start_time": "2023-05-10T22:03:07.718Z"
   },
   {
    "duration": 12,
    "start_time": "2023-05-10T22:03:08.255Z"
   },
   {
    "duration": 3,
    "start_time": "2023-05-10T22:03:13.281Z"
   },
   {
    "duration": 11,
    "start_time": "2023-05-10T22:03:13.710Z"
   },
   {
    "duration": 3,
    "start_time": "2023-05-10T22:03:16.010Z"
   },
   {
    "duration": 11,
    "start_time": "2023-05-10T22:03:16.316Z"
   },
   {
    "duration": 4,
    "start_time": "2023-05-10T22:03:20.021Z"
   },
   {
    "duration": 13,
    "start_time": "2023-05-10T22:03:20.447Z"
   },
   {
    "duration": 54,
    "start_time": "2023-05-10T22:04:15.463Z"
   },
   {
    "duration": 41,
    "start_time": "2023-05-10T22:04:18.993Z"
   },
   {
    "duration": 12,
    "start_time": "2023-05-10T22:04:19.200Z"
   },
   {
    "duration": 4,
    "start_time": "2023-05-10T22:04:22.682Z"
   },
   {
    "duration": 11,
    "start_time": "2023-05-10T22:04:22.956Z"
   },
   {
    "duration": 4,
    "start_time": "2023-05-10T22:04:26.804Z"
   },
   {
    "duration": 12,
    "start_time": "2023-05-10T22:04:27.125Z"
   },
   {
    "duration": 3,
    "start_time": "2023-05-10T22:04:29.093Z"
   },
   {
    "duration": 13,
    "start_time": "2023-05-10T22:04:29.323Z"
   },
   {
    "duration": 4,
    "start_time": "2023-05-10T22:04:33.221Z"
   },
   {
    "duration": 11,
    "start_time": "2023-05-10T22:04:33.670Z"
   },
   {
    "duration": 4,
    "start_time": "2023-05-10T22:04:37.283Z"
   },
   {
    "duration": 14,
    "start_time": "2023-05-10T22:04:37.791Z"
   },
   {
    "duration": 3,
    "start_time": "2023-05-10T22:04:45.665Z"
   },
   {
    "duration": 12,
    "start_time": "2023-05-10T22:04:46.093Z"
   },
   {
    "duration": 4,
    "start_time": "2023-05-10T22:04:49.631Z"
   },
   {
    "duration": 13,
    "start_time": "2023-05-10T22:04:50.244Z"
   },
   {
    "duration": 3,
    "start_time": "2023-05-10T22:04:53.011Z"
   },
   {
    "duration": 12,
    "start_time": "2023-05-10T22:04:53.352Z"
   },
   {
    "duration": 3,
    "start_time": "2023-05-10T22:04:59.622Z"
   },
   {
    "duration": 13,
    "start_time": "2023-05-10T22:04:59.888Z"
   },
   {
    "duration": 3,
    "start_time": "2023-05-10T22:05:55.532Z"
   },
   {
    "duration": 22,
    "start_time": "2023-05-10T22:05:55.870Z"
   },
   {
    "duration": 3,
    "start_time": "2023-05-10T22:06:05.346Z"
   },
   {
    "duration": 16,
    "start_time": "2023-05-10T22:06:05.635Z"
   },
   {
    "duration": 3,
    "start_time": "2023-05-10T22:06:30.553Z"
   },
   {
    "duration": 27,
    "start_time": "2023-05-10T22:06:31.005Z"
   },
   {
    "duration": 4,
    "start_time": "2023-05-10T22:06:34.661Z"
   },
   {
    "duration": 12,
    "start_time": "2023-05-10T22:06:34.862Z"
   },
   {
    "duration": 4,
    "start_time": "2023-05-10T22:06:49.001Z"
   },
   {
    "duration": 12,
    "start_time": "2023-05-10T22:06:49.276Z"
   },
   {
    "duration": 3,
    "start_time": "2023-05-10T22:06:52.043Z"
   },
   {
    "duration": 12,
    "start_time": "2023-05-10T22:06:52.311Z"
   },
   {
    "duration": 3,
    "start_time": "2023-05-10T22:06:55.679Z"
   },
   {
    "duration": 11,
    "start_time": "2023-05-10T22:06:55.915Z"
   },
   {
    "duration": 4,
    "start_time": "2023-05-10T22:07:03.638Z"
   },
   {
    "duration": 15,
    "start_time": "2023-05-10T22:07:04.083Z"
   },
   {
    "duration": 3,
    "start_time": "2023-05-10T22:07:26.077Z"
   },
   {
    "duration": 14,
    "start_time": "2023-05-10T22:07:26.351Z"
   },
   {
    "duration": 4,
    "start_time": "2023-05-10T22:07:31.562Z"
   },
   {
    "duration": 76,
    "start_time": "2023-05-10T22:07:31.787Z"
   },
   {
    "duration": 4,
    "start_time": "2023-05-10T22:07:44.136Z"
   },
   {
    "duration": 93,
    "start_time": "2023-05-10T22:07:44.529Z"
   },
   {
    "duration": 3,
    "start_time": "2023-05-10T22:07:47.584Z"
   },
   {
    "duration": 84,
    "start_time": "2023-05-10T22:07:48.123Z"
   },
   {
    "duration": 4,
    "start_time": "2023-05-10T22:07:54.579Z"
   },
   {
    "duration": 78,
    "start_time": "2023-05-10T22:07:55.028Z"
   },
   {
    "duration": 4,
    "start_time": "2023-05-10T22:08:02.255Z"
   },
   {
    "duration": 81,
    "start_time": "2023-05-10T22:08:02.954Z"
   },
   {
    "duration": 3,
    "start_time": "2023-05-10T22:08:12.555Z"
   },
   {
    "duration": 88,
    "start_time": "2023-05-10T22:08:12.867Z"
   },
   {
    "duration": 4,
    "start_time": "2023-05-10T22:09:29.139Z"
   },
   {
    "duration": 14,
    "start_time": "2023-05-10T22:09:29.464Z"
   },
   {
    "duration": 8,
    "start_time": "2023-05-10T22:10:59.093Z"
   },
   {
    "duration": 9,
    "start_time": "2023-05-10T22:11:06.723Z"
   },
   {
    "duration": 3,
    "start_time": "2023-05-10T22:11:32.779Z"
   },
   {
    "duration": 8,
    "start_time": "2023-05-10T22:11:35.967Z"
   },
   {
    "duration": 9,
    "start_time": "2023-05-10T22:11:44.601Z"
   },
   {
    "duration": 3,
    "start_time": "2023-05-10T22:11:59.417Z"
   },
   {
    "duration": 3,
    "start_time": "2023-05-10T22:12:06.899Z"
   },
   {
    "duration": 8,
    "start_time": "2023-05-10T22:12:33.980Z"
   },
   {
    "duration": 8,
    "start_time": "2023-05-10T22:12:38.451Z"
   },
   {
    "duration": 13,
    "start_time": "2023-05-10T22:12:52.347Z"
   },
   {
    "duration": 3,
    "start_time": "2023-05-10T22:12:55.255Z"
   },
   {
    "duration": 12,
    "start_time": "2023-05-10T22:12:55.550Z"
   },
   {
    "duration": 4,
    "start_time": "2023-05-10T22:13:10.891Z"
   },
   {
    "duration": 18,
    "start_time": "2023-05-10T22:13:11.261Z"
   },
   {
    "duration": 3,
    "start_time": "2023-05-10T22:13:28.277Z"
   },
   {
    "duration": 19,
    "start_time": "2023-05-10T22:13:28.905Z"
   },
   {
    "duration": 3,
    "start_time": "2023-05-10T22:13:32.239Z"
   },
   {
    "duration": 18,
    "start_time": "2023-05-10T22:13:32.570Z"
   },
   {
    "duration": 3,
    "start_time": "2023-05-10T22:13:35.655Z"
   },
   {
    "duration": 19,
    "start_time": "2023-05-10T22:13:36.060Z"
   },
   {
    "duration": 3,
    "start_time": "2023-05-10T22:13:40.271Z"
   },
   {
    "duration": 22,
    "start_time": "2023-05-10T22:13:41.381Z"
   },
   {
    "duration": 63,
    "start_time": "2023-05-10T22:15:03.749Z"
   },
   {
    "duration": 4,
    "start_time": "2023-05-10T22:15:06.073Z"
   },
   {
    "duration": 14,
    "start_time": "2023-05-10T22:15:07.238Z"
   },
   {
    "duration": 3,
    "start_time": "2023-05-10T22:16:10.250Z"
   },
   {
    "duration": 12,
    "start_time": "2023-05-10T22:16:10.905Z"
   },
   {
    "duration": 3,
    "start_time": "2023-05-10T22:17:48.870Z"
   },
   {
    "duration": 28,
    "start_time": "2023-05-10T22:17:49.316Z"
   },
   {
    "duration": 4,
    "start_time": "2023-05-10T22:18:37.495Z"
   },
   {
    "duration": 27,
    "start_time": "2023-05-10T22:18:37.821Z"
   },
   {
    "duration": 4,
    "start_time": "2023-05-10T22:19:01.139Z"
   },
   {
    "duration": 27,
    "start_time": "2023-05-10T22:19:01.923Z"
   },
   {
    "duration": 9,
    "start_time": "2023-05-12T19:43:25.908Z"
   },
   {
    "duration": 71,
    "start_time": "2023-05-12T19:43:30.958Z"
   },
   {
    "duration": 1227,
    "start_time": "2023-05-12T19:43:41.286Z"
   },
   {
    "duration": 2,
    "start_time": "2023-05-12T19:43:42.516Z"
   },
   {
    "duration": 98,
    "start_time": "2023-05-12T19:43:42.520Z"
   },
   {
    "duration": 28,
    "start_time": "2023-05-12T19:43:42.621Z"
   },
   {
    "duration": 19,
    "start_time": "2023-05-12T19:43:42.653Z"
   },
   {
    "duration": 8,
    "start_time": "2023-05-12T19:43:42.678Z"
   },
   {
    "duration": 1496,
    "start_time": "2023-05-12T19:43:42.688Z"
   },
   {
    "duration": 7,
    "start_time": "2023-05-12T19:43:44.186Z"
   },
   {
    "duration": 15,
    "start_time": "2023-05-12T19:43:44.195Z"
   },
   {
    "duration": 10,
    "start_time": "2023-05-12T19:43:44.212Z"
   },
   {
    "duration": 11,
    "start_time": "2023-05-12T19:43:44.224Z"
   },
   {
    "duration": 187,
    "start_time": "2023-05-12T19:43:44.237Z"
   },
   {
    "duration": 5,
    "start_time": "2023-05-12T19:43:44.426Z"
   },
   {
    "duration": 148,
    "start_time": "2023-05-12T19:43:44.435Z"
   },
   {
    "duration": 13,
    "start_time": "2023-05-12T19:43:44.585Z"
   },
   {
    "duration": 694,
    "start_time": "2023-05-12T19:43:44.607Z"
   },
   {
    "duration": 8,
    "start_time": "2023-05-12T19:43:45.303Z"
   },
   {
    "duration": 52,
    "start_time": "2023-05-12T19:43:45.313Z"
   },
   {
    "duration": 77,
    "start_time": "2023-05-12T19:46:26.798Z"
   },
   {
    "duration": 4,
    "start_time": "2023-05-12T19:46:33.542Z"
   },
   {
    "duration": 5,
    "start_time": "2023-05-12T19:46:33.547Z"
   },
   {
    "duration": 50,
    "start_time": "2023-05-12T19:46:33.554Z"
   },
   {
    "duration": 12,
    "start_time": "2023-05-12T19:46:33.606Z"
   },
   {
    "duration": 8,
    "start_time": "2023-05-12T19:46:33.620Z"
   },
   {
    "duration": 12,
    "start_time": "2023-05-12T19:46:33.629Z"
   },
   {
    "duration": 893,
    "start_time": "2023-05-12T19:46:33.643Z"
   },
   {
    "duration": 4,
    "start_time": "2023-05-12T19:46:34.538Z"
   },
   {
    "duration": 17,
    "start_time": "2023-05-12T19:46:34.543Z"
   },
   {
    "duration": 14,
    "start_time": "2023-05-12T19:46:34.561Z"
   },
   {
    "duration": 10,
    "start_time": "2023-05-12T19:46:34.577Z"
   },
   {
    "duration": 3,
    "start_time": "2023-05-12T19:46:34.589Z"
   },
   {
    "duration": 10,
    "start_time": "2023-05-12T19:46:34.595Z"
   },
   {
    "duration": 101,
    "start_time": "2023-05-12T19:46:34.610Z"
   },
   {
    "duration": 4,
    "start_time": "2023-05-12T19:46:34.713Z"
   },
   {
    "duration": 657,
    "start_time": "2023-05-12T19:46:34.720Z"
   },
   {
    "duration": 7,
    "start_time": "2023-05-12T19:46:35.379Z"
   },
   {
    "duration": 42,
    "start_time": "2023-05-12T19:46:35.388Z"
   },
   {
    "duration": 11,
    "start_time": "2023-05-12T19:46:35.432Z"
   },
   {
    "duration": 98,
    "start_time": "2023-05-12T19:46:54.116Z"
   },
   {
    "duration": 10,
    "start_time": "2023-05-12T19:47:09.905Z"
   },
   {
    "duration": 77,
    "start_time": "2023-05-12T19:47:26.105Z"
   },
   {
    "duration": 15,
    "start_time": "2023-05-12T19:47:28.496Z"
   },
   {
    "duration": 6,
    "start_time": "2023-05-12T19:51:00.656Z"
   },
   {
    "duration": 5,
    "start_time": "2023-05-12T19:51:01.516Z"
   },
   {
    "duration": 7,
    "start_time": "2023-05-12T19:54:31.297Z"
   },
   {
    "duration": 19,
    "start_time": "2023-05-12T19:54:36.904Z"
   },
   {
    "duration": 5,
    "start_time": "2023-05-12T19:54:45.785Z"
   },
   {
    "duration": 37,
    "start_time": "2023-05-12T19:54:47.458Z"
   },
   {
    "duration": 4,
    "start_time": "2023-05-12T19:55:18.828Z"
   },
   {
    "duration": 95,
    "start_time": "2023-05-12T19:55:19.803Z"
   },
   {
    "duration": 5,
    "start_time": "2023-05-12T19:56:18.918Z"
   },
   {
    "duration": 1404,
    "start_time": "2023-05-12T19:56:19.789Z"
   },
   {
    "duration": 707,
    "start_time": "2023-05-12T19:56:33.300Z"
   },
   {
    "duration": 16,
    "start_time": "2023-05-12T19:56:43.207Z"
   },
   {
    "duration": 5,
    "start_time": "2023-05-12T19:58:14.077Z"
   },
   {
    "duration": 9907,
    "start_time": "2023-05-12T19:58:15.193Z"
   },
   {
    "duration": 4,
    "start_time": "2023-05-12T19:58:46.011Z"
   },
   {
    "duration": 10208,
    "start_time": "2023-05-12T19:58:46.522Z"
   },
   {
    "duration": 15,
    "start_time": "2023-05-12T19:59:03.631Z"
   },
   {
    "duration": 41,
    "start_time": "2023-05-12T19:59:13.828Z"
   },
   {
    "duration": 42,
    "start_time": "2023-05-12T19:59:16.886Z"
   },
   {
    "duration": 846,
    "start_time": "2023-05-12T19:59:49.332Z"
   },
   {
    "duration": 8,
    "start_time": "2023-05-12T20:00:11.296Z"
   },
   {
    "duration": 140,
    "start_time": "2023-05-12T20:00:14.756Z"
   },
   {
    "duration": 113,
    "start_time": "2023-05-12T20:00:20.696Z"
   },
   {
    "duration": 111,
    "start_time": "2023-05-12T20:30:39.787Z"
   },
   {
    "duration": 190,
    "start_time": "2023-05-12T20:33:30.702Z"
   },
   {
    "duration": 121,
    "start_time": "2023-05-12T20:33:41.612Z"
   },
   {
    "duration": 118,
    "start_time": "2023-05-12T20:33:54.140Z"
   },
   {
    "duration": 62,
    "start_time": "2023-05-12T20:34:04.290Z"
   },
   {
    "duration": 138,
    "start_time": "2023-05-12T20:34:30.804Z"
   },
   {
    "duration": 118,
    "start_time": "2023-05-12T20:34:46.285Z"
   },
   {
    "duration": 135,
    "start_time": "2023-05-12T20:35:26.541Z"
   },
   {
    "duration": 160,
    "start_time": "2023-05-12T20:35:37.045Z"
   },
   {
    "duration": 139,
    "start_time": "2023-05-12T20:35:43.481Z"
   },
   {
    "duration": 133,
    "start_time": "2023-05-12T20:35:47.913Z"
   },
   {
    "duration": 231,
    "start_time": "2023-05-12T20:36:13.217Z"
   },
   {
    "duration": 12,
    "start_time": "2023-05-12T20:38:02.262Z"
   },
   {
    "duration": 133,
    "start_time": "2023-05-12T20:38:12.345Z"
   },
   {
    "duration": 119,
    "start_time": "2023-05-12T20:38:19.385Z"
   },
   {
    "duration": 4,
    "start_time": "2023-05-12T20:43:18.784Z"
   },
   {
    "duration": 28,
    "start_time": "2023-05-12T20:43:19.325Z"
   },
   {
    "duration": 126,
    "start_time": "2023-05-12T20:43:31.044Z"
   },
   {
    "duration": 130,
    "start_time": "2023-05-12T20:43:36.954Z"
   },
   {
    "duration": 4,
    "start_time": "2023-05-12T20:47:30.188Z"
   },
   {
    "duration": 24,
    "start_time": "2023-05-12T20:47:31.055Z"
   },
   {
    "duration": 4,
    "start_time": "2023-05-12T20:50:21.141Z"
   },
   {
    "duration": 164,
    "start_time": "2023-05-12T20:50:21.588Z"
   },
   {
    "duration": 5,
    "start_time": "2023-05-12T20:50:32.401Z"
   },
   {
    "duration": 6,
    "start_time": "2023-05-12T20:50:39.589Z"
   },
   {
    "duration": 21603,
    "start_time": "2023-05-12T20:50:40.403Z"
   },
   {
    "duration": 149108,
    "start_time": "2023-05-12T20:51:07.056Z"
   },
   {
    "duration": 18,
    "start_time": "2023-05-12T20:53:54.426Z"
   },
   {
    "duration": 21,
    "start_time": "2023-05-12T20:54:00.109Z"
   },
   {
    "duration": 6,
    "start_time": "2023-05-12T20:55:01.928Z"
   },
   {
    "duration": 13694,
    "start_time": "2023-05-12T20:55:02.349Z"
   },
   {
    "duration": 15,
    "start_time": "2023-05-12T20:55:24.027Z"
   },
   {
    "duration": 6,
    "start_time": "2023-05-12T20:56:00.024Z"
   },
   {
    "duration": 3968,
    "start_time": "2023-05-12T20:56:00.031Z"
   },
   {
    "duration": 13,
    "start_time": "2023-05-12T20:56:08.823Z"
   },
   {
    "duration": 23,
    "start_time": "2023-05-12T20:56:13.918Z"
   },
   {
    "duration": 873,
    "start_time": "2023-05-12T20:57:05.101Z"
   },
   {
    "duration": 19,
    "start_time": "2023-05-12T20:57:12.347Z"
   },
   {
    "duration": 3093,
    "start_time": "2023-05-12T20:57:23.340Z"
   },
   {
    "duration": 16,
    "start_time": "2023-05-12T20:57:30.219Z"
   },
   {
    "duration": 5133,
    "start_time": "2023-05-12T20:57:36.816Z"
   },
   {
    "duration": 14,
    "start_time": "2023-05-12T20:57:46.934Z"
   },
   {
    "duration": 3788,
    "start_time": "2023-05-12T20:57:54.109Z"
   },
   {
    "duration": 20,
    "start_time": "2023-05-12T20:58:01.449Z"
   },
   {
    "duration": 3,
    "start_time": "2023-05-12T20:58:37.823Z"
   },
   {
    "duration": 5414,
    "start_time": "2023-05-12T20:58:38.328Z"
   },
   {
    "duration": 5,
    "start_time": "2023-05-12T20:58:46.920Z"
   },
   {
    "duration": 4,
    "start_time": "2023-05-12T20:58:52.647Z"
   },
   {
    "duration": 5051,
    "start_time": "2023-05-12T20:58:53.121Z"
   },
   {
    "duration": 14,
    "start_time": "2023-05-12T20:59:02.135Z"
   },
   {
    "duration": 48,
    "start_time": "2023-05-12T21:01:48.416Z"
   },
   {
    "duration": 5328,
    "start_time": "2023-05-12T21:02:40.400Z"
   },
   {
    "duration": 13,
    "start_time": "2023-05-12T21:05:15.949Z"
   },
   {
    "duration": 8266,
    "start_time": "2023-05-12T21:05:16.155Z"
   },
   {
    "duration": 4,
    "start_time": "2023-05-12T21:06:09.108Z"
   },
   {
    "duration": 4017,
    "start_time": "2023-05-12T21:06:09.507Z"
   },
   {
    "duration": 795,
    "start_time": "2023-05-12T21:06:17.631Z"
   },
   {
    "duration": 1216,
    "start_time": "2023-05-12T21:06:22.421Z"
   },
   {
    "duration": 28,
    "start_time": "2023-05-12T21:06:30.054Z"
   },
   {
    "duration": 1716,
    "start_time": "2023-05-12T21:07:19.904Z"
   },
   {
    "duration": 2483,
    "start_time": "2023-05-12T21:07:25.913Z"
   },
   {
    "duration": 5,
    "start_time": "2023-05-12T21:07:31.015Z"
   },
   {
    "duration": 7,
    "start_time": "2023-05-12T21:07:32.892Z"
   },
   {
    "duration": 2573,
    "start_time": "2023-05-12T21:07:33.137Z"
   },
   {
    "duration": 11,
    "start_time": "2023-05-12T21:07:39.395Z"
   },
   {
    "duration": 9495,
    "start_time": "2023-05-12T21:07:39.712Z"
   },
   {
    "duration": 2968,
    "start_time": "2023-05-12T21:07:52.198Z"
   },
   {
    "duration": 11,
    "start_time": "2023-05-12T21:07:59.520Z"
   },
   {
    "duration": 13,
    "start_time": "2023-05-12T21:08:06.988Z"
   },
   {
    "duration": 11985,
    "start_time": "2023-05-12T21:08:24.508Z"
   },
   {
    "duration": 16,
    "start_time": "2023-05-12T21:08:40.299Z"
   },
   {
    "duration": 17910,
    "start_time": "2023-05-12T21:08:50.209Z"
   },
   {
    "duration": 12,
    "start_time": "2023-05-12T21:09:11.892Z"
   },
   {
    "duration": 5557,
    "start_time": "2023-05-12T21:09:19.098Z"
   },
   {
    "duration": 15,
    "start_time": "2023-05-12T21:09:28.600Z"
   },
   {
    "duration": 2079,
    "start_time": "2023-05-12T21:09:33.355Z"
   },
   {
    "duration": 18,
    "start_time": "2023-05-12T21:09:39.932Z"
   },
   {
    "duration": 17,
    "start_time": "2023-05-12T21:09:43.812Z"
   },
   {
    "duration": 11513,
    "start_time": "2023-05-12T21:09:59.202Z"
   },
   {
    "duration": 19,
    "start_time": "2023-05-12T21:10:14.447Z"
   },
   {
    "duration": 17158,
    "start_time": "2023-05-12T21:10:23.452Z"
   },
   {
    "duration": 15,
    "start_time": "2023-05-12T21:10:43.709Z"
   },
   {
    "duration": 1413,
    "start_time": "2023-05-12T21:24:01.794Z"
   },
   {
    "duration": 4,
    "start_time": "2023-05-12T21:24:03.209Z"
   },
   {
    "duration": 164,
    "start_time": "2023-05-12T21:24:03.214Z"
   },
   {
    "duration": 18,
    "start_time": "2023-05-12T21:24:03.380Z"
   },
   {
    "duration": 7,
    "start_time": "2023-05-12T21:24:03.401Z"
   },
   {
    "duration": 33,
    "start_time": "2023-05-12T21:24:03.409Z"
   },
   {
    "duration": 920,
    "start_time": "2023-05-12T21:24:03.444Z"
   },
   {
    "duration": 118,
    "start_time": "2023-05-12T21:24:04.365Z"
   },
   {
    "duration": 4,
    "start_time": "2023-05-12T21:24:04.484Z"
   },
   {
    "duration": 7,
    "start_time": "2023-05-12T21:24:04.489Z"
   },
   {
    "duration": 21,
    "start_time": "2023-05-12T21:24:04.498Z"
   },
   {
    "duration": 5,
    "start_time": "2023-05-12T21:24:04.536Z"
   },
   {
    "duration": 134,
    "start_time": "2023-05-12T21:24:04.543Z"
   },
   {
    "duration": 6,
    "start_time": "2023-05-12T21:24:04.679Z"
   },
   {
    "duration": 5,
    "start_time": "2023-05-12T21:24:07.253Z"
   },
   {
    "duration": 2700,
    "start_time": "2023-05-12T21:24:08.291Z"
   },
   {
    "duration": 81,
    "start_time": "2023-05-18T20:39:26.016Z"
   },
   {
    "duration": 7,
    "start_time": "2023-05-18T20:40:08.221Z"
   },
   {
    "duration": 1500,
    "start_time": "2023-05-18T20:40:19.812Z"
   },
   {
    "duration": 3,
    "start_time": "2023-05-18T20:40:21.316Z"
   },
   {
    "duration": 198,
    "start_time": "2023-05-18T20:40:21.322Z"
   },
   {
    "duration": 22,
    "start_time": "2023-05-18T20:40:21.523Z"
   },
   {
    "duration": 9,
    "start_time": "2023-05-18T20:40:21.548Z"
   },
   {
    "duration": 11,
    "start_time": "2023-05-18T20:40:21.559Z"
   },
   {
    "duration": 1502,
    "start_time": "2023-05-18T20:40:21.583Z"
   },
   {
    "duration": 143,
    "start_time": "2023-05-18T20:40:23.088Z"
   },
   {
    "duration": 5,
    "start_time": "2023-05-18T20:40:23.233Z"
   },
   {
    "duration": 75,
    "start_time": "2023-05-18T20:40:23.240Z"
   },
   {
    "duration": 33,
    "start_time": "2023-05-18T20:40:23.319Z"
   },
   {
    "duration": 63,
    "start_time": "2023-05-18T20:40:23.354Z"
   },
   {
    "duration": 107,
    "start_time": "2023-05-18T20:40:23.419Z"
   },
   {
    "duration": 0,
    "start_time": "2023-05-18T20:40:23.529Z"
   },
   {
    "duration": 0,
    "start_time": "2023-05-18T20:40:23.532Z"
   },
   {
    "duration": 0,
    "start_time": "2023-05-18T20:40:23.533Z"
   },
   {
    "duration": 0,
    "start_time": "2023-05-18T20:40:23.534Z"
   },
   {
    "duration": 0,
    "start_time": "2023-05-18T20:40:23.535Z"
   },
   {
    "duration": 0,
    "start_time": "2023-05-18T20:40:23.537Z"
   },
   {
    "duration": 0,
    "start_time": "2023-05-18T20:40:23.686Z"
   },
   {
    "duration": 0,
    "start_time": "2023-05-18T20:40:23.689Z"
   },
   {
    "duration": 17,
    "start_time": "2023-05-18T20:40:41.104Z"
   },
   {
    "duration": 15,
    "start_time": "2023-05-18T20:40:44.197Z"
   },
   {
    "duration": 21,
    "start_time": "2023-05-18T20:41:37.997Z"
   },
   {
    "duration": 15,
    "start_time": "2023-05-18T20:41:44.307Z"
   },
   {
    "duration": 5,
    "start_time": "2023-05-18T20:42:38.495Z"
   },
   {
    "duration": 5,
    "start_time": "2023-05-18T20:42:59.188Z"
   },
   {
    "duration": 36,
    "start_time": "2023-05-18T20:43:10.203Z"
   },
   {
    "duration": 19,
    "start_time": "2023-05-18T20:43:15.444Z"
   },
   {
    "duration": 16,
    "start_time": "2023-05-18T20:44:12.941Z"
   },
   {
    "duration": 30,
    "start_time": "2023-05-18T20:44:21.212Z"
   },
   {
    "duration": 6,
    "start_time": "2023-05-18T20:44:38.805Z"
   },
   {
    "duration": 7,
    "start_time": "2023-05-18T20:44:53.906Z"
   },
   {
    "duration": 6,
    "start_time": "2023-05-18T20:48:47.702Z"
   },
   {
    "duration": 28,
    "start_time": "2023-05-18T20:48:48.405Z"
   },
   {
    "duration": 26,
    "start_time": "2023-05-18T20:48:59.208Z"
   },
   {
    "duration": 4,
    "start_time": "2023-05-18T20:49:09.752Z"
   },
   {
    "duration": 50,
    "start_time": "2023-05-18T20:49:09.759Z"
   },
   {
    "duration": 71,
    "start_time": "2023-05-18T20:49:09.812Z"
   },
   {
    "duration": 17,
    "start_time": "2023-05-18T20:49:09.890Z"
   },
   {
    "duration": 22,
    "start_time": "2023-05-18T20:49:09.911Z"
   },
   {
    "duration": 16,
    "start_time": "2023-05-18T20:49:09.936Z"
   },
   {
    "duration": 932,
    "start_time": "2023-05-18T20:49:09.954Z"
   },
   {
    "duration": 148,
    "start_time": "2023-05-18T20:49:10.888Z"
   },
   {
    "duration": 4,
    "start_time": "2023-05-18T20:49:11.038Z"
   },
   {
    "duration": 11,
    "start_time": "2023-05-18T20:49:11.045Z"
   },
   {
    "duration": 40,
    "start_time": "2023-05-18T20:49:11.070Z"
   },
   {
    "duration": 15,
    "start_time": "2023-05-18T20:49:11.113Z"
   },
   {
    "duration": 12,
    "start_time": "2023-05-18T20:49:11.131Z"
   },
   {
    "duration": 81,
    "start_time": "2023-05-18T20:49:11.147Z"
   },
   {
    "duration": 8,
    "start_time": "2023-05-18T20:49:11.231Z"
   },
   {
    "duration": 3419,
    "start_time": "2023-05-18T20:49:11.241Z"
   },
   {
    "duration": 16,
    "start_time": "2023-05-18T20:49:14.663Z"
   },
   {
    "duration": 21118,
    "start_time": "2023-05-18T20:49:14.683Z"
   },
   {
    "duration": 6,
    "start_time": "2023-05-18T20:49:35.805Z"
   },
   {
    "duration": 894,
    "start_time": "2023-05-18T20:49:41.743Z"
   },
   {
    "duration": 11,
    "start_time": "2023-05-18T20:50:22.491Z"
   },
   {
    "duration": 574,
    "start_time": "2023-05-18T20:50:23.491Z"
   },
   {
    "duration": 8,
    "start_time": "2023-05-18T20:52:07.397Z"
   },
   {
    "duration": 3224,
    "start_time": "2023-05-18T20:52:07.407Z"
   },
   {
    "duration": 5,
    "start_time": "2023-05-18T20:52:49.448Z"
   },
   {
    "duration": 1533,
    "start_time": "2023-05-18T20:52:49.701Z"
   },
   {
    "duration": 51,
    "start_time": "2023-05-18T20:53:05.596Z"
   },
   {
    "duration": 7,
    "start_time": "2023-05-18T20:53:11.006Z"
   },
   {
    "duration": 292,
    "start_time": "2023-05-18T20:53:11.250Z"
   },
   {
    "duration": 94,
    "start_time": "2023-05-18T20:58:45.034Z"
   },
   {
    "duration": 11,
    "start_time": "2023-05-18T20:58:54.597Z"
   },
   {
    "duration": 21,
    "start_time": "2023-05-18T20:58:58.148Z"
   },
   {
    "duration": 6,
    "start_time": "2023-05-18T20:59:19.109Z"
   },
   {
    "duration": 19,
    "start_time": "2023-05-18T20:59:19.618Z"
   },
   {
    "duration": 6,
    "start_time": "2023-05-18T20:59:52.319Z"
   },
   {
    "duration": 14,
    "start_time": "2023-05-18T20:59:52.910Z"
   },
   {
    "duration": 6,
    "start_time": "2023-05-18T21:02:14.820Z"
   },
   {
    "duration": 18,
    "start_time": "2023-05-18T21:02:15.197Z"
   },
   {
    "duration": 10,
    "start_time": "2023-05-18T21:02:46.694Z"
   },
   {
    "duration": 31,
    "start_time": "2023-05-18T21:02:47.238Z"
   },
   {
    "duration": 99,
    "start_time": "2023-05-18T21:07:56.734Z"
   },
   {
    "duration": 18,
    "start_time": "2023-05-18T21:08:21.485Z"
   },
   {
    "duration": 33,
    "start_time": "2023-05-18T21:08:22.238Z"
   },
   {
    "duration": 8,
    "start_time": "2023-05-18T21:08:26.914Z"
   },
   {
    "duration": 22822,
    "start_time": "2023-05-18T21:08:27.118Z"
   },
   {
    "duration": 116,
    "start_time": "2023-05-18T21:09:41.740Z"
   },
   {
    "duration": 23370,
    "start_time": "2023-05-18T21:09:42.139Z"
   },
   {
    "duration": 6,
    "start_time": "2023-05-18T21:10:19.441Z"
   },
   {
    "duration": 3527,
    "start_time": "2023-05-18T21:10:19.721Z"
   },
   {
    "duration": 6,
    "start_time": "2023-05-18T21:10:47.837Z"
   },
   {
    "duration": 3167,
    "start_time": "2023-05-18T21:10:48.392Z"
   },
   {
    "duration": 89,
    "start_time": "2023-05-18T21:14:55.122Z"
   },
   {
    "duration": 125,
    "start_time": "2023-05-18T21:15:05.017Z"
   },
   {
    "duration": 6,
    "start_time": "2023-05-18T21:15:13.850Z"
   },
   {
    "duration": 29726,
    "start_time": "2023-05-18T21:15:15.096Z"
   },
   {
    "duration": 6,
    "start_time": "2023-05-18T21:16:20.805Z"
   },
   {
    "duration": 10,
    "start_time": "2023-05-18T21:16:50.473Z"
   },
   {
    "duration": 32097,
    "start_time": "2023-05-18T21:16:50.487Z"
   },
   {
    "duration": 21,
    "start_time": "2023-05-18T21:18:16.098Z"
   },
   {
    "duration": 35,
    "start_time": "2023-05-18T21:18:16.601Z"
   },
   {
    "duration": 10,
    "start_time": "2023-05-18T21:19:14.067Z"
   },
   {
    "duration": 32521,
    "start_time": "2023-05-18T21:19:14.498Z"
   },
   {
    "duration": 8,
    "start_time": "2023-05-18T21:20:13.017Z"
   },
   {
    "duration": 0,
    "start_time": "2023-05-18T21:20:48.033Z"
   },
   {
    "duration": 0,
    "start_time": "2023-05-18T21:20:48.035Z"
   },
   {
    "duration": 5,
    "start_time": "2023-05-18T21:21:05.342Z"
   },
   {
    "duration": 35092,
    "start_time": "2023-05-18T21:21:05.790Z"
   },
   {
    "duration": 10,
    "start_time": "2023-05-18T21:22:19.224Z"
   },
   {
    "duration": 9719,
    "start_time": "2023-05-18T21:22:20.804Z"
   },
   {
    "duration": 7,
    "start_time": "2023-05-18T21:22:43.438Z"
   },
   {
    "duration": 10387,
    "start_time": "2023-05-18T21:22:43.640Z"
   },
   {
    "duration": 10,
    "start_time": "2023-05-18T21:23:09.890Z"
   },
   {
    "duration": 10010,
    "start_time": "2023-05-18T21:23:10.209Z"
   },
   {
    "duration": 22,
    "start_time": "2023-05-18T21:23:32.398Z"
   },
   {
    "duration": 9274,
    "start_time": "2023-05-18T21:23:32.813Z"
   },
   {
    "duration": 1195,
    "start_time": "2023-06-10T23:01:34.868Z"
   },
   {
    "duration": 4,
    "start_time": "2023-06-10T23:01:36.066Z"
   },
   {
    "duration": 149,
    "start_time": "2023-06-10T23:01:36.072Z"
   },
   {
    "duration": 22,
    "start_time": "2023-06-10T23:01:36.223Z"
   },
   {
    "duration": 31,
    "start_time": "2023-06-10T23:01:36.247Z"
   },
   {
    "duration": 17,
    "start_time": "2023-06-10T23:01:36.280Z"
   },
   {
    "duration": 1243,
    "start_time": "2023-06-10T23:01:36.299Z"
   },
   {
    "duration": 151,
    "start_time": "2023-06-10T23:01:37.544Z"
   },
   {
    "duration": 4,
    "start_time": "2023-06-10T23:01:37.697Z"
   },
   {
    "duration": 19,
    "start_time": "2023-06-10T23:01:37.703Z"
   },
   {
    "duration": 28,
    "start_time": "2023-06-10T23:01:37.724Z"
   },
   {
    "duration": 11,
    "start_time": "2023-06-10T23:01:37.754Z"
   },
   {
    "duration": 12,
    "start_time": "2023-06-10T23:01:37.768Z"
   },
   {
    "duration": 191,
    "start_time": "2023-06-10T23:01:37.784Z"
   },
   {
    "duration": 4,
    "start_time": "2023-06-10T23:01:37.978Z"
   },
   {
    "duration": 2581,
    "start_time": "2023-06-10T23:01:37.984Z"
   },
   {
    "duration": 5,
    "start_time": "2023-06-10T23:01:40.566Z"
   },
   {
    "duration": 15075,
    "start_time": "2023-06-10T23:01:40.572Z"
   },
   {
    "duration": 7,
    "start_time": "2023-06-10T23:01:55.649Z"
   },
   {
    "duration": 51660,
    "start_time": "2023-06-10T23:01:55.658Z"
   },
   {
    "duration": 29,
    "start_time": "2023-06-10T23:02:47.321Z"
   }
  ],
  "kernelspec": {
   "display_name": "Python 3 (ipykernel)",
   "language": "python",
   "name": "python3"
  },
  "language_info": {
   "codemirror_mode": {
    "name": "ipython",
    "version": 3
   },
   "file_extension": ".py",
   "mimetype": "text/x-python",
   "name": "python",
   "nbconvert_exporter": "python",
   "pygments_lexer": "ipython3",
   "version": "3.9.5"
  },
  "toc": {
   "base_numbering": 1,
   "nav_menu": {},
   "number_sections": true,
   "sideBar": true,
   "skip_h1_title": true,
   "title_cell": "Table of Contents",
   "title_sidebar": "Contents",
   "toc_cell": false,
   "toc_position": {},
   "toc_section_display": true,
   "toc_window_display": false
  }
 },
 "nbformat": 4,
 "nbformat_minor": 2
}
